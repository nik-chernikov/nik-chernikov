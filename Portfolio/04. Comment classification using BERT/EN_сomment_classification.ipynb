{
 "cells": [
  {
   "cell_type": "markdown",
   "id": "fc8d18bf-b0d1-4188-ae3e-e5165f3e8c0a",
   "metadata": {},
   "source": "# Comment Classification with BERT"
  },
  {
   "cell_type": "markdown",
   "id": "f72fe711-0f10-4380-8640-6b4a3bc4567b",
   "metadata": {},
   "source": [
    "The Wikishop online store is launching a new service. Now, users can edit and supplement product descriptions, similar to wiki communities. That is, customers offer their edits and comment on others' changes. The store needs a tool that will search for toxic comments and send them for moderation.\n",
    "\n",
    "Train a model to classify comments as either positive or negative. You have a dataset with edit toxicity markup.\n",
    "\n",
    "Build a model with an F1 quality metric value of at least 0.75."
   ]
  },
  {
   "cell_type": "markdown",
   "id": "5c1d43e5-6506-483f-bd99-9a36540bc3a6",
   "metadata": {},
   "source": "## Preparation"
  },
  {
   "cell_type": "code",
   "execution_count": 1,
   "id": "ccfbdb2c-4b71-4bd1-aec7-eb8a28d8d808",
   "metadata": {},
   "outputs": [],
   "source": [
    "import torch\n",
    "import transformers\n",
    "\n",
    "import numpy as np\n",
    "import pandas as pd\n",
    "import matplotlib.pyplot as plt\n",
    "import lightgbm as lgb\n",
    "\n",
    "from tqdm.notebook import tqdm\n",
    "from sklearn.metrics import f1_score\n",
    "from sklearn.linear_model import LogisticRegression\n",
    "from sklearn.ensemble import RandomForestClassifier\n",
    "from sklearn.model_selection import train_test_split, cross_val_score, GridSearchCV"
   ]
  },
  {
   "cell_type": "markdown",
   "id": "01d1ac26-ba17-4a2b-b5b8-57071d1335ff",
   "metadata": {},
   "source": "## Data overview"
  },
  {
   "cell_type": "code",
   "execution_count": 2,
   "id": "f3168b4f-7241-4cdd-9865-9a3c1c871251",
   "metadata": {},
   "outputs": [],
   "source": [
    "df = pd.read_csv('toxic_comments.csv')"
   ]
  },
  {
   "cell_type": "code",
   "execution_count": 3,
   "id": "2c2c2137-a10c-4b39-8b97-c52db0c1ef03",
   "metadata": {},
   "outputs": [
    {
     "data": {
      "text/html": [
       "<div>\n",
       "<style scoped>\n",
       "    .dataframe tbody tr th:only-of-type {\n",
       "        vertical-align: middle;\n",
       "    }\n",
       "\n",
       "    .dataframe tbody tr th {\n",
       "        vertical-align: top;\n",
       "    }\n",
       "\n",
       "    .dataframe thead th {\n",
       "        text-align: right;\n",
       "    }\n",
       "</style>\n",
       "<table border=\"1\" class=\"dataframe\">\n",
       "  <thead>\n",
       "    <tr style=\"text-align: right;\">\n",
       "      <th></th>\n",
       "      <th>Unnamed: 0</th>\n",
       "      <th>text</th>\n",
       "      <th>toxic</th>\n",
       "    </tr>\n",
       "  </thead>\n",
       "  <tbody>\n",
       "    <tr>\n",
       "      <th>0</th>\n",
       "      <td>0</td>\n",
       "      <td>Explanation\\nWhy the edits made under my usern...</td>\n",
       "      <td>0</td>\n",
       "    </tr>\n",
       "    <tr>\n",
       "      <th>1</th>\n",
       "      <td>1</td>\n",
       "      <td>D'aww! He matches this background colour I'm s...</td>\n",
       "      <td>0</td>\n",
       "    </tr>\n",
       "    <tr>\n",
       "      <th>2</th>\n",
       "      <td>2</td>\n",
       "      <td>Hey man, I'm really not trying to edit war. It...</td>\n",
       "      <td>0</td>\n",
       "    </tr>\n",
       "    <tr>\n",
       "      <th>3</th>\n",
       "      <td>3</td>\n",
       "      <td>\"\\nMore\\nI can't make any real suggestions on ...</td>\n",
       "      <td>0</td>\n",
       "    </tr>\n",
       "    <tr>\n",
       "      <th>4</th>\n",
       "      <td>4</td>\n",
       "      <td>You, sir, are my hero. Any chance you remember...</td>\n",
       "      <td>0</td>\n",
       "    </tr>\n",
       "  </tbody>\n",
       "</table>\n",
       "</div>"
      ],
      "text/plain": [
       "   Unnamed: 0                                               text  toxic\n",
       "0           0  Explanation\\nWhy the edits made under my usern...      0\n",
       "1           1  D'aww! He matches this background colour I'm s...      0\n",
       "2           2  Hey man, I'm really not trying to edit war. It...      0\n",
       "3           3  \"\\nMore\\nI can't make any real suggestions on ...      0\n",
       "4           4  You, sir, are my hero. Any chance you remember...      0"
      ]
     },
     "execution_count": 3,
     "metadata": {},
     "output_type": "execute_result"
    }
   ],
   "source": [
    "df.head()"
   ]
  },
  {
   "cell_type": "code",
   "execution_count": 4,
   "id": "a2bc7ccb-1dc9-4d10-9d1c-b4af8d23a6e3",
   "metadata": {},
   "outputs": [
    {
     "data": {
      "text/html": [
       "<div>\n",
       "<style scoped>\n",
       "    .dataframe tbody tr th:only-of-type {\n",
       "        vertical-align: middle;\n",
       "    }\n",
       "\n",
       "    .dataframe tbody tr th {\n",
       "        vertical-align: top;\n",
       "    }\n",
       "\n",
       "    .dataframe thead th {\n",
       "        text-align: right;\n",
       "    }\n",
       "</style>\n",
       "<table border=\"1\" class=\"dataframe\">\n",
       "  <thead>\n",
       "    <tr style=\"text-align: right;\">\n",
       "      <th></th>\n",
       "      <th>Unnamed: 0</th>\n",
       "      <th>text</th>\n",
       "      <th>toxic</th>\n",
       "    </tr>\n",
       "  </thead>\n",
       "  <tbody>\n",
       "    <tr>\n",
       "      <th>159287</th>\n",
       "      <td>159446</td>\n",
       "      <td>\":::::And for the second time of asking, when ...</td>\n",
       "      <td>0</td>\n",
       "    </tr>\n",
       "    <tr>\n",
       "      <th>159288</th>\n",
       "      <td>159447</td>\n",
       "      <td>You should be ashamed of yourself \\n\\nThat is ...</td>\n",
       "      <td>0</td>\n",
       "    </tr>\n",
       "    <tr>\n",
       "      <th>159289</th>\n",
       "      <td>159448</td>\n",
       "      <td>Spitzer \\n\\nUmm, theres no actual article for ...</td>\n",
       "      <td>0</td>\n",
       "    </tr>\n",
       "    <tr>\n",
       "      <th>159290</th>\n",
       "      <td>159449</td>\n",
       "      <td>And it looks like it was actually you who put ...</td>\n",
       "      <td>0</td>\n",
       "    </tr>\n",
       "    <tr>\n",
       "      <th>159291</th>\n",
       "      <td>159450</td>\n",
       "      <td>\"\\nAnd ... I really don't think you understand...</td>\n",
       "      <td>0</td>\n",
       "    </tr>\n",
       "  </tbody>\n",
       "</table>\n",
       "</div>"
      ],
      "text/plain": [
       "        Unnamed: 0                                               text  toxic\n",
       "159287      159446  \":::::And for the second time of asking, when ...      0\n",
       "159288      159447  You should be ashamed of yourself \\n\\nThat is ...      0\n",
       "159289      159448  Spitzer \\n\\nUmm, theres no actual article for ...      0\n",
       "159290      159449  And it looks like it was actually you who put ...      0\n",
       "159291      159450  \"\\nAnd ... I really don't think you understand...      0"
      ]
     },
     "execution_count": 4,
     "metadata": {},
     "output_type": "execute_result"
    }
   ],
   "source": [
    "df.tail()"
   ]
  },
  {
   "cell_type": "code",
   "execution_count": 5,
   "id": "d8903b40-e71a-481a-9e79-be1bd08cbd49",
   "metadata": {},
   "outputs": [
    {
     "name": "stdout",
     "output_type": "stream",
     "text": [
      "<class 'pandas.core.frame.DataFrame'>\n",
      "RangeIndex: 159292 entries, 0 to 159291\n",
      "Data columns (total 3 columns):\n",
      " #   Column      Non-Null Count   Dtype \n",
      "---  ------      --------------   ----- \n",
      " 0   Unnamed: 0  159292 non-null  int64 \n",
      " 1   text        159292 non-null  object\n",
      " 2   toxic       159292 non-null  int64 \n",
      "dtypes: int64(2), object(1)\n",
      "memory usage: 3.6+ MB\n"
     ]
    }
   ],
   "source": [
    "df.info()"
   ]
  },
  {
   "cell_type": "markdown",
   "id": "ce70defa-9c88-4a3c-b6d4-47e66693a60e",
   "metadata": {},
   "source": [
    "We have a dataset of 159292 rows. The dataset contains the following features:\n",
    "\n",
    "* `Unnamed: 0` - old index, let's get rid of it right away\n",
    "* `text` - tweet text\n",
    "* `toxic` - tweet toxicity, target feature. Contains values 0 and 1"
   ]
  },
  {
   "cell_type": "markdown",
   "id": "d769d961-4fa3-4194-8223-8446fe186e1e",
   "metadata": {},
   "source": "## Data preprocessing"
  },
  {
   "cell_type": "markdown",
   "id": "c0a748eb-9445-43e7-a33f-7dcc849a5665",
   "metadata": {},
   "source": "### Removing the old index"
  },
  {
   "cell_type": "code",
   "execution_count": 6,
   "id": "7357350e-8cff-45a2-93e4-4c6f20bfcaa4",
   "metadata": {},
   "outputs": [
    {
     "data": {
      "text/plain": [
       "Index(['Unnamed: 0', 'text', 'toxic'], dtype='object')"
      ]
     },
     "execution_count": 6,
     "metadata": {},
     "output_type": "execute_result"
    }
   ],
   "source": [
    "df.columns"
   ]
  },
  {
   "cell_type": "code",
   "execution_count": 7,
   "id": "54b07ef7-0d16-48d1-a497-d9c319320e48",
   "metadata": {},
   "outputs": [],
   "source": [
    "df = df.drop('Unnamed: 0', axis=1)"
   ]
  },
  {
   "cell_type": "code",
   "execution_count": 8,
   "id": "627df4bb-31c2-42fe-8cc8-ada79115a5c2",
   "metadata": {},
   "outputs": [
    {
     "data": {
      "text/html": [
       "<div>\n",
       "<style scoped>\n",
       "    .dataframe tbody tr th:only-of-type {\n",
       "        vertical-align: middle;\n",
       "    }\n",
       "\n",
       "    .dataframe tbody tr th {\n",
       "        vertical-align: top;\n",
       "    }\n",
       "\n",
       "    .dataframe thead th {\n",
       "        text-align: right;\n",
       "    }\n",
       "</style>\n",
       "<table border=\"1\" class=\"dataframe\">\n",
       "  <thead>\n",
       "    <tr style=\"text-align: right;\">\n",
       "      <th></th>\n",
       "      <th>text</th>\n",
       "      <th>toxic</th>\n",
       "    </tr>\n",
       "  </thead>\n",
       "  <tbody>\n",
       "    <tr>\n",
       "      <th>0</th>\n",
       "      <td>Explanation\\nWhy the edits made under my usern...</td>\n",
       "      <td>0</td>\n",
       "    </tr>\n",
       "    <tr>\n",
       "      <th>1</th>\n",
       "      <td>D'aww! He matches this background colour I'm s...</td>\n",
       "      <td>0</td>\n",
       "    </tr>\n",
       "    <tr>\n",
       "      <th>2</th>\n",
       "      <td>Hey man, I'm really not trying to edit war. It...</td>\n",
       "      <td>0</td>\n",
       "    </tr>\n",
       "    <tr>\n",
       "      <th>3</th>\n",
       "      <td>\"\\nMore\\nI can't make any real suggestions on ...</td>\n",
       "      <td>0</td>\n",
       "    </tr>\n",
       "    <tr>\n",
       "      <th>4</th>\n",
       "      <td>You, sir, are my hero. Any chance you remember...</td>\n",
       "      <td>0</td>\n",
       "    </tr>\n",
       "  </tbody>\n",
       "</table>\n",
       "</div>"
      ],
      "text/plain": [
       "                                                text  toxic\n",
       "0  Explanation\\nWhy the edits made under my usern...      0\n",
       "1  D'aww! He matches this background colour I'm s...      0\n",
       "2  Hey man, I'm really not trying to edit war. It...      0\n",
       "3  \"\\nMore\\nI can't make any real suggestions on ...      0\n",
       "4  You, sir, are my hero. Any chance you remember...      0"
      ]
     },
     "execution_count": 8,
     "metadata": {},
     "output_type": "execute_result"
    }
   ],
   "source": [
    "df.head()"
   ]
  },
  {
   "cell_type": "markdown",
   "id": "2db8be88-833e-40f7-b785-c358f7d12c25",
   "metadata": {},
   "source": "### Checking values in the target feature"
  },
  {
   "cell_type": "code",
   "execution_count": 9,
   "id": "d3758e4c-5388-432b-8dcf-7b8d40f094ad",
   "metadata": {},
   "outputs": [
    {
     "data": {
      "text/plain": [
       "array([0, 1], dtype=int64)"
      ]
     },
     "execution_count": 9,
     "metadata": {},
     "output_type": "execute_result"
    }
   ],
   "source": [
    "df['toxic'].unique()"
   ]
  },
  {
   "cell_type": "code",
   "execution_count": 10,
   "id": "892bc4a9-e03c-4183-b59c-a1b4c9cde065",
   "metadata": {},
   "outputs": [
    {
     "data": {
      "text/plain": [
       "toxic\n",
       "0    143106\n",
       "1     16186\n",
       "Name: count, dtype: int64"
      ]
     },
     "execution_count": 10,
     "metadata": {},
     "output_type": "execute_result"
    }
   ],
   "source": [
    "target_dist = df['toxic'].value_counts()\n",
    "target_dist"
   ]
  },
  {
   "cell_type": "code",
   "execution_count": 11,
   "id": "b93ae81d-8bc5-4014-82c1-7482bc45a196",
   "metadata": {},
   "outputs": [
    {
     "data": {
      "image/png": "[encoded data removed]",
      "text/plain": [
       "<Figure size 1200x600 with 1 Axes>"
      ]
     },
     "metadata": {},
     "output_type": "display_data"
    }
   ],
   "source": [
    "# plot a bar chart to visualize the distribution of toxic comments in the dataset\n",
    "x = list(target_dist.index)\n",
    "y = target_dist.array\n",
    "\n",
    "plt.figure(figsize=(12,6))\n",
    "plt.title('Toxic comments distribution')\n",
    "plt.grid(visible=True)\n",
    "plt.xticks(x)\n",
    "plt.bar(x, y)\n",
    "plt.show()"
   ]
  },
  {
   "cell_type": "markdown",
   "id": "9a318138-bb3c-456e-8843-e6d6a7bb5db8",
   "metadata": {},
   "source": "In our dataset, the proportion of toxic comments is only about 10%. The dataset is heavily biased towards non-toxic comments."
  },
  {
   "cell_type": "markdown",
   "id": "ddfa82c9-64fa-4d91-9a3f-fd71e6d54452",
   "metadata": {},
   "source": "### Preparing a sample"
  },
  {
   "cell_type": "markdown",
   "id": "5b530c8b-8230-4d70-81df-bca24ba84585",
   "metadata": {},
   "source": "We use only part of the dataset, because creating embeddings and training models on the full dataset can take a lot of time."
  },
  {
   "cell_type": "code",
   "execution_count": 12,
   "id": "69224199-0080-41c6-9cb6-6ebf0e16947a",
   "metadata": {},
   "outputs": [],
   "source": [
    "df_sample = df.sample(2000, random_state=42).reset_index(drop=True)"
   ]
  },
  {
   "cell_type": "code",
   "execution_count": 13,
   "id": "af3cc6e4-7dcf-46e7-bd5a-1737f6a6a3db",
   "metadata": {},
   "outputs": [
    {
     "data": {
      "text/html": [
       "<div>\n",
       "<style scoped>\n",
       "    .dataframe tbody tr th:only-of-type {\n",
       "        vertical-align: middle;\n",
       "    }\n",
       "\n",
       "    .dataframe tbody tr th {\n",
       "        vertical-align: top;\n",
       "    }\n",
       "\n",
       "    .dataframe thead th {\n",
       "        text-align: right;\n",
       "    }\n",
       "</style>\n",
       "<table border=\"1\" class=\"dataframe\">\n",
       "  <thead>\n",
       "    <tr style=\"text-align: right;\">\n",
       "      <th></th>\n",
       "      <th>text</th>\n",
       "      <th>toxic</th>\n",
       "    </tr>\n",
       "  </thead>\n",
       "  <tbody>\n",
       "    <tr>\n",
       "      <th>0</th>\n",
       "      <td>Sometime back, I just happened to log on to ww...</td>\n",
       "      <td>0</td>\n",
       "    </tr>\n",
       "    <tr>\n",
       "      <th>1</th>\n",
       "      <td>\"\\n\\nThe latest edit is much better, don't mak...</td>\n",
       "      <td>0</td>\n",
       "    </tr>\n",
       "    <tr>\n",
       "      <th>2</th>\n",
       "      <td>\" October 2007 (UTC)\\n\\nI would think you'd be...</td>\n",
       "      <td>0</td>\n",
       "    </tr>\n",
       "    <tr>\n",
       "      <th>3</th>\n",
       "      <td>Thanks for the tip on the currency translation...</td>\n",
       "      <td>0</td>\n",
       "    </tr>\n",
       "    <tr>\n",
       "      <th>4</th>\n",
       "      <td>I would argue that if content on the Con in co...</td>\n",
       "      <td>0</td>\n",
       "    </tr>\n",
       "    <tr>\n",
       "      <th>...</th>\n",
       "      <td>...</td>\n",
       "      <td>...</td>\n",
       "    </tr>\n",
       "    <tr>\n",
       "      <th>1995</th>\n",
       "      <td>Welcome!\\n\\nHello, and welcome to Wikipedia.  ...</td>\n",
       "      <td>0</td>\n",
       "    </tr>\n",
       "    <tr>\n",
       "      <th>1996</th>\n",
       "      <td>Note that the user zzzzz has removed lots of a...</td>\n",
       "      <td>0</td>\n",
       "    </tr>\n",
       "    <tr>\n",
       "      <th>1997</th>\n",
       "      <td>If you seriously believe there are more episod...</td>\n",
       "      <td>0</td>\n",
       "    </tr>\n",
       "    <tr>\n",
       "      <th>1998</th>\n",
       "      <td>Stanley Cup Playoffs\\n\\nThe East Conference is...</td>\n",
       "      <td>0</td>\n",
       "    </tr>\n",
       "    <tr>\n",
       "      <th>1999</th>\n",
       "      <td>You're quite right! There can be enclisis with...</td>\n",
       "      <td>0</td>\n",
       "    </tr>\n",
       "  </tbody>\n",
       "</table>\n",
       "<p>2000 rows × 2 columns</p>\n",
       "</div>"
      ],
      "text/plain": [
       "                                                   text  toxic\n",
       "0     Sometime back, I just happened to log on to ww...      0\n",
       "1     \"\\n\\nThe latest edit is much better, don't mak...      0\n",
       "2     \" October 2007 (UTC)\\n\\nI would think you'd be...      0\n",
       "3     Thanks for the tip on the currency translation...      0\n",
       "4     I would argue that if content on the Con in co...      0\n",
       "...                                                 ...    ...\n",
       "1995  Welcome!\\n\\nHello, and welcome to Wikipedia.  ...      0\n",
       "1996  Note that the user zzzzz has removed lots of a...      0\n",
       "1997  If you seriously believe there are more episod...      0\n",
       "1998  Stanley Cup Playoffs\\n\\nThe East Conference is...      0\n",
       "1999  You're quite right! There can be enclisis with...      0\n",
       "\n",
       "[2000 rows x 2 columns]"
      ]
     },
     "execution_count": 13,
     "metadata": {},
     "output_type": "execute_result"
    }
   ],
   "source": [
    "df_sample"
   ]
  },
  {
   "cell_type": "code",
   "execution_count": 14,
   "id": "4772761b-d681-49e9-bfff-a0a808ff7efd",
   "metadata": {},
   "outputs": [
    {
     "data": {
      "text/plain": [
       "toxic\n",
       "0    1786\n",
       "1     214\n",
       "Name: count, dtype: int64"
      ]
     },
     "execution_count": 14,
     "metadata": {},
     "output_type": "execute_result"
    }
   ],
   "source": [
    "# Check the distribution of the target feature\n",
    "df_sample['toxic'].value_counts()"
   ]
  },
  {
   "cell_type": "markdown",
   "id": "e74d0d3a-512c-4afa-8c72-ae6dad352a6b",
   "metadata": {},
   "source": "## Data preparation"
  },
  {
   "cell_type": "markdown",
   "id": "69d4c4d1-7b26-448f-a9ec-ca5a60e58920",
   "metadata": {},
   "source": [
    "The unitary/toxic-bert model is used to create embeddings\n",
    "\n",
    "Model link: https://huggingface.co/unitary/toxic-bert"
   ]
  },
  {
   "cell_type": "markdown",
   "id": "b56376b6-535b-4d11-a377-04e3f69d80a7",
   "metadata": {},
   "source": "### Tokenization"
  },
  {
   "cell_type": "markdown",
   "id": "e04b5d33-f334-4187-9989-8b4d16ad14d2",
   "metadata": {},
   "source": "Tokenize the text. We will limit the text length to 512 tokens, as this is the maximum for the model. Add indents and prepare attention_mask."
  },
  {
   "cell_type": "code",
   "execution_count": 15,
   "id": "03fe65f0-a46b-4373-aee9-7941582b3888",
   "metadata": {},
   "outputs": [],
   "source": [
    "tokenizer = transformers.BertTokenizerFast.from_pretrained('unitary/toxic-bert')\n",
    "\n",
    "tokenized = df_sample['text'].apply(lambda x: tokenizer.encode(x, add_special_tokens=True, max_length=512, padding='max_length', truncation=True))"
   ]
  },
  {
   "cell_type": "code",
   "execution_count": 16,
   "id": "45c24387-38f2-4710-b590-2c319842f9d2",
   "metadata": {},
   "outputs": [],
   "source": [
    "prepared = np.array([i for i in tokenized.values])"
   ]
  },
  {
   "cell_type": "code",
   "execution_count": 17,
   "id": "73d4257d-d854-4edd-9000-62e8752c38c6",
   "metadata": {},
   "outputs": [
    {
     "data": {
      "text/plain": [
       "array([[ 101, 8811, 2067, ...,    0,    0,    0],\n",
       "       [ 101, 1000, 1996, ...,    0,    0,    0],\n",
       "       [ 101, 1000, 2255, ...,    0,    0,    0],\n",
       "       ...,\n",
       "       [ 101, 2065, 2017, ...,    0,    0,    0],\n",
       "       [ 101, 6156, 2452, ...,    0,    0,    0],\n",
       "       [ 101, 2017, 1005, ...,    0,    0,    0]])"
      ]
     },
     "execution_count": 17,
     "metadata": {},
     "output_type": "execute_result"
    }
   ],
   "source": [
    "prepared"
   ]
  },
  {
   "cell_type": "code",
   "execution_count": 18,
   "id": "a6c43fba-61da-4311-9e56-bf678ce0a990",
   "metadata": {},
   "outputs": [
    {
     "data": {
      "text/plain": [
       "(2000, 512)"
      ]
     },
     "execution_count": 18,
     "metadata": {},
     "output_type": "execute_result"
    }
   ],
   "source": [
    "prepared.shape"
   ]
  },
  {
   "cell_type": "code",
   "execution_count": 19,
   "id": "23f3610d-8184-46e2-b111-3e1bb60197a8",
   "metadata": {},
   "outputs": [],
   "source": [
    "attention_mask = np.where(prepared != 0, 1, 0)"
   ]
  },
  {
   "cell_type": "code",
   "execution_count": 20,
   "id": "0bf6c4bc-ba7c-46c2-98fa-901cf458b309",
   "metadata": {},
   "outputs": [
    {
     "data": {
      "text/plain": [
       "array([[1, 1, 1, ..., 0, 0, 0],\n",
       "       [1, 1, 1, ..., 0, 0, 0],\n",
       "       [1, 1, 1, ..., 0, 0, 0],\n",
       "       ...,\n",
       "       [1, 1, 1, ..., 0, 0, 0],\n",
       "       [1, 1, 1, ..., 0, 0, 0],\n",
       "       [1, 1, 1, ..., 0, 0, 0]])"
      ]
     },
     "execution_count": 20,
     "metadata": {},
     "output_type": "execute_result"
    }
   ],
   "source": [
    "attention_mask"
   ]
  },
  {
   "cell_type": "markdown",
   "id": "5276ac53-99d7-41a8-bffd-ac80c1536d49",
   "metadata": {},
   "source": "### Converting tokens to embeddings"
  },
  {
   "cell_type": "code",
   "execution_count": 21,
   "id": "0712c277-85a8-48b9-b5ab-d29c8c13fe71",
   "metadata": {
    "scrolled": true
   },
   "outputs": [],
   "source": [
    "embed_model = transformers.BertModel.from_pretrained('unitary/toxic-bert')\n",
    "\n",
    "device = torch.device('cuda' if torch.cuda.is_available() else 'cpu')    \n",
    "embed_model.to(device);"
   ]
  },
  {
   "cell_type": "code",
   "execution_count": 22,
   "id": "3d446418-a186-410f-82e2-8731c2b25193",
   "metadata": {},
   "outputs": [],
   "source": [
    "def embed(model, tokenized_data, attention_mask, batch_size):\n",
    "    embeddings = []\n",
    "    for i in tqdm(range(tokenized_data.shape[0] // batch_size)):\n",
    "        batch = torch.LongTensor(tokenized_data[batch_size*i:batch_size*(i+1)])\n",
    "        attention_mask_batch = torch.LongTensor(attention_mask[batch_size*i:batch_size*(i+1)])\n",
    "\n",
    "        batch = batch.to('cuda')\n",
    "        attention_mask_batch = attention_mask_batch.to('cuda')\n",
    "        \n",
    "        with torch.no_grad():\n",
    "            batch_embeddings = model(batch, attention_mask=attention_mask_batch)\n",
    "        \n",
    "        embeddings.append(batch_embeddings[0][:,0,:].cpu().numpy())\n",
    "\n",
    "    return embeddings"
   ]
  },
  {
   "cell_type": "code",
   "execution_count": 23,
   "id": "1dbab217-89b6-4927-9994-ee04d927dec4",
   "metadata": {},
   "outputs": [
    {
     "data": {
      "application/vnd.jupyter.widget-view+json": {
       "model_id": "1941cb4ebed1498e988dee54d2304758",
       "version_major": 2,
       "version_minor": 0
      },
      "text/plain": [
       "  0%|          | 0/100 [00:00<?, ?it/s]"
      ]
     },
     "metadata": {},
     "output_type": "display_data"
    },
    {
     "name": "stderr",
     "output_type": "stream",
     "text": [
      "C:\\Users\\cake\\anaconda3\\Lib\\site-packages\\transformers\\models\\bert\\modeling_bert.py:439: UserWarning: 1Torch was not compiled with flash attention. (Triggered internally at C:\\cb\\pytorch_1000000000000\\work\\aten\\src\\ATen\\native\\transformers\\cuda\\sdp_utils.cpp:455.)\n",
      "  attn_output = torch.nn.functional.scaled_dot_product_attention(\n"
     ]
    }
   ],
   "source": [
    "batch_size = 20\n",
    "\n",
    "embeddings = embed(embed_model, prepared, attention_mask, batch_size)"
   ]
  },
  {
   "cell_type": "code",
   "execution_count": 24,
   "id": "ff4d3629-fdb1-4e7f-9ee8-b8addbd16541",
   "metadata": {
    "scrolled": true
   },
   "outputs": [
    {
     "data": {
      "text/plain": [
       "array([[-0.6170207 , -1.0142671 ,  0.8274097 , ..., -0.8287158 ,\n",
       "         0.5733    ,  0.03446032],\n",
       "       [-0.4693603 , -0.9448781 ,  0.7954195 , ..., -0.63105774,\n",
       "         0.5056714 ,  0.16782281],\n",
       "       [-0.6633926 , -0.9154767 ,  0.4726571 , ..., -0.6053768 ,\n",
       "         0.411482  ,  0.08555199],\n",
       "       ...,\n",
       "       [-0.5558503 , -0.9715062 ,  0.5546094 , ..., -0.75527006,\n",
       "         0.5228087 ,  0.05091452],\n",
       "       [-0.7262837 , -1.1527034 ,  0.7055753 , ..., -0.82303685,\n",
       "         0.3814967 ,  0.19090636],\n",
       "       [-0.7451651 , -0.91121304,  0.65300035, ..., -0.61018914,\n",
       "         0.40986693,  0.17400615]], dtype=float32)"
      ]
     },
     "execution_count": 24,
     "metadata": {},
     "output_type": "execute_result"
    }
   ],
   "source": [
    "features = np.concatenate(embeddings)\n",
    "features"
   ]
  },
  {
   "cell_type": "code",
   "execution_count": 25,
   "id": "3c3abbc2-66c7-4c9c-9e5d-2c673728b59c",
   "metadata": {},
   "outputs": [
    {
     "data": {
      "text/plain": [
       "(2000, 768)"
      ]
     },
     "execution_count": 25,
     "metadata": {},
     "output_type": "execute_result"
    }
   ],
   "source": [
    "features.shape"
   ]
  },
  {
   "cell_type": "markdown",
   "id": "d6d6a63a-20e0-42ed-9536-e8c8473689e2",
   "metadata": {},
   "source": "## Training models"
  },
  {
   "cell_type": "markdown",
   "id": "d41f26b4-10b8-43cd-ae45-63d71ab3d461",
   "metadata": {},
   "source": "### Preparing samples"
  },
  {
   "cell_type": "code",
   "execution_count": 26,
   "id": "8869c3a7-874a-4796-9280-4d75b205fac9",
   "metadata": {},
   "outputs": [],
   "source": [
    "X_train, X_test, y_train, y_test = train_test_split(features, df_sample['toxic'], test_size=0.3, random_state=42, stratify=df_sample['toxic'])"
   ]
  },
  {
   "cell_type": "markdown",
   "id": "294707cc-fa85-403d-8e3b-5ad8a15967c5",
   "metadata": {},
   "source": "### Function for GridSearchCV"
  },
  {
   "cell_type": "code",
   "execution_count": 27,
   "id": "3ff6d0c4-8bc3-4698-a31d-42a6e63a7b4e",
   "metadata": {},
   "outputs": [],
   "source": [
    "# Function to find the best model\n",
    "def best_model_search_cv(model, params, n_jobs=-1):\n",
    "    grid = GridSearchCV(model, params, cv=5, n_jobs=n_jobs, scoring='f1', verbose=4)\n",
    "    grid.fit(X_train, y_train)\n",
    "    return grid.best_estimator_, grid.best_score_, grid.best_params_"
   ]
  },
  {
   "cell_type": "markdown",
   "id": "c289c20c-721e-46dd-80f9-42c205b42940",
   "metadata": {},
   "source": "### Logistic Regression"
  },
  {
   "cell_type": "code",
   "execution_count": 28,
   "id": "7a655f22-7bdb-478d-a74e-65eaafad560d",
   "metadata": {
    "scrolled": true
   },
   "outputs": [
    {
     "name": "stdout",
     "output_type": "stream",
     "text": [
      "Fitting 5 folds for each of 1 candidates, totalling 5 fits\n"
     ]
    },
    {
     "data": {
      "text/plain": [
       "\"Best params: {'C': 100}\""
      ]
     },
     "metadata": {},
     "output_type": "display_data"
    },
    {
     "data": {
      "text/plain": [
       "'F1-score of the best model: 0.9134389247247844'"
      ]
     },
     "metadata": {},
     "output_type": "display_data"
    }
   ],
   "source": [
    "# Parameters for the first run of GridSearchCV\n",
    "params = {\n",
    "    'C': [0.001, 0.01, 0.1, 1, 10, 100, 1000]\n",
    "}\n",
    "\n",
    "# Best parameters obtained after the first run of GridSearchCV\n",
    "\n",
    "params = {\n",
    "    'C': [100]\n",
    "}\n",
    "\n",
    "\n",
    "estimator_lr = LogisticRegression(random_state=42, class_weight='balanced')\n",
    "\n",
    "best_model_lr, best_score_lr, best_params_lr = best_model_search_cv(estimator_lr, params)\n",
    "\n",
    "display(f'Best params: {best_params_lr}')\n",
    "display(f'F1-score of the best model: {best_score_lr}')"
   ]
  },
  {
   "cell_type": "markdown",
   "id": "513a5ae2-b094-4a09-bbf6-9578aaf50f61",
   "metadata": {},
   "source": "### Random forest"
  },
  {
   "cell_type": "code",
   "execution_count": 29,
   "id": "c960e8b3-41bc-4c54-a18a-53051318493c",
   "metadata": {
    "scrolled": true
   },
   "outputs": [
    {
     "name": "stdout",
     "output_type": "stream",
     "text": [
      "Fitting 5 folds for each of 1 candidates, totalling 5 fits\n"
     ]
    },
    {
     "data": {
      "text/plain": [
       "\"Best params: {'max_depth': 10, 'max_features': 1, 'min_samples_leaf': 1, 'min_samples_split': 2, 'n_estimators': 500}\""
      ]
     },
     "metadata": {},
     "output_type": "display_data"
    },
    {
     "data": {
      "text/plain": [
       "'F1-score of the best model: 0.9443914493519987'"
      ]
     },
     "metadata": {},
     "output_type": "display_data"
    }
   ],
   "source": [
    "# Parameters for the first run of GridSearchCV\n",
    "params = { \n",
    "    'n_estimators': [100, 200, 300, 400, 500],\n",
    "    'max_features': ['sqrt','log2', 1],\n",
    "    'max_depth' : range(2, 11, 4),\n",
    "    'min_samples_leaf': range(1, 4),\n",
    "    'min_samples_split': range(2, 6, 2)\n",
    "}\n",
    "\n",
    "# Best parameters obtained after the first run of GridSearchCV\n",
    "\n",
    "params = { \n",
    "    'n_estimators': [500],\n",
    "    'max_features': [1],\n",
    "    'max_depth' : [10],\n",
    "    'min_samples_leaf': [1],\n",
    "    'min_samples_split': [2]\n",
    "}\n",
    "\n",
    "\n",
    "estimator_rf = RandomForestClassifier(random_state=42, class_weight='balanced')\n",
    "\n",
    "best_model_rf, best_score_rf, best_params_rf = best_model_search_cv(estimator_rf, params)\n",
    "\n",
    "display(f'Best params: {best_params_rf}')\n",
    "display(f'F1-score of the best model: {best_score_rf}')"
   ]
  },
  {
   "cell_type": "markdown",
   "id": "06f38da7-cd2e-4838-906f-969094d29a0a",
   "metadata": {},
   "source": [
    "### LightGBM"
   ]
  },
  {
   "cell_type": "code",
   "execution_count": 30,
   "id": "64eba44c-825b-4bfb-8640-cd714d95c559",
   "metadata": {
    "scrolled": true
   },
   "outputs": [
    {
     "name": "stdout",
     "output_type": "stream",
     "text": [
      "Fitting 5 folds for each of 1 candidates, totalling 5 fits\n",
      "[LightGBM] [Info] Number of positive: 120, number of negative: 1000\n",
      "[LightGBM] [Info] Auto-choosing col-wise multi-threading, the overhead of testing was 0.025745 seconds.\n",
      "You can set `force_col_wise=true` to remove the overhead.\n",
      "[LightGBM] [Info] Total Bins 195832\n",
      "[LightGBM] [Info] Number of data points in the train set: 1120, number of used features: 768\n",
      "[LightGBM] [Info] [binary:BoostFromScore]: pavg=0.107143 -> initscore=-2.120264\n",
      "[LightGBM] [Info] Start training from score -2.120264\n",
      "[LightGBM] [Warning] No further splits with positive gain, best gain: -inf\n",
      "[LightGBM] [Warning] No further splits with positive gain, best gain: -inf\n",
      "[LightGBM] [Warning] No further splits with positive gain, best gain: -inf\n",
      "[LightGBM] [Warning] No further splits with positive gain, best gain: -inf\n",
      "[LightGBM] [Warning] No further splits with positive gain, best gain: -inf\n",
      "[LightGBM] [Warning] No further splits with positive gain, best gain: -inf\n",
      "[LightGBM] [Warning] No further splits with positive gain, best gain: -inf\n",
      "[LightGBM] [Warning] No further splits with positive gain, best gain: -inf\n",
      "[LightGBM] [Warning] No further splits with positive gain, best gain: -inf\n",
      "[CV 1/5] END learning_rate=0.1, max_depth=-1, num_leaves=20;, score=0.903 total time=   0.7s\n",
      "[LightGBM] [Info] Number of positive: 120, number of negative: 1000\n",
      "[LightGBM] [Info] Auto-choosing col-wise multi-threading, the overhead of testing was 0.020827 seconds.\n",
      "You can set `force_col_wise=true` to remove the overhead.\n",
      "[LightGBM] [Info] Total Bins 195834\n",
      "[LightGBM] [Info] Number of data points in the train set: 1120, number of used features: 768\n",
      "[LightGBM] [Info] [binary:BoostFromScore]: pavg=0.107143 -> initscore=-2.120264\n",
      "[LightGBM] [Info] Start training from score -2.120264\n",
      "[LightGBM] [Warning] No further splits with positive gain, best gain: -inf\n",
      "[LightGBM] [Warning] No further splits with positive gain, best gain: -inf\n",
      "[LightGBM] [Warning] No further splits with positive gain, best gain: -inf\n",
      "[LightGBM] [Warning] No further splits with positive gain, best gain: -inf\n",
      "[LightGBM] [Warning] No further splits with positive gain, best gain: -inf\n",
      "[LightGBM] [Warning] No further splits with positive gain, best gain: -inf\n",
      "[LightGBM] [Warning] No further splits with positive gain, best gain: -inf\n",
      "[LightGBM] [Warning] No further splits with positive gain, best gain: -inf\n",
      "[LightGBM] [Warning] No further splits with positive gain, best gain: -inf\n",
      "[LightGBM] [Warning] No further splits with positive gain, best gain: -inf\n",
      "[CV 2/5] END learning_rate=0.1, max_depth=-1, num_leaves=20;, score=0.938 total time=   0.7s\n",
      "[LightGBM] [Info] Number of positive: 120, number of negative: 1000\n",
      "[LightGBM] [Info] Auto-choosing col-wise multi-threading, the overhead of testing was 0.018191 seconds.\n",
      "You can set `force_col_wise=true` to remove the overhead.\n",
      "[LightGBM] [Info] Total Bins 195833\n",
      "[LightGBM] [Info] Number of data points in the train set: 1120, number of used features: 768\n",
      "[LightGBM] [Info] [binary:BoostFromScore]: pavg=0.107143 -> initscore=-2.120264\n",
      "[LightGBM] [Info] Start training from score -2.120264\n",
      "[LightGBM] [Warning] No further splits with positive gain, best gain: -inf\n",
      "[LightGBM] [Warning] No further splits with positive gain, best gain: -inf\n",
      "[LightGBM] [Warning] No further splits with positive gain, best gain: -inf\n",
      "[LightGBM] [Warning] No further splits with positive gain, best gain: -inf\n",
      "[LightGBM] [Warning] No further splits with positive gain, best gain: -inf\n",
      "[CV 3/5] END learning_rate=0.1, max_depth=-1, num_leaves=20;, score=0.947 total time=   0.6s\n",
      "[LightGBM] [Info] Number of positive: 120, number of negative: 1000\n",
      "[LightGBM] [Info] Auto-choosing col-wise multi-threading, the overhead of testing was 0.020940 seconds.\n",
      "You can set `force_col_wise=true` to remove the overhead.\n",
      "[LightGBM] [Info] Total Bins 195834\n",
      "[LightGBM] [Info] Number of data points in the train set: 1120, number of used features: 768\n",
      "[LightGBM] [Info] [binary:BoostFromScore]: pavg=0.107143 -> initscore=-2.120264\n",
      "[LightGBM] [Info] Start training from score -2.120264\n",
      "[LightGBM] [Warning] No further splits with positive gain, best gain: -inf\n",
      "[LightGBM] [Warning] No further splits with positive gain, best gain: -inf\n",
      "[LightGBM] [Warning] No further splits with positive gain, best gain: -inf\n",
      "[LightGBM] [Warning] No further splits with positive gain, best gain: -inf\n",
      "[LightGBM] [Warning] No further splits with positive gain, best gain: -inf\n",
      "[LightGBM] [Warning] No further splits with positive gain, best gain: -inf\n",
      "[CV 4/5] END learning_rate=0.1, max_depth=-1, num_leaves=20;, score=0.933 total time=   0.6s\n",
      "[LightGBM] [Info] Number of positive: 120, number of negative: 1000\n",
      "[LightGBM] [Info] Auto-choosing col-wise multi-threading, the overhead of testing was 0.013643 seconds.\n",
      "You can set `force_col_wise=true` to remove the overhead.\n",
      "[LightGBM] [Info] Total Bins 195837\n",
      "[LightGBM] [Info] Number of data points in the train set: 1120, number of used features: 768\n",
      "[LightGBM] [Info] [binary:BoostFromScore]: pavg=0.107143 -> initscore=-2.120264\n",
      "[LightGBM] [Info] Start training from score -2.120264\n",
      "[LightGBM] [Warning] No further splits with positive gain, best gain: -inf\n",
      "[LightGBM] [Warning] No further splits with positive gain, best gain: -inf\n",
      "[LightGBM] [Warning] No further splits with positive gain, best gain: -inf\n",
      "[LightGBM] [Warning] No further splits with positive gain, best gain: -inf\n",
      "[LightGBM] [Warning] No further splits with positive gain, best gain: -inf\n",
      "[CV 5/5] END learning_rate=0.1, max_depth=-1, num_leaves=20;, score=0.900 total time=   0.6s\n",
      "[LightGBM] [Info] Number of positive: 150, number of negative: 1250\n",
      "[LightGBM] [Info] Auto-choosing col-wise multi-threading, the overhead of testing was 0.016187 seconds.\n",
      "You can set `force_col_wise=true` to remove the overhead.\n",
      "[LightGBM] [Info] Total Bins 195840\n",
      "[LightGBM] [Info] Number of data points in the train set: 1400, number of used features: 768\n",
      "[LightGBM] [Info] [binary:BoostFromScore]: pavg=0.107143 -> initscore=-2.120264\n",
      "[LightGBM] [Info] Start training from score -2.120264\n",
      "[LightGBM] [Warning] No further splits with positive gain, best gain: -inf\n",
      "[LightGBM] [Warning] No further splits with positive gain, best gain: -inf\n",
      "[LightGBM] [Warning] No further splits with positive gain, best gain: -inf\n",
      "[LightGBM] [Warning] No further splits with positive gain, best gain: -inf\n"
     ]
    },
    {
     "data": {
      "text/plain": [
       "\"Best params: {'learning_rate': 0.1, 'max_depth': -1, 'num_leaves': 20}\""
      ]
     },
     "metadata": {},
     "output_type": "display_data"
    },
    {
     "data": {
      "text/plain": [
       "'F1-score of the best model: 0.9242855121675155'"
      ]
     },
     "metadata": {},
     "output_type": "display_data"
    }
   ],
   "source": [
    "# Parameters for the first run of GridSearchCV\n",
    "params = {\n",
    "    \"max_depth\": [-1, 6, 10],\n",
    "    \"num_leaves\": [20, 31, 40],\n",
    "    \"learning_rate\": [0.05, 0.1],\n",
    "    #\"n_estimators\": [100, 300],\n",
    "    #\"colsample_bytree\": [0.3, 0.5, 0.7, 1]\n",
    "}\n",
    "\n",
    "# Best parameters obtained after the first run of GridSearchCV\n",
    "\n",
    "params = {\n",
    "    \"max_depth\": [-1],\n",
    "    \"num_leaves\": [20],\n",
    "    \"learning_rate\": [0.1],\n",
    "}\n",
    "\n",
    "\n",
    "estimator_lgb = lgb.LGBMClassifier(objective='binary', n_jobs=-1, random_state=42)\n",
    "\n",
    "best_model_lgb, best_score_lgb, best_params_lgb = best_model_search_cv(estimator_lgb, params,  1)\n",
    "\n",
    "display(f'Best params: {best_params_lgb}')\n",
    "display(f'F1-score of the best model: {best_score_lgb}')"
   ]
  },
  {
   "cell_type": "markdown",
   "id": "4fc002fa-b7ee-4e15-a042-f90038508974",
   "metadata": {},
   "source": "### Conclusion"
  },
  {
   "cell_type": "markdown",
   "id": "bad7f049-2ada-4e92-8fb1-d6ca7fc0ef94",
   "metadata": {},
   "source": "Three models were trained: logistic regression, random forest and LightGBM. As a result, the following F1-score metrics were obtained:"
  },
  {
   "cell_type": "code",
   "execution_count": 31,
   "id": "7b84f9d5-7474-4887-ae33-423478811e16",
   "metadata": {},
   "outputs": [
    {
     "data": {
      "text/plain": [
       "'F1-score'"
      ]
     },
     "metadata": {},
     "output_type": "display_data"
    },
    {
     "data": {
      "text/plain": [
       "'Logistic Regression: 0.91344'"
      ]
     },
     "metadata": {},
     "output_type": "display_data"
    },
    {
     "data": {
      "text/plain": [
       "'Random Forest: 0.94439'"
      ]
     },
     "metadata": {},
     "output_type": "display_data"
    },
    {
     "data": {
      "text/plain": [
       "'LightGBM: 0.92429'"
      ]
     },
     "metadata": {},
     "output_type": "display_data"
    }
   ],
   "source": [
    "display(f'F1-score')\n",
    "display(f'Logistic Regression: {best_score_lr.round(5)}')\n",
    "display(f'Random Forest: {best_score_rf.round(5)}')\n",
    "display(f'LightGBM: {best_score_lgb.round(5)}')"
   ]
  },
  {
   "cell_type": "markdown",
   "id": "4967dc47-c735-4a1e-9c76-61a20dc65aa4",
   "metadata": {},
   "source": "The best model was the random forest model."
  },
  {
   "cell_type": "markdown",
   "id": "fd57181d-4dc0-4097-bff3-b5c58fb27034",
   "metadata": {},
   "source": "## Testing the best model"
  },
  {
   "cell_type": "code",
   "execution_count": 32,
   "id": "9e0988b8-6f87-4e39-a743-e23ebe916af4",
   "metadata": {},
   "outputs": [
    {
     "data": {
      "text/plain": [
       "'F1-score value on the test sample: 0.96183'"
      ]
     },
     "execution_count": 32,
     "metadata": {},
     "output_type": "execute_result"
    }
   ],
   "source": [
    "predictions = best_model_rf.predict(X_test)\n",
    "f'F1-score value on the test sample: {f1_score(y_test, predictions).round(5)}'"
   ]
  },
  {
   "cell_type": "markdown",
   "id": "e9d2c738-d74d-41ba-a2cc-bd81abc7d0fe",
   "metadata": {},
   "source": "On the test sample, our random forest model showed an F1-score value of 0.96183. This is higher than the required minimum result of 0.75."
  },
  {
   "cell_type": "markdown",
   "id": "4efcad35-4384-4a43-a460-e455da18ea14",
   "metadata": {},
   "source": "## General Conclusion"
  },
  {
   "cell_type": "markdown",
   "id": "6ed0a9f8-60a8-43e4-a133-58ae8796eb00",
   "metadata": {},
   "source": [
    "We have a dataset of 160,000 English-language tweets at our disposal. We needed to train a model that would determine the toxicity of a tweet and have an F1-score metric value of at least 0.75.\n",
    "\n",
    "We prepared a sample and tokenized the text of the tweets. Then, using the unitary/toxic-BERT model, we created embeddings from the tokens.\n",
    "\n",
    "We trained 3 different models using GridSearchCV: logistic regression, random forest, and LightGBM. The random forest model showed the best result.\n",
    "\n",
    "Having tested the random forest model on the test sample, we obtained an F1-score metric value of 0.96183. This is higher than the required minimum result of 0.75. The project goal is achieved."
   ]
  }
 ],
 "metadata": {
  "kernelspec": {
   "display_name": "Python 3 (ipykernel)",
   "language": "python",
   "name": "python3"
  },
  "language_info": {
   "codemirror_mode": {
    "name": "ipython",
    "version": 3
   },
   "file_extension": ".py",
   "mimetype": "text/x-python",
   "name": "python",
   "nbconvert_exporter": "python",
   "pygments_lexer": "ipython3",
   "version": "3.12.3"
  },
  "toc": {
   "base_numbering": 1,
   "nav_menu": {},
   "number_sections": true,
   "sideBar": true,
   "skip_h1_title": true,
   "title_cell": "Table of Contents",
   "title_sidebar": "Contents",
   "toc_cell": false,
   "toc_position": {},
   "toc_section_display": true,
   "toc_window_display": false
  }
 },
 "nbformat": 4,
 "nbformat_minor": 5
}
