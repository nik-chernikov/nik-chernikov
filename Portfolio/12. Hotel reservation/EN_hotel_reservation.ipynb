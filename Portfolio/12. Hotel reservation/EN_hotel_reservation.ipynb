{
 "cells": [
  {
   "cell_type": "markdown",
   "metadata": {},
   "source": "# Predicting Customer Churn in a Hotel Chain"
  },
  {
   "cell_type": "markdown",
   "metadata": {},
   "source": [
    "The client of this study is the hotel chain \"Like a Guest\".\n",
    "\n",
    "To attract customers, this hotel chain added the option to book a room without prepayment to its website. However, if a customer canceled a reservation, the company suffered losses. Hotel staff might, for example, overstock on groceries for the guest's arrival or simply be unable to find another customer.\n",
    "\n",
    "To solve this problem, we need to develop a system that predicts cancellations. If the model predicts a cancellation, the customer is asked to pay a deposit. The deposit is 80% of the one-night room rate and one-time cleaning costs. The deposit will be debited from the customer's account if they cancel.\n",
    "\n",
    "The proposed metric is the revenue generated after implementing the machine learning model."
   ]
  },
  {
   "cell_type": "markdown",
   "metadata": {},
   "source": "## Data loading"
  },
  {
   "cell_type": "code",
   "execution_count": 1,
   "metadata": {},
   "outputs": [],
   "source": [
    "import pandas as pd\n",
    "import matplotlib.pyplot as plt\n",
    "import seaborn as sns\n",
    "import numpy as np\n",
    "\n",
    "from sklearn.model_selection import GridSearchCV, cross_val_score\n",
    "from sklearn.linear_model import LogisticRegression\n",
    "from sklearn.preprocessing import StandardScaler, OneHotEncoder, OrdinalEncoder\n",
    "from sklearn.ensemble import RandomForestClassifier\n",
    "from sklearn.metrics import roc_auc_score, roc_curve, f1_score, precision_score"
   ]
  },
  {
   "cell_type": "code",
   "execution_count": 2,
   "metadata": {},
   "outputs": [],
   "source": [
    "# Disable the chain assignment warning\n",
    "pd.options.mode.chained_assignment = None"
   ]
  },
  {
   "cell_type": "markdown",
   "metadata": {},
   "source": "The hotel data has already been split into training and test sets. Let's take a look."
  },
  {
   "cell_type": "code",
   "execution_count": 3,
   "metadata": {},
   "outputs": [
    {
     "data": {
      "text/html": [
       "<div>\n",
       "<style scoped>\n",
       "    .dataframe tbody tr th:only-of-type {\n",
       "        vertical-align: middle;\n",
       "    }\n",
       "\n",
       "    .dataframe tbody tr th {\n",
       "        vertical-align: top;\n",
       "    }\n",
       "\n",
       "    .dataframe thead th {\n",
       "        text-align: right;\n",
       "    }\n",
       "</style>\n",
       "<table border=\"1\" class=\"dataframe\">\n",
       "  <thead>\n",
       "    <tr style=\"text-align: right;\">\n",
       "      <th></th>\n",
       "      <th>id</th>\n",
       "      <th>is_canceled</th>\n",
       "      <th>lead_time</th>\n",
       "      <th>arrival_date_year</th>\n",
       "      <th>arrival_date_month</th>\n",
       "      <th>arrival_date_week_number</th>\n",
       "      <th>arrival_date_day_of_month</th>\n",
       "      <th>stays_in_weekend_nights</th>\n",
       "      <th>stays_in_week_nights</th>\n",
       "      <th>adults</th>\n",
       "      <th>children</th>\n",
       "      <th>babies</th>\n",
       "      <th>meal</th>\n",
       "      <th>country</th>\n",
       "      <th>distribution_channel</th>\n",
       "      <th>is_repeated_guest</th>\n",
       "      <th>previous_cancellations</th>\n",
       "      <th>previous_bookings_not_canceled</th>\n",
       "      <th>reserved_room_type</th>\n",
       "      <th>booking_changes</th>\n",
       "      <th>days_in_waiting_list</th>\n",
       "      <th>customer_type</th>\n",
       "      <th>required_car_parking_spaces</th>\n",
       "      <th>total_of_special_requests</th>\n",
       "      <th>total_nights</th>\n",
       "    </tr>\n",
       "  </thead>\n",
       "  <tbody>\n",
       "    <tr>\n",
       "      <th>0</th>\n",
       "      <td>0</td>\n",
       "      <td>0</td>\n",
       "      <td>7.0</td>\n",
       "      <td>2015</td>\n",
       "      <td>July</td>\n",
       "      <td>27</td>\n",
       "      <td>1</td>\n",
       "      <td>0</td>\n",
       "      <td>1</td>\n",
       "      <td>1.0</td>\n",
       "      <td>0.0</td>\n",
       "      <td>0.0</td>\n",
       "      <td>BB</td>\n",
       "      <td>GBR</td>\n",
       "      <td>Direct</td>\n",
       "      <td>0</td>\n",
       "      <td>0</td>\n",
       "      <td>0</td>\n",
       "      <td>A</td>\n",
       "      <td>0</td>\n",
       "      <td>0</td>\n",
       "      <td>Transient</td>\n",
       "      <td>0</td>\n",
       "      <td>0</td>\n",
       "      <td>1</td>\n",
       "    </tr>\n",
       "    <tr>\n",
       "      <th>1</th>\n",
       "      <td>1</td>\n",
       "      <td>0</td>\n",
       "      <td>14.0</td>\n",
       "      <td>2015</td>\n",
       "      <td>July</td>\n",
       "      <td>27</td>\n",
       "      <td>1</td>\n",
       "      <td>0</td>\n",
       "      <td>2</td>\n",
       "      <td>2.0</td>\n",
       "      <td>0.0</td>\n",
       "      <td>0.0</td>\n",
       "      <td>BB</td>\n",
       "      <td>GBR</td>\n",
       "      <td>TA/TO</td>\n",
       "      <td>0</td>\n",
       "      <td>0</td>\n",
       "      <td>0</td>\n",
       "      <td>A</td>\n",
       "      <td>0</td>\n",
       "      <td>0</td>\n",
       "      <td>Transient</td>\n",
       "      <td>0</td>\n",
       "      <td>1</td>\n",
       "      <td>2</td>\n",
       "    </tr>\n",
       "    <tr>\n",
       "      <th>2</th>\n",
       "      <td>2</td>\n",
       "      <td>0</td>\n",
       "      <td>0.0</td>\n",
       "      <td>2015</td>\n",
       "      <td>July</td>\n",
       "      <td>27</td>\n",
       "      <td>1</td>\n",
       "      <td>0</td>\n",
       "      <td>2</td>\n",
       "      <td>2.0</td>\n",
       "      <td>0.0</td>\n",
       "      <td>0.0</td>\n",
       "      <td>BB</td>\n",
       "      <td>PRT</td>\n",
       "      <td>Direct</td>\n",
       "      <td>0</td>\n",
       "      <td>0</td>\n",
       "      <td>0</td>\n",
       "      <td>C</td>\n",
       "      <td>0</td>\n",
       "      <td>0</td>\n",
       "      <td>Transient</td>\n",
       "      <td>0</td>\n",
       "      <td>0</td>\n",
       "      <td>2</td>\n",
       "    </tr>\n",
       "    <tr>\n",
       "      <th>3</th>\n",
       "      <td>3</td>\n",
       "      <td>0</td>\n",
       "      <td>9.0</td>\n",
       "      <td>2015</td>\n",
       "      <td>July</td>\n",
       "      <td>27</td>\n",
       "      <td>1</td>\n",
       "      <td>0</td>\n",
       "      <td>2</td>\n",
       "      <td>2.0</td>\n",
       "      <td>0.0</td>\n",
       "      <td>0.0</td>\n",
       "      <td>FB</td>\n",
       "      <td>PRT</td>\n",
       "      <td>Direct</td>\n",
       "      <td>0</td>\n",
       "      <td>0</td>\n",
       "      <td>0</td>\n",
       "      <td>C</td>\n",
       "      <td>0</td>\n",
       "      <td>0</td>\n",
       "      <td>Transient</td>\n",
       "      <td>0</td>\n",
       "      <td>1</td>\n",
       "      <td>2</td>\n",
       "    </tr>\n",
       "    <tr>\n",
       "      <th>4</th>\n",
       "      <td>4</td>\n",
       "      <td>1</td>\n",
       "      <td>85.0</td>\n",
       "      <td>2015</td>\n",
       "      <td>July</td>\n",
       "      <td>27</td>\n",
       "      <td>1</td>\n",
       "      <td>0</td>\n",
       "      <td>3</td>\n",
       "      <td>2.0</td>\n",
       "      <td>0.0</td>\n",
       "      <td>0.0</td>\n",
       "      <td>BB</td>\n",
       "      <td>PRT</td>\n",
       "      <td>TA/TO</td>\n",
       "      <td>0</td>\n",
       "      <td>0</td>\n",
       "      <td>0</td>\n",
       "      <td>A</td>\n",
       "      <td>0</td>\n",
       "      <td>0</td>\n",
       "      <td>Transient</td>\n",
       "      <td>0</td>\n",
       "      <td>1</td>\n",
       "      <td>3</td>\n",
       "    </tr>\n",
       "  </tbody>\n",
       "</table>\n",
       "</div>"
      ],
      "text/plain": [
       "   id  is_canceled  lead_time  arrival_date_year arrival_date_month  \\\n",
       "0   0            0        7.0               2015               July   \n",
       "1   1            0       14.0               2015               July   \n",
       "2   2            0        0.0               2015               July   \n",
       "3   3            0        9.0               2015               July   \n",
       "4   4            1       85.0               2015               July   \n",
       "\n",
       "   arrival_date_week_number  arrival_date_day_of_month  \\\n",
       "0                        27                          1   \n",
       "1                        27                          1   \n",
       "2                        27                          1   \n",
       "3                        27                          1   \n",
       "4                        27                          1   \n",
       "\n",
       "   stays_in_weekend_nights  stays_in_week_nights  adults  children  babies  \\\n",
       "0                        0                     1     1.0       0.0     0.0   \n",
       "1                        0                     2     2.0       0.0     0.0   \n",
       "2                        0                     2     2.0       0.0     0.0   \n",
       "3                        0                     2     2.0       0.0     0.0   \n",
       "4                        0                     3     2.0       0.0     0.0   \n",
       "\n",
       "        meal country distribution_channel  is_repeated_guest  \\\n",
       "0  BB            GBR               Direct                  0   \n",
       "1  BB            GBR                TA/TO                  0   \n",
       "2  BB            PRT               Direct                  0   \n",
       "3  FB            PRT               Direct                  0   \n",
       "4  BB            PRT                TA/TO                  0   \n",
       "\n",
       "   previous_cancellations  previous_bookings_not_canceled reserved_room_type  \\\n",
       "0                       0                               0   A                  \n",
       "1                       0                               0   A                  \n",
       "2                       0                               0   C                  \n",
       "3                       0                               0   C                  \n",
       "4                       0                               0   A                  \n",
       "\n",
       "   booking_changes  days_in_waiting_list customer_type  \\\n",
       "0                0                     0     Transient   \n",
       "1                0                     0     Transient   \n",
       "2                0                     0     Transient   \n",
       "3                0                     0     Transient   \n",
       "4                0                     0     Transient   \n",
       "\n",
       "   required_car_parking_spaces  total_of_special_requests  total_nights  \n",
       "0                            0                          0             1  \n",
       "1                            0                          1             2  \n",
       "2                            0                          0             2  \n",
       "3                            0                          1             2  \n",
       "4                            0                          1             3  "
      ]
     },
     "metadata": {},
     "output_type": "display_data"
    },
    {
     "data": {
      "text/html": [
       "<div>\n",
       "<style scoped>\n",
       "    .dataframe tbody tr th:only-of-type {\n",
       "        vertical-align: middle;\n",
       "    }\n",
       "\n",
       "    .dataframe tbody tr th {\n",
       "        vertical-align: top;\n",
       "    }\n",
       "\n",
       "    .dataframe thead th {\n",
       "        text-align: right;\n",
       "    }\n",
       "</style>\n",
       "<table border=\"1\" class=\"dataframe\">\n",
       "  <thead>\n",
       "    <tr style=\"text-align: right;\">\n",
       "      <th></th>\n",
       "      <th>id</th>\n",
       "      <th>is_canceled</th>\n",
       "      <th>lead_time</th>\n",
       "      <th>arrival_date_year</th>\n",
       "      <th>arrival_date_month</th>\n",
       "      <th>arrival_date_week_number</th>\n",
       "      <th>arrival_date_day_of_month</th>\n",
       "      <th>stays_in_weekend_nights</th>\n",
       "      <th>stays_in_week_nights</th>\n",
       "      <th>adults</th>\n",
       "      <th>children</th>\n",
       "      <th>babies</th>\n",
       "      <th>meal</th>\n",
       "      <th>country</th>\n",
       "      <th>distribution_channel</th>\n",
       "      <th>is_repeated_guest</th>\n",
       "      <th>previous_cancellations</th>\n",
       "      <th>previous_bookings_not_canceled</th>\n",
       "      <th>reserved_room_type</th>\n",
       "      <th>booking_changes</th>\n",
       "      <th>days_in_waiting_list</th>\n",
       "      <th>customer_type</th>\n",
       "      <th>required_car_parking_spaces</th>\n",
       "      <th>total_of_special_requests</th>\n",
       "      <th>total_nights</th>\n",
       "    </tr>\n",
       "  </thead>\n",
       "  <tbody>\n",
       "    <tr>\n",
       "      <th>0</th>\n",
       "      <td>6086</td>\n",
       "      <td>1</td>\n",
       "      <td>74.0</td>\n",
       "      <td>2017</td>\n",
       "      <td>January</td>\n",
       "      <td>1</td>\n",
       "      <td>1</td>\n",
       "      <td>1</td>\n",
       "      <td>0</td>\n",
       "      <td>2.0</td>\n",
       "      <td>0.0</td>\n",
       "      <td>0.0</td>\n",
       "      <td>BB</td>\n",
       "      <td>PRT</td>\n",
       "      <td>TA/TO</td>\n",
       "      <td>0</td>\n",
       "      <td>0</td>\n",
       "      <td>0</td>\n",
       "      <td>A</td>\n",
       "      <td>0</td>\n",
       "      <td>0</td>\n",
       "      <td>Transient</td>\n",
       "      <td>0</td>\n",
       "      <td>0</td>\n",
       "      <td>1</td>\n",
       "    </tr>\n",
       "    <tr>\n",
       "      <th>1</th>\n",
       "      <td>6087</td>\n",
       "      <td>1</td>\n",
       "      <td>62.0</td>\n",
       "      <td>2017</td>\n",
       "      <td>January</td>\n",
       "      <td>1</td>\n",
       "      <td>1</td>\n",
       "      <td>2</td>\n",
       "      <td>2</td>\n",
       "      <td>2.0</td>\n",
       "      <td>0.0</td>\n",
       "      <td>0.0</td>\n",
       "      <td>BB</td>\n",
       "      <td>AUT</td>\n",
       "      <td>TA/TO</td>\n",
       "      <td>0</td>\n",
       "      <td>0</td>\n",
       "      <td>0</td>\n",
       "      <td>A</td>\n",
       "      <td>0</td>\n",
       "      <td>0</td>\n",
       "      <td>Transient</td>\n",
       "      <td>0</td>\n",
       "      <td>1</td>\n",
       "      <td>4</td>\n",
       "    </tr>\n",
       "    <tr>\n",
       "      <th>2</th>\n",
       "      <td>6088</td>\n",
       "      <td>1</td>\n",
       "      <td>62.0</td>\n",
       "      <td>2017</td>\n",
       "      <td>January</td>\n",
       "      <td>1</td>\n",
       "      <td>1</td>\n",
       "      <td>2</td>\n",
       "      <td>2</td>\n",
       "      <td>2.0</td>\n",
       "      <td>0.0</td>\n",
       "      <td>0.0</td>\n",
       "      <td>BB</td>\n",
       "      <td>AUT</td>\n",
       "      <td>TA/TO</td>\n",
       "      <td>0</td>\n",
       "      <td>0</td>\n",
       "      <td>0</td>\n",
       "      <td>A</td>\n",
       "      <td>0</td>\n",
       "      <td>0</td>\n",
       "      <td>Transient</td>\n",
       "      <td>0</td>\n",
       "      <td>1</td>\n",
       "      <td>4</td>\n",
       "    </tr>\n",
       "    <tr>\n",
       "      <th>3</th>\n",
       "      <td>6089</td>\n",
       "      <td>1</td>\n",
       "      <td>71.0</td>\n",
       "      <td>2017</td>\n",
       "      <td>January</td>\n",
       "      <td>1</td>\n",
       "      <td>1</td>\n",
       "      <td>2</td>\n",
       "      <td>2</td>\n",
       "      <td>1.0</td>\n",
       "      <td>0.0</td>\n",
       "      <td>0.0</td>\n",
       "      <td>BB</td>\n",
       "      <td>PRT</td>\n",
       "      <td>TA/TO</td>\n",
       "      <td>0</td>\n",
       "      <td>0</td>\n",
       "      <td>0</td>\n",
       "      <td>A</td>\n",
       "      <td>0</td>\n",
       "      <td>0</td>\n",
       "      <td>Transient</td>\n",
       "      <td>0</td>\n",
       "      <td>1</td>\n",
       "      <td>4</td>\n",
       "    </tr>\n",
       "    <tr>\n",
       "      <th>4</th>\n",
       "      <td>6090</td>\n",
       "      <td>1</td>\n",
       "      <td>172.0</td>\n",
       "      <td>2017</td>\n",
       "      <td>January</td>\n",
       "      <td>1</td>\n",
       "      <td>1</td>\n",
       "      <td>2</td>\n",
       "      <td>5</td>\n",
       "      <td>2.0</td>\n",
       "      <td>0.0</td>\n",
       "      <td>0.0</td>\n",
       "      <td>BB</td>\n",
       "      <td>BEL</td>\n",
       "      <td>TA/TO</td>\n",
       "      <td>0</td>\n",
       "      <td>0</td>\n",
       "      <td>0</td>\n",
       "      <td>A</td>\n",
       "      <td>0</td>\n",
       "      <td>0</td>\n",
       "      <td>Transient</td>\n",
       "      <td>0</td>\n",
       "      <td>0</td>\n",
       "      <td>7</td>\n",
       "    </tr>\n",
       "  </tbody>\n",
       "</table>\n",
       "</div>"
      ],
      "text/plain": [
       "     id  is_canceled  lead_time  arrival_date_year arrival_date_month  \\\n",
       "0  6086            1       74.0               2017            January   \n",
       "1  6087            1       62.0               2017            January   \n",
       "2  6088            1       62.0               2017            January   \n",
       "3  6089            1       71.0               2017            January   \n",
       "4  6090            1      172.0               2017            January   \n",
       "\n",
       "   arrival_date_week_number  arrival_date_day_of_month  \\\n",
       "0                         1                          1   \n",
       "1                         1                          1   \n",
       "2                         1                          1   \n",
       "3                         1                          1   \n",
       "4                         1                          1   \n",
       "\n",
       "   stays_in_weekend_nights  stays_in_week_nights  adults  children  babies  \\\n",
       "0                        1                     0     2.0       0.0     0.0   \n",
       "1                        2                     2     2.0       0.0     0.0   \n",
       "2                        2                     2     2.0       0.0     0.0   \n",
       "3                        2                     2     1.0       0.0     0.0   \n",
       "4                        2                     5     2.0       0.0     0.0   \n",
       "\n",
       "        meal country distribution_channel  is_repeated_guest  \\\n",
       "0  BB            PRT                TA/TO                  0   \n",
       "1  BB            AUT                TA/TO                  0   \n",
       "2  BB            AUT                TA/TO                  0   \n",
       "3  BB            PRT                TA/TO                  0   \n",
       "4  BB            BEL                TA/TO                  0   \n",
       "\n",
       "   previous_cancellations  previous_bookings_not_canceled reserved_room_type  \\\n",
       "0                       0                               0   A                  \n",
       "1                       0                               0   A                  \n",
       "2                       0                               0   A                  \n",
       "3                       0                               0   A                  \n",
       "4                       0                               0   A                  \n",
       "\n",
       "   booking_changes  days_in_waiting_list customer_type  \\\n",
       "0                0                     0     Transient   \n",
       "1                0                     0     Transient   \n",
       "2                0                     0     Transient   \n",
       "3                0                     0     Transient   \n",
       "4                0                     0     Transient   \n",
       "\n",
       "   required_car_parking_spaces  total_of_special_requests  total_nights  \n",
       "0                            0                          0             1  \n",
       "1                            0                          1             4  \n",
       "2                            0                          1             4  \n",
       "3                            0                          1             4  \n",
       "4                            0                          0             7  "
      ]
     },
     "execution_count": 3,
     "metadata": {},
     "output_type": "execute_result"
    }
   ],
   "source": [
    "# Read the csv files and display the dataset on the screen.\n",
    "data_train = pd.read_csv('/datasets/hotel_train.csv')\n",
    "data_test = pd.read_csv('/datasets/hotel_test.csv')\n",
    "\n",
    "pd.set_option('display.max_columns', None)\n",
    "\n",
    "display(data_train.head())\n",
    "data_test.head()"
   ]
  },
  {
   "cell_type": "code",
   "execution_count": 4,
   "metadata": {},
   "outputs": [],
   "source": [
    "pd.set_option('display.max_columns', 25)"
   ]
  },
  {
   "cell_type": "code",
   "execution_count": 5,
   "metadata": {},
   "outputs": [
    {
     "name": "stdout",
     "output_type": "stream",
     "text": [
      "<class 'pandas.core.frame.DataFrame'>\n",
      "RangeIndex: 65229 entries, 0 to 65228\n",
      "Data columns (total 25 columns):\n",
      " #   Column                          Non-Null Count  Dtype  \n",
      "---  ------                          --------------  -----  \n",
      " 0   id                              65229 non-null  int64  \n",
      " 1   is_canceled                     65229 non-null  int64  \n",
      " 2   lead_time                       65229 non-null  float64\n",
      " 3   arrival_date_year               65229 non-null  int64  \n",
      " 4   arrival_date_month              65229 non-null  object \n",
      " 5   arrival_date_week_number        65229 non-null  int64  \n",
      " 6   arrival_date_day_of_month       65229 non-null  int64  \n",
      " 7   stays_in_weekend_nights         65229 non-null  int64  \n",
      " 8   stays_in_week_nights            65229 non-null  int64  \n",
      " 9   adults                          65229 non-null  float64\n",
      " 10  children                        65229 non-null  float64\n",
      " 11  babies                          65229 non-null  float64\n",
      " 12  meal                            65229 non-null  object \n",
      " 13  country                         65229 non-null  object \n",
      " 14  distribution_channel            65229 non-null  object \n",
      " 15  is_repeated_guest               65229 non-null  int64  \n",
      " 16  previous_cancellations          65229 non-null  int64  \n",
      " 17  previous_bookings_not_canceled  65229 non-null  int64  \n",
      " 18  reserved_room_type              65229 non-null  object \n",
      " 19  booking_changes                 65229 non-null  int64  \n",
      " 20  days_in_waiting_list            65229 non-null  int64  \n",
      " 21  customer_type                   65229 non-null  object \n",
      " 22  required_car_parking_spaces     65229 non-null  int64  \n",
      " 23  total_of_special_requests       65229 non-null  int64  \n",
      " 24  total_nights                    65229 non-null  int64  \n",
      "dtypes: float64(4), int64(15), object(6)\n",
      "memory usage: 12.4+ MB\n"
     ]
    },
    {
     "data": {
      "text/plain": [
       "None"
      ]
     },
     "metadata": {},
     "output_type": "display_data"
    },
    {
     "name": "stdout",
     "output_type": "stream",
     "text": [
      "<class 'pandas.core.frame.DataFrame'>\n",
      "RangeIndex: 32412 entries, 0 to 32411\n",
      "Data columns (total 25 columns):\n",
      " #   Column                          Non-Null Count  Dtype  \n",
      "---  ------                          --------------  -----  \n",
      " 0   id                              32412 non-null  int64  \n",
      " 1   is_canceled                     32412 non-null  int64  \n",
      " 2   lead_time                       32412 non-null  float64\n",
      " 3   arrival_date_year               32412 non-null  int64  \n",
      " 4   arrival_date_month              32412 non-null  object \n",
      " 5   arrival_date_week_number        32412 non-null  int64  \n",
      " 6   arrival_date_day_of_month       32412 non-null  int64  \n",
      " 7   stays_in_weekend_nights         32412 non-null  int64  \n",
      " 8   stays_in_week_nights            32412 non-null  int64  \n",
      " 9   adults                          32412 non-null  float64\n",
      " 10  children                        32412 non-null  float64\n",
      " 11  babies                          32412 non-null  float64\n",
      " 12  meal                            32412 non-null  object \n",
      " 13  country                         32412 non-null  object \n",
      " 14  distribution_channel            32412 non-null  object \n",
      " 15  is_repeated_guest               32412 non-null  int64  \n",
      " 16  previous_cancellations          32412 non-null  int64  \n",
      " 17  previous_bookings_not_canceled  32412 non-null  int64  \n",
      " 18  reserved_room_type              32412 non-null  object \n",
      " 19  booking_changes                 32412 non-null  int64  \n",
      " 20  days_in_waiting_list            32412 non-null  int64  \n",
      " 21  customer_type                   32412 non-null  object \n",
      " 22  required_car_parking_spaces     32412 non-null  int64  \n",
      " 23  total_of_special_requests       32412 non-null  int64  \n",
      " 24  total_nights                    32412 non-null  int64  \n",
      "dtypes: float64(4), int64(15), object(6)\n",
      "memory usage: 6.2+ MB\n"
     ]
    }
   ],
   "source": [
    "# Let's take a look at the summary information for the datasets\n",
    "display(data_train.info())\n",
    "data_test.info()"
   ]
  },
  {
   "cell_type": "markdown",
   "metadata": {},
   "source": [
    "We have two datasets: one for training and one for testing. The training dataset contains 65,229 records and 25 features. The test dataset contains 32,412 records and 25 features. No missing values were observed.\n",
    "\n",
    "The hotel_train and hotel_test tables contain the same columns:\n",
    "* `id` — record number;\n",
    "* `adults` — number of adult guests;\n",
    "* `arrival_date_year` — year of arrival;\n",
    "* `arrival_date_month` — month of arrival;\n",
    "* `arrival_date_week_number` — week of arrival;\n",
    "* `arrival_date_day_of_month` — day of arrival;\n",
    "* `babies` — number of infants;\n",
    "* `booking_changes` — number of booking details changes;\n",
    "* `children` — number of children aged 3 to 14;\n",
    "* `country` — guest citizenship;\n",
    "* `customer_type` — customer type:\n",
    "    * `Contract` — contract with a legal entity;\n",
    "    * `Group` — group booking;\n",
    "    * `Transient` — not related to a contract or group booking;\n",
    "    * `Transient-party` — not related to a contract or group booking, but related to a Transient booking.\n",
    "* `days_in_waiting_list` — number of days the order was waiting for confirmation;\n",
    "* `distribution_channel` — order distribution channel;\n",
    "* `is_canceled` — order cancellation (our target feature);\n",
    "* `is_repeated_guest` — whether the guest is booking a room for the second time;\n",
    "* `lead_time` — number of days between the booking date and the arrival date;\n",
    "* `meal` — order options:\n",
    "    * `SC` — no additional options;\n",
    "    * `BB` — breakfast included;\n",
    "    * `HB` — breakfast and lunch included;\n",
    "    * `FB` — breakfast, lunch, and dinner included.\n",
    "* `previous_bookings_not_canceled` — the number of confirmed bookings for the customer;\n",
    "* `previous_cancellations` — the number of cancelled bookings for the customer;\n",
    "* `required_car_parking_spaces` — whether a parking space is required;\n",
    "* `reserved_room_type` — the type of reserved room;\n",
    "* `stays_in_weekend_nights` — the number of weekend nights;\n",
    "* `stays_in_week_nights` — the number of weekday nights;\n",
    "* `total_nights` — the total number of nights;\n",
    "* `total_of_special_requests` — the number of special requests."
   ]
  },
  {
   "cell_type": "markdown",
   "metadata": {},
   "source": "## Preprocessing and exploratory data analysis"
  },
  {
   "cell_type": "markdown",
   "metadata": {},
   "source": "### Renaming features"
  },
  {
   "cell_type": "code",
   "execution_count": 6,
   "metadata": {},
   "outputs": [],
   "source": [
    "# Fix the error in the is_cancelled attribute name\n",
    "data_train = data_train.rename(columns={'is_canceled': 'is_cancelled'})\n",
    "data_test = data_test.rename(columns={'is_canceled': 'is_cancelled'})"
   ]
  },
  {
   "cell_type": "markdown",
   "metadata": {},
   "source": "### Search for duplicates"
  },
  {
   "cell_type": "markdown",
   "metadata": {},
   "source": "Let's check the datasets for obvious duplicates."
  },
  {
   "cell_type": "code",
   "execution_count": 7,
   "metadata": {
    "scrolled": true
   },
   "outputs": [
    {
     "data": {
      "text/plain": [
       "0"
      ]
     },
     "metadata": {},
     "output_type": "display_data"
    },
    {
     "data": {
      "text/plain": [
       "0"
      ]
     },
     "execution_count": 7,
     "metadata": {},
     "output_type": "execute_result"
    }
   ],
   "source": [
    "display(data_train.duplicated().sum())\n",
    "data_test.duplicated().sum()"
   ]
  },
  {
   "cell_type": "markdown",
   "metadata": {},
   "source": "There are no obvious duplicates."
  },
  {
   "cell_type": "markdown",
   "metadata": {},
   "source": "### Research of numerical features"
  },
  {
   "cell_type": "markdown",
   "metadata": {},
   "source": "#### Descriptive statistics"
  },
  {
   "cell_type": "code",
   "execution_count": 8,
   "metadata": {},
   "outputs": [
    {
     "data": {
      "text/html": [
       "<div>\n",
       "<style scoped>\n",
       "    .dataframe tbody tr th:only-of-type {\n",
       "        vertical-align: middle;\n",
       "    }\n",
       "\n",
       "    .dataframe tbody tr th {\n",
       "        vertical-align: top;\n",
       "    }\n",
       "\n",
       "    .dataframe thead th {\n",
       "        text-align: right;\n",
       "    }\n",
       "</style>\n",
       "<table border=\"1\" class=\"dataframe\">\n",
       "  <thead>\n",
       "    <tr style=\"text-align: right;\">\n",
       "      <th></th>\n",
       "      <th>id</th>\n",
       "      <th>is_cancelled</th>\n",
       "      <th>lead_time</th>\n",
       "      <th>arrival_date_year</th>\n",
       "      <th>arrival_date_week_number</th>\n",
       "      <th>arrival_date_day_of_month</th>\n",
       "      <th>stays_in_weekend_nights</th>\n",
       "      <th>stays_in_week_nights</th>\n",
       "      <th>adults</th>\n",
       "      <th>children</th>\n",
       "      <th>babies</th>\n",
       "      <th>is_repeated_guest</th>\n",
       "      <th>previous_cancellations</th>\n",
       "      <th>previous_bookings_not_canceled</th>\n",
       "      <th>booking_changes</th>\n",
       "      <th>days_in_waiting_list</th>\n",
       "      <th>required_car_parking_spaces</th>\n",
       "      <th>total_of_special_requests</th>\n",
       "      <th>total_nights</th>\n",
       "    </tr>\n",
       "  </thead>\n",
       "  <tbody>\n",
       "    <tr>\n",
       "      <th>count</th>\n",
       "      <td>65229.000000</td>\n",
       "      <td>65229.000000</td>\n",
       "      <td>65229.000000</td>\n",
       "      <td>65229.000000</td>\n",
       "      <td>65229.000000</td>\n",
       "      <td>65229.000000</td>\n",
       "      <td>65229.000000</td>\n",
       "      <td>65229.000000</td>\n",
       "      <td>65229.000000</td>\n",
       "      <td>65229.000000</td>\n",
       "      <td>65229.000000</td>\n",
       "      <td>65229.000000</td>\n",
       "      <td>65229.000000</td>\n",
       "      <td>65229.000000</td>\n",
       "      <td>65229.000000</td>\n",
       "      <td>65229.000000</td>\n",
       "      <td>65229.000000</td>\n",
       "      <td>65229.000000</td>\n",
       "      <td>65229.000000</td>\n",
       "    </tr>\n",
       "    <tr>\n",
       "      <th>mean</th>\n",
       "      <td>43544.069172</td>\n",
       "      <td>0.368609</td>\n",
       "      <td>96.337917</td>\n",
       "      <td>2015.719021</td>\n",
       "      <td>31.339772</td>\n",
       "      <td>15.847813</td>\n",
       "      <td>0.825185</td>\n",
       "      <td>2.224793</td>\n",
       "      <td>1.836576</td>\n",
       "      <td>0.074890</td>\n",
       "      <td>0.007236</td>\n",
       "      <td>0.027151</td>\n",
       "      <td>0.128915</td>\n",
       "      <td>0.107713</td>\n",
       "      <td>0.194269</td>\n",
       "      <td>3.334422</td>\n",
       "      <td>0.056647</td>\n",
       "      <td>0.512763</td>\n",
       "      <td>3.049978</td>\n",
       "    </tr>\n",
       "    <tr>\n",
       "      <th>std</th>\n",
       "      <td>25614.858971</td>\n",
       "      <td>0.482431</td>\n",
       "      <td>96.127545</td>\n",
       "      <td>0.449481</td>\n",
       "      <td>13.464024</td>\n",
       "      <td>8.748182</td>\n",
       "      <td>0.853477</td>\n",
       "      <td>1.354992</td>\n",
       "      <td>0.480245</td>\n",
       "      <td>0.334243</td>\n",
       "      <td>0.098790</td>\n",
       "      <td>0.162523</td>\n",
       "      <td>0.965326</td>\n",
       "      <td>1.326638</td>\n",
       "      <td>0.593838</td>\n",
       "      <td>18.239606</td>\n",
       "      <td>0.232094</td>\n",
       "      <td>0.752590</td>\n",
       "      <td>1.738108</td>\n",
       "    </tr>\n",
       "    <tr>\n",
       "      <th>min</th>\n",
       "      <td>0.000000</td>\n",
       "      <td>0.000000</td>\n",
       "      <td>0.000000</td>\n",
       "      <td>2015.000000</td>\n",
       "      <td>1.000000</td>\n",
       "      <td>1.000000</td>\n",
       "      <td>0.000000</td>\n",
       "      <td>0.000000</td>\n",
       "      <td>0.000000</td>\n",
       "      <td>0.000000</td>\n",
       "      <td>0.000000</td>\n",
       "      <td>0.000000</td>\n",
       "      <td>0.000000</td>\n",
       "      <td>0.000000</td>\n",
       "      <td>0.000000</td>\n",
       "      <td>0.000000</td>\n",
       "      <td>0.000000</td>\n",
       "      <td>0.000000</td>\n",
       "      <td>1.000000</td>\n",
       "    </tr>\n",
       "    <tr>\n",
       "      <th>25%</th>\n",
       "      <td>19108.000000</td>\n",
       "      <td>0.000000</td>\n",
       "      <td>17.000000</td>\n",
       "      <td>2015.000000</td>\n",
       "      <td>21.000000</td>\n",
       "      <td>8.000000</td>\n",
       "      <td>0.000000</td>\n",
       "      <td>1.000000</td>\n",
       "      <td>2.000000</td>\n",
       "      <td>0.000000</td>\n",
       "      <td>0.000000</td>\n",
       "      <td>0.000000</td>\n",
       "      <td>0.000000</td>\n",
       "      <td>0.000000</td>\n",
       "      <td>0.000000</td>\n",
       "      <td>0.000000</td>\n",
       "      <td>0.000000</td>\n",
       "      <td>0.000000</td>\n",
       "      <td>2.000000</td>\n",
       "    </tr>\n",
       "    <tr>\n",
       "      <th>50%</th>\n",
       "      <td>40554.000000</td>\n",
       "      <td>0.000000</td>\n",
       "      <td>64.000000</td>\n",
       "      <td>2016.000000</td>\n",
       "      <td>34.000000</td>\n",
       "      <td>16.000000</td>\n",
       "      <td>1.000000</td>\n",
       "      <td>2.000000</td>\n",
       "      <td>2.000000</td>\n",
       "      <td>0.000000</td>\n",
       "      <td>0.000000</td>\n",
       "      <td>0.000000</td>\n",
       "      <td>0.000000</td>\n",
       "      <td>0.000000</td>\n",
       "      <td>0.000000</td>\n",
       "      <td>0.000000</td>\n",
       "      <td>0.000000</td>\n",
       "      <td>0.000000</td>\n",
       "      <td>3.000000</td>\n",
       "    </tr>\n",
       "    <tr>\n",
       "      <th>75%</th>\n",
       "      <td>67414.000000</td>\n",
       "      <td>1.000000</td>\n",
       "      <td>151.000000</td>\n",
       "      <td>2016.000000</td>\n",
       "      <td>42.000000</td>\n",
       "      <td>23.000000</td>\n",
       "      <td>2.000000</td>\n",
       "      <td>3.000000</td>\n",
       "      <td>2.000000</td>\n",
       "      <td>0.000000</td>\n",
       "      <td>0.000000</td>\n",
       "      <td>0.000000</td>\n",
       "      <td>0.000000</td>\n",
       "      <td>0.000000</td>\n",
       "      <td>0.000000</td>\n",
       "      <td>0.000000</td>\n",
       "      <td>0.000000</td>\n",
       "      <td>1.000000</td>\n",
       "      <td>4.000000</td>\n",
       "    </tr>\n",
       "    <tr>\n",
       "      <th>max</th>\n",
       "      <td>84121.000000</td>\n",
       "      <td>1.000000</td>\n",
       "      <td>374.000000</td>\n",
       "      <td>2016.000000</td>\n",
       "      <td>53.000000</td>\n",
       "      <td>31.000000</td>\n",
       "      <td>4.000000</td>\n",
       "      <td>6.000000</td>\n",
       "      <td>4.000000</td>\n",
       "      <td>3.000000</td>\n",
       "      <td>10.000000</td>\n",
       "      <td>1.000000</td>\n",
       "      <td>26.000000</td>\n",
       "      <td>58.000000</td>\n",
       "      <td>17.000000</td>\n",
       "      <td>259.000000</td>\n",
       "      <td>3.000000</td>\n",
       "      <td>5.000000</td>\n",
       "      <td>10.000000</td>\n",
       "    </tr>\n",
       "  </tbody>\n",
       "</table>\n",
       "</div>"
      ],
      "text/plain": [
       "                 id  is_cancelled     lead_time  arrival_date_year  \\\n",
       "count  65229.000000  65229.000000  65229.000000       65229.000000   \n",
       "mean   43544.069172      0.368609     96.337917        2015.719021   \n",
       "std    25614.858971      0.482431     96.127545           0.449481   \n",
       "min        0.000000      0.000000      0.000000        2015.000000   \n",
       "25%    19108.000000      0.000000     17.000000        2015.000000   \n",
       "50%    40554.000000      0.000000     64.000000        2016.000000   \n",
       "75%    67414.000000      1.000000    151.000000        2016.000000   \n",
       "max    84121.000000      1.000000    374.000000        2016.000000   \n",
       "\n",
       "       arrival_date_week_number  arrival_date_day_of_month  \\\n",
       "count              65229.000000               65229.000000   \n",
       "mean                  31.339772                  15.847813   \n",
       "std                   13.464024                   8.748182   \n",
       "min                    1.000000                   1.000000   \n",
       "25%                   21.000000                   8.000000   \n",
       "50%                   34.000000                  16.000000   \n",
       "75%                   42.000000                  23.000000   \n",
       "max                   53.000000                  31.000000   \n",
       "\n",
       "       stays_in_weekend_nights  stays_in_week_nights        adults  \\\n",
       "count             65229.000000          65229.000000  65229.000000   \n",
       "mean                  0.825185              2.224793      1.836576   \n",
       "std                   0.853477              1.354992      0.480245   \n",
       "min                   0.000000              0.000000      0.000000   \n",
       "25%                   0.000000              1.000000      2.000000   \n",
       "50%                   1.000000              2.000000      2.000000   \n",
       "75%                   2.000000              3.000000      2.000000   \n",
       "max                   4.000000              6.000000      4.000000   \n",
       "\n",
       "           children        babies  is_repeated_guest  previous_cancellations  \\\n",
       "count  65229.000000  65229.000000       65229.000000            65229.000000   \n",
       "mean       0.074890      0.007236           0.027151                0.128915   \n",
       "std        0.334243      0.098790           0.162523                0.965326   \n",
       "min        0.000000      0.000000           0.000000                0.000000   \n",
       "25%        0.000000      0.000000           0.000000                0.000000   \n",
       "50%        0.000000      0.000000           0.000000                0.000000   \n",
       "75%        0.000000      0.000000           0.000000                0.000000   \n",
       "max        3.000000     10.000000           1.000000               26.000000   \n",
       "\n",
       "       previous_bookings_not_canceled  booking_changes  days_in_waiting_list  \\\n",
       "count                    65229.000000     65229.000000          65229.000000   \n",
       "mean                         0.107713         0.194269              3.334422   \n",
       "std                          1.326638         0.593838             18.239606   \n",
       "min                          0.000000         0.000000              0.000000   \n",
       "25%                          0.000000         0.000000              0.000000   \n",
       "50%                          0.000000         0.000000              0.000000   \n",
       "75%                          0.000000         0.000000              0.000000   \n",
       "max                         58.000000        17.000000            259.000000   \n",
       "\n",
       "       required_car_parking_spaces  total_of_special_requests  total_nights  \n",
       "count                 65229.000000               65229.000000  65229.000000  \n",
       "mean                      0.056647                   0.512763      3.049978  \n",
       "std                       0.232094                   0.752590      1.738108  \n",
       "min                       0.000000                   0.000000      1.000000  \n",
       "25%                       0.000000                   0.000000      2.000000  \n",
       "50%                       0.000000                   0.000000      3.000000  \n",
       "75%                       0.000000                   1.000000      4.000000  \n",
       "max                       3.000000                   5.000000     10.000000  "
      ]
     },
     "execution_count": 8,
     "metadata": {},
     "output_type": "execute_result"
    }
   ],
   "source": [
    "data_train.describe()"
   ]
  },
  {
   "cell_type": "code",
   "execution_count": 9,
   "metadata": {},
   "outputs": [
    {
     "data": {
      "text/html": [
       "<div>\n",
       "<style scoped>\n",
       "    .dataframe tbody tr th:only-of-type {\n",
       "        vertical-align: middle;\n",
       "    }\n",
       "\n",
       "    .dataframe tbody tr th {\n",
       "        vertical-align: top;\n",
       "    }\n",
       "\n",
       "    .dataframe thead th {\n",
       "        text-align: right;\n",
       "    }\n",
       "</style>\n",
       "<table border=\"1\" class=\"dataframe\">\n",
       "  <thead>\n",
       "    <tr style=\"text-align: right;\">\n",
       "      <th></th>\n",
       "      <th>id</th>\n",
       "      <th>is_cancelled</th>\n",
       "      <th>lead_time</th>\n",
       "      <th>arrival_date_year</th>\n",
       "      <th>arrival_date_week_number</th>\n",
       "      <th>arrival_date_day_of_month</th>\n",
       "      <th>stays_in_weekend_nights</th>\n",
       "      <th>stays_in_week_nights</th>\n",
       "      <th>adults</th>\n",
       "      <th>children</th>\n",
       "      <th>babies</th>\n",
       "      <th>is_repeated_guest</th>\n",
       "      <th>previous_cancellations</th>\n",
       "      <th>previous_bookings_not_canceled</th>\n",
       "      <th>booking_changes</th>\n",
       "      <th>days_in_waiting_list</th>\n",
       "      <th>required_car_parking_spaces</th>\n",
       "      <th>total_of_special_requests</th>\n",
       "      <th>total_nights</th>\n",
       "    </tr>\n",
       "  </thead>\n",
       "  <tbody>\n",
       "    <tr>\n",
       "      <th>count</th>\n",
       "      <td>32412.000000</td>\n",
       "      <td>32412.000000</td>\n",
       "      <td>32412.000000</td>\n",
       "      <td>32412.0</td>\n",
       "      <td>32412.000000</td>\n",
       "      <td>32412.000000</td>\n",
       "      <td>32412.000000</td>\n",
       "      <td>32412.00000</td>\n",
       "      <td>32412.000000</td>\n",
       "      <td>32412.000000</td>\n",
       "      <td>32412.000000</td>\n",
       "      <td>32412.000000</td>\n",
       "      <td>32412.000000</td>\n",
       "      <td>32412.000000</td>\n",
       "      <td>32412.000000</td>\n",
       "      <td>32412.000000</td>\n",
       "      <td>32412.000000</td>\n",
       "      <td>32412.000000</td>\n",
       "      <td>32412.000000</td>\n",
       "    </tr>\n",
       "    <tr>\n",
       "      <th>mean</th>\n",
       "      <td>60131.505183</td>\n",
       "      <td>0.388467</td>\n",
       "      <td>97.587869</td>\n",
       "      <td>2017.0</td>\n",
       "      <td>17.804054</td>\n",
       "      <td>15.656948</td>\n",
       "      <td>0.867888</td>\n",
       "      <td>2.34009</td>\n",
       "      <td>1.858602</td>\n",
       "      <td>0.083765</td>\n",
       "      <td>0.005523</td>\n",
       "      <td>0.031377</td>\n",
       "      <td>0.011601</td>\n",
       "      <td>0.171418</td>\n",
       "      <td>0.216741</td>\n",
       "      <td>0.262341</td>\n",
       "      <td>0.046248</td>\n",
       "      <td>0.657781</td>\n",
       "      <td>3.207979</td>\n",
       "    </tr>\n",
       "    <tr>\n",
       "      <th>std</th>\n",
       "      <td>29953.586177</td>\n",
       "      <td>0.487409</td>\n",
       "      <td>86.507146</td>\n",
       "      <td>0.0</td>\n",
       "      <td>9.177384</td>\n",
       "      <td>8.766429</td>\n",
       "      <td>0.853394</td>\n",
       "      <td>1.37517</td>\n",
       "      <td>0.489341</td>\n",
       "      <td>0.343470</td>\n",
       "      <td>0.075757</td>\n",
       "      <td>0.174338</td>\n",
       "      <td>0.180473</td>\n",
       "      <td>1.875170</td>\n",
       "      <td>0.640551</td>\n",
       "      <td>4.733027</td>\n",
       "      <td>0.219367</td>\n",
       "      <td>0.834341</td>\n",
       "      <td>1.738683</td>\n",
       "    </tr>\n",
       "    <tr>\n",
       "      <th>min</th>\n",
       "      <td>6086.000000</td>\n",
       "      <td>0.000000</td>\n",
       "      <td>0.000000</td>\n",
       "      <td>2017.0</td>\n",
       "      <td>1.000000</td>\n",
       "      <td>1.000000</td>\n",
       "      <td>0.000000</td>\n",
       "      <td>0.00000</td>\n",
       "      <td>0.000000</td>\n",
       "      <td>0.000000</td>\n",
       "      <td>0.000000</td>\n",
       "      <td>0.000000</td>\n",
       "      <td>0.000000</td>\n",
       "      <td>0.000000</td>\n",
       "      <td>0.000000</td>\n",
       "      <td>0.000000</td>\n",
       "      <td>0.000000</td>\n",
       "      <td>0.000000</td>\n",
       "      <td>1.000000</td>\n",
       "    </tr>\n",
       "    <tr>\n",
       "      <th>25%</th>\n",
       "      <td>45291.750000</td>\n",
       "      <td>0.000000</td>\n",
       "      <td>23.000000</td>\n",
       "      <td>2017.0</td>\n",
       "      <td>10.000000</td>\n",
       "      <td>8.000000</td>\n",
       "      <td>0.000000</td>\n",
       "      <td>1.00000</td>\n",
       "      <td>2.000000</td>\n",
       "      <td>0.000000</td>\n",
       "      <td>0.000000</td>\n",
       "      <td>0.000000</td>\n",
       "      <td>0.000000</td>\n",
       "      <td>0.000000</td>\n",
       "      <td>0.000000</td>\n",
       "      <td>0.000000</td>\n",
       "      <td>0.000000</td>\n",
       "      <td>0.000000</td>\n",
       "      <td>2.000000</td>\n",
       "    </tr>\n",
       "    <tr>\n",
       "      <th>50%</th>\n",
       "      <td>53394.500000</td>\n",
       "      <td>0.000000</td>\n",
       "      <td>76.000000</td>\n",
       "      <td>2017.0</td>\n",
       "      <td>18.000000</td>\n",
       "      <td>15.500000</td>\n",
       "      <td>1.000000</td>\n",
       "      <td>2.00000</td>\n",
       "      <td>2.000000</td>\n",
       "      <td>0.000000</td>\n",
       "      <td>0.000000</td>\n",
       "      <td>0.000000</td>\n",
       "      <td>0.000000</td>\n",
       "      <td>0.000000</td>\n",
       "      <td>0.000000</td>\n",
       "      <td>0.000000</td>\n",
       "      <td>0.000000</td>\n",
       "      <td>0.000000</td>\n",
       "      <td>3.000000</td>\n",
       "    </tr>\n",
       "    <tr>\n",
       "      <th>75%</th>\n",
       "      <td>89800.250000</td>\n",
       "      <td>1.000000</td>\n",
       "      <td>155.000000</td>\n",
       "      <td>2017.0</td>\n",
       "      <td>25.000000</td>\n",
       "      <td>23.000000</td>\n",
       "      <td>2.000000</td>\n",
       "      <td>3.00000</td>\n",
       "      <td>2.000000</td>\n",
       "      <td>0.000000</td>\n",
       "      <td>0.000000</td>\n",
       "      <td>0.000000</td>\n",
       "      <td>0.000000</td>\n",
       "      <td>0.000000</td>\n",
       "      <td>0.000000</td>\n",
       "      <td>0.000000</td>\n",
       "      <td>0.000000</td>\n",
       "      <td>1.000000</td>\n",
       "      <td>4.000000</td>\n",
       "    </tr>\n",
       "    <tr>\n",
       "      <th>max</th>\n",
       "      <td>97903.000000</td>\n",
       "      <td>1.000000</td>\n",
       "      <td>373.000000</td>\n",
       "      <td>2017.0</td>\n",
       "      <td>35.000000</td>\n",
       "      <td>31.000000</td>\n",
       "      <td>4.000000</td>\n",
       "      <td>6.00000</td>\n",
       "      <td>4.000000</td>\n",
       "      <td>3.000000</td>\n",
       "      <td>2.000000</td>\n",
       "      <td>1.000000</td>\n",
       "      <td>6.000000</td>\n",
       "      <td>72.000000</td>\n",
       "      <td>18.000000</td>\n",
       "      <td>223.000000</td>\n",
       "      <td>8.000000</td>\n",
       "      <td>5.000000</td>\n",
       "      <td>10.000000</td>\n",
       "    </tr>\n",
       "  </tbody>\n",
       "</table>\n",
       "</div>"
      ],
      "text/plain": [
       "                 id  is_cancelled     lead_time  arrival_date_year  \\\n",
       "count  32412.000000  32412.000000  32412.000000            32412.0   \n",
       "mean   60131.505183      0.388467     97.587869             2017.0   \n",
       "std    29953.586177      0.487409     86.507146                0.0   \n",
       "min     6086.000000      0.000000      0.000000             2017.0   \n",
       "25%    45291.750000      0.000000     23.000000             2017.0   \n",
       "50%    53394.500000      0.000000     76.000000             2017.0   \n",
       "75%    89800.250000      1.000000    155.000000             2017.0   \n",
       "max    97903.000000      1.000000    373.000000             2017.0   \n",
       "\n",
       "       arrival_date_week_number  arrival_date_day_of_month  \\\n",
       "count              32412.000000               32412.000000   \n",
       "mean                  17.804054                  15.656948   \n",
       "std                    9.177384                   8.766429   \n",
       "min                    1.000000                   1.000000   \n",
       "25%                   10.000000                   8.000000   \n",
       "50%                   18.000000                  15.500000   \n",
       "75%                   25.000000                  23.000000   \n",
       "max                   35.000000                  31.000000   \n",
       "\n",
       "       stays_in_weekend_nights  stays_in_week_nights        adults  \\\n",
       "count             32412.000000           32412.00000  32412.000000   \n",
       "mean                  0.867888               2.34009      1.858602   \n",
       "std                   0.853394               1.37517      0.489341   \n",
       "min                   0.000000               0.00000      0.000000   \n",
       "25%                   0.000000               1.00000      2.000000   \n",
       "50%                   1.000000               2.00000      2.000000   \n",
       "75%                   2.000000               3.00000      2.000000   \n",
       "max                   4.000000               6.00000      4.000000   \n",
       "\n",
       "           children        babies  is_repeated_guest  previous_cancellations  \\\n",
       "count  32412.000000  32412.000000       32412.000000            32412.000000   \n",
       "mean       0.083765      0.005523           0.031377                0.011601   \n",
       "std        0.343470      0.075757           0.174338                0.180473   \n",
       "min        0.000000      0.000000           0.000000                0.000000   \n",
       "25%        0.000000      0.000000           0.000000                0.000000   \n",
       "50%        0.000000      0.000000           0.000000                0.000000   \n",
       "75%        0.000000      0.000000           0.000000                0.000000   \n",
       "max        3.000000      2.000000           1.000000                6.000000   \n",
       "\n",
       "       previous_bookings_not_canceled  booking_changes  days_in_waiting_list  \\\n",
       "count                    32412.000000     32412.000000          32412.000000   \n",
       "mean                         0.171418         0.216741              0.262341   \n",
       "std                          1.875170         0.640551              4.733027   \n",
       "min                          0.000000         0.000000              0.000000   \n",
       "25%                          0.000000         0.000000              0.000000   \n",
       "50%                          0.000000         0.000000              0.000000   \n",
       "75%                          0.000000         0.000000              0.000000   \n",
       "max                         72.000000        18.000000            223.000000   \n",
       "\n",
       "       required_car_parking_spaces  total_of_special_requests  total_nights  \n",
       "count                 32412.000000               32412.000000  32412.000000  \n",
       "mean                      0.046248                   0.657781      3.207979  \n",
       "std                       0.219367                   0.834341      1.738683  \n",
       "min                       0.000000                   0.000000      1.000000  \n",
       "25%                       0.000000                   0.000000      2.000000  \n",
       "50%                       0.000000                   0.000000      3.000000  \n",
       "75%                       0.000000                   1.000000      4.000000  \n",
       "max                       8.000000                   5.000000     10.000000  "
      ]
     },
     "execution_count": 9,
     "metadata": {},
     "output_type": "execute_result"
    }
   ],
   "source": [
    "data_test.describe()"
   ]
  },
  {
   "cell_type": "markdown",
   "metadata": {},
   "source": "Let's evaluate each numerical feature in our datasets using descriptive statistics:"
  },
  {
   "cell_type": "markdown",
   "metadata": {},
   "source": [
    "1. `id` is the `id` of the hotel database record. We won't need it, so we'll delete it.\n",
    "2. `is_cancelled` is an important Boolean attribute indicating whether the reservation was canceled. This attribute is also the target.\n",
    "3. `lead_time` is a fairly large maximum value. Did someone book more than a year in advance? Looks like an outlier. We'll probably discard the top few percent from the dataset as outliers. On the other hand, some legal entities could have booked a room more than a year in advance.\n",
    "4. `arrival_date_year` is the year of arrival. In the training dataset, we have 2015-2016. In the test dataset, it's 2017. It might be worth removing. These values could only confuse our models during training. Alternatively, we could make these values categorical.\n",
    "5. `arrival_date_week_number` is the week of arrival. Essentially, we have a peculiar categorical variable here. We need to think about the best course of action here.\n",
    "6. `arrival_date_day_of_month` - arrival day. Also, a categorical variable indicating the arrival day within a month.\n",
    "7. `stays_in_weekend_nights`, `stays_in_week_nights` - number of nights on weekends and weekdays. There are no problems with the data.\n",
    "8. `adults`, `children` - number of guests of different categories. No problems were noted in the descriptive statistics.\n",
    "8. `babies` - there is a fairly large outlier. We'll check.\n",
    "9. `is_repeated_guest` - Boolean feature. It could be useful for machine learning. No problems, we'll keep it.\n",
    "10. `previous_cancellations` - number of canceled reservations. An important feature. There are no problems with the data.\n",
    "11. `previous_bookings_not_canceled` - the number of confirmed bookings. 72 confirmed bookings at most - these are likely bookings from some organization. We don't consider them an outlier.\n",
    "12. `booking_changes` - the number of booking changes. The maximum is 18, but why not?\n",
    "13. `days_in_waiting_list` - \"how many days the booking was waiting for confirmation.\" It's not entirely clear what this means. At most, 223 days, was the booking waiting for confirmation from the hotel? Or from the client? Looks like an outlier that should be discarded.\n",
    "13. `required_car_parking_spaces` - the number of parking spaces. The maximum is 8. Why not? After all, the rooms could have been rented by a legal entity for a large number of employees at once. Let's check that.\n",
    "14. `total_of_special_requests` - the number of special requests. Whatever that means. The maximum is 5. We'll leave it as is.\n",
    "15. `total_nights` - the total number of nights. There are no data issues here."
   ]
  },
  {
   "cell_type": "markdown",
   "metadata": {},
   "source": [
    "##### required_car_parking_spaces"
   ]
  },
  {
   "cell_type": "markdown",
   "metadata": {},
   "source": "Let's check the number of parking spaces along with the number of adults."
  },
  {
   "cell_type": "code",
   "execution_count": 10,
   "metadata": {},
   "outputs": [
    {
     "data": {
      "text/plain": [
       "0    61547\n",
       "1     3670\n",
       "2       11\n",
       "3        1\n",
       "Name: required_car_parking_spaces, dtype: int64"
      ]
     },
     "metadata": {},
     "output_type": "display_data"
    },
    {
     "data": {
      "text/plain": [
       "0    30935\n",
       "1     1468\n",
       "2        6\n",
       "8        2\n",
       "3        1\n",
       "Name: required_car_parking_spaces, dtype: int64"
      ]
     },
     "execution_count": 10,
     "metadata": {},
     "output_type": "execute_result"
    }
   ],
   "source": [
    "display(data_train.required_car_parking_spaces.value_counts())\n",
    "data_test.required_car_parking_spaces.value_counts()"
   ]
  },
  {
   "cell_type": "code",
   "execution_count": 11,
   "metadata": {},
   "outputs": [
    {
     "data": {
      "text/plain": [
       "64080    1.0\n",
       "Name: adults, dtype: float64"
      ]
     },
     "metadata": {},
     "output_type": "display_data"
    },
    {
     "data": {
      "text/plain": [
       "2549    2.0\n",
       "2550    2.0\n",
       "Name: adults, dtype: float64"
      ]
     },
     "metadata": {},
     "output_type": "display_data"
    },
    {
     "data": {
      "text/plain": [
       "25031    2.0\n",
       "Name: adults, dtype: float64"
      ]
     },
     "execution_count": 11,
     "metadata": {},
     "output_type": "execute_result"
    }
   ],
   "source": [
    "display(data_train.query('required_car_parking_spaces == 3').adults)\n",
    "display(data_test.query('required_car_parking_spaces == 8').adults)\n",
    "data_test.query('required_car_parking_spaces == 3').adults"
   ]
  },
  {
   "cell_type": "markdown",
   "metadata": {},
   "source": "Clearly an error. We will delete these records."
  },
  {
   "cell_type": "code",
   "execution_count": 12,
   "metadata": {},
   "outputs": [
    {
     "data": {
      "text/plain": [
       "0    61547\n",
       "1     3670\n",
       "2       11\n",
       "Name: required_car_parking_spaces, dtype: int64"
      ]
     },
     "metadata": {},
     "output_type": "display_data"
    },
    {
     "data": {
      "text/plain": [
       "0    30935\n",
       "1     1468\n",
       "2        6\n",
       "Name: required_car_parking_spaces, dtype: int64"
      ]
     },
     "execution_count": 12,
     "metadata": {},
     "output_type": "execute_result"
    }
   ],
   "source": [
    "data_train = data_train.drop(index=[64080]).reset_index(drop=True)\n",
    "data_test = data_test.drop(index=[2549, 2550, 25031]).reset_index(drop=True)\n",
    "\n",
    "display(data_train.required_car_parking_spaces.value_counts())\n",
    "data_test.required_car_parking_spaces.value_counts()"
   ]
  },
  {
   "cell_type": "markdown",
   "metadata": {},
   "source": [
    "##### adults"
   ]
  },
  {
   "cell_type": "markdown",
   "metadata": {},
   "source": "Now let's check if there are any bookings without adults. If so, we'll consider them an anomaly and delete them."
  },
  {
   "cell_type": "code",
   "execution_count": 13,
   "metadata": {},
   "outputs": [
    {
     "data": {
      "text/plain": [
       "166"
      ]
     },
     "metadata": {},
     "output_type": "display_data"
    },
    {
     "data": {
      "text/plain": [
       "69"
      ]
     },
     "execution_count": 13,
     "metadata": {},
     "output_type": "execute_result"
    }
   ],
   "source": [
    "display(data_train.query('adults == 0').id.count())\n",
    "data_test.query('adults == 0').id.count()"
   ]
  },
  {
   "cell_type": "code",
   "execution_count": 14,
   "metadata": {},
   "outputs": [
    {
     "data": {
      "text/plain": [
       "0"
      ]
     },
     "metadata": {},
     "output_type": "display_data"
    },
    {
     "data": {
      "text/plain": [
       "0"
      ]
     },
     "execution_count": 14,
     "metadata": {},
     "output_type": "execute_result"
    }
   ],
   "source": [
    "data_train = data_train.query('adults != 0')\n",
    "data_test = data_test.query('adults != 0')\n",
    "\n",
    "display(data_train.query('adults == 0').id.count())\n",
    "data_test.query('adults == 0').id.count()"
   ]
  },
  {
   "cell_type": "markdown",
   "metadata": {},
   "source": [
    "##### babies"
   ]
  },
  {
   "cell_type": "code",
   "execution_count": 15,
   "metadata": {},
   "outputs": [
    {
     "data": {
      "text/plain": [
       "0.0     64613\n",
       "1.0       444\n",
       "2.0         3\n",
       "9.0         1\n",
       "10.0        1\n",
       "Name: babies, dtype: int64"
      ]
     },
     "metadata": {},
     "output_type": "display_data"
    },
    {
     "data": {
      "text/plain": [
       "0.0    32165\n",
       "1.0      171\n",
       "2.0        4\n",
       "Name: babies, dtype: int64"
      ]
     },
     "execution_count": 15,
     "metadata": {},
     "output_type": "execute_result"
    }
   ],
   "source": [
    "display(data_train.babies.value_counts())\n",
    "data_test.babies.value_counts()"
   ]
  },
  {
   "cell_type": "markdown",
   "metadata": {},
   "source": "The training set contains two records with 9 and 10 infants. We have a maximum of 4 adults in the dataset. This is an anomaly; we'll remove the records with 9 and 10 infants."
  },
  {
   "cell_type": "code",
   "execution_count": 16,
   "metadata": {},
   "outputs": [
    {
     "data": {
      "text/plain": [
       "0.0    64613\n",
       "1.0      444\n",
       "2.0        3\n",
       "Name: babies, dtype: int64"
      ]
     },
     "execution_count": 16,
     "metadata": {},
     "output_type": "execute_result"
    }
   ],
   "source": [
    "data_train = data_train.query('babies < 9')\n",
    "data_train.babies.value_counts()"
   ]
  },
  {
   "cell_type": "markdown",
   "metadata": {},
   "source": "#### Correlation research"
  },
  {
   "cell_type": "markdown",
   "metadata": {},
   "source": "Now let's look at the correlation tables"
  },
  {
   "cell_type": "code",
   "execution_count": 17,
   "metadata": {},
   "outputs": [
    {
     "data": {
      "text/html": [
       "<div>\n",
       "<style scoped>\n",
       "    .dataframe tbody tr th:only-of-type {\n",
       "        vertical-align: middle;\n",
       "    }\n",
       "\n",
       "    .dataframe tbody tr th {\n",
       "        vertical-align: top;\n",
       "    }\n",
       "\n",
       "    .dataframe thead th {\n",
       "        text-align: right;\n",
       "    }\n",
       "</style>\n",
       "<table border=\"1\" class=\"dataframe\">\n",
       "  <thead>\n",
       "    <tr style=\"text-align: right;\">\n",
       "      <th></th>\n",
       "      <th>id</th>\n",
       "      <th>is_cancelled</th>\n",
       "      <th>lead_time</th>\n",
       "      <th>arrival_date_year</th>\n",
       "      <th>arrival_date_week_number</th>\n",
       "      <th>arrival_date_day_of_month</th>\n",
       "      <th>stays_in_weekend_nights</th>\n",
       "      <th>stays_in_week_nights</th>\n",
       "      <th>adults</th>\n",
       "      <th>children</th>\n",
       "      <th>babies</th>\n",
       "      <th>is_repeated_guest</th>\n",
       "      <th>previous_cancellations</th>\n",
       "      <th>previous_bookings_not_canceled</th>\n",
       "      <th>booking_changes</th>\n",
       "      <th>days_in_waiting_list</th>\n",
       "      <th>required_car_parking_spaces</th>\n",
       "      <th>total_of_special_requests</th>\n",
       "      <th>total_nights</th>\n",
       "    </tr>\n",
       "  </thead>\n",
       "  <tbody>\n",
       "    <tr>\n",
       "      <th>id</th>\n",
       "      <td>1.000000</td>\n",
       "      <td>-0.241241</td>\n",
       "      <td>0.004529</td>\n",
       "      <td>0.249033</td>\n",
       "      <td>0.069610</td>\n",
       "      <td>0.008732</td>\n",
       "      <td>-0.094532</td>\n",
       "      <td>-0.157889</td>\n",
       "      <td>0.006594</td>\n",
       "      <td>0.001936</td>\n",
       "      <td>-0.028470</td>\n",
       "      <td>0.002935</td>\n",
       "      <td>-0.003709</td>\n",
       "      <td>0.016699</td>\n",
       "      <td>-0.002945</td>\n",
       "      <td>-0.023327</td>\n",
       "      <td>-0.114907</td>\n",
       "      <td>0.123463</td>\n",
       "      <td>-0.169504</td>\n",
       "    </tr>\n",
       "    <tr>\n",
       "      <th>is_cancelled</th>\n",
       "      <td>-0.241241</td>\n",
       "      <td>1.000000</td>\n",
       "      <td>0.328589</td>\n",
       "      <td>-0.030691</td>\n",
       "      <td>0.012768</td>\n",
       "      <td>-0.001825</td>\n",
       "      <td>-0.013850</td>\n",
       "      <td>0.010420</td>\n",
       "      <td>0.044399</td>\n",
       "      <td>-0.017196</td>\n",
       "      <td>-0.032445</td>\n",
       "      <td>-0.040305</td>\n",
       "      <td>0.153125</td>\n",
       "      <td>-0.045639</td>\n",
       "      <td>-0.142723</td>\n",
       "      <td>0.075857</td>\n",
       "      <td>-0.186855</td>\n",
       "      <td>-0.257144</td>\n",
       "      <td>0.001326</td>\n",
       "    </tr>\n",
       "    <tr>\n",
       "      <th>lead_time</th>\n",
       "      <td>0.004529</td>\n",
       "      <td>0.328589</td>\n",
       "      <td>1.000000</td>\n",
       "      <td>-0.023274</td>\n",
       "      <td>0.091303</td>\n",
       "      <td>-0.010770</td>\n",
       "      <td>0.046920</td>\n",
       "      <td>0.172660</td>\n",
       "      <td>0.121804</td>\n",
       "      <td>-0.058760</td>\n",
       "      <td>-0.026173</td>\n",
       "      <td>-0.089441</td>\n",
       "      <td>0.142552</td>\n",
       "      <td>-0.061735</td>\n",
       "      <td>-0.007377</td>\n",
       "      <td>0.209902</td>\n",
       "      <td>-0.116883</td>\n",
       "      <td>-0.147972</td>\n",
       "      <td>0.157648</td>\n",
       "    </tr>\n",
       "    <tr>\n",
       "      <th>arrival_date_year</th>\n",
       "      <td>0.249033</td>\n",
       "      <td>-0.030691</td>\n",
       "      <td>-0.023274</td>\n",
       "      <td>1.000000</td>\n",
       "      <td>-0.388259</td>\n",
       "      <td>0.009666</td>\n",
       "      <td>-0.006701</td>\n",
       "      <td>0.013444</td>\n",
       "      <td>0.034142</td>\n",
       "      <td>0.048739</td>\n",
       "      <td>-0.006688</td>\n",
       "      <td>-0.005621</td>\n",
       "      <td>-0.133987</td>\n",
       "      <td>0.040279</td>\n",
       "      <td>0.040970</td>\n",
       "      <td>0.027455</td>\n",
       "      <td>0.014982</td>\n",
       "      <td>0.089268</td>\n",
       "      <td>0.007192</td>\n",
       "    </tr>\n",
       "    <tr>\n",
       "      <th>arrival_date_week_number</th>\n",
       "      <td>0.069610</td>\n",
       "      <td>0.012768</td>\n",
       "      <td>0.091303</td>\n",
       "      <td>-0.388259</td>\n",
       "      <td>1.000000</td>\n",
       "      <td>0.048057</td>\n",
       "      <td>0.034088</td>\n",
       "      <td>0.032473</td>\n",
       "      <td>0.004840</td>\n",
       "      <td>-0.005873</td>\n",
       "      <td>0.006797</td>\n",
       "      <td>-0.013663</td>\n",
       "      <td>0.006869</td>\n",
       "      <td>-0.011970</td>\n",
       "      <td>0.011738</td>\n",
       "      <td>-0.053109</td>\n",
       "      <td>-0.007890</td>\n",
       "      <td>0.076323</td>\n",
       "      <td>0.042051</td>\n",
       "    </tr>\n",
       "    <tr>\n",
       "      <th>arrival_date_day_of_month</th>\n",
       "      <td>0.008732</td>\n",
       "      <td>-0.001825</td>\n",
       "      <td>-0.010770</td>\n",
       "      <td>0.009666</td>\n",
       "      <td>0.048057</td>\n",
       "      <td>1.000000</td>\n",
       "      <td>-0.002250</td>\n",
       "      <td>0.003509</td>\n",
       "      <td>0.007526</td>\n",
       "      <td>0.017100</td>\n",
       "      <td>0.001427</td>\n",
       "      <td>-0.010720</td>\n",
       "      <td>-0.032032</td>\n",
       "      <td>-0.000967</td>\n",
       "      <td>0.022663</td>\n",
       "      <td>0.017153</td>\n",
       "      <td>0.004204</td>\n",
       "      <td>0.005445</td>\n",
       "      <td>0.001631</td>\n",
       "    </tr>\n",
       "    <tr>\n",
       "      <th>stays_in_weekend_nights</th>\n",
       "      <td>-0.094532</td>\n",
       "      <td>-0.013850</td>\n",
       "      <td>0.046920</td>\n",
       "      <td>-0.006701</td>\n",
       "      <td>0.034088</td>\n",
       "      <td>-0.002250</td>\n",
       "      <td>1.000000</td>\n",
       "      <td>0.197475</td>\n",
       "      <td>0.121046</td>\n",
       "      <td>0.025612</td>\n",
       "      <td>0.022206</td>\n",
       "      <td>-0.082025</td>\n",
       "      <td>-0.008677</td>\n",
       "      <td>-0.025560</td>\n",
       "      <td>0.022586</td>\n",
       "      <td>-0.065175</td>\n",
       "      <td>-0.015787</td>\n",
       "      <td>0.083488</td>\n",
       "      <td>0.644861</td>\n",
       "    </tr>\n",
       "    <tr>\n",
       "      <th>stays_in_week_nights</th>\n",
       "      <td>-0.157889</td>\n",
       "      <td>0.010420</td>\n",
       "      <td>0.172660</td>\n",
       "      <td>0.013444</td>\n",
       "      <td>0.032473</td>\n",
       "      <td>0.003509</td>\n",
       "      <td>0.197475</td>\n",
       "      <td>1.000000</td>\n",
       "      <td>0.123807</td>\n",
       "      <td>0.023525</td>\n",
       "      <td>0.023524</td>\n",
       "      <td>-0.094674</td>\n",
       "      <td>-0.006067</td>\n",
       "      <td>-0.049211</td>\n",
       "      <td>0.060859</td>\n",
       "      <td>0.036142</td>\n",
       "      <td>-0.026625</td>\n",
       "      <td>0.090502</td>\n",
       "      <td>0.876593</td>\n",
       "    </tr>\n",
       "    <tr>\n",
       "      <th>adults</th>\n",
       "      <td>0.006594</td>\n",
       "      <td>0.044399</td>\n",
       "      <td>0.121804</td>\n",
       "      <td>0.034142</td>\n",
       "      <td>0.004840</td>\n",
       "      <td>0.007526</td>\n",
       "      <td>0.121046</td>\n",
       "      <td>0.123807</td>\n",
       "      <td>1.000000</td>\n",
       "      <td>0.051848</td>\n",
       "      <td>0.027499</td>\n",
       "      <td>-0.161427</td>\n",
       "      <td>0.001870</td>\n",
       "      <td>-0.118341</td>\n",
       "      <td>-0.052453</td>\n",
       "      <td>-0.015562</td>\n",
       "      <td>0.012027</td>\n",
       "      <td>0.180766</td>\n",
       "      <td>0.155948</td>\n",
       "    </tr>\n",
       "    <tr>\n",
       "      <th>children</th>\n",
       "      <td>0.001936</td>\n",
       "      <td>-0.017196</td>\n",
       "      <td>-0.058760</td>\n",
       "      <td>0.048739</td>\n",
       "      <td>-0.005873</td>\n",
       "      <td>0.017100</td>\n",
       "      <td>0.025612</td>\n",
       "      <td>0.023525</td>\n",
       "      <td>0.051848</td>\n",
       "      <td>1.000000</td>\n",
       "      <td>0.021448</td>\n",
       "      <td>-0.025487</td>\n",
       "      <td>-0.026749</td>\n",
       "      <td>-0.015340</td>\n",
       "      <td>0.051918</td>\n",
       "      <td>-0.037703</td>\n",
       "      <td>0.053163</td>\n",
       "      <td>0.109980</td>\n",
       "      <td>0.030914</td>\n",
       "    </tr>\n",
       "    <tr>\n",
       "      <th>babies</th>\n",
       "      <td>-0.028470</td>\n",
       "      <td>-0.032445</td>\n",
       "      <td>-0.026173</td>\n",
       "      <td>-0.006688</td>\n",
       "      <td>0.006797</td>\n",
       "      <td>0.001427</td>\n",
       "      <td>0.022206</td>\n",
       "      <td>0.023524</td>\n",
       "      <td>0.027499</td>\n",
       "      <td>0.021448</td>\n",
       "      <td>1.000000</td>\n",
       "      <td>-0.012731</td>\n",
       "      <td>-0.009750</td>\n",
       "      <td>-0.006739</td>\n",
       "      <td>0.086157</td>\n",
       "      <td>-0.015176</td>\n",
       "      <td>0.036902</td>\n",
       "      <td>0.116791</td>\n",
       "      <td>0.029241</td>\n",
       "    </tr>\n",
       "    <tr>\n",
       "      <th>is_repeated_guest</th>\n",
       "      <td>0.002935</td>\n",
       "      <td>-0.040305</td>\n",
       "      <td>-0.089441</td>\n",
       "      <td>-0.005621</td>\n",
       "      <td>-0.013663</td>\n",
       "      <td>-0.010720</td>\n",
       "      <td>-0.082025</td>\n",
       "      <td>-0.094674</td>\n",
       "      <td>-0.161427</td>\n",
       "      <td>-0.025487</td>\n",
       "      <td>-0.012731</td>\n",
       "      <td>1.000000</td>\n",
       "      <td>0.097777</td>\n",
       "      <td>0.413172</td>\n",
       "      <td>0.008550</td>\n",
       "      <td>-0.028844</td>\n",
       "      <td>0.061328</td>\n",
       "      <td>-0.027238</td>\n",
       "      <td>-0.114079</td>\n",
       "    </tr>\n",
       "    <tr>\n",
       "      <th>previous_cancellations</th>\n",
       "      <td>-0.003709</td>\n",
       "      <td>0.153125</td>\n",
       "      <td>0.142552</td>\n",
       "      <td>-0.133987</td>\n",
       "      <td>0.006869</td>\n",
       "      <td>-0.032032</td>\n",
       "      <td>-0.008677</td>\n",
       "      <td>-0.006067</td>\n",
       "      <td>0.001870</td>\n",
       "      <td>-0.026749</td>\n",
       "      <td>-0.009750</td>\n",
       "      <td>0.097777</td>\n",
       "      <td>1.000000</td>\n",
       "      <td>0.144512</td>\n",
       "      <td>-0.035032</td>\n",
       "      <td>0.004258</td>\n",
       "      <td>-0.025830</td>\n",
       "      <td>-0.067562</td>\n",
       "      <td>-0.008990</td>\n",
       "    </tr>\n",
       "    <tr>\n",
       "      <th>previous_bookings_not_canceled</th>\n",
       "      <td>0.016699</td>\n",
       "      <td>-0.045639</td>\n",
       "      <td>-0.061735</td>\n",
       "      <td>0.040279</td>\n",
       "      <td>-0.011970</td>\n",
       "      <td>-0.000967</td>\n",
       "      <td>-0.025560</td>\n",
       "      <td>-0.049211</td>\n",
       "      <td>-0.118341</td>\n",
       "      <td>-0.015340</td>\n",
       "      <td>-0.006739</td>\n",
       "      <td>0.413172</td>\n",
       "      <td>0.144512</td>\n",
       "      <td>1.000000</td>\n",
       "      <td>0.017078</td>\n",
       "      <td>-0.010104</td>\n",
       "      <td>0.039724</td>\n",
       "      <td>0.006309</td>\n",
       "      <td>-0.050915</td>\n",
       "    </tr>\n",
       "    <tr>\n",
       "      <th>booking_changes</th>\n",
       "      <td>-0.002945</td>\n",
       "      <td>-0.142723</td>\n",
       "      <td>-0.007377</td>\n",
       "      <td>0.040970</td>\n",
       "      <td>0.011738</td>\n",
       "      <td>0.022663</td>\n",
       "      <td>0.022586</td>\n",
       "      <td>0.060859</td>\n",
       "      <td>-0.052453</td>\n",
       "      <td>0.051918</td>\n",
       "      <td>0.086157</td>\n",
       "      <td>0.008550</td>\n",
       "      <td>-0.035032</td>\n",
       "      <td>0.017078</td>\n",
       "      <td>1.000000</td>\n",
       "      <td>-0.011019</td>\n",
       "      <td>0.059753</td>\n",
       "      <td>0.043395</td>\n",
       "      <td>0.058536</td>\n",
       "    </tr>\n",
       "    <tr>\n",
       "      <th>days_in_waiting_list</th>\n",
       "      <td>-0.023327</td>\n",
       "      <td>0.075857</td>\n",
       "      <td>0.209902</td>\n",
       "      <td>0.027455</td>\n",
       "      <td>-0.053109</td>\n",
       "      <td>0.017153</td>\n",
       "      <td>-0.065175</td>\n",
       "      <td>0.036142</td>\n",
       "      <td>-0.015562</td>\n",
       "      <td>-0.037703</td>\n",
       "      <td>-0.015176</td>\n",
       "      <td>-0.028844</td>\n",
       "      <td>0.004258</td>\n",
       "      <td>-0.010104</td>\n",
       "      <td>-0.011019</td>\n",
       "      <td>1.000000</td>\n",
       "      <td>-0.044210</td>\n",
       "      <td>-0.106062</td>\n",
       "      <td>-0.003816</td>\n",
       "    </tr>\n",
       "    <tr>\n",
       "      <th>required_car_parking_spaces</th>\n",
       "      <td>-0.114907</td>\n",
       "      <td>-0.186855</td>\n",
       "      <td>-0.116883</td>\n",
       "      <td>0.014982</td>\n",
       "      <td>-0.007890</td>\n",
       "      <td>0.004204</td>\n",
       "      <td>-0.015787</td>\n",
       "      <td>-0.026625</td>\n",
       "      <td>0.012027</td>\n",
       "      <td>0.053163</td>\n",
       "      <td>0.036902</td>\n",
       "      <td>0.061328</td>\n",
       "      <td>-0.025830</td>\n",
       "      <td>0.039724</td>\n",
       "      <td>0.059753</td>\n",
       "      <td>-0.044210</td>\n",
       "      <td>1.000000</td>\n",
       "      <td>0.087800</td>\n",
       "      <td>-0.028508</td>\n",
       "    </tr>\n",
       "    <tr>\n",
       "      <th>total_of_special_requests</th>\n",
       "      <td>0.123463</td>\n",
       "      <td>-0.257144</td>\n",
       "      <td>-0.147972</td>\n",
       "      <td>0.089268</td>\n",
       "      <td>0.076323</td>\n",
       "      <td>0.005445</td>\n",
       "      <td>0.083488</td>\n",
       "      <td>0.090502</td>\n",
       "      <td>0.180766</td>\n",
       "      <td>0.109980</td>\n",
       "      <td>0.116791</td>\n",
       "      <td>-0.027238</td>\n",
       "      <td>-0.067562</td>\n",
       "      <td>0.006309</td>\n",
       "      <td>0.043395</td>\n",
       "      <td>-0.106062</td>\n",
       "      <td>0.087800</td>\n",
       "      <td>1.000000</td>\n",
       "      <td>0.111544</td>\n",
       "    </tr>\n",
       "    <tr>\n",
       "      <th>total_nights</th>\n",
       "      <td>-0.169504</td>\n",
       "      <td>0.001326</td>\n",
       "      <td>0.157648</td>\n",
       "      <td>0.007192</td>\n",
       "      <td>0.042051</td>\n",
       "      <td>0.001631</td>\n",
       "      <td>0.644861</td>\n",
       "      <td>0.876593</td>\n",
       "      <td>0.155948</td>\n",
       "      <td>0.030914</td>\n",
       "      <td>0.029241</td>\n",
       "      <td>-0.114079</td>\n",
       "      <td>-0.008990</td>\n",
       "      <td>-0.050915</td>\n",
       "      <td>0.058536</td>\n",
       "      <td>-0.003816</td>\n",
       "      <td>-0.028508</td>\n",
       "      <td>0.111544</td>\n",
       "      <td>1.000000</td>\n",
       "    </tr>\n",
       "  </tbody>\n",
       "</table>\n",
       "</div>"
      ],
      "text/plain": [
       "                                      id  is_cancelled  lead_time  \\\n",
       "id                              1.000000     -0.241241   0.004529   \n",
       "is_cancelled                   -0.241241      1.000000   0.328589   \n",
       "lead_time                       0.004529      0.328589   1.000000   \n",
       "arrival_date_year               0.249033     -0.030691  -0.023274   \n",
       "arrival_date_week_number        0.069610      0.012768   0.091303   \n",
       "arrival_date_day_of_month       0.008732     -0.001825  -0.010770   \n",
       "stays_in_weekend_nights        -0.094532     -0.013850   0.046920   \n",
       "stays_in_week_nights           -0.157889      0.010420   0.172660   \n",
       "adults                          0.006594      0.044399   0.121804   \n",
       "children                        0.001936     -0.017196  -0.058760   \n",
       "babies                         -0.028470     -0.032445  -0.026173   \n",
       "is_repeated_guest               0.002935     -0.040305  -0.089441   \n",
       "previous_cancellations         -0.003709      0.153125   0.142552   \n",
       "previous_bookings_not_canceled  0.016699     -0.045639  -0.061735   \n",
       "booking_changes                -0.002945     -0.142723  -0.007377   \n",
       "days_in_waiting_list           -0.023327      0.075857   0.209902   \n",
       "required_car_parking_spaces    -0.114907     -0.186855  -0.116883   \n",
       "total_of_special_requests       0.123463     -0.257144  -0.147972   \n",
       "total_nights                   -0.169504      0.001326   0.157648   \n",
       "\n",
       "                                arrival_date_year  arrival_date_week_number  \\\n",
       "id                                       0.249033                  0.069610   \n",
       "is_cancelled                            -0.030691                  0.012768   \n",
       "lead_time                               -0.023274                  0.091303   \n",
       "arrival_date_year                        1.000000                 -0.388259   \n",
       "arrival_date_week_number                -0.388259                  1.000000   \n",
       "arrival_date_day_of_month                0.009666                  0.048057   \n",
       "stays_in_weekend_nights                 -0.006701                  0.034088   \n",
       "stays_in_week_nights                     0.013444                  0.032473   \n",
       "adults                                   0.034142                  0.004840   \n",
       "children                                 0.048739                 -0.005873   \n",
       "babies                                  -0.006688                  0.006797   \n",
       "is_repeated_guest                       -0.005621                 -0.013663   \n",
       "previous_cancellations                  -0.133987                  0.006869   \n",
       "previous_bookings_not_canceled           0.040279                 -0.011970   \n",
       "booking_changes                          0.040970                  0.011738   \n",
       "days_in_waiting_list                     0.027455                 -0.053109   \n",
       "required_car_parking_spaces              0.014982                 -0.007890   \n",
       "total_of_special_requests                0.089268                  0.076323   \n",
       "total_nights                             0.007192                  0.042051   \n",
       "\n",
       "                                arrival_date_day_of_month  \\\n",
       "id                                               0.008732   \n",
       "is_cancelled                                    -0.001825   \n",
       "lead_time                                       -0.010770   \n",
       "arrival_date_year                                0.009666   \n",
       "arrival_date_week_number                         0.048057   \n",
       "arrival_date_day_of_month                        1.000000   \n",
       "stays_in_weekend_nights                         -0.002250   \n",
       "stays_in_week_nights                             0.003509   \n",
       "adults                                           0.007526   \n",
       "children                                         0.017100   \n",
       "babies                                           0.001427   \n",
       "is_repeated_guest                               -0.010720   \n",
       "previous_cancellations                          -0.032032   \n",
       "previous_bookings_not_canceled                  -0.000967   \n",
       "booking_changes                                  0.022663   \n",
       "days_in_waiting_list                             0.017153   \n",
       "required_car_parking_spaces                      0.004204   \n",
       "total_of_special_requests                        0.005445   \n",
       "total_nights                                     0.001631   \n",
       "\n",
       "                                stays_in_weekend_nights  stays_in_week_nights  \\\n",
       "id                                            -0.094532             -0.157889   \n",
       "is_cancelled                                  -0.013850              0.010420   \n",
       "lead_time                                      0.046920              0.172660   \n",
       "arrival_date_year                             -0.006701              0.013444   \n",
       "arrival_date_week_number                       0.034088              0.032473   \n",
       "arrival_date_day_of_month                     -0.002250              0.003509   \n",
       "stays_in_weekend_nights                        1.000000              0.197475   \n",
       "stays_in_week_nights                           0.197475              1.000000   \n",
       "adults                                         0.121046              0.123807   \n",
       "children                                       0.025612              0.023525   \n",
       "babies                                         0.022206              0.023524   \n",
       "is_repeated_guest                             -0.082025             -0.094674   \n",
       "previous_cancellations                        -0.008677             -0.006067   \n",
       "previous_bookings_not_canceled                -0.025560             -0.049211   \n",
       "booking_changes                                0.022586              0.060859   \n",
       "days_in_waiting_list                          -0.065175              0.036142   \n",
       "required_car_parking_spaces                   -0.015787             -0.026625   \n",
       "total_of_special_requests                      0.083488              0.090502   \n",
       "total_nights                                   0.644861              0.876593   \n",
       "\n",
       "                                  adults  children    babies  \\\n",
       "id                              0.006594  0.001936 -0.028470   \n",
       "is_cancelled                    0.044399 -0.017196 -0.032445   \n",
       "lead_time                       0.121804 -0.058760 -0.026173   \n",
       "arrival_date_year               0.034142  0.048739 -0.006688   \n",
       "arrival_date_week_number        0.004840 -0.005873  0.006797   \n",
       "arrival_date_day_of_month       0.007526  0.017100  0.001427   \n",
       "stays_in_weekend_nights         0.121046  0.025612  0.022206   \n",
       "stays_in_week_nights            0.123807  0.023525  0.023524   \n",
       "adults                          1.000000  0.051848  0.027499   \n",
       "children                        0.051848  1.000000  0.021448   \n",
       "babies                          0.027499  0.021448  1.000000   \n",
       "is_repeated_guest              -0.161427 -0.025487 -0.012731   \n",
       "previous_cancellations          0.001870 -0.026749 -0.009750   \n",
       "previous_bookings_not_canceled -0.118341 -0.015340 -0.006739   \n",
       "booking_changes                -0.052453  0.051918  0.086157   \n",
       "days_in_waiting_list           -0.015562 -0.037703 -0.015176   \n",
       "required_car_parking_spaces     0.012027  0.053163  0.036902   \n",
       "total_of_special_requests       0.180766  0.109980  0.116791   \n",
       "total_nights                    0.155948  0.030914  0.029241   \n",
       "\n",
       "                                is_repeated_guest  previous_cancellations  \\\n",
       "id                                       0.002935               -0.003709   \n",
       "is_cancelled                            -0.040305                0.153125   \n",
       "lead_time                               -0.089441                0.142552   \n",
       "arrival_date_year                       -0.005621               -0.133987   \n",
       "arrival_date_week_number                -0.013663                0.006869   \n",
       "arrival_date_day_of_month               -0.010720               -0.032032   \n",
       "stays_in_weekend_nights                 -0.082025               -0.008677   \n",
       "stays_in_week_nights                    -0.094674               -0.006067   \n",
       "adults                                  -0.161427                0.001870   \n",
       "children                                -0.025487               -0.026749   \n",
       "babies                                  -0.012731               -0.009750   \n",
       "is_repeated_guest                        1.000000                0.097777   \n",
       "previous_cancellations                   0.097777                1.000000   \n",
       "previous_bookings_not_canceled           0.413172                0.144512   \n",
       "booking_changes                          0.008550               -0.035032   \n",
       "days_in_waiting_list                    -0.028844                0.004258   \n",
       "required_car_parking_spaces              0.061328               -0.025830   \n",
       "total_of_special_requests               -0.027238               -0.067562   \n",
       "total_nights                            -0.114079               -0.008990   \n",
       "\n",
       "                                previous_bookings_not_canceled  \\\n",
       "id                                                    0.016699   \n",
       "is_cancelled                                         -0.045639   \n",
       "lead_time                                            -0.061735   \n",
       "arrival_date_year                                     0.040279   \n",
       "arrival_date_week_number                             -0.011970   \n",
       "arrival_date_day_of_month                            -0.000967   \n",
       "stays_in_weekend_nights                              -0.025560   \n",
       "stays_in_week_nights                                 -0.049211   \n",
       "adults                                               -0.118341   \n",
       "children                                             -0.015340   \n",
       "babies                                               -0.006739   \n",
       "is_repeated_guest                                     0.413172   \n",
       "previous_cancellations                                0.144512   \n",
       "previous_bookings_not_canceled                        1.000000   \n",
       "booking_changes                                       0.017078   \n",
       "days_in_waiting_list                                 -0.010104   \n",
       "required_car_parking_spaces                           0.039724   \n",
       "total_of_special_requests                             0.006309   \n",
       "total_nights                                         -0.050915   \n",
       "\n",
       "                                booking_changes  days_in_waiting_list  \\\n",
       "id                                    -0.002945             -0.023327   \n",
       "is_cancelled                          -0.142723              0.075857   \n",
       "lead_time                             -0.007377              0.209902   \n",
       "arrival_date_year                      0.040970              0.027455   \n",
       "arrival_date_week_number               0.011738             -0.053109   \n",
       "arrival_date_day_of_month              0.022663              0.017153   \n",
       "stays_in_weekend_nights                0.022586             -0.065175   \n",
       "stays_in_week_nights                   0.060859              0.036142   \n",
       "adults                                -0.052453             -0.015562   \n",
       "children                               0.051918             -0.037703   \n",
       "babies                                 0.086157             -0.015176   \n",
       "is_repeated_guest                      0.008550             -0.028844   \n",
       "previous_cancellations                -0.035032              0.004258   \n",
       "previous_bookings_not_canceled         0.017078             -0.010104   \n",
       "booking_changes                        1.000000             -0.011019   \n",
       "days_in_waiting_list                  -0.011019              1.000000   \n",
       "required_car_parking_spaces            0.059753             -0.044210   \n",
       "total_of_special_requests              0.043395             -0.106062   \n",
       "total_nights                           0.058536             -0.003816   \n",
       "\n",
       "                                required_car_parking_spaces  \\\n",
       "id                                                -0.114907   \n",
       "is_cancelled                                      -0.186855   \n",
       "lead_time                                         -0.116883   \n",
       "arrival_date_year                                  0.014982   \n",
       "arrival_date_week_number                          -0.007890   \n",
       "arrival_date_day_of_month                          0.004204   \n",
       "stays_in_weekend_nights                           -0.015787   \n",
       "stays_in_week_nights                              -0.026625   \n",
       "adults                                             0.012027   \n",
       "children                                           0.053163   \n",
       "babies                                             0.036902   \n",
       "is_repeated_guest                                  0.061328   \n",
       "previous_cancellations                            -0.025830   \n",
       "previous_bookings_not_canceled                     0.039724   \n",
       "booking_changes                                    0.059753   \n",
       "days_in_waiting_list                              -0.044210   \n",
       "required_car_parking_spaces                        1.000000   \n",
       "total_of_special_requests                          0.087800   \n",
       "total_nights                                      -0.028508   \n",
       "\n",
       "                                total_of_special_requests  total_nights  \n",
       "id                                               0.123463     -0.169504  \n",
       "is_cancelled                                    -0.257144      0.001326  \n",
       "lead_time                                       -0.147972      0.157648  \n",
       "arrival_date_year                                0.089268      0.007192  \n",
       "arrival_date_week_number                         0.076323      0.042051  \n",
       "arrival_date_day_of_month                        0.005445      0.001631  \n",
       "stays_in_weekend_nights                          0.083488      0.644861  \n",
       "stays_in_week_nights                             0.090502      0.876593  \n",
       "adults                                           0.180766      0.155948  \n",
       "children                                         0.109980      0.030914  \n",
       "babies                                           0.116791      0.029241  \n",
       "is_repeated_guest                               -0.027238     -0.114079  \n",
       "previous_cancellations                          -0.067562     -0.008990  \n",
       "previous_bookings_not_canceled                   0.006309     -0.050915  \n",
       "booking_changes                                  0.043395      0.058536  \n",
       "days_in_waiting_list                            -0.106062     -0.003816  \n",
       "required_car_parking_spaces                      0.087800     -0.028508  \n",
       "total_of_special_requests                        1.000000      0.111544  \n",
       "total_nights                                     0.111544      1.000000  "
      ]
     },
     "execution_count": 17,
     "metadata": {},
     "output_type": "execute_result"
    }
   ],
   "source": [
    "data_train.corr()"
   ]
  },
  {
   "cell_type": "code",
   "execution_count": 18,
   "metadata": {},
   "outputs": [
    {
     "data": {
      "text/html": [
       "<div>\n",
       "<style scoped>\n",
       "    .dataframe tbody tr th:only-of-type {\n",
       "        vertical-align: middle;\n",
       "    }\n",
       "\n",
       "    .dataframe tbody tr th {\n",
       "        vertical-align: top;\n",
       "    }\n",
       "\n",
       "    .dataframe thead th {\n",
       "        text-align: right;\n",
       "    }\n",
       "</style>\n",
       "<table border=\"1\" class=\"dataframe\">\n",
       "  <thead>\n",
       "    <tr style=\"text-align: right;\">\n",
       "      <th></th>\n",
       "      <th>id</th>\n",
       "      <th>is_cancelled</th>\n",
       "      <th>lead_time</th>\n",
       "      <th>arrival_date_year</th>\n",
       "      <th>arrival_date_week_number</th>\n",
       "      <th>arrival_date_day_of_month</th>\n",
       "      <th>stays_in_weekend_nights</th>\n",
       "      <th>stays_in_week_nights</th>\n",
       "      <th>adults</th>\n",
       "      <th>children</th>\n",
       "      <th>babies</th>\n",
       "      <th>is_repeated_guest</th>\n",
       "      <th>previous_cancellations</th>\n",
       "      <th>previous_bookings_not_canceled</th>\n",
       "      <th>booking_changes</th>\n",
       "      <th>days_in_waiting_list</th>\n",
       "      <th>required_car_parking_spaces</th>\n",
       "      <th>total_of_special_requests</th>\n",
       "      <th>total_nights</th>\n",
       "    </tr>\n",
       "  </thead>\n",
       "  <tbody>\n",
       "    <tr>\n",
       "      <th>id</th>\n",
       "      <td>1.000000</td>\n",
       "      <td>-0.459661</td>\n",
       "      <td>-0.047087</td>\n",
       "      <td>NaN</td>\n",
       "      <td>0.169934</td>\n",
       "      <td>0.017909</td>\n",
       "      <td>-0.064669</td>\n",
       "      <td>-0.117771</td>\n",
       "      <td>0.036615</td>\n",
       "      <td>-0.019749</td>\n",
       "      <td>-0.011933</td>\n",
       "      <td>-0.099075</td>\n",
       "      <td>-0.018055</td>\n",
       "      <td>-0.035776</td>\n",
       "      <td>0.023190</td>\n",
       "      <td>-0.026178</td>\n",
       "      <td>-0.131125</td>\n",
       "      <td>0.131527</td>\n",
       "      <td>-0.124882</td>\n",
       "    </tr>\n",
       "    <tr>\n",
       "      <th>is_cancelled</th>\n",
       "      <td>-0.459661</td>\n",
       "      <td>1.000000</td>\n",
       "      <td>0.238366</td>\n",
       "      <td>NaN</td>\n",
       "      <td>0.037520</td>\n",
       "      <td>-0.008846</td>\n",
       "      <td>-0.002126</td>\n",
       "      <td>0.047103</td>\n",
       "      <td>0.079499</td>\n",
       "      <td>0.010609</td>\n",
       "      <td>-0.038916</td>\n",
       "      <td>-0.125447</td>\n",
       "      <td>-0.032898</td>\n",
       "      <td>-0.065367</td>\n",
       "      <td>-0.137237</td>\n",
       "      <td>0.019225</td>\n",
       "      <td>-0.173647</td>\n",
       "      <td>-0.218428</td>\n",
       "      <td>0.036208</td>\n",
       "    </tr>\n",
       "    <tr>\n",
       "      <th>lead_time</th>\n",
       "      <td>-0.047087</td>\n",
       "      <td>0.238366</td>\n",
       "      <td>1.000000</td>\n",
       "      <td>NaN</td>\n",
       "      <td>0.345032</td>\n",
       "      <td>0.033442</td>\n",
       "      <td>0.163539</td>\n",
       "      <td>0.290248</td>\n",
       "      <td>0.195640</td>\n",
       "      <td>0.043504</td>\n",
       "      <td>0.003052</td>\n",
       "      <td>-0.169408</td>\n",
       "      <td>-0.058774</td>\n",
       "      <td>-0.089583</td>\n",
       "      <td>0.034599</td>\n",
       "      <td>0.066031</td>\n",
       "      <td>-0.100476</td>\n",
       "      <td>0.028797</td>\n",
       "      <td>0.309816</td>\n",
       "    </tr>\n",
       "    <tr>\n",
       "      <th>arrival_date_year</th>\n",
       "      <td>NaN</td>\n",
       "      <td>NaN</td>\n",
       "      <td>NaN</td>\n",
       "      <td>NaN</td>\n",
       "      <td>NaN</td>\n",
       "      <td>NaN</td>\n",
       "      <td>NaN</td>\n",
       "      <td>NaN</td>\n",
       "      <td>NaN</td>\n",
       "      <td>NaN</td>\n",
       "      <td>NaN</td>\n",
       "      <td>NaN</td>\n",
       "      <td>NaN</td>\n",
       "      <td>NaN</td>\n",
       "      <td>NaN</td>\n",
       "      <td>NaN</td>\n",
       "      <td>NaN</td>\n",
       "      <td>NaN</td>\n",
       "      <td>NaN</td>\n",
       "    </tr>\n",
       "    <tr>\n",
       "      <th>arrival_date_week_number</th>\n",
       "      <td>0.169934</td>\n",
       "      <td>0.037520</td>\n",
       "      <td>0.345032</td>\n",
       "      <td>NaN</td>\n",
       "      <td>1.000000</td>\n",
       "      <td>0.124338</td>\n",
       "      <td>0.064400</td>\n",
       "      <td>0.083359</td>\n",
       "      <td>0.121518</td>\n",
       "      <td>0.033759</td>\n",
       "      <td>-0.003465</td>\n",
       "      <td>-0.062204</td>\n",
       "      <td>-0.007960</td>\n",
       "      <td>-0.011310</td>\n",
       "      <td>0.020382</td>\n",
       "      <td>-0.012317</td>\n",
       "      <td>-0.038266</td>\n",
       "      <td>0.063268</td>\n",
       "      <td>0.097535</td>\n",
       "    </tr>\n",
       "    <tr>\n",
       "      <th>arrival_date_day_of_month</th>\n",
       "      <td>0.017909</td>\n",
       "      <td>-0.008846</td>\n",
       "      <td>0.033442</td>\n",
       "      <td>NaN</td>\n",
       "      <td>0.124338</td>\n",
       "      <td>1.000000</td>\n",
       "      <td>0.002510</td>\n",
       "      <td>-0.029135</td>\n",
       "      <td>-0.019092</td>\n",
       "      <td>0.005790</td>\n",
       "      <td>-0.003798</td>\n",
       "      <td>0.005309</td>\n",
       "      <td>0.002686</td>\n",
       "      <td>0.008123</td>\n",
       "      <td>-0.001709</td>\n",
       "      <td>-0.005966</td>\n",
       "      <td>0.011093</td>\n",
       "      <td>-0.007500</td>\n",
       "      <td>-0.021809</td>\n",
       "    </tr>\n",
       "    <tr>\n",
       "      <th>stays_in_weekend_nights</th>\n",
       "      <td>-0.064669</td>\n",
       "      <td>-0.002126</td>\n",
       "      <td>0.163539</td>\n",
       "      <td>NaN</td>\n",
       "      <td>0.064400</td>\n",
       "      <td>0.002510</td>\n",
       "      <td>1.000000</td>\n",
       "      <td>0.172111</td>\n",
       "      <td>0.105601</td>\n",
       "      <td>0.047757</td>\n",
       "      <td>0.021363</td>\n",
       "      <td>-0.090261</td>\n",
       "      <td>-0.035789</td>\n",
       "      <td>-0.052821</td>\n",
       "      <td>0.013621</td>\n",
       "      <td>0.009829</td>\n",
       "      <td>-0.032013</td>\n",
       "      <td>0.042789</td>\n",
       "      <td>0.626962</td>\n",
       "    </tr>\n",
       "    <tr>\n",
       "      <th>stays_in_week_nights</th>\n",
       "      <td>-0.117771</td>\n",
       "      <td>0.047103</td>\n",
       "      <td>0.290248</td>\n",
       "      <td>NaN</td>\n",
       "      <td>0.083359</td>\n",
       "      <td>-0.029135</td>\n",
       "      <td>0.172111</td>\n",
       "      <td>1.000000</td>\n",
       "      <td>0.147270</td>\n",
       "      <td>0.034744</td>\n",
       "      <td>0.030645</td>\n",
       "      <td>-0.115359</td>\n",
       "      <td>-0.036384</td>\n",
       "      <td>-0.057997</td>\n",
       "      <td>0.043992</td>\n",
       "      <td>0.017325</td>\n",
       "      <td>-0.051478</td>\n",
       "      <td>0.035201</td>\n",
       "      <td>0.875331</td>\n",
       "    </tr>\n",
       "    <tr>\n",
       "      <th>adults</th>\n",
       "      <td>0.036615</td>\n",
       "      <td>0.079499</td>\n",
       "      <td>0.195640</td>\n",
       "      <td>NaN</td>\n",
       "      <td>0.121518</td>\n",
       "      <td>-0.019092</td>\n",
       "      <td>0.105601</td>\n",
       "      <td>0.147270</td>\n",
       "      <td>1.000000</td>\n",
       "      <td>0.037733</td>\n",
       "      <td>0.019109</td>\n",
       "      <td>-0.206037</td>\n",
       "      <td>-0.103834</td>\n",
       "      <td>-0.140540</td>\n",
       "      <td>-0.058978</td>\n",
       "      <td>-0.004690</td>\n",
       "      <td>-0.017381</td>\n",
       "      <td>0.128560</td>\n",
       "      <td>0.168303</td>\n",
       "    </tr>\n",
       "    <tr>\n",
       "      <th>children</th>\n",
       "      <td>-0.019749</td>\n",
       "      <td>0.010609</td>\n",
       "      <td>0.043504</td>\n",
       "      <td>NaN</td>\n",
       "      <td>0.033759</td>\n",
       "      <td>0.005790</td>\n",
       "      <td>0.047757</td>\n",
       "      <td>0.034744</td>\n",
       "      <td>0.037733</td>\n",
       "      <td>1.000000</td>\n",
       "      <td>0.027723</td>\n",
       "      <td>-0.029915</td>\n",
       "      <td>-0.015437</td>\n",
       "      <td>-0.019829</td>\n",
       "      <td>0.038598</td>\n",
       "      <td>-0.013286</td>\n",
       "      <td>0.032557</td>\n",
       "      <td>0.063171</td>\n",
       "      <td>0.050919</td>\n",
       "    </tr>\n",
       "    <tr>\n",
       "      <th>babies</th>\n",
       "      <td>-0.011933</td>\n",
       "      <td>-0.038916</td>\n",
       "      <td>0.003052</td>\n",
       "      <td>NaN</td>\n",
       "      <td>-0.003465</td>\n",
       "      <td>-0.003798</td>\n",
       "      <td>0.021363</td>\n",
       "      <td>0.030645</td>\n",
       "      <td>0.019109</td>\n",
       "      <td>0.027723</td>\n",
       "      <td>1.000000</td>\n",
       "      <td>-0.001421</td>\n",
       "      <td>-0.002428</td>\n",
       "      <td>-0.005578</td>\n",
       "      <td>0.088148</td>\n",
       "      <td>-0.004033</td>\n",
       "      <td>0.040474</td>\n",
       "      <td>0.067220</td>\n",
       "      <td>0.034721</td>\n",
       "    </tr>\n",
       "    <tr>\n",
       "      <th>is_repeated_guest</th>\n",
       "      <td>-0.099075</td>\n",
       "      <td>-0.125447</td>\n",
       "      <td>-0.169408</td>\n",
       "      <td>NaN</td>\n",
       "      <td>-0.062204</td>\n",
       "      <td>0.005309</td>\n",
       "      <td>-0.090261</td>\n",
       "      <td>-0.115359</td>\n",
       "      <td>-0.206037</td>\n",
       "      <td>-0.029915</td>\n",
       "      <td>-0.001421</td>\n",
       "      <td>1.000000</td>\n",
       "      <td>0.317757</td>\n",
       "      <td>0.458180</td>\n",
       "      <td>0.015291</td>\n",
       "      <td>-0.004259</td>\n",
       "      <td>0.136870</td>\n",
       "      <td>0.044246</td>\n",
       "      <td>-0.135536</td>\n",
       "    </tr>\n",
       "    <tr>\n",
       "      <th>previous_cancellations</th>\n",
       "      <td>-0.018055</td>\n",
       "      <td>-0.032898</td>\n",
       "      <td>-0.058774</td>\n",
       "      <td>NaN</td>\n",
       "      <td>-0.007960</td>\n",
       "      <td>0.002686</td>\n",
       "      <td>-0.035789</td>\n",
       "      <td>-0.036384</td>\n",
       "      <td>-0.103834</td>\n",
       "      <td>-0.015437</td>\n",
       "      <td>-0.002428</td>\n",
       "      <td>0.317757</td>\n",
       "      <td>1.000000</td>\n",
       "      <td>0.808528</td>\n",
       "      <td>0.009894</td>\n",
       "      <td>-0.003548</td>\n",
       "      <td>0.041526</td>\n",
       "      <td>0.041435</td>\n",
       "      <td>-0.046341</td>\n",
       "    </tr>\n",
       "    <tr>\n",
       "      <th>previous_bookings_not_canceled</th>\n",
       "      <td>-0.035776</td>\n",
       "      <td>-0.065367</td>\n",
       "      <td>-0.089583</td>\n",
       "      <td>NaN</td>\n",
       "      <td>-0.011310</td>\n",
       "      <td>0.008123</td>\n",
       "      <td>-0.052821</td>\n",
       "      <td>-0.057997</td>\n",
       "      <td>-0.140540</td>\n",
       "      <td>-0.019829</td>\n",
       "      <td>-0.005578</td>\n",
       "      <td>0.458180</td>\n",
       "      <td>0.808528</td>\n",
       "      <td>1.000000</td>\n",
       "      <td>0.011087</td>\n",
       "      <td>-0.004066</td>\n",
       "      <td>0.079256</td>\n",
       "      <td>0.045948</td>\n",
       "      <td>-0.071794</td>\n",
       "    </tr>\n",
       "    <tr>\n",
       "      <th>booking_changes</th>\n",
       "      <td>0.023190</td>\n",
       "      <td>-0.137237</td>\n",
       "      <td>0.034599</td>\n",
       "      <td>NaN</td>\n",
       "      <td>0.020382</td>\n",
       "      <td>-0.001709</td>\n",
       "      <td>0.013621</td>\n",
       "      <td>0.043992</td>\n",
       "      <td>-0.058978</td>\n",
       "      <td>0.038598</td>\n",
       "      <td>0.088148</td>\n",
       "      <td>0.015291</td>\n",
       "      <td>0.009894</td>\n",
       "      <td>0.011087</td>\n",
       "      <td>1.000000</td>\n",
       "      <td>0.020025</td>\n",
       "      <td>0.059371</td>\n",
       "      <td>0.059551</td>\n",
       "      <td>0.041477</td>\n",
       "    </tr>\n",
       "    <tr>\n",
       "      <th>days_in_waiting_list</th>\n",
       "      <td>-0.026178</td>\n",
       "      <td>0.019225</td>\n",
       "      <td>0.066031</td>\n",
       "      <td>NaN</td>\n",
       "      <td>-0.012317</td>\n",
       "      <td>-0.005966</td>\n",
       "      <td>0.009829</td>\n",
       "      <td>0.017325</td>\n",
       "      <td>-0.004690</td>\n",
       "      <td>-0.013286</td>\n",
       "      <td>-0.004033</td>\n",
       "      <td>-0.004259</td>\n",
       "      <td>-0.003548</td>\n",
       "      <td>-0.004066</td>\n",
       "      <td>0.020025</td>\n",
       "      <td>1.000000</td>\n",
       "      <td>-0.001887</td>\n",
       "      <td>-0.034973</td>\n",
       "      <td>0.018526</td>\n",
       "    </tr>\n",
       "    <tr>\n",
       "      <th>required_car_parking_spaces</th>\n",
       "      <td>-0.131125</td>\n",
       "      <td>-0.173647</td>\n",
       "      <td>-0.100476</td>\n",
       "      <td>NaN</td>\n",
       "      <td>-0.038266</td>\n",
       "      <td>0.011093</td>\n",
       "      <td>-0.032013</td>\n",
       "      <td>-0.051478</td>\n",
       "      <td>-0.017381</td>\n",
       "      <td>0.032557</td>\n",
       "      <td>0.040474</td>\n",
       "      <td>0.136870</td>\n",
       "      <td>0.041526</td>\n",
       "      <td>0.079256</td>\n",
       "      <td>0.059371</td>\n",
       "      <td>-0.001887</td>\n",
       "      <td>1.000000</td>\n",
       "      <td>0.064275</td>\n",
       "      <td>-0.056425</td>\n",
       "    </tr>\n",
       "    <tr>\n",
       "      <th>total_of_special_requests</th>\n",
       "      <td>0.131527</td>\n",
       "      <td>-0.218428</td>\n",
       "      <td>0.028797</td>\n",
       "      <td>NaN</td>\n",
       "      <td>0.063268</td>\n",
       "      <td>-0.007500</td>\n",
       "      <td>0.042789</td>\n",
       "      <td>0.035201</td>\n",
       "      <td>0.128560</td>\n",
       "      <td>0.063171</td>\n",
       "      <td>0.067220</td>\n",
       "      <td>0.044246</td>\n",
       "      <td>0.041435</td>\n",
       "      <td>0.045948</td>\n",
       "      <td>0.059551</td>\n",
       "      <td>-0.034973</td>\n",
       "      <td>0.064275</td>\n",
       "      <td>1.000000</td>\n",
       "      <td>0.048842</td>\n",
       "    </tr>\n",
       "    <tr>\n",
       "      <th>total_nights</th>\n",
       "      <td>-0.124882</td>\n",
       "      <td>0.036208</td>\n",
       "      <td>0.309816</td>\n",
       "      <td>NaN</td>\n",
       "      <td>0.097535</td>\n",
       "      <td>-0.021809</td>\n",
       "      <td>0.626962</td>\n",
       "      <td>0.875331</td>\n",
       "      <td>0.168303</td>\n",
       "      <td>0.050919</td>\n",
       "      <td>0.034721</td>\n",
       "      <td>-0.135536</td>\n",
       "      <td>-0.046341</td>\n",
       "      <td>-0.071794</td>\n",
       "      <td>0.041477</td>\n",
       "      <td>0.018526</td>\n",
       "      <td>-0.056425</td>\n",
       "      <td>0.048842</td>\n",
       "      <td>1.000000</td>\n",
       "    </tr>\n",
       "  </tbody>\n",
       "</table>\n",
       "</div>"
      ],
      "text/plain": [
       "                                      id  is_cancelled  lead_time  \\\n",
       "id                              1.000000     -0.459661  -0.047087   \n",
       "is_cancelled                   -0.459661      1.000000   0.238366   \n",
       "lead_time                      -0.047087      0.238366   1.000000   \n",
       "arrival_date_year                    NaN           NaN        NaN   \n",
       "arrival_date_week_number        0.169934      0.037520   0.345032   \n",
       "arrival_date_day_of_month       0.017909     -0.008846   0.033442   \n",
       "stays_in_weekend_nights        -0.064669     -0.002126   0.163539   \n",
       "stays_in_week_nights           -0.117771      0.047103   0.290248   \n",
       "adults                          0.036615      0.079499   0.195640   \n",
       "children                       -0.019749      0.010609   0.043504   \n",
       "babies                         -0.011933     -0.038916   0.003052   \n",
       "is_repeated_guest              -0.099075     -0.125447  -0.169408   \n",
       "previous_cancellations         -0.018055     -0.032898  -0.058774   \n",
       "previous_bookings_not_canceled -0.035776     -0.065367  -0.089583   \n",
       "booking_changes                 0.023190     -0.137237   0.034599   \n",
       "days_in_waiting_list           -0.026178      0.019225   0.066031   \n",
       "required_car_parking_spaces    -0.131125     -0.173647  -0.100476   \n",
       "total_of_special_requests       0.131527     -0.218428   0.028797   \n",
       "total_nights                   -0.124882      0.036208   0.309816   \n",
       "\n",
       "                                arrival_date_year  arrival_date_week_number  \\\n",
       "id                                            NaN                  0.169934   \n",
       "is_cancelled                                  NaN                  0.037520   \n",
       "lead_time                                     NaN                  0.345032   \n",
       "arrival_date_year                             NaN                       NaN   \n",
       "arrival_date_week_number                      NaN                  1.000000   \n",
       "arrival_date_day_of_month                     NaN                  0.124338   \n",
       "stays_in_weekend_nights                       NaN                  0.064400   \n",
       "stays_in_week_nights                          NaN                  0.083359   \n",
       "adults                                        NaN                  0.121518   \n",
       "children                                      NaN                  0.033759   \n",
       "babies                                        NaN                 -0.003465   \n",
       "is_repeated_guest                             NaN                 -0.062204   \n",
       "previous_cancellations                        NaN                 -0.007960   \n",
       "previous_bookings_not_canceled                NaN                 -0.011310   \n",
       "booking_changes                               NaN                  0.020382   \n",
       "days_in_waiting_list                          NaN                 -0.012317   \n",
       "required_car_parking_spaces                   NaN                 -0.038266   \n",
       "total_of_special_requests                     NaN                  0.063268   \n",
       "total_nights                                  NaN                  0.097535   \n",
       "\n",
       "                                arrival_date_day_of_month  \\\n",
       "id                                               0.017909   \n",
       "is_cancelled                                    -0.008846   \n",
       "lead_time                                        0.033442   \n",
       "arrival_date_year                                     NaN   \n",
       "arrival_date_week_number                         0.124338   \n",
       "arrival_date_day_of_month                        1.000000   \n",
       "stays_in_weekend_nights                          0.002510   \n",
       "stays_in_week_nights                            -0.029135   \n",
       "adults                                          -0.019092   \n",
       "children                                         0.005790   \n",
       "babies                                          -0.003798   \n",
       "is_repeated_guest                                0.005309   \n",
       "previous_cancellations                           0.002686   \n",
       "previous_bookings_not_canceled                   0.008123   \n",
       "booking_changes                                 -0.001709   \n",
       "days_in_waiting_list                            -0.005966   \n",
       "required_car_parking_spaces                      0.011093   \n",
       "total_of_special_requests                       -0.007500   \n",
       "total_nights                                    -0.021809   \n",
       "\n",
       "                                stays_in_weekend_nights  stays_in_week_nights  \\\n",
       "id                                            -0.064669             -0.117771   \n",
       "is_cancelled                                  -0.002126              0.047103   \n",
       "lead_time                                      0.163539              0.290248   \n",
       "arrival_date_year                                   NaN                   NaN   \n",
       "arrival_date_week_number                       0.064400              0.083359   \n",
       "arrival_date_day_of_month                      0.002510             -0.029135   \n",
       "stays_in_weekend_nights                        1.000000              0.172111   \n",
       "stays_in_week_nights                           0.172111              1.000000   \n",
       "adults                                         0.105601              0.147270   \n",
       "children                                       0.047757              0.034744   \n",
       "babies                                         0.021363              0.030645   \n",
       "is_repeated_guest                             -0.090261             -0.115359   \n",
       "previous_cancellations                        -0.035789             -0.036384   \n",
       "previous_bookings_not_canceled                -0.052821             -0.057997   \n",
       "booking_changes                                0.013621              0.043992   \n",
       "days_in_waiting_list                           0.009829              0.017325   \n",
       "required_car_parking_spaces                   -0.032013             -0.051478   \n",
       "total_of_special_requests                      0.042789              0.035201   \n",
       "total_nights                                   0.626962              0.875331   \n",
       "\n",
       "                                  adults  children    babies  \\\n",
       "id                              0.036615 -0.019749 -0.011933   \n",
       "is_cancelled                    0.079499  0.010609 -0.038916   \n",
       "lead_time                       0.195640  0.043504  0.003052   \n",
       "arrival_date_year                    NaN       NaN       NaN   \n",
       "arrival_date_week_number        0.121518  0.033759 -0.003465   \n",
       "arrival_date_day_of_month      -0.019092  0.005790 -0.003798   \n",
       "stays_in_weekend_nights         0.105601  0.047757  0.021363   \n",
       "stays_in_week_nights            0.147270  0.034744  0.030645   \n",
       "adults                          1.000000  0.037733  0.019109   \n",
       "children                        0.037733  1.000000  0.027723   \n",
       "babies                          0.019109  0.027723  1.000000   \n",
       "is_repeated_guest              -0.206037 -0.029915 -0.001421   \n",
       "previous_cancellations         -0.103834 -0.015437 -0.002428   \n",
       "previous_bookings_not_canceled -0.140540 -0.019829 -0.005578   \n",
       "booking_changes                -0.058978  0.038598  0.088148   \n",
       "days_in_waiting_list           -0.004690 -0.013286 -0.004033   \n",
       "required_car_parking_spaces    -0.017381  0.032557  0.040474   \n",
       "total_of_special_requests       0.128560  0.063171  0.067220   \n",
       "total_nights                    0.168303  0.050919  0.034721   \n",
       "\n",
       "                                is_repeated_guest  previous_cancellations  \\\n",
       "id                                      -0.099075               -0.018055   \n",
       "is_cancelled                            -0.125447               -0.032898   \n",
       "lead_time                               -0.169408               -0.058774   \n",
       "arrival_date_year                             NaN                     NaN   \n",
       "arrival_date_week_number                -0.062204               -0.007960   \n",
       "arrival_date_day_of_month                0.005309                0.002686   \n",
       "stays_in_weekend_nights                 -0.090261               -0.035789   \n",
       "stays_in_week_nights                    -0.115359               -0.036384   \n",
       "adults                                  -0.206037               -0.103834   \n",
       "children                                -0.029915               -0.015437   \n",
       "babies                                  -0.001421               -0.002428   \n",
       "is_repeated_guest                        1.000000                0.317757   \n",
       "previous_cancellations                   0.317757                1.000000   \n",
       "previous_bookings_not_canceled           0.458180                0.808528   \n",
       "booking_changes                          0.015291                0.009894   \n",
       "days_in_waiting_list                    -0.004259               -0.003548   \n",
       "required_car_parking_spaces              0.136870                0.041526   \n",
       "total_of_special_requests                0.044246                0.041435   \n",
       "total_nights                            -0.135536               -0.046341   \n",
       "\n",
       "                                previous_bookings_not_canceled  \\\n",
       "id                                                   -0.035776   \n",
       "is_cancelled                                         -0.065367   \n",
       "lead_time                                            -0.089583   \n",
       "arrival_date_year                                          NaN   \n",
       "arrival_date_week_number                             -0.011310   \n",
       "arrival_date_day_of_month                             0.008123   \n",
       "stays_in_weekend_nights                              -0.052821   \n",
       "stays_in_week_nights                                 -0.057997   \n",
       "adults                                               -0.140540   \n",
       "children                                             -0.019829   \n",
       "babies                                               -0.005578   \n",
       "is_repeated_guest                                     0.458180   \n",
       "previous_cancellations                                0.808528   \n",
       "previous_bookings_not_canceled                        1.000000   \n",
       "booking_changes                                       0.011087   \n",
       "days_in_waiting_list                                 -0.004066   \n",
       "required_car_parking_spaces                           0.079256   \n",
       "total_of_special_requests                             0.045948   \n",
       "total_nights                                         -0.071794   \n",
       "\n",
       "                                booking_changes  days_in_waiting_list  \\\n",
       "id                                     0.023190             -0.026178   \n",
       "is_cancelled                          -0.137237              0.019225   \n",
       "lead_time                              0.034599              0.066031   \n",
       "arrival_date_year                           NaN                   NaN   \n",
       "arrival_date_week_number               0.020382             -0.012317   \n",
       "arrival_date_day_of_month             -0.001709             -0.005966   \n",
       "stays_in_weekend_nights                0.013621              0.009829   \n",
       "stays_in_week_nights                   0.043992              0.017325   \n",
       "adults                                -0.058978             -0.004690   \n",
       "children                               0.038598             -0.013286   \n",
       "babies                                 0.088148             -0.004033   \n",
       "is_repeated_guest                      0.015291             -0.004259   \n",
       "previous_cancellations                 0.009894             -0.003548   \n",
       "previous_bookings_not_canceled         0.011087             -0.004066   \n",
       "booking_changes                        1.000000              0.020025   \n",
       "days_in_waiting_list                   0.020025              1.000000   \n",
       "required_car_parking_spaces            0.059371             -0.001887   \n",
       "total_of_special_requests              0.059551             -0.034973   \n",
       "total_nights                           0.041477              0.018526   \n",
       "\n",
       "                                required_car_parking_spaces  \\\n",
       "id                                                -0.131125   \n",
       "is_cancelled                                      -0.173647   \n",
       "lead_time                                         -0.100476   \n",
       "arrival_date_year                                       NaN   \n",
       "arrival_date_week_number                          -0.038266   \n",
       "arrival_date_day_of_month                          0.011093   \n",
       "stays_in_weekend_nights                           -0.032013   \n",
       "stays_in_week_nights                              -0.051478   \n",
       "adults                                            -0.017381   \n",
       "children                                           0.032557   \n",
       "babies                                             0.040474   \n",
       "is_repeated_guest                                  0.136870   \n",
       "previous_cancellations                             0.041526   \n",
       "previous_bookings_not_canceled                     0.079256   \n",
       "booking_changes                                    0.059371   \n",
       "days_in_waiting_list                              -0.001887   \n",
       "required_car_parking_spaces                        1.000000   \n",
       "total_of_special_requests                          0.064275   \n",
       "total_nights                                      -0.056425   \n",
       "\n",
       "                                total_of_special_requests  total_nights  \n",
       "id                                               0.131527     -0.124882  \n",
       "is_cancelled                                    -0.218428      0.036208  \n",
       "lead_time                                        0.028797      0.309816  \n",
       "arrival_date_year                                     NaN           NaN  \n",
       "arrival_date_week_number                         0.063268      0.097535  \n",
       "arrival_date_day_of_month                       -0.007500     -0.021809  \n",
       "stays_in_weekend_nights                          0.042789      0.626962  \n",
       "stays_in_week_nights                             0.035201      0.875331  \n",
       "adults                                           0.128560      0.168303  \n",
       "children                                         0.063171      0.050919  \n",
       "babies                                           0.067220      0.034721  \n",
       "is_repeated_guest                                0.044246     -0.135536  \n",
       "previous_cancellations                           0.041435     -0.046341  \n",
       "previous_bookings_not_canceled                   0.045948     -0.071794  \n",
       "booking_changes                                  0.059551      0.041477  \n",
       "days_in_waiting_list                            -0.034973      0.018526  \n",
       "required_car_parking_spaces                      0.064275     -0.056425  \n",
       "total_of_special_requests                        1.000000      0.048842  \n",
       "total_nights                                     0.048842      1.000000  "
      ]
     },
     "execution_count": 18,
     "metadata": {},
     "output_type": "execute_result"
    }
   ],
   "source": [
    "data_test.corr()"
   ]
  },
  {
   "cell_type": "markdown",
   "metadata": {},
   "source": [
    "Observed features: the target feature `is_cancelled` is negatively correlated with `id`. Order `id`s are the numbers assigned to new records. This means that the `id` increases with each order. This negative correlation suggests that the number of booking cancellations is increasing over time. This is most noticeable in the test set, which contains data for 2017. The training set contains data for 2015-2016.\n",
    "\n",
    "There is a weak positive correlation between `lead_time` and `is_cancelled`. This may indicate that the likelihood of booking cancellation increases if the order is placed well in advance.\n",
    "\n",
    "In the `data_test` dataset, the correlation between `arrival_date_week_number` and `lead_time` may be explained by the fact that the data in this dataset is only available for one year. It is difficult to determine the true reasons for this correlation. This may be due to database features and how reservations are processed if the user books a room for the following year.\n",
    "\n",
    "There is also a clear correlation between `total_nights`, `stays_in_weekend_nights`, and `stays_in_week_nights`.\n",
    "\n",
    "No significant correlation is observed for the other parameters."
   ]
  },
  {
   "cell_type": "markdown",
   "metadata": {},
   "source": "### Research of string features"
  },
  {
   "cell_type": "code",
   "execution_count": 19,
   "metadata": {},
   "outputs": [
    {
     "data": {
      "text/html": [
       "<div>\n",
       "<style scoped>\n",
       "    .dataframe tbody tr th:only-of-type {\n",
       "        vertical-align: middle;\n",
       "    }\n",
       "\n",
       "    .dataframe tbody tr th {\n",
       "        vertical-align: top;\n",
       "    }\n",
       "\n",
       "    .dataframe thead th {\n",
       "        text-align: right;\n",
       "    }\n",
       "</style>\n",
       "<table border=\"1\" class=\"dataframe\">\n",
       "  <thead>\n",
       "    <tr style=\"text-align: right;\">\n",
       "      <th></th>\n",
       "      <th>arrival_date_month</th>\n",
       "      <th>meal</th>\n",
       "      <th>country</th>\n",
       "      <th>distribution_channel</th>\n",
       "      <th>reserved_room_type</th>\n",
       "      <th>customer_type</th>\n",
       "    </tr>\n",
       "  </thead>\n",
       "  <tbody>\n",
       "    <tr>\n",
       "      <th>0</th>\n",
       "      <td>July</td>\n",
       "      <td>BB</td>\n",
       "      <td>GBR</td>\n",
       "      <td>Direct</td>\n",
       "      <td>A</td>\n",
       "      <td>Transient</td>\n",
       "    </tr>\n",
       "    <tr>\n",
       "      <th>1</th>\n",
       "      <td>July</td>\n",
       "      <td>BB</td>\n",
       "      <td>GBR</td>\n",
       "      <td>TA/TO</td>\n",
       "      <td>A</td>\n",
       "      <td>Transient</td>\n",
       "    </tr>\n",
       "    <tr>\n",
       "      <th>2</th>\n",
       "      <td>July</td>\n",
       "      <td>BB</td>\n",
       "      <td>PRT</td>\n",
       "      <td>Direct</td>\n",
       "      <td>C</td>\n",
       "      <td>Transient</td>\n",
       "    </tr>\n",
       "    <tr>\n",
       "      <th>3</th>\n",
       "      <td>July</td>\n",
       "      <td>FB</td>\n",
       "      <td>PRT</td>\n",
       "      <td>Direct</td>\n",
       "      <td>C</td>\n",
       "      <td>Transient</td>\n",
       "    </tr>\n",
       "    <tr>\n",
       "      <th>4</th>\n",
       "      <td>July</td>\n",
       "      <td>BB</td>\n",
       "      <td>PRT</td>\n",
       "      <td>TA/TO</td>\n",
       "      <td>A</td>\n",
       "      <td>Transient</td>\n",
       "    </tr>\n",
       "  </tbody>\n",
       "</table>\n",
       "</div>"
      ],
      "text/plain": [
       "  arrival_date_month       meal country distribution_channel  \\\n",
       "0               July  BB            GBR               Direct   \n",
       "1               July  BB            GBR                TA/TO   \n",
       "2               July  BB            PRT               Direct   \n",
       "3               July  FB            PRT               Direct   \n",
       "4               July  BB            PRT                TA/TO   \n",
       "\n",
       "  reserved_room_type customer_type  \n",
       "0   A                    Transient  \n",
       "1   A                    Transient  \n",
       "2   C                    Transient  \n",
       "3   C                    Transient  \n",
       "4   A                    Transient  "
      ]
     },
     "execution_count": 19,
     "metadata": {},
     "output_type": "execute_result"
    }
   ],
   "source": [
    "data_train.select_dtypes(include=['object']).head()"
   ]
  },
  {
   "cell_type": "code",
   "execution_count": 20,
   "metadata": {},
   "outputs": [
    {
     "data": {
      "text/html": [
       "<div>\n",
       "<style scoped>\n",
       "    .dataframe tbody tr th:only-of-type {\n",
       "        vertical-align: middle;\n",
       "    }\n",
       "\n",
       "    .dataframe tbody tr th {\n",
       "        vertical-align: top;\n",
       "    }\n",
       "\n",
       "    .dataframe thead th {\n",
       "        text-align: right;\n",
       "    }\n",
       "</style>\n",
       "<table border=\"1\" class=\"dataframe\">\n",
       "  <thead>\n",
       "    <tr style=\"text-align: right;\">\n",
       "      <th></th>\n",
       "      <th>arrival_date_month</th>\n",
       "      <th>meal</th>\n",
       "      <th>country</th>\n",
       "      <th>distribution_channel</th>\n",
       "      <th>reserved_room_type</th>\n",
       "      <th>customer_type</th>\n",
       "    </tr>\n",
       "  </thead>\n",
       "  <tbody>\n",
       "    <tr>\n",
       "      <th>0</th>\n",
       "      <td>January</td>\n",
       "      <td>BB</td>\n",
       "      <td>PRT</td>\n",
       "      <td>TA/TO</td>\n",
       "      <td>A</td>\n",
       "      <td>Transient</td>\n",
       "    </tr>\n",
       "    <tr>\n",
       "      <th>1</th>\n",
       "      <td>January</td>\n",
       "      <td>BB</td>\n",
       "      <td>AUT</td>\n",
       "      <td>TA/TO</td>\n",
       "      <td>A</td>\n",
       "      <td>Transient</td>\n",
       "    </tr>\n",
       "    <tr>\n",
       "      <th>2</th>\n",
       "      <td>January</td>\n",
       "      <td>BB</td>\n",
       "      <td>AUT</td>\n",
       "      <td>TA/TO</td>\n",
       "      <td>A</td>\n",
       "      <td>Transient</td>\n",
       "    </tr>\n",
       "    <tr>\n",
       "      <th>3</th>\n",
       "      <td>January</td>\n",
       "      <td>BB</td>\n",
       "      <td>PRT</td>\n",
       "      <td>TA/TO</td>\n",
       "      <td>A</td>\n",
       "      <td>Transient</td>\n",
       "    </tr>\n",
       "    <tr>\n",
       "      <th>4</th>\n",
       "      <td>January</td>\n",
       "      <td>BB</td>\n",
       "      <td>BEL</td>\n",
       "      <td>TA/TO</td>\n",
       "      <td>A</td>\n",
       "      <td>Transient</td>\n",
       "    </tr>\n",
       "  </tbody>\n",
       "</table>\n",
       "</div>"
      ],
      "text/plain": [
       "  arrival_date_month       meal country distribution_channel  \\\n",
       "0            January  BB            PRT                TA/TO   \n",
       "1            January  BB            AUT                TA/TO   \n",
       "2            January  BB            AUT                TA/TO   \n",
       "3            January  BB            PRT                TA/TO   \n",
       "4            January  BB            BEL                TA/TO   \n",
       "\n",
       "  reserved_room_type customer_type  \n",
       "0   A                    Transient  \n",
       "1   A                    Transient  \n",
       "2   A                    Transient  \n",
       "3   A                    Transient  \n",
       "4   A                    Transient  "
      ]
     },
     "execution_count": 20,
     "metadata": {},
     "output_type": "execute_result"
    }
   ],
   "source": [
    "data_test.select_dtypes(include=['object']).head()"
   ]
  },
  {
   "cell_type": "markdown",
   "metadata": {},
   "source": "In total, we have six features with string values. Let's take a closer look at them."
  },
  {
   "cell_type": "markdown",
   "metadata": {},
   "source": [
    "#### arrival_date_month"
   ]
  },
  {
   "cell_type": "code",
   "execution_count": 21,
   "metadata": {},
   "outputs": [
    {
     "data": {
      "text/plain": [
       "October      9238\n",
       "September    8771\n",
       "August       6647\n",
       "November     5750\n",
       "July         5701\n",
       "December     5477\n",
       "April        4795\n",
       "May          4667\n",
       "June         4651\n",
       "March        4138\n",
       "February     3344\n",
       "January      1881\n",
       "Name: arrival_date_month, dtype: int64"
      ]
     },
     "metadata": {},
     "output_type": "display_data"
    },
    {
     "data": {
      "text/plain": [
       "May         5253\n",
       "April       4864\n",
       "June        4574\n",
       "March       4266\n",
       "July        3610\n",
       "February    3538\n",
       "January     3142\n",
       "August      3093\n",
       "Name: arrival_date_month, dtype: int64"
      ]
     },
     "execution_count": 21,
     "metadata": {},
     "output_type": "execute_result"
    }
   ],
   "source": [
    "display(data_train.arrival_date_month.value_counts())\n",
    "data_test.arrival_date_month.value_counts()"
   ]
  },
  {
   "cell_type": "markdown",
   "metadata": {},
   "source": "No anomalies were observed. The only notable thing is that the test sample does not include data for autumn."
  },
  {
   "cell_type": "markdown",
   "metadata": {},
   "source": [
    "#### meal"
   ]
  },
  {
   "cell_type": "code",
   "execution_count": 22,
   "metadata": {},
   "outputs": [
    {
     "data": {
      "text/plain": [
       "BB           51543\n",
       "HB            7289\n",
       "SC            5262\n",
       "SC             515\n",
       "FB             451\n",
       "Name: meal, dtype: int64"
      ]
     },
     "metadata": {},
     "output_type": "display_data"
    },
    {
     "data": {
      "text/plain": [
       "BB           24624\n",
       "SC            5026\n",
       "HB            2396\n",
       "SC             258\n",
       "FB              36\n",
       "Name: meal, dtype: int64"
      ]
     },
     "execution_count": 22,
     "metadata": {},
     "output_type": "execute_result"
    }
   ],
   "source": [
    "display(data_train.meal.value_counts())\n",
    "data_test.meal.value_counts()"
   ]
  },
  {
   "cell_type": "markdown",
   "metadata": {},
   "source": "There's a duplicate of the \"SC\" objects, likely due to an extra space. We'll fix that."
  },
  {
   "cell_type": "code",
   "execution_count": 23,
   "metadata": {},
   "outputs": [],
   "source": [
    "data_train.meal = data_train.meal.str.strip()\n",
    "data_test.meal = data_test.meal.str.strip()"
   ]
  },
  {
   "cell_type": "code",
   "execution_count": 24,
   "metadata": {},
   "outputs": [
    {
     "data": {
      "text/plain": [
       "BB    51543\n",
       "HB     7289\n",
       "SC     5777\n",
       "FB      451\n",
       "Name: meal, dtype: int64"
      ]
     },
     "metadata": {},
     "output_type": "display_data"
    },
    {
     "data": {
      "text/plain": [
       "BB    24624\n",
       "SC     5284\n",
       "HB     2396\n",
       "FB       36\n",
       "Name: meal, dtype: int64"
      ]
     },
     "execution_count": 24,
     "metadata": {},
     "output_type": "execute_result"
    }
   ],
   "source": [
    "display(data_train.meal.value_counts())\n",
    "data_test.meal.value_counts()"
   ]
  },
  {
   "cell_type": "markdown",
   "metadata": {},
   "source": "No further anomalies were observed."
  },
  {
   "cell_type": "markdown",
   "metadata": {},
   "source": [
    "#### country"
   ]
  },
  {
   "cell_type": "code",
   "execution_count": 25,
   "metadata": {},
   "outputs": [
    {
     "data": {
      "text/plain": [
       "PRT    28790\n",
       "FRA     5958\n",
       "GBR     5095\n",
       "ESP     4887\n",
       "DEU     3879\n",
       "       ...  \n",
       "BHR        1\n",
       "PRY        1\n",
       "IMN        1\n",
       "MMR        1\n",
       "BEN        1\n",
       "Name: country, Length: 155, dtype: int64"
      ]
     },
     "metadata": {},
     "output_type": "display_data"
    },
    {
     "data": {
      "text/plain": [
       "PRT    9881\n",
       "GBR    3924\n",
       "FRA    3468\n",
       "DEU    2374\n",
       "ESP    1929\n",
       "       ... \n",
       "STP       1\n",
       "PRI       1\n",
       "NPL       1\n",
       "MYT       1\n",
       "SDN       1\n",
       "Name: country, Length: 143, dtype: int64"
      ]
     },
     "execution_count": 25,
     "metadata": {},
     "output_type": "execute_result"
    }
   ],
   "source": [
    "display(data_train.country.value_counts())\n",
    "data_test.country.value_counts()"
   ]
  },
  {
   "cell_type": "markdown",
   "metadata": {},
   "source": "There are more than 140 different objects in this feature. Anomalies are not excluded, but no obvious problems have been noticed."
  },
  {
   "cell_type": "markdown",
   "metadata": {},
   "source": [
    "#### distribution_channel"
   ]
  },
  {
   "cell_type": "code",
   "execution_count": 26,
   "metadata": {},
   "outputs": [
    {
     "data": {
      "text/plain": [
       "TA/TO        54309\n",
       "Direct        6831\n",
       "Corporate     3821\n",
       "GDS             99\n",
       "Name: distribution_channel, dtype: int64"
      ]
     },
     "metadata": {},
     "output_type": "display_data"
    },
    {
     "data": {
      "text/plain": [
       "TA/TO        27022\n",
       "Direct        3634\n",
       "Corporate     1599\n",
       "GDS             85\n",
       "Name: distribution_channel, dtype: int64"
      ]
     },
     "execution_count": 26,
     "metadata": {},
     "output_type": "execute_result"
    }
   ],
   "source": [
    "display(data_train.distribution_channel.value_counts())\n",
    "data_test.distribution_channel.value_counts()"
   ]
  },
  {
   "cell_type": "markdown",
   "metadata": {},
   "source": "No anomalies were observed."
  },
  {
   "cell_type": "markdown",
   "metadata": {},
   "source": [
    "####  reserved_room_type"
   ]
  },
  {
   "cell_type": "code",
   "execution_count": 27,
   "metadata": {},
   "outputs": [
    {
     "data": {
      "text/plain": [
       "A                   50486\n",
       "D                    9384\n",
       "E                    2445\n",
       "F                    1211\n",
       "B                     714\n",
       "G                     592\n",
       "C                     228\n",
       "Name: reserved_room_type, dtype: int64"
      ]
     },
     "metadata": {},
     "output_type": "display_data"
    },
    {
     "data": {
      "text/plain": [
       "A                   23459\n",
       "D                    6122\n",
       "E                    1641\n",
       "F                     503\n",
       "G                     278\n",
       "C                     201\n",
       "B                     136\n",
       "Name: reserved_room_type, dtype: int64"
      ]
     },
     "execution_count": 27,
     "metadata": {},
     "output_type": "execute_result"
    }
   ],
   "source": [
    "display(data_train.reserved_room_type.value_counts())\n",
    "data_test.reserved_room_type.value_counts()"
   ]
  },
  {
   "cell_type": "markdown",
   "metadata": {},
   "source": "There may be extra spaces because the object count values are too far to the right."
  },
  {
   "cell_type": "code",
   "execution_count": 28,
   "metadata": {},
   "outputs": [],
   "source": [
    "data_train.reserved_room_type = data_train.reserved_room_type.str.strip()\n",
    "data_test.reserved_room_type = data_test.reserved_room_type.str.strip()"
   ]
  },
  {
   "cell_type": "code",
   "execution_count": 29,
   "metadata": {},
   "outputs": [
    {
     "data": {
      "text/plain": [
       "A    50486\n",
       "D     9384\n",
       "E     2445\n",
       "F     1211\n",
       "B      714\n",
       "G      592\n",
       "C      228\n",
       "Name: reserved_room_type, dtype: int64"
      ]
     },
     "metadata": {},
     "output_type": "display_data"
    },
    {
     "data": {
      "text/plain": [
       "A    23459\n",
       "D     6122\n",
       "E     1641\n",
       "F      503\n",
       "G      278\n",
       "C      201\n",
       "B      136\n",
       "Name: reserved_room_type, dtype: int64"
      ]
     },
     "execution_count": 29,
     "metadata": {},
     "output_type": "execute_result"
    }
   ],
   "source": [
    "display(data_train.reserved_room_type.value_counts())\n",
    "data_test.reserved_room_type.value_counts()"
   ]
  },
  {
   "cell_type": "markdown",
   "metadata": {},
   "source": "Yes, there were indeed extra spaces. No other anomalies were noticed."
  },
  {
   "cell_type": "markdown",
   "metadata": {},
   "source": [
    "#### customer_type"
   ]
  },
  {
   "cell_type": "code",
   "execution_count": 30,
   "metadata": {},
   "outputs": [
    {
     "data": {
      "text/plain": [
       "Transient          45400\n",
       "Transient-Party    16629\n",
       "Contract            2745\n",
       "Group                286\n",
       "Name: customer_type, dtype: int64"
      ]
     },
     "metadata": {},
     "output_type": "display_data"
    },
    {
     "data": {
      "text/plain": [
       "Transient          27401\n",
       "Transient-Party     4415\n",
       "Contract             359\n",
       "Group                165\n",
       "Name: customer_type, dtype: int64"
      ]
     },
     "execution_count": 30,
     "metadata": {},
     "output_type": "execute_result"
    }
   ],
   "source": [
    "display(data_train.customer_type.value_counts())\n",
    "data_test.customer_type.value_counts()"
   ]
  },
  {
   "cell_type": "markdown",
   "metadata": {},
   "source": "No anomalies were observed."
  },
  {
   "cell_type": "markdown",
   "metadata": {},
   "source": "### Processing cyclic features"
  },
  {
   "cell_type": "markdown",
   "metadata": {},
   "source": [
    "Let's process cyclical features. Such as:\n",
    "* `arrival_date_week_number`\n",
    "* `arrival_date_day_of_month`\n",
    "\n",
    "We'll convert them to polar coordinates by plotting the values on a circle and calculating the sine and cosine for each value. This way, we can tell the machine learning model that the maximum and minimum values are close to each other. For example, like 23 hours and 0 hours."
   ]
  },
  {
   "cell_type": "markdown",
   "metadata": {},
   "source": [
    "####  arrival_date_week_number"
   ]
  },
  {
   "cell_type": "code",
   "execution_count": 31,
   "metadata": {},
   "outputs": [
    {
     "data": {
      "text/plain": [
       "array([27, 28, 29, 30, 31, 32, 33, 34, 35, 36, 37, 38, 39, 40, 41, 42, 43,\n",
       "       44, 45, 46, 47, 48, 49, 50, 51, 52, 53,  1,  2,  3,  4,  5,  6,  7,\n",
       "        8,  9, 10, 11, 12, 13, 14, 15, 16, 17, 18, 19, 20, 21, 22, 23, 24,\n",
       "       25, 26])"
      ]
     },
     "metadata": {},
     "output_type": "display_data"
    },
    {
     "data": {
      "text/plain": [
       "array([ 1,  2,  3,  4,  5,  6,  7,  8,  9, 10, 11, 12, 13, 14, 15, 16, 17,\n",
       "       18, 19, 20, 21, 22, 23, 24, 25, 26, 27, 28, 29, 30, 31, 32, 33, 34,\n",
       "       35])"
      ]
     },
     "execution_count": 31,
     "metadata": {},
     "output_type": "execute_result"
    }
   ],
   "source": [
    "# Check the unique values of this feature in the datasets\n",
    "display(data_train.arrival_date_week_number.unique())\n",
    "data_test.arrival_date_week_number.unique()"
   ]
  },
  {
   "cell_type": "markdown",
   "metadata": {},
   "source": "Let's assume that we have 53 weeks in a year. Let's calculate additional characteristics."
  },
  {
   "cell_type": "code",
   "execution_count": 32,
   "metadata": {},
   "outputs": [
    {
     "data": {
      "text/html": [
       "<div>\n",
       "<style scoped>\n",
       "    .dataframe tbody tr th:only-of-type {\n",
       "        vertical-align: middle;\n",
       "    }\n",
       "\n",
       "    .dataframe tbody tr th {\n",
       "        vertical-align: top;\n",
       "    }\n",
       "\n",
       "    .dataframe thead th {\n",
       "        text-align: right;\n",
       "    }\n",
       "</style>\n",
       "<table border=\"1\" class=\"dataframe\">\n",
       "  <thead>\n",
       "    <tr style=\"text-align: right;\">\n",
       "      <th></th>\n",
       "      <th>id</th>\n",
       "      <th>is_cancelled</th>\n",
       "      <th>lead_time</th>\n",
       "      <th>arrival_date_year</th>\n",
       "      <th>arrival_date_month</th>\n",
       "      <th>arrival_date_week_number</th>\n",
       "      <th>arrival_date_day_of_month</th>\n",
       "      <th>stays_in_weekend_nights</th>\n",
       "      <th>stays_in_week_nights</th>\n",
       "      <th>adults</th>\n",
       "      <th>children</th>\n",
       "      <th>babies</th>\n",
       "      <th>...</th>\n",
       "      <th>is_repeated_guest</th>\n",
       "      <th>previous_cancellations</th>\n",
       "      <th>previous_bookings_not_canceled</th>\n",
       "      <th>reserved_room_type</th>\n",
       "      <th>booking_changes</th>\n",
       "      <th>days_in_waiting_list</th>\n",
       "      <th>customer_type</th>\n",
       "      <th>required_car_parking_spaces</th>\n",
       "      <th>total_of_special_requests</th>\n",
       "      <th>total_nights</th>\n",
       "      <th>arrival_date_week_sin</th>\n",
       "      <th>arrival_date_week_cos</th>\n",
       "    </tr>\n",
       "  </thead>\n",
       "  <tbody>\n",
       "    <tr>\n",
       "      <th>0</th>\n",
       "      <td>0</td>\n",
       "      <td>0</td>\n",
       "      <td>7.0</td>\n",
       "      <td>2015</td>\n",
       "      <td>July</td>\n",
       "      <td>27</td>\n",
       "      <td>1</td>\n",
       "      <td>0</td>\n",
       "      <td>1</td>\n",
       "      <td>1.0</td>\n",
       "      <td>0.0</td>\n",
       "      <td>0.0</td>\n",
       "      <td>...</td>\n",
       "      <td>0</td>\n",
       "      <td>0</td>\n",
       "      <td>0</td>\n",
       "      <td>A</td>\n",
       "      <td>0</td>\n",
       "      <td>0</td>\n",
       "      <td>Transient</td>\n",
       "      <td>0</td>\n",
       "      <td>0</td>\n",
       "      <td>1</td>\n",
       "      <td>-0.059241</td>\n",
       "      <td>-0.998244</td>\n",
       "    </tr>\n",
       "    <tr>\n",
       "      <th>1</th>\n",
       "      <td>1</td>\n",
       "      <td>0</td>\n",
       "      <td>14.0</td>\n",
       "      <td>2015</td>\n",
       "      <td>July</td>\n",
       "      <td>27</td>\n",
       "      <td>1</td>\n",
       "      <td>0</td>\n",
       "      <td>2</td>\n",
       "      <td>2.0</td>\n",
       "      <td>0.0</td>\n",
       "      <td>0.0</td>\n",
       "      <td>...</td>\n",
       "      <td>0</td>\n",
       "      <td>0</td>\n",
       "      <td>0</td>\n",
       "      <td>A</td>\n",
       "      <td>0</td>\n",
       "      <td>0</td>\n",
       "      <td>Transient</td>\n",
       "      <td>0</td>\n",
       "      <td>1</td>\n",
       "      <td>2</td>\n",
       "      <td>-0.059241</td>\n",
       "      <td>-0.998244</td>\n",
       "    </tr>\n",
       "    <tr>\n",
       "      <th>2</th>\n",
       "      <td>2</td>\n",
       "      <td>0</td>\n",
       "      <td>0.0</td>\n",
       "      <td>2015</td>\n",
       "      <td>July</td>\n",
       "      <td>27</td>\n",
       "      <td>1</td>\n",
       "      <td>0</td>\n",
       "      <td>2</td>\n",
       "      <td>2.0</td>\n",
       "      <td>0.0</td>\n",
       "      <td>0.0</td>\n",
       "      <td>...</td>\n",
       "      <td>0</td>\n",
       "      <td>0</td>\n",
       "      <td>0</td>\n",
       "      <td>C</td>\n",
       "      <td>0</td>\n",
       "      <td>0</td>\n",
       "      <td>Transient</td>\n",
       "      <td>0</td>\n",
       "      <td>0</td>\n",
       "      <td>2</td>\n",
       "      <td>-0.059241</td>\n",
       "      <td>-0.998244</td>\n",
       "    </tr>\n",
       "    <tr>\n",
       "      <th>3</th>\n",
       "      <td>3</td>\n",
       "      <td>0</td>\n",
       "      <td>9.0</td>\n",
       "      <td>2015</td>\n",
       "      <td>July</td>\n",
       "      <td>27</td>\n",
       "      <td>1</td>\n",
       "      <td>0</td>\n",
       "      <td>2</td>\n",
       "      <td>2.0</td>\n",
       "      <td>0.0</td>\n",
       "      <td>0.0</td>\n",
       "      <td>...</td>\n",
       "      <td>0</td>\n",
       "      <td>0</td>\n",
       "      <td>0</td>\n",
       "      <td>C</td>\n",
       "      <td>0</td>\n",
       "      <td>0</td>\n",
       "      <td>Transient</td>\n",
       "      <td>0</td>\n",
       "      <td>1</td>\n",
       "      <td>2</td>\n",
       "      <td>-0.059241</td>\n",
       "      <td>-0.998244</td>\n",
       "    </tr>\n",
       "    <tr>\n",
       "      <th>4</th>\n",
       "      <td>4</td>\n",
       "      <td>1</td>\n",
       "      <td>85.0</td>\n",
       "      <td>2015</td>\n",
       "      <td>July</td>\n",
       "      <td>27</td>\n",
       "      <td>1</td>\n",
       "      <td>0</td>\n",
       "      <td>3</td>\n",
       "      <td>2.0</td>\n",
       "      <td>0.0</td>\n",
       "      <td>0.0</td>\n",
       "      <td>...</td>\n",
       "      <td>0</td>\n",
       "      <td>0</td>\n",
       "      <td>0</td>\n",
       "      <td>A</td>\n",
       "      <td>0</td>\n",
       "      <td>0</td>\n",
       "      <td>Transient</td>\n",
       "      <td>0</td>\n",
       "      <td>1</td>\n",
       "      <td>3</td>\n",
       "      <td>-0.059241</td>\n",
       "      <td>-0.998244</td>\n",
       "    </tr>\n",
       "  </tbody>\n",
       "</table>\n",
       "<p>5 rows × 27 columns</p>\n",
       "</div>"
      ],
      "text/plain": [
       "   id  is_cancelled  lead_time  arrival_date_year arrival_date_month  \\\n",
       "0   0             0        7.0               2015               July   \n",
       "1   1             0       14.0               2015               July   \n",
       "2   2             0        0.0               2015               July   \n",
       "3   3             0        9.0               2015               July   \n",
       "4   4             1       85.0               2015               July   \n",
       "\n",
       "   arrival_date_week_number  arrival_date_day_of_month  \\\n",
       "0                        27                          1   \n",
       "1                        27                          1   \n",
       "2                        27                          1   \n",
       "3                        27                          1   \n",
       "4                        27                          1   \n",
       "\n",
       "   stays_in_weekend_nights  stays_in_week_nights  adults  children  babies  \\\n",
       "0                        0                     1     1.0       0.0     0.0   \n",
       "1                        0                     2     2.0       0.0     0.0   \n",
       "2                        0                     2     2.0       0.0     0.0   \n",
       "3                        0                     2     2.0       0.0     0.0   \n",
       "4                        0                     3     2.0       0.0     0.0   \n",
       "\n",
       "   ... is_repeated_guest previous_cancellations  \\\n",
       "0  ...                 0                      0   \n",
       "1  ...                 0                      0   \n",
       "2  ...                 0                      0   \n",
       "3  ...                 0                      0   \n",
       "4  ...                 0                      0   \n",
       "\n",
       "  previous_bookings_not_canceled  reserved_room_type  booking_changes  \\\n",
       "0                              0                   A                0   \n",
       "1                              0                   A                0   \n",
       "2                              0                   C                0   \n",
       "3                              0                   C                0   \n",
       "4                              0                   A                0   \n",
       "\n",
       "   days_in_waiting_list customer_type  required_car_parking_spaces  \\\n",
       "0                     0     Transient                            0   \n",
       "1                     0     Transient                            0   \n",
       "2                     0     Transient                            0   \n",
       "3                     0     Transient                            0   \n",
       "4                     0     Transient                            0   \n",
       "\n",
       "   total_of_special_requests total_nights  arrival_date_week_sin  \\\n",
       "0                          0            1              -0.059241   \n",
       "1                          1            2              -0.059241   \n",
       "2                          0            2              -0.059241   \n",
       "3                          1            2              -0.059241   \n",
       "4                          1            3              -0.059241   \n",
       "\n",
       "   arrival_date_week_cos  \n",
       "0              -0.998244  \n",
       "1              -0.998244  \n",
       "2              -0.998244  \n",
       "3              -0.998244  \n",
       "4              -0.998244  \n",
       "\n",
       "[5 rows x 27 columns]"
      ]
     },
     "metadata": {},
     "output_type": "display_data"
    },
    {
     "data": {
      "text/html": [
       "<div>\n",
       "<style scoped>\n",
       "    .dataframe tbody tr th:only-of-type {\n",
       "        vertical-align: middle;\n",
       "    }\n",
       "\n",
       "    .dataframe tbody tr th {\n",
       "        vertical-align: top;\n",
       "    }\n",
       "\n",
       "    .dataframe thead th {\n",
       "        text-align: right;\n",
       "    }\n",
       "</style>\n",
       "<table border=\"1\" class=\"dataframe\">\n",
       "  <thead>\n",
       "    <tr style=\"text-align: right;\">\n",
       "      <th></th>\n",
       "      <th>id</th>\n",
       "      <th>is_cancelled</th>\n",
       "      <th>lead_time</th>\n",
       "      <th>arrival_date_year</th>\n",
       "      <th>arrival_date_month</th>\n",
       "      <th>arrival_date_week_number</th>\n",
       "      <th>arrival_date_day_of_month</th>\n",
       "      <th>stays_in_weekend_nights</th>\n",
       "      <th>stays_in_week_nights</th>\n",
       "      <th>adults</th>\n",
       "      <th>children</th>\n",
       "      <th>babies</th>\n",
       "      <th>...</th>\n",
       "      <th>is_repeated_guest</th>\n",
       "      <th>previous_cancellations</th>\n",
       "      <th>previous_bookings_not_canceled</th>\n",
       "      <th>reserved_room_type</th>\n",
       "      <th>booking_changes</th>\n",
       "      <th>days_in_waiting_list</th>\n",
       "      <th>customer_type</th>\n",
       "      <th>required_car_parking_spaces</th>\n",
       "      <th>total_of_special_requests</th>\n",
       "      <th>total_nights</th>\n",
       "      <th>arrival_date_week_sin</th>\n",
       "      <th>arrival_date_week_cos</th>\n",
       "    </tr>\n",
       "  </thead>\n",
       "  <tbody>\n",
       "    <tr>\n",
       "      <th>0</th>\n",
       "      <td>6086</td>\n",
       "      <td>1</td>\n",
       "      <td>74.0</td>\n",
       "      <td>2017</td>\n",
       "      <td>January</td>\n",
       "      <td>1</td>\n",
       "      <td>1</td>\n",
       "      <td>1</td>\n",
       "      <td>0</td>\n",
       "      <td>2.0</td>\n",
       "      <td>0.0</td>\n",
       "      <td>0.0</td>\n",
       "      <td>...</td>\n",
       "      <td>0</td>\n",
       "      <td>0</td>\n",
       "      <td>0</td>\n",
       "      <td>A</td>\n",
       "      <td>0</td>\n",
       "      <td>0</td>\n",
       "      <td>Transient</td>\n",
       "      <td>0</td>\n",
       "      <td>0</td>\n",
       "      <td>1</td>\n",
       "      <td>0.118273</td>\n",
       "      <td>0.992981</td>\n",
       "    </tr>\n",
       "    <tr>\n",
       "      <th>1</th>\n",
       "      <td>6087</td>\n",
       "      <td>1</td>\n",
       "      <td>62.0</td>\n",
       "      <td>2017</td>\n",
       "      <td>January</td>\n",
       "      <td>1</td>\n",
       "      <td>1</td>\n",
       "      <td>2</td>\n",
       "      <td>2</td>\n",
       "      <td>2.0</td>\n",
       "      <td>0.0</td>\n",
       "      <td>0.0</td>\n",
       "      <td>...</td>\n",
       "      <td>0</td>\n",
       "      <td>0</td>\n",
       "      <td>0</td>\n",
       "      <td>A</td>\n",
       "      <td>0</td>\n",
       "      <td>0</td>\n",
       "      <td>Transient</td>\n",
       "      <td>0</td>\n",
       "      <td>1</td>\n",
       "      <td>4</td>\n",
       "      <td>0.118273</td>\n",
       "      <td>0.992981</td>\n",
       "    </tr>\n",
       "    <tr>\n",
       "      <th>2</th>\n",
       "      <td>6088</td>\n",
       "      <td>1</td>\n",
       "      <td>62.0</td>\n",
       "      <td>2017</td>\n",
       "      <td>January</td>\n",
       "      <td>1</td>\n",
       "      <td>1</td>\n",
       "      <td>2</td>\n",
       "      <td>2</td>\n",
       "      <td>2.0</td>\n",
       "      <td>0.0</td>\n",
       "      <td>0.0</td>\n",
       "      <td>...</td>\n",
       "      <td>0</td>\n",
       "      <td>0</td>\n",
       "      <td>0</td>\n",
       "      <td>A</td>\n",
       "      <td>0</td>\n",
       "      <td>0</td>\n",
       "      <td>Transient</td>\n",
       "      <td>0</td>\n",
       "      <td>1</td>\n",
       "      <td>4</td>\n",
       "      <td>0.118273</td>\n",
       "      <td>0.992981</td>\n",
       "    </tr>\n",
       "    <tr>\n",
       "      <th>3</th>\n",
       "      <td>6089</td>\n",
       "      <td>1</td>\n",
       "      <td>71.0</td>\n",
       "      <td>2017</td>\n",
       "      <td>January</td>\n",
       "      <td>1</td>\n",
       "      <td>1</td>\n",
       "      <td>2</td>\n",
       "      <td>2</td>\n",
       "      <td>1.0</td>\n",
       "      <td>0.0</td>\n",
       "      <td>0.0</td>\n",
       "      <td>...</td>\n",
       "      <td>0</td>\n",
       "      <td>0</td>\n",
       "      <td>0</td>\n",
       "      <td>A</td>\n",
       "      <td>0</td>\n",
       "      <td>0</td>\n",
       "      <td>Transient</td>\n",
       "      <td>0</td>\n",
       "      <td>1</td>\n",
       "      <td>4</td>\n",
       "      <td>0.118273</td>\n",
       "      <td>0.992981</td>\n",
       "    </tr>\n",
       "    <tr>\n",
       "      <th>4</th>\n",
       "      <td>6090</td>\n",
       "      <td>1</td>\n",
       "      <td>172.0</td>\n",
       "      <td>2017</td>\n",
       "      <td>January</td>\n",
       "      <td>1</td>\n",
       "      <td>1</td>\n",
       "      <td>2</td>\n",
       "      <td>5</td>\n",
       "      <td>2.0</td>\n",
       "      <td>0.0</td>\n",
       "      <td>0.0</td>\n",
       "      <td>...</td>\n",
       "      <td>0</td>\n",
       "      <td>0</td>\n",
       "      <td>0</td>\n",
       "      <td>A</td>\n",
       "      <td>0</td>\n",
       "      <td>0</td>\n",
       "      <td>Transient</td>\n",
       "      <td>0</td>\n",
       "      <td>0</td>\n",
       "      <td>7</td>\n",
       "      <td>0.118273</td>\n",
       "      <td>0.992981</td>\n",
       "    </tr>\n",
       "  </tbody>\n",
       "</table>\n",
       "<p>5 rows × 27 columns</p>\n",
       "</div>"
      ],
      "text/plain": [
       "     id  is_cancelled  lead_time  arrival_date_year arrival_date_month  \\\n",
       "0  6086             1       74.0               2017            January   \n",
       "1  6087             1       62.0               2017            January   \n",
       "2  6088             1       62.0               2017            January   \n",
       "3  6089             1       71.0               2017            January   \n",
       "4  6090             1      172.0               2017            January   \n",
       "\n",
       "   arrival_date_week_number  arrival_date_day_of_month  \\\n",
       "0                         1                          1   \n",
       "1                         1                          1   \n",
       "2                         1                          1   \n",
       "3                         1                          1   \n",
       "4                         1                          1   \n",
       "\n",
       "   stays_in_weekend_nights  stays_in_week_nights  adults  children  babies  \\\n",
       "0                        1                     0     2.0       0.0     0.0   \n",
       "1                        2                     2     2.0       0.0     0.0   \n",
       "2                        2                     2     2.0       0.0     0.0   \n",
       "3                        2                     2     1.0       0.0     0.0   \n",
       "4                        2                     5     2.0       0.0     0.0   \n",
       "\n",
       "   ... is_repeated_guest previous_cancellations  \\\n",
       "0  ...                 0                      0   \n",
       "1  ...                 0                      0   \n",
       "2  ...                 0                      0   \n",
       "3  ...                 0                      0   \n",
       "4  ...                 0                      0   \n",
       "\n",
       "  previous_bookings_not_canceled  reserved_room_type  booking_changes  \\\n",
       "0                              0                   A                0   \n",
       "1                              0                   A                0   \n",
       "2                              0                   A                0   \n",
       "3                              0                   A                0   \n",
       "4                              0                   A                0   \n",
       "\n",
       "   days_in_waiting_list customer_type  required_car_parking_spaces  \\\n",
       "0                     0     Transient                            0   \n",
       "1                     0     Transient                            0   \n",
       "2                     0     Transient                            0   \n",
       "3                     0     Transient                            0   \n",
       "4                     0     Transient                            0   \n",
       "\n",
       "   total_of_special_requests total_nights  arrival_date_week_sin  \\\n",
       "0                          0            1               0.118273   \n",
       "1                          1            4               0.118273   \n",
       "2                          1            4               0.118273   \n",
       "3                          1            4               0.118273   \n",
       "4                          0            7               0.118273   \n",
       "\n",
       "   arrival_date_week_cos  \n",
       "0               0.992981  \n",
       "1               0.992981  \n",
       "2               0.992981  \n",
       "3               0.992981  \n",
       "4               0.992981  \n",
       "\n",
       "[5 rows x 27 columns]"
      ]
     },
     "execution_count": 32,
     "metadata": {},
     "output_type": "execute_result"
    }
   ],
   "source": [
    "data_train['arrival_date_week_sin'] = np.sin(data_train.arrival_date_week_number*(2.*np.pi/53))\n",
    "data_train['arrival_date_week_cos'] = np.cos(data_train.arrival_date_week_number*(2.*np.pi/53))\n",
    "\n",
    "data_test['arrival_date_week_sin'] = np.sin(data_test.arrival_date_week_number*(2.*np.pi/53))\n",
    "data_test['arrival_date_week_cos'] = np.cos(data_test.arrival_date_week_number*(2.*np.pi/53))\n",
    "\n",
    "display(data_train.head())\n",
    "data_test.head()"
   ]
  },
  {
   "cell_type": "markdown",
   "metadata": {},
   "source": [
    "#### arrival_date_day_of_month"
   ]
  },
  {
   "cell_type": "code",
   "execution_count": 33,
   "metadata": {},
   "outputs": [
    {
     "data": {
      "text/plain": [
       "array([ 1,  2,  3,  4,  5,  6,  7,  8,  9, 10, 11, 12, 13, 14, 15, 16, 17,\n",
       "       18, 19, 20, 21, 22, 23, 24, 25, 26, 27, 28, 29, 30, 31])"
      ]
     },
     "metadata": {},
     "output_type": "display_data"
    },
    {
     "data": {
      "text/plain": [
       "array([ 1,  2,  3,  4,  5,  6,  7,  8,  9, 11, 12, 13, 14, 16, 17, 19, 20,\n",
       "       21, 22, 23, 24, 25, 26, 27, 28, 29, 30, 31, 10, 15, 18])"
      ]
     },
     "execution_count": 33,
     "metadata": {},
     "output_type": "execute_result"
    }
   ],
   "source": [
    "# Look at the unique values of this attribute in the datasets\n",
    "display(data_train.arrival_date_day_of_month.unique())\n",
    "data_test.arrival_date_day_of_month.unique()"
   ]
  },
  {
   "cell_type": "markdown",
   "metadata": {},
   "source": "Let's indicate that the number of days in a month is 31. Calculate additional features."
  },
  {
   "cell_type": "code",
   "execution_count": 34,
   "metadata": {},
   "outputs": [
    {
     "data": {
      "text/html": [
       "<div>\n",
       "<style scoped>\n",
       "    .dataframe tbody tr th:only-of-type {\n",
       "        vertical-align: middle;\n",
       "    }\n",
       "\n",
       "    .dataframe tbody tr th {\n",
       "        vertical-align: top;\n",
       "    }\n",
       "\n",
       "    .dataframe thead th {\n",
       "        text-align: right;\n",
       "    }\n",
       "</style>\n",
       "<table border=\"1\" class=\"dataframe\">\n",
       "  <thead>\n",
       "    <tr style=\"text-align: right;\">\n",
       "      <th></th>\n",
       "      <th>id</th>\n",
       "      <th>is_cancelled</th>\n",
       "      <th>lead_time</th>\n",
       "      <th>arrival_date_year</th>\n",
       "      <th>arrival_date_month</th>\n",
       "      <th>arrival_date_week_number</th>\n",
       "      <th>arrival_date_day_of_month</th>\n",
       "      <th>stays_in_weekend_nights</th>\n",
       "      <th>stays_in_week_nights</th>\n",
       "      <th>adults</th>\n",
       "      <th>children</th>\n",
       "      <th>babies</th>\n",
       "      <th>...</th>\n",
       "      <th>previous_bookings_not_canceled</th>\n",
       "      <th>reserved_room_type</th>\n",
       "      <th>booking_changes</th>\n",
       "      <th>days_in_waiting_list</th>\n",
       "      <th>customer_type</th>\n",
       "      <th>required_car_parking_spaces</th>\n",
       "      <th>total_of_special_requests</th>\n",
       "      <th>total_nights</th>\n",
       "      <th>arrival_date_week_sin</th>\n",
       "      <th>arrival_date_week_cos</th>\n",
       "      <th>arrival_date_day_of_month_sin</th>\n",
       "      <th>arrival_date_day_of_month_cos</th>\n",
       "    </tr>\n",
       "  </thead>\n",
       "  <tbody>\n",
       "    <tr>\n",
       "      <th>0</th>\n",
       "      <td>0</td>\n",
       "      <td>0</td>\n",
       "      <td>7.0</td>\n",
       "      <td>2015</td>\n",
       "      <td>July</td>\n",
       "      <td>27</td>\n",
       "      <td>1</td>\n",
       "      <td>0</td>\n",
       "      <td>1</td>\n",
       "      <td>1.0</td>\n",
       "      <td>0.0</td>\n",
       "      <td>0.0</td>\n",
       "      <td>...</td>\n",
       "      <td>0</td>\n",
       "      <td>A</td>\n",
       "      <td>0</td>\n",
       "      <td>0</td>\n",
       "      <td>Transient</td>\n",
       "      <td>0</td>\n",
       "      <td>0</td>\n",
       "      <td>1</td>\n",
       "      <td>-0.059241</td>\n",
       "      <td>-0.998244</td>\n",
       "      <td>0.118273</td>\n",
       "      <td>0.992981</td>\n",
       "    </tr>\n",
       "    <tr>\n",
       "      <th>1</th>\n",
       "      <td>1</td>\n",
       "      <td>0</td>\n",
       "      <td>14.0</td>\n",
       "      <td>2015</td>\n",
       "      <td>July</td>\n",
       "      <td>27</td>\n",
       "      <td>1</td>\n",
       "      <td>0</td>\n",
       "      <td>2</td>\n",
       "      <td>2.0</td>\n",
       "      <td>0.0</td>\n",
       "      <td>0.0</td>\n",
       "      <td>...</td>\n",
       "      <td>0</td>\n",
       "      <td>A</td>\n",
       "      <td>0</td>\n",
       "      <td>0</td>\n",
       "      <td>Transient</td>\n",
       "      <td>0</td>\n",
       "      <td>1</td>\n",
       "      <td>2</td>\n",
       "      <td>-0.059241</td>\n",
       "      <td>-0.998244</td>\n",
       "      <td>0.118273</td>\n",
       "      <td>0.992981</td>\n",
       "    </tr>\n",
       "    <tr>\n",
       "      <th>2</th>\n",
       "      <td>2</td>\n",
       "      <td>0</td>\n",
       "      <td>0.0</td>\n",
       "      <td>2015</td>\n",
       "      <td>July</td>\n",
       "      <td>27</td>\n",
       "      <td>1</td>\n",
       "      <td>0</td>\n",
       "      <td>2</td>\n",
       "      <td>2.0</td>\n",
       "      <td>0.0</td>\n",
       "      <td>0.0</td>\n",
       "      <td>...</td>\n",
       "      <td>0</td>\n",
       "      <td>C</td>\n",
       "      <td>0</td>\n",
       "      <td>0</td>\n",
       "      <td>Transient</td>\n",
       "      <td>0</td>\n",
       "      <td>0</td>\n",
       "      <td>2</td>\n",
       "      <td>-0.059241</td>\n",
       "      <td>-0.998244</td>\n",
       "      <td>0.118273</td>\n",
       "      <td>0.992981</td>\n",
       "    </tr>\n",
       "    <tr>\n",
       "      <th>3</th>\n",
       "      <td>3</td>\n",
       "      <td>0</td>\n",
       "      <td>9.0</td>\n",
       "      <td>2015</td>\n",
       "      <td>July</td>\n",
       "      <td>27</td>\n",
       "      <td>1</td>\n",
       "      <td>0</td>\n",
       "      <td>2</td>\n",
       "      <td>2.0</td>\n",
       "      <td>0.0</td>\n",
       "      <td>0.0</td>\n",
       "      <td>...</td>\n",
       "      <td>0</td>\n",
       "      <td>C</td>\n",
       "      <td>0</td>\n",
       "      <td>0</td>\n",
       "      <td>Transient</td>\n",
       "      <td>0</td>\n",
       "      <td>1</td>\n",
       "      <td>2</td>\n",
       "      <td>-0.059241</td>\n",
       "      <td>-0.998244</td>\n",
       "      <td>0.118273</td>\n",
       "      <td>0.992981</td>\n",
       "    </tr>\n",
       "    <tr>\n",
       "      <th>4</th>\n",
       "      <td>4</td>\n",
       "      <td>1</td>\n",
       "      <td>85.0</td>\n",
       "      <td>2015</td>\n",
       "      <td>July</td>\n",
       "      <td>27</td>\n",
       "      <td>1</td>\n",
       "      <td>0</td>\n",
       "      <td>3</td>\n",
       "      <td>2.0</td>\n",
       "      <td>0.0</td>\n",
       "      <td>0.0</td>\n",
       "      <td>...</td>\n",
       "      <td>0</td>\n",
       "      <td>A</td>\n",
       "      <td>0</td>\n",
       "      <td>0</td>\n",
       "      <td>Transient</td>\n",
       "      <td>0</td>\n",
       "      <td>1</td>\n",
       "      <td>3</td>\n",
       "      <td>-0.059241</td>\n",
       "      <td>-0.998244</td>\n",
       "      <td>0.118273</td>\n",
       "      <td>0.992981</td>\n",
       "    </tr>\n",
       "  </tbody>\n",
       "</table>\n",
       "<p>5 rows × 29 columns</p>\n",
       "</div>"
      ],
      "text/plain": [
       "   id  is_cancelled  lead_time  arrival_date_year arrival_date_month  \\\n",
       "0   0             0        7.0               2015               July   \n",
       "1   1             0       14.0               2015               July   \n",
       "2   2             0        0.0               2015               July   \n",
       "3   3             0        9.0               2015               July   \n",
       "4   4             1       85.0               2015               July   \n",
       "\n",
       "   arrival_date_week_number  arrival_date_day_of_month  \\\n",
       "0                        27                          1   \n",
       "1                        27                          1   \n",
       "2                        27                          1   \n",
       "3                        27                          1   \n",
       "4                        27                          1   \n",
       "\n",
       "   stays_in_weekend_nights  stays_in_week_nights  adults  children  babies  \\\n",
       "0                        0                     1     1.0       0.0     0.0   \n",
       "1                        0                     2     2.0       0.0     0.0   \n",
       "2                        0                     2     2.0       0.0     0.0   \n",
       "3                        0                     2     2.0       0.0     0.0   \n",
       "4                        0                     3     2.0       0.0     0.0   \n",
       "\n",
       "   ... previous_bookings_not_canceled reserved_room_type booking_changes  \\\n",
       "0  ...                              0                  A               0   \n",
       "1  ...                              0                  A               0   \n",
       "2  ...                              0                  C               0   \n",
       "3  ...                              0                  C               0   \n",
       "4  ...                              0                  A               0   \n",
       "\n",
       "   days_in_waiting_list  customer_type  required_car_parking_spaces  \\\n",
       "0                     0      Transient                            0   \n",
       "1                     0      Transient                            0   \n",
       "2                     0      Transient                            0   \n",
       "3                     0      Transient                            0   \n",
       "4                     0      Transient                            0   \n",
       "\n",
       "  total_of_special_requests  total_nights  arrival_date_week_sin  \\\n",
       "0                         0             1              -0.059241   \n",
       "1                         1             2              -0.059241   \n",
       "2                         0             2              -0.059241   \n",
       "3                         1             2              -0.059241   \n",
       "4                         1             3              -0.059241   \n",
       "\n",
       "  arrival_date_week_cos  arrival_date_day_of_month_sin  \\\n",
       "0             -0.998244                       0.118273   \n",
       "1             -0.998244                       0.118273   \n",
       "2             -0.998244                       0.118273   \n",
       "3             -0.998244                       0.118273   \n",
       "4             -0.998244                       0.118273   \n",
       "\n",
       "   arrival_date_day_of_month_cos  \n",
       "0                       0.992981  \n",
       "1                       0.992981  \n",
       "2                       0.992981  \n",
       "3                       0.992981  \n",
       "4                       0.992981  \n",
       "\n",
       "[5 rows x 29 columns]"
      ]
     },
     "metadata": {},
     "output_type": "display_data"
    },
    {
     "data": {
      "text/html": [
       "<div>\n",
       "<style scoped>\n",
       "    .dataframe tbody tr th:only-of-type {\n",
       "        vertical-align: middle;\n",
       "    }\n",
       "\n",
       "    .dataframe tbody tr th {\n",
       "        vertical-align: top;\n",
       "    }\n",
       "\n",
       "    .dataframe thead th {\n",
       "        text-align: right;\n",
       "    }\n",
       "</style>\n",
       "<table border=\"1\" class=\"dataframe\">\n",
       "  <thead>\n",
       "    <tr style=\"text-align: right;\">\n",
       "      <th></th>\n",
       "      <th>id</th>\n",
       "      <th>is_cancelled</th>\n",
       "      <th>lead_time</th>\n",
       "      <th>arrival_date_year</th>\n",
       "      <th>arrival_date_month</th>\n",
       "      <th>arrival_date_week_number</th>\n",
       "      <th>arrival_date_day_of_month</th>\n",
       "      <th>stays_in_weekend_nights</th>\n",
       "      <th>stays_in_week_nights</th>\n",
       "      <th>adults</th>\n",
       "      <th>children</th>\n",
       "      <th>babies</th>\n",
       "      <th>...</th>\n",
       "      <th>previous_bookings_not_canceled</th>\n",
       "      <th>reserved_room_type</th>\n",
       "      <th>booking_changes</th>\n",
       "      <th>days_in_waiting_list</th>\n",
       "      <th>customer_type</th>\n",
       "      <th>required_car_parking_spaces</th>\n",
       "      <th>total_of_special_requests</th>\n",
       "      <th>total_nights</th>\n",
       "      <th>arrival_date_week_sin</th>\n",
       "      <th>arrival_date_week_cos</th>\n",
       "      <th>arrival_date_day_of_month_sin</th>\n",
       "      <th>arrival_date_day_of_month_cos</th>\n",
       "    </tr>\n",
       "  </thead>\n",
       "  <tbody>\n",
       "    <tr>\n",
       "      <th>0</th>\n",
       "      <td>6086</td>\n",
       "      <td>1</td>\n",
       "      <td>74.0</td>\n",
       "      <td>2017</td>\n",
       "      <td>January</td>\n",
       "      <td>1</td>\n",
       "      <td>1</td>\n",
       "      <td>1</td>\n",
       "      <td>0</td>\n",
       "      <td>2.0</td>\n",
       "      <td>0.0</td>\n",
       "      <td>0.0</td>\n",
       "      <td>...</td>\n",
       "      <td>0</td>\n",
       "      <td>A</td>\n",
       "      <td>0</td>\n",
       "      <td>0</td>\n",
       "      <td>Transient</td>\n",
       "      <td>0</td>\n",
       "      <td>0</td>\n",
       "      <td>1</td>\n",
       "      <td>0.118273</td>\n",
       "      <td>0.992981</td>\n",
       "      <td>0.118273</td>\n",
       "      <td>0.992981</td>\n",
       "    </tr>\n",
       "    <tr>\n",
       "      <th>1</th>\n",
       "      <td>6087</td>\n",
       "      <td>1</td>\n",
       "      <td>62.0</td>\n",
       "      <td>2017</td>\n",
       "      <td>January</td>\n",
       "      <td>1</td>\n",
       "      <td>1</td>\n",
       "      <td>2</td>\n",
       "      <td>2</td>\n",
       "      <td>2.0</td>\n",
       "      <td>0.0</td>\n",
       "      <td>0.0</td>\n",
       "      <td>...</td>\n",
       "      <td>0</td>\n",
       "      <td>A</td>\n",
       "      <td>0</td>\n",
       "      <td>0</td>\n",
       "      <td>Transient</td>\n",
       "      <td>0</td>\n",
       "      <td>1</td>\n",
       "      <td>4</td>\n",
       "      <td>0.118273</td>\n",
       "      <td>0.992981</td>\n",
       "      <td>0.118273</td>\n",
       "      <td>0.992981</td>\n",
       "    </tr>\n",
       "    <tr>\n",
       "      <th>2</th>\n",
       "      <td>6088</td>\n",
       "      <td>1</td>\n",
       "      <td>62.0</td>\n",
       "      <td>2017</td>\n",
       "      <td>January</td>\n",
       "      <td>1</td>\n",
       "      <td>1</td>\n",
       "      <td>2</td>\n",
       "      <td>2</td>\n",
       "      <td>2.0</td>\n",
       "      <td>0.0</td>\n",
       "      <td>0.0</td>\n",
       "      <td>...</td>\n",
       "      <td>0</td>\n",
       "      <td>A</td>\n",
       "      <td>0</td>\n",
       "      <td>0</td>\n",
       "      <td>Transient</td>\n",
       "      <td>0</td>\n",
       "      <td>1</td>\n",
       "      <td>4</td>\n",
       "      <td>0.118273</td>\n",
       "      <td>0.992981</td>\n",
       "      <td>0.118273</td>\n",
       "      <td>0.992981</td>\n",
       "    </tr>\n",
       "    <tr>\n",
       "      <th>3</th>\n",
       "      <td>6089</td>\n",
       "      <td>1</td>\n",
       "      <td>71.0</td>\n",
       "      <td>2017</td>\n",
       "      <td>January</td>\n",
       "      <td>1</td>\n",
       "      <td>1</td>\n",
       "      <td>2</td>\n",
       "      <td>2</td>\n",
       "      <td>1.0</td>\n",
       "      <td>0.0</td>\n",
       "      <td>0.0</td>\n",
       "      <td>...</td>\n",
       "      <td>0</td>\n",
       "      <td>A</td>\n",
       "      <td>0</td>\n",
       "      <td>0</td>\n",
       "      <td>Transient</td>\n",
       "      <td>0</td>\n",
       "      <td>1</td>\n",
       "      <td>4</td>\n",
       "      <td>0.118273</td>\n",
       "      <td>0.992981</td>\n",
       "      <td>0.118273</td>\n",
       "      <td>0.992981</td>\n",
       "    </tr>\n",
       "    <tr>\n",
       "      <th>4</th>\n",
       "      <td>6090</td>\n",
       "      <td>1</td>\n",
       "      <td>172.0</td>\n",
       "      <td>2017</td>\n",
       "      <td>January</td>\n",
       "      <td>1</td>\n",
       "      <td>1</td>\n",
       "      <td>2</td>\n",
       "      <td>5</td>\n",
       "      <td>2.0</td>\n",
       "      <td>0.0</td>\n",
       "      <td>0.0</td>\n",
       "      <td>...</td>\n",
       "      <td>0</td>\n",
       "      <td>A</td>\n",
       "      <td>0</td>\n",
       "      <td>0</td>\n",
       "      <td>Transient</td>\n",
       "      <td>0</td>\n",
       "      <td>0</td>\n",
       "      <td>7</td>\n",
       "      <td>0.118273</td>\n",
       "      <td>0.992981</td>\n",
       "      <td>0.118273</td>\n",
       "      <td>0.992981</td>\n",
       "    </tr>\n",
       "  </tbody>\n",
       "</table>\n",
       "<p>5 rows × 29 columns</p>\n",
       "</div>"
      ],
      "text/plain": [
       "     id  is_cancelled  lead_time  arrival_date_year arrival_date_month  \\\n",
       "0  6086             1       74.0               2017            January   \n",
       "1  6087             1       62.0               2017            January   \n",
       "2  6088             1       62.0               2017            January   \n",
       "3  6089             1       71.0               2017            January   \n",
       "4  6090             1      172.0               2017            January   \n",
       "\n",
       "   arrival_date_week_number  arrival_date_day_of_month  \\\n",
       "0                         1                          1   \n",
       "1                         1                          1   \n",
       "2                         1                          1   \n",
       "3                         1                          1   \n",
       "4                         1                          1   \n",
       "\n",
       "   stays_in_weekend_nights  stays_in_week_nights  adults  children  babies  \\\n",
       "0                        1                     0     2.0       0.0     0.0   \n",
       "1                        2                     2     2.0       0.0     0.0   \n",
       "2                        2                     2     2.0       0.0     0.0   \n",
       "3                        2                     2     1.0       0.0     0.0   \n",
       "4                        2                     5     2.0       0.0     0.0   \n",
       "\n",
       "   ... previous_bookings_not_canceled reserved_room_type booking_changes  \\\n",
       "0  ...                              0                  A               0   \n",
       "1  ...                              0                  A               0   \n",
       "2  ...                              0                  A               0   \n",
       "3  ...                              0                  A               0   \n",
       "4  ...                              0                  A               0   \n",
       "\n",
       "   days_in_waiting_list  customer_type  required_car_parking_spaces  \\\n",
       "0                     0      Transient                            0   \n",
       "1                     0      Transient                            0   \n",
       "2                     0      Transient                            0   \n",
       "3                     0      Transient                            0   \n",
       "4                     0      Transient                            0   \n",
       "\n",
       "  total_of_special_requests  total_nights  arrival_date_week_sin  \\\n",
       "0                         0             1               0.118273   \n",
       "1                         1             4               0.118273   \n",
       "2                         1             4               0.118273   \n",
       "3                         1             4               0.118273   \n",
       "4                         0             7               0.118273   \n",
       "\n",
       "  arrival_date_week_cos  arrival_date_day_of_month_sin  \\\n",
       "0              0.992981                       0.118273   \n",
       "1              0.992981                       0.118273   \n",
       "2              0.992981                       0.118273   \n",
       "3              0.992981                       0.118273   \n",
       "4              0.992981                       0.118273   \n",
       "\n",
       "   arrival_date_day_of_month_cos  \n",
       "0                       0.992981  \n",
       "1                       0.992981  \n",
       "2                       0.992981  \n",
       "3                       0.992981  \n",
       "4                       0.992981  \n",
       "\n",
       "[5 rows x 29 columns]"
      ]
     },
     "execution_count": 34,
     "metadata": {},
     "output_type": "execute_result"
    }
   ],
   "source": [
    "data_train['arrival_date_day_of_month_sin'] = np.sin(data_train.arrival_date_day_of_month*(2.*np.pi/53))\n",
    "data_train['arrival_date_day_of_month_cos'] = np.cos(data_train.arrival_date_day_of_month*(2.*np.pi/53))\n",
    "\n",
    "data_test['arrival_date_day_of_month_sin'] = np.sin(data_test.arrival_date_day_of_month*(2.*np.pi/53))\n",
    "data_test['arrival_date_day_of_month_cos'] = np.cos(data_test.arrival_date_day_of_month*(2.*np.pi/53))\n",
    "\n",
    "display(data_train.head())\n",
    "data_test.head()"
   ]
  },
  {
   "cell_type": "markdown",
   "metadata": {},
   "source": "### Adding features"
  },
  {
   "cell_type": "markdown",
   "metadata": {},
   "source": "It's known that seasonal coefficients vary depending on the season. Let's add the `arrival_season` attribute based on the month in which the check-in occurred."
  },
  {
   "cell_type": "code",
   "execution_count": 35,
   "metadata": {},
   "outputs": [
    {
     "data": {
      "text/plain": [
       "array(['July', 'August', 'September', 'October', 'November', 'December',\n",
       "       'January', 'February', 'March', 'April', 'May', 'June'],\n",
       "      dtype=object)"
      ]
     },
     "metadata": {},
     "output_type": "display_data"
    },
    {
     "data": {
      "text/plain": [
       "array(['January', 'February', 'March', 'April', 'May', 'June', 'July',\n",
       "       'August'], dtype=object)"
      ]
     },
     "execution_count": 35,
     "metadata": {},
     "output_type": "execute_result"
    }
   ],
   "source": [
    "# Check the unique values of the arrival_date_month attribute\n",
    "display(data_train.arrival_date_month.unique())\n",
    "data_test.arrival_date_month.unique()"
   ]
  },
  {
   "cell_type": "markdown",
   "metadata": {},
   "source": "It's worth noting that our test dataset doesn't include September, October, November, and December. We'll write a function that takes this into account."
  },
  {
   "cell_type": "code",
   "execution_count": 36,
   "metadata": {},
   "outputs": [],
   "source": [
    "WINTER = ['December', 'January', 'February']\n",
    "SPRING = ['March', 'April', 'May']\n",
    "SUMMER = ['June', 'July', 'August']\n",
    "\n",
    "def set_season(row):\n",
    "    if row.arrival_date_month in WINTER:\n",
    "        return 'Winter'\n",
    "    elif row.arrival_date_month in SPRING:\n",
    "        return 'Spring'\n",
    "    elif row.arrival_date_month in SUMMER:\n",
    "        return 'Summer'\n",
    "    else:\n",
    "        return 'Autumn'"
   ]
  },
  {
   "cell_type": "code",
   "execution_count": 37,
   "metadata": {},
   "outputs": [
    {
     "data": {
      "text/html": [
       "<div>\n",
       "<style scoped>\n",
       "    .dataframe tbody tr th:only-of-type {\n",
       "        vertical-align: middle;\n",
       "    }\n",
       "\n",
       "    .dataframe tbody tr th {\n",
       "        vertical-align: top;\n",
       "    }\n",
       "\n",
       "    .dataframe thead th {\n",
       "        text-align: right;\n",
       "    }\n",
       "</style>\n",
       "<table border=\"1\" class=\"dataframe\">\n",
       "  <thead>\n",
       "    <tr style=\"text-align: right;\">\n",
       "      <th></th>\n",
       "      <th>id</th>\n",
       "      <th>is_cancelled</th>\n",
       "      <th>lead_time</th>\n",
       "      <th>arrival_date_year</th>\n",
       "      <th>arrival_date_month</th>\n",
       "      <th>arrival_date_week_number</th>\n",
       "      <th>arrival_date_day_of_month</th>\n",
       "      <th>stays_in_weekend_nights</th>\n",
       "      <th>stays_in_week_nights</th>\n",
       "      <th>adults</th>\n",
       "      <th>children</th>\n",
       "      <th>babies</th>\n",
       "      <th>...</th>\n",
       "      <th>reserved_room_type</th>\n",
       "      <th>booking_changes</th>\n",
       "      <th>days_in_waiting_list</th>\n",
       "      <th>customer_type</th>\n",
       "      <th>required_car_parking_spaces</th>\n",
       "      <th>total_of_special_requests</th>\n",
       "      <th>total_nights</th>\n",
       "      <th>arrival_date_week_sin</th>\n",
       "      <th>arrival_date_week_cos</th>\n",
       "      <th>arrival_date_day_of_month_sin</th>\n",
       "      <th>arrival_date_day_of_month_cos</th>\n",
       "      <th>arrival_season</th>\n",
       "    </tr>\n",
       "  </thead>\n",
       "  <tbody>\n",
       "    <tr>\n",
       "      <th>0</th>\n",
       "      <td>0</td>\n",
       "      <td>0</td>\n",
       "      <td>7.0</td>\n",
       "      <td>2015</td>\n",
       "      <td>July</td>\n",
       "      <td>27</td>\n",
       "      <td>1</td>\n",
       "      <td>0</td>\n",
       "      <td>1</td>\n",
       "      <td>1.0</td>\n",
       "      <td>0.0</td>\n",
       "      <td>0.0</td>\n",
       "      <td>...</td>\n",
       "      <td>A</td>\n",
       "      <td>0</td>\n",
       "      <td>0</td>\n",
       "      <td>Transient</td>\n",
       "      <td>0</td>\n",
       "      <td>0</td>\n",
       "      <td>1</td>\n",
       "      <td>-0.059241</td>\n",
       "      <td>-0.998244</td>\n",
       "      <td>0.118273</td>\n",
       "      <td>0.992981</td>\n",
       "      <td>Summer</td>\n",
       "    </tr>\n",
       "    <tr>\n",
       "      <th>1</th>\n",
       "      <td>1</td>\n",
       "      <td>0</td>\n",
       "      <td>14.0</td>\n",
       "      <td>2015</td>\n",
       "      <td>July</td>\n",
       "      <td>27</td>\n",
       "      <td>1</td>\n",
       "      <td>0</td>\n",
       "      <td>2</td>\n",
       "      <td>2.0</td>\n",
       "      <td>0.0</td>\n",
       "      <td>0.0</td>\n",
       "      <td>...</td>\n",
       "      <td>A</td>\n",
       "      <td>0</td>\n",
       "      <td>0</td>\n",
       "      <td>Transient</td>\n",
       "      <td>0</td>\n",
       "      <td>1</td>\n",
       "      <td>2</td>\n",
       "      <td>-0.059241</td>\n",
       "      <td>-0.998244</td>\n",
       "      <td>0.118273</td>\n",
       "      <td>0.992981</td>\n",
       "      <td>Summer</td>\n",
       "    </tr>\n",
       "    <tr>\n",
       "      <th>2</th>\n",
       "      <td>2</td>\n",
       "      <td>0</td>\n",
       "      <td>0.0</td>\n",
       "      <td>2015</td>\n",
       "      <td>July</td>\n",
       "      <td>27</td>\n",
       "      <td>1</td>\n",
       "      <td>0</td>\n",
       "      <td>2</td>\n",
       "      <td>2.0</td>\n",
       "      <td>0.0</td>\n",
       "      <td>0.0</td>\n",
       "      <td>...</td>\n",
       "      <td>C</td>\n",
       "      <td>0</td>\n",
       "      <td>0</td>\n",
       "      <td>Transient</td>\n",
       "      <td>0</td>\n",
       "      <td>0</td>\n",
       "      <td>2</td>\n",
       "      <td>-0.059241</td>\n",
       "      <td>-0.998244</td>\n",
       "      <td>0.118273</td>\n",
       "      <td>0.992981</td>\n",
       "      <td>Summer</td>\n",
       "    </tr>\n",
       "    <tr>\n",
       "      <th>3</th>\n",
       "      <td>3</td>\n",
       "      <td>0</td>\n",
       "      <td>9.0</td>\n",
       "      <td>2015</td>\n",
       "      <td>July</td>\n",
       "      <td>27</td>\n",
       "      <td>1</td>\n",
       "      <td>0</td>\n",
       "      <td>2</td>\n",
       "      <td>2.0</td>\n",
       "      <td>0.0</td>\n",
       "      <td>0.0</td>\n",
       "      <td>...</td>\n",
       "      <td>C</td>\n",
       "      <td>0</td>\n",
       "      <td>0</td>\n",
       "      <td>Transient</td>\n",
       "      <td>0</td>\n",
       "      <td>1</td>\n",
       "      <td>2</td>\n",
       "      <td>-0.059241</td>\n",
       "      <td>-0.998244</td>\n",
       "      <td>0.118273</td>\n",
       "      <td>0.992981</td>\n",
       "      <td>Summer</td>\n",
       "    </tr>\n",
       "    <tr>\n",
       "      <th>4</th>\n",
       "      <td>4</td>\n",
       "      <td>1</td>\n",
       "      <td>85.0</td>\n",
       "      <td>2015</td>\n",
       "      <td>July</td>\n",
       "      <td>27</td>\n",
       "      <td>1</td>\n",
       "      <td>0</td>\n",
       "      <td>3</td>\n",
       "      <td>2.0</td>\n",
       "      <td>0.0</td>\n",
       "      <td>0.0</td>\n",
       "      <td>...</td>\n",
       "      <td>A</td>\n",
       "      <td>0</td>\n",
       "      <td>0</td>\n",
       "      <td>Transient</td>\n",
       "      <td>0</td>\n",
       "      <td>1</td>\n",
       "      <td>3</td>\n",
       "      <td>-0.059241</td>\n",
       "      <td>-0.998244</td>\n",
       "      <td>0.118273</td>\n",
       "      <td>0.992981</td>\n",
       "      <td>Summer</td>\n",
       "    </tr>\n",
       "  </tbody>\n",
       "</table>\n",
       "<p>5 rows × 30 columns</p>\n",
       "</div>"
      ],
      "text/plain": [
       "   id  is_cancelled  lead_time  arrival_date_year arrival_date_month  \\\n",
       "0   0             0        7.0               2015               July   \n",
       "1   1             0       14.0               2015               July   \n",
       "2   2             0        0.0               2015               July   \n",
       "3   3             0        9.0               2015               July   \n",
       "4   4             1       85.0               2015               July   \n",
       "\n",
       "   arrival_date_week_number  arrival_date_day_of_month  \\\n",
       "0                        27                          1   \n",
       "1                        27                          1   \n",
       "2                        27                          1   \n",
       "3                        27                          1   \n",
       "4                        27                          1   \n",
       "\n",
       "   stays_in_weekend_nights  stays_in_week_nights  adults  children  babies  \\\n",
       "0                        0                     1     1.0       0.0     0.0   \n",
       "1                        0                     2     2.0       0.0     0.0   \n",
       "2                        0                     2     2.0       0.0     0.0   \n",
       "3                        0                     2     2.0       0.0     0.0   \n",
       "4                        0                     3     2.0       0.0     0.0   \n",
       "\n",
       "   ... reserved_room_type booking_changes days_in_waiting_list  customer_type  \\\n",
       "0  ...                  A               0                    0      Transient   \n",
       "1  ...                  A               0                    0      Transient   \n",
       "2  ...                  C               0                    0      Transient   \n",
       "3  ...                  C               0                    0      Transient   \n",
       "4  ...                  A               0                    0      Transient   \n",
       "\n",
       "   required_car_parking_spaces  total_of_special_requests total_nights  \\\n",
       "0                            0                          0            1   \n",
       "1                            0                          1            2   \n",
       "2                            0                          0            2   \n",
       "3                            0                          1            2   \n",
       "4                            0                          1            3   \n",
       "\n",
       "   arrival_date_week_sin  arrival_date_week_cos arrival_date_day_of_month_sin  \\\n",
       "0              -0.059241              -0.998244                      0.118273   \n",
       "1              -0.059241              -0.998244                      0.118273   \n",
       "2              -0.059241              -0.998244                      0.118273   \n",
       "3              -0.059241              -0.998244                      0.118273   \n",
       "4              -0.059241              -0.998244                      0.118273   \n",
       "\n",
       "   arrival_date_day_of_month_cos  arrival_season  \n",
       "0                       0.992981          Summer  \n",
       "1                       0.992981          Summer  \n",
       "2                       0.992981          Summer  \n",
       "3                       0.992981          Summer  \n",
       "4                       0.992981          Summer  \n",
       "\n",
       "[5 rows x 30 columns]"
      ]
     },
     "metadata": {},
     "output_type": "display_data"
    },
    {
     "data": {
      "text/html": [
       "<div>\n",
       "<style scoped>\n",
       "    .dataframe tbody tr th:only-of-type {\n",
       "        vertical-align: middle;\n",
       "    }\n",
       "\n",
       "    .dataframe tbody tr th {\n",
       "        vertical-align: top;\n",
       "    }\n",
       "\n",
       "    .dataframe thead th {\n",
       "        text-align: right;\n",
       "    }\n",
       "</style>\n",
       "<table border=\"1\" class=\"dataframe\">\n",
       "  <thead>\n",
       "    <tr style=\"text-align: right;\">\n",
       "      <th></th>\n",
       "      <th>id</th>\n",
       "      <th>is_cancelled</th>\n",
       "      <th>lead_time</th>\n",
       "      <th>arrival_date_year</th>\n",
       "      <th>arrival_date_month</th>\n",
       "      <th>arrival_date_week_number</th>\n",
       "      <th>arrival_date_day_of_month</th>\n",
       "      <th>stays_in_weekend_nights</th>\n",
       "      <th>stays_in_week_nights</th>\n",
       "      <th>adults</th>\n",
       "      <th>children</th>\n",
       "      <th>babies</th>\n",
       "      <th>...</th>\n",
       "      <th>reserved_room_type</th>\n",
       "      <th>booking_changes</th>\n",
       "      <th>days_in_waiting_list</th>\n",
       "      <th>customer_type</th>\n",
       "      <th>required_car_parking_spaces</th>\n",
       "      <th>total_of_special_requests</th>\n",
       "      <th>total_nights</th>\n",
       "      <th>arrival_date_week_sin</th>\n",
       "      <th>arrival_date_week_cos</th>\n",
       "      <th>arrival_date_day_of_month_sin</th>\n",
       "      <th>arrival_date_day_of_month_cos</th>\n",
       "      <th>arrival_season</th>\n",
       "    </tr>\n",
       "  </thead>\n",
       "  <tbody>\n",
       "    <tr>\n",
       "      <th>0</th>\n",
       "      <td>6086</td>\n",
       "      <td>1</td>\n",
       "      <td>74.0</td>\n",
       "      <td>2017</td>\n",
       "      <td>January</td>\n",
       "      <td>1</td>\n",
       "      <td>1</td>\n",
       "      <td>1</td>\n",
       "      <td>0</td>\n",
       "      <td>2.0</td>\n",
       "      <td>0.0</td>\n",
       "      <td>0.0</td>\n",
       "      <td>...</td>\n",
       "      <td>A</td>\n",
       "      <td>0</td>\n",
       "      <td>0</td>\n",
       "      <td>Transient</td>\n",
       "      <td>0</td>\n",
       "      <td>0</td>\n",
       "      <td>1</td>\n",
       "      <td>0.118273</td>\n",
       "      <td>0.992981</td>\n",
       "      <td>0.118273</td>\n",
       "      <td>0.992981</td>\n",
       "      <td>Winter</td>\n",
       "    </tr>\n",
       "    <tr>\n",
       "      <th>1</th>\n",
       "      <td>6087</td>\n",
       "      <td>1</td>\n",
       "      <td>62.0</td>\n",
       "      <td>2017</td>\n",
       "      <td>January</td>\n",
       "      <td>1</td>\n",
       "      <td>1</td>\n",
       "      <td>2</td>\n",
       "      <td>2</td>\n",
       "      <td>2.0</td>\n",
       "      <td>0.0</td>\n",
       "      <td>0.0</td>\n",
       "      <td>...</td>\n",
       "      <td>A</td>\n",
       "      <td>0</td>\n",
       "      <td>0</td>\n",
       "      <td>Transient</td>\n",
       "      <td>0</td>\n",
       "      <td>1</td>\n",
       "      <td>4</td>\n",
       "      <td>0.118273</td>\n",
       "      <td>0.992981</td>\n",
       "      <td>0.118273</td>\n",
       "      <td>0.992981</td>\n",
       "      <td>Winter</td>\n",
       "    </tr>\n",
       "    <tr>\n",
       "      <th>2</th>\n",
       "      <td>6088</td>\n",
       "      <td>1</td>\n",
       "      <td>62.0</td>\n",
       "      <td>2017</td>\n",
       "      <td>January</td>\n",
       "      <td>1</td>\n",
       "      <td>1</td>\n",
       "      <td>2</td>\n",
       "      <td>2</td>\n",
       "      <td>2.0</td>\n",
       "      <td>0.0</td>\n",
       "      <td>0.0</td>\n",
       "      <td>...</td>\n",
       "      <td>A</td>\n",
       "      <td>0</td>\n",
       "      <td>0</td>\n",
       "      <td>Transient</td>\n",
       "      <td>0</td>\n",
       "      <td>1</td>\n",
       "      <td>4</td>\n",
       "      <td>0.118273</td>\n",
       "      <td>0.992981</td>\n",
       "      <td>0.118273</td>\n",
       "      <td>0.992981</td>\n",
       "      <td>Winter</td>\n",
       "    </tr>\n",
       "    <tr>\n",
       "      <th>3</th>\n",
       "      <td>6089</td>\n",
       "      <td>1</td>\n",
       "      <td>71.0</td>\n",
       "      <td>2017</td>\n",
       "      <td>January</td>\n",
       "      <td>1</td>\n",
       "      <td>1</td>\n",
       "      <td>2</td>\n",
       "      <td>2</td>\n",
       "      <td>1.0</td>\n",
       "      <td>0.0</td>\n",
       "      <td>0.0</td>\n",
       "      <td>...</td>\n",
       "      <td>A</td>\n",
       "      <td>0</td>\n",
       "      <td>0</td>\n",
       "      <td>Transient</td>\n",
       "      <td>0</td>\n",
       "      <td>1</td>\n",
       "      <td>4</td>\n",
       "      <td>0.118273</td>\n",
       "      <td>0.992981</td>\n",
       "      <td>0.118273</td>\n",
       "      <td>0.992981</td>\n",
       "      <td>Winter</td>\n",
       "    </tr>\n",
       "    <tr>\n",
       "      <th>4</th>\n",
       "      <td>6090</td>\n",
       "      <td>1</td>\n",
       "      <td>172.0</td>\n",
       "      <td>2017</td>\n",
       "      <td>January</td>\n",
       "      <td>1</td>\n",
       "      <td>1</td>\n",
       "      <td>2</td>\n",
       "      <td>5</td>\n",
       "      <td>2.0</td>\n",
       "      <td>0.0</td>\n",
       "      <td>0.0</td>\n",
       "      <td>...</td>\n",
       "      <td>A</td>\n",
       "      <td>0</td>\n",
       "      <td>0</td>\n",
       "      <td>Transient</td>\n",
       "      <td>0</td>\n",
       "      <td>0</td>\n",
       "      <td>7</td>\n",
       "      <td>0.118273</td>\n",
       "      <td>0.992981</td>\n",
       "      <td>0.118273</td>\n",
       "      <td>0.992981</td>\n",
       "      <td>Winter</td>\n",
       "    </tr>\n",
       "  </tbody>\n",
       "</table>\n",
       "<p>5 rows × 30 columns</p>\n",
       "</div>"
      ],
      "text/plain": [
       "     id  is_cancelled  lead_time  arrival_date_year arrival_date_month  \\\n",
       "0  6086             1       74.0               2017            January   \n",
       "1  6087             1       62.0               2017            January   \n",
       "2  6088             1       62.0               2017            January   \n",
       "3  6089             1       71.0               2017            January   \n",
       "4  6090             1      172.0               2017            January   \n",
       "\n",
       "   arrival_date_week_number  arrival_date_day_of_month  \\\n",
       "0                         1                          1   \n",
       "1                         1                          1   \n",
       "2                         1                          1   \n",
       "3                         1                          1   \n",
       "4                         1                          1   \n",
       "\n",
       "   stays_in_weekend_nights  stays_in_week_nights  adults  children  babies  \\\n",
       "0                        1                     0     2.0       0.0     0.0   \n",
       "1                        2                     2     2.0       0.0     0.0   \n",
       "2                        2                     2     2.0       0.0     0.0   \n",
       "3                        2                     2     1.0       0.0     0.0   \n",
       "4                        2                     5     2.0       0.0     0.0   \n",
       "\n",
       "   ... reserved_room_type booking_changes days_in_waiting_list  customer_type  \\\n",
       "0  ...                  A               0                    0      Transient   \n",
       "1  ...                  A               0                    0      Transient   \n",
       "2  ...                  A               0                    0      Transient   \n",
       "3  ...                  A               0                    0      Transient   \n",
       "4  ...                  A               0                    0      Transient   \n",
       "\n",
       "   required_car_parking_spaces  total_of_special_requests total_nights  \\\n",
       "0                            0                          0            1   \n",
       "1                            0                          1            4   \n",
       "2                            0                          1            4   \n",
       "3                            0                          1            4   \n",
       "4                            0                          0            7   \n",
       "\n",
       "   arrival_date_week_sin  arrival_date_week_cos arrival_date_day_of_month_sin  \\\n",
       "0               0.118273               0.992981                      0.118273   \n",
       "1               0.118273               0.992981                      0.118273   \n",
       "2               0.118273               0.992981                      0.118273   \n",
       "3               0.118273               0.992981                      0.118273   \n",
       "4               0.118273               0.992981                      0.118273   \n",
       "\n",
       "   arrival_date_day_of_month_cos  arrival_season  \n",
       "0                       0.992981          Winter  \n",
       "1                       0.992981          Winter  \n",
       "2                       0.992981          Winter  \n",
       "3                       0.992981          Winter  \n",
       "4                       0.992981          Winter  \n",
       "\n",
       "[5 rows x 30 columns]"
      ]
     },
     "execution_count": 37,
     "metadata": {},
     "output_type": "execute_result"
    }
   ],
   "source": [
    "data_train['arrival_season'] = data_train.apply(set_season, axis=1)\n",
    "data_test['arrival_season'] = data_test.apply(set_season, axis=1)\n",
    "\n",
    "display(data_train.head())\n",
    "data_test.head()"
   ]
  },
  {
   "cell_type": "markdown",
   "metadata": {},
   "source": "### Removing features"
  },
  {
   "cell_type": "markdown",
   "metadata": {},
   "source": [
    "Let's remove the 'id' feature. It will likely only confuse the model.\n",
    "\n",
    "Also we'll remove 'arrival_date_year'. Our model won't need it in the future, as it won't make predictions based on data from previous years.\n",
    "\n",
    "We'll remove 'total_nights' because we have two features whose sum can be used to calculate its value.\n",
    "\n",
    "And we'll remove 'arrival_date_week_number' and 'arrival_date_day_of_month' – we recoded these features in Section 2.4 because they are cyclic."
   ]
  },
  {
   "cell_type": "code",
   "execution_count": 38,
   "metadata": {
    "scrolled": true
   },
   "outputs": [
    {
     "name": "stdout",
     "output_type": "stream",
     "text": [
      "<class 'pandas.core.frame.DataFrame'>\n",
      "Int64Index: 65060 entries, 0 to 65227\n",
      "Data columns (total 25 columns):\n",
      " #   Column                          Non-Null Count  Dtype  \n",
      "---  ------                          --------------  -----  \n",
      " 0   is_cancelled                    65060 non-null  int64  \n",
      " 1   lead_time                       65060 non-null  float64\n",
      " 2   arrival_date_month              65060 non-null  object \n",
      " 3   stays_in_weekend_nights         65060 non-null  int64  \n",
      " 4   stays_in_week_nights            65060 non-null  int64  \n",
      " 5   adults                          65060 non-null  float64\n",
      " 6   children                        65060 non-null  float64\n",
      " 7   babies                          65060 non-null  float64\n",
      " 8   meal                            65060 non-null  object \n",
      " 9   country                         65060 non-null  object \n",
      " 10  distribution_channel            65060 non-null  object \n",
      " 11  is_repeated_guest               65060 non-null  int64  \n",
      " 12  previous_cancellations          65060 non-null  int64  \n",
      " 13  previous_bookings_not_canceled  65060 non-null  int64  \n",
      " 14  reserved_room_type              65060 non-null  object \n",
      " 15  booking_changes                 65060 non-null  int64  \n",
      " 16  days_in_waiting_list            65060 non-null  int64  \n",
      " 17  customer_type                   65060 non-null  object \n",
      " 18  required_car_parking_spaces     65060 non-null  int64  \n",
      " 19  total_of_special_requests       65060 non-null  int64  \n",
      " 20  arrival_date_week_sin           65060 non-null  float64\n",
      " 21  arrival_date_week_cos           65060 non-null  float64\n",
      " 22  arrival_date_day_of_month_sin   65060 non-null  float64\n",
      " 23  arrival_date_day_of_month_cos   65060 non-null  float64\n",
      " 24  arrival_season                  65060 non-null  object \n",
      "dtypes: float64(8), int64(10), object(7)\n",
      "memory usage: 12.9+ MB\n"
     ]
    },
    {
     "data": {
      "text/plain": [
       "None"
      ]
     },
     "metadata": {},
     "output_type": "display_data"
    },
    {
     "name": "stdout",
     "output_type": "stream",
     "text": [
      "<class 'pandas.core.frame.DataFrame'>\n",
      "Int64Index: 32340 entries, 0 to 32408\n",
      "Data columns (total 25 columns):\n",
      " #   Column                          Non-Null Count  Dtype  \n",
      "---  ------                          --------------  -----  \n",
      " 0   is_cancelled                    32340 non-null  int64  \n",
      " 1   lead_time                       32340 non-null  float64\n",
      " 2   arrival_date_month              32340 non-null  object \n",
      " 3   stays_in_weekend_nights         32340 non-null  int64  \n",
      " 4   stays_in_week_nights            32340 non-null  int64  \n",
      " 5   adults                          32340 non-null  float64\n",
      " 6   children                        32340 non-null  float64\n",
      " 7   babies                          32340 non-null  float64\n",
      " 8   meal                            32340 non-null  object \n",
      " 9   country                         32340 non-null  object \n",
      " 10  distribution_channel            32340 non-null  object \n",
      " 11  is_repeated_guest               32340 non-null  int64  \n",
      " 12  previous_cancellations          32340 non-null  int64  \n",
      " 13  previous_bookings_not_canceled  32340 non-null  int64  \n",
      " 14  reserved_room_type              32340 non-null  object \n",
      " 15  booking_changes                 32340 non-null  int64  \n",
      " 16  days_in_waiting_list            32340 non-null  int64  \n",
      " 17  customer_type                   32340 non-null  object \n",
      " 18  required_car_parking_spaces     32340 non-null  int64  \n",
      " 19  total_of_special_requests       32340 non-null  int64  \n",
      " 20  arrival_date_week_sin           32340 non-null  float64\n",
      " 21  arrival_date_week_cos           32340 non-null  float64\n",
      " 22  arrival_date_day_of_month_sin   32340 non-null  float64\n",
      " 23  arrival_date_day_of_month_cos   32340 non-null  float64\n",
      " 24  arrival_season                  32340 non-null  object \n",
      "dtypes: float64(8), int64(10), object(7)\n",
      "memory usage: 6.4+ MB\n"
     ]
    }
   ],
   "source": [
    "features_to_drop = ['id',\n",
    "                    'arrival_date_year',\n",
    "                    'arrival_date_week_number', \n",
    "                    'arrival_date_day_of_month', \n",
    "                    'total_nights']\n",
    "\n",
    "data_train = data_train.drop(features_to_drop, axis=1)\n",
    "data_test = data_test.drop(features_to_drop, axis=1)\n",
    "\n",
    "display(data_train.info())\n",
    "data_test.info()"
   ]
  },
  {
   "cell_type": "markdown",
   "metadata": {},
   "source": "Let's check the datasets again for duplicates."
  },
  {
   "cell_type": "code",
   "execution_count": 39,
   "metadata": {
    "scrolled": true
   },
   "outputs": [
    {
     "data": {
      "text/plain": [
       "21385"
      ]
     },
     "metadata": {},
     "output_type": "display_data"
    },
    {
     "data": {
      "text/plain": [
       "7713"
      ]
     },
     "execution_count": 39,
     "metadata": {},
     "output_type": "execute_result"
    }
   ],
   "source": [
    "display(data_train.duplicated().sum())\n",
    "data_test.duplicated().sum()"
   ]
  },
  {
   "cell_type": "markdown",
   "metadata": {},
   "source": "Quite a large number of duplicates were detected. Let's remove them."
  },
  {
   "cell_type": "code",
   "execution_count": 40,
   "metadata": {},
   "outputs": [
    {
     "data": {
      "text/plain": [
       "0"
      ]
     },
     "metadata": {},
     "output_type": "display_data"
    },
    {
     "data": {
      "text/plain": [
       "0"
      ]
     },
     "execution_count": 40,
     "metadata": {},
     "output_type": "execute_result"
    }
   ],
   "source": [
    "data_train = data_train.drop_duplicates().reset_index(drop=True)\n",
    "data_test = data_test.drop_duplicates().reset_index(drop=True)\n",
    "\n",
    "display(data_train.duplicated().sum())\n",
    "data_test.duplicated().sum()"
   ]
  },
  {
   "cell_type": "markdown",
   "metadata": {},
   "source": "### Removal of part of the outliers"
  },
  {
   "cell_type": "code",
   "execution_count": 41,
   "metadata": {},
   "outputs": [
    {
     "data": {
      "image/png": "[encoded data removed]",
      "text/plain": [
       "<Figure size 432x288 with 1 Axes>"
      ]
     },
     "metadata": {},
     "output_type": "display_data"
    }
   ],
   "source": [
    "# Check the boxplot for the data_train.days_in_waiting_list feature\n",
    "sns.set_theme(style=\"whitegrid\")\n",
    "sns.boxplot(data=data_train.days_in_waiting_list).set_title('Number of days on the waiting list');"
   ]
  },
  {
   "cell_type": "markdown",
   "metadata": {},
   "source": "You can see that the outliers extend significantly beyond the main set of values. We'll discard 1% of the maximum values for this feature to reduce the impact of outliers on model training."
  },
  {
   "cell_type": "code",
   "execution_count": 42,
   "metadata": {},
   "outputs": [
    {
     "data": {
      "text/plain": [
       "(43675, 25)"
      ]
     },
     "metadata": {},
     "output_type": "display_data"
    },
    {
     "data": {
      "text/plain": [
       "(24627, 25)"
      ]
     },
     "metadata": {},
     "output_type": "display_data"
    }
   ],
   "source": [
    "# The size of the datasets before the changes\n",
    "display(data_train.shape)\n",
    "display(data_test.shape)"
   ]
  },
  {
   "cell_type": "code",
   "execution_count": 43,
   "metadata": {
    "scrolled": true
   },
   "outputs": [
    {
     "data": {
      "text/plain": [
       "(43253, 25)"
      ]
     },
     "metadata": {},
     "output_type": "display_data"
    },
    {
     "data": {
      "text/plain": [
       "(24453, 25)"
      ]
     },
     "metadata": {},
     "output_type": "display_data"
    }
   ],
   "source": [
    "# Find the 0.99 quantile for each dataset based on the days_in_waiting_list feature\n",
    "# Leave values below this quantile in the datasets\n",
    "discarded_train = data_train.days_in_waiting_list.quantile(0.99)\n",
    "discarded_test = data_test.days_in_waiting_list.quantile(0.99)\n",
    "\n",
    "data_train = data_train.query('days_in_waiting_list <= @discarded_train')\n",
    "data_test = data_test.query('days_in_waiting_list <= @discarded_test')\n",
    "\n",
    "display(data_train.shape)\n",
    "display(data_test.shape)"
   ]
  },
  {
   "cell_type": "markdown",
   "metadata": {},
   "source": "### Target feature extraction"
  },
  {
   "cell_type": "code",
   "execution_count": 44,
   "metadata": {},
   "outputs": [],
   "source": [
    "# Select the target feature from each sample\n",
    "target_train = data_train['is_cancelled'].copy()\n",
    "target_test = data_test['is_cancelled'].copy()\n",
    "\n",
    "features_train = data_train.copy().drop('is_cancelled', axis=1).reset_index(drop=True)\n",
    "features_test = data_test.copy().drop('is_cancelled', axis=1).reset_index(drop=True)"
   ]
  },
  {
   "cell_type": "markdown",
   "metadata": {},
   "source": "### Feature scaling"
  },
  {
   "cell_type": "code",
   "execution_count": 45,
   "metadata": {},
   "outputs": [
    {
     "data": {
      "text/html": [
       "<div>\n",
       "<style scoped>\n",
       "    .dataframe tbody tr th:only-of-type {\n",
       "        vertical-align: middle;\n",
       "    }\n",
       "\n",
       "    .dataframe tbody tr th {\n",
       "        vertical-align: top;\n",
       "    }\n",
       "\n",
       "    .dataframe thead th {\n",
       "        text-align: right;\n",
       "    }\n",
       "</style>\n",
       "<table border=\"1\" class=\"dataframe\">\n",
       "  <thead>\n",
       "    <tr style=\"text-align: right;\">\n",
       "      <th></th>\n",
       "      <th>lead_time</th>\n",
       "      <th>arrival_date_month</th>\n",
       "      <th>stays_in_weekend_nights</th>\n",
       "      <th>stays_in_week_nights</th>\n",
       "      <th>adults</th>\n",
       "      <th>children</th>\n",
       "      <th>babies</th>\n",
       "      <th>meal</th>\n",
       "      <th>country</th>\n",
       "      <th>distribution_channel</th>\n",
       "      <th>is_repeated_guest</th>\n",
       "      <th>previous_cancellations</th>\n",
       "      <th>previous_bookings_not_canceled</th>\n",
       "      <th>reserved_room_type</th>\n",
       "      <th>booking_changes</th>\n",
       "      <th>days_in_waiting_list</th>\n",
       "      <th>customer_type</th>\n",
       "      <th>required_car_parking_spaces</th>\n",
       "      <th>total_of_special_requests</th>\n",
       "      <th>arrival_date_week_sin</th>\n",
       "      <th>arrival_date_week_cos</th>\n",
       "      <th>arrival_date_day_of_month_sin</th>\n",
       "      <th>arrival_date_day_of_month_cos</th>\n",
       "      <th>arrival_season</th>\n",
       "    </tr>\n",
       "  </thead>\n",
       "  <tbody>\n",
       "    <tr>\n",
       "      <th>0</th>\n",
       "      <td>-0.818727</td>\n",
       "      <td>July</td>\n",
       "      <td>-1.037204</td>\n",
       "      <td>-0.898748</td>\n",
       "      <td>-1.757824</td>\n",
       "      <td>-0.266169</td>\n",
       "      <td>-0.101502</td>\n",
       "      <td>BB</td>\n",
       "      <td>GBR</td>\n",
       "      <td>Direct</td>\n",
       "      <td>0</td>\n",
       "      <td>-0.089968</td>\n",
       "      <td>-0.098028</td>\n",
       "      <td>A</td>\n",
       "      <td>-0.363695</td>\n",
       "      <td>-0.032253</td>\n",
       "      <td>Transient</td>\n",
       "      <td>-0.300585</td>\n",
       "      <td>-0.839560</td>\n",
       "      <td>-0.059241</td>\n",
       "      <td>-0.998244</td>\n",
       "      <td>0.118273</td>\n",
       "      <td>0.992981</td>\n",
       "      <td>Summer</td>\n",
       "    </tr>\n",
       "    <tr>\n",
       "      <th>1</th>\n",
       "      <td>-0.722707</td>\n",
       "      <td>July</td>\n",
       "      <td>-1.037204</td>\n",
       "      <td>-0.213039</td>\n",
       "      <td>0.273954</td>\n",
       "      <td>-0.266169</td>\n",
       "      <td>-0.101502</td>\n",
       "      <td>BB</td>\n",
       "      <td>GBR</td>\n",
       "      <td>TA/TO</td>\n",
       "      <td>0</td>\n",
       "      <td>-0.089968</td>\n",
       "      <td>-0.098028</td>\n",
       "      <td>A</td>\n",
       "      <td>-0.363695</td>\n",
       "      <td>-0.032253</td>\n",
       "      <td>Transient</td>\n",
       "      <td>-0.300585</td>\n",
       "      <td>0.404351</td>\n",
       "      <td>-0.059241</td>\n",
       "      <td>-0.998244</td>\n",
       "      <td>0.118273</td>\n",
       "      <td>0.992981</td>\n",
       "      <td>Summer</td>\n",
       "    </tr>\n",
       "    <tr>\n",
       "      <th>2</th>\n",
       "      <td>-0.914746</td>\n",
       "      <td>July</td>\n",
       "      <td>-1.037204</td>\n",
       "      <td>-0.213039</td>\n",
       "      <td>0.273954</td>\n",
       "      <td>-0.266169</td>\n",
       "      <td>-0.101502</td>\n",
       "      <td>BB</td>\n",
       "      <td>PRT</td>\n",
       "      <td>Direct</td>\n",
       "      <td>0</td>\n",
       "      <td>-0.089968</td>\n",
       "      <td>-0.098028</td>\n",
       "      <td>C</td>\n",
       "      <td>-0.363695</td>\n",
       "      <td>-0.032253</td>\n",
       "      <td>Transient</td>\n",
       "      <td>-0.300585</td>\n",
       "      <td>-0.839560</td>\n",
       "      <td>-0.059241</td>\n",
       "      <td>-0.998244</td>\n",
       "      <td>0.118273</td>\n",
       "      <td>0.992981</td>\n",
       "      <td>Summer</td>\n",
       "    </tr>\n",
       "    <tr>\n",
       "      <th>3</th>\n",
       "      <td>-0.791292</td>\n",
       "      <td>July</td>\n",
       "      <td>-1.037204</td>\n",
       "      <td>-0.213039</td>\n",
       "      <td>0.273954</td>\n",
       "      <td>-0.266169</td>\n",
       "      <td>-0.101502</td>\n",
       "      <td>FB</td>\n",
       "      <td>PRT</td>\n",
       "      <td>Direct</td>\n",
       "      <td>0</td>\n",
       "      <td>-0.089968</td>\n",
       "      <td>-0.098028</td>\n",
       "      <td>C</td>\n",
       "      <td>-0.363695</td>\n",
       "      <td>-0.032253</td>\n",
       "      <td>Transient</td>\n",
       "      <td>-0.300585</td>\n",
       "      <td>0.404351</td>\n",
       "      <td>-0.059241</td>\n",
       "      <td>-0.998244</td>\n",
       "      <td>0.118273</td>\n",
       "      <td>0.992981</td>\n",
       "      <td>Summer</td>\n",
       "    </tr>\n",
       "    <tr>\n",
       "      <th>4</th>\n",
       "      <td>0.251207</td>\n",
       "      <td>July</td>\n",
       "      <td>-1.037204</td>\n",
       "      <td>0.472671</td>\n",
       "      <td>0.273954</td>\n",
       "      <td>-0.266169</td>\n",
       "      <td>-0.101502</td>\n",
       "      <td>BB</td>\n",
       "      <td>PRT</td>\n",
       "      <td>TA/TO</td>\n",
       "      <td>0</td>\n",
       "      <td>-0.089968</td>\n",
       "      <td>-0.098028</td>\n",
       "      <td>A</td>\n",
       "      <td>-0.363695</td>\n",
       "      <td>-0.032253</td>\n",
       "      <td>Transient</td>\n",
       "      <td>-0.300585</td>\n",
       "      <td>0.404351</td>\n",
       "      <td>-0.059241</td>\n",
       "      <td>-0.998244</td>\n",
       "      <td>0.118273</td>\n",
       "      <td>0.992981</td>\n",
       "      <td>Summer</td>\n",
       "    </tr>\n",
       "  </tbody>\n",
       "</table>\n",
       "</div>"
      ],
      "text/plain": [
       "   lead_time arrival_date_month  stays_in_weekend_nights  \\\n",
       "0  -0.818727               July                -1.037204   \n",
       "1  -0.722707               July                -1.037204   \n",
       "2  -0.914746               July                -1.037204   \n",
       "3  -0.791292               July                -1.037204   \n",
       "4   0.251207               July                -1.037204   \n",
       "\n",
       "   stays_in_week_nights    adults  children    babies meal country  \\\n",
       "0             -0.898748 -1.757824 -0.266169 -0.101502   BB     GBR   \n",
       "1             -0.213039  0.273954 -0.266169 -0.101502   BB     GBR   \n",
       "2             -0.213039  0.273954 -0.266169 -0.101502   BB     PRT   \n",
       "3             -0.213039  0.273954 -0.266169 -0.101502   FB     PRT   \n",
       "4              0.472671  0.273954 -0.266169 -0.101502   BB     PRT   \n",
       "\n",
       "  distribution_channel  is_repeated_guest  previous_cancellations  \\\n",
       "0               Direct                  0               -0.089968   \n",
       "1                TA/TO                  0               -0.089968   \n",
       "2               Direct                  0               -0.089968   \n",
       "3               Direct                  0               -0.089968   \n",
       "4                TA/TO                  0               -0.089968   \n",
       "\n",
       "   previous_bookings_not_canceled reserved_room_type  booking_changes  \\\n",
       "0                       -0.098028                  A        -0.363695   \n",
       "1                       -0.098028                  A        -0.363695   \n",
       "2                       -0.098028                  C        -0.363695   \n",
       "3                       -0.098028                  C        -0.363695   \n",
       "4                       -0.098028                  A        -0.363695   \n",
       "\n",
       "   days_in_waiting_list customer_type  required_car_parking_spaces  \\\n",
       "0             -0.032253     Transient                    -0.300585   \n",
       "1             -0.032253     Transient                    -0.300585   \n",
       "2             -0.032253     Transient                    -0.300585   \n",
       "3             -0.032253     Transient                    -0.300585   \n",
       "4             -0.032253     Transient                    -0.300585   \n",
       "\n",
       "   total_of_special_requests  arrival_date_week_sin  arrival_date_week_cos  \\\n",
       "0                  -0.839560              -0.059241              -0.998244   \n",
       "1                   0.404351              -0.059241              -0.998244   \n",
       "2                  -0.839560              -0.059241              -0.998244   \n",
       "3                   0.404351              -0.059241              -0.998244   \n",
       "4                   0.404351              -0.059241              -0.998244   \n",
       "\n",
       "   arrival_date_day_of_month_sin  arrival_date_day_of_month_cos arrival_season  \n",
       "0                       0.118273                       0.992981         Summer  \n",
       "1                       0.118273                       0.992981         Summer  \n",
       "2                       0.118273                       0.992981         Summer  \n",
       "3                       0.118273                       0.992981         Summer  \n",
       "4                       0.118273                       0.992981         Summer  "
      ]
     },
     "execution_count": 45,
     "metadata": {},
     "output_type": "execute_result"
    }
   ],
   "source": [
    "# Scale the features in the samples\n",
    "numeric = [\n",
    "    'lead_time', \n",
    "    'stays_in_weekend_nights', \n",
    "    'stays_in_week_nights', \n",
    "    'adults', \n",
    "    'children', \n",
    "    'babies',\n",
    "    'previous_cancellations',\n",
    "    'previous_bookings_not_canceled',\n",
    "    'booking_changes',\n",
    "    'days_in_waiting_list',\n",
    "    'required_car_parking_spaces',\n",
    "    'total_of_special_requests'\n",
    "]\n",
    "\n",
    "scaler = StandardScaler()\n",
    "scaler.fit(features_train[numeric])\n",
    "\n",
    "features_train[numeric] = scaler.transform(features_train[numeric])\n",
    "features_test[numeric] = scaler.transform(features_test[numeric])\n",
    "\n",
    "# Display the scaled training sample on the screen\n",
    "features_train.head()"
   ]
  },
  {
   "cell_type": "markdown",
   "metadata": {},
   "source": "### Encoding of features"
  },
  {
   "cell_type": "markdown",
   "metadata": {},
   "source": [
    "#### One-Hot Encoding "
   ]
  },
  {
   "cell_type": "markdown",
   "metadata": {},
   "source": [
    "For logistic regression, we'll encode categorical features using One-Hot Encoding.\n",
    "In our case, using the standard pandas OHE encoder isn't the best idea: we have pre-split training and test sets. The test set contains fewer features in the `country` and `arrival_date_month` features. This will ultimately result in the test set having fewer features after encoding. This, in turn, could lead to incorrect performance of the trained model.\n",
    "\n",
    "For encoding, we'll use the OneHotEncoder from the scikit-learn library."
   ]
  },
  {
   "cell_type": "code",
   "execution_count": 46,
   "metadata": {},
   "outputs": [
    {
     "data": {
      "text/html": [
       "<div>\n",
       "<style scoped>\n",
       "    .dataframe tbody tr th:only-of-type {\n",
       "        vertical-align: middle;\n",
       "    }\n",
       "\n",
       "    .dataframe tbody tr th {\n",
       "        vertical-align: top;\n",
       "    }\n",
       "\n",
       "    .dataframe thead th {\n",
       "        text-align: right;\n",
       "    }\n",
       "</style>\n",
       "<table border=\"1\" class=\"dataframe\">\n",
       "  <thead>\n",
       "    <tr style=\"text-align: right;\">\n",
       "      <th></th>\n",
       "      <th>lead_time</th>\n",
       "      <th>stays_in_weekend_nights</th>\n",
       "      <th>stays_in_week_nights</th>\n",
       "      <th>adults</th>\n",
       "      <th>children</th>\n",
       "      <th>babies</th>\n",
       "      <th>is_repeated_guest</th>\n",
       "      <th>previous_cancellations</th>\n",
       "      <th>previous_bookings_not_canceled</th>\n",
       "      <th>booking_changes</th>\n",
       "      <th>days_in_waiting_list</th>\n",
       "      <th>required_car_parking_spaces</th>\n",
       "      <th>...</th>\n",
       "      <th>reserved_room_type_D</th>\n",
       "      <th>reserved_room_type_E</th>\n",
       "      <th>reserved_room_type_F</th>\n",
       "      <th>reserved_room_type_G</th>\n",
       "      <th>customer_type_Contract</th>\n",
       "      <th>customer_type_Group</th>\n",
       "      <th>customer_type_Transient</th>\n",
       "      <th>customer_type_Transient-Party</th>\n",
       "      <th>arrival_season_Autumn</th>\n",
       "      <th>arrival_season_Spring</th>\n",
       "      <th>arrival_season_Summer</th>\n",
       "      <th>arrival_season_Winter</th>\n",
       "    </tr>\n",
       "  </thead>\n",
       "  <tbody>\n",
       "    <tr>\n",
       "      <th>0</th>\n",
       "      <td>-0.818727</td>\n",
       "      <td>-1.037204</td>\n",
       "      <td>-0.898748</td>\n",
       "      <td>-1.757824</td>\n",
       "      <td>-0.266169</td>\n",
       "      <td>-0.101502</td>\n",
       "      <td>0</td>\n",
       "      <td>-0.089968</td>\n",
       "      <td>-0.098028</td>\n",
       "      <td>-0.363695</td>\n",
       "      <td>-0.032253</td>\n",
       "      <td>-0.300585</td>\n",
       "      <td>...</td>\n",
       "      <td>0</td>\n",
       "      <td>0</td>\n",
       "      <td>0</td>\n",
       "      <td>0</td>\n",
       "      <td>0</td>\n",
       "      <td>0</td>\n",
       "      <td>1</td>\n",
       "      <td>0</td>\n",
       "      <td>0</td>\n",
       "      <td>0</td>\n",
       "      <td>1</td>\n",
       "      <td>0</td>\n",
       "    </tr>\n",
       "    <tr>\n",
       "      <th>1</th>\n",
       "      <td>-0.722707</td>\n",
       "      <td>-1.037204</td>\n",
       "      <td>-0.213039</td>\n",
       "      <td>0.273954</td>\n",
       "      <td>-0.266169</td>\n",
       "      <td>-0.101502</td>\n",
       "      <td>0</td>\n",
       "      <td>-0.089968</td>\n",
       "      <td>-0.098028</td>\n",
       "      <td>-0.363695</td>\n",
       "      <td>-0.032253</td>\n",
       "      <td>-0.300585</td>\n",
       "      <td>...</td>\n",
       "      <td>0</td>\n",
       "      <td>0</td>\n",
       "      <td>0</td>\n",
       "      <td>0</td>\n",
       "      <td>0</td>\n",
       "      <td>0</td>\n",
       "      <td>1</td>\n",
       "      <td>0</td>\n",
       "      <td>0</td>\n",
       "      <td>0</td>\n",
       "      <td>1</td>\n",
       "      <td>0</td>\n",
       "    </tr>\n",
       "    <tr>\n",
       "      <th>2</th>\n",
       "      <td>-0.914746</td>\n",
       "      <td>-1.037204</td>\n",
       "      <td>-0.213039</td>\n",
       "      <td>0.273954</td>\n",
       "      <td>-0.266169</td>\n",
       "      <td>-0.101502</td>\n",
       "      <td>0</td>\n",
       "      <td>-0.089968</td>\n",
       "      <td>-0.098028</td>\n",
       "      <td>-0.363695</td>\n",
       "      <td>-0.032253</td>\n",
       "      <td>-0.300585</td>\n",
       "      <td>...</td>\n",
       "      <td>0</td>\n",
       "      <td>0</td>\n",
       "      <td>0</td>\n",
       "      <td>0</td>\n",
       "      <td>0</td>\n",
       "      <td>0</td>\n",
       "      <td>1</td>\n",
       "      <td>0</td>\n",
       "      <td>0</td>\n",
       "      <td>0</td>\n",
       "      <td>1</td>\n",
       "      <td>0</td>\n",
       "    </tr>\n",
       "    <tr>\n",
       "      <th>3</th>\n",
       "      <td>-0.791292</td>\n",
       "      <td>-1.037204</td>\n",
       "      <td>-0.213039</td>\n",
       "      <td>0.273954</td>\n",
       "      <td>-0.266169</td>\n",
       "      <td>-0.101502</td>\n",
       "      <td>0</td>\n",
       "      <td>-0.089968</td>\n",
       "      <td>-0.098028</td>\n",
       "      <td>-0.363695</td>\n",
       "      <td>-0.032253</td>\n",
       "      <td>-0.300585</td>\n",
       "      <td>...</td>\n",
       "      <td>0</td>\n",
       "      <td>0</td>\n",
       "      <td>0</td>\n",
       "      <td>0</td>\n",
       "      <td>0</td>\n",
       "      <td>0</td>\n",
       "      <td>1</td>\n",
       "      <td>0</td>\n",
       "      <td>0</td>\n",
       "      <td>0</td>\n",
       "      <td>1</td>\n",
       "      <td>0</td>\n",
       "    </tr>\n",
       "    <tr>\n",
       "      <th>4</th>\n",
       "      <td>0.251207</td>\n",
       "      <td>-1.037204</td>\n",
       "      <td>0.472671</td>\n",
       "      <td>0.273954</td>\n",
       "      <td>-0.266169</td>\n",
       "      <td>-0.101502</td>\n",
       "      <td>0</td>\n",
       "      <td>-0.089968</td>\n",
       "      <td>-0.098028</td>\n",
       "      <td>-0.363695</td>\n",
       "      <td>-0.032253</td>\n",
       "      <td>-0.300585</td>\n",
       "      <td>...</td>\n",
       "      <td>0</td>\n",
       "      <td>0</td>\n",
       "      <td>0</td>\n",
       "      <td>0</td>\n",
       "      <td>0</td>\n",
       "      <td>0</td>\n",
       "      <td>1</td>\n",
       "      <td>0</td>\n",
       "      <td>0</td>\n",
       "      <td>0</td>\n",
       "      <td>1</td>\n",
       "      <td>0</td>\n",
       "    </tr>\n",
       "  </tbody>\n",
       "</table>\n",
       "<p>5 rows × 207 columns</p>\n",
       "</div>"
      ],
      "text/plain": [
       "   lead_time  stays_in_weekend_nights  stays_in_week_nights    adults  \\\n",
       "0  -0.818727                -1.037204             -0.898748 -1.757824   \n",
       "1  -0.722707                -1.037204             -0.213039  0.273954   \n",
       "2  -0.914746                -1.037204             -0.213039  0.273954   \n",
       "3  -0.791292                -1.037204             -0.213039  0.273954   \n",
       "4   0.251207                -1.037204              0.472671  0.273954   \n",
       "\n",
       "   children    babies  is_repeated_guest  previous_cancellations  \\\n",
       "0 -0.266169 -0.101502                  0               -0.089968   \n",
       "1 -0.266169 -0.101502                  0               -0.089968   \n",
       "2 -0.266169 -0.101502                  0               -0.089968   \n",
       "3 -0.266169 -0.101502                  0               -0.089968   \n",
       "4 -0.266169 -0.101502                  0               -0.089968   \n",
       "\n",
       "   previous_bookings_not_canceled  booking_changes  days_in_waiting_list  \\\n",
       "0                       -0.098028        -0.363695             -0.032253   \n",
       "1                       -0.098028        -0.363695             -0.032253   \n",
       "2                       -0.098028        -0.363695             -0.032253   \n",
       "3                       -0.098028        -0.363695             -0.032253   \n",
       "4                       -0.098028        -0.363695             -0.032253   \n",
       "\n",
       "   required_car_parking_spaces  ...  reserved_room_type_D  \\\n",
       "0                    -0.300585  ...                     0   \n",
       "1                    -0.300585  ...                     0   \n",
       "2                    -0.300585  ...                     0   \n",
       "3                    -0.300585  ...                     0   \n",
       "4                    -0.300585  ...                     0   \n",
       "\n",
       "   reserved_room_type_E  reserved_room_type_F  reserved_room_type_G  \\\n",
       "0                     0                     0                     0   \n",
       "1                     0                     0                     0   \n",
       "2                     0                     0                     0   \n",
       "3                     0                     0                     0   \n",
       "4                     0                     0                     0   \n",
       "\n",
       "   customer_type_Contract  customer_type_Group  customer_type_Transient  \\\n",
       "0                       0                    0                        1   \n",
       "1                       0                    0                        1   \n",
       "2                       0                    0                        1   \n",
       "3                       0                    0                        1   \n",
       "4                       0                    0                        1   \n",
       "\n",
       "   customer_type_Transient-Party  arrival_season_Autumn  \\\n",
       "0                              0                      0   \n",
       "1                              0                      0   \n",
       "2                              0                      0   \n",
       "3                              0                      0   \n",
       "4                              0                      0   \n",
       "\n",
       "   arrival_season_Spring  arrival_season_Summer  arrival_season_Winter  \n",
       "0                      0                      1                      0  \n",
       "1                      0                      1                      0  \n",
       "2                      0                      1                      0  \n",
       "3                      0                      1                      0  \n",
       "4                      0                      1                      0  \n",
       "\n",
       "[5 rows x 207 columns]"
      ]
     },
     "metadata": {},
     "output_type": "display_data"
    },
    {
     "data": {
      "text/html": [
       "<div>\n",
       "<style scoped>\n",
       "    .dataframe tbody tr th:only-of-type {\n",
       "        vertical-align: middle;\n",
       "    }\n",
       "\n",
       "    .dataframe tbody tr th {\n",
       "        vertical-align: top;\n",
       "    }\n",
       "\n",
       "    .dataframe thead th {\n",
       "        text-align: right;\n",
       "    }\n",
       "</style>\n",
       "<table border=\"1\" class=\"dataframe\">\n",
       "  <thead>\n",
       "    <tr style=\"text-align: right;\">\n",
       "      <th></th>\n",
       "      <th>lead_time</th>\n",
       "      <th>stays_in_weekend_nights</th>\n",
       "      <th>stays_in_week_nights</th>\n",
       "      <th>adults</th>\n",
       "      <th>children</th>\n",
       "      <th>babies</th>\n",
       "      <th>is_repeated_guest</th>\n",
       "      <th>previous_cancellations</th>\n",
       "      <th>previous_bookings_not_canceled</th>\n",
       "      <th>booking_changes</th>\n",
       "      <th>days_in_waiting_list</th>\n",
       "      <th>required_car_parking_spaces</th>\n",
       "      <th>...</th>\n",
       "      <th>reserved_room_type_D</th>\n",
       "      <th>reserved_room_type_E</th>\n",
       "      <th>reserved_room_type_F</th>\n",
       "      <th>reserved_room_type_G</th>\n",
       "      <th>customer_type_Contract</th>\n",
       "      <th>customer_type_Group</th>\n",
       "      <th>customer_type_Transient</th>\n",
       "      <th>customer_type_Transient-Party</th>\n",
       "      <th>arrival_season_Autumn</th>\n",
       "      <th>arrival_season_Spring</th>\n",
       "      <th>arrival_season_Summer</th>\n",
       "      <th>arrival_season_Winter</th>\n",
       "    </tr>\n",
       "  </thead>\n",
       "  <tbody>\n",
       "    <tr>\n",
       "      <th>0</th>\n",
       "      <td>0.100319</td>\n",
       "      <td>0.115147</td>\n",
       "      <td>-1.584457</td>\n",
       "      <td>0.273954</td>\n",
       "      <td>-0.266169</td>\n",
       "      <td>-0.101502</td>\n",
       "      <td>0</td>\n",
       "      <td>-0.089968</td>\n",
       "      <td>-0.098028</td>\n",
       "      <td>-0.363695</td>\n",
       "      <td>-0.032253</td>\n",
       "      <td>-0.300585</td>\n",
       "      <td>...</td>\n",
       "      <td>0</td>\n",
       "      <td>0</td>\n",
       "      <td>0</td>\n",
       "      <td>0</td>\n",
       "      <td>0</td>\n",
       "      <td>0</td>\n",
       "      <td>1</td>\n",
       "      <td>0</td>\n",
       "      <td>0</td>\n",
       "      <td>0</td>\n",
       "      <td>0</td>\n",
       "      <td>1</td>\n",
       "    </tr>\n",
       "    <tr>\n",
       "      <th>1</th>\n",
       "      <td>-0.064286</td>\n",
       "      <td>1.267499</td>\n",
       "      <td>-0.213039</td>\n",
       "      <td>0.273954</td>\n",
       "      <td>-0.266169</td>\n",
       "      <td>-0.101502</td>\n",
       "      <td>0</td>\n",
       "      <td>-0.089968</td>\n",
       "      <td>-0.098028</td>\n",
       "      <td>-0.363695</td>\n",
       "      <td>-0.032253</td>\n",
       "      <td>-0.300585</td>\n",
       "      <td>...</td>\n",
       "      <td>0</td>\n",
       "      <td>0</td>\n",
       "      <td>0</td>\n",
       "      <td>0</td>\n",
       "      <td>0</td>\n",
       "      <td>0</td>\n",
       "      <td>1</td>\n",
       "      <td>0</td>\n",
       "      <td>0</td>\n",
       "      <td>0</td>\n",
       "      <td>0</td>\n",
       "      <td>1</td>\n",
       "    </tr>\n",
       "    <tr>\n",
       "      <th>2</th>\n",
       "      <td>0.059168</td>\n",
       "      <td>1.267499</td>\n",
       "      <td>-0.213039</td>\n",
       "      <td>-1.757824</td>\n",
       "      <td>-0.266169</td>\n",
       "      <td>-0.101502</td>\n",
       "      <td>0</td>\n",
       "      <td>-0.089968</td>\n",
       "      <td>-0.098028</td>\n",
       "      <td>-0.363695</td>\n",
       "      <td>-0.032253</td>\n",
       "      <td>-0.300585</td>\n",
       "      <td>...</td>\n",
       "      <td>0</td>\n",
       "      <td>0</td>\n",
       "      <td>0</td>\n",
       "      <td>0</td>\n",
       "      <td>0</td>\n",
       "      <td>0</td>\n",
       "      <td>1</td>\n",
       "      <td>0</td>\n",
       "      <td>0</td>\n",
       "      <td>0</td>\n",
       "      <td>0</td>\n",
       "      <td>1</td>\n",
       "    </tr>\n",
       "    <tr>\n",
       "      <th>3</th>\n",
       "      <td>1.444595</td>\n",
       "      <td>1.267499</td>\n",
       "      <td>1.844089</td>\n",
       "      <td>0.273954</td>\n",
       "      <td>-0.266169</td>\n",
       "      <td>-0.101502</td>\n",
       "      <td>0</td>\n",
       "      <td>-0.089968</td>\n",
       "      <td>-0.098028</td>\n",
       "      <td>-0.363695</td>\n",
       "      <td>-0.032253</td>\n",
       "      <td>-0.300585</td>\n",
       "      <td>...</td>\n",
       "      <td>0</td>\n",
       "      <td>0</td>\n",
       "      <td>0</td>\n",
       "      <td>0</td>\n",
       "      <td>0</td>\n",
       "      <td>0</td>\n",
       "      <td>1</td>\n",
       "      <td>0</td>\n",
       "      <td>0</td>\n",
       "      <td>0</td>\n",
       "      <td>0</td>\n",
       "      <td>1</td>\n",
       "    </tr>\n",
       "    <tr>\n",
       "      <th>4</th>\n",
       "      <td>-0.201457</td>\n",
       "      <td>1.267499</td>\n",
       "      <td>1.844089</td>\n",
       "      <td>-1.757824</td>\n",
       "      <td>-0.266169</td>\n",
       "      <td>-0.101502</td>\n",
       "      <td>0</td>\n",
       "      <td>-0.089968</td>\n",
       "      <td>-0.098028</td>\n",
       "      <td>-0.363695</td>\n",
       "      <td>-0.032253</td>\n",
       "      <td>-0.300585</td>\n",
       "      <td>...</td>\n",
       "      <td>0</td>\n",
       "      <td>0</td>\n",
       "      <td>0</td>\n",
       "      <td>0</td>\n",
       "      <td>0</td>\n",
       "      <td>0</td>\n",
       "      <td>1</td>\n",
       "      <td>0</td>\n",
       "      <td>0</td>\n",
       "      <td>0</td>\n",
       "      <td>0</td>\n",
       "      <td>1</td>\n",
       "    </tr>\n",
       "  </tbody>\n",
       "</table>\n",
       "<p>5 rows × 207 columns</p>\n",
       "</div>"
      ],
      "text/plain": [
       "   lead_time  stays_in_weekend_nights  stays_in_week_nights    adults  \\\n",
       "0   0.100319                 0.115147             -1.584457  0.273954   \n",
       "1  -0.064286                 1.267499             -0.213039  0.273954   \n",
       "2   0.059168                 1.267499             -0.213039 -1.757824   \n",
       "3   1.444595                 1.267499              1.844089  0.273954   \n",
       "4  -0.201457                 1.267499              1.844089 -1.757824   \n",
       "\n",
       "   children    babies  is_repeated_guest  previous_cancellations  \\\n",
       "0 -0.266169 -0.101502                  0               -0.089968   \n",
       "1 -0.266169 -0.101502                  0               -0.089968   \n",
       "2 -0.266169 -0.101502                  0               -0.089968   \n",
       "3 -0.266169 -0.101502                  0               -0.089968   \n",
       "4 -0.266169 -0.101502                  0               -0.089968   \n",
       "\n",
       "   previous_bookings_not_canceled  booking_changes  days_in_waiting_list  \\\n",
       "0                       -0.098028        -0.363695             -0.032253   \n",
       "1                       -0.098028        -0.363695             -0.032253   \n",
       "2                       -0.098028        -0.363695             -0.032253   \n",
       "3                       -0.098028        -0.363695             -0.032253   \n",
       "4                       -0.098028        -0.363695             -0.032253   \n",
       "\n",
       "   required_car_parking_spaces  ...  reserved_room_type_D  \\\n",
       "0                    -0.300585  ...                     0   \n",
       "1                    -0.300585  ...                     0   \n",
       "2                    -0.300585  ...                     0   \n",
       "3                    -0.300585  ...                     0   \n",
       "4                    -0.300585  ...                     0   \n",
       "\n",
       "   reserved_room_type_E  reserved_room_type_F  reserved_room_type_G  \\\n",
       "0                     0                     0                     0   \n",
       "1                     0                     0                     0   \n",
       "2                     0                     0                     0   \n",
       "3                     0                     0                     0   \n",
       "4                     0                     0                     0   \n",
       "\n",
       "   customer_type_Contract  customer_type_Group  customer_type_Transient  \\\n",
       "0                       0                    0                        1   \n",
       "1                       0                    0                        1   \n",
       "2                       0                    0                        1   \n",
       "3                       0                    0                        1   \n",
       "4                       0                    0                        1   \n",
       "\n",
       "   customer_type_Transient-Party  arrival_season_Autumn  \\\n",
       "0                              0                      0   \n",
       "1                              0                      0   \n",
       "2                              0                      0   \n",
       "3                              0                      0   \n",
       "4                              0                      0   \n",
       "\n",
       "   arrival_season_Spring  arrival_season_Summer  arrival_season_Winter  \n",
       "0                      0                      0                      1  \n",
       "1                      0                      0                      1  \n",
       "2                      0                      0                      1  \n",
       "3                      0                      0                      1  \n",
       "4                      0                      0                      1  \n",
       "\n",
       "[5 rows x 207 columns]"
      ]
     },
     "execution_count": 46,
     "metadata": {},
     "output_type": "execute_result"
    }
   ],
   "source": [
    "# Re-encode categorical features using one-hot encoding\n",
    "# For the encoder from the scikit-learn library, it is necessary to extract string categorical features separately\n",
    "ohe = OneHotEncoder(handle_unknown='ignore')\n",
    "\n",
    "features_object_train = features_train.select_dtypes('object')\n",
    "features_object_test = features_test.select_dtypes('object')\n",
    "\n",
    "ohe.fit(features_object_train)\n",
    "\n",
    "features_object_train_ohe = ohe.transform(features_object_train)\n",
    "features_object_test_ohe = ohe.transform(features_object_test)\n",
    "\n",
    "codes_train = features_object_train_ohe.toarray()\n",
    "codes_test = features_object_test_ohe.toarray()\n",
    "\n",
    "feature_names = ohe.get_feature_names(list(features_train.select_dtypes('object').columns))\n",
    "\n",
    "features_ohe_train = pd.concat([features_train.select_dtypes(exclude='object'), \n",
    "                                pd.DataFrame(codes_train, columns=feature_names).astype(int)], axis=1)\n",
    "features_ohe_test = pd.concat([features_test.select_dtypes(exclude='object'), \n",
    "                                pd.DataFrame(codes_test, columns=feature_names).astype(int)], axis=1)\n",
    "\n",
    "display(features_ohe_train.head())\n",
    "features_ohe_test.head()"
   ]
  },
  {
   "cell_type": "markdown",
   "metadata": {},
   "source": [
    "#### Ordinal Encoding"
   ]
  },
  {
   "cell_type": "markdown",
   "metadata": {},
   "source": "For the random forest, we use ordinal encoding. This will reduce model training time without sacrificing quality."
  },
  {
   "cell_type": "code",
   "execution_count": 47,
   "metadata": {},
   "outputs": [
    {
     "data": {
      "text/html": [
       "<div>\n",
       "<style scoped>\n",
       "    .dataframe tbody tr th:only-of-type {\n",
       "        vertical-align: middle;\n",
       "    }\n",
       "\n",
       "    .dataframe tbody tr th {\n",
       "        vertical-align: top;\n",
       "    }\n",
       "\n",
       "    .dataframe thead th {\n",
       "        text-align: right;\n",
       "    }\n",
       "</style>\n",
       "<table border=\"1\" class=\"dataframe\">\n",
       "  <thead>\n",
       "    <tr style=\"text-align: right;\">\n",
       "      <th></th>\n",
       "      <th>lead_time</th>\n",
       "      <th>stays_in_weekend_nights</th>\n",
       "      <th>stays_in_week_nights</th>\n",
       "      <th>adults</th>\n",
       "      <th>children</th>\n",
       "      <th>babies</th>\n",
       "      <th>is_repeated_guest</th>\n",
       "      <th>previous_cancellations</th>\n",
       "      <th>previous_bookings_not_canceled</th>\n",
       "      <th>booking_changes</th>\n",
       "      <th>days_in_waiting_list</th>\n",
       "      <th>required_car_parking_spaces</th>\n",
       "      <th>total_of_special_requests</th>\n",
       "      <th>arrival_date_week_sin</th>\n",
       "      <th>arrival_date_week_cos</th>\n",
       "      <th>arrival_date_day_of_month_sin</th>\n",
       "      <th>arrival_date_day_of_month_cos</th>\n",
       "      <th>arrival_date_month</th>\n",
       "      <th>meal</th>\n",
       "      <th>country</th>\n",
       "      <th>distribution_channel</th>\n",
       "      <th>reserved_room_type</th>\n",
       "      <th>customer_type</th>\n",
       "      <th>arrival_season</th>\n",
       "    </tr>\n",
       "  </thead>\n",
       "  <tbody>\n",
       "    <tr>\n",
       "      <th>0</th>\n",
       "      <td>-0.818727</td>\n",
       "      <td>-1.037204</td>\n",
       "      <td>-0.898748</td>\n",
       "      <td>-1.757824</td>\n",
       "      <td>-0.266169</td>\n",
       "      <td>-0.101502</td>\n",
       "      <td>0</td>\n",
       "      <td>-0.089968</td>\n",
       "      <td>-0.098028</td>\n",
       "      <td>-0.363695</td>\n",
       "      <td>-0.032253</td>\n",
       "      <td>-0.300585</td>\n",
       "      <td>-0.839560</td>\n",
       "      <td>-0.059241</td>\n",
       "      <td>-0.998244</td>\n",
       "      <td>0.118273</td>\n",
       "      <td>0.992981</td>\n",
       "      <td>5</td>\n",
       "      <td>0</td>\n",
       "      <td>50</td>\n",
       "      <td>1</td>\n",
       "      <td>0</td>\n",
       "      <td>2</td>\n",
       "      <td>2</td>\n",
       "    </tr>\n",
       "    <tr>\n",
       "      <th>1</th>\n",
       "      <td>-0.722707</td>\n",
       "      <td>-1.037204</td>\n",
       "      <td>-0.213039</td>\n",
       "      <td>0.273954</td>\n",
       "      <td>-0.266169</td>\n",
       "      <td>-0.101502</td>\n",
       "      <td>0</td>\n",
       "      <td>-0.089968</td>\n",
       "      <td>-0.098028</td>\n",
       "      <td>-0.363695</td>\n",
       "      <td>-0.032253</td>\n",
       "      <td>-0.300585</td>\n",
       "      <td>0.404351</td>\n",
       "      <td>-0.059241</td>\n",
       "      <td>-0.998244</td>\n",
       "      <td>0.118273</td>\n",
       "      <td>0.992981</td>\n",
       "      <td>5</td>\n",
       "      <td>0</td>\n",
       "      <td>50</td>\n",
       "      <td>3</td>\n",
       "      <td>0</td>\n",
       "      <td>2</td>\n",
       "      <td>2</td>\n",
       "    </tr>\n",
       "    <tr>\n",
       "      <th>2</th>\n",
       "      <td>-0.914746</td>\n",
       "      <td>-1.037204</td>\n",
       "      <td>-0.213039</td>\n",
       "      <td>0.273954</td>\n",
       "      <td>-0.266169</td>\n",
       "      <td>-0.101502</td>\n",
       "      <td>0</td>\n",
       "      <td>-0.089968</td>\n",
       "      <td>-0.098028</td>\n",
       "      <td>-0.363695</td>\n",
       "      <td>-0.032253</td>\n",
       "      <td>-0.300585</td>\n",
       "      <td>-0.839560</td>\n",
       "      <td>-0.059241</td>\n",
       "      <td>-0.998244</td>\n",
       "      <td>0.118273</td>\n",
       "      <td>0.992981</td>\n",
       "      <td>5</td>\n",
       "      <td>0</td>\n",
       "      <td>117</td>\n",
       "      <td>1</td>\n",
       "      <td>2</td>\n",
       "      <td>2</td>\n",
       "      <td>2</td>\n",
       "    </tr>\n",
       "    <tr>\n",
       "      <th>3</th>\n",
       "      <td>-0.791292</td>\n",
       "      <td>-1.037204</td>\n",
       "      <td>-0.213039</td>\n",
       "      <td>0.273954</td>\n",
       "      <td>-0.266169</td>\n",
       "      <td>-0.101502</td>\n",
       "      <td>0</td>\n",
       "      <td>-0.089968</td>\n",
       "      <td>-0.098028</td>\n",
       "      <td>-0.363695</td>\n",
       "      <td>-0.032253</td>\n",
       "      <td>-0.300585</td>\n",
       "      <td>0.404351</td>\n",
       "      <td>-0.059241</td>\n",
       "      <td>-0.998244</td>\n",
       "      <td>0.118273</td>\n",
       "      <td>0.992981</td>\n",
       "      <td>5</td>\n",
       "      <td>1</td>\n",
       "      <td>117</td>\n",
       "      <td>1</td>\n",
       "      <td>2</td>\n",
       "      <td>2</td>\n",
       "      <td>2</td>\n",
       "    </tr>\n",
       "    <tr>\n",
       "      <th>4</th>\n",
       "      <td>0.251207</td>\n",
       "      <td>-1.037204</td>\n",
       "      <td>0.472671</td>\n",
       "      <td>0.273954</td>\n",
       "      <td>-0.266169</td>\n",
       "      <td>-0.101502</td>\n",
       "      <td>0</td>\n",
       "      <td>-0.089968</td>\n",
       "      <td>-0.098028</td>\n",
       "      <td>-0.363695</td>\n",
       "      <td>-0.032253</td>\n",
       "      <td>-0.300585</td>\n",
       "      <td>0.404351</td>\n",
       "      <td>-0.059241</td>\n",
       "      <td>-0.998244</td>\n",
       "      <td>0.118273</td>\n",
       "      <td>0.992981</td>\n",
       "      <td>5</td>\n",
       "      <td>0</td>\n",
       "      <td>117</td>\n",
       "      <td>3</td>\n",
       "      <td>0</td>\n",
       "      <td>2</td>\n",
       "      <td>2</td>\n",
       "    </tr>\n",
       "  </tbody>\n",
       "</table>\n",
       "</div>"
      ],
      "text/plain": [
       "   lead_time  stays_in_weekend_nights  stays_in_week_nights    adults  \\\n",
       "0  -0.818727                -1.037204             -0.898748 -1.757824   \n",
       "1  -0.722707                -1.037204             -0.213039  0.273954   \n",
       "2  -0.914746                -1.037204             -0.213039  0.273954   \n",
       "3  -0.791292                -1.037204             -0.213039  0.273954   \n",
       "4   0.251207                -1.037204              0.472671  0.273954   \n",
       "\n",
       "   children    babies  is_repeated_guest  previous_cancellations  \\\n",
       "0 -0.266169 -0.101502                  0               -0.089968   \n",
       "1 -0.266169 -0.101502                  0               -0.089968   \n",
       "2 -0.266169 -0.101502                  0               -0.089968   \n",
       "3 -0.266169 -0.101502                  0               -0.089968   \n",
       "4 -0.266169 -0.101502                  0               -0.089968   \n",
       "\n",
       "   previous_bookings_not_canceled  booking_changes  days_in_waiting_list  \\\n",
       "0                       -0.098028        -0.363695             -0.032253   \n",
       "1                       -0.098028        -0.363695             -0.032253   \n",
       "2                       -0.098028        -0.363695             -0.032253   \n",
       "3                       -0.098028        -0.363695             -0.032253   \n",
       "4                       -0.098028        -0.363695             -0.032253   \n",
       "\n",
       "   required_car_parking_spaces  total_of_special_requests  \\\n",
       "0                    -0.300585                  -0.839560   \n",
       "1                    -0.300585                   0.404351   \n",
       "2                    -0.300585                  -0.839560   \n",
       "3                    -0.300585                   0.404351   \n",
       "4                    -0.300585                   0.404351   \n",
       "\n",
       "   arrival_date_week_sin  arrival_date_week_cos  \\\n",
       "0              -0.059241              -0.998244   \n",
       "1              -0.059241              -0.998244   \n",
       "2              -0.059241              -0.998244   \n",
       "3              -0.059241              -0.998244   \n",
       "4              -0.059241              -0.998244   \n",
       "\n",
       "   arrival_date_day_of_month_sin  arrival_date_day_of_month_cos  \\\n",
       "0                       0.118273                       0.992981   \n",
       "1                       0.118273                       0.992981   \n",
       "2                       0.118273                       0.992981   \n",
       "3                       0.118273                       0.992981   \n",
       "4                       0.118273                       0.992981   \n",
       "\n",
       "   arrival_date_month  meal  country  distribution_channel  \\\n",
       "0                   5     0       50                     1   \n",
       "1                   5     0       50                     3   \n",
       "2                   5     0      117                     1   \n",
       "3                   5     1      117                     1   \n",
       "4                   5     0      117                     3   \n",
       "\n",
       "   reserved_room_type  customer_type  arrival_season  \n",
       "0                   0              2               2  \n",
       "1                   0              2               2  \n",
       "2                   2              2               2  \n",
       "3                   2              2               2  \n",
       "4                   0              2               2  "
      ]
     },
     "metadata": {},
     "output_type": "display_data"
    },
    {
     "data": {
      "text/html": [
       "<div>\n",
       "<style scoped>\n",
       "    .dataframe tbody tr th:only-of-type {\n",
       "        vertical-align: middle;\n",
       "    }\n",
       "\n",
       "    .dataframe tbody tr th {\n",
       "        vertical-align: top;\n",
       "    }\n",
       "\n",
       "    .dataframe thead th {\n",
       "        text-align: right;\n",
       "    }\n",
       "</style>\n",
       "<table border=\"1\" class=\"dataframe\">\n",
       "  <thead>\n",
       "    <tr style=\"text-align: right;\">\n",
       "      <th></th>\n",
       "      <th>lead_time</th>\n",
       "      <th>stays_in_weekend_nights</th>\n",
       "      <th>stays_in_week_nights</th>\n",
       "      <th>adults</th>\n",
       "      <th>children</th>\n",
       "      <th>babies</th>\n",
       "      <th>is_repeated_guest</th>\n",
       "      <th>previous_cancellations</th>\n",
       "      <th>previous_bookings_not_canceled</th>\n",
       "      <th>booking_changes</th>\n",
       "      <th>days_in_waiting_list</th>\n",
       "      <th>required_car_parking_spaces</th>\n",
       "      <th>total_of_special_requests</th>\n",
       "      <th>arrival_date_week_sin</th>\n",
       "      <th>arrival_date_week_cos</th>\n",
       "      <th>arrival_date_day_of_month_sin</th>\n",
       "      <th>arrival_date_day_of_month_cos</th>\n",
       "      <th>arrival_date_month</th>\n",
       "      <th>meal</th>\n",
       "      <th>country</th>\n",
       "      <th>distribution_channel</th>\n",
       "      <th>reserved_room_type</th>\n",
       "      <th>customer_type</th>\n",
       "      <th>arrival_season</th>\n",
       "    </tr>\n",
       "  </thead>\n",
       "  <tbody>\n",
       "    <tr>\n",
       "      <th>0</th>\n",
       "      <td>0.100319</td>\n",
       "      <td>0.115147</td>\n",
       "      <td>-1.584457</td>\n",
       "      <td>0.273954</td>\n",
       "      <td>-0.266169</td>\n",
       "      <td>-0.101502</td>\n",
       "      <td>0</td>\n",
       "      <td>-0.089968</td>\n",
       "      <td>-0.098028</td>\n",
       "      <td>-0.363695</td>\n",
       "      <td>-0.032253</td>\n",
       "      <td>-0.300585</td>\n",
       "      <td>-0.839560</td>\n",
       "      <td>0.118273</td>\n",
       "      <td>0.992981</td>\n",
       "      <td>0.118273</td>\n",
       "      <td>0.992981</td>\n",
       "      <td>4</td>\n",
       "      <td>0</td>\n",
       "      <td>117</td>\n",
       "      <td>3</td>\n",
       "      <td>0</td>\n",
       "      <td>2</td>\n",
       "      <td>3</td>\n",
       "    </tr>\n",
       "    <tr>\n",
       "      <th>1</th>\n",
       "      <td>-0.064286</td>\n",
       "      <td>1.267499</td>\n",
       "      <td>-0.213039</td>\n",
       "      <td>0.273954</td>\n",
       "      <td>-0.266169</td>\n",
       "      <td>-0.101502</td>\n",
       "      <td>0</td>\n",
       "      <td>-0.089968</td>\n",
       "      <td>-0.098028</td>\n",
       "      <td>-0.363695</td>\n",
       "      <td>-0.032253</td>\n",
       "      <td>-0.300585</td>\n",
       "      <td>0.404351</td>\n",
       "      <td>0.118273</td>\n",
       "      <td>0.992981</td>\n",
       "      <td>0.118273</td>\n",
       "      <td>0.992981</td>\n",
       "      <td>4</td>\n",
       "      <td>0</td>\n",
       "      <td>9</td>\n",
       "      <td>3</td>\n",
       "      <td>0</td>\n",
       "      <td>2</td>\n",
       "      <td>3</td>\n",
       "    </tr>\n",
       "    <tr>\n",
       "      <th>2</th>\n",
       "      <td>0.059168</td>\n",
       "      <td>1.267499</td>\n",
       "      <td>-0.213039</td>\n",
       "      <td>-1.757824</td>\n",
       "      <td>-0.266169</td>\n",
       "      <td>-0.101502</td>\n",
       "      <td>0</td>\n",
       "      <td>-0.089968</td>\n",
       "      <td>-0.098028</td>\n",
       "      <td>-0.363695</td>\n",
       "      <td>-0.032253</td>\n",
       "      <td>-0.300585</td>\n",
       "      <td>0.404351</td>\n",
       "      <td>0.118273</td>\n",
       "      <td>0.992981</td>\n",
       "      <td>0.118273</td>\n",
       "      <td>0.992981</td>\n",
       "      <td>4</td>\n",
       "      <td>0</td>\n",
       "      <td>117</td>\n",
       "      <td>3</td>\n",
       "      <td>0</td>\n",
       "      <td>2</td>\n",
       "      <td>3</td>\n",
       "    </tr>\n",
       "    <tr>\n",
       "      <th>3</th>\n",
       "      <td>1.444595</td>\n",
       "      <td>1.267499</td>\n",
       "      <td>1.844089</td>\n",
       "      <td>0.273954</td>\n",
       "      <td>-0.266169</td>\n",
       "      <td>-0.101502</td>\n",
       "      <td>0</td>\n",
       "      <td>-0.089968</td>\n",
       "      <td>-0.098028</td>\n",
       "      <td>-0.363695</td>\n",
       "      <td>-0.032253</td>\n",
       "      <td>-0.300585</td>\n",
       "      <td>-0.839560</td>\n",
       "      <td>0.118273</td>\n",
       "      <td>0.992981</td>\n",
       "      <td>0.118273</td>\n",
       "      <td>0.992981</td>\n",
       "      <td>4</td>\n",
       "      <td>0</td>\n",
       "      <td>12</td>\n",
       "      <td>3</td>\n",
       "      <td>0</td>\n",
       "      <td>2</td>\n",
       "      <td>3</td>\n",
       "    </tr>\n",
       "    <tr>\n",
       "      <th>4</th>\n",
       "      <td>-0.201457</td>\n",
       "      <td>1.267499</td>\n",
       "      <td>1.844089</td>\n",
       "      <td>-1.757824</td>\n",
       "      <td>-0.266169</td>\n",
       "      <td>-0.101502</td>\n",
       "      <td>0</td>\n",
       "      <td>-0.089968</td>\n",
       "      <td>-0.098028</td>\n",
       "      <td>-0.363695</td>\n",
       "      <td>-0.032253</td>\n",
       "      <td>-0.300585</td>\n",
       "      <td>-0.839560</td>\n",
       "      <td>0.118273</td>\n",
       "      <td>0.992981</td>\n",
       "      <td>0.118273</td>\n",
       "      <td>0.992981</td>\n",
       "      <td>4</td>\n",
       "      <td>0</td>\n",
       "      <td>37</td>\n",
       "      <td>3</td>\n",
       "      <td>0</td>\n",
       "      <td>2</td>\n",
       "      <td>3</td>\n",
       "    </tr>\n",
       "  </tbody>\n",
       "</table>\n",
       "</div>"
      ],
      "text/plain": [
       "   lead_time  stays_in_weekend_nights  stays_in_week_nights    adults  \\\n",
       "0   0.100319                 0.115147             -1.584457  0.273954   \n",
       "1  -0.064286                 1.267499             -0.213039  0.273954   \n",
       "2   0.059168                 1.267499             -0.213039 -1.757824   \n",
       "3   1.444595                 1.267499              1.844089  0.273954   \n",
       "4  -0.201457                 1.267499              1.844089 -1.757824   \n",
       "\n",
       "   children    babies  is_repeated_guest  previous_cancellations  \\\n",
       "0 -0.266169 -0.101502                  0               -0.089968   \n",
       "1 -0.266169 -0.101502                  0               -0.089968   \n",
       "2 -0.266169 -0.101502                  0               -0.089968   \n",
       "3 -0.266169 -0.101502                  0               -0.089968   \n",
       "4 -0.266169 -0.101502                  0               -0.089968   \n",
       "\n",
       "   previous_bookings_not_canceled  booking_changes  days_in_waiting_list  \\\n",
       "0                       -0.098028        -0.363695             -0.032253   \n",
       "1                       -0.098028        -0.363695             -0.032253   \n",
       "2                       -0.098028        -0.363695             -0.032253   \n",
       "3                       -0.098028        -0.363695             -0.032253   \n",
       "4                       -0.098028        -0.363695             -0.032253   \n",
       "\n",
       "   required_car_parking_spaces  total_of_special_requests  \\\n",
       "0                    -0.300585                  -0.839560   \n",
       "1                    -0.300585                   0.404351   \n",
       "2                    -0.300585                   0.404351   \n",
       "3                    -0.300585                  -0.839560   \n",
       "4                    -0.300585                  -0.839560   \n",
       "\n",
       "   arrival_date_week_sin  arrival_date_week_cos  \\\n",
       "0               0.118273               0.992981   \n",
       "1               0.118273               0.992981   \n",
       "2               0.118273               0.992981   \n",
       "3               0.118273               0.992981   \n",
       "4               0.118273               0.992981   \n",
       "\n",
       "   arrival_date_day_of_month_sin  arrival_date_day_of_month_cos  \\\n",
       "0                       0.118273                       0.992981   \n",
       "1                       0.118273                       0.992981   \n",
       "2                       0.118273                       0.992981   \n",
       "3                       0.118273                       0.992981   \n",
       "4                       0.118273                       0.992981   \n",
       "\n",
       "   arrival_date_month  meal  country  distribution_channel  \\\n",
       "0                   4     0      117                     3   \n",
       "1                   4     0        9                     3   \n",
       "2                   4     0      117                     3   \n",
       "3                   4     0       12                     3   \n",
       "4                   4     0       37                     3   \n",
       "\n",
       "   reserved_room_type  customer_type  arrival_season  \n",
       "0                   0              2               3  \n",
       "1                   0              2               3  \n",
       "2                   0              2               3  \n",
       "3                   0              2               3  \n",
       "4                   0              2               3  "
      ]
     },
     "execution_count": 47,
     "metadata": {},
     "output_type": "execute_result"
    }
   ],
   "source": [
    "ore = OrdinalEncoder(handle_unknown='ignore')\n",
    "\n",
    "features_object_train = features_train.select_dtypes('object')\n",
    "features_object_test = features_test.select_dtypes('object')\n",
    "\n",
    "ore.fit(features_object_train)\n",
    "\n",
    "features_object_train_ore = ore.transform(features_object_train)\n",
    "features_object_test_ore = ore.transform(features_object_test)\n",
    "\n",
    "features_ore_train = pd.concat([features_train.select_dtypes(exclude='object'), \n",
    "                                pd.DataFrame(features_object_train_ore, columns=features_object_train.columns).astype(int)], axis=1)\n",
    "features_ore_test = pd.concat([features_test.select_dtypes(exclude='object'), \n",
    "                                pd.DataFrame(features_object_test_ore, columns=features_object_train.columns).astype(int)], axis=1)\n",
    "\n",
    "display(features_ore_train.head())\n",
    "features_ore_test.head()"
   ]
  },
  {
   "cell_type": "markdown",
   "metadata": {},
   "source": "## Formulating the ML problem based on the business problem"
  },
  {
   "cell_type": "markdown",
   "metadata": {},
   "source": [
    "The key business metric for any hotel chain is its profit. In our case, the hotel's profit is the difference between the room rate for all nights and the service costs, including both preparation of the room and expenses incurred during the guest's stay.\n",
    "The hotel has several room types. The room type determines a nightly rate. There are also cleaning costs. If the guest has a long-term stay, the room is cleaned every two days.\n",
    "Hotel room rates:\n",
    "\n",
    "* Category A: per night - 1,000, one-time service - 400;\n",
    "* Category B: per night - 800, one-time service - 350;\n",
    "* Category C: per night - 600, one-time service - 350;\n",
    "* Category D: per night - 550, one-time service - 150;\n",
    "* Category E: per night - 500, one-time service - 150;\n",
    "* Category F: per night - 450, one-time service - 150;\n",
    "* Category G: 350 per night, 150 per service.\n",
    "\n",
    "The hotel's pricing policy uses seasonal coefficients: prices increase by 20% in spring and fall, and by 40% in summer.\n",
    "\n",
    "The hotel's loss in the event of a cancellation is the cost of one cleaning and one night, taking into account the seasonal coefficient.\n",
    "\n",
    "A budget of 400,000 has been allocated for the development of the forecasting system. It is important to note that the model's implementation must pay for itself within the test period. Development costs should be less than the revenue the system will generate for the company."
   ]
  },
  {
   "cell_type": "markdown",
   "metadata": {},
   "source": "First, let's calculate the hotel chain's profit without implementing the deposit system. We'll perform the calculations using a test sample."
  },
  {
   "cell_type": "code",
   "execution_count": 48,
   "metadata": {},
   "outputs": [],
   "source": [
    "# Create some constants and write a function to calculate profit\n",
    "ROOM_COST_DICT = {\n",
    "    'A': 1000,\n",
    "    'B': 800,\n",
    "    'C': 600,\n",
    "    'D': 550,\n",
    "    'E': 500,\n",
    "    'F': 450,\n",
    "    'G': 350,\n",
    "}\n",
    "\n",
    "CLEANING_COST_DICT = {\n",
    "    'A': 400,\n",
    "    'B': 350,\n",
    "    'C': 350,\n",
    "    'D': 150,\n",
    "    'E': 150,\n",
    "    'F': 150,\n",
    "    'G': 150,\n",
    "}\n",
    "\n",
    "SEASONAL_FACTOR = {\n",
    "    'Winter': 1,\n",
    "    'Spring': 1.2,\n",
    "    'Summer': 1.4,\n",
    "    'Autumn': 1.2,\n",
    "}\n",
    "\n",
    "def calc_profit(row):\n",
    "    '''\n",
    "    The function accepts a dataset object as input.\n",
    "    If the room reservation has been canceled, the function returns a loss equal to one night and one cleaning, taking into account the season.\n",
    "    If the reservation has not been canceled, the function returns the operating profit.\n",
    "\n",
    "    Operating profit is calculated as follows:\n",
    "    (room cost * number of nights - cleaning cost * (number of nights / 2 and then rounded down)) * seasonal coefficient.\n",
    "    '''\n",
    "    room_cost = ROOM_COST_DICT[row.reserved_room_type]\n",
    "    cleaning_cost = CLEANING_COST_DICT[row.reserved_room_type]\n",
    "    total_nights = row.stays_in_weekend_nights + row.stays_in_week_nights\n",
    "    seasonal_factor = SEASONAL_FACTOR[row.arrival_season]\n",
    "    \n",
    "    if row.is_cancelled:\n",
    "        return -((room_cost + cleaning_cost) * seasonal_factor)\n",
    "    \n",
    "    operating_profit = (room_cost * total_nights - cleaning_cost * (1 + total_nights // 2)) * seasonal_factor\n",
    "    return operating_profit"
   ]
  },
  {
   "cell_type": "code",
   "execution_count": 49,
   "metadata": {
    "scrolled": true
   },
   "outputs": [],
   "source": [
    "# Apply our function\n",
    "data_test['operating_profit'] = data_test.apply(calc_profit, axis=1)"
   ]
  },
  {
   "cell_type": "code",
   "execution_count": 50,
   "metadata": {},
   "outputs": [
    {
     "data": {
      "text/html": [
       "<div>\n",
       "<style scoped>\n",
       "    .dataframe tbody tr th:only-of-type {\n",
       "        vertical-align: middle;\n",
       "    }\n",
       "\n",
       "    .dataframe tbody tr th {\n",
       "        vertical-align: top;\n",
       "    }\n",
       "\n",
       "    .dataframe thead th {\n",
       "        text-align: right;\n",
       "    }\n",
       "</style>\n",
       "<table border=\"1\" class=\"dataframe\">\n",
       "  <thead>\n",
       "    <tr style=\"text-align: right;\">\n",
       "      <th></th>\n",
       "      <th>is_cancelled</th>\n",
       "      <th>lead_time</th>\n",
       "      <th>arrival_date_month</th>\n",
       "      <th>stays_in_weekend_nights</th>\n",
       "      <th>stays_in_week_nights</th>\n",
       "      <th>adults</th>\n",
       "      <th>children</th>\n",
       "      <th>babies</th>\n",
       "      <th>meal</th>\n",
       "      <th>country</th>\n",
       "      <th>distribution_channel</th>\n",
       "      <th>is_repeated_guest</th>\n",
       "      <th>...</th>\n",
       "      <th>reserved_room_type</th>\n",
       "      <th>booking_changes</th>\n",
       "      <th>days_in_waiting_list</th>\n",
       "      <th>customer_type</th>\n",
       "      <th>required_car_parking_spaces</th>\n",
       "      <th>total_of_special_requests</th>\n",
       "      <th>arrival_date_week_sin</th>\n",
       "      <th>arrival_date_week_cos</th>\n",
       "      <th>arrival_date_day_of_month_sin</th>\n",
       "      <th>arrival_date_day_of_month_cos</th>\n",
       "      <th>arrival_season</th>\n",
       "      <th>operating_profit</th>\n",
       "    </tr>\n",
       "  </thead>\n",
       "  <tbody>\n",
       "    <tr>\n",
       "      <th>80</th>\n",
       "      <td>0</td>\n",
       "      <td>0.0</td>\n",
       "      <td>January</td>\n",
       "      <td>0</td>\n",
       "      <td>1</td>\n",
       "      <td>1.0</td>\n",
       "      <td>0.0</td>\n",
       "      <td>0.0</td>\n",
       "      <td>BB</td>\n",
       "      <td>PRT</td>\n",
       "      <td>Corporate</td>\n",
       "      <td>0</td>\n",
       "      <td>...</td>\n",
       "      <td>A</td>\n",
       "      <td>0</td>\n",
       "      <td>0</td>\n",
       "      <td>Transient</td>\n",
       "      <td>0</td>\n",
       "      <td>0</td>\n",
       "      <td>0.456629</td>\n",
       "      <td>0.889657</td>\n",
       "      <td>0.176890</td>\n",
       "      <td>-0.984231</td>\n",
       "      <td>Winter</td>\n",
       "      <td>600.0</td>\n",
       "    </tr>\n",
       "    <tr>\n",
       "      <th>252</th>\n",
       "      <td>0</td>\n",
       "      <td>70.0</td>\n",
       "      <td>February</td>\n",
       "      <td>0</td>\n",
       "      <td>4</td>\n",
       "      <td>2.0</td>\n",
       "      <td>0.0</td>\n",
       "      <td>0.0</td>\n",
       "      <td>BB</td>\n",
       "      <td>GBR</td>\n",
       "      <td>Corporate</td>\n",
       "      <td>0</td>\n",
       "      <td>...</td>\n",
       "      <td>A</td>\n",
       "      <td>2</td>\n",
       "      <td>0</td>\n",
       "      <td>Transient-Party</td>\n",
       "      <td>0</td>\n",
       "      <td>0</td>\n",
       "      <td>0.812487</td>\n",
       "      <td>0.582979</td>\n",
       "      <td>0.508531</td>\n",
       "      <td>-0.861044</td>\n",
       "      <td>Winter</td>\n",
       "      <td>2800.0</td>\n",
       "    </tr>\n",
       "    <tr>\n",
       "      <th>1615</th>\n",
       "      <td>0</td>\n",
       "      <td>3.0</td>\n",
       "      <td>August</td>\n",
       "      <td>0</td>\n",
       "      <td>1</td>\n",
       "      <td>1.0</td>\n",
       "      <td>0.0</td>\n",
       "      <td>0.0</td>\n",
       "      <td>BB</td>\n",
       "      <td>PRT</td>\n",
       "      <td>Corporate</td>\n",
       "      <td>0</td>\n",
       "      <td>...</td>\n",
       "      <td>A</td>\n",
       "      <td>0</td>\n",
       "      <td>0</td>\n",
       "      <td>Transient</td>\n",
       "      <td>0</td>\n",
       "      <td>0</td>\n",
       "      <td>-0.696551</td>\n",
       "      <td>-0.717507</td>\n",
       "      <td>0.902798</td>\n",
       "      <td>-0.430065</td>\n",
       "      <td>Summer</td>\n",
       "      <td>840.0</td>\n",
       "    </tr>\n",
       "    <tr>\n",
       "      <th>1686</th>\n",
       "      <td>0</td>\n",
       "      <td>7.0</td>\n",
       "      <td>February</td>\n",
       "      <td>1</td>\n",
       "      <td>2</td>\n",
       "      <td>1.0</td>\n",
       "      <td>0.0</td>\n",
       "      <td>0.0</td>\n",
       "      <td>BB</td>\n",
       "      <td>PRT</td>\n",
       "      <td>Corporate</td>\n",
       "      <td>0</td>\n",
       "      <td>...</td>\n",
       "      <td>A</td>\n",
       "      <td>0</td>\n",
       "      <td>0</td>\n",
       "      <td>Transient</td>\n",
       "      <td>1</td>\n",
       "      <td>0</td>\n",
       "      <td>0.812487</td>\n",
       "      <td>0.582979</td>\n",
       "      <td>0.696551</td>\n",
       "      <td>-0.717507</td>\n",
       "      <td>Winter</td>\n",
       "      <td>2200.0</td>\n",
       "    </tr>\n",
       "    <tr>\n",
       "      <th>1687</th>\n",
       "      <td>0</td>\n",
       "      <td>6.0</td>\n",
       "      <td>January</td>\n",
       "      <td>0</td>\n",
       "      <td>1</td>\n",
       "      <td>1.0</td>\n",
       "      <td>0.0</td>\n",
       "      <td>0.0</td>\n",
       "      <td>BB</td>\n",
       "      <td>PRT</td>\n",
       "      <td>Corporate</td>\n",
       "      <td>0</td>\n",
       "      <td>...</td>\n",
       "      <td>A</td>\n",
       "      <td>0</td>\n",
       "      <td>0</td>\n",
       "      <td>Transient</td>\n",
       "      <td>0</td>\n",
       "      <td>0</td>\n",
       "      <td>0.348202</td>\n",
       "      <td>0.937420</td>\n",
       "      <td>0.902798</td>\n",
       "      <td>-0.430065</td>\n",
       "      <td>Winter</td>\n",
       "      <td>600.0</td>\n",
       "    </tr>\n",
       "  </tbody>\n",
       "</table>\n",
       "<p>5 rows × 26 columns</p>\n",
       "</div>"
      ],
      "text/plain": [
       "      is_cancelled  lead_time arrival_date_month  stays_in_weekend_nights  \\\n",
       "80               0        0.0            January                        0   \n",
       "252              0       70.0           February                        0   \n",
       "1615             0        3.0             August                        0   \n",
       "1686             0        7.0           February                        1   \n",
       "1687             0        6.0            January                        0   \n",
       "\n",
       "      stays_in_week_nights  adults  children  babies meal country  \\\n",
       "80                       1     1.0       0.0     0.0   BB     PRT   \n",
       "252                      4     2.0       0.0     0.0   BB     GBR   \n",
       "1615                     1     1.0       0.0     0.0   BB     PRT   \n",
       "1686                     2     1.0       0.0     0.0   BB     PRT   \n",
       "1687                     1     1.0       0.0     0.0   BB     PRT   \n",
       "\n",
       "     distribution_channel  is_repeated_guest  ...  reserved_room_type  \\\n",
       "80              Corporate                  0  ...                   A   \n",
       "252             Corporate                  0  ...                   A   \n",
       "1615            Corporate                  0  ...                   A   \n",
       "1686            Corporate                  0  ...                   A   \n",
       "1687            Corporate                  0  ...                   A   \n",
       "\n",
       "      booking_changes days_in_waiting_list    customer_type  \\\n",
       "80                  0                    0        Transient   \n",
       "252                 2                    0  Transient-Party   \n",
       "1615                0                    0        Transient   \n",
       "1686                0                    0        Transient   \n",
       "1687                0                    0        Transient   \n",
       "\n",
       "      required_car_parking_spaces total_of_special_requests  \\\n",
       "80                              0                         0   \n",
       "252                             0                         0   \n",
       "1615                            0                         0   \n",
       "1686                            1                         0   \n",
       "1687                            0                         0   \n",
       "\n",
       "      arrival_date_week_sin  arrival_date_week_cos  \\\n",
       "80                 0.456629               0.889657   \n",
       "252                0.812487               0.582979   \n",
       "1615              -0.696551              -0.717507   \n",
       "1686               0.812487               0.582979   \n",
       "1687               0.348202               0.937420   \n",
       "\n",
       "      arrival_date_day_of_month_sin  arrival_date_day_of_month_cos  \\\n",
       "80                         0.176890                      -0.984231   \n",
       "252                        0.508531                      -0.861044   \n",
       "1615                       0.902798                      -0.430065   \n",
       "1686                       0.696551                      -0.717507   \n",
       "1687                       0.902798                      -0.430065   \n",
       "\n",
       "      arrival_season  operating_profit  \n",
       "80            Winter             600.0  \n",
       "252           Winter            2800.0  \n",
       "1615          Summer             840.0  \n",
       "1686          Winter            2200.0  \n",
       "1687          Winter             600.0  \n",
       "\n",
       "[5 rows x 26 columns]"
      ]
     },
     "metadata": {},
     "output_type": "display_data"
    },
    {
     "data": {
      "text/html": [
       "<div>\n",
       "<style scoped>\n",
       "    .dataframe tbody tr th:only-of-type {\n",
       "        vertical-align: middle;\n",
       "    }\n",
       "\n",
       "    .dataframe tbody tr th {\n",
       "        vertical-align: top;\n",
       "    }\n",
       "\n",
       "    .dataframe thead th {\n",
       "        text-align: right;\n",
       "    }\n",
       "</style>\n",
       "<table border=\"1\" class=\"dataframe\">\n",
       "  <thead>\n",
       "    <tr style=\"text-align: right;\">\n",
       "      <th></th>\n",
       "      <th>is_cancelled</th>\n",
       "      <th>lead_time</th>\n",
       "      <th>arrival_date_month</th>\n",
       "      <th>stays_in_weekend_nights</th>\n",
       "      <th>stays_in_week_nights</th>\n",
       "      <th>adults</th>\n",
       "      <th>children</th>\n",
       "      <th>babies</th>\n",
       "      <th>meal</th>\n",
       "      <th>country</th>\n",
       "      <th>distribution_channel</th>\n",
       "      <th>is_repeated_guest</th>\n",
       "      <th>...</th>\n",
       "      <th>reserved_room_type</th>\n",
       "      <th>booking_changes</th>\n",
       "      <th>days_in_waiting_list</th>\n",
       "      <th>customer_type</th>\n",
       "      <th>required_car_parking_spaces</th>\n",
       "      <th>total_of_special_requests</th>\n",
       "      <th>arrival_date_week_sin</th>\n",
       "      <th>arrival_date_week_cos</th>\n",
       "      <th>arrival_date_day_of_month_sin</th>\n",
       "      <th>arrival_date_day_of_month_cos</th>\n",
       "      <th>arrival_season</th>\n",
       "      <th>operating_profit</th>\n",
       "    </tr>\n",
       "  </thead>\n",
       "  <tbody>\n",
       "    <tr>\n",
       "      <th>0</th>\n",
       "      <td>1</td>\n",
       "      <td>74.0</td>\n",
       "      <td>January</td>\n",
       "      <td>1</td>\n",
       "      <td>0</td>\n",
       "      <td>2.0</td>\n",
       "      <td>0.0</td>\n",
       "      <td>0.0</td>\n",
       "      <td>BB</td>\n",
       "      <td>PRT</td>\n",
       "      <td>TA/TO</td>\n",
       "      <td>0</td>\n",
       "      <td>...</td>\n",
       "      <td>A</td>\n",
       "      <td>0</td>\n",
       "      <td>0</td>\n",
       "      <td>Transient</td>\n",
       "      <td>0</td>\n",
       "      <td>0</td>\n",
       "      <td>0.118273</td>\n",
       "      <td>0.992981</td>\n",
       "      <td>0.118273</td>\n",
       "      <td>0.992981</td>\n",
       "      <td>Winter</td>\n",
       "      <td>-1400.0</td>\n",
       "    </tr>\n",
       "    <tr>\n",
       "      <th>1</th>\n",
       "      <td>1</td>\n",
       "      <td>62.0</td>\n",
       "      <td>January</td>\n",
       "      <td>2</td>\n",
       "      <td>2</td>\n",
       "      <td>2.0</td>\n",
       "      <td>0.0</td>\n",
       "      <td>0.0</td>\n",
       "      <td>BB</td>\n",
       "      <td>AUT</td>\n",
       "      <td>TA/TO</td>\n",
       "      <td>0</td>\n",
       "      <td>...</td>\n",
       "      <td>A</td>\n",
       "      <td>0</td>\n",
       "      <td>0</td>\n",
       "      <td>Transient</td>\n",
       "      <td>0</td>\n",
       "      <td>1</td>\n",
       "      <td>0.118273</td>\n",
       "      <td>0.992981</td>\n",
       "      <td>0.118273</td>\n",
       "      <td>0.992981</td>\n",
       "      <td>Winter</td>\n",
       "      <td>-1400.0</td>\n",
       "    </tr>\n",
       "    <tr>\n",
       "      <th>2</th>\n",
       "      <td>1</td>\n",
       "      <td>71.0</td>\n",
       "      <td>January</td>\n",
       "      <td>2</td>\n",
       "      <td>2</td>\n",
       "      <td>1.0</td>\n",
       "      <td>0.0</td>\n",
       "      <td>0.0</td>\n",
       "      <td>BB</td>\n",
       "      <td>PRT</td>\n",
       "      <td>TA/TO</td>\n",
       "      <td>0</td>\n",
       "      <td>...</td>\n",
       "      <td>A</td>\n",
       "      <td>0</td>\n",
       "      <td>0</td>\n",
       "      <td>Transient</td>\n",
       "      <td>0</td>\n",
       "      <td>1</td>\n",
       "      <td>0.118273</td>\n",
       "      <td>0.992981</td>\n",
       "      <td>0.118273</td>\n",
       "      <td>0.992981</td>\n",
       "      <td>Winter</td>\n",
       "      <td>-1400.0</td>\n",
       "    </tr>\n",
       "    <tr>\n",
       "      <th>3</th>\n",
       "      <td>1</td>\n",
       "      <td>172.0</td>\n",
       "      <td>January</td>\n",
       "      <td>2</td>\n",
       "      <td>5</td>\n",
       "      <td>2.0</td>\n",
       "      <td>0.0</td>\n",
       "      <td>0.0</td>\n",
       "      <td>BB</td>\n",
       "      <td>BEL</td>\n",
       "      <td>TA/TO</td>\n",
       "      <td>0</td>\n",
       "      <td>...</td>\n",
       "      <td>A</td>\n",
       "      <td>0</td>\n",
       "      <td>0</td>\n",
       "      <td>Transient</td>\n",
       "      <td>0</td>\n",
       "      <td>0</td>\n",
       "      <td>0.118273</td>\n",
       "      <td>0.992981</td>\n",
       "      <td>0.118273</td>\n",
       "      <td>0.992981</td>\n",
       "      <td>Winter</td>\n",
       "      <td>-1400.0</td>\n",
       "    </tr>\n",
       "    <tr>\n",
       "      <th>4</th>\n",
       "      <td>1</td>\n",
       "      <td>52.0</td>\n",
       "      <td>January</td>\n",
       "      <td>2</td>\n",
       "      <td>5</td>\n",
       "      <td>1.0</td>\n",
       "      <td>0.0</td>\n",
       "      <td>0.0</td>\n",
       "      <td>BB</td>\n",
       "      <td>DEU</td>\n",
       "      <td>TA/TO</td>\n",
       "      <td>0</td>\n",
       "      <td>...</td>\n",
       "      <td>A</td>\n",
       "      <td>0</td>\n",
       "      <td>0</td>\n",
       "      <td>Transient</td>\n",
       "      <td>0</td>\n",
       "      <td>0</td>\n",
       "      <td>0.118273</td>\n",
       "      <td>0.992981</td>\n",
       "      <td>0.118273</td>\n",
       "      <td>0.992981</td>\n",
       "      <td>Winter</td>\n",
       "      <td>-1400.0</td>\n",
       "    </tr>\n",
       "  </tbody>\n",
       "</table>\n",
       "<p>5 rows × 26 columns</p>\n",
       "</div>"
      ],
      "text/plain": [
       "   is_cancelled  lead_time arrival_date_month  stays_in_weekend_nights  \\\n",
       "0             1       74.0            January                        1   \n",
       "1             1       62.0            January                        2   \n",
       "2             1       71.0            January                        2   \n",
       "3             1      172.0            January                        2   \n",
       "4             1       52.0            January                        2   \n",
       "\n",
       "   stays_in_week_nights  adults  children  babies meal country  \\\n",
       "0                     0     2.0       0.0     0.0   BB     PRT   \n",
       "1                     2     2.0       0.0     0.0   BB     AUT   \n",
       "2                     2     1.0       0.0     0.0   BB     PRT   \n",
       "3                     5     2.0       0.0     0.0   BB     BEL   \n",
       "4                     5     1.0       0.0     0.0   BB     DEU   \n",
       "\n",
       "  distribution_channel  is_repeated_guest  ...  reserved_room_type  \\\n",
       "0                TA/TO                  0  ...                   A   \n",
       "1                TA/TO                  0  ...                   A   \n",
       "2                TA/TO                  0  ...                   A   \n",
       "3                TA/TO                  0  ...                   A   \n",
       "4                TA/TO                  0  ...                   A   \n",
       "\n",
       "   booking_changes days_in_waiting_list  customer_type  \\\n",
       "0                0                    0      Transient   \n",
       "1                0                    0      Transient   \n",
       "2                0                    0      Transient   \n",
       "3                0                    0      Transient   \n",
       "4                0                    0      Transient   \n",
       "\n",
       "   required_car_parking_spaces total_of_special_requests  \\\n",
       "0                            0                         0   \n",
       "1                            0                         1   \n",
       "2                            0                         1   \n",
       "3                            0                         0   \n",
       "4                            0                         0   \n",
       "\n",
       "   arrival_date_week_sin  arrival_date_week_cos  \\\n",
       "0               0.118273               0.992981   \n",
       "1               0.118273               0.992981   \n",
       "2               0.118273               0.992981   \n",
       "3               0.118273               0.992981   \n",
       "4               0.118273               0.992981   \n",
       "\n",
       "   arrival_date_day_of_month_sin  arrival_date_day_of_month_cos  \\\n",
       "0                       0.118273                       0.992981   \n",
       "1                       0.118273                       0.992981   \n",
       "2                       0.118273                       0.992981   \n",
       "3                       0.118273                       0.992981   \n",
       "4                       0.118273                       0.992981   \n",
       "\n",
       "   arrival_season  operating_profit  \n",
       "0          Winter           -1400.0  \n",
       "1          Winter           -1400.0  \n",
       "2          Winter           -1400.0  \n",
       "3          Winter           -1400.0  \n",
       "4          Winter           -1400.0  \n",
       "\n",
       "[5 rows x 26 columns]"
      ]
     },
     "execution_count": 50,
     "metadata": {},
     "output_type": "execute_result"
    }
   ],
   "source": [
    "# Check the result\n",
    "display(data_test.query('is_cancelled == 0').head())\n",
    "data_test.query('is_cancelled == 1').head()"
   ]
  },
  {
   "cell_type": "code",
   "execution_count": 51,
   "metadata": {},
   "outputs": [
    {
     "data": {
      "text/plain": [
       "'Операционная прибыль сети отелей в 2017 году составила: 29109460.0'"
      ]
     },
     "execution_count": 51,
     "metadata": {},
     "output_type": "execute_result"
    }
   ],
   "source": "f'The hotel chain`s operating profit in 2017 was: {data_test.operating_profit.sum()}'"
  },
  {
   "cell_type": "markdown",
   "metadata": {},
   "source": [
    "We found that operating profit in 2017 was just over 29 million.\n",
    "\n",
    "Our next task will be to develop an ML model that will predict cancellations."
   ]
  },
  {
   "cell_type": "markdown",
   "metadata": {},
   "source": "## ML model development"
  },
  {
   "cell_type": "markdown",
   "metadata": {},
   "source": "Let's train logistic regression and random forest models. The business problem specifies that the model should predict booking cancellations. Therefore, the quality of our model in this case will be measured by how many correct cancellations it predicts. The Precision metric is suitable for us. It indicates the proportion of the model's responses that are true positives among all the model's responses."
  },
  {
   "cell_type": "markdown",
   "metadata": {},
   "source": "### Logistic regression"
  },
  {
   "cell_type": "code",
   "execution_count": 52,
   "metadata": {},
   "outputs": [
    {
     "data": {
      "text/plain": [
       "\"\\n%%time\\n# solver='newton-cg' очень долго обучается (7-15 минут) и результат выдает плохой. \\n# Остальные варианты гиперпараметра solver исследовал через GridSearchCV вместе\\nparameters = {\\n    'solver': ['lbfgs', 'liblinear', 'sag', 'saga'],\\n    'max_iter': [1000]\\n}\\n\\nmodel = LogisticRegression(random_state=42, class_weight='balanced')\\ngrid_model_lr = GridSearchCV(model, parameters, scoring='precision')\\ngrid_model_lr.fit(features_ohe_train, target_train)\\n\\ndisplay(f'Значение метрики Precision при обучении с кросс-валидацией: {grid_model_lr.best_score_}')\\nf'Лучшие параметры: {grid_model_lr.best_params_}'\\n\""
      ]
     },
     "execution_count": 52,
     "metadata": {},
     "output_type": "execute_result"
    }
   ],
   "source": [
    "# Model training takes a long time. After finding the optimal hyperparameters, we'll move the training to a comment.\n",
    "'''\n",
    "%%time\n",
    "# solver='newton-cg' takes a very long time to train (7-15 minutes) and produces poor results.\n",
    "# I explored the remaining hyperparameter options for solver using GridSearchCV.\n",
    "parameters = {\n",
    "    'solver': ['lbfgs', 'liblinear', 'sag', 'saga'],\n",
    "    'max_iter': [1000]\n",
    "}\n",
    "\n",
    "model = LogisticRegression(random_state=42, class_weight='balanced')\n",
    "grid_model_lr = GridSearchCV(model, parameters, scoring='precision')\n",
    "grid_model_lr.fit(features_ohe_train, target_train)\n",
    "\n",
    "display(f'The value of the Precision metric in cross-validation training: {grid_model_lr.best_score_}')\n",
    "f'Best parameters: {grid_model_lr.best_params_}'\n",
    "'''\n",
    "# 'The value of the Precision metric in cross-validation training: 0.28268082833938635'\n",
    "# \"Best parameters: {'max_iter': 1000, 'solver': 'liblinear'}\""
   ]
  },
  {
   "cell_type": "code",
   "execution_count": 53,
   "metadata": {},
   "outputs": [
    {
     "data": {
      "text/plain": [
       "'Значение метрики Precision при обучении с кросс-валидацией: 0.28268082833938635'"
      ]
     },
     "execution_count": 53,
     "metadata": {},
     "output_type": "execute_result"
    }
   ],
   "source": [
    "model_lr = LogisticRegression(solver='liblinear', max_iter=1000, random_state=42, class_weight='balanced')\n",
    "score = cross_val_score(model_lr, features_ohe_train, target_train, cv=5, scoring='precision')\n",
    "f'The value of the Precision metric in cross-validation training: {sum(score) / 5}'"
   ]
  },
  {
   "cell_type": "markdown",
   "metadata": {},
   "source": "### Random Forest"
  },
  {
   "cell_type": "code",
   "execution_count": 54,
   "metadata": {},
   "outputs": [
    {
     "data": {
      "text/plain": [
       "\"\\n%%time\\n\\nparameters = {\\n    'n_estimators': range(70, 101, 10),\\n    'max_depth': range(2, 11, 4),\\n    'min_samples_leaf': range(1, 4),\\n    'min_samples_split': range(2, 6, 2) \\n}\\n\\nmodel = RandomForestClassifier(random_state=42, class_weight='balanced')\\ngrid_model_rf = GridSearchCV(model, parameters, scoring='precision')\\ngrid_model_rf.fit(features_ore_train, target_train)\\n\\ndisplay(f'Значение метрики Precision при обучении с кросс-валидацией: {grid_model_rf.best_score_}')\\nf'Лучшие параметры: {grid_model_rf.best_params_}'\\n\""
      ]
     },
     "execution_count": 54,
     "metadata": {},
     "output_type": "execute_result"
    }
   ],
   "source": [
    "# Model training takes a long time. After finding the optimal hyperparameters, we'll move the training to a comment.\n",
    "'''\n",
    "%%time\n",
    "\n",
    "parameters = {\n",
    "    'n_estimators': range(70, 101, 10),\n",
    "    'max_depth': range(2, 11, 4),\n",
    "    'min_samples_leaf': range(1, 4),\n",
    "    'min_samples_split': range(2, 6, 2) \n",
    "}\n",
    "\n",
    "model = RandomForestClassifier(random_state=42, class_weight='balanced')\n",
    "grid_model_rf = GridSearchCV(model, parameters, scoring='precision')\n",
    "grid_model_rf.fit(features_ore_train, target_train)\n",
    "\n",
    "display(f'The value of the Precision metric in cross-validation training: {grid_model_rf.best_score_}')\n",
    "f'Best parameters: {grid_model_rf.best_params_}'\n",
    "'''\n",
    "# 'The value of the Precision metric in cross-validation training: 0.3083736759878376'\n",
    "# \"Best parameters: {'max_depth': 2, 'min_samples_leaf': 1, 'min_samples_split': 2, 'n_estimators': 70}\""
   ]
  },
  {
   "cell_type": "code",
   "execution_count": 55,
   "metadata": {},
   "outputs": [
    {
     "data": {
      "text/plain": [
       "'Значение метрики Precision при обучении с кросс-валидацией: 0.3083736759878376'"
      ]
     },
     "execution_count": 55,
     "metadata": {},
     "output_type": "execute_result"
    }
   ],
   "source": [
    "model_rf = RandomForestClassifier(n_estimators=70, max_depth=2, min_samples_leaf=1, min_samples_split=2, random_state=42, class_weight='balanced')\n",
    "score = cross_val_score(model_rf, features_ore_train, target_train, cv=5, scoring='precision')\n",
    "f'The value of the Precision metric in cross-validation training: {sum(score) / 5}'"
   ]
  },
  {
   "cell_type": "markdown",
   "metadata": {},
   "source": "### Testing the model"
  },
  {
   "cell_type": "markdown",
   "metadata": {},
   "source": "The random forest has a slightly better precision metric than logistic regression. Let's test the random forest model on the test set."
  },
  {
   "cell_type": "code",
   "execution_count": 56,
   "metadata": {},
   "outputs": [
    {
     "data": {
      "text/plain": [
       "'Значение метрики Precision на тестовой выборке: 0.4480503555955203'"
      ]
     },
     "execution_count": 56,
     "metadata": {},
     "output_type": "execute_result"
    }
   ],
   "source": [
    "# Test the model on the test sample\n",
    "model_rf.fit(features_ore_train, target_train)\n",
    "predictions = model_rf.predict(features_ore_test)\n",
    "f'The value of the Precision metric on the test sample: {precision_score(target_test, predictions)}'"
   ]
  },
  {
   "cell_type": "markdown",
   "metadata": {},
   "source": "### Conclusions on the development of the ML model"
  },
  {
   "cell_type": "markdown",
   "metadata": {},
   "source": [
    "Logistic regression and random forest models were trained. Precision was selected as the benchmark metric.\n",
    "* Logistic regression:\n",
    "    * Precision metric value during training with cross-validation: 0.283\n",
    "* Random forest:\n",
    "    * Precision metric value during training with cross-validation: 0.308\n",
    "    * Precision metric value on the test set: 0.448\n",
    "\n",
    "We trained the random forest model and obtained a Precision metric value of 0.448 on the test set."
   ]
  },
  {
   "cell_type": "markdown",
   "metadata": {},
   "source": "### Estimated profit from the model's operation for the year"
  },
  {
   "cell_type": "markdown",
   "metadata": {},
   "source": "Let's estimate the profit from the model's operation over a year using data from the test sample. We'll compare this with the profit before implementing the model."
  },
  {
   "cell_type": "code",
   "execution_count": 57,
   "metadata": {},
   "outputs": [
    {
     "data": {
      "text/html": [
       "<div>\n",
       "<style scoped>\n",
       "    .dataframe tbody tr th:only-of-type {\n",
       "        vertical-align: middle;\n",
       "    }\n",
       "\n",
       "    .dataframe tbody tr th {\n",
       "        vertical-align: top;\n",
       "    }\n",
       "\n",
       "    .dataframe thead th {\n",
       "        text-align: right;\n",
       "    }\n",
       "</style>\n",
       "<table border=\"1\" class=\"dataframe\">\n",
       "  <thead>\n",
       "    <tr style=\"text-align: right;\">\n",
       "      <th></th>\n",
       "      <th>is_cancelled</th>\n",
       "      <th>lead_time</th>\n",
       "      <th>arrival_date_month</th>\n",
       "      <th>stays_in_weekend_nights</th>\n",
       "      <th>stays_in_week_nights</th>\n",
       "      <th>adults</th>\n",
       "      <th>children</th>\n",
       "      <th>babies</th>\n",
       "      <th>meal</th>\n",
       "      <th>country</th>\n",
       "      <th>distribution_channel</th>\n",
       "      <th>is_repeated_guest</th>\n",
       "      <th>...</th>\n",
       "      <th>booking_changes</th>\n",
       "      <th>days_in_waiting_list</th>\n",
       "      <th>customer_type</th>\n",
       "      <th>required_car_parking_spaces</th>\n",
       "      <th>total_of_special_requests</th>\n",
       "      <th>arrival_date_week_sin</th>\n",
       "      <th>arrival_date_week_cos</th>\n",
       "      <th>arrival_date_day_of_month_sin</th>\n",
       "      <th>arrival_date_day_of_month_cos</th>\n",
       "      <th>arrival_season</th>\n",
       "      <th>operating_profit</th>\n",
       "      <th>is_cancelled_predicted</th>\n",
       "    </tr>\n",
       "  </thead>\n",
       "  <tbody>\n",
       "    <tr>\n",
       "      <th>0</th>\n",
       "      <td>1</td>\n",
       "      <td>74.0</td>\n",
       "      <td>January</td>\n",
       "      <td>1</td>\n",
       "      <td>0</td>\n",
       "      <td>2.0</td>\n",
       "      <td>0.0</td>\n",
       "      <td>0.0</td>\n",
       "      <td>BB</td>\n",
       "      <td>PRT</td>\n",
       "      <td>TA/TO</td>\n",
       "      <td>0</td>\n",
       "      <td>...</td>\n",
       "      <td>0</td>\n",
       "      <td>0</td>\n",
       "      <td>Transient</td>\n",
       "      <td>0</td>\n",
       "      <td>0</td>\n",
       "      <td>0.118273</td>\n",
       "      <td>0.992981</td>\n",
       "      <td>0.118273</td>\n",
       "      <td>0.992981</td>\n",
       "      <td>Winter</td>\n",
       "      <td>-1400.0</td>\n",
       "      <td>1</td>\n",
       "    </tr>\n",
       "    <tr>\n",
       "      <th>1</th>\n",
       "      <td>1</td>\n",
       "      <td>62.0</td>\n",
       "      <td>January</td>\n",
       "      <td>2</td>\n",
       "      <td>2</td>\n",
       "      <td>2.0</td>\n",
       "      <td>0.0</td>\n",
       "      <td>0.0</td>\n",
       "      <td>BB</td>\n",
       "      <td>AUT</td>\n",
       "      <td>TA/TO</td>\n",
       "      <td>0</td>\n",
       "      <td>...</td>\n",
       "      <td>0</td>\n",
       "      <td>0</td>\n",
       "      <td>Transient</td>\n",
       "      <td>0</td>\n",
       "      <td>1</td>\n",
       "      <td>0.118273</td>\n",
       "      <td>0.992981</td>\n",
       "      <td>0.118273</td>\n",
       "      <td>0.992981</td>\n",
       "      <td>Winter</td>\n",
       "      <td>-1400.0</td>\n",
       "      <td>0</td>\n",
       "    </tr>\n",
       "    <tr>\n",
       "      <th>2</th>\n",
       "      <td>1</td>\n",
       "      <td>71.0</td>\n",
       "      <td>January</td>\n",
       "      <td>2</td>\n",
       "      <td>2</td>\n",
       "      <td>1.0</td>\n",
       "      <td>0.0</td>\n",
       "      <td>0.0</td>\n",
       "      <td>BB</td>\n",
       "      <td>PRT</td>\n",
       "      <td>TA/TO</td>\n",
       "      <td>0</td>\n",
       "      <td>...</td>\n",
       "      <td>0</td>\n",
       "      <td>0</td>\n",
       "      <td>Transient</td>\n",
       "      <td>0</td>\n",
       "      <td>1</td>\n",
       "      <td>0.118273</td>\n",
       "      <td>0.992981</td>\n",
       "      <td>0.118273</td>\n",
       "      <td>0.992981</td>\n",
       "      <td>Winter</td>\n",
       "      <td>-1400.0</td>\n",
       "      <td>1</td>\n",
       "    </tr>\n",
       "    <tr>\n",
       "      <th>3</th>\n",
       "      <td>1</td>\n",
       "      <td>172.0</td>\n",
       "      <td>January</td>\n",
       "      <td>2</td>\n",
       "      <td>5</td>\n",
       "      <td>2.0</td>\n",
       "      <td>0.0</td>\n",
       "      <td>0.0</td>\n",
       "      <td>BB</td>\n",
       "      <td>BEL</td>\n",
       "      <td>TA/TO</td>\n",
       "      <td>0</td>\n",
       "      <td>...</td>\n",
       "      <td>0</td>\n",
       "      <td>0</td>\n",
       "      <td>Transient</td>\n",
       "      <td>0</td>\n",
       "      <td>0</td>\n",
       "      <td>0.118273</td>\n",
       "      <td>0.992981</td>\n",
       "      <td>0.118273</td>\n",
       "      <td>0.992981</td>\n",
       "      <td>Winter</td>\n",
       "      <td>-1400.0</td>\n",
       "      <td>1</td>\n",
       "    </tr>\n",
       "    <tr>\n",
       "      <th>4</th>\n",
       "      <td>1</td>\n",
       "      <td>52.0</td>\n",
       "      <td>January</td>\n",
       "      <td>2</td>\n",
       "      <td>5</td>\n",
       "      <td>1.0</td>\n",
       "      <td>0.0</td>\n",
       "      <td>0.0</td>\n",
       "      <td>BB</td>\n",
       "      <td>DEU</td>\n",
       "      <td>TA/TO</td>\n",
       "      <td>0</td>\n",
       "      <td>...</td>\n",
       "      <td>0</td>\n",
       "      <td>0</td>\n",
       "      <td>Transient</td>\n",
       "      <td>0</td>\n",
       "      <td>0</td>\n",
       "      <td>0.118273</td>\n",
       "      <td>0.992981</td>\n",
       "      <td>0.118273</td>\n",
       "      <td>0.992981</td>\n",
       "      <td>Winter</td>\n",
       "      <td>-1400.0</td>\n",
       "      <td>1</td>\n",
       "    </tr>\n",
       "  </tbody>\n",
       "</table>\n",
       "<p>5 rows × 27 columns</p>\n",
       "</div>"
      ],
      "text/plain": [
       "   is_cancelled  lead_time arrival_date_month  stays_in_weekend_nights  \\\n",
       "0             1       74.0            January                        1   \n",
       "1             1       62.0            January                        2   \n",
       "2             1       71.0            January                        2   \n",
       "3             1      172.0            January                        2   \n",
       "4             1       52.0            January                        2   \n",
       "\n",
       "   stays_in_week_nights  adults  children  babies meal country  \\\n",
       "0                     0     2.0       0.0     0.0   BB     PRT   \n",
       "1                     2     2.0       0.0     0.0   BB     AUT   \n",
       "2                     2     1.0       0.0     0.0   BB     PRT   \n",
       "3                     5     2.0       0.0     0.0   BB     BEL   \n",
       "4                     5     1.0       0.0     0.0   BB     DEU   \n",
       "\n",
       "  distribution_channel  is_repeated_guest  ...  booking_changes  \\\n",
       "0                TA/TO                  0  ...                0   \n",
       "1                TA/TO                  0  ...                0   \n",
       "2                TA/TO                  0  ...                0   \n",
       "3                TA/TO                  0  ...                0   \n",
       "4                TA/TO                  0  ...                0   \n",
       "\n",
       "   days_in_waiting_list customer_type  required_car_parking_spaces  \\\n",
       "0                     0     Transient                            0   \n",
       "1                     0     Transient                            0   \n",
       "2                     0     Transient                            0   \n",
       "3                     0     Transient                            0   \n",
       "4                     0     Transient                            0   \n",
       "\n",
       "   total_of_special_requests arrival_date_week_sin  arrival_date_week_cos  \\\n",
       "0                          0              0.118273               0.992981   \n",
       "1                          1              0.118273               0.992981   \n",
       "2                          1              0.118273               0.992981   \n",
       "3                          0              0.118273               0.992981   \n",
       "4                          0              0.118273               0.992981   \n",
       "\n",
       "   arrival_date_day_of_month_sin  arrival_date_day_of_month_cos  \\\n",
       "0                       0.118273                       0.992981   \n",
       "1                       0.118273                       0.992981   \n",
       "2                       0.118273                       0.992981   \n",
       "3                       0.118273                       0.992981   \n",
       "4                       0.118273                       0.992981   \n",
       "\n",
       "   arrival_season  operating_profit  is_cancelled_predicted  \n",
       "0          Winter           -1400.0                       1  \n",
       "1          Winter           -1400.0                       0  \n",
       "2          Winter           -1400.0                       1  \n",
       "3          Winter           -1400.0                       1  \n",
       "4          Winter           -1400.0                       1  \n",
       "\n",
       "[5 rows x 27 columns]"
      ]
     },
     "metadata": {},
     "output_type": "display_data"
    },
    {
     "data": {
      "text/html": [
       "<div>\n",
       "<style scoped>\n",
       "    .dataframe tbody tr th:only-of-type {\n",
       "        vertical-align: middle;\n",
       "    }\n",
       "\n",
       "    .dataframe tbody tr th {\n",
       "        vertical-align: top;\n",
       "    }\n",
       "\n",
       "    .dataframe thead th {\n",
       "        text-align: right;\n",
       "    }\n",
       "</style>\n",
       "<table border=\"1\" class=\"dataframe\">\n",
       "  <thead>\n",
       "    <tr style=\"text-align: right;\">\n",
       "      <th></th>\n",
       "      <th>is_cancelled</th>\n",
       "      <th>lead_time</th>\n",
       "      <th>arrival_date_month</th>\n",
       "      <th>stays_in_weekend_nights</th>\n",
       "      <th>stays_in_week_nights</th>\n",
       "      <th>adults</th>\n",
       "      <th>children</th>\n",
       "      <th>babies</th>\n",
       "      <th>meal</th>\n",
       "      <th>country</th>\n",
       "      <th>distribution_channel</th>\n",
       "      <th>is_repeated_guest</th>\n",
       "      <th>...</th>\n",
       "      <th>booking_changes</th>\n",
       "      <th>days_in_waiting_list</th>\n",
       "      <th>customer_type</th>\n",
       "      <th>required_car_parking_spaces</th>\n",
       "      <th>total_of_special_requests</th>\n",
       "      <th>arrival_date_week_sin</th>\n",
       "      <th>arrival_date_week_cos</th>\n",
       "      <th>arrival_date_day_of_month_sin</th>\n",
       "      <th>arrival_date_day_of_month_cos</th>\n",
       "      <th>arrival_season</th>\n",
       "      <th>operating_profit</th>\n",
       "      <th>is_cancelled_predicted</th>\n",
       "    </tr>\n",
       "  </thead>\n",
       "  <tbody>\n",
       "    <tr>\n",
       "      <th>24622</th>\n",
       "      <td>0</td>\n",
       "      <td>164.0</td>\n",
       "      <td>August</td>\n",
       "      <td>2</td>\n",
       "      <td>4</td>\n",
       "      <td>2.0</td>\n",
       "      <td>0.0</td>\n",
       "      <td>0.0</td>\n",
       "      <td>BB</td>\n",
       "      <td>DEU</td>\n",
       "      <td>TA/TO</td>\n",
       "      <td>0</td>\n",
       "      <td>...</td>\n",
       "      <td>0</td>\n",
       "      <td>0</td>\n",
       "      <td>Transient</td>\n",
       "      <td>0</td>\n",
       "      <td>0</td>\n",
       "      <td>-0.845596</td>\n",
       "      <td>-0.533823</td>\n",
       "      <td>-0.508531</td>\n",
       "      <td>-0.861044</td>\n",
       "      <td>Summer</td>\n",
       "      <td>6160.0</td>\n",
       "      <td>1</td>\n",
       "    </tr>\n",
       "    <tr>\n",
       "      <th>24623</th>\n",
       "      <td>0</td>\n",
       "      <td>21.0</td>\n",
       "      <td>August</td>\n",
       "      <td>2</td>\n",
       "      <td>5</td>\n",
       "      <td>2.0</td>\n",
       "      <td>0.0</td>\n",
       "      <td>0.0</td>\n",
       "      <td>BB</td>\n",
       "      <td>BEL</td>\n",
       "      <td>TA/TO</td>\n",
       "      <td>0</td>\n",
       "      <td>...</td>\n",
       "      <td>0</td>\n",
       "      <td>0</td>\n",
       "      <td>Transient</td>\n",
       "      <td>0</td>\n",
       "      <td>2</td>\n",
       "      <td>-0.845596</td>\n",
       "      <td>-0.533823</td>\n",
       "      <td>-0.403123</td>\n",
       "      <td>-0.915146</td>\n",
       "      <td>Summer</td>\n",
       "      <td>7560.0</td>\n",
       "      <td>0</td>\n",
       "    </tr>\n",
       "    <tr>\n",
       "      <th>24624</th>\n",
       "      <td>0</td>\n",
       "      <td>23.0</td>\n",
       "      <td>August</td>\n",
       "      <td>2</td>\n",
       "      <td>5</td>\n",
       "      <td>2.0</td>\n",
       "      <td>0.0</td>\n",
       "      <td>0.0</td>\n",
       "      <td>BB</td>\n",
       "      <td>BEL</td>\n",
       "      <td>TA/TO</td>\n",
       "      <td>0</td>\n",
       "      <td>...</td>\n",
       "      <td>0</td>\n",
       "      <td>0</td>\n",
       "      <td>Transient</td>\n",
       "      <td>0</td>\n",
       "      <td>0</td>\n",
       "      <td>-0.845596</td>\n",
       "      <td>-0.533823</td>\n",
       "      <td>-0.403123</td>\n",
       "      <td>-0.915146</td>\n",
       "      <td>Summer</td>\n",
       "      <td>7560.0</td>\n",
       "      <td>1</td>\n",
       "    </tr>\n",
       "    <tr>\n",
       "      <th>24625</th>\n",
       "      <td>0</td>\n",
       "      <td>34.0</td>\n",
       "      <td>August</td>\n",
       "      <td>2</td>\n",
       "      <td>5</td>\n",
       "      <td>2.0</td>\n",
       "      <td>0.0</td>\n",
       "      <td>0.0</td>\n",
       "      <td>BB</td>\n",
       "      <td>DEU</td>\n",
       "      <td>TA/TO</td>\n",
       "      <td>0</td>\n",
       "      <td>...</td>\n",
       "      <td>0</td>\n",
       "      <td>0</td>\n",
       "      <td>Transient</td>\n",
       "      <td>0</td>\n",
       "      <td>4</td>\n",
       "      <td>-0.845596</td>\n",
       "      <td>-0.533823</td>\n",
       "      <td>-0.508531</td>\n",
       "      <td>-0.861044</td>\n",
       "      <td>Summer</td>\n",
       "      <td>4550.0</td>\n",
       "      <td>0</td>\n",
       "    </tr>\n",
       "    <tr>\n",
       "      <th>24626</th>\n",
       "      <td>0</td>\n",
       "      <td>109.0</td>\n",
       "      <td>August</td>\n",
       "      <td>2</td>\n",
       "      <td>5</td>\n",
       "      <td>2.0</td>\n",
       "      <td>0.0</td>\n",
       "      <td>0.0</td>\n",
       "      <td>BB</td>\n",
       "      <td>GBR</td>\n",
       "      <td>TA/TO</td>\n",
       "      <td>0</td>\n",
       "      <td>...</td>\n",
       "      <td>0</td>\n",
       "      <td>0</td>\n",
       "      <td>Transient</td>\n",
       "      <td>0</td>\n",
       "      <td>0</td>\n",
       "      <td>-0.845596</td>\n",
       "      <td>-0.533823</td>\n",
       "      <td>-0.508531</td>\n",
       "      <td>-0.861044</td>\n",
       "      <td>Summer</td>\n",
       "      <td>7560.0</td>\n",
       "      <td>1</td>\n",
       "    </tr>\n",
       "  </tbody>\n",
       "</table>\n",
       "<p>5 rows × 27 columns</p>\n",
       "</div>"
      ],
      "text/plain": [
       "       is_cancelled  lead_time arrival_date_month  stays_in_weekend_nights  \\\n",
       "24622             0      164.0             August                        2   \n",
       "24623             0       21.0             August                        2   \n",
       "24624             0       23.0             August                        2   \n",
       "24625             0       34.0             August                        2   \n",
       "24626             0      109.0             August                        2   \n",
       "\n",
       "       stays_in_week_nights  adults  children  babies meal country  \\\n",
       "24622                     4     2.0       0.0     0.0   BB     DEU   \n",
       "24623                     5     2.0       0.0     0.0   BB     BEL   \n",
       "24624                     5     2.0       0.0     0.0   BB     BEL   \n",
       "24625                     5     2.0       0.0     0.0   BB     DEU   \n",
       "24626                     5     2.0       0.0     0.0   BB     GBR   \n",
       "\n",
       "      distribution_channel  is_repeated_guest  ...  booking_changes  \\\n",
       "24622                TA/TO                  0  ...                0   \n",
       "24623                TA/TO                  0  ...                0   \n",
       "24624                TA/TO                  0  ...                0   \n",
       "24625                TA/TO                  0  ...                0   \n",
       "24626                TA/TO                  0  ...                0   \n",
       "\n",
       "       days_in_waiting_list customer_type  required_car_parking_spaces  \\\n",
       "24622                     0     Transient                            0   \n",
       "24623                     0     Transient                            0   \n",
       "24624                     0     Transient                            0   \n",
       "24625                     0     Transient                            0   \n",
       "24626                     0     Transient                            0   \n",
       "\n",
       "       total_of_special_requests arrival_date_week_sin  arrival_date_week_cos  \\\n",
       "24622                          0             -0.845596              -0.533823   \n",
       "24623                          2             -0.845596              -0.533823   \n",
       "24624                          0             -0.845596              -0.533823   \n",
       "24625                          4             -0.845596              -0.533823   \n",
       "24626                          0             -0.845596              -0.533823   \n",
       "\n",
       "       arrival_date_day_of_month_sin  arrival_date_day_of_month_cos  \\\n",
       "24622                      -0.508531                      -0.861044   \n",
       "24623                      -0.403123                      -0.915146   \n",
       "24624                      -0.403123                      -0.915146   \n",
       "24625                      -0.508531                      -0.861044   \n",
       "24626                      -0.508531                      -0.861044   \n",
       "\n",
       "       arrival_season  operating_profit  is_cancelled_predicted  \n",
       "24622          Summer            6160.0                       1  \n",
       "24623          Summer            7560.0                       0  \n",
       "24624          Summer            7560.0                       1  \n",
       "24625          Summer            4550.0                       0  \n",
       "24626          Summer            7560.0                       1  \n",
       "\n",
       "[5 rows x 27 columns]"
      ]
     },
     "execution_count": 57,
     "metadata": {},
     "output_type": "execute_result"
    }
   ],
   "source": [
    "# Add a new feature to the test sample - booking cancellation prediction\n",
    "data_test['is_cancelled_predicted'] = predictions\n",
    "display(data_test.head())\n",
    "data_test.tail()"
   ]
  },
  {
   "cell_type": "code",
   "execution_count": 58,
   "metadata": {},
   "outputs": [],
   "source": [
    "# We will improve the calc profit function to calculate profit taking into account the deposit and predictions\n",
    "\n",
    "DEPOSIT_FACTOR = 0.8\n",
    "\n",
    "def calc_profit_with_deposit_and_ml(row):\n",
    "    '''\n",
    "    The function accepts a dataset object as input.\n",
    "\n",
    "    If it was predicted that the reservation would be canceled and this actually happened, the function returns a deposit\n",
    "    equal to 80% of the cost of one night and one cleaning, taking into account the season.\n",
    "\n",
    "    If the room reservation was canceled and this was not predicted, the function returns a loss\n",
    "    equal to one night and one cleaning, taking into account the season.\n",
    "\n",
    "    If the reservation was not canceled, the function returns the operating profit.\n",
    "\n",
    "    Operating profit is calculated as follows:\n",
    "    (room cost * number of nights - cleaning cost * (number of nights / 2 and then rounded down)) * seasonal coefficient.\n",
    "    '''\n",
    "    room_cost = ROOM_COST_DICT[row.reserved_room_type]\n",
    "    cleaning_cost = CLEANING_COST_DICT[row.reserved_room_type]\n",
    "    total_nights = row.stays_in_weekend_nights + row.stays_in_week_nights\n",
    "    seasonal_factor = SEASONAL_FACTOR[row.arrival_season]\n",
    "    first_day_cost = (room_cost + cleaning_cost) * seasonal_factor\n",
    "    \n",
    "    if row.is_cancelled_predicted and row.is_cancelled:\n",
    "        return first_day_cost * DEPOSIT_FACTOR - first_day_cost\n",
    "    \n",
    "    if not row.is_cancelled_predicted and row.is_cancelled:\n",
    "        return -first_day_cost\n",
    "    \n",
    "    operating_profit = (room_cost * total_nights - cleaning_cost * (1 + total_nights // 2)) * seasonal_factor\n",
    "    return operating_profit"
   ]
  },
  {
   "cell_type": "code",
   "execution_count": 59,
   "metadata": {
    "scrolled": true
   },
   "outputs": [],
   "source": [
    "# Apply our function\n",
    "data_test['operating_profit_deposit_and_ml'] = data_test.apply(calc_profit_with_deposit_and_ml, axis=1)"
   ]
  },
  {
   "cell_type": "code",
   "execution_count": 60,
   "metadata": {},
   "outputs": [
    {
     "data": {
      "text/html": [
       "<div>\n",
       "<style scoped>\n",
       "    .dataframe tbody tr th:only-of-type {\n",
       "        vertical-align: middle;\n",
       "    }\n",
       "\n",
       "    .dataframe tbody tr th {\n",
       "        vertical-align: top;\n",
       "    }\n",
       "\n",
       "    .dataframe thead th {\n",
       "        text-align: right;\n",
       "    }\n",
       "</style>\n",
       "<table border=\"1\" class=\"dataframe\">\n",
       "  <thead>\n",
       "    <tr style=\"text-align: right;\">\n",
       "      <th></th>\n",
       "      <th>is_cancelled</th>\n",
       "      <th>lead_time</th>\n",
       "      <th>arrival_date_month</th>\n",
       "      <th>stays_in_weekend_nights</th>\n",
       "      <th>stays_in_week_nights</th>\n",
       "      <th>adults</th>\n",
       "      <th>children</th>\n",
       "      <th>babies</th>\n",
       "      <th>meal</th>\n",
       "      <th>country</th>\n",
       "      <th>distribution_channel</th>\n",
       "      <th>is_repeated_guest</th>\n",
       "      <th>...</th>\n",
       "      <th>days_in_waiting_list</th>\n",
       "      <th>customer_type</th>\n",
       "      <th>required_car_parking_spaces</th>\n",
       "      <th>total_of_special_requests</th>\n",
       "      <th>arrival_date_week_sin</th>\n",
       "      <th>arrival_date_week_cos</th>\n",
       "      <th>arrival_date_day_of_month_sin</th>\n",
       "      <th>arrival_date_day_of_month_cos</th>\n",
       "      <th>arrival_season</th>\n",
       "      <th>operating_profit</th>\n",
       "      <th>is_cancelled_predicted</th>\n",
       "      <th>operating_profit_deposit_and_ml</th>\n",
       "    </tr>\n",
       "  </thead>\n",
       "  <tbody>\n",
       "    <tr>\n",
       "      <th>0</th>\n",
       "      <td>1</td>\n",
       "      <td>74.0</td>\n",
       "      <td>January</td>\n",
       "      <td>1</td>\n",
       "      <td>0</td>\n",
       "      <td>2.0</td>\n",
       "      <td>0.0</td>\n",
       "      <td>0.0</td>\n",
       "      <td>BB</td>\n",
       "      <td>PRT</td>\n",
       "      <td>TA/TO</td>\n",
       "      <td>0</td>\n",
       "      <td>...</td>\n",
       "      <td>0</td>\n",
       "      <td>Transient</td>\n",
       "      <td>0</td>\n",
       "      <td>0</td>\n",
       "      <td>0.118273</td>\n",
       "      <td>0.992981</td>\n",
       "      <td>0.118273</td>\n",
       "      <td>0.992981</td>\n",
       "      <td>Winter</td>\n",
       "      <td>-1400.0</td>\n",
       "      <td>1</td>\n",
       "      <td>-280.0</td>\n",
       "    </tr>\n",
       "    <tr>\n",
       "      <th>1</th>\n",
       "      <td>1</td>\n",
       "      <td>62.0</td>\n",
       "      <td>January</td>\n",
       "      <td>2</td>\n",
       "      <td>2</td>\n",
       "      <td>2.0</td>\n",
       "      <td>0.0</td>\n",
       "      <td>0.0</td>\n",
       "      <td>BB</td>\n",
       "      <td>AUT</td>\n",
       "      <td>TA/TO</td>\n",
       "      <td>0</td>\n",
       "      <td>...</td>\n",
       "      <td>0</td>\n",
       "      <td>Transient</td>\n",
       "      <td>0</td>\n",
       "      <td>1</td>\n",
       "      <td>0.118273</td>\n",
       "      <td>0.992981</td>\n",
       "      <td>0.118273</td>\n",
       "      <td>0.992981</td>\n",
       "      <td>Winter</td>\n",
       "      <td>-1400.0</td>\n",
       "      <td>0</td>\n",
       "      <td>-1400.0</td>\n",
       "    </tr>\n",
       "    <tr>\n",
       "      <th>2</th>\n",
       "      <td>1</td>\n",
       "      <td>71.0</td>\n",
       "      <td>January</td>\n",
       "      <td>2</td>\n",
       "      <td>2</td>\n",
       "      <td>1.0</td>\n",
       "      <td>0.0</td>\n",
       "      <td>0.0</td>\n",
       "      <td>BB</td>\n",
       "      <td>PRT</td>\n",
       "      <td>TA/TO</td>\n",
       "      <td>0</td>\n",
       "      <td>...</td>\n",
       "      <td>0</td>\n",
       "      <td>Transient</td>\n",
       "      <td>0</td>\n",
       "      <td>1</td>\n",
       "      <td>0.118273</td>\n",
       "      <td>0.992981</td>\n",
       "      <td>0.118273</td>\n",
       "      <td>0.992981</td>\n",
       "      <td>Winter</td>\n",
       "      <td>-1400.0</td>\n",
       "      <td>1</td>\n",
       "      <td>-280.0</td>\n",
       "    </tr>\n",
       "    <tr>\n",
       "      <th>3</th>\n",
       "      <td>1</td>\n",
       "      <td>172.0</td>\n",
       "      <td>January</td>\n",
       "      <td>2</td>\n",
       "      <td>5</td>\n",
       "      <td>2.0</td>\n",
       "      <td>0.0</td>\n",
       "      <td>0.0</td>\n",
       "      <td>BB</td>\n",
       "      <td>BEL</td>\n",
       "      <td>TA/TO</td>\n",
       "      <td>0</td>\n",
       "      <td>...</td>\n",
       "      <td>0</td>\n",
       "      <td>Transient</td>\n",
       "      <td>0</td>\n",
       "      <td>0</td>\n",
       "      <td>0.118273</td>\n",
       "      <td>0.992981</td>\n",
       "      <td>0.118273</td>\n",
       "      <td>0.992981</td>\n",
       "      <td>Winter</td>\n",
       "      <td>-1400.0</td>\n",
       "      <td>1</td>\n",
       "      <td>-280.0</td>\n",
       "    </tr>\n",
       "    <tr>\n",
       "      <th>4</th>\n",
       "      <td>1</td>\n",
       "      <td>52.0</td>\n",
       "      <td>January</td>\n",
       "      <td>2</td>\n",
       "      <td>5</td>\n",
       "      <td>1.0</td>\n",
       "      <td>0.0</td>\n",
       "      <td>0.0</td>\n",
       "      <td>BB</td>\n",
       "      <td>DEU</td>\n",
       "      <td>TA/TO</td>\n",
       "      <td>0</td>\n",
       "      <td>...</td>\n",
       "      <td>0</td>\n",
       "      <td>Transient</td>\n",
       "      <td>0</td>\n",
       "      <td>0</td>\n",
       "      <td>0.118273</td>\n",
       "      <td>0.992981</td>\n",
       "      <td>0.118273</td>\n",
       "      <td>0.992981</td>\n",
       "      <td>Winter</td>\n",
       "      <td>-1400.0</td>\n",
       "      <td>1</td>\n",
       "      <td>-280.0</td>\n",
       "    </tr>\n",
       "  </tbody>\n",
       "</table>\n",
       "<p>5 rows × 28 columns</p>\n",
       "</div>"
      ],
      "text/plain": [
       "   is_cancelled  lead_time arrival_date_month  stays_in_weekend_nights  \\\n",
       "0             1       74.0            January                        1   \n",
       "1             1       62.0            January                        2   \n",
       "2             1       71.0            January                        2   \n",
       "3             1      172.0            January                        2   \n",
       "4             1       52.0            January                        2   \n",
       "\n",
       "   stays_in_week_nights  adults  children  babies meal country  \\\n",
       "0                     0     2.0       0.0     0.0   BB     PRT   \n",
       "1                     2     2.0       0.0     0.0   BB     AUT   \n",
       "2                     2     1.0       0.0     0.0   BB     PRT   \n",
       "3                     5     2.0       0.0     0.0   BB     BEL   \n",
       "4                     5     1.0       0.0     0.0   BB     DEU   \n",
       "\n",
       "  distribution_channel  is_repeated_guest  ...  days_in_waiting_list  \\\n",
       "0                TA/TO                  0  ...                     0   \n",
       "1                TA/TO                  0  ...                     0   \n",
       "2                TA/TO                  0  ...                     0   \n",
       "3                TA/TO                  0  ...                     0   \n",
       "4                TA/TO                  0  ...                     0   \n",
       "\n",
       "   customer_type required_car_parking_spaces  total_of_special_requests  \\\n",
       "0      Transient                           0                          0   \n",
       "1      Transient                           0                          1   \n",
       "2      Transient                           0                          1   \n",
       "3      Transient                           0                          0   \n",
       "4      Transient                           0                          0   \n",
       "\n",
       "   arrival_date_week_sin arrival_date_week_cos  arrival_date_day_of_month_sin  \\\n",
       "0               0.118273              0.992981                       0.118273   \n",
       "1               0.118273              0.992981                       0.118273   \n",
       "2               0.118273              0.992981                       0.118273   \n",
       "3               0.118273              0.992981                       0.118273   \n",
       "4               0.118273              0.992981                       0.118273   \n",
       "\n",
       "   arrival_date_day_of_month_cos  arrival_season  operating_profit  \\\n",
       "0                       0.992981          Winter           -1400.0   \n",
       "1                       0.992981          Winter           -1400.0   \n",
       "2                       0.992981          Winter           -1400.0   \n",
       "3                       0.992981          Winter           -1400.0   \n",
       "4                       0.992981          Winter           -1400.0   \n",
       "\n",
       "   is_cancelled_predicted  operating_profit_deposit_and_ml  \n",
       "0                       1                           -280.0  \n",
       "1                       0                          -1400.0  \n",
       "2                       1                           -280.0  \n",
       "3                       1                           -280.0  \n",
       "4                       1                           -280.0  \n",
       "\n",
       "[5 rows x 28 columns]"
      ]
     },
     "metadata": {},
     "output_type": "display_data"
    },
    {
     "data": {
      "text/html": [
       "<div>\n",
       "<style scoped>\n",
       "    .dataframe tbody tr th:only-of-type {\n",
       "        vertical-align: middle;\n",
       "    }\n",
       "\n",
       "    .dataframe tbody tr th {\n",
       "        vertical-align: top;\n",
       "    }\n",
       "\n",
       "    .dataframe thead th {\n",
       "        text-align: right;\n",
       "    }\n",
       "</style>\n",
       "<table border=\"1\" class=\"dataframe\">\n",
       "  <thead>\n",
       "    <tr style=\"text-align: right;\">\n",
       "      <th></th>\n",
       "      <th>is_cancelled</th>\n",
       "      <th>lead_time</th>\n",
       "      <th>arrival_date_month</th>\n",
       "      <th>stays_in_weekend_nights</th>\n",
       "      <th>stays_in_week_nights</th>\n",
       "      <th>adults</th>\n",
       "      <th>children</th>\n",
       "      <th>babies</th>\n",
       "      <th>meal</th>\n",
       "      <th>country</th>\n",
       "      <th>distribution_channel</th>\n",
       "      <th>is_repeated_guest</th>\n",
       "      <th>...</th>\n",
       "      <th>days_in_waiting_list</th>\n",
       "      <th>customer_type</th>\n",
       "      <th>required_car_parking_spaces</th>\n",
       "      <th>total_of_special_requests</th>\n",
       "      <th>arrival_date_week_sin</th>\n",
       "      <th>arrival_date_week_cos</th>\n",
       "      <th>arrival_date_day_of_month_sin</th>\n",
       "      <th>arrival_date_day_of_month_cos</th>\n",
       "      <th>arrival_season</th>\n",
       "      <th>operating_profit</th>\n",
       "      <th>is_cancelled_predicted</th>\n",
       "      <th>operating_profit_deposit_and_ml</th>\n",
       "    </tr>\n",
       "  </thead>\n",
       "  <tbody>\n",
       "    <tr>\n",
       "      <th>24622</th>\n",
       "      <td>0</td>\n",
       "      <td>164.0</td>\n",
       "      <td>August</td>\n",
       "      <td>2</td>\n",
       "      <td>4</td>\n",
       "      <td>2.0</td>\n",
       "      <td>0.0</td>\n",
       "      <td>0.0</td>\n",
       "      <td>BB</td>\n",
       "      <td>DEU</td>\n",
       "      <td>TA/TO</td>\n",
       "      <td>0</td>\n",
       "      <td>...</td>\n",
       "      <td>0</td>\n",
       "      <td>Transient</td>\n",
       "      <td>0</td>\n",
       "      <td>0</td>\n",
       "      <td>-0.845596</td>\n",
       "      <td>-0.533823</td>\n",
       "      <td>-0.508531</td>\n",
       "      <td>-0.861044</td>\n",
       "      <td>Summer</td>\n",
       "      <td>6160.0</td>\n",
       "      <td>1</td>\n",
       "      <td>6160.0</td>\n",
       "    </tr>\n",
       "    <tr>\n",
       "      <th>24623</th>\n",
       "      <td>0</td>\n",
       "      <td>21.0</td>\n",
       "      <td>August</td>\n",
       "      <td>2</td>\n",
       "      <td>5</td>\n",
       "      <td>2.0</td>\n",
       "      <td>0.0</td>\n",
       "      <td>0.0</td>\n",
       "      <td>BB</td>\n",
       "      <td>BEL</td>\n",
       "      <td>TA/TO</td>\n",
       "      <td>0</td>\n",
       "      <td>...</td>\n",
       "      <td>0</td>\n",
       "      <td>Transient</td>\n",
       "      <td>0</td>\n",
       "      <td>2</td>\n",
       "      <td>-0.845596</td>\n",
       "      <td>-0.533823</td>\n",
       "      <td>-0.403123</td>\n",
       "      <td>-0.915146</td>\n",
       "      <td>Summer</td>\n",
       "      <td>7560.0</td>\n",
       "      <td>0</td>\n",
       "      <td>7560.0</td>\n",
       "    </tr>\n",
       "    <tr>\n",
       "      <th>24624</th>\n",
       "      <td>0</td>\n",
       "      <td>23.0</td>\n",
       "      <td>August</td>\n",
       "      <td>2</td>\n",
       "      <td>5</td>\n",
       "      <td>2.0</td>\n",
       "      <td>0.0</td>\n",
       "      <td>0.0</td>\n",
       "      <td>BB</td>\n",
       "      <td>BEL</td>\n",
       "      <td>TA/TO</td>\n",
       "      <td>0</td>\n",
       "      <td>...</td>\n",
       "      <td>0</td>\n",
       "      <td>Transient</td>\n",
       "      <td>0</td>\n",
       "      <td>0</td>\n",
       "      <td>-0.845596</td>\n",
       "      <td>-0.533823</td>\n",
       "      <td>-0.403123</td>\n",
       "      <td>-0.915146</td>\n",
       "      <td>Summer</td>\n",
       "      <td>7560.0</td>\n",
       "      <td>1</td>\n",
       "      <td>7560.0</td>\n",
       "    </tr>\n",
       "    <tr>\n",
       "      <th>24625</th>\n",
       "      <td>0</td>\n",
       "      <td>34.0</td>\n",
       "      <td>August</td>\n",
       "      <td>2</td>\n",
       "      <td>5</td>\n",
       "      <td>2.0</td>\n",
       "      <td>0.0</td>\n",
       "      <td>0.0</td>\n",
       "      <td>BB</td>\n",
       "      <td>DEU</td>\n",
       "      <td>TA/TO</td>\n",
       "      <td>0</td>\n",
       "      <td>...</td>\n",
       "      <td>0</td>\n",
       "      <td>Transient</td>\n",
       "      <td>0</td>\n",
       "      <td>4</td>\n",
       "      <td>-0.845596</td>\n",
       "      <td>-0.533823</td>\n",
       "      <td>-0.508531</td>\n",
       "      <td>-0.861044</td>\n",
       "      <td>Summer</td>\n",
       "      <td>4550.0</td>\n",
       "      <td>0</td>\n",
       "      <td>4550.0</td>\n",
       "    </tr>\n",
       "    <tr>\n",
       "      <th>24626</th>\n",
       "      <td>0</td>\n",
       "      <td>109.0</td>\n",
       "      <td>August</td>\n",
       "      <td>2</td>\n",
       "      <td>5</td>\n",
       "      <td>2.0</td>\n",
       "      <td>0.0</td>\n",
       "      <td>0.0</td>\n",
       "      <td>BB</td>\n",
       "      <td>GBR</td>\n",
       "      <td>TA/TO</td>\n",
       "      <td>0</td>\n",
       "      <td>...</td>\n",
       "      <td>0</td>\n",
       "      <td>Transient</td>\n",
       "      <td>0</td>\n",
       "      <td>0</td>\n",
       "      <td>-0.845596</td>\n",
       "      <td>-0.533823</td>\n",
       "      <td>-0.508531</td>\n",
       "      <td>-0.861044</td>\n",
       "      <td>Summer</td>\n",
       "      <td>7560.0</td>\n",
       "      <td>1</td>\n",
       "      <td>7560.0</td>\n",
       "    </tr>\n",
       "  </tbody>\n",
       "</table>\n",
       "<p>5 rows × 28 columns</p>\n",
       "</div>"
      ],
      "text/plain": [
       "       is_cancelled  lead_time arrival_date_month  stays_in_weekend_nights  \\\n",
       "24622             0      164.0             August                        2   \n",
       "24623             0       21.0             August                        2   \n",
       "24624             0       23.0             August                        2   \n",
       "24625             0       34.0             August                        2   \n",
       "24626             0      109.0             August                        2   \n",
       "\n",
       "       stays_in_week_nights  adults  children  babies meal country  \\\n",
       "24622                     4     2.0       0.0     0.0   BB     DEU   \n",
       "24623                     5     2.0       0.0     0.0   BB     BEL   \n",
       "24624                     5     2.0       0.0     0.0   BB     BEL   \n",
       "24625                     5     2.0       0.0     0.0   BB     DEU   \n",
       "24626                     5     2.0       0.0     0.0   BB     GBR   \n",
       "\n",
       "      distribution_channel  is_repeated_guest  ...  days_in_waiting_list  \\\n",
       "24622                TA/TO                  0  ...                     0   \n",
       "24623                TA/TO                  0  ...                     0   \n",
       "24624                TA/TO                  0  ...                     0   \n",
       "24625                TA/TO                  0  ...                     0   \n",
       "24626                TA/TO                  0  ...                     0   \n",
       "\n",
       "       customer_type required_car_parking_spaces  total_of_special_requests  \\\n",
       "24622      Transient                           0                          0   \n",
       "24623      Transient                           0                          2   \n",
       "24624      Transient                           0                          0   \n",
       "24625      Transient                           0                          4   \n",
       "24626      Transient                           0                          0   \n",
       "\n",
       "       arrival_date_week_sin arrival_date_week_cos  \\\n",
       "24622              -0.845596             -0.533823   \n",
       "24623              -0.845596             -0.533823   \n",
       "24624              -0.845596             -0.533823   \n",
       "24625              -0.845596             -0.533823   \n",
       "24626              -0.845596             -0.533823   \n",
       "\n",
       "       arrival_date_day_of_month_sin  arrival_date_day_of_month_cos  \\\n",
       "24622                      -0.508531                      -0.861044   \n",
       "24623                      -0.403123                      -0.915146   \n",
       "24624                      -0.403123                      -0.915146   \n",
       "24625                      -0.508531                      -0.861044   \n",
       "24626                      -0.508531                      -0.861044   \n",
       "\n",
       "       arrival_season  operating_profit  is_cancelled_predicted  \\\n",
       "24622          Summer            6160.0                       1   \n",
       "24623          Summer            7560.0                       0   \n",
       "24624          Summer            7560.0                       1   \n",
       "24625          Summer            4550.0                       0   \n",
       "24626          Summer            7560.0                       1   \n",
       "\n",
       "       operating_profit_deposit_and_ml  \n",
       "24622                           6160.0  \n",
       "24623                           7560.0  \n",
       "24624                           7560.0  \n",
       "24625                           4550.0  \n",
       "24626                           7560.0  \n",
       "\n",
       "[5 rows x 28 columns]"
      ]
     },
     "execution_count": 60,
     "metadata": {},
     "output_type": "execute_result"
    }
   ],
   "source": [
    "# Display the result\n",
    "display(data_test.head())\n",
    "data_test.tail()"
   ]
  },
  {
   "cell_type": "code",
   "execution_count": 61,
   "metadata": {},
   "outputs": [
    {
     "data": {
      "text/plain": [
       "'Операционная прибыль до внедрения депозитов и ML-модели: 29109460.0'"
      ]
     },
     "metadata": {},
     "output_type": "display_data"
    },
    {
     "data": {
      "text/plain": [
       "'Операционная прибыль после внедрения депозитов и ML-модели: 35455068.0'"
      ]
     },
     "metadata": {},
     "output_type": "display_data"
    },
    {
     "data": {
      "text/plain": [
       "'Внедрение депозитов и ML-модели, которая предсказывает отказ от брони увеличивает прибыль на 6345608.0 или на 21.8%'"
      ]
     },
     "metadata": {},
     "output_type": "display_data"
    },
    {
     "data": {
      "text/plain": [
       "'Увеличение прибыли в 16 раз больше, чем бюджет на разработку модели. Бюджет на разработку равен 400000.'"
      ]
     },
     "execution_count": 61,
     "metadata": {},
     "output_type": "execute_result"
    }
   ],
   "source": [
    "# Calculate the profit from implementing our ML model and deposits. Let's calculate the difference.\n",
    "year_profit = data_test.operating_profit.sum()\n",
    "year_profit_ml = data_test.operating_profit_deposit_and_ml.sum()\n",
    "percent = round((year_profit_ml / year_profit - 1) * 100, 2)\n",
    "delta = year_profit_ml - year_profit\n",
    "display(f'Operating profit before the introduction of deposits and the ML model: {year_profit}')\n",
    "display(f'Operating profit after the implementation of deposits and the ML model: {year_profit_ml}')\n",
    "display(f'The introduction of deposits and an ML model that predicts cancellations increases profits by {delta} or by {percent}%')\n",
    "f'Increase in profits in {round(delta / 400000)} times more than the model development budget. The development budget is 400,000.'"
   ]
  },
  {
   "cell_type": "markdown",
   "metadata": {},
   "source": "## Portrait of an \"unreliable\" client"
  },
  {
   "cell_type": "markdown",
   "metadata": {},
   "source": "Let's look at several characteristics and try to create a profile of an \"unreliable\" client. We'll examine the training sample, as it contains more comprehensive data."
  },
  {
   "cell_type": "code",
   "execution_count": 62,
   "metadata": {},
   "outputs": [],
   "source": [
    "# Function to visualize the signs of an \"unreliable\" client\n",
    "\n",
    "def print_unreliable_client_plot(feature):\n",
    "    total = data_train[feature].value_counts()\n",
    "    cancelled = data_train.query('is_cancelled == 1')[feature].value_counts()\n",
    "    ratio = cancelled / total\n",
    "\n",
    "    display(total)\n",
    "    display(cancelled)\n",
    "    display(ratio)\n",
    "\n",
    "    ratio.plot(kind='barh')"
   ]
  },
  {
   "cell_type": "markdown",
   "metadata": {},
   "source": [
    "### arrival_date_month"
   ]
  },
  {
   "cell_type": "code",
   "execution_count": 63,
   "metadata": {},
   "outputs": [
    {
     "data": {
      "text/plain": [
       "October      5421\n",
       "September    5143\n",
       "August       4684\n",
       "December     4084\n",
       "November     4052\n",
       "July         3993\n",
       "March        3226\n",
       "April        3146\n",
       "May          3030\n",
       "June         2786\n",
       "February     2281\n",
       "January      1407\n",
       "Name: arrival_date_month, dtype: int64"
      ]
     },
     "metadata": {},
     "output_type": "display_data"
    },
    {
     "data": {
      "text/plain": [
       "October      1349\n",
       "August       1346\n",
       "September    1306\n",
       "July         1190\n",
       "December     1121\n",
       "November      874\n",
       "April         859\n",
       "May           771\n",
       "March         770\n",
       "June          741\n",
       "February      413\n",
       "January       225\n",
       "Name: arrival_date_month, dtype: int64"
      ]
     },
     "metadata": {},
     "output_type": "display_data"
    },
    {
     "data": {
      "text/plain": [
       "April        0.273045\n",
       "August       0.287361\n",
       "December     0.274486\n",
       "February     0.181061\n",
       "January      0.159915\n",
       "July         0.298022\n",
       "June         0.265973\n",
       "March        0.238686\n",
       "May          0.254455\n",
       "November     0.215696\n",
       "October      0.248847\n",
       "September    0.253937\n",
       "Name: arrival_date_month, dtype: float64"
      ]
     },
     "metadata": {},
     "output_type": "display_data"
    },
    {
     "data": {
      "image/png": "[encoded data removed]",
      "text/plain": [
       "<Figure size 432x288 with 1 Axes>"
      ]
     },
     "metadata": {},
     "output_type": "display_data"
    }
   ],
   "source": [
    "print_unreliable_client_plot('arrival_date_month')"
   ]
  },
  {
   "cell_type": "markdown",
   "metadata": {},
   "source": "It's difficult to identify a consistent relationship between month and booking cancellations. The most frequent cancellations (~30%) occurred in July, August. The lowest number occurred in January (15% of cancellations)."
  },
  {
   "cell_type": "markdown",
   "metadata": {},
   "source": [
    "### meal "
   ]
  },
  {
   "cell_type": "code",
   "execution_count": 64,
   "metadata": {},
   "outputs": [
    {
     "data": {
      "text/plain": [
       "BB    35055\n",
       "SC     4801\n",
       "HB     3263\n",
       "FB      134\n",
       "Name: meal, dtype: int64"
      ]
     },
     "metadata": {},
     "output_type": "display_data"
    },
    {
     "data": {
      "text/plain": [
       "BB    8563\n",
       "SC    1562\n",
       "HB     799\n",
       "FB      41\n",
       "Name: meal, dtype: int64"
      ]
     },
     "metadata": {},
     "output_type": "display_data"
    },
    {
     "data": {
      "text/plain": [
       "BB    0.244273\n",
       "SC    0.325349\n",
       "HB    0.244867\n",
       "FB    0.305970\n",
       "Name: meal, dtype: float64"
      ]
     },
     "metadata": {},
     "output_type": "display_data"
    },
    {
     "data": {
      "image/png": "[encoded data removed]",
      "text/plain": [
       "<Figure size 432x288 with 1 Axes>"
      ]
     },
     "metadata": {},
     "output_type": "display_data"
    }
   ],
   "source": [
    "print_unreliable_client_plot('meal')"
   ]
  },
  {
   "cell_type": "markdown",
   "metadata": {},
   "source": "Among meal options, the highest cancellation rate is for SC and FB bookings (>30%). For other meal options, the cancellation rate is approximately 24%."
  },
  {
   "cell_type": "markdown",
   "metadata": {},
   "source": [
    "### distribution_channel"
   ]
  },
  {
   "cell_type": "code",
   "execution_count": 65,
   "metadata": {},
   "outputs": [
    {
     "data": {
      "text/plain": [
       "TA/TO        34637\n",
       "Direct        5775\n",
       "Corporate     2751\n",
       "GDS             90\n",
       "Name: distribution_channel, dtype: int64"
      ]
     },
     "metadata": {},
     "output_type": "display_data"
    },
    {
     "data": {
      "text/plain": [
       "TA/TO        9789\n",
       "Direct        809\n",
       "Corporate     350\n",
       "GDS            17\n",
       "Name: distribution_channel, dtype: int64"
      ]
     },
     "metadata": {},
     "output_type": "display_data"
    },
    {
     "data": {
      "text/plain": [
       "TA/TO        0.282617\n",
       "Direct       0.140087\n",
       "Corporate    0.127226\n",
       "GDS          0.188889\n",
       "Name: distribution_channel, dtype: float64"
      ]
     },
     "metadata": {},
     "output_type": "display_data"
    },
    {
     "data": {
      "image/png": "[encoded data removed]",
      "text/plain": [
       "<Figure size 432x288 with 1 Axes>"
      ]
     },
     "metadata": {},
     "output_type": "display_data"
    }
   ],
   "source": [
    "print_unreliable_client_plot('distribution_channel')"
   ]
  },
  {
   "cell_type": "markdown",
   "metadata": {},
   "source": "28% of cancellations occurred among orders whose distribution channel was marked TA/TO. For other channels, the cancellation rate was much lower, 13-19%"
  },
  {
   "cell_type": "markdown",
   "metadata": {},
   "source": [
    "### reserved_room_type"
   ]
  },
  {
   "cell_type": "code",
   "execution_count": 66,
   "metadata": {},
   "outputs": [
    {
     "data": {
      "text/plain": [
       "A    30014\n",
       "D     8412\n",
       "E     2247\n",
       "F     1176\n",
       "B      599\n",
       "G      578\n",
       "C      227\n",
       "Name: reserved_room_type, dtype: int64"
      ]
     },
     "metadata": {},
     "output_type": "display_data"
    },
    {
     "data": {
      "text/plain": [
       "A    7322\n",
       "D    2408\n",
       "E     503\n",
       "F     337\n",
       "G     179\n",
       "B     173\n",
       "C      43\n",
       "Name: reserved_room_type, dtype: int64"
      ]
     },
     "metadata": {},
     "output_type": "display_data"
    },
    {
     "data": {
      "text/plain": [
       "A    0.243953\n",
       "B    0.288815\n",
       "C    0.189427\n",
       "D    0.286258\n",
       "E    0.223854\n",
       "F    0.286565\n",
       "G    0.309689\n",
       "Name: reserved_room_type, dtype: float64"
      ]
     },
     "metadata": {},
     "output_type": "display_data"
    },
    {
     "data": {
      "image/png": "[encoded data removed]",
      "text/plain": [
       "<Figure size 432x288 with 1 Axes>"
      ]
     },
     "metadata": {},
     "output_type": "display_data"
    }
   ],
   "source": [
    "print_unreliable_client_plot('reserved_room_type')"
   ]
  },
  {
   "cell_type": "markdown",
   "metadata": {},
   "source": "In almost 31% of cases, reservations for class G rooms were cancelled."
  },
  {
   "cell_type": "markdown",
   "metadata": {},
   "source": [
    "### customer_type"
   ]
  },
  {
   "cell_type": "code",
   "execution_count": 67,
   "metadata": {},
   "outputs": [
    {
     "data": {
      "text/plain": [
       "Transient          35173\n",
       "Transient-Party     5952\n",
       "Contract            1872\n",
       "Group                256\n",
       "Name: customer_type, dtype: int64"
      ]
     },
     "metadata": {},
     "output_type": "display_data"
    },
    {
     "data": {
      "text/plain": [
       "Transient          9556\n",
       "Transient-Party    1020\n",
       "Contract            370\n",
       "Group                19\n",
       "Name: customer_type, dtype: int64"
      ]
     },
     "metadata": {},
     "output_type": "display_data"
    },
    {
     "data": {
      "text/plain": [
       "Transient          0.271686\n",
       "Transient-Party    0.171371\n",
       "Contract           0.197650\n",
       "Group              0.074219\n",
       "Name: customer_type, dtype: float64"
      ]
     },
     "metadata": {},
     "output_type": "display_data"
    },
    {
     "data": {
      "image/png": "[encoded data removed]",
      "text/plain": [
       "<Figure size 432x288 with 1 Axes>"
      ]
     },
     "metadata": {},
     "output_type": "display_data"
    }
   ],
   "source": [
    "print_unreliable_client_plot('customer_type')"
   ]
  },
  {
   "cell_type": "markdown",
   "metadata": {},
   "source": "In 27% of cases, clients in the Transient category cancelled their reservations."
  },
  {
   "cell_type": "markdown",
   "metadata": {},
   "source": [
    "### is_repeated_guest"
   ]
  },
  {
   "cell_type": "code",
   "execution_count": 68,
   "metadata": {},
   "outputs": [
    {
     "data": {
      "text/plain": [
       "0    41812\n",
       "1     1441\n",
       "Name: is_repeated_guest, dtype: int64"
      ]
     },
     "metadata": {},
     "output_type": "display_data"
    },
    {
     "data": {
      "text/plain": [
       "0    10794\n",
       "1      171\n",
       "Name: is_repeated_guest, dtype: int64"
      ]
     },
     "metadata": {},
     "output_type": "display_data"
    },
    {
     "data": {
      "text/plain": [
       "0    0.258156\n",
       "1    0.118668\n",
       "Name: is_repeated_guest, dtype: float64"
      ]
     },
     "metadata": {},
     "output_type": "display_data"
    },
    {
     "data": {
      "image/png": "[encoded data removed]",
      "text/plain": [
       "<Figure size 432x288 with 1 Axes>"
      ]
     },
     "metadata": {},
     "output_type": "display_data"
    }
   ],
   "source": [
    "print_unreliable_client_plot('is_repeated_guest')"
   ]
  },
  {
   "cell_type": "markdown",
   "metadata": {},
   "source": "New customers cancelled their bookings more often, in 26% of cases."
  },
  {
   "cell_type": "markdown",
   "metadata": {},
   "source": "### Conclusion: Portrait of an \"unreliable\" client"
  },
  {
   "cell_type": "markdown",
   "metadata": {},
   "source": [
    "As a result of studying certain characteristics on a training sample, the following portrait of an \"unreliable\" client was compiled:\n",
    "\n",
    "1. The client books a room with FB or SC meals.\n",
    "3. The distribution channel is TA/TO.\n",
    "4. The client books a category G room.\n",
    "5. This client is a Transient client.\n",
    "6. This client is a new client."
   ]
  },
  {
   "cell_type": "markdown",
   "metadata": {},
   "source": "## General conclusion"
  },
  {
   "cell_type": "markdown",
   "metadata": {},
   "source": [
    "Client: Hotel chain. Task: Develop a system for predicting room cancellations.\n",
    "\n",
    "The work was divided into the following steps:\n",
    "1. Client data was analyzed and prepared.\n",
    "2. Various machine learning models were trained. The random forest-based model was deemed the most successful. Precision was chosen as the control metric. It indicates the proportion of true positive model responses among all model responses. The following metric values were obtained:\n",
    "    * Precision metric value during cross-validation training: 0.308\n",
    "    * Precision metric value on the test set: 0.448\n",
    "3. The profit from implementing the ML model together with the deposit system was calculated:\n",
    "    * Implementing deposits and an ML model that predicts room cancellations increases profit by 6,345,608.0, or 21.8%.\n",
    "    * The profit increase is 16 times greater than the model development budget. The development budget is 400,000.\n",
    "4. After exploratory data analysis, a profile of an \"unreliable\" client was created:\n",
    "    * The client books a room with full board or standard meals.\n",
    "    * Distribution channel - TA/TO.\n",
    "    * The client books a category G room.\n",
    "    * This is a Transient client.\n",
    "    * This is a new client."
   ]
  }
 ],
 "metadata": {
  "ExecuteTimeLog": [
   {
    "duration": 1632,
    "start_time": "2022-07-11T16:47:21.768Z"
   },
   {
    "duration": 3,
    "start_time": "2022-07-11T16:51:01.934Z"
   },
   {
    "duration": 496,
    "start_time": "2022-07-11T16:55:26.344Z"
   },
   {
    "duration": 59,
    "start_time": "2022-07-11T16:56:20.446Z"
   },
   {
    "duration": 68,
    "start_time": "2022-07-13T08:40:17.068Z"
   },
   {
    "duration": 1877,
    "start_time": "2022-07-13T08:40:28.256Z"
   },
   {
    "duration": 3,
    "start_time": "2022-07-13T08:40:30.136Z"
   },
   {
    "duration": 736,
    "start_time": "2022-07-13T08:40:30.140Z"
   },
   {
    "duration": 89,
    "start_time": "2022-07-13T08:40:30.878Z"
   },
   {
    "duration": 107,
    "start_time": "2022-07-13T08:40:30.969Z"
   },
   {
    "duration": 72,
    "start_time": "2022-07-13T08:45:06.375Z"
   },
   {
    "duration": 1638,
    "start_time": "2022-07-14T08:10:05.768Z"
   },
   {
    "duration": 3,
    "start_time": "2022-07-14T08:10:07.409Z"
   },
   {
    "duration": 551,
    "start_time": "2022-07-14T08:10:07.414Z"
   },
   {
    "duration": 60,
    "start_time": "2022-07-14T08:10:07.967Z"
   },
   {
    "duration": 105,
    "start_time": "2022-07-14T08:10:08.030Z"
   },
   {
    "duration": 69,
    "start_time": "2022-07-14T08:10:08.137Z"
   },
   {
    "duration": 24,
    "start_time": "2022-07-14T08:11:28.216Z"
   },
   {
    "duration": 15,
    "start_time": "2022-07-14T08:12:33.196Z"
   },
   {
    "duration": 14,
    "start_time": "2022-07-14T08:26:17.671Z"
   },
   {
    "duration": 18,
    "start_time": "2022-07-14T08:26:21.740Z"
   },
   {
    "duration": 17,
    "start_time": "2022-07-14T08:30:55.746Z"
   },
   {
    "duration": 20,
    "start_time": "2022-07-14T08:56:24.548Z"
   },
   {
    "duration": 16,
    "start_time": "2022-07-14T08:56:52.493Z"
   },
   {
    "duration": 23,
    "start_time": "2022-07-14T08:57:28.122Z"
   },
   {
    "duration": 19,
    "start_time": "2022-07-14T08:58:26.740Z"
   },
   {
    "duration": 22,
    "start_time": "2022-07-14T09:02:29.963Z"
   },
   {
    "duration": 15,
    "start_time": "2022-07-14T09:03:06.443Z"
   },
   {
    "duration": 104,
    "start_time": "2022-07-14T09:11:11.121Z"
   },
   {
    "duration": 31,
    "start_time": "2022-07-14T09:12:08.148Z"
   },
   {
    "duration": 9,
    "start_time": "2022-07-14T09:12:27.718Z"
   },
   {
    "duration": 10,
    "start_time": "2022-07-14T09:15:53.266Z"
   },
   {
    "duration": 59,
    "start_time": "2022-07-14T09:15:59.860Z"
   },
   {
    "duration": 90,
    "start_time": "2022-07-14T09:16:18.013Z"
   },
   {
    "duration": 8,
    "start_time": "2022-07-14T09:17:31.566Z"
   },
   {
    "duration": 8,
    "start_time": "2022-07-14T09:17:38.939Z"
   },
   {
    "duration": 12,
    "start_time": "2022-07-14T09:17:47.430Z"
   },
   {
    "duration": 13,
    "start_time": "2022-07-14T09:18:00.788Z"
   },
   {
    "duration": 12,
    "start_time": "2022-07-14T09:18:08.061Z"
   },
   {
    "duration": 14,
    "start_time": "2022-07-14T09:18:34.011Z"
   },
   {
    "duration": 15,
    "start_time": "2022-07-14T09:18:40.392Z"
   },
   {
    "duration": 11,
    "start_time": "2022-07-14T09:18:46.365Z"
   },
   {
    "duration": 14,
    "start_time": "2022-07-14T09:20:52.809Z"
   },
   {
    "duration": 13,
    "start_time": "2022-07-14T09:21:03.953Z"
   },
   {
    "duration": 31,
    "start_time": "2022-07-14T09:24:12.162Z"
   },
   {
    "duration": 24,
    "start_time": "2022-07-14T09:24:31.021Z"
   },
   {
    "duration": 19,
    "start_time": "2022-07-14T09:24:48.699Z"
   },
   {
    "duration": 25,
    "start_time": "2022-07-14T09:24:53.163Z"
   },
   {
    "duration": 53,
    "start_time": "2022-07-14T09:25:13.013Z"
   },
   {
    "duration": 17,
    "start_time": "2022-07-14T09:25:14.069Z"
   },
   {
    "duration": 1353,
    "start_time": "2022-07-14T09:25:49.521Z"
   },
   {
    "duration": 3,
    "start_time": "2022-07-14T09:25:50.876Z"
   },
   {
    "duration": 423,
    "start_time": "2022-07-14T09:25:50.881Z"
   },
   {
    "duration": 48,
    "start_time": "2022-07-14T09:25:51.305Z"
   },
   {
    "duration": 98,
    "start_time": "2022-07-14T09:25:51.355Z"
   },
   {
    "duration": 111,
    "start_time": "2022-07-14T09:25:51.454Z"
   },
   {
    "duration": 78,
    "start_time": "2022-07-14T09:25:51.567Z"
   },
   {
    "duration": 19,
    "start_time": "2022-07-14T09:25:51.648Z"
   },
   {
    "duration": 20,
    "start_time": "2022-07-14T09:25:51.669Z"
   },
   {
    "duration": 39,
    "start_time": "2022-07-14T09:25:51.692Z"
   },
   {
    "duration": 25,
    "start_time": "2022-07-14T09:25:51.733Z"
   },
   {
    "duration": 33,
    "start_time": "2022-07-14T09:25:51.760Z"
   },
   {
    "duration": 48,
    "start_time": "2022-07-14T09:25:51.795Z"
   },
   {
    "duration": 42,
    "start_time": "2022-07-14T09:25:51.847Z"
   },
   {
    "duration": 23,
    "start_time": "2022-07-14T09:25:51.891Z"
   },
   {
    "duration": 27,
    "start_time": "2022-07-14T09:25:51.916Z"
   },
   {
    "duration": 20,
    "start_time": "2022-07-14T09:25:51.945Z"
   },
   {
    "duration": 39,
    "start_time": "2022-07-14T09:26:54.251Z"
   },
   {
    "duration": 17,
    "start_time": "2022-07-14T09:27:02.193Z"
   },
   {
    "duration": 59,
    "start_time": "2022-07-14T09:29:28.138Z"
   },
   {
    "duration": 1573,
    "start_time": "2022-07-15T11:01:26.557Z"
   },
   {
    "duration": 3,
    "start_time": "2022-07-15T11:01:28.132Z"
   },
   {
    "duration": 950,
    "start_time": "2022-07-15T11:01:28.137Z"
   },
   {
    "duration": 39,
    "start_time": "2022-07-15T11:01:29.089Z"
   },
   {
    "duration": 94,
    "start_time": "2022-07-15T11:01:29.130Z"
   },
   {
    "duration": 102,
    "start_time": "2022-07-15T11:01:29.225Z"
   },
   {
    "duration": 78,
    "start_time": "2022-07-15T11:01:29.328Z"
   },
   {
    "duration": 13,
    "start_time": "2022-07-15T11:01:29.407Z"
   },
   {
    "duration": 24,
    "start_time": "2022-07-15T11:01:29.422Z"
   },
   {
    "duration": 16,
    "start_time": "2022-07-15T11:01:29.454Z"
   },
   {
    "duration": 15,
    "start_time": "2022-07-15T11:01:29.472Z"
   },
   {
    "duration": 63,
    "start_time": "2022-07-15T11:01:29.489Z"
   },
   {
    "duration": 20,
    "start_time": "2022-07-15T11:01:29.554Z"
   },
   {
    "duration": 16,
    "start_time": "2022-07-15T11:01:29.576Z"
   },
   {
    "duration": 16,
    "start_time": "2022-07-15T11:01:29.593Z"
   },
   {
    "duration": 54,
    "start_time": "2022-07-15T11:01:29.611Z"
   },
   {
    "duration": 15,
    "start_time": "2022-07-15T11:01:29.666Z"
   },
   {
    "duration": 1447,
    "start_time": "2022-07-15T11:02:35.812Z"
   },
   {
    "duration": 4,
    "start_time": "2022-07-15T11:02:37.261Z"
   },
   {
    "duration": 358,
    "start_time": "2022-07-15T11:02:37.267Z"
   },
   {
    "duration": 61,
    "start_time": "2022-07-15T11:02:37.628Z"
   },
   {
    "duration": 108,
    "start_time": "2022-07-15T11:02:37.691Z"
   },
   {
    "duration": 113,
    "start_time": "2022-07-15T11:02:37.801Z"
   },
   {
    "duration": 87,
    "start_time": "2022-07-15T11:02:37.916Z"
   },
   {
    "duration": 14,
    "start_time": "2022-07-15T11:02:38.004Z"
   },
   {
    "duration": 14,
    "start_time": "2022-07-15T11:02:38.021Z"
   },
   {
    "duration": 16,
    "start_time": "2022-07-15T11:02:38.054Z"
   },
   {
    "duration": 17,
    "start_time": "2022-07-15T11:02:38.072Z"
   },
   {
    "duration": 68,
    "start_time": "2022-07-15T11:02:38.091Z"
   },
   {
    "duration": 23,
    "start_time": "2022-07-15T11:02:38.161Z"
   },
   {
    "duration": 17,
    "start_time": "2022-07-15T11:02:38.186Z"
   },
   {
    "duration": 17,
    "start_time": "2022-07-15T11:02:38.204Z"
   },
   {
    "duration": 21,
    "start_time": "2022-07-15T11:02:38.253Z"
   },
   {
    "duration": 22,
    "start_time": "2022-07-15T11:02:38.276Z"
   },
   {
    "duration": 103,
    "start_time": "2022-07-15T12:36:55.343Z"
   },
   {
    "duration": 118,
    "start_time": "2022-07-15T12:37:02.801Z"
   },
   {
    "duration": 1749,
    "start_time": "2022-07-15T12:37:26.271Z"
   },
   {
    "duration": 1554,
    "start_time": "2022-07-15T12:37:34.796Z"
   },
   {
    "duration": 9,
    "start_time": "2022-07-15T12:37:43.950Z"
   },
   {
    "duration": 209,
    "start_time": "2022-07-15T12:43:16.243Z"
   },
   {
    "duration": 138,
    "start_time": "2022-07-15T12:44:54.617Z"
   },
   {
    "duration": 153,
    "start_time": "2022-07-15T12:53:55.932Z"
   },
   {
    "duration": 117,
    "start_time": "2022-07-15T12:54:03.926Z"
   },
   {
    "duration": 131,
    "start_time": "2022-07-15T12:54:12.183Z"
   },
   {
    "duration": 530,
    "start_time": "2022-07-15T12:54:22.305Z"
   },
   {
    "duration": 126,
    "start_time": "2022-07-15T12:54:37.879Z"
   },
   {
    "duration": 509,
    "start_time": "2022-07-15T12:56:14.537Z"
   },
   {
    "duration": 366,
    "start_time": "2022-07-15T12:56:20.939Z"
   },
   {
    "duration": 122,
    "start_time": "2022-07-15T12:56:27.590Z"
   },
   {
    "duration": 94,
    "start_time": "2022-07-15T12:57:53.110Z"
   },
   {
    "duration": 98,
    "start_time": "2022-07-15T12:59:16.038Z"
   },
   {
    "duration": 8,
    "start_time": "2022-07-15T13:00:18.269Z"
   },
   {
    "duration": 226,
    "start_time": "2022-07-15T13:15:49.278Z"
   },
   {
    "duration": 17,
    "start_time": "2022-07-15T13:30:33.670Z"
   },
   {
    "duration": 21,
    "start_time": "2022-07-15T13:31:00.139Z"
   },
   {
    "duration": 1605,
    "start_time": "2022-07-15T13:31:11.286Z"
   },
   {
    "duration": 4,
    "start_time": "2022-07-15T13:31:12.893Z"
   },
   {
    "duration": 350,
    "start_time": "2022-07-15T13:31:12.899Z"
   },
   {
    "duration": 58,
    "start_time": "2022-07-15T13:31:13.259Z"
   },
   {
    "duration": 114,
    "start_time": "2022-07-15T13:31:13.320Z"
   },
   {
    "duration": 131,
    "start_time": "2022-07-15T13:31:13.435Z"
   },
   {
    "duration": 83,
    "start_time": "2022-07-15T13:31:13.568Z"
   },
   {
    "duration": 128,
    "start_time": "2022-07-15T13:31:13.654Z"
   },
   {
    "duration": 61,
    "start_time": "2022-07-15T13:31:13.784Z"
   },
   {
    "duration": 19,
    "start_time": "2022-07-15T13:31:13.846Z"
   },
   {
    "duration": 31,
    "start_time": "2022-07-15T13:31:13.866Z"
   },
   {
    "duration": 18,
    "start_time": "2022-07-15T13:31:13.899Z"
   },
   {
    "duration": 14,
    "start_time": "2022-07-15T13:31:13.919Z"
   },
   {
    "duration": 64,
    "start_time": "2022-07-15T13:31:13.935Z"
   },
   {
    "duration": 18,
    "start_time": "2022-07-15T13:31:14.001Z"
   },
   {
    "duration": 53,
    "start_time": "2022-07-15T13:31:14.021Z"
   },
   {
    "duration": 24,
    "start_time": "2022-07-15T13:31:14.078Z"
   },
   {
    "duration": 15,
    "start_time": "2022-07-15T13:31:14.103Z"
   },
   {
    "duration": 17,
    "start_time": "2022-07-15T13:31:14.120Z"
   },
   {
    "duration": 38,
    "start_time": "2022-07-15T13:31:14.139Z"
   },
   {
    "duration": 110,
    "start_time": "2022-07-15T13:39:24.784Z"
   },
   {
    "duration": 193,
    "start_time": "2022-07-15T13:39:54.802Z"
   },
   {
    "duration": 137,
    "start_time": "2022-07-15T13:40:02.394Z"
   },
   {
    "duration": 179,
    "start_time": "2022-07-15T13:40:08.740Z"
   },
   {
    "duration": 180,
    "start_time": "2022-07-15T13:41:42.302Z"
   },
   {
    "duration": 226,
    "start_time": "2022-07-15T13:41:50.704Z"
   },
   {
    "duration": 144,
    "start_time": "2022-07-15T13:42:48.970Z"
   },
   {
    "duration": 181,
    "start_time": "2022-07-15T13:43:23.550Z"
   },
   {
    "duration": 135,
    "start_time": "2022-07-15T13:43:29.788Z"
   },
   {
    "duration": 134,
    "start_time": "2022-07-15T13:43:42.280Z"
   },
   {
    "duration": 130,
    "start_time": "2022-07-15T13:43:53.111Z"
   },
   {
    "duration": 7,
    "start_time": "2022-07-15T13:46:12.735Z"
   },
   {
    "duration": 8,
    "start_time": "2022-07-15T13:46:17.049Z"
   },
   {
    "duration": 6,
    "start_time": "2022-07-15T13:46:20.700Z"
   },
   {
    "duration": 7,
    "start_time": "2022-07-15T13:46:23.907Z"
   },
   {
    "duration": 6,
    "start_time": "2022-07-15T13:46:28.327Z"
   },
   {
    "duration": 9,
    "start_time": "2022-07-15T13:46:33.271Z"
   },
   {
    "duration": 10,
    "start_time": "2022-07-15T13:46:38.475Z"
   },
   {
    "duration": 6,
    "start_time": "2022-07-15T13:46:44.731Z"
   },
   {
    "duration": 168,
    "start_time": "2022-07-15T13:47:16.610Z"
   },
   {
    "duration": 50,
    "start_time": "2022-07-15T13:49:05.963Z"
   },
   {
    "duration": 98,
    "start_time": "2022-07-15T13:49:15.898Z"
   },
   {
    "duration": 1635,
    "start_time": "2022-07-15T13:53:16.062Z"
   },
   {
    "duration": 3,
    "start_time": "2022-07-15T13:53:17.698Z"
   },
   {
    "duration": 315,
    "start_time": "2022-07-15T13:53:17.703Z"
   },
   {
    "duration": 60,
    "start_time": "2022-07-15T13:53:18.020Z"
   },
   {
    "duration": 109,
    "start_time": "2022-07-15T13:53:18.084Z"
   },
   {
    "duration": 136,
    "start_time": "2022-07-15T13:53:18.194Z"
   },
   {
    "duration": 91,
    "start_time": "2022-07-15T13:53:18.333Z"
   },
   {
    "duration": 132,
    "start_time": "2022-07-15T13:53:18.426Z"
   },
   {
    "duration": 81,
    "start_time": "2022-07-15T13:53:18.564Z"
   },
   {
    "duration": 27,
    "start_time": "2022-07-15T13:53:18.657Z"
   },
   {
    "duration": 20,
    "start_time": "2022-07-15T13:53:18.688Z"
   },
   {
    "duration": 16,
    "start_time": "2022-07-15T13:53:18.710Z"
   },
   {
    "duration": 20,
    "start_time": "2022-07-15T13:53:18.728Z"
   },
   {
    "duration": 52,
    "start_time": "2022-07-15T13:53:18.751Z"
   },
   {
    "duration": 20,
    "start_time": "2022-07-15T13:53:18.804Z"
   },
   {
    "duration": 45,
    "start_time": "2022-07-15T13:53:18.826Z"
   },
   {
    "duration": 26,
    "start_time": "2022-07-15T13:53:18.877Z"
   },
   {
    "duration": 26,
    "start_time": "2022-07-15T13:53:18.905Z"
   },
   {
    "duration": 16,
    "start_time": "2022-07-15T13:53:18.933Z"
   },
   {
    "duration": 32,
    "start_time": "2022-07-15T13:53:18.953Z"
   },
   {
    "duration": 95,
    "start_time": "2022-07-15T13:53:18.990Z"
   },
   {
    "duration": 208,
    "start_time": "2022-07-15T13:53:19.087Z"
   },
   {
    "duration": 7,
    "start_time": "2022-07-15T13:53:19.297Z"
   },
   {
    "duration": 84,
    "start_time": "2022-07-15T13:53:19.305Z"
   },
   {
    "duration": 5,
    "start_time": "2022-07-15T13:54:21.038Z"
   },
   {
    "duration": 5,
    "start_time": "2022-07-15T13:56:07.644Z"
   },
   {
    "duration": 31,
    "start_time": "2022-07-15T13:56:08.932Z"
   },
   {
    "duration": 133,
    "start_time": "2022-07-15T13:59:50.478Z"
   },
   {
    "duration": 1402,
    "start_time": "2022-07-15T14:08:36.514Z"
   },
   {
    "duration": 3,
    "start_time": "2022-07-15T14:08:37.917Z"
   },
   {
    "duration": 302,
    "start_time": "2022-07-15T14:08:37.921Z"
   },
   {
    "duration": 58,
    "start_time": "2022-07-15T14:08:38.224Z"
   },
   {
    "duration": 109,
    "start_time": "2022-07-15T14:08:38.284Z"
   },
   {
    "duration": 103,
    "start_time": "2022-07-15T14:08:38.394Z"
   },
   {
    "duration": 73,
    "start_time": "2022-07-15T14:08:38.498Z"
   },
   {
    "duration": 103,
    "start_time": "2022-07-15T14:08:38.572Z"
   },
   {
    "duration": 56,
    "start_time": "2022-07-15T14:08:38.677Z"
   },
   {
    "duration": 28,
    "start_time": "2022-07-15T14:08:38.735Z"
   },
   {
    "duration": 28,
    "start_time": "2022-07-15T14:08:38.764Z"
   },
   {
    "duration": 33,
    "start_time": "2022-07-15T14:08:38.793Z"
   },
   {
    "duration": 32,
    "start_time": "2022-07-15T14:08:38.828Z"
   },
   {
    "duration": 55,
    "start_time": "2022-07-15T14:08:38.861Z"
   },
   {
    "duration": 29,
    "start_time": "2022-07-15T14:08:38.918Z"
   },
   {
    "duration": 33,
    "start_time": "2022-07-15T14:08:38.948Z"
   },
   {
    "duration": 42,
    "start_time": "2022-07-15T14:08:38.983Z"
   },
   {
    "duration": 17,
    "start_time": "2022-07-15T14:08:39.026Z"
   },
   {
    "duration": 34,
    "start_time": "2022-07-15T14:08:39.045Z"
   },
   {
    "duration": 37,
    "start_time": "2022-07-15T14:08:39.080Z"
   },
   {
    "duration": 164,
    "start_time": "2022-07-15T14:08:39.120Z"
   },
   {
    "duration": 5,
    "start_time": "2022-07-15T14:08:39.286Z"
   },
   {
    "duration": 38,
    "start_time": "2022-07-15T14:08:39.292Z"
   },
   {
    "duration": 127,
    "start_time": "2022-07-15T14:12:55.909Z"
   },
   {
    "duration": 1769,
    "start_time": "2022-07-15T14:49:41.363Z"
   },
   {
    "duration": 3,
    "start_time": "2022-07-15T14:49:43.135Z"
   },
   {
    "duration": 396,
    "start_time": "2022-07-15T14:49:43.140Z"
   },
   {
    "duration": 67,
    "start_time": "2022-07-15T14:49:43.539Z"
   },
   {
    "duration": 127,
    "start_time": "2022-07-15T14:49:43.609Z"
   },
   {
    "duration": 136,
    "start_time": "2022-07-15T14:49:43.738Z"
   },
   {
    "duration": 80,
    "start_time": "2022-07-15T14:49:43.876Z"
   },
   {
    "duration": 118,
    "start_time": "2022-07-15T14:49:43.958Z"
   },
   {
    "duration": 80,
    "start_time": "2022-07-15T14:49:44.078Z"
   },
   {
    "duration": 18,
    "start_time": "2022-07-15T14:49:44.160Z"
   },
   {
    "duration": 36,
    "start_time": "2022-07-15T14:49:44.195Z"
   },
   {
    "duration": 18,
    "start_time": "2022-07-15T14:49:44.233Z"
   },
   {
    "duration": 41,
    "start_time": "2022-07-15T14:49:44.252Z"
   },
   {
    "duration": 82,
    "start_time": "2022-07-15T14:49:44.296Z"
   },
   {
    "duration": 35,
    "start_time": "2022-07-15T14:49:44.380Z"
   },
   {
    "duration": 23,
    "start_time": "2022-07-15T14:49:44.418Z"
   },
   {
    "duration": 28,
    "start_time": "2022-07-15T14:49:44.443Z"
   },
   {
    "duration": 60,
    "start_time": "2022-07-15T14:49:44.473Z"
   },
   {
    "duration": 24,
    "start_time": "2022-07-15T14:49:44.534Z"
   },
   {
    "duration": 62,
    "start_time": "2022-07-15T14:49:44.563Z"
   },
   {
    "duration": 185,
    "start_time": "2022-07-15T14:49:44.628Z"
   },
   {
    "duration": 7,
    "start_time": "2022-07-15T14:49:44.816Z"
   },
   {
    "duration": 61,
    "start_time": "2022-07-15T14:49:44.825Z"
   },
   {
    "duration": 199,
    "start_time": "2022-07-15T14:49:44.888Z"
   },
   {
    "duration": 3,
    "start_time": "2022-07-15T15:30:35.101Z"
   },
   {
    "duration": 297,
    "start_time": "2022-07-15T15:30:36.788Z"
   },
   {
    "duration": 1544,
    "start_time": "2022-07-15T15:30:43.697Z"
   },
   {
    "duration": 2,
    "start_time": "2022-07-15T15:30:45.243Z"
   },
   {
    "duration": 346,
    "start_time": "2022-07-15T15:30:45.247Z"
   },
   {
    "duration": 3,
    "start_time": "2022-07-15T15:30:45.598Z"
   },
   {
    "duration": 43,
    "start_time": "2022-07-15T15:30:45.606Z"
   },
   {
    "duration": 110,
    "start_time": "2022-07-15T15:30:45.652Z"
   },
   {
    "duration": 98,
    "start_time": "2022-07-15T15:30:45.764Z"
   },
   {
    "duration": 75,
    "start_time": "2022-07-15T15:30:45.864Z"
   },
   {
    "duration": 134,
    "start_time": "2022-07-15T15:30:45.940Z"
   },
   {
    "duration": 93,
    "start_time": "2022-07-15T15:30:46.076Z"
   },
   {
    "duration": 19,
    "start_time": "2022-07-15T15:30:46.171Z"
   },
   {
    "duration": 51,
    "start_time": "2022-07-15T15:30:46.193Z"
   },
   {
    "duration": 77,
    "start_time": "2022-07-15T15:30:46.246Z"
   },
   {
    "duration": 26,
    "start_time": "2022-07-15T15:30:46.327Z"
   },
   {
    "duration": 89,
    "start_time": "2022-07-15T15:30:46.358Z"
   },
   {
    "duration": 29,
    "start_time": "2022-07-15T15:30:46.449Z"
   },
   {
    "duration": 45,
    "start_time": "2022-07-15T15:30:46.480Z"
   },
   {
    "duration": 40,
    "start_time": "2022-07-15T15:30:46.527Z"
   },
   {
    "duration": 51,
    "start_time": "2022-07-15T15:30:46.570Z"
   },
   {
    "duration": 15,
    "start_time": "2022-07-15T15:30:46.622Z"
   },
   {
    "duration": 35,
    "start_time": "2022-07-15T15:30:46.639Z"
   },
   {
    "duration": 146,
    "start_time": "2022-07-15T15:30:46.679Z"
   },
   {
    "duration": 5,
    "start_time": "2022-07-15T15:30:46.827Z"
   },
   {
    "duration": 52,
    "start_time": "2022-07-15T15:30:46.833Z"
   },
   {
    "duration": 183,
    "start_time": "2022-07-15T15:30:46.886Z"
   },
   {
    "duration": 189,
    "start_time": "2022-07-15T15:30:47.072Z"
   },
   {
    "duration": 4,
    "start_time": "2022-07-15T16:22:29.098Z"
   },
   {
    "duration": 6,
    "start_time": "2022-07-15T16:23:57.282Z"
   },
   {
    "duration": 5,
    "start_time": "2022-07-15T16:24:51.171Z"
   },
   {
    "duration": 39,
    "start_time": "2022-07-15T16:31:18.987Z"
   },
   {
    "duration": 5,
    "start_time": "2022-07-15T16:32:37.045Z"
   },
   {
    "duration": 1401,
    "start_time": "2022-07-15T16:35:41.867Z"
   },
   {
    "duration": 2,
    "start_time": "2022-07-15T16:35:43.270Z"
   },
   {
    "duration": 279,
    "start_time": "2022-07-15T16:35:43.274Z"
   },
   {
    "duration": 7,
    "start_time": "2022-07-15T16:35:43.555Z"
   },
   {
    "duration": 44,
    "start_time": "2022-07-15T16:35:43.564Z"
   },
   {
    "duration": 93,
    "start_time": "2022-07-15T16:35:43.610Z"
   },
   {
    "duration": 99,
    "start_time": "2022-07-15T16:35:43.704Z"
   },
   {
    "duration": 78,
    "start_time": "2022-07-15T16:35:43.805Z"
   },
   {
    "duration": 93,
    "start_time": "2022-07-15T16:35:43.885Z"
   },
   {
    "duration": 51,
    "start_time": "2022-07-15T16:35:43.981Z"
   },
   {
    "duration": 33,
    "start_time": "2022-07-15T16:35:44.033Z"
   },
   {
    "duration": 12,
    "start_time": "2022-07-15T16:35:44.068Z"
   },
   {
    "duration": 12,
    "start_time": "2022-07-15T16:35:44.082Z"
   },
   {
    "duration": 12,
    "start_time": "2022-07-15T16:35:44.095Z"
   },
   {
    "duration": 62,
    "start_time": "2022-07-15T16:35:44.108Z"
   },
   {
    "duration": 17,
    "start_time": "2022-07-15T16:35:44.171Z"
   },
   {
    "duration": 14,
    "start_time": "2022-07-15T16:35:44.189Z"
   },
   {
    "duration": 11,
    "start_time": "2022-07-15T16:35:44.205Z"
   },
   {
    "duration": 35,
    "start_time": "2022-07-15T16:35:44.218Z"
   },
   {
    "duration": 16,
    "start_time": "2022-07-15T16:35:44.255Z"
   },
   {
    "duration": 6,
    "start_time": "2022-07-15T16:35:44.272Z"
   },
   {
    "duration": 76,
    "start_time": "2022-07-15T16:35:44.280Z"
   },
   {
    "duration": 7,
    "start_time": "2022-07-15T16:35:44.357Z"
   },
   {
    "duration": 56,
    "start_time": "2022-07-15T16:35:44.366Z"
   },
   {
    "duration": 56,
    "start_time": "2022-07-15T16:35:44.424Z"
   },
   {
    "duration": 150,
    "start_time": "2022-07-15T16:35:44.482Z"
   },
   {
    "duration": 4,
    "start_time": "2022-07-15T16:35:44.634Z"
   },
   {
    "duration": 36,
    "start_time": "2022-07-15T16:35:44.652Z"
   },
   {
    "duration": 188,
    "start_time": "2022-07-15T16:35:44.690Z"
   },
   {
    "duration": 118,
    "start_time": "2022-07-15T16:35:44.880Z"
   },
   {
    "duration": 43,
    "start_time": "2022-07-15T16:42:51.847Z"
   },
   {
    "duration": 7,
    "start_time": "2022-07-15T16:50:43.284Z"
   },
   {
    "duration": 5,
    "start_time": "2022-07-15T16:50:50.746Z"
   },
   {
    "duration": 9,
    "start_time": "2022-07-15T16:53:23.372Z"
   },
   {
    "duration": 5,
    "start_time": "2022-07-15T16:54:36.048Z"
   },
   {
    "duration": 2244,
    "start_time": "2022-07-15T16:55:31.264Z"
   },
   {
    "duration": 1291,
    "start_time": "2022-07-15T16:59:34.302Z"
   },
   {
    "duration": 3,
    "start_time": "2022-07-15T16:59:35.594Z"
   },
   {
    "duration": 274,
    "start_time": "2022-07-15T16:59:35.599Z"
   },
   {
    "duration": 2,
    "start_time": "2022-07-15T16:59:35.876Z"
   },
   {
    "duration": 42,
    "start_time": "2022-07-15T16:59:35.880Z"
   },
   {
    "duration": 113,
    "start_time": "2022-07-15T16:59:35.924Z"
   },
   {
    "duration": 129,
    "start_time": "2022-07-15T16:59:36.039Z"
   },
   {
    "duration": 67,
    "start_time": "2022-07-15T16:59:36.170Z"
   },
   {
    "duration": 92,
    "start_time": "2022-07-15T16:59:36.238Z"
   },
   {
    "duration": 69,
    "start_time": "2022-07-15T16:59:36.332Z"
   },
   {
    "duration": 11,
    "start_time": "2022-07-15T16:59:36.403Z"
   },
   {
    "duration": 15,
    "start_time": "2022-07-15T16:59:36.415Z"
   },
   {
    "duration": 27,
    "start_time": "2022-07-15T16:59:36.432Z"
   },
   {
    "duration": 16,
    "start_time": "2022-07-15T16:59:36.461Z"
   },
   {
    "duration": 51,
    "start_time": "2022-07-15T16:59:36.479Z"
   },
   {
    "duration": 23,
    "start_time": "2022-07-15T16:59:36.551Z"
   },
   {
    "duration": 14,
    "start_time": "2022-07-15T16:59:36.576Z"
   },
   {
    "duration": 14,
    "start_time": "2022-07-15T16:59:36.592Z"
   },
   {
    "duration": 12,
    "start_time": "2022-07-15T16:59:36.608Z"
   },
   {
    "duration": 13,
    "start_time": "2022-07-15T16:59:36.652Z"
   },
   {
    "duration": 6,
    "start_time": "2022-07-15T16:59:36.666Z"
   },
   {
    "duration": 78,
    "start_time": "2022-07-15T16:59:36.674Z"
   },
   {
    "duration": 6,
    "start_time": "2022-07-15T16:59:36.754Z"
   },
   {
    "duration": 46,
    "start_time": "2022-07-15T16:59:36.761Z"
   },
   {
    "duration": 8,
    "start_time": "2022-07-15T16:59:36.809Z"
   },
   {
    "duration": 5,
    "start_time": "2022-07-15T16:59:36.818Z"
   },
   {
    "duration": 1509,
    "start_time": "2022-07-15T16:59:36.824Z"
   },
   {
    "duration": 38,
    "start_time": "2022-07-15T16:59:38.336Z"
   },
   {
    "duration": 121,
    "start_time": "2022-07-15T16:59:38.375Z"
   },
   {
    "duration": 5,
    "start_time": "2022-07-15T16:59:38.498Z"
   },
   {
    "duration": 34,
    "start_time": "2022-07-15T16:59:38.505Z"
   },
   {
    "duration": 189,
    "start_time": "2022-07-15T16:59:38.551Z"
   },
   {
    "duration": 134,
    "start_time": "2022-07-15T16:59:38.742Z"
   },
   {
    "duration": 25,
    "start_time": "2022-07-15T17:10:21.196Z"
   },
   {
    "duration": 1689,
    "start_time": "2022-07-15T17:10:33.570Z"
   },
   {
    "duration": 4,
    "start_time": "2022-07-15T17:10:35.261Z"
   },
   {
    "duration": 392,
    "start_time": "2022-07-15T17:10:35.267Z"
   },
   {
    "duration": 4,
    "start_time": "2022-07-15T17:10:35.661Z"
   },
   {
    "duration": 90,
    "start_time": "2022-07-15T17:10:35.668Z"
   },
   {
    "duration": 128,
    "start_time": "2022-07-15T17:10:35.760Z"
   },
   {
    "duration": 106,
    "start_time": "2022-07-15T17:10:35.890Z"
   },
   {
    "duration": 118,
    "start_time": "2022-07-15T17:10:35.999Z"
   },
   {
    "duration": 132,
    "start_time": "2022-07-15T17:10:36.120Z"
   },
   {
    "duration": 62,
    "start_time": "2022-07-15T17:10:36.256Z"
   },
   {
    "duration": 13,
    "start_time": "2022-07-15T17:10:36.319Z"
   },
   {
    "duration": 15,
    "start_time": "2022-07-15T17:10:36.352Z"
   },
   {
    "duration": 24,
    "start_time": "2022-07-15T17:10:36.369Z"
   },
   {
    "duration": 20,
    "start_time": "2022-07-15T17:10:36.395Z"
   },
   {
    "duration": 80,
    "start_time": "2022-07-15T17:10:36.418Z"
   },
   {
    "duration": 20,
    "start_time": "2022-07-15T17:10:36.499Z"
   },
   {
    "duration": 37,
    "start_time": "2022-07-15T17:10:36.520Z"
   },
   {
    "duration": 23,
    "start_time": "2022-07-15T17:10:36.558Z"
   },
   {
    "duration": 24,
    "start_time": "2022-07-15T17:10:36.591Z"
   },
   {
    "duration": 47,
    "start_time": "2022-07-15T17:10:36.617Z"
   },
   {
    "duration": 7,
    "start_time": "2022-07-15T17:10:36.666Z"
   },
   {
    "duration": 55,
    "start_time": "2022-07-15T17:10:36.675Z"
   },
   {
    "duration": 26,
    "start_time": "2022-07-15T17:10:36.732Z"
   },
   {
    "duration": 48,
    "start_time": "2022-07-15T17:10:36.760Z"
   },
   {
    "duration": 42,
    "start_time": "2022-07-15T17:10:36.810Z"
   },
   {
    "duration": 5,
    "start_time": "2022-07-15T17:10:36.854Z"
   },
   {
    "duration": 1848,
    "start_time": "2022-07-15T17:10:36.861Z"
   },
   {
    "duration": 100,
    "start_time": "2022-07-15T17:10:38.714Z"
   },
   {
    "duration": 169,
    "start_time": "2022-07-15T17:10:38.816Z"
   },
   {
    "duration": 7,
    "start_time": "2022-07-15T17:10:38.986Z"
   },
   {
    "duration": 27,
    "start_time": "2022-07-15T17:10:38.995Z"
   },
   {
    "duration": 137,
    "start_time": "2022-07-15T17:10:39.024Z"
   },
   {
    "duration": 139,
    "start_time": "2022-07-15T17:10:39.163Z"
   },
   {
    "duration": 55,
    "start_time": "2022-07-15T17:15:47.668Z"
   },
   {
    "duration": 35,
    "start_time": "2022-07-15T17:16:00.932Z"
   },
   {
    "duration": 1583,
    "start_time": "2022-07-15T20:01:19.822Z"
   },
   {
    "duration": 1456,
    "start_time": "2022-07-15T20:03:33.634Z"
   },
   {
    "duration": 3,
    "start_time": "2022-07-15T20:03:35.092Z"
   },
   {
    "duration": 709,
    "start_time": "2022-07-15T20:03:35.097Z"
   },
   {
    "duration": 4,
    "start_time": "2022-07-15T20:03:35.807Z"
   },
   {
    "duration": 60,
    "start_time": "2022-07-15T20:03:35.814Z"
   },
   {
    "duration": 87,
    "start_time": "2022-07-15T20:03:35.876Z"
   },
   {
    "duration": 95,
    "start_time": "2022-07-15T20:03:35.965Z"
   },
   {
    "duration": 82,
    "start_time": "2022-07-15T20:03:36.062Z"
   },
   {
    "duration": 90,
    "start_time": "2022-07-15T20:03:36.146Z"
   },
   {
    "duration": 53,
    "start_time": "2022-07-15T20:03:36.238Z"
   },
   {
    "duration": 33,
    "start_time": "2022-07-15T20:03:36.293Z"
   },
   {
    "duration": 16,
    "start_time": "2022-07-15T20:03:36.328Z"
   },
   {
    "duration": 23,
    "start_time": "2022-07-15T20:03:36.346Z"
   },
   {
    "duration": 18,
    "start_time": "2022-07-15T20:03:36.373Z"
   },
   {
    "duration": 59,
    "start_time": "2022-07-15T20:03:36.393Z"
   },
   {
    "duration": 26,
    "start_time": "2022-07-15T20:03:36.454Z"
   },
   {
    "duration": 17,
    "start_time": "2022-07-15T20:03:36.481Z"
   },
   {
    "duration": 44,
    "start_time": "2022-07-15T20:03:36.500Z"
   },
   {
    "duration": 22,
    "start_time": "2022-07-15T20:03:36.546Z"
   },
   {
    "duration": 29,
    "start_time": "2022-07-15T20:03:36.570Z"
   },
   {
    "duration": 26,
    "start_time": "2022-07-15T20:03:36.601Z"
   },
   {
    "duration": 50,
    "start_time": "2022-07-15T20:03:36.629Z"
   },
   {
    "duration": 6,
    "start_time": "2022-07-15T20:03:36.681Z"
   },
   {
    "duration": 90,
    "start_time": "2022-07-15T20:03:36.688Z"
   },
   {
    "duration": 9,
    "start_time": "2022-07-15T20:03:36.780Z"
   },
   {
    "duration": 17,
    "start_time": "2022-07-15T20:03:36.791Z"
   },
   {
    "duration": 1595,
    "start_time": "2022-07-15T20:03:36.810Z"
   },
   {
    "duration": 72,
    "start_time": "2022-07-15T20:03:38.407Z"
   },
   {
    "duration": 133,
    "start_time": "2022-07-15T20:03:38.481Z"
   },
   {
    "duration": 10,
    "start_time": "2022-07-15T20:03:38.616Z"
   },
   {
    "duration": 27,
    "start_time": "2022-07-15T20:03:38.628Z"
   },
   {
    "duration": 5,
    "start_time": "2022-07-15T20:03:38.657Z"
   },
   {
    "duration": 6,
    "start_time": "2022-07-15T20:03:38.663Z"
   },
   {
    "duration": 131,
    "start_time": "2022-07-15T20:03:38.670Z"
   },
   {
    "duration": 0,
    "start_time": "2022-07-15T20:03:38.803Z"
   },
   {
    "duration": 178,
    "start_time": "2022-07-15T20:06:45.976Z"
   },
   {
    "duration": 11,
    "start_time": "2022-07-15T20:11:51.660Z"
   },
   {
    "duration": 10,
    "start_time": "2022-07-15T20:12:27.500Z"
   },
   {
    "duration": 11,
    "start_time": "2022-07-15T20:14:59.057Z"
   },
   {
    "duration": 228,
    "start_time": "2022-07-15T20:15:09.714Z"
   },
   {
    "duration": 11,
    "start_time": "2022-07-15T20:15:12.246Z"
   },
   {
    "duration": 6,
    "start_time": "2022-07-15T20:15:18.834Z"
   },
   {
    "duration": 9,
    "start_time": "2022-07-15T20:39:20.378Z"
   },
   {
    "duration": 23,
    "start_time": "2022-07-15T20:40:42.113Z"
   },
   {
    "duration": 1389,
    "start_time": "2022-07-15T20:42:16.849Z"
   },
   {
    "duration": 4,
    "start_time": "2022-07-15T20:42:18.240Z"
   },
   {
    "duration": 259,
    "start_time": "2022-07-15T20:42:18.245Z"
   },
   {
    "duration": 3,
    "start_time": "2022-07-15T20:42:18.506Z"
   },
   {
    "duration": 49,
    "start_time": "2022-07-15T20:42:18.511Z"
   },
   {
    "duration": 97,
    "start_time": "2022-07-15T20:42:18.562Z"
   },
   {
    "duration": 89,
    "start_time": "2022-07-15T20:42:18.661Z"
   },
   {
    "duration": 73,
    "start_time": "2022-07-15T20:42:18.752Z"
   },
   {
    "duration": 78,
    "start_time": "2022-07-15T20:42:18.826Z"
   },
   {
    "duration": 59,
    "start_time": "2022-07-15T20:42:18.905Z"
   },
   {
    "duration": 12,
    "start_time": "2022-07-15T20:42:18.966Z"
   },
   {
    "duration": 14,
    "start_time": "2022-07-15T20:42:18.979Z"
   },
   {
    "duration": 36,
    "start_time": "2022-07-15T20:42:18.994Z"
   },
   {
    "duration": 15,
    "start_time": "2022-07-15T20:42:19.033Z"
   },
   {
    "duration": 36,
    "start_time": "2022-07-15T20:42:19.050Z"
   },
   {
    "duration": 44,
    "start_time": "2022-07-15T20:42:19.087Z"
   },
   {
    "duration": 16,
    "start_time": "2022-07-15T20:42:19.133Z"
   },
   {
    "duration": 16,
    "start_time": "2022-07-15T20:42:19.151Z"
   },
   {
    "duration": 16,
    "start_time": "2022-07-15T20:42:19.169Z"
   },
   {
    "duration": 49,
    "start_time": "2022-07-15T20:42:19.187Z"
   },
   {
    "duration": 11,
    "start_time": "2022-07-15T20:42:19.238Z"
   },
   {
    "duration": 49,
    "start_time": "2022-07-15T20:42:19.251Z"
   },
   {
    "duration": 6,
    "start_time": "2022-07-15T20:42:19.323Z"
   },
   {
    "duration": 47,
    "start_time": "2022-07-15T20:42:19.330Z"
   },
   {
    "duration": 9,
    "start_time": "2022-07-15T20:42:19.378Z"
   },
   {
    "duration": 3,
    "start_time": "2022-07-15T20:42:19.388Z"
   },
   {
    "duration": 1431,
    "start_time": "2022-07-15T20:42:19.393Z"
   },
   {
    "duration": 63,
    "start_time": "2022-07-15T20:42:20.826Z"
   },
   {
    "duration": 120,
    "start_time": "2022-07-15T20:42:20.890Z"
   },
   {
    "duration": 12,
    "start_time": "2022-07-15T20:42:21.012Z"
   },
   {
    "duration": 27,
    "start_time": "2022-07-15T20:42:21.025Z"
   },
   {
    "duration": 116,
    "start_time": "2022-07-15T20:42:21.054Z"
   },
   {
    "duration": 0,
    "start_time": "2022-07-15T20:42:21.172Z"
   },
   {
    "duration": 0,
    "start_time": "2022-07-15T20:42:21.174Z"
   },
   {
    "duration": 0,
    "start_time": "2022-07-15T20:42:21.175Z"
   },
   {
    "duration": 0,
    "start_time": "2022-07-15T20:42:21.176Z"
   },
   {
    "duration": 0,
    "start_time": "2022-07-15T20:42:21.177Z"
   },
   {
    "duration": 27,
    "start_time": "2022-07-15T20:46:41.719Z"
   },
   {
    "duration": 14,
    "start_time": "2022-07-15T20:49:43.618Z"
   },
   {
    "duration": 30,
    "start_time": "2022-07-15T20:50:02.484Z"
   },
   {
    "duration": 5,
    "start_time": "2022-07-15T20:52:58.433Z"
   },
   {
    "duration": 5,
    "start_time": "2022-07-15T20:53:07.053Z"
   },
   {
    "duration": 5,
    "start_time": "2022-07-15T20:53:21.627Z"
   },
   {
    "duration": 5,
    "start_time": "2022-07-15T20:53:33.410Z"
   },
   {
    "duration": 4,
    "start_time": "2022-07-15T20:53:51.629Z"
   },
   {
    "duration": 215,
    "start_time": "2022-07-15T20:55:01.877Z"
   },
   {
    "duration": 5,
    "start_time": "2022-07-15T20:57:54.020Z"
   },
   {
    "duration": 16,
    "start_time": "2022-07-15T20:58:25.820Z"
   },
   {
    "duration": 26,
    "start_time": "2022-07-15T20:59:11.988Z"
   },
   {
    "duration": 222,
    "start_time": "2022-07-15T21:10:38.270Z"
   },
   {
    "duration": 22,
    "start_time": "2022-07-15T21:15:51.147Z"
   },
   {
    "duration": 271,
    "start_time": "2022-07-15T21:17:25.769Z"
   },
   {
    "duration": 131,
    "start_time": "2022-07-15T21:18:11.113Z"
   },
   {
    "duration": 147,
    "start_time": "2022-07-15T21:18:43.314Z"
   },
   {
    "duration": 5,
    "start_time": "2022-07-15T21:18:44.722Z"
   },
   {
    "duration": 141,
    "start_time": "2022-07-15T21:19:39.389Z"
   },
   {
    "duration": 4,
    "start_time": "2022-07-15T21:19:40.669Z"
   },
   {
    "duration": 5,
    "start_time": "2022-07-15T21:20:18.870Z"
   },
   {
    "duration": 28,
    "start_time": "2022-07-15T21:22:25.004Z"
   },
   {
    "duration": 20,
    "start_time": "2022-07-15T21:22:27.204Z"
   },
   {
    "duration": 28,
    "start_time": "2022-07-15T21:22:29.297Z"
   },
   {
    "duration": 15,
    "start_time": "2022-07-15T21:22:30.268Z"
   },
   {
    "duration": 1316,
    "start_time": "2022-07-15T21:23:17.337Z"
   },
   {
    "duration": 2,
    "start_time": "2022-07-15T21:23:18.655Z"
   },
   {
    "duration": 264,
    "start_time": "2022-07-15T21:23:18.659Z"
   },
   {
    "duration": 3,
    "start_time": "2022-07-15T21:23:18.926Z"
   },
   {
    "duration": 55,
    "start_time": "2022-07-15T21:23:18.930Z"
   },
   {
    "duration": 100,
    "start_time": "2022-07-15T21:23:18.987Z"
   },
   {
    "duration": 86,
    "start_time": "2022-07-15T21:23:19.089Z"
   },
   {
    "duration": 75,
    "start_time": "2022-07-15T21:23:19.177Z"
   },
   {
    "duration": 92,
    "start_time": "2022-07-15T21:23:19.254Z"
   },
   {
    "duration": 50,
    "start_time": "2022-07-15T21:23:19.349Z"
   },
   {
    "duration": 28,
    "start_time": "2022-07-15T21:23:19.401Z"
   },
   {
    "duration": 15,
    "start_time": "2022-07-15T21:23:19.431Z"
   },
   {
    "duration": 18,
    "start_time": "2022-07-15T21:23:19.448Z"
   },
   {
    "duration": 17,
    "start_time": "2022-07-15T21:23:19.468Z"
   },
   {
    "duration": 56,
    "start_time": "2022-07-15T21:23:19.487Z"
   },
   {
    "duration": 17,
    "start_time": "2022-07-15T21:23:19.544Z"
   },
   {
    "duration": 15,
    "start_time": "2022-07-15T21:23:19.562Z"
   },
   {
    "duration": 13,
    "start_time": "2022-07-15T21:23:19.579Z"
   },
   {
    "duration": 38,
    "start_time": "2022-07-15T21:23:19.594Z"
   },
   {
    "duration": 46,
    "start_time": "2022-07-15T21:23:19.634Z"
   },
   {
    "duration": 42,
    "start_time": "2022-07-15T21:23:19.682Z"
   },
   {
    "duration": 15,
    "start_time": "2022-07-15T21:23:19.725Z"
   },
   {
    "duration": 7,
    "start_time": "2022-07-15T21:23:19.742Z"
   },
   {
    "duration": 78,
    "start_time": "2022-07-15T21:23:19.751Z"
   },
   {
    "duration": 6,
    "start_time": "2022-07-15T21:23:19.831Z"
   },
   {
    "duration": 48,
    "start_time": "2022-07-15T21:23:19.838Z"
   },
   {
    "duration": 9,
    "start_time": "2022-07-15T21:23:19.887Z"
   },
   {
    "duration": 4,
    "start_time": "2022-07-15T21:23:19.925Z"
   },
   {
    "duration": 1431,
    "start_time": "2022-07-15T21:23:19.930Z"
   },
   {
    "duration": 76,
    "start_time": "2022-07-15T21:23:21.362Z"
   },
   {
    "duration": 115,
    "start_time": "2022-07-15T21:23:21.440Z"
   },
   {
    "duration": 6,
    "start_time": "2022-07-15T21:23:21.557Z"
   },
   {
    "duration": 31,
    "start_time": "2022-07-15T21:23:21.564Z"
   },
   {
    "duration": 37,
    "start_time": "2022-07-15T21:23:21.597Z"
   },
   {
    "duration": 229,
    "start_time": "2022-07-15T21:23:21.636Z"
   },
   {
    "duration": 4,
    "start_time": "2022-07-15T21:23:21.867Z"
   },
   {
    "duration": 46,
    "start_time": "2022-07-15T21:23:21.872Z"
   },
   {
    "duration": 0,
    "start_time": "2022-07-15T21:23:21.920Z"
   },
   {
    "duration": 0,
    "start_time": "2022-07-15T21:23:21.924Z"
   },
   {
    "duration": 149,
    "start_time": "2022-07-15T21:23:26.914Z"
   },
   {
    "duration": 7,
    "start_time": "2022-07-15T21:23:28.163Z"
   },
   {
    "duration": 5,
    "start_time": "2022-07-15T21:23:29.659Z"
   },
   {
    "duration": 4,
    "start_time": "2022-07-15T21:23:57.829Z"
   },
   {
    "duration": 105,
    "start_time": "2022-07-15T21:25:58.976Z"
   },
   {
    "duration": 14,
    "start_time": "2022-07-15T21:26:20.227Z"
   },
   {
    "duration": 16,
    "start_time": "2022-07-15T21:26:33.158Z"
   },
   {
    "duration": 8,
    "start_time": "2022-07-15T21:26:35.913Z"
   },
   {
    "duration": 14,
    "start_time": "2022-07-15T21:26:44.376Z"
   },
   {
    "duration": 14,
    "start_time": "2022-07-15T21:27:20.084Z"
   },
   {
    "duration": 9,
    "start_time": "2022-07-15T21:27:24.094Z"
   },
   {
    "duration": 10,
    "start_time": "2022-07-15T21:27:32.926Z"
   },
   {
    "duration": 10,
    "start_time": "2022-07-15T21:27:45.313Z"
   },
   {
    "duration": 9,
    "start_time": "2022-07-15T21:34:22.913Z"
   },
   {
    "duration": 571,
    "start_time": "2022-07-15T21:34:28.972Z"
   },
   {
    "duration": 121,
    "start_time": "2022-07-15T21:34:31.188Z"
   },
   {
    "duration": 990,
    "start_time": "2022-07-15T21:36:14.390Z"
   },
   {
    "duration": 132,
    "start_time": "2022-07-15T21:52:35.990Z"
   },
   {
    "duration": 86,
    "start_time": "2022-07-15T21:52:37.547Z"
   },
   {
    "duration": 10,
    "start_time": "2022-07-15T21:52:50.377Z"
   },
   {
    "duration": 9,
    "start_time": "2022-07-15T21:52:52.161Z"
   },
   {
    "duration": 57,
    "start_time": "2022-07-15T21:56:13.251Z"
   },
   {
    "duration": 50,
    "start_time": "2022-07-15T21:57:15.669Z"
   },
   {
    "duration": 1446,
    "start_time": "2022-07-15T22:00:33.404Z"
   },
   {
    "duration": 3,
    "start_time": "2022-07-15T22:00:34.852Z"
   },
   {
    "duration": 282,
    "start_time": "2022-07-15T22:00:34.856Z"
   },
   {
    "duration": 3,
    "start_time": "2022-07-15T22:00:35.140Z"
   },
   {
    "duration": 53,
    "start_time": "2022-07-15T22:00:35.145Z"
   },
   {
    "duration": 62,
    "start_time": "2022-07-15T22:00:35.200Z"
   },
   {
    "duration": 103,
    "start_time": "2022-07-15T22:00:35.264Z"
   },
   {
    "duration": 96,
    "start_time": "2022-07-15T22:00:35.368Z"
   },
   {
    "duration": 69,
    "start_time": "2022-07-15T22:00:35.465Z"
   },
   {
    "duration": 94,
    "start_time": "2022-07-15T22:00:35.536Z"
   },
   {
    "duration": 51,
    "start_time": "2022-07-15T22:00:35.632Z"
   },
   {
    "duration": 12,
    "start_time": "2022-07-15T22:00:35.684Z"
   },
   {
    "duration": 35,
    "start_time": "2022-07-15T22:00:35.697Z"
   },
   {
    "duration": 15,
    "start_time": "2022-07-15T22:00:35.735Z"
   },
   {
    "duration": 24,
    "start_time": "2022-07-15T22:00:35.752Z"
   },
   {
    "duration": 68,
    "start_time": "2022-07-15T22:00:35.778Z"
   },
   {
    "duration": 19,
    "start_time": "2022-07-15T22:00:35.848Z"
   },
   {
    "duration": 21,
    "start_time": "2022-07-15T22:00:35.868Z"
   },
   {
    "duration": 36,
    "start_time": "2022-07-15T22:00:35.891Z"
   },
   {
    "duration": 22,
    "start_time": "2022-07-15T22:00:35.929Z"
   },
   {
    "duration": 35,
    "start_time": "2022-07-15T22:00:35.953Z"
   },
   {
    "duration": 16,
    "start_time": "2022-07-15T22:00:35.990Z"
   },
   {
    "duration": 29,
    "start_time": "2022-07-15T22:00:36.007Z"
   },
   {
    "duration": 8,
    "start_time": "2022-07-15T22:00:36.037Z"
   },
   {
    "duration": 47,
    "start_time": "2022-07-15T22:00:36.047Z"
   },
   {
    "duration": 7,
    "start_time": "2022-07-15T22:00:36.125Z"
   },
   {
    "duration": 58,
    "start_time": "2022-07-15T22:00:36.134Z"
   },
   {
    "duration": 30,
    "start_time": "2022-07-15T22:00:36.194Z"
   },
   {
    "duration": 4,
    "start_time": "2022-07-15T22:00:36.226Z"
   },
   {
    "duration": 1549,
    "start_time": "2022-07-15T22:00:36.232Z"
   },
   {
    "duration": 83,
    "start_time": "2022-07-15T22:00:37.782Z"
   },
   {
    "duration": 127,
    "start_time": "2022-07-15T22:00:37.866Z"
   },
   {
    "duration": 7,
    "start_time": "2022-07-15T22:00:37.995Z"
   },
   {
    "duration": 46,
    "start_time": "2022-07-15T22:00:38.003Z"
   },
   {
    "duration": 904,
    "start_time": "2022-07-15T22:00:38.051Z"
   },
   {
    "duration": 0,
    "start_time": "2022-07-15T22:00:38.957Z"
   },
   {
    "duration": 0,
    "start_time": "2022-07-15T22:00:38.958Z"
   },
   {
    "duration": 0,
    "start_time": "2022-07-15T22:00:38.960Z"
   },
   {
    "duration": 0,
    "start_time": "2022-07-15T22:00:38.961Z"
   },
   {
    "duration": 0,
    "start_time": "2022-07-15T22:00:38.963Z"
   },
   {
    "duration": 18,
    "start_time": "2022-07-15T22:02:00.949Z"
   },
   {
    "duration": 55,
    "start_time": "2022-07-15T22:02:03.834Z"
   },
   {
    "duration": 1355,
    "start_time": "2022-07-15T22:02:08.287Z"
   },
   {
    "duration": 2,
    "start_time": "2022-07-15T22:02:09.644Z"
   },
   {
    "duration": 265,
    "start_time": "2022-07-15T22:02:09.648Z"
   },
   {
    "duration": 3,
    "start_time": "2022-07-15T22:02:09.914Z"
   },
   {
    "duration": 51,
    "start_time": "2022-07-15T22:02:09.923Z"
   },
   {
    "duration": 17,
    "start_time": "2022-07-15T22:02:09.976Z"
   },
   {
    "duration": 41,
    "start_time": "2022-07-15T22:02:09.995Z"
   },
   {
    "duration": 71,
    "start_time": "2022-07-15T22:02:10.037Z"
   },
   {
    "duration": 80,
    "start_time": "2022-07-15T22:02:10.110Z"
   },
   {
    "duration": 47,
    "start_time": "2022-07-15T22:02:10.193Z"
   },
   {
    "duration": 33,
    "start_time": "2022-07-15T22:02:10.242Z"
   },
   {
    "duration": 17,
    "start_time": "2022-07-15T22:02:10.277Z"
   },
   {
    "duration": 36,
    "start_time": "2022-07-15T22:02:10.296Z"
   },
   {
    "duration": 12,
    "start_time": "2022-07-15T22:02:10.337Z"
   },
   {
    "duration": 10,
    "start_time": "2022-07-15T22:02:10.351Z"
   },
   {
    "duration": 23,
    "start_time": "2022-07-15T22:02:10.363Z"
   },
   {
    "duration": 19,
    "start_time": "2022-07-15T22:02:10.388Z"
   },
   {
    "duration": 20,
    "start_time": "2022-07-15T22:02:10.409Z"
   },
   {
    "duration": 10,
    "start_time": "2022-07-15T22:02:10.431Z"
   },
   {
    "duration": 9,
    "start_time": "2022-07-15T22:02:10.444Z"
   },
   {
    "duration": 4,
    "start_time": "2022-07-15T22:02:10.454Z"
   },
   {
    "duration": 13,
    "start_time": "2022-07-15T22:02:10.460Z"
   },
   {
    "duration": 8,
    "start_time": "2022-07-15T22:02:10.475Z"
   },
   {
    "duration": 7,
    "start_time": "2022-07-15T22:02:10.524Z"
   },
   {
    "duration": 55,
    "start_time": "2022-07-15T22:02:10.533Z"
   },
   {
    "duration": 36,
    "start_time": "2022-07-15T22:02:10.590Z"
   },
   {
    "duration": 55,
    "start_time": "2022-07-15T22:02:10.628Z"
   },
   {
    "duration": 6,
    "start_time": "2022-07-15T22:02:10.684Z"
   },
   {
    "duration": 32,
    "start_time": "2022-07-15T22:02:10.692Z"
   },
   {
    "duration": 64,
    "start_time": "2022-07-15T22:02:10.726Z"
   },
   {
    "duration": 38,
    "start_time": "2022-07-15T22:02:10.792Z"
   },
   {
    "duration": 125,
    "start_time": "2022-07-15T22:02:10.832Z"
   },
   {
    "duration": 5,
    "start_time": "2022-07-15T22:02:10.959Z"
   },
   {
    "duration": 21,
    "start_time": "2022-07-15T22:02:10.966Z"
   },
   {
    "duration": 8,
    "start_time": "2022-07-15T22:02:10.989Z"
   },
   {
    "duration": 63,
    "start_time": "2022-07-15T22:02:10.999Z"
   },
   {
    "duration": 141,
    "start_time": "2022-07-15T22:02:11.064Z"
   },
   {
    "duration": 0,
    "start_time": "2022-07-15T22:02:11.207Z"
   },
   {
    "duration": 0,
    "start_time": "2022-07-15T22:02:11.209Z"
   },
   {
    "duration": 0,
    "start_time": "2022-07-15T22:02:11.210Z"
   },
   {
    "duration": 1391,
    "start_time": "2022-07-15T22:02:37.175Z"
   },
   {
    "duration": 3,
    "start_time": "2022-07-15T22:02:38.568Z"
   },
   {
    "duration": 330,
    "start_time": "2022-07-15T22:02:38.573Z"
   },
   {
    "duration": 3,
    "start_time": "2022-07-15T22:02:38.905Z"
   },
   {
    "duration": 59,
    "start_time": "2022-07-15T22:02:38.911Z"
   },
   {
    "duration": 17,
    "start_time": "2022-07-15T22:02:38.972Z"
   },
   {
    "duration": 42,
    "start_time": "2022-07-15T22:02:38.991Z"
   },
   {
    "duration": 58,
    "start_time": "2022-07-15T22:02:39.035Z"
   },
   {
    "duration": 77,
    "start_time": "2022-07-15T22:02:39.096Z"
   },
   {
    "duration": 24,
    "start_time": "2022-07-15T22:02:39.176Z"
   },
   {
    "duration": 40,
    "start_time": "2022-07-15T22:02:39.202Z"
   },
   {
    "duration": 12,
    "start_time": "2022-07-15T22:02:39.244Z"
   },
   {
    "duration": 15,
    "start_time": "2022-07-15T22:02:39.257Z"
   },
   {
    "duration": 13,
    "start_time": "2022-07-15T22:02:39.274Z"
   },
   {
    "duration": 38,
    "start_time": "2022-07-15T22:02:39.289Z"
   },
   {
    "duration": 7,
    "start_time": "2022-07-15T22:02:39.329Z"
   },
   {
    "duration": 11,
    "start_time": "2022-07-15T22:02:39.337Z"
   },
   {
    "duration": 10,
    "start_time": "2022-07-15T22:02:39.350Z"
   },
   {
    "duration": 12,
    "start_time": "2022-07-15T22:02:39.362Z"
   },
   {
    "duration": 12,
    "start_time": "2022-07-15T22:02:39.376Z"
   },
   {
    "duration": 35,
    "start_time": "2022-07-15T22:02:39.389Z"
   },
   {
    "duration": 14,
    "start_time": "2022-07-15T22:02:39.426Z"
   },
   {
    "duration": 14,
    "start_time": "2022-07-15T22:02:39.441Z"
   },
   {
    "duration": 7,
    "start_time": "2022-07-15T22:02:39.457Z"
   },
   {
    "duration": 70,
    "start_time": "2022-07-15T22:02:39.465Z"
   },
   {
    "duration": 6,
    "start_time": "2022-07-15T22:02:39.537Z"
   },
   {
    "duration": 48,
    "start_time": "2022-07-15T22:02:39.544Z"
   },
   {
    "duration": 31,
    "start_time": "2022-07-15T22:02:39.595Z"
   },
   {
    "duration": 4,
    "start_time": "2022-07-15T22:02:39.628Z"
   },
   {
    "duration": 65,
    "start_time": "2022-07-15T22:02:39.634Z"
   },
   {
    "duration": 51,
    "start_time": "2022-07-15T22:02:39.701Z"
   },
   {
    "duration": 114,
    "start_time": "2022-07-15T22:02:39.755Z"
   },
   {
    "duration": 5,
    "start_time": "2022-07-15T22:02:39.870Z"
   },
   {
    "duration": 17,
    "start_time": "2022-07-15T22:02:39.877Z"
   },
   {
    "duration": 9,
    "start_time": "2022-07-15T22:02:39.895Z"
   },
   {
    "duration": 57,
    "start_time": "2022-07-15T22:02:39.905Z"
   },
   {
    "duration": 73,
    "start_time": "2022-07-15T22:02:39.964Z"
   },
   {
    "duration": 6,
    "start_time": "2022-07-15T22:02:40.039Z"
   },
   {
    "duration": 11,
    "start_time": "2022-07-15T22:02:40.047Z"
   },
   {
    "duration": 12,
    "start_time": "2022-07-15T22:02:40.060Z"
   },
   {
    "duration": 88,
    "start_time": "2022-07-15T22:03:27.955Z"
   },
   {
    "duration": 1472,
    "start_time": "2022-07-15T22:04:13.819Z"
   },
   {
    "duration": 2,
    "start_time": "2022-07-15T22:04:15.293Z"
   },
   {
    "duration": 322,
    "start_time": "2022-07-15T22:04:15.297Z"
   },
   {
    "duration": 3,
    "start_time": "2022-07-15T22:04:15.624Z"
   },
   {
    "duration": 48,
    "start_time": "2022-07-15T22:04:15.629Z"
   },
   {
    "duration": 19,
    "start_time": "2022-07-15T22:04:15.678Z"
   },
   {
    "duration": 115,
    "start_time": "2022-07-15T22:04:15.698Z"
   },
   {
    "duration": 82,
    "start_time": "2022-07-15T22:04:15.824Z"
   },
   {
    "duration": 80,
    "start_time": "2022-07-15T22:04:15.908Z"
   },
   {
    "duration": 97,
    "start_time": "2022-07-15T22:04:15.991Z"
   },
   {
    "duration": 65,
    "start_time": "2022-07-15T22:04:16.090Z"
   },
   {
    "duration": 17,
    "start_time": "2022-07-15T22:04:16.157Z"
   },
   {
    "duration": 15,
    "start_time": "2022-07-15T22:04:16.176Z"
   },
   {
    "duration": 39,
    "start_time": "2022-07-15T22:04:16.193Z"
   },
   {
    "duration": 18,
    "start_time": "2022-07-15T22:04:16.234Z"
   },
   {
    "duration": 35,
    "start_time": "2022-07-15T22:04:16.254Z"
   },
   {
    "duration": 45,
    "start_time": "2022-07-15T22:04:16.291Z"
   },
   {
    "duration": 19,
    "start_time": "2022-07-15T22:04:16.339Z"
   },
   {
    "duration": 17,
    "start_time": "2022-07-15T22:04:16.360Z"
   },
   {
    "duration": 51,
    "start_time": "2022-07-15T22:04:16.380Z"
   },
   {
    "duration": 49,
    "start_time": "2022-07-15T22:04:16.433Z"
   },
   {
    "duration": 16,
    "start_time": "2022-07-15T22:04:16.484Z"
   },
   {
    "duration": 36,
    "start_time": "2022-07-15T22:04:16.502Z"
   },
   {
    "duration": 8,
    "start_time": "2022-07-15T22:04:16.540Z"
   },
   {
    "duration": 79,
    "start_time": "2022-07-15T22:04:16.550Z"
   },
   {
    "duration": 9,
    "start_time": "2022-07-15T22:04:16.631Z"
   },
   {
    "duration": 56,
    "start_time": "2022-07-15T22:04:16.642Z"
   },
   {
    "duration": 30,
    "start_time": "2022-07-15T22:04:16.702Z"
   },
   {
    "duration": 9,
    "start_time": "2022-07-15T22:04:16.734Z"
   },
   {
    "duration": 1500,
    "start_time": "2022-07-15T22:04:16.745Z"
   },
   {
    "duration": 85,
    "start_time": "2022-07-15T22:04:18.247Z"
   },
   {
    "duration": 126,
    "start_time": "2022-07-15T22:04:18.335Z"
   },
   {
    "duration": 6,
    "start_time": "2022-07-15T22:04:18.463Z"
   },
   {
    "duration": 37,
    "start_time": "2022-07-15T22:04:18.471Z"
   },
   {
    "duration": 15,
    "start_time": "2022-07-15T22:04:18.524Z"
   },
   {
    "duration": 233,
    "start_time": "2022-07-15T22:04:18.541Z"
   },
   {
    "duration": 863,
    "start_time": "2022-07-15T22:04:18.775Z"
   },
   {
    "duration": 134,
    "start_time": "2022-07-15T22:04:19.639Z"
   },
   {
    "duration": 8,
    "start_time": "2022-07-15T22:04:19.775Z"
   },
   {
    "duration": 9,
    "start_time": "2022-07-15T22:04:19.785Z"
   },
   {
    "duration": 17,
    "start_time": "2022-07-15T22:09:45.765Z"
   },
   {
    "duration": 23,
    "start_time": "2022-07-15T22:11:39.686Z"
   },
   {
    "duration": 5,
    "start_time": "2022-07-15T22:13:51.690Z"
   },
   {
    "duration": 4,
    "start_time": "2022-07-15T22:14:01.958Z"
   },
   {
    "duration": 4,
    "start_time": "2022-07-15T22:14:12.355Z"
   },
   {
    "duration": 4,
    "start_time": "2022-07-15T22:14:17.515Z"
   },
   {
    "duration": 5,
    "start_time": "2022-07-15T22:15:01.555Z"
   },
   {
    "duration": 4,
    "start_time": "2022-07-15T22:15:18.927Z"
   },
   {
    "duration": 5,
    "start_time": "2022-07-15T22:15:25.695Z"
   },
   {
    "duration": 1343,
    "start_time": "2022-07-15T22:19:44.513Z"
   },
   {
    "duration": 3,
    "start_time": "2022-07-15T22:19:45.858Z"
   },
   {
    "duration": 283,
    "start_time": "2022-07-15T22:19:45.863Z"
   },
   {
    "duration": 3,
    "start_time": "2022-07-15T22:19:46.148Z"
   },
   {
    "duration": 47,
    "start_time": "2022-07-15T22:19:46.153Z"
   },
   {
    "duration": 39,
    "start_time": "2022-07-15T22:19:46.202Z"
   },
   {
    "duration": 107,
    "start_time": "2022-07-15T22:19:46.243Z"
   },
   {
    "duration": 92,
    "start_time": "2022-07-15T22:19:46.352Z"
   },
   {
    "duration": 63,
    "start_time": "2022-07-15T22:19:46.446Z"
   },
   {
    "duration": 78,
    "start_time": "2022-07-15T22:19:46.524Z"
   },
   {
    "duration": 67,
    "start_time": "2022-07-15T22:19:46.604Z"
   },
   {
    "duration": 12,
    "start_time": "2022-07-15T22:19:46.673Z"
   },
   {
    "duration": 18,
    "start_time": "2022-07-15T22:19:46.687Z"
   },
   {
    "duration": 30,
    "start_time": "2022-07-15T22:19:46.706Z"
   },
   {
    "duration": 15,
    "start_time": "2022-07-15T22:19:46.738Z"
   },
   {
    "duration": 35,
    "start_time": "2022-07-15T22:19:46.754Z"
   },
   {
    "duration": 44,
    "start_time": "2022-07-15T22:19:46.791Z"
   },
   {
    "duration": 17,
    "start_time": "2022-07-15T22:19:46.837Z"
   },
   {
    "duration": 14,
    "start_time": "2022-07-15T22:19:46.856Z"
   },
   {
    "duration": 15,
    "start_time": "2022-07-15T22:19:46.871Z"
   },
   {
    "duration": 60,
    "start_time": "2022-07-15T22:19:46.888Z"
   },
   {
    "duration": 16,
    "start_time": "2022-07-15T22:19:46.949Z"
   },
   {
    "duration": 16,
    "start_time": "2022-07-15T22:19:46.966Z"
   },
   {
    "duration": 10,
    "start_time": "2022-07-15T22:19:46.984Z"
   },
   {
    "duration": 72,
    "start_time": "2022-07-15T22:19:46.996Z"
   },
   {
    "duration": 5,
    "start_time": "2022-07-15T22:19:47.070Z"
   },
   {
    "duration": 82,
    "start_time": "2022-07-15T22:19:47.077Z"
   },
   {
    "duration": 12,
    "start_time": "2022-07-15T22:19:47.163Z"
   },
   {
    "duration": 28,
    "start_time": "2022-07-15T22:19:47.177Z"
   },
   {
    "duration": 1503,
    "start_time": "2022-07-15T22:19:47.207Z"
   },
   {
    "duration": 77,
    "start_time": "2022-07-15T22:19:48.712Z"
   },
   {
    "duration": 129,
    "start_time": "2022-07-15T22:19:48.790Z"
   },
   {
    "duration": 6,
    "start_time": "2022-07-15T22:19:48.921Z"
   },
   {
    "duration": 30,
    "start_time": "2022-07-15T22:19:48.929Z"
   },
   {
    "duration": 15,
    "start_time": "2022-07-15T22:19:48.961Z"
   },
   {
    "duration": 266,
    "start_time": "2022-07-15T22:19:48.978Z"
   },
   {
    "duration": 861,
    "start_time": "2022-07-15T22:19:49.246Z"
   },
   {
    "duration": 19,
    "start_time": "2022-07-15T22:19:50.109Z"
   },
   {
    "duration": 135,
    "start_time": "2022-07-15T22:19:50.130Z"
   },
   {
    "duration": 9,
    "start_time": "2022-07-15T22:19:50.266Z"
   },
   {
    "duration": 19,
    "start_time": "2022-07-15T22:19:50.277Z"
   },
   {
    "duration": 1763,
    "start_time": "2022-07-16T08:47:48.783Z"
   },
   {
    "duration": 3,
    "start_time": "2022-07-16T08:47:50.549Z"
   },
   {
    "duration": 937,
    "start_time": "2022-07-16T08:47:50.554Z"
   },
   {
    "duration": 4,
    "start_time": "2022-07-16T08:47:51.493Z"
   },
   {
    "duration": 57,
    "start_time": "2022-07-16T08:47:51.499Z"
   },
   {
    "duration": 18,
    "start_time": "2022-07-16T08:47:51.558Z"
   },
   {
    "duration": 113,
    "start_time": "2022-07-16T08:47:51.577Z"
   },
   {
    "duration": 94,
    "start_time": "2022-07-16T08:47:51.692Z"
   },
   {
    "duration": 71,
    "start_time": "2022-07-16T08:47:51.803Z"
   },
   {
    "duration": 105,
    "start_time": "2022-07-16T08:47:51.878Z"
   },
   {
    "duration": 64,
    "start_time": "2022-07-16T08:47:51.984Z"
   },
   {
    "duration": 13,
    "start_time": "2022-07-16T08:47:52.051Z"
   },
   {
    "duration": 12,
    "start_time": "2022-07-16T08:47:52.066Z"
   },
   {
    "duration": 38,
    "start_time": "2022-07-16T08:47:52.080Z"
   },
   {
    "duration": 16,
    "start_time": "2022-07-16T08:47:52.120Z"
   },
   {
    "duration": 66,
    "start_time": "2022-07-16T08:47:52.138Z"
   },
   {
    "duration": 18,
    "start_time": "2022-07-16T08:47:52.206Z"
   },
   {
    "duration": 20,
    "start_time": "2022-07-16T08:47:52.226Z"
   },
   {
    "duration": 24,
    "start_time": "2022-07-16T08:47:52.248Z"
   },
   {
    "duration": 16,
    "start_time": "2022-07-16T08:47:52.303Z"
   },
   {
    "duration": 115,
    "start_time": "2022-07-16T08:47:52.322Z"
   },
   {
    "duration": 24,
    "start_time": "2022-07-16T08:47:52.439Z"
   },
   {
    "duration": 48,
    "start_time": "2022-07-16T08:47:52.465Z"
   },
   {
    "duration": 26,
    "start_time": "2022-07-16T08:47:52.515Z"
   },
   {
    "duration": 57,
    "start_time": "2022-07-16T08:47:52.543Z"
   },
   {
    "duration": 7,
    "start_time": "2022-07-16T08:47:52.604Z"
   },
   {
    "duration": 58,
    "start_time": "2022-07-16T08:47:52.613Z"
   },
   {
    "duration": 35,
    "start_time": "2022-07-16T08:47:52.676Z"
   },
   {
    "duration": 11,
    "start_time": "2022-07-16T08:47:52.713Z"
   },
   {
    "duration": 1661,
    "start_time": "2022-07-16T08:47:52.726Z"
   },
   {
    "duration": 79,
    "start_time": "2022-07-16T08:47:54.389Z"
   },
   {
    "duration": 157,
    "start_time": "2022-07-16T08:47:54.470Z"
   },
   {
    "duration": 7,
    "start_time": "2022-07-16T08:47:54.630Z"
   },
   {
    "duration": 33,
    "start_time": "2022-07-16T08:47:54.639Z"
   },
   {
    "duration": 39,
    "start_time": "2022-07-16T08:47:54.674Z"
   },
   {
    "duration": 246,
    "start_time": "2022-07-16T08:47:54.715Z"
   },
   {
    "duration": 932,
    "start_time": "2022-07-16T08:47:54.963Z"
   },
   {
    "duration": 135,
    "start_time": "2022-07-16T08:47:55.904Z"
   },
   {
    "duration": 9,
    "start_time": "2022-07-16T08:47:56.041Z"
   },
   {
    "duration": 16,
    "start_time": "2022-07-16T08:47:56.052Z"
   },
   {
    "duration": 126,
    "start_time": "2022-07-16T08:48:18.738Z"
   },
   {
    "duration": 13,
    "start_time": "2022-07-16T08:48:24.943Z"
   },
   {
    "duration": 1444,
    "start_time": "2022-07-16T08:48:46.431Z"
   },
   {
    "duration": 2,
    "start_time": "2022-07-16T08:48:47.877Z"
   },
   {
    "duration": 291,
    "start_time": "2022-07-16T08:48:47.881Z"
   },
   {
    "duration": 3,
    "start_time": "2022-07-16T08:48:48.174Z"
   },
   {
    "duration": 50,
    "start_time": "2022-07-16T08:48:48.179Z"
   },
   {
    "duration": 18,
    "start_time": "2022-07-16T08:48:48.230Z"
   },
   {
    "duration": 105,
    "start_time": "2022-07-16T08:48:48.250Z"
   },
   {
    "duration": 101,
    "start_time": "2022-07-16T08:48:48.356Z"
   },
   {
    "duration": 94,
    "start_time": "2022-07-16T08:48:48.458Z"
   },
   {
    "duration": 94,
    "start_time": "2022-07-16T08:48:48.554Z"
   },
   {
    "duration": 72,
    "start_time": "2022-07-16T08:48:48.650Z"
   },
   {
    "duration": 14,
    "start_time": "2022-07-16T08:48:48.724Z"
   },
   {
    "duration": 14,
    "start_time": "2022-07-16T08:48:48.740Z"
   },
   {
    "duration": 18,
    "start_time": "2022-07-16T08:48:48.758Z"
   },
   {
    "duration": 16,
    "start_time": "2022-07-16T08:48:48.805Z"
   },
   {
    "duration": 35,
    "start_time": "2022-07-16T08:48:48.823Z"
   },
   {
    "duration": 46,
    "start_time": "2022-07-16T08:48:48.861Z"
   },
   {
    "duration": 25,
    "start_time": "2022-07-16T08:48:48.909Z"
   },
   {
    "duration": 19,
    "start_time": "2022-07-16T08:48:48.936Z"
   },
   {
    "duration": 14,
    "start_time": "2022-07-16T08:48:48.957Z"
   },
   {
    "duration": 28,
    "start_time": "2022-07-16T08:48:49.005Z"
   },
   {
    "duration": 13,
    "start_time": "2022-07-16T08:48:49.035Z"
   },
   {
    "duration": 15,
    "start_time": "2022-07-16T08:48:49.050Z"
   },
   {
    "duration": 12,
    "start_time": "2022-07-16T08:48:49.066Z"
   },
   {
    "duration": 76,
    "start_time": "2022-07-16T08:48:49.080Z"
   },
   {
    "duration": 8,
    "start_time": "2022-07-16T08:48:49.158Z"
   },
   {
    "duration": 79,
    "start_time": "2022-07-16T08:48:49.167Z"
   },
   {
    "duration": 20,
    "start_time": "2022-07-16T08:48:49.247Z"
   },
   {
    "duration": 7,
    "start_time": "2022-07-16T08:48:49.270Z"
   },
   {
    "duration": 1748,
    "start_time": "2022-07-16T08:48:49.278Z"
   },
   {
    "duration": 5,
    "start_time": "2022-07-16T08:48:52.896Z"
   },
   {
    "duration": 8,
    "start_time": "2022-07-16T08:51:11.252Z"
   },
   {
    "duration": 41,
    "start_time": "2022-07-16T08:51:34.115Z"
   },
   {
    "duration": 38,
    "start_time": "2022-07-16T09:11:53.488Z"
   },
   {
    "duration": 78,
    "start_time": "2022-07-16T09:12:12.674Z"
   },
   {
    "duration": 1527,
    "start_time": "2022-07-16T09:15:00.277Z"
   },
   {
    "duration": 3,
    "start_time": "2022-07-16T09:15:01.806Z"
   },
   {
    "duration": 310,
    "start_time": "2022-07-16T09:15:01.811Z"
   },
   {
    "duration": 3,
    "start_time": "2022-07-16T09:15:02.123Z"
   },
   {
    "duration": 94,
    "start_time": "2022-07-16T09:15:02.129Z"
   },
   {
    "duration": 20,
    "start_time": "2022-07-16T09:15:02.226Z"
   },
   {
    "duration": 126,
    "start_time": "2022-07-16T09:15:02.248Z"
   },
   {
    "duration": 112,
    "start_time": "2022-07-16T09:15:02.376Z"
   },
   {
    "duration": 72,
    "start_time": "2022-07-16T09:15:02.490Z"
   },
   {
    "duration": 107,
    "start_time": "2022-07-16T09:15:02.565Z"
   },
   {
    "duration": 70,
    "start_time": "2022-07-16T09:15:02.674Z"
   },
   {
    "duration": 14,
    "start_time": "2022-07-16T09:15:02.746Z"
   },
   {
    "duration": 14,
    "start_time": "2022-07-16T09:15:02.762Z"
   },
   {
    "duration": 19,
    "start_time": "2022-07-16T09:15:02.804Z"
   },
   {
    "duration": 18,
    "start_time": "2022-07-16T09:15:02.825Z"
   },
   {
    "duration": 36,
    "start_time": "2022-07-16T09:15:02.844Z"
   },
   {
    "duration": 39,
    "start_time": "2022-07-16T09:15:02.882Z"
   },
   {
    "duration": 19,
    "start_time": "2022-07-16T09:15:02.923Z"
   },
   {
    "duration": 26,
    "start_time": "2022-07-16T09:15:02.943Z"
   },
   {
    "duration": 42,
    "start_time": "2022-07-16T09:15:02.971Z"
   },
   {
    "duration": 38,
    "start_time": "2022-07-16T09:15:03.016Z"
   },
   {
    "duration": 14,
    "start_time": "2022-07-16T09:15:03.056Z"
   },
   {
    "duration": 39,
    "start_time": "2022-07-16T09:15:03.072Z"
   },
   {
    "duration": 7,
    "start_time": "2022-07-16T09:15:03.113Z"
   },
   {
    "duration": 53,
    "start_time": "2022-07-16T09:15:03.122Z"
   },
   {
    "duration": 7,
    "start_time": "2022-07-16T09:15:03.203Z"
   },
   {
    "duration": 53,
    "start_time": "2022-07-16T09:15:03.212Z"
   },
   {
    "duration": 39,
    "start_time": "2022-07-16T09:15:03.266Z"
   },
   {
    "duration": 41,
    "start_time": "2022-07-16T09:15:03.307Z"
   },
   {
    "duration": 1656,
    "start_time": "2022-07-16T09:15:03.349Z"
   },
   {
    "duration": 42,
    "start_time": "2022-07-16T09:15:05.007Z"
   },
   {
    "duration": 30,
    "start_time": "2022-07-16T09:15:24.979Z"
   },
   {
    "duration": 70,
    "start_time": "2022-07-16T09:16:47.672Z"
   },
   {
    "duration": 152,
    "start_time": "2022-07-16T09:16:55.805Z"
   },
   {
    "duration": 7,
    "start_time": "2022-07-16T09:16:57.597Z"
   },
   {
    "duration": 28,
    "start_time": "2022-07-16T09:16:59.879Z"
   },
   {
    "duration": 16,
    "start_time": "2022-07-16T09:17:02.706Z"
   },
   {
    "duration": 225,
    "start_time": "2022-07-16T09:17:13.849Z"
   },
   {
    "duration": 991,
    "start_time": "2022-07-16T09:17:23.558Z"
   },
   {
    "duration": 11,
    "start_time": "2022-07-16T09:17:38.312Z"
   },
   {
    "duration": 26,
    "start_time": "2022-07-16T14:09:32.226Z"
   },
   {
    "duration": 27,
    "start_time": "2022-07-16T14:17:33.122Z"
   },
   {
    "duration": 11,
    "start_time": "2022-07-16T14:45:47.950Z"
   },
   {
    "duration": 20,
    "start_time": "2022-07-16T15:29:15.509Z"
   },
   {
    "duration": 4,
    "start_time": "2022-07-16T15:35:02.684Z"
   },
   {
    "duration": 112,
    "start_time": "2022-07-16T15:35:29.690Z"
   },
   {
    "duration": 5,
    "start_time": "2022-07-16T15:35:39.468Z"
   },
   {
    "duration": 6,
    "start_time": "2022-07-16T15:36:34.287Z"
   },
   {
    "duration": 7,
    "start_time": "2022-07-16T15:36:38.260Z"
   },
   {
    "duration": 5,
    "start_time": "2022-07-16T15:46:59.889Z"
   },
   {
    "duration": 5,
    "start_time": "2022-07-16T15:52:53.266Z"
   },
   {
    "duration": 19,
    "start_time": "2022-07-16T15:53:47.002Z"
   },
   {
    "duration": 6,
    "start_time": "2022-07-16T15:54:32.184Z"
   },
   {
    "duration": 6,
    "start_time": "2022-07-16T15:55:00.830Z"
   },
   {
    "duration": 7,
    "start_time": "2022-07-16T16:14:41.028Z"
   },
   {
    "duration": 31,
    "start_time": "2022-07-16T16:15:21.110Z"
   },
   {
    "duration": 41,
    "start_time": "2022-07-16T16:15:41.898Z"
   },
   {
    "duration": 9,
    "start_time": "2022-07-16T16:16:07.409Z"
   },
   {
    "duration": 1214,
    "start_time": "2022-07-16T16:16:09.128Z"
   },
   {
    "duration": 1225,
    "start_time": "2022-07-16T16:16:59.500Z"
   },
   {
    "duration": 48,
    "start_time": "2022-07-16T16:17:30.875Z"
   },
   {
    "duration": 6,
    "start_time": "2022-07-16T16:21:09.050Z"
   },
   {
    "duration": 1551,
    "start_time": "2022-07-16T16:21:55.820Z"
   },
   {
    "duration": 3,
    "start_time": "2022-07-16T16:21:57.374Z"
   },
   {
    "duration": 299,
    "start_time": "2022-07-16T16:21:57.378Z"
   },
   {
    "duration": 3,
    "start_time": "2022-07-16T16:21:57.679Z"
   },
   {
    "duration": 60,
    "start_time": "2022-07-16T16:21:57.685Z"
   },
   {
    "duration": 16,
    "start_time": "2022-07-16T16:21:57.746Z"
   },
   {
    "duration": 125,
    "start_time": "2022-07-16T16:21:57.764Z"
   },
   {
    "duration": 99,
    "start_time": "2022-07-16T16:21:57.891Z"
   },
   {
    "duration": 87,
    "start_time": "2022-07-16T16:21:57.992Z"
   },
   {
    "duration": 114,
    "start_time": "2022-07-16T16:21:58.081Z"
   },
   {
    "duration": 67,
    "start_time": "2022-07-16T16:21:58.197Z"
   },
   {
    "duration": 14,
    "start_time": "2022-07-16T16:21:58.266Z"
   },
   {
    "duration": 38,
    "start_time": "2022-07-16T16:21:58.282Z"
   },
   {
    "duration": 17,
    "start_time": "2022-07-16T16:21:58.324Z"
   },
   {
    "duration": 17,
    "start_time": "2022-07-16T16:21:58.343Z"
   },
   {
    "duration": 67,
    "start_time": "2022-07-16T16:21:58.361Z"
   },
   {
    "duration": 25,
    "start_time": "2022-07-16T16:21:58.429Z"
   },
   {
    "duration": 52,
    "start_time": "2022-07-16T16:21:58.457Z"
   },
   {
    "duration": 26,
    "start_time": "2022-07-16T16:21:58.511Z"
   },
   {
    "duration": 37,
    "start_time": "2022-07-16T16:21:58.540Z"
   },
   {
    "duration": 62,
    "start_time": "2022-07-16T16:21:58.579Z"
   },
   {
    "duration": 24,
    "start_time": "2022-07-16T16:21:58.644Z"
   },
   {
    "duration": 48,
    "start_time": "2022-07-16T16:21:58.670Z"
   },
   {
    "duration": 7,
    "start_time": "2022-07-16T16:21:58.720Z"
   },
   {
    "duration": 53,
    "start_time": "2022-07-16T16:21:58.728Z"
   },
   {
    "duration": 27,
    "start_time": "2022-07-16T16:21:58.783Z"
   },
   {
    "duration": 52,
    "start_time": "2022-07-16T16:21:58.820Z"
   },
   {
    "duration": 10,
    "start_time": "2022-07-16T16:21:58.874Z"
   },
   {
    "duration": 3,
    "start_time": "2022-07-16T16:21:58.886Z"
   },
   {
    "duration": 1761,
    "start_time": "2022-07-16T16:21:58.904Z"
   },
   {
    "duration": 57,
    "start_time": "2022-07-16T16:22:00.667Z"
   },
   {
    "duration": 91,
    "start_time": "2022-07-16T16:22:00.725Z"
   },
   {
    "duration": 137,
    "start_time": "2022-07-16T16:22:00.818Z"
   },
   {
    "duration": 6,
    "start_time": "2022-07-16T16:22:00.957Z"
   },
   {
    "duration": 55,
    "start_time": "2022-07-16T16:22:00.965Z"
   },
   {
    "duration": 16,
    "start_time": "2022-07-16T16:22:01.022Z"
   },
   {
    "duration": 274,
    "start_time": "2022-07-16T16:22:01.041Z"
   },
   {
    "duration": 1039,
    "start_time": "2022-07-16T16:22:01.319Z"
   },
   {
    "duration": 7,
    "start_time": "2022-07-16T16:22:02.360Z"
   },
   {
    "duration": 1131,
    "start_time": "2022-07-16T16:22:02.368Z"
   },
   {
    "duration": 41,
    "start_time": "2022-07-16T16:22:03.506Z"
   },
   {
    "duration": 104,
    "start_time": "2022-07-16T16:22:03.548Z"
   },
   {
    "duration": 128,
    "start_time": "2022-07-16T16:22:03.653Z"
   },
   {
    "duration": 10,
    "start_time": "2022-07-16T16:22:03.783Z"
   },
   {
    "duration": 34,
    "start_time": "2022-07-16T16:22:03.795Z"
   },
   {
    "duration": 5,
    "start_time": "2022-07-16T16:25:15.721Z"
   },
   {
    "duration": 6,
    "start_time": "2022-07-16T16:26:01.926Z"
   },
   {
    "duration": 62,
    "start_time": "2022-07-16T16:33:09.263Z"
   },
   {
    "duration": 6,
    "start_time": "2022-07-16T16:36:03.221Z"
   },
   {
    "duration": 1580,
    "start_time": "2022-07-16T16:37:19.921Z"
   },
   {
    "duration": 3,
    "start_time": "2022-07-16T16:37:21.504Z"
   },
   {
    "duration": 297,
    "start_time": "2022-07-16T16:37:21.508Z"
   },
   {
    "duration": 4,
    "start_time": "2022-07-16T16:37:21.808Z"
   },
   {
    "duration": 187,
    "start_time": "2022-07-16T16:37:21.813Z"
   },
   {
    "duration": 19,
    "start_time": "2022-07-16T16:37:22.002Z"
   },
   {
    "duration": 115,
    "start_time": "2022-07-16T16:37:22.023Z"
   },
   {
    "duration": 120,
    "start_time": "2022-07-16T16:37:22.141Z"
   },
   {
    "duration": 91,
    "start_time": "2022-07-16T16:37:22.263Z"
   },
   {
    "duration": 107,
    "start_time": "2022-07-16T16:37:22.358Z"
   },
   {
    "duration": 67,
    "start_time": "2022-07-16T16:37:22.468Z"
   },
   {
    "duration": 13,
    "start_time": "2022-07-16T16:37:22.537Z"
   },
   {
    "duration": 16,
    "start_time": "2022-07-16T16:37:22.553Z"
   },
   {
    "duration": 40,
    "start_time": "2022-07-16T16:37:22.571Z"
   },
   {
    "duration": 16,
    "start_time": "2022-07-16T16:37:22.613Z"
   },
   {
    "duration": 46,
    "start_time": "2022-07-16T16:37:22.631Z"
   },
   {
    "duration": 38,
    "start_time": "2022-07-16T16:37:22.679Z"
   },
   {
    "duration": 17,
    "start_time": "2022-07-16T16:37:22.720Z"
   },
   {
    "duration": 17,
    "start_time": "2022-07-16T16:37:22.739Z"
   },
   {
    "duration": 53,
    "start_time": "2022-07-16T16:37:22.758Z"
   },
   {
    "duration": 30,
    "start_time": "2022-07-16T16:37:22.813Z"
   },
   {
    "duration": 15,
    "start_time": "2022-07-16T16:37:22.845Z"
   },
   {
    "duration": 49,
    "start_time": "2022-07-16T16:37:22.862Z"
   },
   {
    "duration": 10,
    "start_time": "2022-07-16T16:37:22.913Z"
   },
   {
    "duration": 97,
    "start_time": "2022-07-16T16:37:22.925Z"
   },
   {
    "duration": 13,
    "start_time": "2022-07-16T16:37:23.024Z"
   },
   {
    "duration": 77,
    "start_time": "2022-07-16T16:37:23.039Z"
   },
   {
    "duration": 14,
    "start_time": "2022-07-16T16:37:23.120Z"
   },
   {
    "duration": 9,
    "start_time": "2022-07-16T16:37:23.135Z"
   },
   {
    "duration": 1747,
    "start_time": "2022-07-16T16:37:23.147Z"
   },
   {
    "duration": 46,
    "start_time": "2022-07-16T16:37:24.896Z"
   },
   {
    "duration": 118,
    "start_time": "2022-07-16T16:37:24.944Z"
   },
   {
    "duration": 143,
    "start_time": "2022-07-16T16:37:25.064Z"
   },
   {
    "duration": 6,
    "start_time": "2022-07-16T16:37:25.209Z"
   },
   {
    "duration": 49,
    "start_time": "2022-07-16T16:37:25.217Z"
   },
   {
    "duration": 37,
    "start_time": "2022-07-16T16:37:25.268Z"
   },
   {
    "duration": 319,
    "start_time": "2022-07-16T16:37:25.307Z"
   },
   {
    "duration": 1016,
    "start_time": "2022-07-16T16:37:25.628Z"
   },
   {
    "duration": 9,
    "start_time": "2022-07-16T16:37:26.647Z"
   },
   {
    "duration": 1179,
    "start_time": "2022-07-16T16:37:26.658Z"
   },
   {
    "duration": 94,
    "start_time": "2022-07-16T16:37:27.839Z"
   },
   {
    "duration": 7,
    "start_time": "2022-07-16T16:37:27.936Z"
   },
   {
    "duration": 152,
    "start_time": "2022-07-16T16:37:27.945Z"
   },
   {
    "duration": 18,
    "start_time": "2022-07-16T16:37:28.099Z"
   },
   {
    "duration": 23,
    "start_time": "2022-07-16T16:37:28.119Z"
   },
   {
    "duration": 1633,
    "start_time": "2022-07-16T16:39:57.883Z"
   },
   {
    "duration": 3,
    "start_time": "2022-07-16T16:39:59.522Z"
   },
   {
    "duration": 321,
    "start_time": "2022-07-16T16:39:59.526Z"
   },
   {
    "duration": 3,
    "start_time": "2022-07-16T16:39:59.849Z"
   },
   {
    "duration": 43,
    "start_time": "2022-07-16T16:39:59.854Z"
   },
   {
    "duration": 19,
    "start_time": "2022-07-16T16:39:59.899Z"
   },
   {
    "duration": 120,
    "start_time": "2022-07-16T16:39:59.921Z"
   },
   {
    "duration": 111,
    "start_time": "2022-07-16T16:40:00.043Z"
   },
   {
    "duration": 96,
    "start_time": "2022-07-16T16:40:00.156Z"
   },
   {
    "duration": 103,
    "start_time": "2022-07-16T16:40:00.254Z"
   },
   {
    "duration": 79,
    "start_time": "2022-07-16T16:40:00.359Z"
   },
   {
    "duration": 16,
    "start_time": "2022-07-16T16:40:00.440Z"
   },
   {
    "duration": 23,
    "start_time": "2022-07-16T16:40:00.458Z"
   },
   {
    "duration": 40,
    "start_time": "2022-07-16T16:40:00.484Z"
   },
   {
    "duration": 34,
    "start_time": "2022-07-16T16:40:00.525Z"
   },
   {
    "duration": 39,
    "start_time": "2022-07-16T16:40:00.561Z"
   },
   {
    "duration": 28,
    "start_time": "2022-07-16T16:40:00.602Z"
   },
   {
    "duration": 35,
    "start_time": "2022-07-16T16:40:00.632Z"
   },
   {
    "duration": 23,
    "start_time": "2022-07-16T16:40:00.668Z"
   },
   {
    "duration": 28,
    "start_time": "2022-07-16T16:40:00.693Z"
   },
   {
    "duration": 30,
    "start_time": "2022-07-16T16:40:00.723Z"
   },
   {
    "duration": 17,
    "start_time": "2022-07-16T16:40:00.756Z"
   },
   {
    "duration": 42,
    "start_time": "2022-07-16T16:40:00.775Z"
   },
   {
    "duration": 15,
    "start_time": "2022-07-16T16:40:00.820Z"
   },
   {
    "duration": 67,
    "start_time": "2022-07-16T16:40:00.837Z"
   },
   {
    "duration": 11,
    "start_time": "2022-07-16T16:40:00.906Z"
   },
   {
    "duration": 64,
    "start_time": "2022-07-16T16:40:00.918Z"
   },
   {
    "duration": 34,
    "start_time": "2022-07-16T16:40:00.984Z"
   },
   {
    "duration": 9,
    "start_time": "2022-07-16T16:40:01.021Z"
   },
   {
    "duration": 1717,
    "start_time": "2022-07-16T16:40:01.031Z"
   },
   {
    "duration": 55,
    "start_time": "2022-07-16T16:40:02.750Z"
   },
   {
    "duration": 74,
    "start_time": "2022-07-16T16:40:02.811Z"
   },
   {
    "duration": 149,
    "start_time": "2022-07-16T16:40:02.887Z"
   },
   {
    "duration": 4,
    "start_time": "2022-07-16T16:40:03.038Z"
   },
   {
    "duration": 36,
    "start_time": "2022-07-16T16:40:03.044Z"
   },
   {
    "duration": 35,
    "start_time": "2022-07-16T16:40:03.082Z"
   },
   {
    "duration": 261,
    "start_time": "2022-07-16T16:40:03.118Z"
   },
   {
    "duration": 1008,
    "start_time": "2022-07-16T16:40:03.381Z"
   },
   {
    "duration": 19,
    "start_time": "2022-07-16T16:40:04.391Z"
   },
   {
    "duration": 1179,
    "start_time": "2022-07-16T16:40:04.413Z"
   },
   {
    "duration": 71,
    "start_time": "2022-07-16T16:40:05.596Z"
   },
   {
    "duration": 32,
    "start_time": "2022-07-16T16:40:05.669Z"
   },
   {
    "duration": 179,
    "start_time": "2022-07-16T16:40:05.703Z"
   },
   {
    "duration": 34,
    "start_time": "2022-07-16T16:40:05.884Z"
   },
   {
    "duration": 42,
    "start_time": "2022-07-16T16:40:05.925Z"
   },
   {
    "duration": 2042,
    "start_time": "2022-07-16T20:20:14.650Z"
   },
   {
    "duration": 95,
    "start_time": "2022-07-16T20:20:52.435Z"
   },
   {
    "duration": 5,
    "start_time": "2022-07-16T20:21:26.469Z"
   },
   {
    "duration": 4,
    "start_time": "2022-07-16T20:21:32.442Z"
   },
   {
    "duration": 4,
    "start_time": "2022-07-16T20:22:01.638Z"
   },
   {
    "duration": 5,
    "start_time": "2022-07-16T20:23:04.603Z"
   },
   {
    "duration": 4,
    "start_time": "2022-07-16T20:23:13.593Z"
   },
   {
    "duration": 5,
    "start_time": "2022-07-16T20:23:24.989Z"
   },
   {
    "duration": 24,
    "start_time": "2022-07-16T20:24:29.308Z"
   },
   {
    "duration": 4,
    "start_time": "2022-07-16T20:26:20.804Z"
   },
   {
    "duration": 4,
    "start_time": "2022-07-16T20:32:20.642Z"
   },
   {
    "duration": 11,
    "start_time": "2022-07-16T20:32:33.218Z"
   },
   {
    "duration": 4,
    "start_time": "2022-07-16T20:32:47.722Z"
   },
   {
    "duration": 5,
    "start_time": "2022-07-16T20:33:13.216Z"
   },
   {
    "duration": 4,
    "start_time": "2022-07-16T20:33:27.716Z"
   },
   {
    "duration": 26,
    "start_time": "2022-07-16T20:34:38.086Z"
   },
   {
    "duration": 62,
    "start_time": "2022-07-16T20:35:01.652Z"
   },
   {
    "duration": 5,
    "start_time": "2022-07-16T20:35:27.003Z"
   },
   {
    "duration": 27,
    "start_time": "2022-07-16T20:36:56.520Z"
   },
   {
    "duration": 4,
    "start_time": "2022-07-16T20:37:04.314Z"
   },
   {
    "duration": 31,
    "start_time": "2022-07-16T20:37:16.378Z"
   },
   {
    "duration": 1485,
    "start_time": "2022-07-16T20:37:26.684Z"
   },
   {
    "duration": 3,
    "start_time": "2022-07-16T20:37:28.171Z"
   },
   {
    "duration": 311,
    "start_time": "2022-07-16T20:37:28.175Z"
   },
   {
    "duration": 15,
    "start_time": "2022-07-16T20:37:28.489Z"
   },
   {
    "duration": 47,
    "start_time": "2022-07-16T20:37:28.506Z"
   },
   {
    "duration": 19,
    "start_time": "2022-07-16T20:37:28.555Z"
   },
   {
    "duration": 139,
    "start_time": "2022-07-16T20:37:28.577Z"
   },
   {
    "duration": 123,
    "start_time": "2022-07-16T20:37:28.719Z"
   },
   {
    "duration": 97,
    "start_time": "2022-07-16T20:37:28.844Z"
   },
   {
    "duration": 101,
    "start_time": "2022-07-16T20:37:28.945Z"
   },
   {
    "duration": 71,
    "start_time": "2022-07-16T20:37:29.048Z"
   },
   {
    "duration": 14,
    "start_time": "2022-07-16T20:37:29.121Z"
   },
   {
    "duration": 18,
    "start_time": "2022-07-16T20:37:29.137Z"
   },
   {
    "duration": 21,
    "start_time": "2022-07-16T20:37:29.158Z"
   },
   {
    "duration": 39,
    "start_time": "2022-07-16T20:37:29.180Z"
   },
   {
    "duration": 68,
    "start_time": "2022-07-16T20:37:29.221Z"
   },
   {
    "duration": 54,
    "start_time": "2022-07-16T20:37:29.291Z"
   },
   {
    "duration": 29,
    "start_time": "2022-07-16T20:37:29.347Z"
   },
   {
    "duration": 24,
    "start_time": "2022-07-16T20:37:29.378Z"
   },
   {
    "duration": 31,
    "start_time": "2022-07-16T20:37:29.405Z"
   },
   {
    "duration": 40,
    "start_time": "2022-07-16T20:37:29.438Z"
   },
   {
    "duration": 14,
    "start_time": "2022-07-16T20:37:29.480Z"
   },
   {
    "duration": 36,
    "start_time": "2022-07-16T20:37:29.496Z"
   },
   {
    "duration": 17,
    "start_time": "2022-07-16T20:37:29.534Z"
   },
   {
    "duration": 67,
    "start_time": "2022-07-16T20:37:29.553Z"
   },
   {
    "duration": 7,
    "start_time": "2022-07-16T20:37:29.621Z"
   },
   {
    "duration": 74,
    "start_time": "2022-07-16T20:37:29.630Z"
   },
   {
    "duration": 10,
    "start_time": "2022-07-16T20:37:29.708Z"
   },
   {
    "duration": 4,
    "start_time": "2022-07-16T20:37:29.719Z"
   },
   {
    "duration": 1580,
    "start_time": "2022-07-16T20:37:29.725Z"
   },
   {
    "duration": 37,
    "start_time": "2022-07-16T20:37:31.307Z"
   },
   {
    "duration": 81,
    "start_time": "2022-07-16T20:37:31.345Z"
   },
   {
    "duration": 127,
    "start_time": "2022-07-16T20:37:31.428Z"
   },
   {
    "duration": 5,
    "start_time": "2022-07-16T20:37:31.557Z"
   },
   {
    "duration": 42,
    "start_time": "2022-07-16T20:37:31.564Z"
   },
   {
    "duration": 32,
    "start_time": "2022-07-16T20:37:31.608Z"
   },
   {
    "duration": 238,
    "start_time": "2022-07-16T20:37:31.643Z"
   },
   {
    "duration": 1023,
    "start_time": "2022-07-16T20:37:31.883Z"
   },
   {
    "duration": 5,
    "start_time": "2022-07-16T20:37:32.907Z"
   },
   {
    "duration": 1017,
    "start_time": "2022-07-16T20:37:32.914Z"
   },
   {
    "duration": 56,
    "start_time": "2022-07-16T20:37:33.932Z"
   },
   {
    "duration": 5,
    "start_time": "2022-07-16T20:37:34.003Z"
   },
   {
    "duration": 133290,
    "start_time": "2022-07-16T20:37:34.009Z"
   },
   {
    "duration": 12856,
    "start_time": "2022-07-16T20:39:47.301Z"
   },
   {
    "duration": 131,
    "start_time": "2022-07-16T20:40:00.159Z"
   },
   {
    "duration": 15,
    "start_time": "2022-07-16T20:40:00.292Z"
   },
   {
    "duration": 36,
    "start_time": "2022-07-16T20:40:00.309Z"
   },
   {
    "duration": 10,
    "start_time": "2022-07-16T20:40:00.347Z"
   },
   {
    "duration": 27,
    "start_time": "2022-07-16T20:40:00.358Z"
   },
   {
    "duration": 20,
    "start_time": "2022-07-16T20:40:00.386Z"
   },
   {
    "duration": 21,
    "start_time": "2022-07-16T20:40:00.409Z"
   },
   {
    "duration": 13,
    "start_time": "2022-07-16T20:40:00.433Z"
   },
   {
    "duration": 13,
    "start_time": "2022-07-16T20:40:00.448Z"
   },
   {
    "duration": 40,
    "start_time": "2022-07-16T20:40:00.463Z"
   },
   {
    "duration": 9,
    "start_time": "2022-07-16T20:40:00.505Z"
   },
   {
    "duration": 10,
    "start_time": "2022-07-16T20:40:00.516Z"
   },
   {
    "duration": 13,
    "start_time": "2022-07-16T20:40:00.528Z"
   },
   {
    "duration": 8,
    "start_time": "2022-07-16T20:40:00.542Z"
   },
   {
    "duration": 34,
    "start_time": "2022-07-16T20:40:00.552Z"
   },
   {
    "duration": 464706,
    "start_time": "2022-07-16T20:42:02.236Z"
   },
   {
    "duration": 1584,
    "start_time": "2022-07-17T13:35:18.213Z"
   },
   {
    "duration": 3,
    "start_time": "2022-07-17T13:35:19.799Z"
   },
   {
    "duration": 483,
    "start_time": "2022-07-17T13:35:19.803Z"
   },
   {
    "duration": 3,
    "start_time": "2022-07-17T13:35:20.287Z"
   },
   {
    "duration": 48,
    "start_time": "2022-07-17T13:35:20.291Z"
   },
   {
    "duration": 21,
    "start_time": "2022-07-17T13:35:20.340Z"
   },
   {
    "duration": 98,
    "start_time": "2022-07-17T13:35:20.363Z"
   },
   {
    "duration": 83,
    "start_time": "2022-07-17T13:35:20.463Z"
   },
   {
    "duration": 64,
    "start_time": "2022-07-17T13:35:20.548Z"
   },
   {
    "duration": 95,
    "start_time": "2022-07-17T13:35:20.615Z"
   },
   {
    "duration": 58,
    "start_time": "2022-07-17T13:35:20.712Z"
   },
   {
    "duration": 11,
    "start_time": "2022-07-17T13:35:20.772Z"
   },
   {
    "duration": 12,
    "start_time": "2022-07-17T13:35:20.785Z"
   },
   {
    "duration": 14,
    "start_time": "2022-07-17T13:35:20.798Z"
   },
   {
    "duration": 41,
    "start_time": "2022-07-17T13:35:20.813Z"
   },
   {
    "duration": 32,
    "start_time": "2022-07-17T13:35:20.856Z"
   },
   {
    "duration": 17,
    "start_time": "2022-07-17T13:35:20.889Z"
   },
   {
    "duration": 42,
    "start_time": "2022-07-17T13:35:20.907Z"
   },
   {
    "duration": 14,
    "start_time": "2022-07-17T13:35:20.951Z"
   },
   {
    "duration": 19,
    "start_time": "2022-07-17T13:35:20.967Z"
   },
   {
    "duration": 29,
    "start_time": "2022-07-17T13:35:20.988Z"
   },
   {
    "duration": 35,
    "start_time": "2022-07-17T13:35:21.018Z"
   },
   {
    "duration": 14,
    "start_time": "2022-07-17T13:35:21.054Z"
   },
   {
    "duration": 6,
    "start_time": "2022-07-17T13:35:21.069Z"
   },
   {
    "duration": 77,
    "start_time": "2022-07-17T13:35:21.076Z"
   },
   {
    "duration": 7,
    "start_time": "2022-07-17T13:35:21.154Z"
   },
   {
    "duration": 49,
    "start_time": "2022-07-17T13:35:21.163Z"
   },
   {
    "duration": 34,
    "start_time": "2022-07-17T13:35:21.216Z"
   },
   {
    "duration": 4,
    "start_time": "2022-07-17T13:35:21.252Z"
   },
   {
    "duration": 1477,
    "start_time": "2022-07-17T13:35:21.258Z"
   },
   {
    "duration": 43,
    "start_time": "2022-07-17T13:35:22.737Z"
   },
   {
    "duration": 66,
    "start_time": "2022-07-17T13:35:25.869Z"
   },
   {
    "duration": 108,
    "start_time": "2022-07-17T13:35:33.301Z"
   },
   {
    "duration": 4,
    "start_time": "2022-07-17T13:35:34.917Z"
   },
   {
    "duration": 24,
    "start_time": "2022-07-17T13:35:36.355Z"
   },
   {
    "duration": 34,
    "start_time": "2022-07-17T13:35:37.999Z"
   },
   {
    "duration": 223,
    "start_time": "2022-07-17T13:35:41.089Z"
   },
   {
    "duration": 306,
    "start_time": "2022-07-17T13:35:45.199Z"
   },
   {
    "duration": 5,
    "start_time": "2022-07-17T13:35:52.255Z"
   },
   {
    "duration": 930,
    "start_time": "2022-07-17T13:35:54.708Z"
   },
   {
    "duration": 54,
    "start_time": "2022-07-17T13:35:56.458Z"
   },
   {
    "duration": 6,
    "start_time": "2022-07-17T13:35:59.018Z"
   },
   {
    "duration": 149141,
    "start_time": "2022-07-17T13:36:09.021Z"
   },
   {
    "duration": 145,
    "start_time": "2022-07-17T13:38:51.956Z"
   },
   {
    "duration": 41695,
    "start_time": "2022-07-17T13:39:14.260Z"
   },
   {
    "duration": 6693,
    "start_time": "2022-07-17T13:40:21.765Z"
   },
   {
    "duration": 26358,
    "start_time": "2022-07-17T13:41:24.085Z"
   },
   {
    "duration": 24500,
    "start_time": "2022-07-17T13:44:55.983Z"
   },
   {
    "duration": 7473,
    "start_time": "2022-07-17T13:45:29.309Z"
   },
   {
    "duration": 26582,
    "start_time": "2022-07-17T13:49:23.750Z"
   },
   {
    "duration": 216,
    "start_time": "2022-07-17T13:50:03.265Z"
   },
   {
    "duration": 1801,
    "start_time": "2022-07-17T13:50:22.653Z"
   },
   {
    "duration": 16302,
    "start_time": "2022-07-17T13:50:30.688Z"
   },
   {
    "duration": 434206,
    "start_time": "2022-07-17T13:51:38.082Z"
   },
   {
    "duration": 56,
    "start_time": "2022-07-17T13:59:49.248Z"
   },
   {
    "duration": 16592,
    "start_time": "2022-07-17T14:00:06.570Z"
   },
   {
    "duration": 338471,
    "start_time": "2022-07-17T14:01:01.403Z"
   },
   {
    "duration": 9480,
    "start_time": "2022-07-17T14:06:39.876Z"
   },
   {
    "duration": 6650,
    "start_time": "2022-07-17T14:09:48.637Z"
   },
   {
    "duration": 2,
    "start_time": "2022-07-17T14:10:35.688Z"
   },
   {
    "duration": 1425,
    "start_time": "2022-07-17T14:10:50.961Z"
   },
   {
    "duration": 3,
    "start_time": "2022-07-17T14:10:52.387Z"
   },
   {
    "duration": 290,
    "start_time": "2022-07-17T14:10:52.391Z"
   },
   {
    "duration": 2,
    "start_time": "2022-07-17T14:10:52.684Z"
   },
   {
    "duration": 48,
    "start_time": "2022-07-17T14:10:52.688Z"
   },
   {
    "duration": 22,
    "start_time": "2022-07-17T14:10:52.746Z"
   },
   {
    "duration": 107,
    "start_time": "2022-07-17T14:10:52.770Z"
   },
   {
    "duration": 91,
    "start_time": "2022-07-17T14:10:52.878Z"
   },
   {
    "duration": 63,
    "start_time": "2022-07-17T14:10:52.971Z"
   },
   {
    "duration": 107,
    "start_time": "2022-07-17T14:10:53.045Z"
   },
   {
    "duration": 55,
    "start_time": "2022-07-17T14:10:53.154Z"
   },
   {
    "duration": 11,
    "start_time": "2022-07-17T14:10:53.211Z"
   },
   {
    "duration": 30,
    "start_time": "2022-07-17T14:10:53.223Z"
   },
   {
    "duration": 18,
    "start_time": "2022-07-17T14:10:53.255Z"
   },
   {
    "duration": 14,
    "start_time": "2022-07-17T14:10:53.274Z"
   },
   {
    "duration": 32,
    "start_time": "2022-07-17T14:10:53.290Z"
   },
   {
    "duration": 26,
    "start_time": "2022-07-17T14:10:53.346Z"
   },
   {
    "duration": 15,
    "start_time": "2022-07-17T14:10:53.374Z"
   },
   {
    "duration": 15,
    "start_time": "2022-07-17T14:10:53.391Z"
   },
   {
    "duration": 49,
    "start_time": "2022-07-17T14:10:53.408Z"
   },
   {
    "duration": 31,
    "start_time": "2022-07-17T14:10:53.459Z"
   },
   {
    "duration": 17,
    "start_time": "2022-07-17T14:10:53.491Z"
   },
   {
    "duration": 36,
    "start_time": "2022-07-17T14:10:53.510Z"
   },
   {
    "duration": 8,
    "start_time": "2022-07-17T14:10:53.549Z"
   },
   {
    "duration": 51,
    "start_time": "2022-07-17T14:10:53.559Z"
   },
   {
    "duration": 7,
    "start_time": "2022-07-17T14:10:53.612Z"
   },
   {
    "duration": 75,
    "start_time": "2022-07-17T14:10:53.621Z"
   },
   {
    "duration": 10,
    "start_time": "2022-07-17T14:10:53.699Z"
   },
   {
    "duration": 6,
    "start_time": "2022-07-17T14:10:53.710Z"
   },
   {
    "duration": 1598,
    "start_time": "2022-07-17T14:10:53.717Z"
   },
   {
    "duration": 46,
    "start_time": "2022-07-17T14:10:55.317Z"
   },
   {
    "duration": 2,
    "start_time": "2022-07-17T14:10:55.365Z"
   },
   {
    "duration": 87,
    "start_time": "2022-07-17T14:10:55.368Z"
   },
   {
    "duration": 125,
    "start_time": "2022-07-17T14:10:55.457Z"
   },
   {
    "duration": 5,
    "start_time": "2022-07-17T14:10:55.583Z"
   },
   {
    "duration": 27,
    "start_time": "2022-07-17T14:10:55.590Z"
   },
   {
    "duration": 50,
    "start_time": "2022-07-17T14:10:55.619Z"
   },
   {
    "duration": 238,
    "start_time": "2022-07-17T14:10:55.671Z"
   },
   {
    "duration": 934,
    "start_time": "2022-07-17T14:10:58.651Z"
   },
   {
    "duration": 5,
    "start_time": "2022-07-17T14:11:07.029Z"
   },
   {
    "duration": 1039,
    "start_time": "2022-07-17T14:11:08.389Z"
   },
   {
    "duration": 54,
    "start_time": "2022-07-17T14:11:10.206Z"
   },
   {
    "duration": 5,
    "start_time": "2022-07-17T14:11:13.241Z"
   },
   {
    "duration": 11300,
    "start_time": "2022-07-17T14:11:14.957Z"
   },
   {
    "duration": 12225,
    "start_time": "2022-07-17T14:11:26.259Z"
   },
   {
    "duration": 60791,
    "start_time": "2022-07-17T14:57:50.511Z"
   },
   {
    "duration": 12126,
    "start_time": "2022-07-17T14:59:07.263Z"
   },
   {
    "duration": 23362,
    "start_time": "2022-07-17T14:59:26.796Z"
   },
   {
    "duration": 12514,
    "start_time": "2022-07-17T15:00:03.658Z"
   },
   {
    "duration": 68785,
    "start_time": "2022-07-17T15:01:07.414Z"
   },
   {
    "duration": 7017,
    "start_time": "2022-07-17T15:02:51.100Z"
   },
   {
    "duration": 119,
    "start_time": "2022-07-17T15:12:35.027Z"
   },
   {
    "duration": 6756,
    "start_time": "2022-07-17T15:12:40.161Z"
   },
   {
    "duration": 228,
    "start_time": "2022-07-17T15:12:50.618Z"
   },
   {
    "duration": 10,
    "start_time": "2022-07-17T15:13:01.590Z"
   },
   {
    "duration": 12110,
    "start_time": "2022-07-17T15:13:03.121Z"
   },
   {
    "duration": 129,
    "start_time": "2022-07-17T15:13:37.418Z"
   },
   {
    "duration": 184,
    "start_time": "2022-07-17T15:21:30.842Z"
   },
   {
    "duration": 175,
    "start_time": "2022-07-17T15:21:32.771Z"
   },
   {
    "duration": 137,
    "start_time": "2022-07-17T15:32:18.214Z"
   },
   {
    "duration": 178,
    "start_time": "2022-07-17T15:32:29.369Z"
   },
   {
    "duration": 155,
    "start_time": "2022-07-17T15:34:27.093Z"
   },
   {
    "duration": 190,
    "start_time": "2022-07-17T15:34:45.467Z"
   },
   {
    "duration": 162,
    "start_time": "2022-07-17T15:36:49.100Z"
   },
   {
    "duration": 138,
    "start_time": "2022-07-17T15:37:11.213Z"
   },
   {
    "duration": 141,
    "start_time": "2022-07-17T15:37:12.762Z"
   },
   {
    "duration": 72,
    "start_time": "2022-07-17T15:49:24.723Z"
   },
   {
    "duration": 1161,
    "start_time": "2022-07-17T15:50:14.320Z"
   },
   {
    "duration": 4,
    "start_time": "2022-07-17T15:50:41.798Z"
   },
   {
    "duration": 48,
    "start_time": "2022-07-17T15:55:33.304Z"
   },
   {
    "duration": 1321,
    "start_time": "2022-07-17T15:57:00.358Z"
   },
   {
    "duration": 3,
    "start_time": "2022-07-17T15:57:01.680Z"
   },
   {
    "duration": 263,
    "start_time": "2022-07-17T15:57:01.685Z"
   },
   {
    "duration": 2,
    "start_time": "2022-07-17T15:57:01.950Z"
   },
   {
    "duration": 48,
    "start_time": "2022-07-17T15:57:01.954Z"
   },
   {
    "duration": 15,
    "start_time": "2022-07-17T15:57:02.003Z"
   },
   {
    "duration": 109,
    "start_time": "2022-07-17T15:57:02.020Z"
   },
   {
    "duration": 92,
    "start_time": "2022-07-17T15:57:02.131Z"
   },
   {
    "duration": 70,
    "start_time": "2022-07-17T15:57:02.224Z"
   },
   {
    "duration": 84,
    "start_time": "2022-07-17T15:57:02.297Z"
   },
   {
    "duration": 48,
    "start_time": "2022-07-17T15:57:02.383Z"
   },
   {
    "duration": 22,
    "start_time": "2022-07-17T15:57:02.433Z"
   },
   {
    "duration": 17,
    "start_time": "2022-07-17T15:57:02.456Z"
   },
   {
    "duration": 21,
    "start_time": "2022-07-17T15:57:02.475Z"
   },
   {
    "duration": 22,
    "start_time": "2022-07-17T15:57:02.497Z"
   },
   {
    "duration": 50,
    "start_time": "2022-07-17T15:57:02.521Z"
   },
   {
    "duration": 22,
    "start_time": "2022-07-17T15:57:02.573Z"
   },
   {
    "duration": 27,
    "start_time": "2022-07-17T15:57:02.597Z"
   },
   {
    "duration": 25,
    "start_time": "2022-07-17T15:57:02.626Z"
   },
   {
    "duration": 23,
    "start_time": "2022-07-17T15:57:02.653Z"
   },
   {
    "duration": 30,
    "start_time": "2022-07-17T15:57:02.677Z"
   },
   {
    "duration": 19,
    "start_time": "2022-07-17T15:57:02.709Z"
   },
   {
    "duration": 26,
    "start_time": "2022-07-17T15:57:02.729Z"
   },
   {
    "duration": 15,
    "start_time": "2022-07-17T15:57:02.757Z"
   },
   {
    "duration": 62,
    "start_time": "2022-07-17T15:57:02.774Z"
   },
   {
    "duration": 8,
    "start_time": "2022-07-17T15:57:02.838Z"
   },
   {
    "duration": 59,
    "start_time": "2022-07-17T15:57:02.847Z"
   },
   {
    "duration": 9,
    "start_time": "2022-07-17T15:57:02.909Z"
   },
   {
    "duration": 20,
    "start_time": "2022-07-17T15:57:02.919Z"
   },
   {
    "duration": 1474,
    "start_time": "2022-07-17T15:57:02.940Z"
   },
   {
    "duration": 41,
    "start_time": "2022-07-17T15:57:04.416Z"
   },
   {
    "duration": 3,
    "start_time": "2022-07-17T15:57:04.458Z"
   },
   {
    "duration": 83,
    "start_time": "2022-07-17T15:57:04.462Z"
   },
   {
    "duration": 113,
    "start_time": "2022-07-17T15:57:04.547Z"
   },
   {
    "duration": 7,
    "start_time": "2022-07-17T15:57:04.661Z"
   },
   {
    "duration": 35,
    "start_time": "2022-07-17T15:57:04.670Z"
   },
   {
    "duration": 48,
    "start_time": "2022-07-17T15:57:04.707Z"
   },
   {
    "duration": 221,
    "start_time": "2022-07-17T15:57:04.756Z"
   },
   {
    "duration": 935,
    "start_time": "2022-07-17T15:57:04.978Z"
   },
   {
    "duration": 5,
    "start_time": "2022-07-17T15:57:05.914Z"
   },
   {
    "duration": 934,
    "start_time": "2022-07-17T15:57:05.921Z"
   },
   {
    "duration": 50,
    "start_time": "2022-07-17T15:57:06.857Z"
   },
   {
    "duration": 3,
    "start_time": "2022-07-17T15:57:06.909Z"
   },
   {
    "duration": 12705,
    "start_time": "2022-07-17T15:57:06.914Z"
   },
   {
    "duration": 227,
    "start_time": "2022-07-17T15:57:19.620Z"
   },
   {
    "duration": 198,
    "start_time": "2022-07-17T15:57:19.848Z"
   },
   {
    "duration": 148,
    "start_time": "2022-07-17T15:57:20.048Z"
   },
   {
    "duration": 6680,
    "start_time": "2022-07-17T15:57:20.198Z"
   },
   {
    "duration": 191,
    "start_time": "2022-07-17T15:57:26.880Z"
   },
   {
    "duration": 195,
    "start_time": "2022-07-17T15:57:27.073Z"
   },
   {
    "duration": 149,
    "start_time": "2022-07-17T15:57:27.270Z"
   },
   {
    "duration": 59,
    "start_time": "2022-07-17T15:57:27.420Z"
   },
   {
    "duration": 129,
    "start_time": "2022-07-17T15:57:27.480Z"
   },
   {
    "duration": 9,
    "start_time": "2022-07-17T15:57:27.611Z"
   },
   {
    "duration": 9,
    "start_time": "2022-07-17T15:57:27.621Z"
   },
   {
    "duration": 4,
    "start_time": "2022-07-17T15:57:27.645Z"
   },
   {
    "duration": 7,
    "start_time": "2022-07-17T15:57:27.651Z"
   },
   {
    "duration": 7,
    "start_time": "2022-07-17T15:57:27.659Z"
   },
   {
    "duration": 5,
    "start_time": "2022-07-17T15:57:27.668Z"
   },
   {
    "duration": 5,
    "start_time": "2022-07-17T15:57:27.675Z"
   },
   {
    "duration": 6,
    "start_time": "2022-07-17T15:57:27.682Z"
   },
   {
    "duration": 23,
    "start_time": "2022-07-17T15:57:27.689Z"
   },
   {
    "duration": 5,
    "start_time": "2022-07-17T15:57:27.713Z"
   },
   {
    "duration": 28,
    "start_time": "2022-07-17T15:57:27.720Z"
   },
   {
    "duration": 5,
    "start_time": "2022-07-17T15:57:27.750Z"
   },
   {
    "duration": 8,
    "start_time": "2022-07-17T15:57:27.756Z"
   },
   {
    "duration": 121,
    "start_time": "2022-07-17T15:57:27.765Z"
   },
   {
    "duration": 4,
    "start_time": "2022-07-17T16:37:16.895Z"
   },
   {
    "duration": 1179,
    "start_time": "2022-07-17T16:38:20.567Z"
   },
   {
    "duration": 46,
    "start_time": "2022-07-17T16:38:31.935Z"
   },
   {
    "duration": 4,
    "start_time": "2022-07-17T16:38:55.923Z"
   },
   {
    "duration": 25,
    "start_time": "2022-07-17T16:39:05.752Z"
   },
   {
    "duration": 47,
    "start_time": "2022-07-17T16:39:49.116Z"
   },
   {
    "duration": 5,
    "start_time": "2022-07-17T16:40:23.605Z"
   },
   {
    "duration": 7,
    "start_time": "2022-07-17T16:45:35.055Z"
   },
   {
    "duration": 8,
    "start_time": "2022-07-17T16:45:42.786Z"
   },
   {
    "duration": 10,
    "start_time": "2022-07-17T16:52:34.554Z"
   },
   {
    "duration": 10,
    "start_time": "2022-07-17T16:53:13.740Z"
   },
   {
    "duration": 10,
    "start_time": "2022-07-17T16:54:00.608Z"
   },
   {
    "duration": 11,
    "start_time": "2022-07-17T16:54:20.754Z"
   },
   {
    "duration": 48,
    "start_time": "2022-07-17T16:59:13.631Z"
   },
   {
    "duration": 1374,
    "start_time": "2022-07-17T17:01:49.736Z"
   },
   {
    "duration": 2,
    "start_time": "2022-07-17T17:01:51.112Z"
   },
   {
    "duration": 263,
    "start_time": "2022-07-17T17:01:51.116Z"
   },
   {
    "duration": 4,
    "start_time": "2022-07-17T17:01:51.381Z"
   },
   {
    "duration": 89,
    "start_time": "2022-07-17T17:01:51.386Z"
   },
   {
    "duration": 21,
    "start_time": "2022-07-17T17:01:51.477Z"
   },
   {
    "duration": 109,
    "start_time": "2022-07-17T17:01:51.501Z"
   },
   {
    "duration": 91,
    "start_time": "2022-07-17T17:01:51.611Z"
   },
   {
    "duration": 72,
    "start_time": "2022-07-17T17:01:51.703Z"
   },
   {
    "duration": 83,
    "start_time": "2022-07-17T17:01:51.777Z"
   },
   {
    "duration": 52,
    "start_time": "2022-07-17T17:01:51.862Z"
   },
   {
    "duration": 11,
    "start_time": "2022-07-17T17:01:51.916Z"
   },
   {
    "duration": 25,
    "start_time": "2022-07-17T17:01:51.928Z"
   },
   {
    "duration": 15,
    "start_time": "2022-07-17T17:01:51.955Z"
   },
   {
    "duration": 12,
    "start_time": "2022-07-17T17:01:51.972Z"
   },
   {
    "duration": 60,
    "start_time": "2022-07-17T17:01:51.986Z"
   },
   {
    "duration": 17,
    "start_time": "2022-07-17T17:01:52.047Z"
   },
   {
    "duration": 19,
    "start_time": "2022-07-17T17:01:52.065Z"
   },
   {
    "duration": 21,
    "start_time": "2022-07-17T17:01:52.086Z"
   },
   {
    "duration": 48,
    "start_time": "2022-07-17T17:01:52.108Z"
   },
   {
    "duration": 33,
    "start_time": "2022-07-17T17:01:52.158Z"
   },
   {
    "duration": 13,
    "start_time": "2022-07-17T17:01:52.192Z"
   },
   {
    "duration": 14,
    "start_time": "2022-07-17T17:01:52.207Z"
   },
   {
    "duration": 27,
    "start_time": "2022-07-17T17:01:52.222Z"
   },
   {
    "duration": 44,
    "start_time": "2022-07-17T17:01:52.250Z"
   },
   {
    "duration": 6,
    "start_time": "2022-07-17T17:01:52.296Z"
   },
   {
    "duration": 75,
    "start_time": "2022-07-17T17:01:52.304Z"
   },
   {
    "duration": 9,
    "start_time": "2022-07-17T17:01:52.383Z"
   },
   {
    "duration": 3,
    "start_time": "2022-07-17T17:01:52.394Z"
   },
   {
    "duration": 1451,
    "start_time": "2022-07-17T17:01:52.399Z"
   },
   {
    "duration": 37,
    "start_time": "2022-07-17T17:01:53.852Z"
   },
   {
    "duration": 3,
    "start_time": "2022-07-17T17:01:53.891Z"
   },
   {
    "duration": 123,
    "start_time": "2022-07-17T17:01:53.896Z"
   },
   {
    "duration": 115,
    "start_time": "2022-07-17T17:01:54.021Z"
   },
   {
    "duration": 12,
    "start_time": "2022-07-17T17:01:54.137Z"
   },
   {
    "duration": 29,
    "start_time": "2022-07-17T17:01:54.151Z"
   },
   {
    "duration": 40,
    "start_time": "2022-07-17T17:01:54.182Z"
   },
   {
    "duration": 237,
    "start_time": "2022-07-17T17:01:54.223Z"
   },
   {
    "duration": 930,
    "start_time": "2022-07-17T17:01:54.462Z"
   },
   {
    "duration": 5,
    "start_time": "2022-07-17T17:01:55.394Z"
   },
   {
    "duration": 966,
    "start_time": "2022-07-17T17:01:55.401Z"
   },
   {
    "duration": 51,
    "start_time": "2022-07-17T17:01:56.369Z"
   },
   {
    "duration": 4,
    "start_time": "2022-07-17T17:01:56.422Z"
   },
   {
    "duration": 13768,
    "start_time": "2022-07-17T17:01:56.428Z"
   },
   {
    "duration": 250,
    "start_time": "2022-07-17T17:02:10.197Z"
   },
   {
    "duration": 196,
    "start_time": "2022-07-17T17:02:10.449Z"
   },
   {
    "duration": 149,
    "start_time": "2022-07-17T17:02:10.647Z"
   },
   {
    "duration": 6585,
    "start_time": "2022-07-17T17:02:10.798Z"
   },
   {
    "duration": 195,
    "start_time": "2022-07-17T17:02:17.384Z"
   },
   {
    "duration": 193,
    "start_time": "2022-07-17T17:02:17.580Z"
   },
   {
    "duration": 138,
    "start_time": "2022-07-17T17:02:17.775Z"
   },
   {
    "duration": 56,
    "start_time": "2022-07-17T17:02:17.915Z"
   },
   {
    "duration": 4,
    "start_time": "2022-07-17T17:02:17.972Z"
   },
   {
    "duration": 1295,
    "start_time": "2022-07-17T17:02:17.978Z"
   },
   {
    "duration": 47,
    "start_time": "2022-07-17T17:02:19.274Z"
   },
   {
    "duration": 24,
    "start_time": "2022-07-17T17:02:19.323Z"
   },
   {
    "duration": 124,
    "start_time": "2022-07-17T17:02:19.349Z"
   },
   {
    "duration": 26,
    "start_time": "2022-07-17T17:02:19.475Z"
   },
   {
    "duration": 12,
    "start_time": "2022-07-17T17:02:19.503Z"
   },
   {
    "duration": 6,
    "start_time": "2022-07-17T17:02:19.517Z"
   },
   {
    "duration": 20,
    "start_time": "2022-07-17T17:02:19.525Z"
   },
   {
    "duration": 4,
    "start_time": "2022-07-17T17:02:19.547Z"
   },
   {
    "duration": 12,
    "start_time": "2022-07-17T17:02:19.553Z"
   },
   {
    "duration": 7,
    "start_time": "2022-07-17T17:02:19.567Z"
   },
   {
    "duration": 6,
    "start_time": "2022-07-17T17:02:19.576Z"
   },
   {
    "duration": 109,
    "start_time": "2022-07-17T17:02:19.583Z"
   },
   {
    "duration": 6,
    "start_time": "2022-07-17T17:02:19.694Z"
   },
   {
    "duration": 7,
    "start_time": "2022-07-17T17:02:19.701Z"
   },
   {
    "duration": 7,
    "start_time": "2022-07-17T17:02:19.709Z"
   },
   {
    "duration": 6,
    "start_time": "2022-07-17T17:02:19.717Z"
   },
   {
    "duration": 40,
    "start_time": "2022-07-17T17:02:19.724Z"
   },
   {
    "duration": 9,
    "start_time": "2022-07-17T17:13:16.569Z"
   },
   {
    "duration": 10,
    "start_time": "2022-07-17T17:13:47.002Z"
   },
   {
    "duration": 44,
    "start_time": "2022-07-17T18:03:16.323Z"
   },
   {
    "duration": 1160,
    "start_time": "2022-07-17T18:08:17.015Z"
   },
   {
    "duration": 1453,
    "start_time": "2022-07-17T18:14:13.823Z"
   },
   {
    "duration": 3,
    "start_time": "2022-07-17T18:14:15.278Z"
   },
   {
    "duration": 282,
    "start_time": "2022-07-17T18:14:15.282Z"
   },
   {
    "duration": 4,
    "start_time": "2022-07-17T18:14:15.568Z"
   },
   {
    "duration": 56,
    "start_time": "2022-07-17T18:14:15.574Z"
   },
   {
    "duration": 19,
    "start_time": "2022-07-17T18:14:15.645Z"
   },
   {
    "duration": 99,
    "start_time": "2022-07-17T18:14:15.665Z"
   },
   {
    "duration": 91,
    "start_time": "2022-07-17T18:14:15.765Z"
   },
   {
    "duration": 62,
    "start_time": "2022-07-17T18:14:15.858Z"
   },
   {
    "duration": 92,
    "start_time": "2022-07-17T18:14:15.923Z"
   },
   {
    "duration": 67,
    "start_time": "2022-07-17T18:14:16.016Z"
   },
   {
    "duration": 12,
    "start_time": "2022-07-17T18:14:16.084Z"
   },
   {
    "duration": 12,
    "start_time": "2022-07-17T18:14:16.098Z"
   },
   {
    "duration": 37,
    "start_time": "2022-07-17T18:14:16.112Z"
   },
   {
    "duration": 20,
    "start_time": "2022-07-17T18:14:16.151Z"
   },
   {
    "duration": 32,
    "start_time": "2022-07-17T18:14:16.173Z"
   },
   {
    "duration": 40,
    "start_time": "2022-07-17T18:14:16.207Z"
   },
   {
    "duration": 14,
    "start_time": "2022-07-17T18:14:16.249Z"
   },
   {
    "duration": 13,
    "start_time": "2022-07-17T18:14:16.265Z"
   },
   {
    "duration": 15,
    "start_time": "2022-07-17T18:14:16.280Z"
   },
   {
    "duration": 55,
    "start_time": "2022-07-17T18:14:16.297Z"
   },
   {
    "duration": 15,
    "start_time": "2022-07-17T18:14:16.353Z"
   },
   {
    "duration": 14,
    "start_time": "2022-07-17T18:14:16.369Z"
   },
   {
    "duration": 8,
    "start_time": "2022-07-17T18:14:16.384Z"
   },
   {
    "duration": 83,
    "start_time": "2022-07-17T18:14:16.394Z"
   },
   {
    "duration": 7,
    "start_time": "2022-07-17T18:14:16.478Z"
   },
   {
    "duration": 76,
    "start_time": "2022-07-17T18:14:16.487Z"
   },
   {
    "duration": 11,
    "start_time": "2022-07-17T18:14:16.567Z"
   },
   {
    "duration": 7,
    "start_time": "2022-07-17T18:14:16.579Z"
   },
   {
    "duration": 1526,
    "start_time": "2022-07-17T18:14:16.587Z"
   },
   {
    "duration": 47,
    "start_time": "2022-07-17T18:14:18.115Z"
   },
   {
    "duration": 3,
    "start_time": "2022-07-17T18:14:18.163Z"
   },
   {
    "duration": 85,
    "start_time": "2022-07-17T18:14:18.167Z"
   },
   {
    "duration": 118,
    "start_time": "2022-07-17T18:14:18.254Z"
   },
   {
    "duration": 5,
    "start_time": "2022-07-17T18:14:18.374Z"
   },
   {
    "duration": 29,
    "start_time": "2022-07-17T18:14:18.380Z"
   },
   {
    "duration": 67,
    "start_time": "2022-07-17T18:14:18.410Z"
   },
   {
    "duration": 225,
    "start_time": "2022-07-17T18:14:18.479Z"
   },
   {
    "duration": 1055,
    "start_time": "2022-07-17T18:14:18.706Z"
   },
   {
    "duration": 5,
    "start_time": "2022-07-17T18:14:19.763Z"
   },
   {
    "duration": 978,
    "start_time": "2022-07-17T18:14:19.770Z"
   },
   {
    "duration": 51,
    "start_time": "2022-07-17T18:14:20.750Z"
   },
   {
    "duration": 6,
    "start_time": "2022-07-17T18:14:20.803Z"
   },
   {
    "duration": 15447,
    "start_time": "2022-07-17T18:14:20.811Z"
   },
   {
    "duration": 189,
    "start_time": "2022-07-17T18:14:36.260Z"
   },
   {
    "duration": 296,
    "start_time": "2022-07-17T18:14:36.451Z"
   },
   {
    "duration": 154,
    "start_time": "2022-07-17T18:14:36.748Z"
   },
   {
    "duration": 8150,
    "start_time": "2022-07-17T18:14:36.904Z"
   },
   {
    "duration": 191,
    "start_time": "2022-07-17T18:14:45.056Z"
   },
   {
    "duration": 185,
    "start_time": "2022-07-17T18:14:45.249Z"
   },
   {
    "duration": 151,
    "start_time": "2022-07-17T18:14:45.436Z"
   },
   {
    "duration": 58,
    "start_time": "2022-07-17T18:14:45.589Z"
   },
   {
    "duration": 4,
    "start_time": "2022-07-17T18:14:45.649Z"
   },
   {
    "duration": 1249,
    "start_time": "2022-07-17T18:14:45.655Z"
   },
   {
    "duration": 64,
    "start_time": "2022-07-17T18:14:46.906Z"
   },
   {
    "duration": 12,
    "start_time": "2022-07-17T18:14:46.972Z"
   },
   {
    "duration": 1274,
    "start_time": "2022-07-17T18:14:46.986Z"
   },
   {
    "duration": 129,
    "start_time": "2022-07-17T18:16:40.638Z"
   },
   {
    "duration": 12,
    "start_time": "2022-07-17T18:16:40.769Z"
   },
   {
    "duration": 12,
    "start_time": "2022-07-17T18:16:40.783Z"
   },
   {
    "duration": 4,
    "start_time": "2022-07-17T18:16:40.796Z"
   },
   {
    "duration": 5,
    "start_time": "2022-07-17T18:16:40.801Z"
   },
   {
    "duration": 5,
    "start_time": "2022-07-17T18:16:40.808Z"
   },
   {
    "duration": 6,
    "start_time": "2022-07-17T18:16:40.814Z"
   },
   {
    "duration": 7,
    "start_time": "2022-07-17T18:16:40.851Z"
   },
   {
    "duration": 7,
    "start_time": "2022-07-17T18:16:40.859Z"
   },
   {
    "duration": 21,
    "start_time": "2022-07-17T18:16:40.867Z"
   },
   {
    "duration": 5,
    "start_time": "2022-07-17T18:16:40.890Z"
   },
   {
    "duration": 8,
    "start_time": "2022-07-17T18:16:40.896Z"
   },
   {
    "duration": 5,
    "start_time": "2022-07-17T18:16:40.905Z"
   },
   {
    "duration": 5,
    "start_time": "2022-07-17T18:16:40.912Z"
   },
   {
    "duration": 47,
    "start_time": "2022-07-17T18:16:40.918Z"
   },
   {
    "duration": 174,
    "start_time": "2022-07-17T18:16:40.969Z"
   },
   {
    "duration": 318,
    "start_time": "2022-07-17T18:17:38.157Z"
   },
   {
    "duration": 208,
    "start_time": "2022-07-17T18:19:32.577Z"
   },
   {
    "duration": 294,
    "start_time": "2022-07-17T18:20:03.759Z"
   },
   {
    "duration": 203,
    "start_time": "2022-07-17T18:20:34.076Z"
   },
   {
    "duration": 377,
    "start_time": "2022-07-17T18:21:19.491Z"
   },
   {
    "duration": 247,
    "start_time": "2022-07-17T18:21:28.828Z"
   },
   {
    "duration": 14,
    "start_time": "2022-07-17T18:23:45.599Z"
   },
   {
    "duration": 13,
    "start_time": "2022-07-17T18:25:12.879Z"
   },
   {
    "duration": 174,
    "start_time": "2022-07-17T18:27:46.878Z"
   },
   {
    "duration": 1,
    "start_time": "2022-07-17T18:29:14.848Z"
   },
   {
    "duration": 0,
    "start_time": "2022-07-17T18:30:17.783Z"
   },
   {
    "duration": 688,
    "start_time": "2022-07-17T18:30:19.520Z"
   },
   {
    "duration": 6,
    "start_time": "2022-07-17T18:30:28.542Z"
   },
   {
    "duration": 55,
    "start_time": "2022-07-17T18:30:40.167Z"
   },
   {
    "duration": 5,
    "start_time": "2022-07-17T18:30:43.508Z"
   },
   {
    "duration": 691,
    "start_time": "2022-07-17T18:30:48.722Z"
   },
   {
    "duration": 77,
    "start_time": "2022-07-17T18:31:04.416Z"
   },
   {
    "duration": 753,
    "start_time": "2022-07-17T18:31:19.038Z"
   },
   {
    "duration": 700,
    "start_time": "2022-07-17T18:31:22.965Z"
   },
   {
    "duration": 11,
    "start_time": "2022-07-17T18:32:04.223Z"
   },
   {
    "duration": 37,
    "start_time": "2022-07-17T18:32:07.140Z"
   },
   {
    "duration": 247,
    "start_time": "2022-07-17T18:32:15.751Z"
   },
   {
    "duration": 305,
    "start_time": "2022-07-17T18:32:23.940Z"
   },
   {
    "duration": 4,
    "start_time": "2022-07-17T18:32:41.138Z"
   },
   {
    "duration": 211,
    "start_time": "2022-07-17T18:32:44.198Z"
   },
   {
    "duration": 19,
    "start_time": "2022-07-17T18:33:23.378Z"
   },
   {
    "duration": 221,
    "start_time": "2022-07-17T18:34:29.741Z"
   },
   {
    "duration": 27,
    "start_time": "2022-07-17T18:34:59.587Z"
   },
   {
    "duration": 250,
    "start_time": "2022-07-17T18:35:43.502Z"
   },
   {
    "duration": 286,
    "start_time": "2022-07-17T18:35:47.755Z"
   },
   {
    "duration": 281,
    "start_time": "2022-07-17T18:35:51.582Z"
   },
   {
    "duration": 10,
    "start_time": "2022-07-17T18:37:34.165Z"
   },
   {
    "duration": 24,
    "start_time": "2022-07-17T18:37:43.352Z"
   },
   {
    "duration": 280,
    "start_time": "2022-07-17T18:37:49.712Z"
   },
   {
    "duration": 239,
    "start_time": "2022-07-17T18:38:13.084Z"
   },
   {
    "duration": 241,
    "start_time": "2022-07-17T18:38:44.193Z"
   },
   {
    "duration": 18,
    "start_time": "2022-07-17T18:40:06.282Z"
   },
   {
    "duration": 224,
    "start_time": "2022-07-17T18:40:45.813Z"
   },
   {
    "duration": 169,
    "start_time": "2022-07-17T18:41:05.553Z"
   },
   {
    "duration": 187,
    "start_time": "2022-07-17T18:41:19.774Z"
   },
   {
    "duration": 200,
    "start_time": "2022-07-17T18:41:26.999Z"
   },
   {
    "duration": 206,
    "start_time": "2022-07-17T18:42:13.034Z"
   },
   {
    "duration": 208,
    "start_time": "2022-07-17T18:42:20.886Z"
   },
   {
    "duration": 11,
    "start_time": "2022-07-17T18:45:21.617Z"
   },
   {
    "duration": 62,
    "start_time": "2022-07-17T18:45:39.677Z"
   },
   {
    "duration": 15,
    "start_time": "2022-07-17T18:45:46.346Z"
   },
   {
    "duration": 11,
    "start_time": "2022-07-17T18:46:11.174Z"
   },
   {
    "duration": 10,
    "start_time": "2022-07-17T18:46:14.556Z"
   },
   {
    "duration": 12,
    "start_time": "2022-07-17T18:46:15.392Z"
   },
   {
    "duration": 6,
    "start_time": "2022-07-17T18:46:16.747Z"
   },
   {
    "duration": 14,
    "start_time": "2022-07-17T18:46:29.536Z"
   },
   {
    "duration": 11,
    "start_time": "2022-07-17T18:46:32.716Z"
   },
   {
    "duration": 10,
    "start_time": "2022-07-17T18:47:42.425Z"
   },
   {
    "duration": 6,
    "start_time": "2022-07-17T18:47:44.917Z"
   },
   {
    "duration": 174,
    "start_time": "2022-07-17T18:47:45.924Z"
   },
   {
    "duration": 125,
    "start_time": "2022-07-17T18:47:53.675Z"
   },
   {
    "duration": 70,
    "start_time": "2022-07-17T18:48:03.739Z"
   },
   {
    "duration": 25,
    "start_time": "2022-07-17T18:49:45.889Z"
   },
   {
    "duration": 98,
    "start_time": "2022-07-17T18:50:14.066Z"
   },
   {
    "duration": 92,
    "start_time": "2022-07-17T18:50:17.793Z"
   },
   {
    "duration": 180,
    "start_time": "2022-07-17T18:51:07.723Z"
   },
   {
    "duration": 2015,
    "start_time": "2022-07-17T18:54:41.554Z"
   },
   {
    "duration": 242,
    "start_time": "2022-07-17T18:54:51.731Z"
   },
   {
    "duration": 239,
    "start_time": "2022-07-17T18:55:51.652Z"
   },
   {
    "duration": 252,
    "start_time": "2022-07-17T18:56:00.013Z"
   },
   {
    "duration": 239,
    "start_time": "2022-07-17T18:56:12.651Z"
   },
   {
    "duration": 20,
    "start_time": "2022-07-17T18:57:07.415Z"
   },
   {
    "duration": 171,
    "start_time": "2022-07-17T18:57:13.215Z"
   },
   {
    "duration": 147,
    "start_time": "2022-07-17T18:57:18.625Z"
   },
   {
    "duration": 236,
    "start_time": "2022-07-17T18:57:37.097Z"
   },
   {
    "duration": 4293,
    "start_time": "2022-07-17T18:59:41.749Z"
   },
   {
    "duration": 155,
    "start_time": "2022-07-17T18:59:53.285Z"
   },
   {
    "duration": 28,
    "start_time": "2022-07-17T19:00:15.586Z"
   },
   {
    "duration": 180,
    "start_time": "2022-07-17T19:00:30.389Z"
   },
   {
    "duration": 275,
    "start_time": "2022-07-17T19:00:39.082Z"
   },
   {
    "duration": 24,
    "start_time": "2022-07-17T19:04:45.263Z"
   },
   {
    "duration": 250,
    "start_time": "2022-07-17T19:05:37.671Z"
   },
   {
    "duration": 182,
    "start_time": "2022-07-17T19:05:42.863Z"
   },
   {
    "duration": 0,
    "start_time": "2022-07-17T19:06:18.871Z"
   },
   {
    "duration": 176,
    "start_time": "2022-07-17T19:06:20.802Z"
   },
   {
    "duration": 0,
    "start_time": "2022-07-17T19:06:55.526Z"
   },
   {
    "duration": 194,
    "start_time": "2022-07-17T19:06:58.368Z"
   },
   {
    "duration": 204,
    "start_time": "2022-07-17T19:07:20.692Z"
   },
   {
    "duration": 188,
    "start_time": "2022-07-17T19:07:35.436Z"
   },
   {
    "duration": 191,
    "start_time": "2022-07-17T19:12:24.785Z"
   },
   {
    "duration": 1716,
    "start_time": "2022-07-17T19:17:12.616Z"
   },
   {
    "duration": 980,
    "start_time": "2022-07-17T19:17:25.973Z"
   },
   {
    "duration": 190,
    "start_time": "2022-07-17T19:17:33.271Z"
   },
   {
    "duration": 4361,
    "start_time": "2022-07-17T19:17:37.115Z"
   },
   {
    "duration": 4088,
    "start_time": "2022-07-17T19:18:06.929Z"
   },
   {
    "duration": 4049,
    "start_time": "2022-07-17T19:18:16.029Z"
   },
   {
    "duration": 160,
    "start_time": "2022-07-17T19:18:44.597Z"
   },
   {
    "duration": 164,
    "start_time": "2022-07-17T19:19:40.061Z"
   },
   {
    "duration": 158,
    "start_time": "2022-07-17T19:22:33.968Z"
   },
   {
    "duration": 24,
    "start_time": "2022-07-17T19:26:34.591Z"
   },
   {
    "duration": 29,
    "start_time": "2022-07-17T19:26:44.913Z"
   },
   {
    "duration": 139,
    "start_time": "2022-07-17T19:27:12.335Z"
   },
   {
    "duration": 192,
    "start_time": "2022-07-17T19:29:15.181Z"
   },
   {
    "duration": 1684,
    "start_time": "2022-07-17T20:00:02.066Z"
   },
   {
    "duration": 3,
    "start_time": "2022-07-17T20:00:03.751Z"
   },
   {
    "duration": 282,
    "start_time": "2022-07-17T20:00:03.755Z"
   },
   {
    "duration": 3,
    "start_time": "2022-07-17T20:00:04.045Z"
   },
   {
    "duration": 47,
    "start_time": "2022-07-17T20:00:04.049Z"
   },
   {
    "duration": 19,
    "start_time": "2022-07-17T20:00:04.097Z"
   },
   {
    "duration": 109,
    "start_time": "2022-07-17T20:00:04.118Z"
   },
   {
    "duration": 92,
    "start_time": "2022-07-17T20:00:04.229Z"
   },
   {
    "duration": 81,
    "start_time": "2022-07-17T20:00:04.323Z"
   },
   {
    "duration": 91,
    "start_time": "2022-07-17T20:00:04.407Z"
   },
   {
    "duration": 62,
    "start_time": "2022-07-17T20:00:04.500Z"
   },
   {
    "duration": 12,
    "start_time": "2022-07-17T20:00:04.564Z"
   },
   {
    "duration": 15,
    "start_time": "2022-07-17T20:00:04.577Z"
   },
   {
    "duration": 15,
    "start_time": "2022-07-17T20:00:04.593Z"
   },
   {
    "duration": 41,
    "start_time": "2022-07-17T20:00:04.609Z"
   },
   {
    "duration": 38,
    "start_time": "2022-07-17T20:00:04.651Z"
   },
   {
    "duration": 24,
    "start_time": "2022-07-17T20:00:04.691Z"
   },
   {
    "duration": 15,
    "start_time": "2022-07-17T20:00:04.716Z"
   },
   {
    "duration": 14,
    "start_time": "2022-07-17T20:00:04.746Z"
   },
   {
    "duration": 15,
    "start_time": "2022-07-17T20:00:04.761Z"
   },
   {
    "duration": 28,
    "start_time": "2022-07-17T20:00:04.777Z"
   },
   {
    "duration": 40,
    "start_time": "2022-07-17T20:00:04.807Z"
   },
   {
    "duration": 15,
    "start_time": "2022-07-17T20:00:04.849Z"
   },
   {
    "duration": 7,
    "start_time": "2022-07-17T20:00:04.865Z"
   },
   {
    "duration": 74,
    "start_time": "2022-07-17T20:00:04.873Z"
   },
   {
    "duration": 7,
    "start_time": "2022-07-17T20:00:04.948Z"
   },
   {
    "duration": 49,
    "start_time": "2022-07-17T20:00:04.957Z"
   },
   {
    "duration": 37,
    "start_time": "2022-07-17T20:00:05.011Z"
   },
   {
    "duration": 5,
    "start_time": "2022-07-17T20:00:05.051Z"
   },
   {
    "duration": 1451,
    "start_time": "2022-07-17T20:00:05.058Z"
   },
   {
    "duration": 46,
    "start_time": "2022-07-17T20:00:06.511Z"
   },
   {
    "duration": 68,
    "start_time": "2022-07-17T20:00:06.559Z"
   },
   {
    "duration": 127,
    "start_time": "2022-07-17T20:00:06.628Z"
   },
   {
    "duration": 4,
    "start_time": "2022-07-17T20:00:06.757Z"
   },
   {
    "duration": 29,
    "start_time": "2022-07-17T20:00:06.763Z"
   },
   {
    "duration": 59,
    "start_time": "2022-07-17T20:00:06.794Z"
   },
   {
    "duration": 231,
    "start_time": "2022-07-17T20:00:06.855Z"
   },
   {
    "duration": 1045,
    "start_time": "2022-07-17T20:00:07.088Z"
   },
   {
    "duration": 10,
    "start_time": "2022-07-17T20:00:08.135Z"
   },
   {
    "duration": 999,
    "start_time": "2022-07-17T20:00:08.147Z"
   },
   {
    "duration": 57,
    "start_time": "2022-07-17T20:00:09.147Z"
   },
   {
    "duration": 5,
    "start_time": "2022-07-17T20:00:09.205Z"
   },
   {
    "duration": 12781,
    "start_time": "2022-07-17T20:00:09.211Z"
   },
   {
    "duration": 159,
    "start_time": "2022-07-17T20:00:21.994Z"
   },
   {
    "duration": 292,
    "start_time": "2022-07-17T20:00:22.155Z"
   },
   {
    "duration": 155,
    "start_time": "2022-07-17T20:00:22.448Z"
   },
   {
    "duration": 6665,
    "start_time": "2022-07-17T20:00:22.606Z"
   },
   {
    "duration": 188,
    "start_time": "2022-07-17T20:00:29.272Z"
   },
   {
    "duration": 196,
    "start_time": "2022-07-17T20:00:29.462Z"
   },
   {
    "duration": 144,
    "start_time": "2022-07-17T20:00:29.659Z"
   },
   {
    "duration": 57,
    "start_time": "2022-07-17T20:00:29.805Z"
   },
   {
    "duration": 4,
    "start_time": "2022-07-17T20:00:29.865Z"
   },
   {
    "duration": 1193,
    "start_time": "2022-07-17T20:00:29.870Z"
   },
   {
    "duration": 46,
    "start_time": "2022-07-17T20:00:31.064Z"
   },
   {
    "duration": 9,
    "start_time": "2022-07-17T20:00:31.112Z"
   },
   {
    "duration": 332,
    "start_time": "2022-07-17T20:00:31.122Z"
   },
   {
    "duration": 173,
    "start_time": "2022-07-17T20:00:31.456Z"
   },
   {
    "duration": 165,
    "start_time": "2022-07-17T20:00:31.631Z"
   },
   {
    "duration": 177,
    "start_time": "2022-07-17T20:00:31.798Z"
   },
   {
    "duration": 178,
    "start_time": "2022-07-17T20:00:31.977Z"
   },
   {
    "duration": 149,
    "start_time": "2022-07-17T20:00:32.157Z"
   },
   {
    "duration": 129,
    "start_time": "2022-07-17T20:00:32.308Z"
   },
   {
    "duration": 13,
    "start_time": "2022-07-17T20:00:32.438Z"
   },
   {
    "duration": 22,
    "start_time": "2022-07-17T20:00:32.453Z"
   },
   {
    "duration": 4,
    "start_time": "2022-07-17T20:00:32.476Z"
   },
   {
    "duration": 6,
    "start_time": "2022-07-17T20:00:32.481Z"
   },
   {
    "duration": 5,
    "start_time": "2022-07-17T20:00:32.488Z"
   },
   {
    "duration": 5,
    "start_time": "2022-07-17T20:00:32.495Z"
   },
   {
    "duration": 5,
    "start_time": "2022-07-17T20:00:32.501Z"
   },
   {
    "duration": 7,
    "start_time": "2022-07-17T20:00:32.507Z"
   },
   {
    "duration": 38,
    "start_time": "2022-07-17T20:00:32.516Z"
   },
   {
    "duration": 4,
    "start_time": "2022-07-17T20:00:32.555Z"
   },
   {
    "duration": 8,
    "start_time": "2022-07-17T20:00:32.560Z"
   },
   {
    "duration": 5,
    "start_time": "2022-07-17T20:00:32.569Z"
   },
   {
    "duration": 7,
    "start_time": "2022-07-17T20:00:32.575Z"
   },
   {
    "duration": 24,
    "start_time": "2022-07-17T20:00:32.584Z"
   },
   {
    "duration": 1570,
    "start_time": "2022-07-18T16:53:58.579Z"
   },
   {
    "duration": 3,
    "start_time": "2022-07-18T16:54:00.152Z"
   },
   {
    "duration": 545,
    "start_time": "2022-07-18T16:54:00.157Z"
   },
   {
    "duration": 3,
    "start_time": "2022-07-18T16:54:00.704Z"
   },
   {
    "duration": 89,
    "start_time": "2022-07-18T16:54:00.708Z"
   },
   {
    "duration": 21,
    "start_time": "2022-07-18T16:54:00.799Z"
   },
   {
    "duration": 115,
    "start_time": "2022-07-18T16:54:00.822Z"
   },
   {
    "duration": 100,
    "start_time": "2022-07-18T16:54:00.939Z"
   },
   {
    "duration": 86,
    "start_time": "2022-07-18T16:54:01.041Z"
   },
   {
    "duration": 112,
    "start_time": "2022-07-18T16:54:01.131Z"
   },
   {
    "duration": 93,
    "start_time": "2022-07-18T16:54:01.245Z"
   },
   {
    "duration": 35,
    "start_time": "2022-07-18T16:54:01.340Z"
   },
   {
    "duration": 69,
    "start_time": "2022-07-18T16:54:01.376Z"
   },
   {
    "duration": 76,
    "start_time": "2022-07-18T16:54:01.447Z"
   },
   {
    "duration": 51,
    "start_time": "2022-07-18T16:54:01.525Z"
   },
   {
    "duration": 82,
    "start_time": "2022-07-18T16:54:01.579Z"
   },
   {
    "duration": 56,
    "start_time": "2022-07-18T16:54:01.662Z"
   },
   {
    "duration": 28,
    "start_time": "2022-07-18T16:54:01.720Z"
   },
   {
    "duration": 35,
    "start_time": "2022-07-18T16:54:01.750Z"
   },
   {
    "duration": 93,
    "start_time": "2022-07-18T16:54:01.787Z"
   },
   {
    "duration": 43,
    "start_time": "2022-07-18T16:54:01.882Z"
   },
   {
    "duration": 15,
    "start_time": "2022-07-18T16:54:01.927Z"
   },
   {
    "duration": 41,
    "start_time": "2022-07-18T16:54:01.944Z"
   },
   {
    "duration": 15,
    "start_time": "2022-07-18T16:54:01.987Z"
   },
   {
    "duration": 89,
    "start_time": "2022-07-18T16:54:02.004Z"
   },
   {
    "duration": 8,
    "start_time": "2022-07-18T16:54:02.096Z"
   },
   {
    "duration": 79,
    "start_time": "2022-07-18T16:54:02.105Z"
   },
   {
    "duration": 10,
    "start_time": "2022-07-18T16:54:02.188Z"
   },
   {
    "duration": 53,
    "start_time": "2022-07-18T16:54:02.200Z"
   },
   {
    "duration": 1736,
    "start_time": "2022-07-18T16:54:02.255Z"
   },
   {
    "duration": 47,
    "start_time": "2022-07-18T16:54:03.994Z"
   },
   {
    "duration": 90,
    "start_time": "2022-07-18T16:54:04.043Z"
   },
   {
    "duration": 100,
    "start_time": "2022-07-18T16:54:09.813Z"
   },
   {
    "duration": 167,
    "start_time": "2022-07-18T17:00:28.584Z"
   },
   {
    "duration": 107,
    "start_time": "2022-07-18T17:00:35.043Z"
   },
   {
    "duration": 5,
    "start_time": "2022-07-18T17:00:38.602Z"
   },
   {
    "duration": 32,
    "start_time": "2022-07-18T17:00:41.147Z"
   },
   {
    "duration": 9,
    "start_time": "2022-07-18T17:12:27.548Z"
   },
   {
    "duration": 7,
    "start_time": "2022-07-18T17:15:28.748Z"
   },
   {
    "duration": 9,
    "start_time": "2022-07-18T17:15:54.919Z"
   },
   {
    "duration": 10,
    "start_time": "2022-07-18T17:15:58.276Z"
   },
   {
    "duration": 8,
    "start_time": "2022-07-18T17:16:20.684Z"
   },
   {
    "duration": 77,
    "start_time": "2022-07-18T17:53:19.127Z"
   },
   {
    "duration": 15,
    "start_time": "2022-07-18T17:53:43.838Z"
   },
   {
    "duration": 6,
    "start_time": "2022-07-18T17:55:06.433Z"
   },
   {
    "duration": 15,
    "start_time": "2022-07-18T17:55:08.788Z"
   },
   {
    "duration": 123,
    "start_time": "2022-07-18T17:57:14.435Z"
   },
   {
    "duration": 13,
    "start_time": "2022-07-18T17:59:11.612Z"
   },
   {
    "duration": 5,
    "start_time": "2022-07-18T17:59:30.046Z"
   },
   {
    "duration": 1444,
    "start_time": "2022-07-18T17:59:44.105Z"
   },
   {
    "duration": 3,
    "start_time": "2022-07-18T17:59:45.550Z"
   },
   {
    "duration": 303,
    "start_time": "2022-07-18T17:59:45.555Z"
   },
   {
    "duration": 15,
    "start_time": "2022-07-18T17:59:45.865Z"
   },
   {
    "duration": 60,
    "start_time": "2022-07-18T17:59:45.882Z"
   },
   {
    "duration": 33,
    "start_time": "2022-07-18T17:59:45.943Z"
   },
   {
    "duration": 133,
    "start_time": "2022-07-18T17:59:45.979Z"
   },
   {
    "duration": 97,
    "start_time": "2022-07-18T17:59:46.114Z"
   },
   {
    "duration": 80,
    "start_time": "2022-07-18T17:59:46.213Z"
   },
   {
    "duration": 6,
    "start_time": "2022-07-18T17:59:46.295Z"
   },
   {
    "duration": 24,
    "start_time": "2022-07-18T17:59:46.302Z"
   },
   {
    "duration": 15,
    "start_time": "2022-07-18T17:59:46.327Z"
   },
   {
    "duration": 1509,
    "start_time": "2022-07-18T18:00:41.148Z"
   },
   {
    "duration": 6,
    "start_time": "2022-07-18T18:00:42.660Z"
   },
   {
    "duration": 352,
    "start_time": "2022-07-18T18:00:42.668Z"
   },
   {
    "duration": 3,
    "start_time": "2022-07-18T18:00:43.022Z"
   },
   {
    "duration": 64,
    "start_time": "2022-07-18T18:00:43.026Z"
   },
   {
    "duration": 19,
    "start_time": "2022-07-18T18:00:43.092Z"
   },
   {
    "duration": 119,
    "start_time": "2022-07-18T18:00:43.112Z"
   },
   {
    "duration": 105,
    "start_time": "2022-07-18T18:00:43.233Z"
   },
   {
    "duration": 81,
    "start_time": "2022-07-18T18:00:43.340Z"
   },
   {
    "duration": 6,
    "start_time": "2022-07-18T18:00:43.424Z"
   },
   {
    "duration": 17,
    "start_time": "2022-07-18T18:00:48.482Z"
   },
   {
    "duration": 35,
    "start_time": "2022-07-18T18:03:11.943Z"
   },
   {
    "duration": 22,
    "start_time": "2022-07-18T18:04:00.084Z"
   },
   {
    "duration": 12,
    "start_time": "2022-07-18T18:04:06.725Z"
   },
   {
    "duration": 9,
    "start_time": "2022-07-18T18:04:16.444Z"
   },
   {
    "duration": 12,
    "start_time": "2022-07-18T18:04:39.789Z"
   },
   {
    "duration": 19,
    "start_time": "2022-07-18T18:06:59.900Z"
   },
   {
    "duration": 22,
    "start_time": "2022-07-18T18:07:02.771Z"
   },
   {
    "duration": 5,
    "start_time": "2022-07-18T18:07:22.432Z"
   },
   {
    "duration": 11,
    "start_time": "2022-07-18T18:07:37.693Z"
   },
   {
    "duration": 11,
    "start_time": "2022-07-18T18:07:53.344Z"
   },
   {
    "duration": 21,
    "start_time": "2022-07-18T18:08:02.530Z"
   },
   {
    "duration": 1482,
    "start_time": "2022-07-18T18:08:40.879Z"
   },
   {
    "duration": 8,
    "start_time": "2022-07-18T18:08:42.364Z"
   },
   {
    "duration": 376,
    "start_time": "2022-07-18T18:08:42.382Z"
   },
   {
    "duration": 3,
    "start_time": "2022-07-18T18:08:42.760Z"
   },
   {
    "duration": 128,
    "start_time": "2022-07-18T18:08:42.765Z"
   },
   {
    "duration": 21,
    "start_time": "2022-07-18T18:08:42.898Z"
   },
   {
    "duration": 137,
    "start_time": "2022-07-18T18:08:42.924Z"
   },
   {
    "duration": 121,
    "start_time": "2022-07-18T18:08:43.063Z"
   },
   {
    "duration": 100,
    "start_time": "2022-07-18T18:08:43.186Z"
   },
   {
    "duration": 9,
    "start_time": "2022-07-18T18:08:46.995Z"
   },
   {
    "duration": 24,
    "start_time": "2022-07-18T18:09:13.152Z"
   },
   {
    "duration": 46,
    "start_time": "2022-07-18T18:09:59.636Z"
   },
   {
    "duration": 1588,
    "start_time": "2022-07-18T18:10:21.449Z"
   },
   {
    "duration": 3,
    "start_time": "2022-07-18T18:10:23.039Z"
   },
   {
    "duration": 336,
    "start_time": "2022-07-18T18:10:23.044Z"
   },
   {
    "duration": 6,
    "start_time": "2022-07-18T18:10:23.384Z"
   },
   {
    "duration": 57,
    "start_time": "2022-07-18T18:10:23.395Z"
   },
   {
    "duration": 24,
    "start_time": "2022-07-18T18:10:23.454Z"
   },
   {
    "duration": 114,
    "start_time": "2022-07-18T18:10:23.486Z"
   },
   {
    "duration": 91,
    "start_time": "2022-07-18T18:10:23.602Z"
   },
   {
    "duration": 72,
    "start_time": "2022-07-18T18:10:23.695Z"
   },
   {
    "duration": 14,
    "start_time": "2022-07-18T18:10:23.769Z"
   },
   {
    "duration": 30,
    "start_time": "2022-07-18T18:10:23.785Z"
   },
   {
    "duration": 41,
    "start_time": "2022-07-18T18:10:31.635Z"
   },
   {
    "duration": 13,
    "start_time": "2022-07-18T18:10:41.898Z"
   },
   {
    "duration": 27,
    "start_time": "2022-07-18T18:10:51.504Z"
   },
   {
    "duration": 11,
    "start_time": "2022-07-18T18:13:05.529Z"
   },
   {
    "duration": 15,
    "start_time": "2022-07-18T18:16:21.640Z"
   },
   {
    "duration": 1440,
    "start_time": "2022-07-18T18:21:17.189Z"
   },
   {
    "duration": 2,
    "start_time": "2022-07-18T18:21:18.631Z"
   },
   {
    "duration": 300,
    "start_time": "2022-07-18T18:21:18.635Z"
   },
   {
    "duration": 3,
    "start_time": "2022-07-18T18:21:18.937Z"
   },
   {
    "duration": 83,
    "start_time": "2022-07-18T18:21:18.943Z"
   },
   {
    "duration": 37,
    "start_time": "2022-07-18T18:21:19.028Z"
   },
   {
    "duration": 106,
    "start_time": "2022-07-18T18:21:19.071Z"
   },
   {
    "duration": 99,
    "start_time": "2022-07-18T18:21:19.180Z"
   },
   {
    "duration": 74,
    "start_time": "2022-07-18T18:21:19.280Z"
   },
   {
    "duration": 6,
    "start_time": "2022-07-18T18:21:19.356Z"
   },
   {
    "duration": 68,
    "start_time": "2022-07-18T18:21:19.364Z"
   },
   {
    "duration": 48,
    "start_time": "2022-07-18T18:21:19.434Z"
   },
   {
    "duration": 21,
    "start_time": "2022-07-18T18:21:19.484Z"
   },
   {
    "duration": 35,
    "start_time": "2022-07-18T18:21:19.507Z"
   },
   {
    "duration": 37,
    "start_time": "2022-07-18T18:21:19.544Z"
   },
   {
    "duration": 1593,
    "start_time": "2022-07-18T18:42:01.507Z"
   },
   {
    "duration": 7,
    "start_time": "2022-07-18T18:42:03.104Z"
   },
   {
    "duration": 329,
    "start_time": "2022-07-18T18:42:03.113Z"
   },
   {
    "duration": 3,
    "start_time": "2022-07-18T18:42:03.444Z"
   },
   {
    "duration": 84,
    "start_time": "2022-07-18T18:42:03.450Z"
   },
   {
    "duration": 20,
    "start_time": "2022-07-18T18:42:03.536Z"
   },
   {
    "duration": 138,
    "start_time": "2022-07-18T18:42:03.558Z"
   },
   {
    "duration": 120,
    "start_time": "2022-07-18T18:42:03.697Z"
   },
   {
    "duration": 81,
    "start_time": "2022-07-18T18:42:03.819Z"
   },
   {
    "duration": 12,
    "start_time": "2022-07-18T18:42:03.901Z"
   },
   {
    "duration": 20,
    "start_time": "2022-07-18T18:42:03.915Z"
   },
   {
    "duration": 45,
    "start_time": "2022-07-18T18:42:03.937Z"
   },
   {
    "duration": 16,
    "start_time": "2022-07-18T18:42:03.987Z"
   },
   {
    "duration": 41,
    "start_time": "2022-07-18T18:42:04.006Z"
   },
   {
    "duration": 21,
    "start_time": "2022-07-18T18:42:04.048Z"
   },
   {
    "duration": 42,
    "start_time": "2022-07-18T18:42:04.070Z"
   },
   {
    "duration": 101,
    "start_time": "2022-07-18T18:42:04.114Z"
   },
   {
    "duration": 61,
    "start_time": "2022-07-18T18:42:04.217Z"
   },
   {
    "duration": 25,
    "start_time": "2022-07-18T18:42:04.280Z"
   },
   {
    "duration": 18,
    "start_time": "2022-07-18T18:42:04.307Z"
   },
   {
    "duration": 21,
    "start_time": "2022-07-18T18:42:04.326Z"
   },
   {
    "duration": 42,
    "start_time": "2022-07-18T18:42:04.349Z"
   },
   {
    "duration": 67,
    "start_time": "2022-07-18T18:42:04.392Z"
   },
   {
    "duration": 40,
    "start_time": "2022-07-18T18:42:04.461Z"
   },
   {
    "duration": 31,
    "start_time": "2022-07-18T18:42:04.503Z"
   },
   {
    "duration": 14,
    "start_time": "2022-07-18T18:42:04.536Z"
   },
   {
    "duration": 47,
    "start_time": "2022-07-18T18:42:04.551Z"
   },
   {
    "duration": 40,
    "start_time": "2022-07-18T18:42:04.600Z"
   },
   {
    "duration": 14,
    "start_time": "2022-07-18T18:42:04.642Z"
   },
   {
    "duration": 66,
    "start_time": "2022-07-18T18:42:04.658Z"
   },
   {
    "duration": 25,
    "start_time": "2022-07-18T18:42:04.729Z"
   },
   {
    "duration": 90,
    "start_time": "2022-07-18T18:42:04.756Z"
   },
   {
    "duration": 6,
    "start_time": "2022-07-18T18:42:04.848Z"
   },
   {
    "duration": 146,
    "start_time": "2022-07-18T18:42:04.856Z"
   },
   {
    "duration": 21,
    "start_time": "2022-07-18T18:42:05.005Z"
   },
   {
    "duration": 7,
    "start_time": "2022-07-18T18:42:05.028Z"
   },
   {
    "duration": 1811,
    "start_time": "2022-07-18T18:42:05.037Z"
   },
   {
    "duration": 89,
    "start_time": "2022-07-18T18:42:14.857Z"
   },
   {
    "duration": 46,
    "start_time": "2022-07-18T18:42:33.701Z"
   },
   {
    "duration": 8,
    "start_time": "2022-07-18T18:42:34.103Z"
   },
   {
    "duration": 1541,
    "start_time": "2022-07-18T18:42:39.612Z"
   },
   {
    "duration": 2,
    "start_time": "2022-07-18T18:42:41.155Z"
   },
   {
    "duration": 519,
    "start_time": "2022-07-18T18:42:41.158Z"
   },
   {
    "duration": 7,
    "start_time": "2022-07-18T18:42:41.681Z"
   },
   {
    "duration": 220,
    "start_time": "2022-07-18T18:42:41.689Z"
   },
   {
    "duration": 69,
    "start_time": "2022-07-18T18:42:41.913Z"
   },
   {
    "duration": 310,
    "start_time": "2022-07-18T18:42:41.988Z"
   },
   {
    "duration": 282,
    "start_time": "2022-07-18T18:42:42.300Z"
   },
   {
    "duration": 215,
    "start_time": "2022-07-18T18:42:42.584Z"
   },
   {
    "duration": 13,
    "start_time": "2022-07-18T18:42:42.802Z"
   },
   {
    "duration": 92,
    "start_time": "2022-07-18T18:42:42.863Z"
   },
   {
    "duration": 60,
    "start_time": "2022-07-18T18:42:42.957Z"
   },
   {
    "duration": 106,
    "start_time": "2022-07-18T18:42:43.023Z"
   },
   {
    "duration": 67,
    "start_time": "2022-07-18T18:42:43.131Z"
   },
   {
    "duration": 64,
    "start_time": "2022-07-18T18:42:43.214Z"
   },
   {
    "duration": 28,
    "start_time": "2022-07-18T18:42:43.280Z"
   },
   {
    "duration": 224,
    "start_time": "2022-07-18T18:42:43.310Z"
   },
   {
    "duration": 80,
    "start_time": "2022-07-18T18:42:43.535Z"
   },
   {
    "duration": 16,
    "start_time": "2022-07-18T18:42:43.617Z"
   },
   {
    "duration": 12,
    "start_time": "2022-07-18T18:42:43.635Z"
   },
   {
    "duration": 31,
    "start_time": "2022-07-18T18:42:43.649Z"
   },
   {
    "duration": 45,
    "start_time": "2022-07-18T18:42:43.681Z"
   },
   {
    "duration": 45,
    "start_time": "2022-07-18T18:42:43.728Z"
   },
   {
    "duration": 26,
    "start_time": "2022-07-18T18:42:43.781Z"
   },
   {
    "duration": 16,
    "start_time": "2022-07-18T18:42:43.809Z"
   },
   {
    "duration": 14,
    "start_time": "2022-07-18T18:42:43.826Z"
   },
   {
    "duration": 45,
    "start_time": "2022-07-18T18:42:43.841Z"
   },
   {
    "duration": 51,
    "start_time": "2022-07-18T18:42:43.891Z"
   },
   {
    "duration": 14,
    "start_time": "2022-07-18T18:42:43.944Z"
   },
   {
    "duration": 29,
    "start_time": "2022-07-18T18:42:43.960Z"
   },
   {
    "duration": 40,
    "start_time": "2022-07-18T18:42:43.990Z"
   },
   {
    "duration": 65,
    "start_time": "2022-07-18T18:42:44.031Z"
   },
   {
    "duration": 7,
    "start_time": "2022-07-18T18:42:44.103Z"
   },
   {
    "duration": 69,
    "start_time": "2022-07-18T18:42:44.111Z"
   },
   {
    "duration": 24,
    "start_time": "2022-07-18T18:42:44.184Z"
   },
   {
    "duration": 10,
    "start_time": "2022-07-18T18:42:44.210Z"
   },
   {
    "duration": 1910,
    "start_time": "2022-07-18T18:42:44.222Z"
   },
   {
    "duration": 80,
    "start_time": "2022-07-18T18:42:55.002Z"
   },
   {
    "duration": 91,
    "start_time": "2022-07-18T18:43:09.252Z"
   },
   {
    "duration": 172,
    "start_time": "2022-07-18T18:43:13.541Z"
   },
   {
    "duration": 134,
    "start_time": "2022-07-18T18:43:30.858Z"
   },
   {
    "duration": 6,
    "start_time": "2022-07-18T18:43:34.301Z"
   },
   {
    "duration": 22,
    "start_time": "2022-07-18T18:43:38.210Z"
   },
   {
    "duration": 20,
    "start_time": "2022-07-18T18:47:48.114Z"
   },
   {
    "duration": 106,
    "start_time": "2022-07-18T18:47:53.509Z"
   },
   {
    "duration": 203,
    "start_time": "2022-07-18T18:48:05.632Z"
   },
   {
    "duration": 657,
    "start_time": "2022-07-18T18:57:25.300Z"
   },
   {
    "duration": 11,
    "start_time": "2022-07-18T19:05:08.102Z"
   },
   {
    "duration": 5,
    "start_time": "2022-07-18T19:05:12.058Z"
   },
   {
    "duration": 59,
    "start_time": "2022-07-18T19:05:16.108Z"
   },
   {
    "duration": 165,
    "start_time": "2022-07-18T19:06:22.907Z"
   },
   {
    "duration": 167,
    "start_time": "2022-07-18T19:06:39.246Z"
   },
   {
    "duration": 169,
    "start_time": "2022-07-18T19:08:24.235Z"
   },
   {
    "duration": 166,
    "start_time": "2022-07-18T19:08:39.356Z"
   },
   {
    "duration": 202,
    "start_time": "2022-07-18T19:09:31.343Z"
   },
   {
    "duration": 6,
    "start_time": "2022-07-18T19:13:54.795Z"
   },
   {
    "duration": 157,
    "start_time": "2022-07-18T19:14:18.818Z"
   },
   {
    "duration": 200,
    "start_time": "2022-07-18T19:14:24.112Z"
   },
   {
    "duration": 187,
    "start_time": "2022-07-18T19:15:04.801Z"
   },
   {
    "duration": 1525,
    "start_time": "2022-07-18T19:21:12.437Z"
   },
   {
    "duration": 5,
    "start_time": "2022-07-18T19:21:13.972Z"
   },
   {
    "duration": 278,
    "start_time": "2022-07-18T19:21:13.983Z"
   },
   {
    "duration": 5,
    "start_time": "2022-07-18T19:21:14.263Z"
   },
   {
    "duration": 66,
    "start_time": "2022-07-18T19:21:14.273Z"
   },
   {
    "duration": 18,
    "start_time": "2022-07-18T19:21:14.340Z"
   },
   {
    "duration": 96,
    "start_time": "2022-07-18T19:21:14.360Z"
   },
   {
    "duration": 89,
    "start_time": "2022-07-18T19:21:14.457Z"
   },
   {
    "duration": 81,
    "start_time": "2022-07-18T19:21:14.548Z"
   },
   {
    "duration": 9,
    "start_time": "2022-07-18T19:21:14.632Z"
   },
   {
    "duration": 52,
    "start_time": "2022-07-18T19:21:14.642Z"
   },
   {
    "duration": 35,
    "start_time": "2022-07-18T19:21:14.696Z"
   },
   {
    "duration": 12,
    "start_time": "2022-07-18T19:21:14.733Z"
   },
   {
    "duration": 47,
    "start_time": "2022-07-18T19:21:14.746Z"
   },
   {
    "duration": 8,
    "start_time": "2022-07-18T19:21:14.796Z"
   },
   {
    "duration": 14,
    "start_time": "2022-07-18T19:21:14.805Z"
   },
   {
    "duration": 105,
    "start_time": "2022-07-18T19:21:14.821Z"
   },
   {
    "duration": 65,
    "start_time": "2022-07-18T19:21:14.927Z"
   },
   {
    "duration": 12,
    "start_time": "2022-07-18T19:21:14.994Z"
   },
   {
    "duration": 36,
    "start_time": "2022-07-18T19:21:15.007Z"
   },
   {
    "duration": 19,
    "start_time": "2022-07-18T19:21:15.044Z"
   },
   {
    "duration": 28,
    "start_time": "2022-07-18T19:21:15.064Z"
   },
   {
    "duration": 39,
    "start_time": "2022-07-18T19:21:15.094Z"
   },
   {
    "duration": 16,
    "start_time": "2022-07-18T19:21:15.135Z"
   },
   {
    "duration": 21,
    "start_time": "2022-07-18T19:21:15.152Z"
   },
   {
    "duration": 39,
    "start_time": "2022-07-18T19:21:15.175Z"
   },
   {
    "duration": 15,
    "start_time": "2022-07-18T19:21:15.215Z"
   },
   {
    "duration": 28,
    "start_time": "2022-07-18T19:21:15.233Z"
   },
   {
    "duration": 24,
    "start_time": "2022-07-18T19:21:15.263Z"
   },
   {
    "duration": 22,
    "start_time": "2022-07-18T19:21:15.289Z"
   },
   {
    "duration": 7,
    "start_time": "2022-07-18T19:21:15.313Z"
   },
   {
    "duration": 80,
    "start_time": "2022-07-18T19:21:15.322Z"
   },
   {
    "duration": 8,
    "start_time": "2022-07-18T19:21:15.404Z"
   },
   {
    "duration": 68,
    "start_time": "2022-07-18T19:21:15.413Z"
   },
   {
    "duration": 12,
    "start_time": "2022-07-18T19:21:15.487Z"
   },
   {
    "duration": 4,
    "start_time": "2022-07-18T19:21:15.500Z"
   },
   {
    "duration": 1630,
    "start_time": "2022-07-18T19:21:15.506Z"
   },
   {
    "duration": 84,
    "start_time": "2022-07-18T19:21:17.138Z"
   },
   {
    "duration": 87,
    "start_time": "2022-07-18T19:21:17.223Z"
   },
   {
    "duration": 169,
    "start_time": "2022-07-18T19:21:17.311Z"
   },
   {
    "duration": 112,
    "start_time": "2022-07-18T19:21:17.485Z"
   },
   {
    "duration": 5,
    "start_time": "2022-07-18T19:21:17.599Z"
   },
   {
    "duration": 23,
    "start_time": "2022-07-18T19:21:17.605Z"
   },
   {
    "duration": 18,
    "start_time": "2022-07-18T19:21:17.629Z"
   },
   {
    "duration": 179,
    "start_time": "2022-07-18T19:21:17.649Z"
   },
   {
    "duration": 579,
    "start_time": "2022-07-18T19:21:17.830Z"
   },
   {
    "duration": 190,
    "start_time": "2022-07-18T19:21:18.410Z"
   },
   {
    "duration": 6,
    "start_time": "2022-07-18T19:26:20.103Z"
   },
   {
    "duration": 899,
    "start_time": "2022-07-18T19:26:22.047Z"
   },
   {
    "duration": 60,
    "start_time": "2022-07-18T19:26:26.191Z"
   },
   {
    "duration": 5,
    "start_time": "2022-07-18T19:27:03.788Z"
   },
   {
    "duration": 4,
    "start_time": "2022-07-18T19:38:45.421Z"
   },
   {
    "duration": 516378,
    "start_time": "2022-07-18T19:41:25.622Z"
   },
   {
    "duration": 142815,
    "start_time": "2022-07-18T20:11:35.739Z"
   },
   {
    "duration": 140226,
    "start_time": "2022-07-18T20:14:06.566Z"
   },
   {
    "duration": 181942,
    "start_time": "2022-07-18T20:17:04.563Z"
   },
   {
    "duration": 6005,
    "start_time": "2022-07-18T20:22:49.193Z"
   },
   {
    "duration": 6319,
    "start_time": "2022-07-18T20:42:05.277Z"
   },
   {
    "duration": 95371,
    "start_time": "2022-07-18T20:51:01.777Z"
   },
   {
    "duration": 306422,
    "start_time": "2022-07-18T20:52:46.607Z"
   },
   {
    "duration": 4613,
    "start_time": "2022-07-18T21:03:58.663Z"
   },
   {
    "duration": 938858,
    "start_time": "2022-07-18T21:05:25.154Z"
   },
   {
    "duration": 4,
    "start_time": "2022-07-18T21:21:04.014Z"
   },
   {
    "duration": 4512,
    "start_time": "2022-07-18T21:25:26.900Z"
   },
   {
    "duration": 4,
    "start_time": "2022-07-18T21:25:45.640Z"
   },
   {
    "duration": 292240,
    "start_time": "2022-07-18T21:25:56.580Z"
   },
   {
    "duration": 81,
    "start_time": "2022-07-18T21:34:01.479Z"
   },
   {
    "duration": 5604,
    "start_time": "2022-07-18T21:34:10.374Z"
   },
   {
    "duration": 380041,
    "start_time": "2022-07-18T21:35:30.385Z"
   },
   {
    "duration": 2524,
    "start_time": "2022-07-18T21:44:28.603Z"
   },
   {
    "duration": 4,
    "start_time": "2022-07-18T21:44:45.056Z"
   },
   {
    "duration": 13,
    "start_time": "2022-07-18T21:45:03.013Z"
   },
   {
    "duration": 640,
    "start_time": "2022-07-18T21:45:37.580Z"
   },
   {
    "duration": 4,
    "start_time": "2022-07-18T21:45:42.673Z"
   },
   {
    "duration": 2473,
    "start_time": "2022-07-18T21:45:48.581Z"
   },
   {
    "duration": 670,
    "start_time": "2022-07-18T21:45:52.602Z"
   },
   {
    "duration": 48,
    "start_time": "2022-07-18T21:53:16.970Z"
   },
   {
    "duration": 5,
    "start_time": "2022-07-18T21:53:22.951Z"
   },
   {
    "duration": 34,
    "start_time": "2022-07-18T21:53:26.423Z"
   },
   {
    "duration": 5,
    "start_time": "2022-07-18T21:53:51.388Z"
   },
   {
    "duration": 966,
    "start_time": "2022-07-18T21:53:52.877Z"
   },
   {
    "duration": 58,
    "start_time": "2022-07-18T21:53:57.165Z"
   },
   {
    "duration": 13,
    "start_time": "2022-07-18T21:54:10.071Z"
   },
   {
    "duration": 4,
    "start_time": "2022-07-18T21:54:25.525Z"
   },
   {
    "duration": 210,
    "start_time": "2022-07-18T21:54:26.926Z"
   },
   {
    "duration": 152,
    "start_time": "2022-07-18T21:54:29.157Z"
   },
   {
    "duration": 144,
    "start_time": "2022-07-18T21:54:31.332Z"
   },
   {
    "duration": 177,
    "start_time": "2022-07-18T21:54:33.563Z"
   },
   {
    "duration": 144,
    "start_time": "2022-07-18T21:54:35.240Z"
   },
   {
    "duration": 124,
    "start_time": "2022-07-18T21:54:36.711Z"
   },
   {
    "duration": 1434,
    "start_time": "2022-07-18T21:55:11.488Z"
   },
   {
    "duration": 2,
    "start_time": "2022-07-18T21:55:12.924Z"
   },
   {
    "duration": 278,
    "start_time": "2022-07-18T21:55:12.928Z"
   },
   {
    "duration": 3,
    "start_time": "2022-07-18T21:55:13.208Z"
   },
   {
    "duration": 61,
    "start_time": "2022-07-18T21:55:13.212Z"
   },
   {
    "duration": 16,
    "start_time": "2022-07-18T21:55:13.275Z"
   },
   {
    "duration": 110,
    "start_time": "2022-07-18T21:55:13.293Z"
   },
   {
    "duration": 95,
    "start_time": "2022-07-18T21:55:13.405Z"
   },
   {
    "duration": 76,
    "start_time": "2022-07-18T21:55:13.501Z"
   },
   {
    "duration": 6,
    "start_time": "2022-07-18T21:55:13.580Z"
   },
   {
    "duration": 16,
    "start_time": "2022-07-18T21:55:13.587Z"
   },
   {
    "duration": 61,
    "start_time": "2022-07-18T21:55:13.604Z"
   },
   {
    "duration": 12,
    "start_time": "2022-07-18T21:55:13.666Z"
   },
   {
    "duration": 24,
    "start_time": "2022-07-18T21:55:13.679Z"
   },
   {
    "duration": 7,
    "start_time": "2022-07-18T21:55:13.705Z"
   },
   {
    "duration": 53,
    "start_time": "2022-07-18T21:55:13.714Z"
   },
   {
    "duration": 96,
    "start_time": "2022-07-18T21:55:13.769Z"
   },
   {
    "duration": 52,
    "start_time": "2022-07-18T21:55:13.866Z"
   },
   {
    "duration": 12,
    "start_time": "2022-07-18T21:55:13.919Z"
   },
   {
    "duration": 40,
    "start_time": "2022-07-18T21:55:13.933Z"
   },
   {
    "duration": 20,
    "start_time": "2022-07-18T21:55:13.975Z"
   },
   {
    "duration": 15,
    "start_time": "2022-07-18T21:55:13.996Z"
   },
   {
    "duration": 55,
    "start_time": "2022-07-18T21:55:14.013Z"
   },
   {
    "duration": 17,
    "start_time": "2022-07-18T21:55:14.069Z"
   },
   {
    "duration": 15,
    "start_time": "2022-07-18T21:55:14.088Z"
   },
   {
    "duration": 14,
    "start_time": "2022-07-18T21:55:14.105Z"
   },
   {
    "duration": 49,
    "start_time": "2022-07-18T21:55:14.121Z"
   },
   {
    "duration": 29,
    "start_time": "2022-07-18T21:55:14.175Z"
   },
   {
    "duration": 20,
    "start_time": "2022-07-18T21:55:14.206Z"
   },
   {
    "duration": 15,
    "start_time": "2022-07-18T21:55:14.227Z"
   },
   {
    "duration": 7,
    "start_time": "2022-07-18T21:55:14.264Z"
   },
   {
    "duration": 48,
    "start_time": "2022-07-18T21:55:14.272Z"
   },
   {
    "duration": 7,
    "start_time": "2022-07-18T21:55:14.322Z"
   },
   {
    "duration": 83,
    "start_time": "2022-07-18T21:55:14.330Z"
   },
   {
    "duration": 9,
    "start_time": "2022-07-18T21:55:14.415Z"
   },
   {
    "duration": 4,
    "start_time": "2022-07-18T21:55:14.426Z"
   },
   {
    "duration": 1491,
    "start_time": "2022-07-18T21:55:14.432Z"
   },
   {
    "duration": 73,
    "start_time": "2022-07-18T21:55:15.924Z"
   },
   {
    "duration": 82,
    "start_time": "2022-07-18T21:55:15.998Z"
   },
   {
    "duration": 161,
    "start_time": "2022-07-18T21:55:16.081Z"
   },
   {
    "duration": 129,
    "start_time": "2022-07-18T21:55:16.244Z"
   },
   {
    "duration": 5,
    "start_time": "2022-07-18T21:55:16.374Z"
   },
   {
    "duration": 25,
    "start_time": "2022-07-18T21:55:16.381Z"
   },
   {
    "duration": 24,
    "start_time": "2022-07-18T21:55:16.408Z"
   },
   {
    "duration": 243,
    "start_time": "2022-07-18T21:55:16.434Z"
   },
   {
    "duration": 705,
    "start_time": "2022-07-18T21:55:16.679Z"
   },
   {
    "duration": 166,
    "start_time": "2022-07-18T21:55:17.386Z"
   },
   {
    "duration": 11,
    "start_time": "2022-07-18T21:55:17.553Z"
   },
   {
    "duration": 787,
    "start_time": "2022-07-18T21:55:17.566Z"
   },
   {
    "duration": 53,
    "start_time": "2022-07-18T21:55:18.355Z"
   },
   {
    "duration": 5,
    "start_time": "2022-07-18T21:55:18.410Z"
   },
   {
    "duration": 11,
    "start_time": "2022-07-18T21:55:18.416Z"
   },
   {
    "duration": 5338,
    "start_time": "2022-07-18T21:55:18.429Z"
   },
   {
    "duration": 95,
    "start_time": "2022-07-18T21:55:23.769Z"
   },
   {
    "duration": 2550,
    "start_time": "2022-07-18T21:55:23.866Z"
   },
   {
    "duration": 635,
    "start_time": "2022-07-18T21:55:26.417Z"
   },
   {
    "duration": 48,
    "start_time": "2022-07-18T21:55:27.054Z"
   },
   {
    "duration": 4,
    "start_time": "2022-07-18T21:55:27.104Z"
   },
   {
    "duration": 930,
    "start_time": "2022-07-18T21:55:27.109Z"
   },
   {
    "duration": 53,
    "start_time": "2022-07-18T21:55:28.041Z"
   },
   {
    "duration": 11,
    "start_time": "2022-07-18T21:55:28.096Z"
   },
   {
    "duration": 5,
    "start_time": "2022-07-18T21:55:28.108Z"
   },
   {
    "duration": 229,
    "start_time": "2022-07-18T21:55:28.115Z"
   },
   {
    "duration": 266,
    "start_time": "2022-07-18T21:55:28.346Z"
   },
   {
    "duration": 166,
    "start_time": "2022-07-18T21:55:28.614Z"
   },
   {
    "duration": 172,
    "start_time": "2022-07-18T21:55:28.781Z"
   },
   {
    "duration": 154,
    "start_time": "2022-07-18T21:55:28.954Z"
   },
   {
    "duration": 143,
    "start_time": "2022-07-18T21:55:29.110Z"
   },
   {
    "duration": 87,
    "start_time": "2022-07-18T21:55:29.255Z"
   },
   {
    "duration": 21,
    "start_time": "2022-07-18T21:55:29.344Z"
   },
   {
    "duration": 24,
    "start_time": "2022-07-18T21:55:29.367Z"
   },
   {
    "duration": 7,
    "start_time": "2022-07-18T21:55:29.394Z"
   },
   {
    "duration": 10,
    "start_time": "2022-07-18T21:55:29.403Z"
   },
   {
    "duration": 7,
    "start_time": "2022-07-18T21:55:29.415Z"
   },
   {
    "duration": 5,
    "start_time": "2022-07-18T21:55:29.424Z"
   },
   {
    "duration": 5,
    "start_time": "2022-07-18T21:55:29.431Z"
   },
   {
    "duration": 6,
    "start_time": "2022-07-18T21:55:29.437Z"
   },
   {
    "duration": 33,
    "start_time": "2022-07-18T21:55:29.444Z"
   },
   {
    "duration": 5,
    "start_time": "2022-07-18T21:55:29.479Z"
   },
   {
    "duration": 5,
    "start_time": "2022-07-18T21:55:29.485Z"
   },
   {
    "duration": 6,
    "start_time": "2022-07-18T21:55:29.492Z"
   },
   {
    "duration": 4,
    "start_time": "2022-07-18T21:55:29.505Z"
   },
   {
    "duration": 24,
    "start_time": "2022-07-18T21:55:29.511Z"
   },
   {
    "duration": 140,
    "start_time": "2022-07-18T21:55:29.537Z"
   },
   {
    "duration": 0,
    "start_time": "2022-07-18T21:55:29.679Z"
   },
   {
    "duration": 1353,
    "start_time": "2022-07-18T22:00:39.210Z"
   },
   {
    "duration": 3,
    "start_time": "2022-07-18T22:00:40.566Z"
   },
   {
    "duration": 296,
    "start_time": "2022-07-18T22:00:40.570Z"
   },
   {
    "duration": 3,
    "start_time": "2022-07-18T22:00:40.868Z"
   },
   {
    "duration": 48,
    "start_time": "2022-07-18T22:00:40.872Z"
   },
   {
    "duration": 17,
    "start_time": "2022-07-18T22:00:40.921Z"
   },
   {
    "duration": 105,
    "start_time": "2022-07-18T22:00:40.940Z"
   },
   {
    "duration": 88,
    "start_time": "2022-07-18T22:00:41.046Z"
   },
   {
    "duration": 71,
    "start_time": "2022-07-18T22:00:41.136Z"
   },
   {
    "duration": 7,
    "start_time": "2022-07-18T22:00:41.210Z"
   },
   {
    "duration": 21,
    "start_time": "2022-07-18T22:00:41.218Z"
   },
   {
    "duration": 55,
    "start_time": "2022-07-18T22:00:41.240Z"
   },
   {
    "duration": 12,
    "start_time": "2022-07-18T22:00:41.297Z"
   },
   {
    "duration": 27,
    "start_time": "2022-07-18T22:00:41.310Z"
   },
   {
    "duration": 31,
    "start_time": "2022-07-18T22:00:41.339Z"
   },
   {
    "duration": 15,
    "start_time": "2022-07-18T22:00:41.372Z"
   },
   {
    "duration": 103,
    "start_time": "2022-07-18T22:00:41.389Z"
   },
   {
    "duration": 52,
    "start_time": "2022-07-18T22:00:41.494Z"
   },
   {
    "duration": 25,
    "start_time": "2022-07-18T22:00:41.548Z"
   },
   {
    "duration": 13,
    "start_time": "2022-07-18T22:00:41.575Z"
   },
   {
    "duration": 21,
    "start_time": "2022-07-18T22:00:41.590Z"
   },
   {
    "duration": 14,
    "start_time": "2022-07-18T22:00:41.613Z"
   },
   {
    "duration": 57,
    "start_time": "2022-07-18T22:00:41.628Z"
   },
   {
    "duration": 17,
    "start_time": "2022-07-18T22:00:41.687Z"
   },
   {
    "duration": 15,
    "start_time": "2022-07-18T22:00:41.705Z"
   },
   {
    "duration": 44,
    "start_time": "2022-07-18T22:00:41.722Z"
   },
   {
    "duration": 14,
    "start_time": "2022-07-18T22:00:41.768Z"
   },
   {
    "duration": 32,
    "start_time": "2022-07-18T22:00:41.786Z"
   },
   {
    "duration": 16,
    "start_time": "2022-07-18T22:00:41.819Z"
   },
   {
    "duration": 40,
    "start_time": "2022-07-18T22:00:41.837Z"
   },
   {
    "duration": 6,
    "start_time": "2022-07-18T22:00:41.879Z"
   },
   {
    "duration": 49,
    "start_time": "2022-07-18T22:00:41.887Z"
   },
   {
    "duration": 30,
    "start_time": "2022-07-18T22:00:41.938Z"
   },
   {
    "duration": 49,
    "start_time": "2022-07-18T22:00:41.971Z"
   },
   {
    "duration": 11,
    "start_time": "2022-07-18T22:00:42.022Z"
   },
   {
    "duration": 4,
    "start_time": "2022-07-18T22:00:42.064Z"
   },
   {
    "duration": 1469,
    "start_time": "2022-07-18T22:00:42.069Z"
   },
   {
    "duration": 73,
    "start_time": "2022-07-18T22:00:43.539Z"
   },
   {
    "duration": 78,
    "start_time": "2022-07-18T22:00:43.614Z"
   },
   {
    "duration": 137,
    "start_time": "2022-07-18T22:00:43.694Z"
   },
   {
    "duration": 127,
    "start_time": "2022-07-18T22:00:43.833Z"
   },
   {
    "duration": 5,
    "start_time": "2022-07-18T22:00:43.963Z"
   },
   {
    "duration": 23,
    "start_time": "2022-07-18T22:00:43.969Z"
   },
   {
    "duration": 21,
    "start_time": "2022-07-18T22:00:43.993Z"
   },
   {
    "duration": 170,
    "start_time": "2022-07-18T22:00:44.015Z"
   },
   {
    "duration": 613,
    "start_time": "2022-07-18T22:00:44.186Z"
   },
   {
    "duration": 166,
    "start_time": "2022-07-18T22:00:44.801Z"
   },
   {
    "duration": 5,
    "start_time": "2022-07-18T22:00:44.969Z"
   },
   {
    "duration": 791,
    "start_time": "2022-07-18T22:00:44.976Z"
   },
   {
    "duration": 57,
    "start_time": "2022-07-18T22:00:45.769Z"
   },
   {
    "duration": 5,
    "start_time": "2022-07-18T22:00:45.828Z"
   },
   {
    "duration": 9,
    "start_time": "2022-07-18T22:00:45.835Z"
   },
   {
    "duration": 5324,
    "start_time": "2022-07-18T22:00:45.846Z"
   },
   {
    "duration": 92,
    "start_time": "2022-07-18T22:00:51.173Z"
   },
   {
    "duration": 2536,
    "start_time": "2022-07-18T22:00:51.267Z"
   },
   {
    "duration": 668,
    "start_time": "2022-07-18T22:00:53.805Z"
   },
   {
    "duration": 48,
    "start_time": "2022-07-18T22:00:54.475Z"
   },
   {
    "duration": 4,
    "start_time": "2022-07-18T22:00:54.525Z"
   },
   {
    "duration": 1280,
    "start_time": "2022-07-18T22:00:54.531Z"
   },
   {
    "duration": 153,
    "start_time": "2022-07-18T22:00:55.812Z"
   },
   {
    "duration": 9,
    "start_time": "2022-07-18T22:00:55.967Z"
   },
   {
    "duration": 4,
    "start_time": "2022-07-18T22:00:55.978Z"
   },
   {
    "duration": 419,
    "start_time": "2022-07-18T22:00:55.983Z"
   },
   {
    "duration": 499,
    "start_time": "2022-07-18T22:00:56.404Z"
   },
   {
    "duration": 215,
    "start_time": "2022-07-18T22:00:56.905Z"
   },
   {
    "duration": 170,
    "start_time": "2022-07-18T22:00:57.122Z"
   },
   {
    "duration": 166,
    "start_time": "2022-07-18T22:00:57.294Z"
   },
   {
    "duration": 138,
    "start_time": "2022-07-18T22:00:57.462Z"
   },
   {
    "duration": 91,
    "start_time": "2022-07-18T22:00:57.602Z"
   },
   {
    "duration": 8,
    "start_time": "2022-07-18T22:00:57.695Z"
   },
   {
    "duration": 9,
    "start_time": "2022-07-18T22:00:57.705Z"
   },
   {
    "duration": 5,
    "start_time": "2022-07-18T22:00:57.716Z"
   },
   {
    "duration": 4,
    "start_time": "2022-07-18T22:00:57.723Z"
   },
   {
    "duration": 35,
    "start_time": "2022-07-18T22:00:57.728Z"
   },
   {
    "duration": 4,
    "start_time": "2022-07-18T22:00:57.765Z"
   },
   {
    "duration": 6,
    "start_time": "2022-07-18T22:00:57.770Z"
   },
   {
    "duration": 8,
    "start_time": "2022-07-18T22:00:57.778Z"
   },
   {
    "duration": 25,
    "start_time": "2022-07-18T22:00:57.788Z"
   },
   {
    "duration": 4,
    "start_time": "2022-07-18T22:00:57.815Z"
   },
   {
    "duration": 6,
    "start_time": "2022-07-18T22:00:57.821Z"
   },
   {
    "duration": 10,
    "start_time": "2022-07-18T22:00:57.828Z"
   },
   {
    "duration": 6,
    "start_time": "2022-07-18T22:00:57.863Z"
   },
   {
    "duration": 22,
    "start_time": "2022-07-18T22:00:57.871Z"
   },
   {
    "duration": 124,
    "start_time": "2022-07-18T22:00:57.895Z"
   },
   {
    "duration": 0,
    "start_time": "2022-07-18T22:00:58.021Z"
   }
  ],
  "kernelspec": {
   "display_name": "Python 3 (ipykernel)",
   "language": "python",
   "name": "python3"
  },
  "language_info": {
   "codemirror_mode": {
    "name": "ipython",
    "version": 3
   },
   "file_extension": ".py",
   "mimetype": "text/x-python",
   "name": "python",
   "nbconvert_exporter": "python",
   "pygments_lexer": "ipython3",
   "version": "3.11.5"
  },
  "toc": {
   "base_numbering": 1,
   "nav_menu": {},
   "number_sections": true,
   "sideBar": true,
   "skip_h1_title": true,
   "title_cell": "Table of Contents",
   "title_sidebar": "Contents",
   "toc_cell": true,
   "toc_position": {
    "height": "calc(100% - 180px)",
    "left": "10px",
    "top": "150px",
    "width": "409px"
   },
   "toc_section_display": true,
   "toc_window_display": true
  },
  "toc-autonumbering": true
 },
 "nbformat": 4,
 "nbformat_minor": 4
}
