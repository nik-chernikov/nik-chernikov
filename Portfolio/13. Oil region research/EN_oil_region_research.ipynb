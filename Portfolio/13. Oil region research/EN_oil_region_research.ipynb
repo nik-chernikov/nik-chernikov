{
 "cells": [
  {
   "cell_type": "markdown",
   "metadata": {},
   "source": "# Determining the most profitable oil production region"
  },
  {
   "cell_type": "markdown",
   "metadata": {},
   "source": [
    "Our task is to help an oil production company decide where to drill a new well.\n",
    "\n",
    "We are provided with oil samples from three regions: each with 10,000 fields, where the oil quality and reserve volume have been measured. We need to build a machine learning model that will help determine the region where production will be most profitable. We will analyze the potential profit and risks using the Bootstrap technique.\n",
    "\n",
    "Steps for selecting a location:\n",
    "\n",
    "- Search for deposits in the selected region and determine the values for each;\n",
    "- Build a model and estimate the reserve volume;\n",
    "- Select deposits with the highest estimated values. The number of deposits depends on the company's budget and the cost of developing a single well;\n",
    "- Profit equals the total profit from the selected deposits."
   ]
  },
  {
   "cell_type": "markdown",
   "metadata": {},
   "source": "## Loading and preparing data"
  },
  {
   "cell_type": "markdown",
   "metadata": {},
   "source": "### Data overview"
  },
  {
   "cell_type": "code",
   "execution_count": 1,
   "metadata": {},
   "outputs": [],
   "source": [
    "import pandas as pd\n",
    "import numpy as np\n",
    "\n",
    "from sklearn.model_selection import train_test_split\n",
    "from sklearn.linear_model import LinearRegression\n",
    "from sklearn.metrics import mean_squared_error\n",
    "from sklearn.model_selection import cross_val_score\n",
    "from sklearn.preprocessing import StandardScaler\n",
    "\n",
    "from numpy.random import RandomState"
   ]
  },
  {
   "cell_type": "code",
   "execution_count": 2,
   "metadata": {},
   "outputs": [],
   "source": [
    "# Disable the chain assignment warning\n",
    "pd.options.mode.chained_assignment = None"
   ]
  },
  {
   "cell_type": "code",
   "execution_count": 3,
   "metadata": {},
   "outputs": [
    {
     "data": {
      "text/html": [
       "<div>\n",
       "<style scoped>\n",
       "    .dataframe tbody tr th:only-of-type {\n",
       "        vertical-align: middle;\n",
       "    }\n",
       "\n",
       "    .dataframe tbody tr th {\n",
       "        vertical-align: top;\n",
       "    }\n",
       "\n",
       "    .dataframe thead th {\n",
       "        text-align: right;\n",
       "    }\n",
       "</style>\n",
       "<table border=\"1\" class=\"dataframe\">\n",
       "  <thead>\n",
       "    <tr style=\"text-align: right;\">\n",
       "      <th></th>\n",
       "      <th>id</th>\n",
       "      <th>f0</th>\n",
       "      <th>f1</th>\n",
       "      <th>f2</th>\n",
       "      <th>product</th>\n",
       "    </tr>\n",
       "  </thead>\n",
       "  <tbody>\n",
       "    <tr>\n",
       "      <th>0</th>\n",
       "      <td>txEyH</td>\n",
       "      <td>0.705745</td>\n",
       "      <td>-0.497823</td>\n",
       "      <td>1.221170</td>\n",
       "      <td>105.280062</td>\n",
       "    </tr>\n",
       "    <tr>\n",
       "      <th>1</th>\n",
       "      <td>2acmU</td>\n",
       "      <td>1.334711</td>\n",
       "      <td>-0.340164</td>\n",
       "      <td>4.365080</td>\n",
       "      <td>73.037750</td>\n",
       "    </tr>\n",
       "    <tr>\n",
       "      <th>2</th>\n",
       "      <td>409Wp</td>\n",
       "      <td>1.022732</td>\n",
       "      <td>0.151990</td>\n",
       "      <td>1.419926</td>\n",
       "      <td>85.265647</td>\n",
       "    </tr>\n",
       "    <tr>\n",
       "      <th>3</th>\n",
       "      <td>iJLyR</td>\n",
       "      <td>-0.032172</td>\n",
       "      <td>0.139033</td>\n",
       "      <td>2.978566</td>\n",
       "      <td>168.620776</td>\n",
       "    </tr>\n",
       "    <tr>\n",
       "      <th>4</th>\n",
       "      <td>Xdl7t</td>\n",
       "      <td>1.988431</td>\n",
       "      <td>0.155413</td>\n",
       "      <td>4.751769</td>\n",
       "      <td>154.036647</td>\n",
       "    </tr>\n",
       "  </tbody>\n",
       "</table>\n",
       "</div>"
      ],
      "text/plain": [
       "      id        f0        f1        f2     product\n",
       "0  txEyH  0.705745 -0.497823  1.221170  105.280062\n",
       "1  2acmU  1.334711 -0.340164  4.365080   73.037750\n",
       "2  409Wp  1.022732  0.151990  1.419926   85.265647\n",
       "3  iJLyR -0.032172  0.139033  2.978566  168.620776\n",
       "4  Xdl7t  1.988431  0.155413  4.751769  154.036647"
      ]
     },
     "metadata": {},
     "output_type": "display_data"
    },
    {
     "data": {
      "text/html": [
       "<div>\n",
       "<style scoped>\n",
       "    .dataframe tbody tr th:only-of-type {\n",
       "        vertical-align: middle;\n",
       "    }\n",
       "\n",
       "    .dataframe tbody tr th {\n",
       "        vertical-align: top;\n",
       "    }\n",
       "\n",
       "    .dataframe thead th {\n",
       "        text-align: right;\n",
       "    }\n",
       "</style>\n",
       "<table border=\"1\" class=\"dataframe\">\n",
       "  <thead>\n",
       "    <tr style=\"text-align: right;\">\n",
       "      <th></th>\n",
       "      <th>id</th>\n",
       "      <th>f0</th>\n",
       "      <th>f1</th>\n",
       "      <th>f2</th>\n",
       "      <th>product</th>\n",
       "    </tr>\n",
       "  </thead>\n",
       "  <tbody>\n",
       "    <tr>\n",
       "      <th>0</th>\n",
       "      <td>kBEdx</td>\n",
       "      <td>-15.001348</td>\n",
       "      <td>-8.276000</td>\n",
       "      <td>-0.005876</td>\n",
       "      <td>3.179103</td>\n",
       "    </tr>\n",
       "    <tr>\n",
       "      <th>1</th>\n",
       "      <td>62mP7</td>\n",
       "      <td>14.272088</td>\n",
       "      <td>-3.475083</td>\n",
       "      <td>0.999183</td>\n",
       "      <td>26.953261</td>\n",
       "    </tr>\n",
       "    <tr>\n",
       "      <th>2</th>\n",
       "      <td>vyE1P</td>\n",
       "      <td>6.263187</td>\n",
       "      <td>-5.948386</td>\n",
       "      <td>5.001160</td>\n",
       "      <td>134.766305</td>\n",
       "    </tr>\n",
       "    <tr>\n",
       "      <th>3</th>\n",
       "      <td>KcrkZ</td>\n",
       "      <td>-13.081196</td>\n",
       "      <td>-11.506057</td>\n",
       "      <td>4.999415</td>\n",
       "      <td>137.945408</td>\n",
       "    </tr>\n",
       "    <tr>\n",
       "      <th>4</th>\n",
       "      <td>AHL4O</td>\n",
       "      <td>12.702195</td>\n",
       "      <td>-8.147433</td>\n",
       "      <td>5.004363</td>\n",
       "      <td>134.766305</td>\n",
       "    </tr>\n",
       "  </tbody>\n",
       "</table>\n",
       "</div>"
      ],
      "text/plain": [
       "      id         f0         f1        f2     product\n",
       "0  kBEdx -15.001348  -8.276000 -0.005876    3.179103\n",
       "1  62mP7  14.272088  -3.475083  0.999183   26.953261\n",
       "2  vyE1P   6.263187  -5.948386  5.001160  134.766305\n",
       "3  KcrkZ -13.081196 -11.506057  4.999415  137.945408\n",
       "4  AHL4O  12.702195  -8.147433  5.004363  134.766305"
      ]
     },
     "metadata": {},
     "output_type": "display_data"
    },
    {
     "data": {
      "text/html": [
       "<div>\n",
       "<style scoped>\n",
       "    .dataframe tbody tr th:only-of-type {\n",
       "        vertical-align: middle;\n",
       "    }\n",
       "\n",
       "    .dataframe tbody tr th {\n",
       "        vertical-align: top;\n",
       "    }\n",
       "\n",
       "    .dataframe thead th {\n",
       "        text-align: right;\n",
       "    }\n",
       "</style>\n",
       "<table border=\"1\" class=\"dataframe\">\n",
       "  <thead>\n",
       "    <tr style=\"text-align: right;\">\n",
       "      <th></th>\n",
       "      <th>id</th>\n",
       "      <th>f0</th>\n",
       "      <th>f1</th>\n",
       "      <th>f2</th>\n",
       "      <th>product</th>\n",
       "    </tr>\n",
       "  </thead>\n",
       "  <tbody>\n",
       "    <tr>\n",
       "      <th>0</th>\n",
       "      <td>fwXo0</td>\n",
       "      <td>-1.146987</td>\n",
       "      <td>0.963328</td>\n",
       "      <td>-0.828965</td>\n",
       "      <td>27.758673</td>\n",
       "    </tr>\n",
       "    <tr>\n",
       "      <th>1</th>\n",
       "      <td>WJtFt</td>\n",
       "      <td>0.262778</td>\n",
       "      <td>0.269839</td>\n",
       "      <td>-2.530187</td>\n",
       "      <td>56.069697</td>\n",
       "    </tr>\n",
       "    <tr>\n",
       "      <th>2</th>\n",
       "      <td>ovLUW</td>\n",
       "      <td>0.194587</td>\n",
       "      <td>0.289035</td>\n",
       "      <td>-5.586433</td>\n",
       "      <td>62.871910</td>\n",
       "    </tr>\n",
       "    <tr>\n",
       "      <th>3</th>\n",
       "      <td>q6cA6</td>\n",
       "      <td>2.236060</td>\n",
       "      <td>-0.553760</td>\n",
       "      <td>0.930038</td>\n",
       "      <td>114.572842</td>\n",
       "    </tr>\n",
       "    <tr>\n",
       "      <th>4</th>\n",
       "      <td>WPMUX</td>\n",
       "      <td>-0.515993</td>\n",
       "      <td>1.716266</td>\n",
       "      <td>5.899011</td>\n",
       "      <td>149.600746</td>\n",
       "    </tr>\n",
       "  </tbody>\n",
       "</table>\n",
       "</div>"
      ],
      "text/plain": [
       "      id        f0        f1        f2     product\n",
       "0  fwXo0 -1.146987  0.963328 -0.828965   27.758673\n",
       "1  WJtFt  0.262778  0.269839 -2.530187   56.069697\n",
       "2  ovLUW  0.194587  0.289035 -5.586433   62.871910\n",
       "3  q6cA6  2.236060 -0.553760  0.930038  114.572842\n",
       "4  WPMUX -0.515993  1.716266  5.899011  149.600746"
      ]
     },
     "execution_count": 3,
     "metadata": {},
     "output_type": "execute_result"
    }
   ],
   "source": [
    "# Read all csv files and display the datasets on the screen\n",
    "data_0 = pd.read_csv('/datasets/geo_data_0.csv')\n",
    "data_1 = pd.read_csv('/datasets/geo_data_1.csv')\n",
    "data_2 = pd.read_csv('/datasets/geo_data_2.csv')\n",
    "\n",
    "display(data_0.head())\n",
    "display(data_1.head())\n",
    "data_2.head()"
   ]
  },
  {
   "cell_type": "markdown",
   "metadata": {},
   "source": "Let's look at the information on the datasets"
  },
  {
   "cell_type": "code",
   "execution_count": 4,
   "metadata": {},
   "outputs": [
    {
     "name": "stdout",
     "output_type": "stream",
     "text": [
      "<class 'pandas.core.frame.DataFrame'>\n",
      "RangeIndex: 100000 entries, 0 to 99999\n",
      "Data columns (total 5 columns):\n",
      " #   Column   Non-Null Count   Dtype  \n",
      "---  ------   --------------   -----  \n",
      " 0   id       100000 non-null  object \n",
      " 1   f0       100000 non-null  float64\n",
      " 2   f1       100000 non-null  float64\n",
      " 3   f2       100000 non-null  float64\n",
      " 4   product  100000 non-null  float64\n",
      "dtypes: float64(4), object(1)\n",
      "memory usage: 3.8+ MB\n"
     ]
    },
    {
     "data": {
      "text/plain": [
       "None"
      ]
     },
     "metadata": {},
     "output_type": "display_data"
    },
    {
     "name": "stdout",
     "output_type": "stream",
     "text": [
      "<class 'pandas.core.frame.DataFrame'>\n",
      "RangeIndex: 100000 entries, 0 to 99999\n",
      "Data columns (total 5 columns):\n",
      " #   Column   Non-Null Count   Dtype  \n",
      "---  ------   --------------   -----  \n",
      " 0   id       100000 non-null  object \n",
      " 1   f0       100000 non-null  float64\n",
      " 2   f1       100000 non-null  float64\n",
      " 3   f2       100000 non-null  float64\n",
      " 4   product  100000 non-null  float64\n",
      "dtypes: float64(4), object(1)\n",
      "memory usage: 3.8+ MB\n"
     ]
    },
    {
     "data": {
      "text/plain": [
       "None"
      ]
     },
     "metadata": {},
     "output_type": "display_data"
    },
    {
     "name": "stdout",
     "output_type": "stream",
     "text": [
      "<class 'pandas.core.frame.DataFrame'>\n",
      "RangeIndex: 100000 entries, 0 to 99999\n",
      "Data columns (total 5 columns):\n",
      " #   Column   Non-Null Count   Dtype  \n",
      "---  ------   --------------   -----  \n",
      " 0   id       100000 non-null  object \n",
      " 1   f0       100000 non-null  float64\n",
      " 2   f1       100000 non-null  float64\n",
      " 3   f2       100000 non-null  float64\n",
      " 4   product  100000 non-null  float64\n",
      "dtypes: float64(4), object(1)\n",
      "memory usage: 3.8+ MB\n"
     ]
    }
   ],
   "source": [
    "display(data_0.info())\n",
    "display(data_1.info())\n",
    "data_2.info()"
   ]
  },
  {
   "cell_type": "markdown",
   "metadata": {},
   "source": "Each dataset contains 100,000 records. The dataset structures are identical, with no gaps."
  },
  {
   "cell_type": "markdown",
   "metadata": {},
   "source": [
    "The features in the dataset are as follows:\n",
    "\n",
    "* `id` — unique well identifier;\n",
    "* `f0, f1, f2` — three features of wells (we do not know what they mean, but we know that the features themselves are significant);\n",
    "* `product` — volume of reserves in the well (thousand barrels)."
   ]
  },
  {
   "cell_type": "markdown",
   "metadata": {},
   "source": "### Preprocessing"
  },
  {
   "cell_type": "markdown",
   "metadata": {},
   "source": "#### Data Statistics"
  },
  {
   "cell_type": "markdown",
   "metadata": {},
   "source": "Let's look at the descriptive statistics for the datasets."
  },
  {
   "cell_type": "code",
   "execution_count": 5,
   "metadata": {},
   "outputs": [
    {
     "data": {
      "text/html": [
       "<div>\n",
       "<style scoped>\n",
       "    .dataframe tbody tr th:only-of-type {\n",
       "        vertical-align: middle;\n",
       "    }\n",
       "\n",
       "    .dataframe tbody tr th {\n",
       "        vertical-align: top;\n",
       "    }\n",
       "\n",
       "    .dataframe thead th {\n",
       "        text-align: right;\n",
       "    }\n",
       "</style>\n",
       "<table border=\"1\" class=\"dataframe\">\n",
       "  <thead>\n",
       "    <tr style=\"text-align: right;\">\n",
       "      <th></th>\n",
       "      <th>f0</th>\n",
       "      <th>f1</th>\n",
       "      <th>f2</th>\n",
       "      <th>product</th>\n",
       "    </tr>\n",
       "  </thead>\n",
       "  <tbody>\n",
       "    <tr>\n",
       "      <th>count</th>\n",
       "      <td>100000.000000</td>\n",
       "      <td>100000.000000</td>\n",
       "      <td>100000.000000</td>\n",
       "      <td>100000.000000</td>\n",
       "    </tr>\n",
       "    <tr>\n",
       "      <th>mean</th>\n",
       "      <td>0.500419</td>\n",
       "      <td>0.250143</td>\n",
       "      <td>2.502647</td>\n",
       "      <td>92.500000</td>\n",
       "    </tr>\n",
       "    <tr>\n",
       "      <th>std</th>\n",
       "      <td>0.871832</td>\n",
       "      <td>0.504433</td>\n",
       "      <td>3.248248</td>\n",
       "      <td>44.288691</td>\n",
       "    </tr>\n",
       "    <tr>\n",
       "      <th>min</th>\n",
       "      <td>-1.408605</td>\n",
       "      <td>-0.848218</td>\n",
       "      <td>-12.088328</td>\n",
       "      <td>0.000000</td>\n",
       "    </tr>\n",
       "    <tr>\n",
       "      <th>25%</th>\n",
       "      <td>-0.072580</td>\n",
       "      <td>-0.200881</td>\n",
       "      <td>0.287748</td>\n",
       "      <td>56.497507</td>\n",
       "    </tr>\n",
       "    <tr>\n",
       "      <th>50%</th>\n",
       "      <td>0.502360</td>\n",
       "      <td>0.250252</td>\n",
       "      <td>2.515969</td>\n",
       "      <td>91.849972</td>\n",
       "    </tr>\n",
       "    <tr>\n",
       "      <th>75%</th>\n",
       "      <td>1.073581</td>\n",
       "      <td>0.700646</td>\n",
       "      <td>4.715088</td>\n",
       "      <td>128.564089</td>\n",
       "    </tr>\n",
       "    <tr>\n",
       "      <th>max</th>\n",
       "      <td>2.362331</td>\n",
       "      <td>1.343769</td>\n",
       "      <td>16.003790</td>\n",
       "      <td>185.364347</td>\n",
       "    </tr>\n",
       "  </tbody>\n",
       "</table>\n",
       "</div>"
      ],
      "text/plain": [
       "                  f0             f1             f2        product\n",
       "count  100000.000000  100000.000000  100000.000000  100000.000000\n",
       "mean        0.500419       0.250143       2.502647      92.500000\n",
       "std         0.871832       0.504433       3.248248      44.288691\n",
       "min        -1.408605      -0.848218     -12.088328       0.000000\n",
       "25%        -0.072580      -0.200881       0.287748      56.497507\n",
       "50%         0.502360       0.250252       2.515969      91.849972\n",
       "75%         1.073581       0.700646       4.715088     128.564089\n",
       "max         2.362331       1.343769      16.003790     185.364347"
      ]
     },
     "metadata": {},
     "output_type": "display_data"
    },
    {
     "data": {
      "text/html": [
       "<div>\n",
       "<style scoped>\n",
       "    .dataframe tbody tr th:only-of-type {\n",
       "        vertical-align: middle;\n",
       "    }\n",
       "\n",
       "    .dataframe tbody tr th {\n",
       "        vertical-align: top;\n",
       "    }\n",
       "\n",
       "    .dataframe thead th {\n",
       "        text-align: right;\n",
       "    }\n",
       "</style>\n",
       "<table border=\"1\" class=\"dataframe\">\n",
       "  <thead>\n",
       "    <tr style=\"text-align: right;\">\n",
       "      <th></th>\n",
       "      <th>f0</th>\n",
       "      <th>f1</th>\n",
       "      <th>f2</th>\n",
       "      <th>product</th>\n",
       "    </tr>\n",
       "  </thead>\n",
       "  <tbody>\n",
       "    <tr>\n",
       "      <th>count</th>\n",
       "      <td>100000.000000</td>\n",
       "      <td>100000.000000</td>\n",
       "      <td>100000.000000</td>\n",
       "      <td>100000.000000</td>\n",
       "    </tr>\n",
       "    <tr>\n",
       "      <th>mean</th>\n",
       "      <td>1.141296</td>\n",
       "      <td>-4.796579</td>\n",
       "      <td>2.494541</td>\n",
       "      <td>68.825000</td>\n",
       "    </tr>\n",
       "    <tr>\n",
       "      <th>std</th>\n",
       "      <td>8.965932</td>\n",
       "      <td>5.119872</td>\n",
       "      <td>1.703572</td>\n",
       "      <td>45.944423</td>\n",
       "    </tr>\n",
       "    <tr>\n",
       "      <th>min</th>\n",
       "      <td>-31.609576</td>\n",
       "      <td>-26.358598</td>\n",
       "      <td>-0.018144</td>\n",
       "      <td>0.000000</td>\n",
       "    </tr>\n",
       "    <tr>\n",
       "      <th>25%</th>\n",
       "      <td>-6.298551</td>\n",
       "      <td>-8.267985</td>\n",
       "      <td>1.000021</td>\n",
       "      <td>26.953261</td>\n",
       "    </tr>\n",
       "    <tr>\n",
       "      <th>50%</th>\n",
       "      <td>1.153055</td>\n",
       "      <td>-4.813172</td>\n",
       "      <td>2.011479</td>\n",
       "      <td>57.085625</td>\n",
       "    </tr>\n",
       "    <tr>\n",
       "      <th>75%</th>\n",
       "      <td>8.621015</td>\n",
       "      <td>-1.332816</td>\n",
       "      <td>3.999904</td>\n",
       "      <td>107.813044</td>\n",
       "    </tr>\n",
       "    <tr>\n",
       "      <th>max</th>\n",
       "      <td>29.421755</td>\n",
       "      <td>18.734063</td>\n",
       "      <td>5.019721</td>\n",
       "      <td>137.945408</td>\n",
       "    </tr>\n",
       "  </tbody>\n",
       "</table>\n",
       "</div>"
      ],
      "text/plain": [
       "                  f0             f1             f2        product\n",
       "count  100000.000000  100000.000000  100000.000000  100000.000000\n",
       "mean        1.141296      -4.796579       2.494541      68.825000\n",
       "std         8.965932       5.119872       1.703572      45.944423\n",
       "min       -31.609576     -26.358598      -0.018144       0.000000\n",
       "25%        -6.298551      -8.267985       1.000021      26.953261\n",
       "50%         1.153055      -4.813172       2.011479      57.085625\n",
       "75%         8.621015      -1.332816       3.999904     107.813044\n",
       "max        29.421755      18.734063       5.019721     137.945408"
      ]
     },
     "metadata": {},
     "output_type": "display_data"
    },
    {
     "data": {
      "text/html": [
       "<div>\n",
       "<style scoped>\n",
       "    .dataframe tbody tr th:only-of-type {\n",
       "        vertical-align: middle;\n",
       "    }\n",
       "\n",
       "    .dataframe tbody tr th {\n",
       "        vertical-align: top;\n",
       "    }\n",
       "\n",
       "    .dataframe thead th {\n",
       "        text-align: right;\n",
       "    }\n",
       "</style>\n",
       "<table border=\"1\" class=\"dataframe\">\n",
       "  <thead>\n",
       "    <tr style=\"text-align: right;\">\n",
       "      <th></th>\n",
       "      <th>f0</th>\n",
       "      <th>f1</th>\n",
       "      <th>f2</th>\n",
       "      <th>product</th>\n",
       "    </tr>\n",
       "  </thead>\n",
       "  <tbody>\n",
       "    <tr>\n",
       "      <th>count</th>\n",
       "      <td>100000.000000</td>\n",
       "      <td>100000.000000</td>\n",
       "      <td>100000.000000</td>\n",
       "      <td>100000.000000</td>\n",
       "    </tr>\n",
       "    <tr>\n",
       "      <th>mean</th>\n",
       "      <td>0.002023</td>\n",
       "      <td>-0.002081</td>\n",
       "      <td>2.495128</td>\n",
       "      <td>95.000000</td>\n",
       "    </tr>\n",
       "    <tr>\n",
       "      <th>std</th>\n",
       "      <td>1.732045</td>\n",
       "      <td>1.730417</td>\n",
       "      <td>3.473445</td>\n",
       "      <td>44.749921</td>\n",
       "    </tr>\n",
       "    <tr>\n",
       "      <th>min</th>\n",
       "      <td>-8.760004</td>\n",
       "      <td>-7.084020</td>\n",
       "      <td>-11.970335</td>\n",
       "      <td>0.000000</td>\n",
       "    </tr>\n",
       "    <tr>\n",
       "      <th>25%</th>\n",
       "      <td>-1.162288</td>\n",
       "      <td>-1.174820</td>\n",
       "      <td>0.130359</td>\n",
       "      <td>59.450441</td>\n",
       "    </tr>\n",
       "    <tr>\n",
       "      <th>50%</th>\n",
       "      <td>0.009424</td>\n",
       "      <td>-0.009482</td>\n",
       "      <td>2.484236</td>\n",
       "      <td>94.925613</td>\n",
       "    </tr>\n",
       "    <tr>\n",
       "      <th>75%</th>\n",
       "      <td>1.158535</td>\n",
       "      <td>1.163678</td>\n",
       "      <td>4.858794</td>\n",
       "      <td>130.595027</td>\n",
       "    </tr>\n",
       "    <tr>\n",
       "      <th>max</th>\n",
       "      <td>7.238262</td>\n",
       "      <td>7.844801</td>\n",
       "      <td>16.739402</td>\n",
       "      <td>190.029838</td>\n",
       "    </tr>\n",
       "  </tbody>\n",
       "</table>\n",
       "</div>"
      ],
      "text/plain": [
       "                  f0             f1             f2        product\n",
       "count  100000.000000  100000.000000  100000.000000  100000.000000\n",
       "mean        0.002023      -0.002081       2.495128      95.000000\n",
       "std         1.732045       1.730417       3.473445      44.749921\n",
       "min        -8.760004      -7.084020     -11.970335       0.000000\n",
       "25%        -1.162288      -1.174820       0.130359      59.450441\n",
       "50%         0.009424      -0.009482       2.484236      94.925613\n",
       "75%         1.158535       1.163678       4.858794     130.595027\n",
       "max         7.238262       7.844801      16.739402     190.029838"
      ]
     },
     "execution_count": 5,
     "metadata": {},
     "output_type": "execute_result"
    }
   ],
   "source": [
    "display(data_0.describe())\n",
    "display(data_1.describe())\n",
    "data_2.describe()"
   ]
  },
  {
   "cell_type": "markdown",
   "metadata": {},
   "source": "Across all datasets, medians and means are quite close across all parameters. We believe there are no outliers in the data."
  },
  {
   "cell_type": "markdown",
   "metadata": {},
   "source": "#### Handling duplicates"
  },
  {
   "cell_type": "markdown",
   "metadata": {},
   "source": "Let's look at the number of unique records for the `id` attribute."
  },
  {
   "cell_type": "code",
   "execution_count": 6,
   "metadata": {},
   "outputs": [
    {
     "data": {
      "text/plain": [
       "99990"
      ]
     },
     "metadata": {},
     "output_type": "display_data"
    },
    {
     "data": {
      "text/plain": [
       "99996"
      ]
     },
     "metadata": {},
     "output_type": "display_data"
    },
    {
     "data": {
      "text/plain": [
       "99996"
      ]
     },
     "execution_count": 6,
     "metadata": {},
     "output_type": "execute_result"
    }
   ],
   "source": [
    "display(data_0.id.nunique())\n",
    "display(data_1.id.nunique())\n",
    "data_2.id.nunique()"
   ]
  },
  {
   "cell_type": "markdown",
   "metadata": {},
   "source": "The datasets contain between 4 and 10 duplicate values in the `id` feature. Let's check the datasets for duplicates."
  },
  {
   "cell_type": "code",
   "execution_count": 7,
   "metadata": {},
   "outputs": [
    {
     "data": {
      "text/plain": [
       "0"
      ]
     },
     "metadata": {},
     "output_type": "display_data"
    },
    {
     "data": {
      "text/plain": [
       "0"
      ]
     },
     "metadata": {},
     "output_type": "display_data"
    },
    {
     "data": {
      "text/plain": [
       "0"
      ]
     },
     "execution_count": 7,
     "metadata": {},
     "output_type": "execute_result"
    }
   ],
   "source": [
    "display(data_0.duplicated().sum())\n",
    "display(data_1.duplicated().sum())\n",
    "data_2.duplicated().sum()"
   ]
  },
  {
   "cell_type": "markdown",
   "metadata": {},
   "source": "All rows in the datasets are unique. Let's look for duplicates in the `id` feature."
  },
  {
   "cell_type": "code",
   "execution_count": 8,
   "metadata": {},
   "outputs": [
    {
     "data": {
      "text/html": [
       "<div>\n",
       "<style scoped>\n",
       "    .dataframe tbody tr th:only-of-type {\n",
       "        vertical-align: middle;\n",
       "    }\n",
       "\n",
       "    .dataframe tbody tr th {\n",
       "        vertical-align: top;\n",
       "    }\n",
       "\n",
       "    .dataframe thead th {\n",
       "        text-align: right;\n",
       "    }\n",
       "</style>\n",
       "<table border=\"1\" class=\"dataframe\">\n",
       "  <thead>\n",
       "    <tr style=\"text-align: right;\">\n",
       "      <th></th>\n",
       "      <th>id</th>\n",
       "      <th>f0</th>\n",
       "      <th>f1</th>\n",
       "      <th>f2</th>\n",
       "      <th>product</th>\n",
       "    </tr>\n",
       "  </thead>\n",
       "  <tbody>\n",
       "    <tr>\n",
       "      <th>931</th>\n",
       "      <td>HZww2</td>\n",
       "      <td>0.755284</td>\n",
       "      <td>0.368511</td>\n",
       "      <td>1.863211</td>\n",
       "      <td>30.681774</td>\n",
       "    </tr>\n",
       "    <tr>\n",
       "      <th>1364</th>\n",
       "      <td>bxg6G</td>\n",
       "      <td>0.411645</td>\n",
       "      <td>0.856830</td>\n",
       "      <td>-3.653440</td>\n",
       "      <td>73.604260</td>\n",
       "    </tr>\n",
       "    <tr>\n",
       "      <th>1949</th>\n",
       "      <td>QcMuo</td>\n",
       "      <td>0.506563</td>\n",
       "      <td>-0.323775</td>\n",
       "      <td>-2.215583</td>\n",
       "      <td>75.496502</td>\n",
       "    </tr>\n",
       "    <tr>\n",
       "      <th>3389</th>\n",
       "      <td>A5aEY</td>\n",
       "      <td>-0.039949</td>\n",
       "      <td>0.156872</td>\n",
       "      <td>0.209861</td>\n",
       "      <td>89.249364</td>\n",
       "    </tr>\n",
       "    <tr>\n",
       "      <th>7530</th>\n",
       "      <td>HZww2</td>\n",
       "      <td>1.061194</td>\n",
       "      <td>-0.373969</td>\n",
       "      <td>10.430210</td>\n",
       "      <td>158.828695</td>\n",
       "    </tr>\n",
       "    <tr>\n",
       "      <th>16633</th>\n",
       "      <td>fiKDv</td>\n",
       "      <td>0.157341</td>\n",
       "      <td>1.028359</td>\n",
       "      <td>5.585586</td>\n",
       "      <td>95.817889</td>\n",
       "    </tr>\n",
       "    <tr>\n",
       "      <th>21426</th>\n",
       "      <td>Tdehs</td>\n",
       "      <td>0.829407</td>\n",
       "      <td>0.298807</td>\n",
       "      <td>-0.049563</td>\n",
       "      <td>96.035308</td>\n",
       "    </tr>\n",
       "    <tr>\n",
       "      <th>41724</th>\n",
       "      <td>bxg6G</td>\n",
       "      <td>-0.823752</td>\n",
       "      <td>0.546319</td>\n",
       "      <td>3.630479</td>\n",
       "      <td>93.007798</td>\n",
       "    </tr>\n",
       "    <tr>\n",
       "      <th>42529</th>\n",
       "      <td>AGS9W</td>\n",
       "      <td>1.454747</td>\n",
       "      <td>-0.479651</td>\n",
       "      <td>0.683380</td>\n",
       "      <td>126.370504</td>\n",
       "    </tr>\n",
       "    <tr>\n",
       "      <th>51970</th>\n",
       "      <td>A5aEY</td>\n",
       "      <td>-0.180335</td>\n",
       "      <td>0.935548</td>\n",
       "      <td>-2.094773</td>\n",
       "      <td>33.020205</td>\n",
       "    </tr>\n",
       "    <tr>\n",
       "      <th>60140</th>\n",
       "      <td>TtcGQ</td>\n",
       "      <td>0.569276</td>\n",
       "      <td>-0.104876</td>\n",
       "      <td>6.440215</td>\n",
       "      <td>85.350186</td>\n",
       "    </tr>\n",
       "    <tr>\n",
       "      <th>63593</th>\n",
       "      <td>QcMuo</td>\n",
       "      <td>0.635635</td>\n",
       "      <td>-0.473422</td>\n",
       "      <td>0.862670</td>\n",
       "      <td>64.578675</td>\n",
       "    </tr>\n",
       "    <tr>\n",
       "      <th>64022</th>\n",
       "      <td>74z30</td>\n",
       "      <td>0.741456</td>\n",
       "      <td>0.459229</td>\n",
       "      <td>5.153109</td>\n",
       "      <td>140.771492</td>\n",
       "    </tr>\n",
       "    <tr>\n",
       "      <th>66136</th>\n",
       "      <td>74z30</td>\n",
       "      <td>1.084962</td>\n",
       "      <td>-0.312358</td>\n",
       "      <td>6.990771</td>\n",
       "      <td>127.643327</td>\n",
       "    </tr>\n",
       "    <tr>\n",
       "      <th>69163</th>\n",
       "      <td>AGS9W</td>\n",
       "      <td>-0.933795</td>\n",
       "      <td>0.116194</td>\n",
       "      <td>-3.655896</td>\n",
       "      <td>19.230453</td>\n",
       "    </tr>\n",
       "    <tr>\n",
       "      <th>75715</th>\n",
       "      <td>Tdehs</td>\n",
       "      <td>0.112079</td>\n",
       "      <td>0.430296</td>\n",
       "      <td>3.218993</td>\n",
       "      <td>60.964018</td>\n",
       "    </tr>\n",
       "    <tr>\n",
       "      <th>89582</th>\n",
       "      <td>bsk9y</td>\n",
       "      <td>0.398908</td>\n",
       "      <td>-0.400253</td>\n",
       "      <td>10.122376</td>\n",
       "      <td>163.433078</td>\n",
       "    </tr>\n",
       "    <tr>\n",
       "      <th>90815</th>\n",
       "      <td>fiKDv</td>\n",
       "      <td>0.049883</td>\n",
       "      <td>0.841313</td>\n",
       "      <td>6.394613</td>\n",
       "      <td>137.346586</td>\n",
       "    </tr>\n",
       "    <tr>\n",
       "      <th>92341</th>\n",
       "      <td>TtcGQ</td>\n",
       "      <td>0.110711</td>\n",
       "      <td>1.022689</td>\n",
       "      <td>0.911381</td>\n",
       "      <td>101.318008</td>\n",
       "    </tr>\n",
       "    <tr>\n",
       "      <th>97785</th>\n",
       "      <td>bsk9y</td>\n",
       "      <td>0.378429</td>\n",
       "      <td>0.005837</td>\n",
       "      <td>0.160827</td>\n",
       "      <td>160.637302</td>\n",
       "    </tr>\n",
       "  </tbody>\n",
       "</table>\n",
       "</div>"
      ],
      "text/plain": [
       "          id        f0        f1         f2     product\n",
       "931    HZww2  0.755284  0.368511   1.863211   30.681774\n",
       "1364   bxg6G  0.411645  0.856830  -3.653440   73.604260\n",
       "1949   QcMuo  0.506563 -0.323775  -2.215583   75.496502\n",
       "3389   A5aEY -0.039949  0.156872   0.209861   89.249364\n",
       "7530   HZww2  1.061194 -0.373969  10.430210  158.828695\n",
       "16633  fiKDv  0.157341  1.028359   5.585586   95.817889\n",
       "21426  Tdehs  0.829407  0.298807  -0.049563   96.035308\n",
       "41724  bxg6G -0.823752  0.546319   3.630479   93.007798\n",
       "42529  AGS9W  1.454747 -0.479651   0.683380  126.370504\n",
       "51970  A5aEY -0.180335  0.935548  -2.094773   33.020205\n",
       "60140  TtcGQ  0.569276 -0.104876   6.440215   85.350186\n",
       "63593  QcMuo  0.635635 -0.473422   0.862670   64.578675\n",
       "64022  74z30  0.741456  0.459229   5.153109  140.771492\n",
       "66136  74z30  1.084962 -0.312358   6.990771  127.643327\n",
       "69163  AGS9W -0.933795  0.116194  -3.655896   19.230453\n",
       "75715  Tdehs  0.112079  0.430296   3.218993   60.964018\n",
       "89582  bsk9y  0.398908 -0.400253  10.122376  163.433078\n",
       "90815  fiKDv  0.049883  0.841313   6.394613  137.346586\n",
       "92341  TtcGQ  0.110711  1.022689   0.911381  101.318008\n",
       "97785  bsk9y  0.378429  0.005837   0.160827  160.637302"
      ]
     },
     "execution_count": 8,
     "metadata": {},
     "output_type": "execute_result"
    }
   ],
   "source": [
    "data_0[data_0.id.duplicated(keep=False)]"
   ]
  },
  {
   "cell_type": "code",
   "execution_count": 9,
   "metadata": {},
   "outputs": [
    {
     "data": {
      "text/html": [
       "<div>\n",
       "<style scoped>\n",
       "    .dataframe tbody tr th:only-of-type {\n",
       "        vertical-align: middle;\n",
       "    }\n",
       "\n",
       "    .dataframe tbody tr th {\n",
       "        vertical-align: top;\n",
       "    }\n",
       "\n",
       "    .dataframe thead th {\n",
       "        text-align: right;\n",
       "    }\n",
       "</style>\n",
       "<table border=\"1\" class=\"dataframe\">\n",
       "  <thead>\n",
       "    <tr style=\"text-align: right;\">\n",
       "      <th></th>\n",
       "      <th>id</th>\n",
       "      <th>f0</th>\n",
       "      <th>f1</th>\n",
       "      <th>f2</th>\n",
       "      <th>product</th>\n",
       "    </tr>\n",
       "  </thead>\n",
       "  <tbody>\n",
       "    <tr>\n",
       "      <th>1305</th>\n",
       "      <td>LHZR0</td>\n",
       "      <td>11.170835</td>\n",
       "      <td>-1.945066</td>\n",
       "      <td>3.002872</td>\n",
       "      <td>80.859783</td>\n",
       "    </tr>\n",
       "    <tr>\n",
       "      <th>2721</th>\n",
       "      <td>bfPNe</td>\n",
       "      <td>-9.494442</td>\n",
       "      <td>-5.463692</td>\n",
       "      <td>4.006042</td>\n",
       "      <td>110.992147</td>\n",
       "    </tr>\n",
       "    <tr>\n",
       "      <th>5849</th>\n",
       "      <td>5ltQ6</td>\n",
       "      <td>-3.435401</td>\n",
       "      <td>-12.296043</td>\n",
       "      <td>1.999796</td>\n",
       "      <td>57.085625</td>\n",
       "    </tr>\n",
       "    <tr>\n",
       "      <th>41906</th>\n",
       "      <td>LHZR0</td>\n",
       "      <td>-8.989672</td>\n",
       "      <td>-4.286607</td>\n",
       "      <td>2.009139</td>\n",
       "      <td>57.085625</td>\n",
       "    </tr>\n",
       "    <tr>\n",
       "      <th>47591</th>\n",
       "      <td>wt4Uk</td>\n",
       "      <td>-9.091098</td>\n",
       "      <td>-8.109279</td>\n",
       "      <td>-0.002314</td>\n",
       "      <td>3.179103</td>\n",
       "    </tr>\n",
       "    <tr>\n",
       "      <th>82178</th>\n",
       "      <td>bfPNe</td>\n",
       "      <td>-6.202799</td>\n",
       "      <td>-4.820045</td>\n",
       "      <td>2.995107</td>\n",
       "      <td>84.038886</td>\n",
       "    </tr>\n",
       "    <tr>\n",
       "      <th>82873</th>\n",
       "      <td>wt4Uk</td>\n",
       "      <td>10.259972</td>\n",
       "      <td>-9.376355</td>\n",
       "      <td>4.994297</td>\n",
       "      <td>134.766305</td>\n",
       "    </tr>\n",
       "    <tr>\n",
       "      <th>84461</th>\n",
       "      <td>5ltQ6</td>\n",
       "      <td>18.213839</td>\n",
       "      <td>2.191999</td>\n",
       "      <td>3.993869</td>\n",
       "      <td>107.813044</td>\n",
       "    </tr>\n",
       "  </tbody>\n",
       "</table>\n",
       "</div>"
      ],
      "text/plain": [
       "          id         f0         f1        f2     product\n",
       "1305   LHZR0  11.170835  -1.945066  3.002872   80.859783\n",
       "2721   bfPNe  -9.494442  -5.463692  4.006042  110.992147\n",
       "5849   5ltQ6  -3.435401 -12.296043  1.999796   57.085625\n",
       "41906  LHZR0  -8.989672  -4.286607  2.009139   57.085625\n",
       "47591  wt4Uk  -9.091098  -8.109279 -0.002314    3.179103\n",
       "82178  bfPNe  -6.202799  -4.820045  2.995107   84.038886\n",
       "82873  wt4Uk  10.259972  -9.376355  4.994297  134.766305\n",
       "84461  5ltQ6  18.213839   2.191999  3.993869  107.813044"
      ]
     },
     "execution_count": 9,
     "metadata": {},
     "output_type": "execute_result"
    }
   ],
   "source": [
    "data_1[data_1.id.duplicated(keep=False)]"
   ]
  },
  {
   "cell_type": "code",
   "execution_count": 10,
   "metadata": {},
   "outputs": [
    {
     "data": {
      "text/html": [
       "<div>\n",
       "<style scoped>\n",
       "    .dataframe tbody tr th:only-of-type {\n",
       "        vertical-align: middle;\n",
       "    }\n",
       "\n",
       "    .dataframe tbody tr th {\n",
       "        vertical-align: top;\n",
       "    }\n",
       "\n",
       "    .dataframe thead th {\n",
       "        text-align: right;\n",
       "    }\n",
       "</style>\n",
       "<table border=\"1\" class=\"dataframe\">\n",
       "  <thead>\n",
       "    <tr style=\"text-align: right;\">\n",
       "      <th></th>\n",
       "      <th>id</th>\n",
       "      <th>f0</th>\n",
       "      <th>f1</th>\n",
       "      <th>f2</th>\n",
       "      <th>product</th>\n",
       "    </tr>\n",
       "  </thead>\n",
       "  <tbody>\n",
       "    <tr>\n",
       "      <th>11449</th>\n",
       "      <td>VF7Jo</td>\n",
       "      <td>2.122656</td>\n",
       "      <td>-0.858275</td>\n",
       "      <td>5.746001</td>\n",
       "      <td>181.716817</td>\n",
       "    </tr>\n",
       "    <tr>\n",
       "      <th>28039</th>\n",
       "      <td>xCHr8</td>\n",
       "      <td>1.633027</td>\n",
       "      <td>0.368135</td>\n",
       "      <td>-2.378367</td>\n",
       "      <td>6.120525</td>\n",
       "    </tr>\n",
       "    <tr>\n",
       "      <th>43233</th>\n",
       "      <td>xCHr8</td>\n",
       "      <td>-0.847066</td>\n",
       "      <td>2.101796</td>\n",
       "      <td>5.597130</td>\n",
       "      <td>184.388641</td>\n",
       "    </tr>\n",
       "    <tr>\n",
       "      <th>44378</th>\n",
       "      <td>Vcm5J</td>\n",
       "      <td>-1.229484</td>\n",
       "      <td>-2.439204</td>\n",
       "      <td>1.222909</td>\n",
       "      <td>137.968290</td>\n",
       "    </tr>\n",
       "    <tr>\n",
       "      <th>45404</th>\n",
       "      <td>KUPhW</td>\n",
       "      <td>0.231846</td>\n",
       "      <td>-1.698941</td>\n",
       "      <td>4.990775</td>\n",
       "      <td>11.716299</td>\n",
       "    </tr>\n",
       "    <tr>\n",
       "      <th>49564</th>\n",
       "      <td>VF7Jo</td>\n",
       "      <td>-0.883115</td>\n",
       "      <td>0.560537</td>\n",
       "      <td>0.723601</td>\n",
       "      <td>136.233420</td>\n",
       "    </tr>\n",
       "    <tr>\n",
       "      <th>55967</th>\n",
       "      <td>KUPhW</td>\n",
       "      <td>1.211150</td>\n",
       "      <td>3.176408</td>\n",
       "      <td>5.543540</td>\n",
       "      <td>132.831802</td>\n",
       "    </tr>\n",
       "    <tr>\n",
       "      <th>95090</th>\n",
       "      <td>Vcm5J</td>\n",
       "      <td>2.587702</td>\n",
       "      <td>1.986875</td>\n",
       "      <td>2.482245</td>\n",
       "      <td>92.327572</td>\n",
       "    </tr>\n",
       "  </tbody>\n",
       "</table>\n",
       "</div>"
      ],
      "text/plain": [
       "          id        f0        f1        f2     product\n",
       "11449  VF7Jo  2.122656 -0.858275  5.746001  181.716817\n",
       "28039  xCHr8  1.633027  0.368135 -2.378367    6.120525\n",
       "43233  xCHr8 -0.847066  2.101796  5.597130  184.388641\n",
       "44378  Vcm5J -1.229484 -2.439204  1.222909  137.968290\n",
       "45404  KUPhW  0.231846 -1.698941  4.990775   11.716299\n",
       "49564  VF7Jo -0.883115  0.560537  0.723601  136.233420\n",
       "55967  KUPhW  1.211150  3.176408  5.543540  132.831802\n",
       "95090  Vcm5J  2.587702  1.986875  2.482245   92.327572"
      ]
     },
     "execution_count": 10,
     "metadata": {},
     "output_type": "execute_result"
    }
   ],
   "source": [
    "data_2[data_2.id.duplicated(keep=False)]"
   ]
  },
  {
   "cell_type": "markdown",
   "metadata": {},
   "source": [
    "It's clear that despite having duplicates in the 'id' feature, the other features in the duplicated objects differ. This may be due to repeated borehole measurements. We don't know whether the records in the datasets are in chronological order. The maximum duplicate percentage is 0.0001% of all dataset records.\n",
    "\n",
    "Let's remove the duplicates, leaving only the records located lower in the dataset. We assume the dataset was populated sequentially. Will check the result."
   ]
  },
  {
   "cell_type": "code",
   "execution_count": 11,
   "metadata": {},
   "outputs": [
    {
     "data": {
      "text/plain": [
       "0"
      ]
     },
     "metadata": {},
     "output_type": "display_data"
    },
    {
     "data": {
      "text/plain": [
       "0"
      ]
     },
     "metadata": {},
     "output_type": "display_data"
    },
    {
     "data": {
      "text/plain": [
       "0"
      ]
     },
     "execution_count": 11,
     "metadata": {},
     "output_type": "execute_result"
    }
   ],
   "source": [
    "data_0 = data_0.drop_duplicates(subset='id', keep='last').reset_index(drop=True)\n",
    "data_1 = data_1.drop_duplicates(subset='id', keep='last').reset_index(drop=True)\n",
    "data_2 = data_2.drop_duplicates(subset='id', keep='last').reset_index(drop=True)\n",
    "\n",
    "\n",
    "display(data_0.id.duplicated().sum())\n",
    "display(data_1.id.duplicated().sum())\n",
    "data_2.id.duplicated().sum()"
   ]
  },
  {
   "cell_type": "markdown",
   "metadata": {},
   "source": "#### Removing features"
  },
  {
   "cell_type": "markdown",
   "metadata": {},
   "source": "Let's remove the 'id' feature, as it won't provide any useful information to our model. The well ID is a random string of characters and won't help us determine the target feature."
  },
  {
   "cell_type": "code",
   "execution_count": 12,
   "metadata": {},
   "outputs": [
    {
     "data": {
      "text/plain": [
       "Index(['f0', 'f1', 'f2', 'product'], dtype='object')"
      ]
     },
     "metadata": {},
     "output_type": "display_data"
    },
    {
     "data": {
      "text/plain": [
       "Index(['f0', 'f1', 'f2', 'product'], dtype='object')"
      ]
     },
     "metadata": {},
     "output_type": "display_data"
    },
    {
     "data": {
      "text/plain": [
       "Index(['f0', 'f1', 'f2', 'product'], dtype='object')"
      ]
     },
     "execution_count": 12,
     "metadata": {},
     "output_type": "execute_result"
    }
   ],
   "source": [
    "data_0 = data_0.drop('id', axis=1)\n",
    "data_1 = data_1.drop('id', axis=1)\n",
    "data_2 = data_2.drop('id', axis=1)\n",
    "\n",
    "display(data_0.columns)\n",
    "display(data_1.columns)\n",
    "data_2.columns"
   ]
  },
  {
   "cell_type": "markdown",
   "metadata": {},
   "source": "## Training and testing models"
  },
  {
   "cell_type": "markdown",
   "metadata": {},
   "source": "### Splitting datasets into samples"
  },
  {
   "cell_type": "markdown",
   "metadata": {},
   "source": "We divide each dataset into training and validation samples."
  },
  {
   "cell_type": "code",
   "execution_count": 13,
   "metadata": {},
   "outputs": [
    {
     "data": {
      "text/plain": [
       "(74992, 3)"
      ]
     },
     "metadata": {},
     "output_type": "display_data"
    },
    {
     "data": {
      "text/plain": [
       "(24998, 3)"
      ]
     },
     "execution_count": 13,
     "metadata": {},
     "output_type": "execute_result"
    }
   ],
   "source": [
    "# Split dataset 0 into two samples: training and validation in a ratio of 0.75/0.25\n",
    "target_0 = data_0['product']\n",
    "features_0 = data_0.drop('product', axis=1)\n",
    "\n",
    "features_0_train, features_0_valid, target_0_train, target_0_valid = train_test_split(\n",
    "    features_0, target_0, test_size=0.25, random_state=1)\n",
    "\n",
    "# Check the size of the received samples\n",
    "display(features_0_train.shape)\n",
    "features_0_valid.shape"
   ]
  },
  {
   "cell_type": "code",
   "execution_count": 14,
   "metadata": {},
   "outputs": [
    {
     "data": {
      "text/plain": [
       "(74997, 3)"
      ]
     },
     "metadata": {},
     "output_type": "display_data"
    },
    {
     "data": {
      "text/plain": [
       "(24999, 3)"
      ]
     },
     "execution_count": 14,
     "metadata": {},
     "output_type": "execute_result"
    }
   ],
   "source": [
    "# Split dataset 1 into two samples: training and validation in a ratio of 0.75/0.25\n",
    "target_1 = data_1['product']\n",
    "features_1 = data_1.drop('product', axis=1)\n",
    "\n",
    "features_1_train, features_1_valid, target_1_train, target_1_valid = train_test_split(\n",
    "    features_1, target_1, test_size=0.25, random_state=1)\n",
    "\n",
    "# Check the size of the received samples\n",
    "display(features_1_train.shape)\n",
    "features_1_valid.shape"
   ]
  },
  {
   "cell_type": "code",
   "execution_count": 15,
   "metadata": {},
   "outputs": [
    {
     "data": {
      "text/plain": [
       "(74997, 3)"
      ]
     },
     "metadata": {},
     "output_type": "display_data"
    },
    {
     "data": {
      "text/plain": [
       "(24999, 3)"
      ]
     },
     "execution_count": 15,
     "metadata": {},
     "output_type": "execute_result"
    }
   ],
   "source": [
    "# Split dataset 2 into two samples: training and validation in a ratio of 0.75/0.25\n",
    "target_2 = data_2['product']\n",
    "features_2 = data_2.drop('product', axis=1)\n",
    "\n",
    "features_2_train, features_2_valid, target_2_train, target_2_valid = train_test_split(\n",
    "    features_2, target_2, test_size=0.25, random_state=1)\n",
    "\n",
    "# Check the size of the received samples\n",
    "display(features_2_train.shape)\n",
    "features_2_valid.shape"
   ]
  },
  {
   "cell_type": "markdown",
   "metadata": {},
   "source": "### Feature scaling"
  },
  {
   "cell_type": "markdown",
   "metadata": {},
   "source": "Let's scale the features for each dataset."
  },
  {
   "cell_type": "code",
   "execution_count": 16,
   "metadata": {},
   "outputs": [],
   "source": [
    "# Define scalable features\n",
    "numeric = [\n",
    "    'f0',\n",
    "    'f1',\n",
    "    'f2',\n",
    "]"
   ]
  },
  {
   "cell_type": "code",
   "execution_count": 17,
   "metadata": {
    "scrolled": true
   },
   "outputs": [
    {
     "data": {
      "text/html": [
       "<div>\n",
       "<style scoped>\n",
       "    .dataframe tbody tr th:only-of-type {\n",
       "        vertical-align: middle;\n",
       "    }\n",
       "\n",
       "    .dataframe tbody tr th {\n",
       "        vertical-align: top;\n",
       "    }\n",
       "\n",
       "    .dataframe thead th {\n",
       "        text-align: right;\n",
       "    }\n",
       "</style>\n",
       "<table border=\"1\" class=\"dataframe\">\n",
       "  <thead>\n",
       "    <tr style=\"text-align: right;\">\n",
       "      <th></th>\n",
       "      <th>f0</th>\n",
       "      <th>f1</th>\n",
       "      <th>f2</th>\n",
       "    </tr>\n",
       "  </thead>\n",
       "  <tbody>\n",
       "    <tr>\n",
       "      <th>23482</th>\n",
       "      <td>-0.644986</td>\n",
       "      <td>1.694935</td>\n",
       "      <td>-0.240844</td>\n",
       "    </tr>\n",
       "    <tr>\n",
       "      <th>78499</th>\n",
       "      <td>-1.038627</td>\n",
       "      <td>1.529464</td>\n",
       "      <td>1.323512</td>\n",
       "    </tr>\n",
       "    <tr>\n",
       "      <th>41891</th>\n",
       "      <td>-0.418261</td>\n",
       "      <td>-0.894233</td>\n",
       "      <td>-1.338430</td>\n",
       "    </tr>\n",
       "    <tr>\n",
       "      <th>45458</th>\n",
       "      <td>-0.025129</td>\n",
       "      <td>0.936552</td>\n",
       "      <td>1.148631</td>\n",
       "    </tr>\n",
       "    <tr>\n",
       "      <th>63348</th>\n",
       "      <td>1.423971</td>\n",
       "      <td>-1.386338</td>\n",
       "      <td>-1.152141</td>\n",
       "    </tr>\n",
       "  </tbody>\n",
       "</table>\n",
       "</div>"
      ],
      "text/plain": [
       "             f0        f1        f2\n",
       "23482 -0.644986  1.694935 -0.240844\n",
       "78499 -1.038627  1.529464  1.323512\n",
       "41891 -0.418261 -0.894233 -1.338430\n",
       "45458 -0.025129  0.936552  1.148631\n",
       "63348  1.423971 -1.386338 -1.152141"
      ]
     },
     "execution_count": 17,
     "metadata": {},
     "output_type": "execute_result"
    }
   ],
   "source": [
    "# Scale the features in the dataset 0\n",
    "scaler = StandardScaler()\n",
    "scaler.fit(features_0_train[numeric])\n",
    "\n",
    "features_0_train[numeric] = scaler.transform(features_0_train[numeric])\n",
    "features_0_valid[numeric] = scaler.transform(features_0_valid[numeric])\n",
    "\n",
    "# Display the scaled training sample on the screen\n",
    "features_0_train.head()"
   ]
  },
  {
   "cell_type": "code",
   "execution_count": 18,
   "metadata": {},
   "outputs": [
    {
     "data": {
      "text/html": [
       "<div>\n",
       "<style scoped>\n",
       "    .dataframe tbody tr th:only-of-type {\n",
       "        vertical-align: middle;\n",
       "    }\n",
       "\n",
       "    .dataframe tbody tr th {\n",
       "        vertical-align: top;\n",
       "    }\n",
       "\n",
       "    .dataframe thead th {\n",
       "        text-align: right;\n",
       "    }\n",
       "</style>\n",
       "<table border=\"1\" class=\"dataframe\">\n",
       "  <thead>\n",
       "    <tr style=\"text-align: right;\">\n",
       "      <th></th>\n",
       "      <th>f0</th>\n",
       "      <th>f1</th>\n",
       "      <th>f2</th>\n",
       "    </tr>\n",
       "  </thead>\n",
       "  <tbody>\n",
       "    <tr>\n",
       "      <th>77267</th>\n",
       "      <td>0.046374</td>\n",
       "      <td>-0.766176</td>\n",
       "      <td>-0.876494</td>\n",
       "    </tr>\n",
       "    <tr>\n",
       "      <th>64106</th>\n",
       "      <td>1.028877</td>\n",
       "      <td>0.242691</td>\n",
       "      <td>-1.461482</td>\n",
       "    </tr>\n",
       "    <tr>\n",
       "      <th>266</th>\n",
       "      <td>-1.047039</td>\n",
       "      <td>0.556037</td>\n",
       "      <td>-1.466914</td>\n",
       "    </tr>\n",
       "    <tr>\n",
       "      <th>23482</th>\n",
       "      <td>1.448002</td>\n",
       "      <td>0.259348</td>\n",
       "      <td>0.300477</td>\n",
       "    </tr>\n",
       "    <tr>\n",
       "      <th>97588</th>\n",
       "      <td>-1.475084</td>\n",
       "      <td>-0.801688</td>\n",
       "      <td>-0.871130</td>\n",
       "    </tr>\n",
       "  </tbody>\n",
       "</table>\n",
       "</div>"
      ],
      "text/plain": [
       "             f0        f1        f2\n",
       "77267  0.046374 -0.766176 -0.876494\n",
       "64106  1.028877  0.242691 -1.461482\n",
       "266   -1.047039  0.556037 -1.466914\n",
       "23482  1.448002  0.259348  0.300477\n",
       "97588 -1.475084 -0.801688 -0.871130"
      ]
     },
     "execution_count": 18,
     "metadata": {},
     "output_type": "execute_result"
    }
   ],
   "source": [
    "# Scale the features in the dataset 1\n",
    "scaler = StandardScaler()\n",
    "scaler.fit(features_1_train[numeric])\n",
    "\n",
    "features_1_train[numeric] = scaler.transform(features_1_train[numeric])\n",
    "features_1_valid[numeric] = scaler.transform(features_1_valid[numeric])\n",
    "\n",
    "# Display the scaled training sample on the screen\n",
    "features_1_train.head()"
   ]
  },
  {
   "cell_type": "code",
   "execution_count": 19,
   "metadata": {
    "scrolled": true
   },
   "outputs": [
    {
     "data": {
      "text/html": [
       "<div>\n",
       "<style scoped>\n",
       "    .dataframe tbody tr th:only-of-type {\n",
       "        vertical-align: middle;\n",
       "    }\n",
       "\n",
       "    .dataframe tbody tr th {\n",
       "        vertical-align: top;\n",
       "    }\n",
       "\n",
       "    .dataframe thead th {\n",
       "        text-align: right;\n",
       "    }\n",
       "</style>\n",
       "<table border=\"1\" class=\"dataframe\">\n",
       "  <thead>\n",
       "    <tr style=\"text-align: right;\">\n",
       "      <th></th>\n",
       "      <th>f0</th>\n",
       "      <th>f1</th>\n",
       "      <th>f2</th>\n",
       "    </tr>\n",
       "  </thead>\n",
       "  <tbody>\n",
       "    <tr>\n",
       "      <th>77267</th>\n",
       "      <td>-3.230092</td>\n",
       "      <td>-1.098621</td>\n",
       "      <td>0.024212</td>\n",
       "    </tr>\n",
       "    <tr>\n",
       "      <th>64106</th>\n",
       "      <td>1.735345</td>\n",
       "      <td>-1.464009</td>\n",
       "      <td>-1.421983</td>\n",
       "    </tr>\n",
       "    <tr>\n",
       "      <th>266</th>\n",
       "      <td>-0.460921</td>\n",
       "      <td>-0.815345</td>\n",
       "      <td>-1.414064</td>\n",
       "    </tr>\n",
       "    <tr>\n",
       "      <th>23482</th>\n",
       "      <td>0.985922</td>\n",
       "      <td>0.736131</td>\n",
       "      <td>-1.650855</td>\n",
       "    </tr>\n",
       "    <tr>\n",
       "      <th>97588</th>\n",
       "      <td>-0.302063</td>\n",
       "      <td>0.199724</td>\n",
       "      <td>-0.561447</td>\n",
       "    </tr>\n",
       "  </tbody>\n",
       "</table>\n",
       "</div>"
      ],
      "text/plain": [
       "             f0        f1        f2\n",
       "77267 -3.230092 -1.098621  0.024212\n",
       "64106  1.735345 -1.464009 -1.421983\n",
       "266   -0.460921 -0.815345 -1.414064\n",
       "23482  0.985922  0.736131 -1.650855\n",
       "97588 -0.302063  0.199724 -0.561447"
      ]
     },
     "execution_count": 19,
     "metadata": {},
     "output_type": "execute_result"
    }
   ],
   "source": [
    "# Scale the features in the dataset 2\n",
    "scaler = StandardScaler()\n",
    "scaler.fit(features_2_train[numeric])\n",
    "\n",
    "features_2_train[numeric] = scaler.transform(features_2_train[numeric])\n",
    "features_2_valid[numeric] = scaler.transform(features_2_valid[numeric])\n",
    "\n",
    "# Display the scaled training sample on the screen\n",
    "features_2_train.head()"
   ]
  },
  {
   "cell_type": "markdown",
   "metadata": {},
   "source": "### Training and testing models"
  },
  {
   "cell_type": "markdown",
   "metadata": {},
   "source": "We will train a linear regression model for each dataset, make a prediction, and calculate the root mean square error (RMSE) for each model. Then we will display the RMSE, the average predicted raw material inventory, and the average actual raw material inventory on the screen."
  },
  {
   "cell_type": "code",
   "execution_count": 20,
   "metadata": {},
   "outputs": [
    {
     "data": {
      "text/plain": [
       "'Значение RMSE модели №0: 37.8304'"
      ]
     },
     "metadata": {},
     "output_type": "display_data"
    },
    {
     "data": {
      "text/plain": [
       "'Предсказанный средний запас сырья: 92.5252 тыс. баррелей'"
      ]
     },
     "metadata": {},
     "output_type": "display_data"
    },
    {
     "data": {
      "text/plain": [
       "'Истинный средний запас сырья: 92.4565 тыс. баррелей'"
      ]
     },
     "execution_count": 20,
     "metadata": {},
     "output_type": "execute_result"
    }
   ],
   "source": [
    "model_0 = LinearRegression()\n",
    "model_0.fit(features_0_train, target_0_train)\n",
    "predictions_0 = model_0.predict(features_0_valid)\n",
    "rmse_0_valid = mean_squared_error(target_0_valid, predictions_0, squared=False)\n",
    "\n",
    "display(f'Model 0 RMSE value: {round(rmse_0_valid, 4)}')\n",
    "display(f'Predicted average raw material inventory: {round(predictions_0.mean(), 4)} thousand barrels')\n",
    "f'True average raw material inventory: {round(target_0_valid.mean(), 4)} thousand barrels'"
   ]
  },
  {
   "cell_type": "code",
   "execution_count": 21,
   "metadata": {},
   "outputs": [
    {
     "data": {
      "text/plain": [
       "'Значение RMSE модели №1: 0.8899'"
      ]
     },
     "metadata": {},
     "output_type": "display_data"
    },
    {
     "data": {
      "text/plain": [
       "'Предсказанный средний запас сырья: 69.0331 тыс. баррелей'"
      ]
     },
     "metadata": {},
     "output_type": "display_data"
    },
    {
     "data": {
      "text/plain": [
       "'Истинный средний запас сырья: 69.0376 тыс. баррелей'"
      ]
     },
     "execution_count": 21,
     "metadata": {},
     "output_type": "execute_result"
    }
   ],
   "source": [
    "model_1 = LinearRegression()\n",
    "model_1.fit(features_1_train, target_1_train)\n",
    "predictions_1 = model_1.predict(features_1_valid)\n",
    "rmse_1_valid = mean_squared_error(target_1_valid, predictions_1, squared=False)\n",
    "\n",
    "display(f'Model 1 RMSE value: {round(rmse_1_valid, 4)}')\n",
    "display(f'Predicted average raw material inventory: {round(predictions_1.mean(), 4)} thousand barrels')\n",
    "f'True average raw material inventory: {round(target_1_valid.mean(), 4)} thousand barrels'"
   ]
  },
  {
   "cell_type": "code",
   "execution_count": 22,
   "metadata": {},
   "outputs": [
    {
     "data": {
      "text/plain": [
       "'Значение RMSE модели №2: 39.843'"
      ]
     },
     "metadata": {},
     "output_type": "display_data"
    },
    {
     "data": {
      "text/plain": [
       "'Предсказанный средний запас сырья: 95.0644 тыс. баррелей'"
      ]
     },
     "metadata": {},
     "output_type": "display_data"
    },
    {
     "data": {
      "text/plain": [
       "'Истинный средний запас сырья: 94.8153 тыс. баррелей'"
      ]
     },
     "execution_count": 22,
     "metadata": {},
     "output_type": "execute_result"
    }
   ],
   "source": [
    "model_2 = LinearRegression()\n",
    "model_2.fit(features_2_train, target_2_train)\n",
    "predictions_2 = model_2.predict(features_2_valid)\n",
    "rmse_2_valid = mean_squared_error(target_2_valid, predictions_2, squared=False)\n",
    "\n",
    "display(f'Model 2 RMSE value: {round(rmse_2_valid, 4)}')\n",
    "display(f'Predicted average raw material inventory: {round(predictions_2.mean(), 4)} thousand barrels')\n",
    "f'True average raw material inventory: {round(target_2_valid.mean(), 4)} thousand barrels'"
   ]
  },
  {
   "cell_type": "markdown",
   "metadata": {},
   "source": [
    "Model evaluation:\n",
    "\n",
    "The models for regions #0 and #2 show RMSE values in the range of 37-39. Meanwhile, the model for region #1 showed an RMSE value of 0.8899. This is a remarkable result. The model very accurately predicts the volume of crude oil in the wells. The root mean square error is less than 1,000 barrels. This means that our model is off by an average of 1,000 barrels."
   ]
  },
  {
   "cell_type": "code",
   "execution_count": 23,
   "metadata": {},
   "outputs": [
    {
     "data": {
      "text/html": [
       "<div>\n",
       "<style scoped>\n",
       "    .dataframe tbody tr th:only-of-type {\n",
       "        vertical-align: middle;\n",
       "    }\n",
       "\n",
       "    .dataframe tbody tr th {\n",
       "        vertical-align: top;\n",
       "    }\n",
       "\n",
       "    .dataframe thead th {\n",
       "        text-align: right;\n",
       "    }\n",
       "</style>\n",
       "<table border=\"1\" class=\"dataframe\">\n",
       "  <thead>\n",
       "    <tr style=\"text-align: right;\">\n",
       "      <th></th>\n",
       "      <th>f0</th>\n",
       "      <th>f1</th>\n",
       "      <th>f2</th>\n",
       "      <th>product</th>\n",
       "    </tr>\n",
       "  </thead>\n",
       "  <tbody>\n",
       "    <tr>\n",
       "      <th>f0</th>\n",
       "      <td>1.000000</td>\n",
       "      <td>0.182270</td>\n",
       "      <td>-0.001788</td>\n",
       "      <td>-0.030501</td>\n",
       "    </tr>\n",
       "    <tr>\n",
       "      <th>f1</th>\n",
       "      <td>0.182270</td>\n",
       "      <td>1.000000</td>\n",
       "      <td>-0.002610</td>\n",
       "      <td>-0.010168</td>\n",
       "    </tr>\n",
       "    <tr>\n",
       "      <th>f2</th>\n",
       "      <td>-0.001788</td>\n",
       "      <td>-0.002610</td>\n",
       "      <td>1.000000</td>\n",
       "      <td>0.999397</td>\n",
       "    </tr>\n",
       "    <tr>\n",
       "      <th>product</th>\n",
       "      <td>-0.030501</td>\n",
       "      <td>-0.010168</td>\n",
       "      <td>0.999397</td>\n",
       "      <td>1.000000</td>\n",
       "    </tr>\n",
       "  </tbody>\n",
       "</table>\n",
       "</div>"
      ],
      "text/plain": [
       "               f0        f1        f2   product\n",
       "f0       1.000000  0.182270 -0.001788 -0.030501\n",
       "f1       0.182270  1.000000 -0.002610 -0.010168\n",
       "f2      -0.001788 -0.002610  1.000000  0.999397\n",
       "product -0.030501 -0.010168  0.999397  1.000000"
      ]
     },
     "execution_count": 23,
     "metadata": {},
     "output_type": "execute_result"
    }
   ],
   "source": [
    "data_1.corr()"
   ]
  },
  {
   "cell_type": "code",
   "execution_count": 24,
   "metadata": {},
   "outputs": [
    {
     "data": {
      "image/png": "[encoded data removed]",
      "text/plain": [
       "<Figure size 1728x1152 with 16 Axes>"
      ]
     },
     "metadata": {
      "needs_background": "light"
     },
     "output_type": "display_data"
    }
   ],
   "source": [
    "ax = pd.plotting.scatter_matrix(data_1, figsize=(24, 16))"
   ]
  },
  {
   "cell_type": "markdown",
   "metadata": {},
   "source": "## Preparing to calculate profit"
  },
  {
   "cell_type": "markdown",
   "metadata": {},
   "source": "### Creating variables"
  },
  {
   "cell_type": "markdown",
   "metadata": {},
   "source": [
    "Problem statement:\n",
    "\n",
    "* Only linear regression is suitable for training the model (others are not predictable enough).\n",
    "* During regional exploration, 500 points are explored, from which the best 200 are selected for development using machine learning.\n",
    "* The well development budget in the region is 10 billion rubles.\n",
    "* At current prices, one barrel of crude oil generates 450 rubles in revenue. The revenue per unit of product is 450,000 rubles, since the volume is specified in thousands of barrels.\n",
    "* After risk assessment, only those regions with a loss probability of less than 2.5% should be retained. Among these, the region with the highest average profit is selected.\n",
    "\n",
    "The data is synthetic: contract details and field characteristics are not disclosed."
   ]
  },
  {
   "cell_type": "code",
   "execution_count": 25,
   "metadata": {},
   "outputs": [],
   "source": [
    "# Create variables for the task conditions\n",
    "\n",
    "NUMBER_OF_WELLS = 500        # Number of wells studied in the region\n",
    "NUMBER_OF_BEST_WELLS = 200   # The number of selected best wells in the region\n",
    "BUDGET = 10000000000         # Budget for well development in the region, rubles.\n",
    "GROSS_PROFIT = 450000        # Income or gross profit per 1,000 barrels, RUB\n",
    "THRESHOLD = 0.025            # Loss probability threshold\n",
    "product = 0                  # Variable to indicate the volume of reserves in each well, in thousands of barrels"
   ]
  },
  {
   "cell_type": "markdown",
   "metadata": {},
   "source": "### Formulas for calculations"
  },
  {
   "cell_type": "markdown",
   "metadata": {},
   "source": [
    "Let's develop a formula for calculating the minimum required average product yield in a region's fields. If the average product yield in a region is greater than or equal to this value, then we can assume that the development of that region will be at least break-even.\n",
    "\n",
    "We'll assume that the condition for developing a region is that the gross profit is greater than or equal to the budget. That is, the sum of the product from the 200 best wells multiplied by the gross profit must be greater than or equal to the budget.\n",
    "\n",
    "We'll write this as a formula where:\n",
    "* `n = NUMBER_OF_BEST_WELLS`\n",
    "* `p = product`\n",
    "* `g = GROSS_PROFIT`"
   ]
  },
  {
   "cell_type": "markdown",
   "metadata": {},
   "source": [
    "$$\\sum_{i=p}^{n}i * g\\geq budget$$"
   ]
  },
  {
   "cell_type": "markdown",
   "metadata": {},
   "source": [
    "The minimum mean product (MMP) in this case will be equal to the budget divided by the product of the gross profit and the number of best wells.\n",
    "\n",
    "We'll write this as a formula, where:\n",
    "* `MMP` - minimal mean product\n",
    "* `n = number_of_best_wells`\n",
    "* `g = gross_profit`"
   ]
  },
  {
   "cell_type": "markdown",
   "metadata": {},
   "source": [
    "$$MMP=\\frac{budget}{(n*g)}$$"
   ]
  },
  {
   "cell_type": "code",
   "execution_count": 26,
   "metadata": {},
   "outputs": [
    {
     "data": {
      "text/plain": [
       "'Минимальное среднее количество продукта для разработки региона равно 111.11 тыс. баррелей'"
      ]
     },
     "execution_count": 26,
     "metadata": {},
     "output_type": "execute_result"
    }
   ],
   "source": [
    "# Calculate MMP using the described formula\n",
    "mmp = BUDGET / (NUMBER_OF_BEST_WELLS * GROSS_PROFIT)\n",
    "f'The minimum average quantity of product for development of a region is {round(mmp, 2)} thousand barrels'"
   ]
  },
  {
   "cell_type": "code",
   "execution_count": 27,
   "metadata": {},
   "outputs": [
    {
     "data": {
      "text/plain": [
       "92.49948184460142"
      ]
     },
     "metadata": {},
     "output_type": "display_data"
    },
    {
     "data": {
      "text/plain": [
       "68.82523184270339"
      ]
     },
     "metadata": {},
     "output_type": "display_data"
    },
    {
     "data": {
      "text/plain": [
       "95.00042479767433"
      ]
     },
     "execution_count": 27,
     "metadata": {},
     "output_type": "execute_result"
    }
   ],
   "source": [
    "# Check the average product values in the regions\n",
    "display(data_0['product'].mean())\n",
    "display(data_1['product'].mean())\n",
    "data_2['product'].mean()"
   ]
  },
  {
   "cell_type": "code",
   "execution_count": 28,
   "metadata": {},
   "outputs": [
    {
     "data": {
      "text/plain": [
       "184.83373964536008"
      ]
     },
     "metadata": {},
     "output_type": "display_data"
    },
    {
     "data": {
      "text/plain": [
       "137.9454077409057"
      ]
     },
     "metadata": {},
     "output_type": "display_data"
    },
    {
     "data": {
      "text/plain": [
       "189.55147698176646"
      ]
     },
     "execution_count": 28,
     "metadata": {},
     "output_type": "execute_result"
    }
   ],
   "source": [
    "# Check the average values of the 200 best wells in the regions\n",
    "display(data_0['product'].sort_values(ascending=False).head(200).mean())\n",
    "display(data_1['product'].sort_values(ascending=False).head(200).mean())\n",
    "data_2['product'].sort_values(ascending=False).head(200).mean()"
   ]
  },
  {
   "cell_type": "markdown",
   "metadata": {},
   "source": [
    "Conclusions:\n",
    "The calculations yielded a minimum average product volume for regional development of 111,110 barrels. This value is higher than the average product volume for the regions as a whole. However, if we select the 200 best wells in each region, the average product volumes for these wells are significantly higher than the required minimum average."
   ]
  },
  {
   "cell_type": "markdown",
   "metadata": {},
   "source": "### Profit calculation function"
  },
  {
   "cell_type": "markdown",
   "metadata": {},
   "source": [
    "Let's write a function to calculate profits for selected wells and model predictions. Our function will accept a data frame containing records for 500 random wells in the region. These records will include data on the actual product volumes in the wells and the product volumes predicted by the machine learning model.\n",
    "\n",
    "Based on the model predictions, we'll select the 200 best wells and calculate the predicted and actual profits from these wells."
   ]
  },
  {
   "cell_type": "code",
   "execution_count": 29,
   "metadata": {},
   "outputs": [],
   "source": [
    "def calc_total_operating_profit(df, wells_number, gross_profit, operational_expenses):\n",
    "    '''\n",
    "    The function accepts the following inputs:\n",
    "    df - data frame containing both predicted product volumes in wells and their actual values\n",
    "    wells_number - number of best wells to be developed\n",
    "    gross_profit - gross profit per 1,000 barrels\n",
    "    operational_expenses - operating expenses for the development of the region\n",
    "\n",
    "    The function returns the operating profit in rubles, rounded to two decimal places.\n",
    "    '''\n",
    "    top_product_real = df.sort_values(by='predictions', ascending=False).head(wells_number)['product']\n",
    "    top_product_predicted = df.sort_values(by='predictions', ascending=False).head(wells_number)['predictions']\n",
    "    sum_of_real_product = top_product_real.sum()\n",
    "    sum_of_predicted_product = top_product_predicted.sum()\n",
    "    operating_profit_real = round((sum_of_real_product * gross_profit) - operational_expenses, 2)\n",
    "    operating_profit_predicted = round((sum_of_predicted_product * gross_profit) - operational_expenses, 2)\n",
    "    # display(top_product_real)\n",
    "    # display(top_product_predicted)\n",
    "    return operating_profit_real, operating_profit_predicted\n",
    "    "
   ]
  },
  {
   "cell_type": "markdown",
   "metadata": {},
   "source": "## Calculation of profit and risks"
  },
  {
   "cell_type": "markdown",
   "metadata": {},
   "source": "### Preparation"
  },
  {
   "cell_type": "markdown",
   "metadata": {},
   "source": "Let's write a function to calculate the average profit, 95% confidence interval, and probability of loss."
  },
  {
   "cell_type": "code",
   "execution_count": 30,
   "metadata": {},
   "outputs": [],
   "source": [
    "# Function to calculate the average profit, 95% confidence interval, and probability of loss\n",
    "def calc_bootstrap_profit(model, features, target, region_number, number_of_wells, state):\n",
    "    '''\n",
    "    The function accepts the following inputs:\n",
    "    model - trained machine learning model\n",
    "    features - features of the wells we are interested in,\n",
    "    target - target feature, product volume in wells\n",
    "    region_number - region number,\n",
    "    number_of_wells - number of wells we select for analysis,\n",
    "    state - random state generated by the np.random.RandomState function\n",
    "\n",
    "    The function returns the result in the form of the following information displayed on the screen:\n",
    "    1. The difference between the predicted and actual average profit.\n",
    "    2. The average actual operating profit of the region.\n",
    "    3. 95% confidence interval.\n",
    "    4. Probability of losses\n",
    "    '''\n",
    "    \n",
    "    df = pd.DataFrame(model.predict(features), columns=['predictions'])\n",
    "    product = target.copy().reset_index(drop=True)\n",
    "    df['product'] = product[df.index]\n",
    "    \n",
    "    values = []\n",
    "    for i in range(1000):\n",
    "        sample_df = df.sample(n=number_of_wells, replace=True, random_state=state)\n",
    "        result = calc_total_operating_profit(sample_df, NUMBER_OF_BEST_WELLS, GROSS_PROFIT, BUDGET)\n",
    "        values.append(result)\n",
    "\n",
    "    df_values = pd.DataFrame(values, columns=['real', 'predicted'])\n",
    "    mean_profit_diff = round(df_values.predicted.mean() - df_values.real.mean(), 2)\n",
    "    higher_real = round(df_values.real.quantile(0.975), 2)\n",
    "    lower_real = round(df_values.real.quantile(0.025), 2)\n",
    "    loss_probability = round((df_values.real[df_values.real < 0].count() / df_values.shape[0]) * 100, 2)\n",
    "    \n",
    "    display(f'Average real operating profit for region No.{region_number}: {round(df_values.real.mean(), 2)} RUB')\n",
    "    display(f'Predicted average profit - actual average profit = {mean_profit_diff} RUB')\n",
    "    display(f'95% confidence interval for region No.{region_number} is in the range from {lower_real} to {higher_real} RUB')\n",
    "    display(f'The probability of losses is {loss_probability}%')"
   ]
  },
  {
   "cell_type": "markdown",
   "metadata": {},
   "source": "### Calculation of profit and risks"
  },
  {
   "cell_type": "code",
   "execution_count": 31,
   "metadata": {},
   "outputs": [
    {
     "data": {
      "text/plain": [
       "count    24998.000000\n",
       "mean        92.456470\n",
       "std         44.378605\n",
       "min          0.024830\n",
       "25%         56.235889\n",
       "50%         91.743137\n",
       "75%        128.663201\n",
       "max        185.362690\n",
       "Name: product, dtype: float64"
      ]
     },
     "execution_count": 31,
     "metadata": {},
     "output_type": "execute_result"
    }
   ],
   "source": [
    "target_0_valid.describe().T"
   ]
  },
  {
   "cell_type": "code",
   "execution_count": 32,
   "metadata": {},
   "outputs": [
    {
     "data": {
      "text/plain": [
       "count    74992.000000\n",
       "mean        92.513820\n",
       "std         44.259953\n",
       "min          0.000000\n",
       "25%         56.582051\n",
       "50%         91.875377\n",
       "75%        128.538843\n",
       "max        185.364347\n",
       "Name: product, dtype: float64"
      ]
     },
     "execution_count": 32,
     "metadata": {},
     "output_type": "execute_result"
    }
   ],
   "source": [
    "target_0_train.describe().T"
   ]
  },
  {
   "cell_type": "code",
   "execution_count": 33,
   "metadata": {},
   "outputs": [
    {
     "data": {
      "text/plain": [
       "'-------------------------------------------------'"
      ]
     },
     "metadata": {},
     "output_type": "display_data"
    },
    {
     "data": {
      "text/plain": [
       "'Средняя реальная операционная прибыль региона №0: 397627626.9 руб.'"
      ]
     },
     "metadata": {},
     "output_type": "display_data"
    },
    {
     "data": {
      "text/plain": [
       "'Предсказанная средняя прибыль - реальная средняя прибыль = -42539687.79 руб.'"
      ]
     },
     "metadata": {},
     "output_type": "display_data"
    },
    {
     "data": {
      "text/plain": [
       "'95% доверительный интервал региона №0 находится в диапазоне от -127587661.64 до 883764803.54 руб.'"
      ]
     },
     "metadata": {},
     "output_type": "display_data"
    },
    {
     "data": {
      "text/plain": [
       "'Вероятность убытков составляет 6.6%'"
      ]
     },
     "metadata": {},
     "output_type": "display_data"
    },
    {
     "data": {
      "text/plain": [
       "'-------------------------------------------------'"
      ]
     },
     "metadata": {},
     "output_type": "display_data"
    },
    {
     "data": {
      "text/plain": [
       "'Средняя реальная операционная прибыль региона №1: 478125300.16 руб.'"
      ]
     },
     "metadata": {},
     "output_type": "display_data"
    },
    {
     "data": {
      "text/plain": [
       "'Предсказанная средняя прибыль - реальная средняя прибыль = -2448111.37 руб.'"
      ]
     },
     "metadata": {},
     "output_type": "display_data"
    },
    {
     "data": {
      "text/plain": [
       "'95% доверительный интервал региона №1 находится в диапазоне от 77305967.75 до 885796503.98 руб.'"
      ]
     },
     "metadata": {},
     "output_type": "display_data"
    },
    {
     "data": {
      "text/plain": [
       "'Вероятность убытков составляет 1.1%'"
      ]
     },
     "metadata": {},
     "output_type": "display_data"
    },
    {
     "data": {
      "text/plain": [
       "'-------------------------------------------------'"
      ]
     },
     "metadata": {},
     "output_type": "display_data"
    },
    {
     "data": {
      "text/plain": [
       "'Средняя реальная операционная прибыль региона №2: 337596703.2 руб.'"
      ]
     },
     "metadata": {},
     "output_type": "display_data"
    },
    {
     "data": {
      "text/plain": [
       "'Предсказанная средняя прибыль - реальная средняя прибыль = -56309666.6 руб.'"
      ]
     },
     "metadata": {},
     "output_type": "display_data"
    },
    {
     "data": {
      "text/plain": [
       "'95% доверительный интервал региона №2 находится в диапазоне от -174401722.13 до 887907891.17 руб.'"
      ]
     },
     "metadata": {},
     "output_type": "display_data"
    },
    {
     "data": {
      "text/plain": [
       "'Вероятность убытков составляет 10.4%'"
      ]
     },
     "metadata": {},
     "output_type": "display_data"
    },
    {
     "data": {
      "text/plain": [
       "'-------------------------------------------------'"
      ]
     },
     "metadata": {},
     "output_type": "display_data"
    }
   ],
   "source": [
    "# Apply our function to each region separately\n",
    "state = np.random.RandomState(42)\n",
    "\n",
    "display('-------------------------------------------------')\n",
    "calc_bootstrap_profit(model_0, features_0_valid, target_0_valid, 0, NUMBER_OF_WELLS, state)\n",
    "display('-------------------------------------------------')\n",
    "calc_bootstrap_profit(model_1, features_1_valid, target_1_valid, 1, NUMBER_OF_WELLS, state)\n",
    "display('-------------------------------------------------')\n",
    "calc_bootstrap_profit(model_2, features_2_valid, target_2_valid, 2, NUMBER_OF_WELLS, state)\n",
    "display('-------------------------------------------------')"
   ]
  },
  {
   "cell_type": "markdown",
   "metadata": {},
   "source": "### Conclusions"
  },
  {
   "cell_type": "markdown",
   "metadata": {},
   "source": [
    "As a result of applying linear regression as a machine learning model and the Bootstrap technique with the generation of 1,000 samples for each region, the following data was obtained:\n",
    "\n",
    "For region No. 0:\n",
    "1. Actual average operating profit for region No. 0: 398 million rubles.\n",
    "2. Actual profit exceeds the predicted profit by 43 million rubles.\n",
    "2. The 95% confidence interval for region No. 0 is in the range from -128 to 884 million rubles.\n",
    "3. The probability of losses is 6.6%.\n",
    "\n",
    "For region No. 1:\n",
    "1. Actual average operating profit for region No. 1: 478 million rubles.\n",
    "2. Actual profit exceeds predicted profit by 2 million rubles.\n",
    "2. The 95% confidence interval for region No. 1 ranges from 77 to 885 million rubles.\n",
    "3. The probability of losses is 1.1%.\n",
    "\n",
    "For region No. 2:\n",
    "1. Actual average operating profit for region No. 2: 337 million rubles.\n",
    "2. Actual profit exceeds the predicted profit by 56 million rubles.\n",
    "2. The 95% confidence interval for region No. 2 ranges from -174 to 888 million rubles.\n",
    "3. The probability of losses is 10.4%.\n",
    "\n",
    "The least profitable region is region No. 2, with a real average profit of 337 million rubles and a probability of losses of 10.4%.\n",
    "\n",
    "The most profitable region for development is region No. 1, with a real average operating profit of 478 million rubles. The probability of losses for this region is 1.1%, which is less than the established threshold of 2.5%.\n",
    "\n",
    "Region No. 1 is recommended for development."
   ]
  }
 ],
 "metadata": {
  "ExecuteTimeLog": [
   {
    "duration": 3,
    "start_time": "2022-07-03T10:56:24.495Z"
   },
   {
    "duration": 1473,
    "start_time": "2022-07-03T10:57:45.799Z"
   },
   {
    "duration": 3,
    "start_time": "2022-07-03T10:57:49.739Z"
   },
   {
    "duration": 352,
    "start_time": "2022-07-03T10:57:50.795Z"
   },
   {
    "duration": 484,
    "start_time": "2022-07-03T10:58:53.279Z"
   },
   {
    "duration": 44,
    "start_time": "2022-07-03T11:01:49.283Z"
   },
   {
    "duration": 42,
    "start_time": "2022-07-03T11:09:11.608Z"
   },
   {
    "duration": 109,
    "start_time": "2022-07-03T11:09:21.338Z"
   },
   {
    "duration": 203,
    "start_time": "2022-07-03T11:09:44.603Z"
   },
   {
    "duration": 168,
    "start_time": "2022-07-03T11:10:04.912Z"
   },
   {
    "duration": 60,
    "start_time": "2022-07-03T11:11:06.043Z"
   },
   {
    "duration": 45,
    "start_time": "2022-07-03T11:11:13.687Z"
   },
   {
    "duration": 48,
    "start_time": "2022-07-03T11:11:19.295Z"
   },
   {
    "duration": 153,
    "start_time": "2022-07-03T11:11:52.699Z"
   },
   {
    "duration": 161,
    "start_time": "2022-07-03T11:14:08.975Z"
   },
   {
    "duration": 62,
    "start_time": "2022-07-03T11:14:37.783Z"
   },
   {
    "duration": 20,
    "start_time": "2022-07-03T11:30:40.710Z"
   },
   {
    "duration": 18,
    "start_time": "2022-07-03T11:33:24.139Z"
   },
   {
    "duration": 48,
    "start_time": "2022-07-03T11:33:31.590Z"
   },
   {
    "duration": 22,
    "start_time": "2022-07-03T11:33:34.342Z"
   },
   {
    "duration": 29,
    "start_time": "2022-07-03T11:35:00.242Z"
   },
   {
    "duration": 29,
    "start_time": "2022-07-03T11:47:47.231Z"
   },
   {
    "duration": 30,
    "start_time": "2022-07-03T11:47:55.534Z"
   },
   {
    "duration": 104,
    "start_time": "2022-07-03T11:48:55.183Z"
   },
   {
    "duration": 28,
    "start_time": "2022-07-03T11:59:26.820Z"
   },
   {
    "duration": 26,
    "start_time": "2022-07-03T11:59:55.211Z"
   },
   {
    "duration": 40,
    "start_time": "2022-07-03T11:59:58.036Z"
   },
   {
    "duration": 71,
    "start_time": "2022-07-03T12:00:19.215Z"
   },
   {
    "duration": 5,
    "start_time": "2022-07-03T12:01:17.226Z"
   },
   {
    "duration": 1350,
    "start_time": "2022-07-03T12:01:17.235Z"
   },
   {
    "duration": 3,
    "start_time": "2022-07-03T12:01:18.588Z"
   },
   {
    "duration": 419,
    "start_time": "2022-07-03T12:01:18.593Z"
   },
   {
    "duration": 66,
    "start_time": "2022-07-03T12:01:19.014Z"
   },
   {
    "duration": 124,
    "start_time": "2022-07-03T12:01:19.083Z"
   },
   {
    "duration": 86,
    "start_time": "2022-07-03T12:01:19.209Z"
   },
   {
    "duration": 143,
    "start_time": "2022-07-03T12:01:19.297Z"
   },
   {
    "duration": 32,
    "start_time": "2022-07-03T12:01:19.441Z"
   },
   {
    "duration": 34,
    "start_time": "2022-07-03T12:01:19.475Z"
   },
   {
    "duration": 34,
    "start_time": "2022-07-03T12:01:19.523Z"
   },
   {
    "duration": 40,
    "start_time": "2022-07-03T12:01:19.559Z"
   },
   {
    "duration": 34,
    "start_time": "2022-07-03T12:01:51.872Z"
   },
   {
    "duration": 31,
    "start_time": "2022-07-03T12:01:57.044Z"
   },
   {
    "duration": 65,
    "start_time": "2022-07-03T12:02:30.872Z"
   },
   {
    "duration": 55,
    "start_time": "2022-07-03T12:02:34.260Z"
   },
   {
    "duration": 104,
    "start_time": "2022-07-03T12:02:50.792Z"
   },
   {
    "duration": 52,
    "start_time": "2022-07-03T12:03:15.412Z"
   },
   {
    "duration": 21,
    "start_time": "2022-07-03T12:06:07.509Z"
   },
   {
    "duration": 128,
    "start_time": "2022-07-03T12:06:11.920Z"
   },
   {
    "duration": 11,
    "start_time": "2022-07-03T12:06:51.696Z"
   },
   {
    "duration": 10,
    "start_time": "2022-07-03T12:06:56.216Z"
   },
   {
    "duration": 5,
    "start_time": "2022-07-03T12:07:01.020Z"
   },
   {
    "duration": 9,
    "start_time": "2022-07-03T12:07:08.788Z"
   },
   {
    "duration": 9,
    "start_time": "2022-07-03T12:07:11.496Z"
   },
   {
    "duration": 8,
    "start_time": "2022-07-03T12:07:15.440Z"
   },
   {
    "duration": 13,
    "start_time": "2022-07-03T12:07:24.948Z"
   },
   {
    "duration": 4,
    "start_time": "2022-07-03T12:08:04.080Z"
   },
   {
    "duration": 1323,
    "start_time": "2022-07-03T12:08:04.105Z"
   },
   {
    "duration": 3,
    "start_time": "2022-07-03T12:08:05.430Z"
   },
   {
    "duration": 375,
    "start_time": "2022-07-03T12:08:05.434Z"
   },
   {
    "duration": 39,
    "start_time": "2022-07-03T12:08:05.811Z"
   },
   {
    "duration": 126,
    "start_time": "2022-07-03T12:08:05.852Z"
   },
   {
    "duration": 85,
    "start_time": "2022-07-03T12:08:05.980Z"
   },
   {
    "duration": 135,
    "start_time": "2022-07-03T12:08:06.067Z"
   },
   {
    "duration": 41,
    "start_time": "2022-07-03T12:08:06.204Z"
   },
   {
    "duration": 34,
    "start_time": "2022-07-03T12:08:06.246Z"
   },
   {
    "duration": 45,
    "start_time": "2022-07-03T12:08:06.282Z"
   },
   {
    "duration": 122,
    "start_time": "2022-07-03T12:08:06.329Z"
   },
   {
    "duration": 3,
    "start_time": "2022-07-03T12:08:06.453Z"
   },
   {
    "duration": 22,
    "start_time": "2022-07-03T12:08:06.458Z"
   },
   {
    "duration": 4,
    "start_time": "2022-07-03T12:54:43.623Z"
   },
   {
    "duration": 1339,
    "start_time": "2022-07-03T12:54:43.629Z"
   },
   {
    "duration": 3,
    "start_time": "2022-07-03T12:54:44.970Z"
   },
   {
    "duration": 418,
    "start_time": "2022-07-03T12:54:44.974Z"
   },
   {
    "duration": 50,
    "start_time": "2022-07-03T12:54:45.395Z"
   },
   {
    "duration": 126,
    "start_time": "2022-07-03T12:54:45.446Z"
   },
   {
    "duration": 73,
    "start_time": "2022-07-03T12:54:45.574Z"
   },
   {
    "duration": 143,
    "start_time": "2022-07-03T12:54:45.649Z"
   },
   {
    "duration": 36,
    "start_time": "2022-07-03T12:54:45.793Z"
   },
   {
    "duration": 34,
    "start_time": "2022-07-03T12:54:45.831Z"
   },
   {
    "duration": 32,
    "start_time": "2022-07-03T12:54:45.867Z"
   },
   {
    "duration": 142,
    "start_time": "2022-07-03T12:54:45.901Z"
   },
   {
    "duration": 18,
    "start_time": "2022-07-03T12:54:46.044Z"
   },
   {
    "duration": 4,
    "start_time": "2022-07-03T14:16:58.603Z"
   },
   {
    "duration": 1666,
    "start_time": "2022-07-03T14:16:58.610Z"
   },
   {
    "duration": 3,
    "start_time": "2022-07-03T14:17:00.278Z"
   },
   {
    "duration": 912,
    "start_time": "2022-07-03T14:17:00.282Z"
   },
   {
    "duration": 60,
    "start_time": "2022-07-03T14:17:01.196Z"
   },
   {
    "duration": 132,
    "start_time": "2022-07-03T14:17:01.259Z"
   },
   {
    "duration": 105,
    "start_time": "2022-07-03T14:17:01.393Z"
   },
   {
    "duration": 191,
    "start_time": "2022-07-03T14:17:01.500Z"
   },
   {
    "duration": 61,
    "start_time": "2022-07-03T14:17:01.693Z"
   },
   {
    "duration": 115,
    "start_time": "2022-07-03T14:17:01.756Z"
   },
   {
    "duration": 70,
    "start_time": "2022-07-03T14:17:01.872Z"
   },
   {
    "duration": 167,
    "start_time": "2022-07-03T14:17:01.944Z"
   },
   {
    "duration": 22,
    "start_time": "2022-07-03T14:17:02.113Z"
   },
   {
    "duration": 1305,
    "start_time": "2022-07-03T14:17:02.138Z"
   },
   {
    "duration": 180,
    "start_time": "2022-07-03T14:17:03.446Z"
   },
   {
    "duration": 33,
    "start_time": "2022-07-03T14:17:13.658Z"
   },
   {
    "duration": 1226,
    "start_time": "2022-07-03T15:16:19.112Z"
   },
   {
    "duration": 31,
    "start_time": "2022-07-03T15:16:21.901Z"
   },
   {
    "duration": 30,
    "start_time": "2022-07-03T15:16:23.763Z"
   },
   {
    "duration": 8,
    "start_time": "2022-07-03T15:17:25.373Z"
   },
   {
    "duration": 14,
    "start_time": "2022-07-03T15:17:29.713Z"
   },
   {
    "duration": 4,
    "start_time": "2022-07-03T15:28:53.000Z"
   },
   {
    "duration": 1691,
    "start_time": "2022-07-03T15:28:53.007Z"
   },
   {
    "duration": 2,
    "start_time": "2022-07-03T15:28:54.700Z"
   },
   {
    "duration": 583,
    "start_time": "2022-07-03T15:28:54.705Z"
   },
   {
    "duration": 60,
    "start_time": "2022-07-03T15:28:55.290Z"
   },
   {
    "duration": 147,
    "start_time": "2022-07-03T15:28:55.352Z"
   },
   {
    "duration": 99,
    "start_time": "2022-07-03T15:28:55.501Z"
   },
   {
    "duration": 204,
    "start_time": "2022-07-03T15:28:55.601Z"
   },
   {
    "duration": 51,
    "start_time": "2022-07-03T15:28:55.807Z"
   },
   {
    "duration": 58,
    "start_time": "2022-07-03T15:28:55.860Z"
   },
   {
    "duration": 97,
    "start_time": "2022-07-03T15:28:55.920Z"
   },
   {
    "duration": 197,
    "start_time": "2022-07-03T15:28:56.019Z"
   },
   {
    "duration": 37,
    "start_time": "2022-07-03T15:28:56.219Z"
   },
   {
    "duration": 1586,
    "start_time": "2022-07-03T15:28:56.259Z"
   },
   {
    "duration": 55,
    "start_time": "2022-07-03T15:28:57.847Z"
   },
   {
    "duration": 213,
    "start_time": "2022-07-03T15:28:57.904Z"
   },
   {
    "duration": 16,
    "start_time": "2022-07-03T15:29:24.204Z"
   },
   {
    "duration": 8,
    "start_time": "2022-07-03T15:29:35.499Z"
   },
   {
    "duration": 1808,
    "start_time": "2022-07-03T15:29:35.510Z"
   },
   {
    "duration": 4,
    "start_time": "2022-07-03T15:29:37.319Z"
   },
   {
    "duration": 690,
    "start_time": "2022-07-03T15:29:37.331Z"
   },
   {
    "duration": 82,
    "start_time": "2022-07-03T15:29:38.024Z"
   },
   {
    "duration": 187,
    "start_time": "2022-07-03T15:29:38.114Z"
   },
   {
    "duration": 141,
    "start_time": "2022-07-03T15:29:38.309Z"
   },
   {
    "duration": 255,
    "start_time": "2022-07-03T15:29:38.453Z"
   },
   {
    "duration": 64,
    "start_time": "2022-07-03T15:29:38.710Z"
   },
   {
    "duration": 85,
    "start_time": "2022-07-03T15:29:38.785Z"
   },
   {
    "duration": 82,
    "start_time": "2022-07-03T15:29:38.872Z"
   },
   {
    "duration": 260,
    "start_time": "2022-07-03T15:29:38.962Z"
   },
   {
    "duration": 27,
    "start_time": "2022-07-03T15:29:39.224Z"
   },
   {
    "duration": 3034,
    "start_time": "2022-07-03T15:29:39.255Z"
   },
   {
    "duration": 98,
    "start_time": "2022-07-03T15:29:42.292Z"
   },
   {
    "duration": 139,
    "start_time": "2022-07-03T15:29:42.392Z"
   },
   {
    "duration": 6,
    "start_time": "2022-07-03T15:39:14.459Z"
   },
   {
    "duration": 243,
    "start_time": "2022-07-03T15:41:11.059Z"
   },
   {
    "duration": 162,
    "start_time": "2022-07-03T15:41:45.739Z"
   },
   {
    "duration": 226,
    "start_time": "2022-07-03T15:47:09.202Z"
   },
   {
    "duration": 6,
    "start_time": "2022-07-03T15:47:13.780Z"
   },
   {
    "duration": 219,
    "start_time": "2022-07-03T15:47:16.182Z"
   },
   {
    "duration": 207,
    "start_time": "2022-07-03T15:47:19.611Z"
   },
   {
    "duration": 108,
    "start_time": "2022-07-03T15:47:34.427Z"
   },
   {
    "duration": 97,
    "start_time": "2022-07-03T15:48:04.705Z"
   },
   {
    "duration": 70,
    "start_time": "2022-07-03T15:48:05.710Z"
   },
   {
    "duration": 6,
    "start_time": "2022-07-03T15:51:55.842Z"
   },
   {
    "duration": 6,
    "start_time": "2022-07-03T15:52:03.340Z"
   },
   {
    "duration": 8,
    "start_time": "2022-07-03T15:53:29.000Z"
   },
   {
    "duration": 155,
    "start_time": "2022-07-03T15:54:23.601Z"
   },
   {
    "duration": 110,
    "start_time": "2022-07-03T15:55:57.739Z"
   },
   {
    "duration": 136,
    "start_time": "2022-07-03T15:59:46.502Z"
   },
   {
    "duration": 82,
    "start_time": "2022-07-03T16:00:10.567Z"
   },
   {
    "duration": 55,
    "start_time": "2022-07-03T16:17:41.095Z"
   },
   {
    "duration": 5,
    "start_time": "2022-07-03T16:22:09.214Z"
   },
   {
    "duration": 8,
    "start_time": "2022-07-03T16:22:21.254Z"
   },
   {
    "duration": 115,
    "start_time": "2022-07-03T16:22:57.617Z"
   },
   {
    "duration": 36,
    "start_time": "2022-07-03T16:23:09.695Z"
   },
   {
    "duration": 112,
    "start_time": "2022-07-03T18:57:41.318Z"
   },
   {
    "duration": 3,
    "start_time": "2022-07-03T19:05:23.005Z"
   },
   {
    "duration": 5,
    "start_time": "2022-07-03T19:50:38.207Z"
   },
   {
    "duration": 5,
    "start_time": "2022-07-03T19:51:07.541Z"
   },
   {
    "duration": 4,
    "start_time": "2022-07-03T20:23:57.501Z"
   },
   {
    "duration": 49,
    "start_time": "2022-07-04T03:27:19.885Z"
   },
   {
    "duration": 8,
    "start_time": "2022-07-04T03:27:27.888Z"
   },
   {
    "duration": 1652,
    "start_time": "2022-07-04T03:27:27.898Z"
   },
   {
    "duration": 9,
    "start_time": "2022-07-04T03:27:29.552Z"
   },
   {
    "duration": 1067,
    "start_time": "2022-07-04T03:27:29.569Z"
   },
   {
    "duration": 60,
    "start_time": "2022-07-04T03:27:30.638Z"
   },
   {
    "duration": 162,
    "start_time": "2022-07-04T03:27:30.700Z"
   },
   {
    "duration": 80,
    "start_time": "2022-07-04T03:27:30.869Z"
   },
   {
    "duration": 172,
    "start_time": "2022-07-04T03:27:30.951Z"
   },
   {
    "duration": 45,
    "start_time": "2022-07-04T03:27:31.125Z"
   },
   {
    "duration": 86,
    "start_time": "2022-07-04T03:27:31.172Z"
   },
   {
    "duration": 83,
    "start_time": "2022-07-04T03:27:31.260Z"
   },
   {
    "duration": 196,
    "start_time": "2022-07-04T03:27:31.345Z"
   },
   {
    "duration": 36,
    "start_time": "2022-07-04T03:27:31.543Z"
   },
   {
    "duration": 1146,
    "start_time": "2022-07-04T03:27:31.588Z"
   },
   {
    "duration": 50,
    "start_time": "2022-07-04T03:27:32.736Z"
   },
   {
    "duration": 53,
    "start_time": "2022-07-04T03:27:32.788Z"
   },
   {
    "duration": 116,
    "start_time": "2022-07-04T03:27:32.842Z"
   },
   {
    "duration": 7,
    "start_time": "2022-07-04T03:27:32.962Z"
   },
   {
    "duration": 143,
    "start_time": "2022-07-04T03:27:32.971Z"
   },
   {
    "duration": 141,
    "start_time": "2022-07-04T05:25:43.133Z"
   },
   {
    "duration": 11,
    "start_time": "2022-07-04T05:25:58.931Z"
   },
   {
    "duration": 16,
    "start_time": "2022-07-04T05:26:39.741Z"
   },
   {
    "duration": 16,
    "start_time": "2022-07-04T05:27:04.809Z"
   },
   {
    "duration": 9,
    "start_time": "2022-07-04T05:27:13.971Z"
   },
   {
    "duration": 8,
    "start_time": "2022-07-04T05:27:21.170Z"
   },
   {
    "duration": 8,
    "start_time": "2022-07-04T05:27:33.001Z"
   },
   {
    "duration": 9,
    "start_time": "2022-07-04T05:27:45.787Z"
   },
   {
    "duration": 11,
    "start_time": "2022-07-04T05:28:06.773Z"
   },
   {
    "duration": 8,
    "start_time": "2022-07-04T05:29:30.349Z"
   },
   {
    "duration": 20,
    "start_time": "2022-07-04T05:29:38.674Z"
   },
   {
    "duration": 26,
    "start_time": "2022-07-04T05:29:46.053Z"
   },
   {
    "duration": 28,
    "start_time": "2022-07-04T05:30:21.060Z"
   },
   {
    "duration": 28,
    "start_time": "2022-07-04T05:30:25.039Z"
   },
   {
    "duration": 18,
    "start_time": "2022-07-04T05:31:03.081Z"
   },
   {
    "duration": 46,
    "start_time": "2022-07-04T05:40:36.606Z"
   },
   {
    "duration": 4,
    "start_time": "2022-07-04T05:46:17.178Z"
   },
   {
    "duration": 5,
    "start_time": "2022-07-04T05:46:23.409Z"
   },
   {
    "duration": 22,
    "start_time": "2022-07-04T05:50:24.302Z"
   },
   {
    "duration": 23,
    "start_time": "2022-07-04T05:50:36.709Z"
   },
   {
    "duration": 6,
    "start_time": "2022-07-05T14:15:13.889Z"
   },
   {
    "duration": 1728,
    "start_time": "2022-07-05T14:15:13.899Z"
   },
   {
    "duration": 3,
    "start_time": "2022-07-05T14:15:15.628Z"
   },
   {
    "duration": 7500,
    "start_time": "2022-07-05T14:15:15.632Z"
   },
   {
    "duration": 50,
    "start_time": "2022-07-05T14:15:23.134Z"
   },
   {
    "duration": 165,
    "start_time": "2022-07-05T14:15:23.186Z"
   },
   {
    "duration": 92,
    "start_time": "2022-07-05T14:15:23.368Z"
   },
   {
    "duration": 158,
    "start_time": "2022-07-05T14:15:23.462Z"
   },
   {
    "duration": 38,
    "start_time": "2022-07-05T14:15:23.622Z"
   },
   {
    "duration": 72,
    "start_time": "2022-07-05T14:15:23.662Z"
   },
   {
    "duration": 83,
    "start_time": "2022-07-05T14:15:23.735Z"
   },
   {
    "duration": 153,
    "start_time": "2022-07-05T14:15:23.820Z"
   },
   {
    "duration": 34,
    "start_time": "2022-07-05T14:15:23.981Z"
   },
   {
    "duration": 1129,
    "start_time": "2022-07-05T14:15:24.017Z"
   },
   {
    "duration": 60,
    "start_time": "2022-07-05T14:15:25.148Z"
   },
   {
    "duration": 62,
    "start_time": "2022-07-05T14:15:25.210Z"
   },
   {
    "duration": 98,
    "start_time": "2022-07-05T14:15:25.281Z"
   },
   {
    "duration": 116,
    "start_time": "2022-07-05T14:15:25.392Z"
   },
   {
    "duration": 11,
    "start_time": "2022-07-05T14:15:25.510Z"
   },
   {
    "duration": 10,
    "start_time": "2022-07-05T14:15:25.522Z"
   },
   {
    "duration": 61,
    "start_time": "2022-07-05T14:15:25.534Z"
   },
   {
    "duration": 9,
    "start_time": "2022-07-05T14:15:25.602Z"
   },
   {
    "duration": 4,
    "start_time": "2022-07-05T15:36:36.038Z"
   },
   {
    "duration": 3,
    "start_time": "2022-07-05T15:40:12.414Z"
   },
   {
    "duration": 15,
    "start_time": "2022-07-05T15:40:58.585Z"
   },
   {
    "duration": 12,
    "start_time": "2022-07-05T15:43:24.005Z"
   },
   {
    "duration": 20,
    "start_time": "2022-07-05T15:43:34.444Z"
   },
   {
    "duration": 15,
    "start_time": "2022-07-05T15:43:35.293Z"
   },
   {
    "duration": 11,
    "start_time": "2022-07-05T15:44:22.695Z"
   },
   {
    "duration": 27,
    "start_time": "2022-07-05T15:57:15.331Z"
   },
   {
    "duration": 20,
    "start_time": "2022-07-05T15:57:30.530Z"
   },
   {
    "duration": 27,
    "start_time": "2022-07-05T15:57:49.014Z"
   },
   {
    "duration": 21,
    "start_time": "2022-07-05T16:10:32.645Z"
   },
   {
    "duration": 28,
    "start_time": "2022-07-05T16:10:38.849Z"
   },
   {
    "duration": 35,
    "start_time": "2022-07-05T16:10:57.609Z"
   },
   {
    "duration": 10,
    "start_time": "2022-07-05T16:29:46.349Z"
   },
   {
    "duration": 85,
    "start_time": "2022-07-05T16:33:58.077Z"
   },
   {
    "duration": 139,
    "start_time": "2022-07-05T16:34:44.988Z"
   },
   {
    "duration": 17,
    "start_time": "2022-07-05T16:35:17.003Z"
   },
   {
    "duration": 51,
    "start_time": "2022-07-05T16:35:20.242Z"
   },
   {
    "duration": 35,
    "start_time": "2022-07-05T16:35:38.282Z"
   },
   {
    "duration": 5,
    "start_time": "2022-07-05T16:36:15.690Z"
   },
   {
    "duration": 31,
    "start_time": "2022-07-05T16:36:17.706Z"
   },
   {
    "duration": 17,
    "start_time": "2022-07-05T16:36:33.114Z"
   },
   {
    "duration": 17,
    "start_time": "2022-07-05T16:40:14.984Z"
   },
   {
    "duration": 3,
    "start_time": "2022-07-05T16:40:18.618Z"
   },
   {
    "duration": 21,
    "start_time": "2022-07-05T16:40:19.882Z"
   },
   {
    "duration": 4,
    "start_time": "2022-07-05T16:41:45.227Z"
   },
   {
    "duration": 5,
    "start_time": "2022-07-05T16:41:52.485Z"
   },
   {
    "duration": 13,
    "start_time": "2022-07-05T16:41:56.968Z"
   },
   {
    "duration": 4,
    "start_time": "2022-07-05T16:42:13.090Z"
   },
   {
    "duration": 10,
    "start_time": "2022-07-05T16:42:23.885Z"
   },
   {
    "duration": 8,
    "start_time": "2022-07-05T16:46:29.506Z"
   },
   {
    "duration": 3,
    "start_time": "2022-07-05T16:47:00.418Z"
   },
   {
    "duration": 12,
    "start_time": "2022-07-05T16:47:11.181Z"
   },
   {
    "duration": 5,
    "start_time": "2022-07-05T16:47:20.193Z"
   },
   {
    "duration": 9,
    "start_time": "2022-07-05T16:47:30.576Z"
   },
   {
    "duration": 10,
    "start_time": "2022-07-05T16:47:33.453Z"
   },
   {
    "duration": 4,
    "start_time": "2022-07-05T16:50:52.141Z"
   },
   {
    "duration": 5,
    "start_time": "2022-07-05T16:50:58.238Z"
   },
   {
    "duration": 5,
    "start_time": "2022-07-05T16:51:20.708Z"
   },
   {
    "duration": 19,
    "start_time": "2022-07-05T16:51:28.914Z"
   },
   {
    "duration": 8,
    "start_time": "2022-07-05T16:51:41.276Z"
   },
   {
    "duration": 6,
    "start_time": "2022-07-05T16:52:40.782Z"
   },
   {
    "duration": 17,
    "start_time": "2022-07-05T16:52:43.319Z"
   },
   {
    "duration": 5,
    "start_time": "2022-07-05T16:53:53.284Z"
   },
   {
    "duration": 18,
    "start_time": "2022-07-05T16:53:59.385Z"
   },
   {
    "duration": 5,
    "start_time": "2022-07-05T16:56:38.269Z"
   },
   {
    "duration": 3,
    "start_time": "2022-07-05T16:56:44.990Z"
   },
   {
    "duration": 3,
    "start_time": "2022-07-05T16:56:56.096Z"
   },
   {
    "duration": 4,
    "start_time": "2022-07-05T16:56:59.883Z"
   },
   {
    "duration": 5,
    "start_time": "2022-07-05T16:57:37.584Z"
   },
   {
    "duration": 2,
    "start_time": "2022-07-05T16:57:42.622Z"
   },
   {
    "duration": 4,
    "start_time": "2022-07-05T16:57:45.528Z"
   },
   {
    "duration": 4,
    "start_time": "2022-07-05T16:58:35.500Z"
   },
   {
    "duration": 3,
    "start_time": "2022-07-05T16:59:06.542Z"
   },
   {
    "duration": 5,
    "start_time": "2022-07-05T17:00:36.494Z"
   },
   {
    "duration": 19,
    "start_time": "2022-07-05T17:00:40.873Z"
   },
   {
    "duration": 6,
    "start_time": "2022-07-05T17:00:51.670Z"
   },
   {
    "duration": 7,
    "start_time": "2022-07-05T17:01:05.176Z"
   },
   {
    "duration": 16,
    "start_time": "2022-07-05T17:01:08.095Z"
   },
   {
    "duration": 13,
    "start_time": "2022-07-05T17:01:47.134Z"
   },
   {
    "duration": 15,
    "start_time": "2022-07-05T17:01:49.494Z"
   },
   {
    "duration": 15,
    "start_time": "2022-07-05T17:01:50.408Z"
   },
   {
    "duration": 13,
    "start_time": "2022-07-05T17:01:50.812Z"
   },
   {
    "duration": 126,
    "start_time": "2022-07-05T17:10:08.945Z"
   },
   {
    "duration": 12,
    "start_time": "2022-07-05T17:20:40.303Z"
   },
   {
    "duration": 16,
    "start_time": "2022-07-05T17:20:54.186Z"
   },
   {
    "duration": 13,
    "start_time": "2022-07-05T17:21:24.825Z"
   },
   {
    "duration": 10,
    "start_time": "2022-07-05T17:23:46.211Z"
   },
   {
    "duration": 34,
    "start_time": "2022-07-05T17:25:18.070Z"
   },
   {
    "duration": 11,
    "start_time": "2022-07-05T17:28:03.771Z"
   },
   {
    "duration": 20,
    "start_time": "2022-07-05T17:28:06.089Z"
   },
   {
    "duration": 16,
    "start_time": "2022-07-05T17:28:10.097Z"
   },
   {
    "duration": 10,
    "start_time": "2022-07-05T17:29:35.596Z"
   },
   {
    "duration": 9,
    "start_time": "2022-07-05T17:29:37.035Z"
   },
   {
    "duration": 14,
    "start_time": "2022-07-05T17:29:40.498Z"
   },
   {
    "duration": 9,
    "start_time": "2022-07-05T17:30:49.050Z"
   },
   {
    "duration": 31,
    "start_time": "2022-07-05T17:30:50.370Z"
   },
   {
    "duration": 26,
    "start_time": "2022-07-05T17:30:51.241Z"
   },
   {
    "duration": 32,
    "start_time": "2022-07-05T17:30:53.680Z"
   },
   {
    "duration": 40,
    "start_time": "2022-07-05T17:30:54.558Z"
   },
   {
    "duration": 10,
    "start_time": "2022-07-05T17:30:57.487Z"
   },
   {
    "duration": 5,
    "start_time": "2022-07-05T17:33:23.484Z"
   },
   {
    "duration": 11,
    "start_time": "2022-07-05T17:33:42.575Z"
   },
   {
    "duration": 1439,
    "start_time": "2022-07-05T17:33:42.591Z"
   },
   {
    "duration": 2,
    "start_time": "2022-07-05T17:33:44.032Z"
   },
   {
    "duration": 608,
    "start_time": "2022-07-05T17:33:44.036Z"
   },
   {
    "duration": 78,
    "start_time": "2022-07-05T17:33:44.647Z"
   },
   {
    "duration": 143,
    "start_time": "2022-07-05T17:33:44.728Z"
   },
   {
    "duration": 92,
    "start_time": "2022-07-05T17:33:44.878Z"
   },
   {
    "duration": 150,
    "start_time": "2022-07-05T17:33:44.972Z"
   },
   {
    "duration": 29,
    "start_time": "2022-07-05T17:33:45.124Z"
   },
   {
    "duration": 101,
    "start_time": "2022-07-05T17:33:45.154Z"
   },
   {
    "duration": 91,
    "start_time": "2022-07-05T17:33:45.256Z"
   },
   {
    "duration": 185,
    "start_time": "2022-07-05T17:33:45.349Z"
   },
   {
    "duration": 15,
    "start_time": "2022-07-05T17:33:45.536Z"
   },
   {
    "duration": 1270,
    "start_time": "2022-07-05T17:33:45.566Z"
   },
   {
    "duration": 44,
    "start_time": "2022-07-05T17:33:46.838Z"
   },
   {
    "duration": 57,
    "start_time": "2022-07-05T17:33:46.890Z"
   },
   {
    "duration": 136,
    "start_time": "2022-07-05T17:33:46.949Z"
   },
   {
    "duration": 77,
    "start_time": "2022-07-05T17:33:47.088Z"
   },
   {
    "duration": 47,
    "start_time": "2022-07-05T17:33:47.167Z"
   },
   {
    "duration": 11,
    "start_time": "2022-07-05T17:33:47.216Z"
   },
   {
    "duration": 62,
    "start_time": "2022-07-05T17:33:47.228Z"
   },
   {
    "duration": 8,
    "start_time": "2022-07-05T17:33:47.295Z"
   },
   {
    "duration": 17,
    "start_time": "2022-07-05T17:33:47.306Z"
   },
   {
    "duration": 121,
    "start_time": "2022-07-05T17:35:14.908Z"
   },
   {
    "duration": 7,
    "start_time": "2022-07-05T17:35:25.378Z"
   },
   {
    "duration": 2379,
    "start_time": "2022-07-05T17:35:25.387Z"
   },
   {
    "duration": 11,
    "start_time": "2022-07-05T17:35:27.774Z"
   },
   {
    "duration": 423,
    "start_time": "2022-07-05T17:35:27.790Z"
   },
   {
    "duration": 57,
    "start_time": "2022-07-05T17:35:28.215Z"
   },
   {
    "duration": 114,
    "start_time": "2022-07-05T17:35:28.280Z"
   },
   {
    "duration": 71,
    "start_time": "2022-07-05T17:35:28.396Z"
   },
   {
    "duration": 142,
    "start_time": "2022-07-05T17:35:28.468Z"
   },
   {
    "duration": 34,
    "start_time": "2022-07-05T17:35:28.612Z"
   },
   {
    "duration": 40,
    "start_time": "2022-07-05T17:35:28.652Z"
   },
   {
    "duration": 34,
    "start_time": "2022-07-05T17:35:28.694Z"
   },
   {
    "duration": 116,
    "start_time": "2022-07-05T17:35:28.730Z"
   },
   {
    "duration": 17,
    "start_time": "2022-07-05T17:35:28.852Z"
   },
   {
    "duration": 1058,
    "start_time": "2022-07-05T17:35:28.872Z"
   },
   {
    "duration": 58,
    "start_time": "2022-07-05T17:35:29.932Z"
   },
   {
    "duration": 37,
    "start_time": "2022-07-05T17:35:29.992Z"
   },
   {
    "duration": 139,
    "start_time": "2022-07-05T17:35:30.031Z"
   },
   {
    "duration": 8,
    "start_time": "2022-07-05T17:35:30.179Z"
   },
   {
    "duration": 44,
    "start_time": "2022-07-05T17:35:30.190Z"
   },
   {
    "duration": 49,
    "start_time": "2022-07-05T17:35:30.261Z"
   },
   {
    "duration": 42,
    "start_time": "2022-07-05T17:35:30.312Z"
   },
   {
    "duration": 4,
    "start_time": "2022-07-05T17:35:30.362Z"
   },
   {
    "duration": 11,
    "start_time": "2022-07-05T17:35:30.367Z"
   },
   {
    "duration": 9,
    "start_time": "2022-07-05T17:35:33.215Z"
   },
   {
    "duration": 8,
    "start_time": "2022-07-05T17:35:34.003Z"
   },
   {
    "duration": 15,
    "start_time": "2022-07-05T17:35:34.607Z"
   },
   {
    "duration": 13,
    "start_time": "2022-07-05T17:42:36.842Z"
   },
   {
    "duration": 9,
    "start_time": "2022-07-05T17:42:46.330Z"
   },
   {
    "duration": 1741,
    "start_time": "2022-07-05T17:48:30.339Z"
   },
   {
    "duration": 28,
    "start_time": "2022-07-05T17:53:39.108Z"
   },
   {
    "duration": 29,
    "start_time": "2022-07-05T17:54:48.790Z"
   },
   {
    "duration": 3,
    "start_time": "2022-07-05T18:03:57.628Z"
   },
   {
    "duration": 150,
    "start_time": "2022-07-05T18:04:04.836Z"
   },
   {
    "duration": 5,
    "start_time": "2022-07-05T18:04:20.198Z"
   },
   {
    "duration": 1332,
    "start_time": "2022-07-05T18:04:20.205Z"
   },
   {
    "duration": 3,
    "start_time": "2022-07-05T18:04:21.539Z"
   },
   {
    "duration": 452,
    "start_time": "2022-07-05T18:04:21.543Z"
   },
   {
    "duration": 33,
    "start_time": "2022-07-05T18:04:21.997Z"
   },
   {
    "duration": 114,
    "start_time": "2022-07-05T18:04:22.032Z"
   },
   {
    "duration": 76,
    "start_time": "2022-07-05T18:04:22.148Z"
   },
   {
    "duration": 138,
    "start_time": "2022-07-05T18:04:22.226Z"
   },
   {
    "duration": 35,
    "start_time": "2022-07-05T18:04:22.369Z"
   },
   {
    "duration": 27,
    "start_time": "2022-07-05T18:04:22.406Z"
   },
   {
    "duration": 39,
    "start_time": "2022-07-05T18:04:22.434Z"
   },
   {
    "duration": 141,
    "start_time": "2022-07-05T18:04:22.474Z"
   },
   {
    "duration": 16,
    "start_time": "2022-07-05T18:04:22.617Z"
   },
   {
    "duration": 1089,
    "start_time": "2022-07-05T18:04:22.636Z"
   },
   {
    "duration": 58,
    "start_time": "2022-07-05T18:04:23.727Z"
   },
   {
    "duration": 11,
    "start_time": "2022-07-05T18:04:23.786Z"
   },
   {
    "duration": 66,
    "start_time": "2022-07-05T18:04:23.798Z"
   },
   {
    "duration": 14,
    "start_time": "2022-07-05T18:04:23.871Z"
   },
   {
    "duration": 99,
    "start_time": "2022-07-05T18:04:23.894Z"
   },
   {
    "duration": 10,
    "start_time": "2022-07-05T18:04:23.995Z"
   },
   {
    "duration": 34,
    "start_time": "2022-07-05T18:04:24.007Z"
   },
   {
    "duration": 3,
    "start_time": "2022-07-05T18:04:24.043Z"
   },
   {
    "duration": 48,
    "start_time": "2022-07-05T18:04:24.047Z"
   },
   {
    "duration": 37,
    "start_time": "2022-07-05T18:05:15.101Z"
   },
   {
    "duration": 30,
    "start_time": "2022-07-05T18:05:23.008Z"
   },
   {
    "duration": 50,
    "start_time": "2022-07-05T18:05:29.423Z"
   },
   {
    "duration": 30,
    "start_time": "2022-07-05T18:05:37.700Z"
   },
   {
    "duration": 40,
    "start_time": "2022-07-05T18:05:47.236Z"
   },
   {
    "duration": 62,
    "start_time": "2022-07-05T18:05:57.041Z"
   },
   {
    "duration": 60,
    "start_time": "2022-07-05T18:06:03.949Z"
   },
   {
    "duration": 205,
    "start_time": "2022-07-05T18:06:13.307Z"
   },
   {
    "duration": 201,
    "start_time": "2022-07-05T18:06:53.105Z"
   },
   {
    "duration": 1750,
    "start_time": "2022-07-05T18:06:56.616Z"
   },
   {
    "duration": 5,
    "start_time": "2022-07-08T11:36:56.909Z"
   },
   {
    "duration": 1506,
    "start_time": "2022-07-08T11:36:56.916Z"
   },
   {
    "duration": 3,
    "start_time": "2022-07-08T11:36:58.424Z"
   },
   {
    "duration": 790,
    "start_time": "2022-07-08T11:36:58.428Z"
   },
   {
    "duration": 41,
    "start_time": "2022-07-08T11:36:59.221Z"
   },
   {
    "duration": 111,
    "start_time": "2022-07-08T11:36:59.264Z"
   },
   {
    "duration": 81,
    "start_time": "2022-07-08T11:36:59.376Z"
   },
   {
    "duration": 147,
    "start_time": "2022-07-08T11:36:59.459Z"
   },
   {
    "duration": 40,
    "start_time": "2022-07-08T11:36:59.607Z"
   },
   {
    "duration": 30,
    "start_time": "2022-07-08T11:36:59.649Z"
   },
   {
    "duration": 31,
    "start_time": "2022-07-08T11:36:59.680Z"
   },
   {
    "duration": 122,
    "start_time": "2022-07-08T11:36:59.712Z"
   },
   {
    "duration": 24,
    "start_time": "2022-07-08T11:36:59.836Z"
   },
   {
    "duration": 986,
    "start_time": "2022-07-08T11:36:59.863Z"
   },
   {
    "duration": 35,
    "start_time": "2022-07-08T11:37:00.850Z"
   },
   {
    "duration": 4,
    "start_time": "2022-07-08T11:37:00.888Z"
   },
   {
    "duration": 151,
    "start_time": "2022-07-08T11:37:00.894Z"
   },
   {
    "duration": 4,
    "start_time": "2022-07-08T11:37:01.048Z"
   },
   {
    "duration": 117,
    "start_time": "2022-07-08T11:37:01.053Z"
   },
   {
    "duration": 20,
    "start_time": "2022-07-08T11:37:01.171Z"
   },
   {
    "duration": 40,
    "start_time": "2022-07-08T11:37:01.192Z"
   },
   {
    "duration": 3,
    "start_time": "2022-07-08T11:37:01.234Z"
   },
   {
    "duration": 1567,
    "start_time": "2022-07-08T11:37:01.239Z"
   },
   {
    "duration": 1475,
    "start_time": "2022-07-08T11:44:22.831Z"
   },
   {
    "duration": 1541,
    "start_time": "2022-07-08T12:46:00.457Z"
   },
   {
    "duration": 1499,
    "start_time": "2022-07-08T12:47:35.283Z"
   },
   {
    "duration": 100,
    "start_time": "2022-07-08T13:02:11.568Z"
   },
   {
    "duration": 46,
    "start_time": "2022-07-08T13:02:14.071Z"
   },
   {
    "duration": 5,
    "start_time": "2022-07-08T13:02:20.797Z"
   },
   {
    "duration": 22,
    "start_time": "2022-07-08T13:02:21.899Z"
   },
   {
    "duration": 4,
    "start_time": "2022-07-08T13:02:28.675Z"
   },
   {
    "duration": 1534,
    "start_time": "2022-07-08T13:02:30.307Z"
   },
   {
    "duration": 4468,
    "start_time": "2022-07-08T13:03:39.201Z"
   },
   {
    "duration": 4655,
    "start_time": "2022-07-08T13:04:11.721Z"
   },
   {
    "duration": 4,
    "start_time": "2022-07-08T13:04:41.718Z"
   },
   {
    "duration": 4467,
    "start_time": "2022-07-08T13:04:42.857Z"
   },
   {
    "duration": 4558,
    "start_time": "2022-07-08T13:05:09.989Z"
   },
   {
    "duration": 5,
    "start_time": "2022-07-08T13:47:42.090Z"
   },
   {
    "duration": 4470,
    "start_time": "2022-07-08T13:48:12.250Z"
   },
   {
    "duration": 3,
    "start_time": "2022-07-08T13:59:15.261Z"
   },
   {
    "duration": 1358,
    "start_time": "2022-07-08T13:59:15.266Z"
   },
   {
    "duration": 3,
    "start_time": "2022-07-08T13:59:16.627Z"
   },
   {
    "duration": 401,
    "start_time": "2022-07-08T13:59:16.632Z"
   },
   {
    "duration": 46,
    "start_time": "2022-07-08T13:59:17.035Z"
   },
   {
    "duration": 121,
    "start_time": "2022-07-08T13:59:17.082Z"
   },
   {
    "duration": 72,
    "start_time": "2022-07-08T13:59:17.204Z"
   },
   {
    "duration": 140,
    "start_time": "2022-07-08T13:59:17.277Z"
   },
   {
    "duration": 43,
    "start_time": "2022-07-08T13:59:17.420Z"
   },
   {
    "duration": 42,
    "start_time": "2022-07-08T13:59:17.465Z"
   },
   {
    "duration": 48,
    "start_time": "2022-07-08T13:59:17.509Z"
   },
   {
    "duration": 124,
    "start_time": "2022-07-08T13:59:17.559Z"
   },
   {
    "duration": 19,
    "start_time": "2022-07-08T13:59:17.685Z"
   },
   {
    "duration": 1089,
    "start_time": "2022-07-08T13:59:17.705Z"
   },
   {
    "duration": 36,
    "start_time": "2022-07-08T13:59:18.796Z"
   },
   {
    "duration": 99,
    "start_time": "2022-07-08T13:59:18.848Z"
   },
   {
    "duration": 4,
    "start_time": "2022-07-08T13:59:18.949Z"
   },
   {
    "duration": 104,
    "start_time": "2022-07-08T13:59:18.955Z"
   },
   {
    "duration": 20,
    "start_time": "2022-07-08T13:59:19.061Z"
   },
   {
    "duration": 42,
    "start_time": "2022-07-08T13:59:19.083Z"
   },
   {
    "duration": 18,
    "start_time": "2022-07-08T13:59:19.127Z"
   },
   {
    "duration": 6,
    "start_time": "2022-07-08T13:59:19.148Z"
   },
   {
    "duration": 4433,
    "start_time": "2022-07-08T13:59:19.157Z"
   },
   {
    "duration": 3,
    "start_time": "2022-07-08T14:02:05.265Z"
   },
   {
    "duration": 1324,
    "start_time": "2022-07-08T14:02:05.270Z"
   },
   {
    "duration": 2,
    "start_time": "2022-07-08T14:02:06.596Z"
   },
   {
    "duration": 400,
    "start_time": "2022-07-08T14:02:06.600Z"
   },
   {
    "duration": 58,
    "start_time": "2022-07-08T14:02:07.002Z"
   },
   {
    "duration": 114,
    "start_time": "2022-07-08T14:02:07.062Z"
   },
   {
    "duration": 79,
    "start_time": "2022-07-08T14:02:07.178Z"
   },
   {
    "duration": 142,
    "start_time": "2022-07-08T14:02:07.258Z"
   },
   {
    "duration": 29,
    "start_time": "2022-07-08T14:02:07.402Z"
   },
   {
    "duration": 42,
    "start_time": "2022-07-08T14:02:07.433Z"
   },
   {
    "duration": 41,
    "start_time": "2022-07-08T14:02:07.476Z"
   },
   {
    "duration": 126,
    "start_time": "2022-07-08T14:02:07.519Z"
   },
   {
    "duration": 17,
    "start_time": "2022-07-08T14:02:07.647Z"
   },
   {
    "duration": 996,
    "start_time": "2022-07-08T14:02:07.666Z"
   },
   {
    "duration": 37,
    "start_time": "2022-07-08T14:02:08.664Z"
   },
   {
    "duration": 58,
    "start_time": "2022-07-08T14:02:08.702Z"
   },
   {
    "duration": 5,
    "start_time": "2022-07-08T14:02:08.848Z"
   },
   {
    "duration": 105,
    "start_time": "2022-07-08T14:02:08.855Z"
   },
   {
    "duration": 23,
    "start_time": "2022-07-08T14:02:08.962Z"
   },
   {
    "duration": 46,
    "start_time": "2022-07-08T14:02:08.987Z"
   },
   {
    "duration": 10,
    "start_time": "2022-07-08T14:02:09.036Z"
   },
   {
    "duration": 20,
    "start_time": "2022-07-08T14:02:09.048Z"
   },
   {
    "duration": 4418,
    "start_time": "2022-07-08T14:02:09.070Z"
   },
   {
    "duration": 4,
    "start_time": "2022-07-08T14:04:02.073Z"
   },
   {
    "duration": 1317,
    "start_time": "2022-07-08T14:04:02.079Z"
   },
   {
    "duration": 3,
    "start_time": "2022-07-08T14:04:03.397Z"
   },
   {
    "duration": 413,
    "start_time": "2022-07-08T14:04:03.401Z"
   },
   {
    "duration": 47,
    "start_time": "2022-07-08T14:04:03.816Z"
   },
   {
    "duration": 121,
    "start_time": "2022-07-08T14:04:03.865Z"
   },
   {
    "duration": 75,
    "start_time": "2022-07-08T14:04:03.988Z"
   },
   {
    "duration": 142,
    "start_time": "2022-07-08T14:04:04.065Z"
   },
   {
    "duration": 40,
    "start_time": "2022-07-08T14:04:04.209Z"
   },
   {
    "duration": 48,
    "start_time": "2022-07-08T14:04:04.251Z"
   },
   {
    "duration": 30,
    "start_time": "2022-07-08T14:04:04.301Z"
   },
   {
    "duration": 129,
    "start_time": "2022-07-08T14:04:04.333Z"
   },
   {
    "duration": 18,
    "start_time": "2022-07-08T14:04:04.464Z"
   },
   {
    "duration": 1073,
    "start_time": "2022-07-08T14:04:04.485Z"
   },
   {
    "duration": 33,
    "start_time": "2022-07-08T14:04:05.560Z"
   },
   {
    "duration": 150,
    "start_time": "2022-07-08T14:04:05.595Z"
   },
   {
    "duration": 3,
    "start_time": "2022-07-08T14:04:05.749Z"
   },
   {
    "duration": 10,
    "start_time": "2022-07-08T14:04:05.753Z"
   },
   {
    "duration": 14,
    "start_time": "2022-07-08T14:04:05.765Z"
   },
   {
    "duration": 81,
    "start_time": "2022-07-08T14:04:05.781Z"
   },
   {
    "duration": 4,
    "start_time": "2022-07-08T14:04:05.864Z"
   },
   {
    "duration": 10,
    "start_time": "2022-07-08T14:04:05.869Z"
   },
   {
    "duration": 4499,
    "start_time": "2022-07-08T14:04:05.880Z"
   },
   {
    "duration": 1172,
    "start_time": "2022-07-08T14:05:59.662Z"
   },
   {
    "duration": 3,
    "start_time": "2022-07-08T14:06:00.837Z"
   },
   {
    "duration": 419,
    "start_time": "2022-07-08T14:06:00.842Z"
   },
   {
    "duration": 43,
    "start_time": "2022-07-08T14:06:01.262Z"
   },
   {
    "duration": 145,
    "start_time": "2022-07-08T14:06:01.308Z"
   },
   {
    "duration": 91,
    "start_time": "2022-07-08T14:06:01.455Z"
   },
   {
    "duration": 158,
    "start_time": "2022-07-08T14:06:01.549Z"
   },
   {
    "duration": 42,
    "start_time": "2022-07-08T14:06:01.708Z"
   },
   {
    "duration": 61,
    "start_time": "2022-07-08T14:06:01.752Z"
   },
   {
    "duration": 55,
    "start_time": "2022-07-08T14:06:01.815Z"
   },
   {
    "duration": 158,
    "start_time": "2022-07-08T14:06:01.871Z"
   },
   {
    "duration": 22,
    "start_time": "2022-07-08T14:06:02.031Z"
   },
   {
    "duration": 1126,
    "start_time": "2022-07-08T14:06:02.055Z"
   },
   {
    "duration": 35,
    "start_time": "2022-07-08T14:06:03.184Z"
   },
   {
    "duration": 131,
    "start_time": "2022-07-08T14:06:03.221Z"
   },
   {
    "duration": 5,
    "start_time": "2022-07-08T14:06:03.355Z"
   },
   {
    "duration": 101,
    "start_time": "2022-07-08T14:06:03.362Z"
   },
   {
    "duration": 13,
    "start_time": "2022-07-08T14:06:03.465Z"
   },
   {
    "duration": 51,
    "start_time": "2022-07-08T14:06:03.480Z"
   },
   {
    "duration": 16,
    "start_time": "2022-07-08T14:06:03.533Z"
   },
   {
    "duration": 23,
    "start_time": "2022-07-08T14:06:03.552Z"
   },
   {
    "duration": 4741,
    "start_time": "2022-07-08T14:06:03.577Z"
   },
   {
    "duration": 1106,
    "start_time": "2022-07-08T14:07:19.138Z"
   },
   {
    "duration": 3,
    "start_time": "2022-07-08T14:07:20.247Z"
   },
   {
    "duration": 374,
    "start_time": "2022-07-08T14:07:20.251Z"
   },
   {
    "duration": 51,
    "start_time": "2022-07-08T14:07:20.626Z"
   },
   {
    "duration": 117,
    "start_time": "2022-07-08T14:07:20.679Z"
   },
   {
    "duration": 73,
    "start_time": "2022-07-08T14:07:20.798Z"
   },
   {
    "duration": 148,
    "start_time": "2022-07-08T14:07:20.873Z"
   },
   {
    "duration": 42,
    "start_time": "2022-07-08T14:07:21.023Z"
   },
   {
    "duration": 34,
    "start_time": "2022-07-08T14:07:21.067Z"
   },
   {
    "duration": 43,
    "start_time": "2022-07-08T14:07:21.103Z"
   },
   {
    "duration": 126,
    "start_time": "2022-07-08T14:07:21.148Z"
   },
   {
    "duration": 16,
    "start_time": "2022-07-08T14:07:21.275Z"
   },
   {
    "duration": 1027,
    "start_time": "2022-07-08T14:07:21.292Z"
   },
   {
    "duration": 36,
    "start_time": "2022-07-08T14:07:22.321Z"
   },
   {
    "duration": 99,
    "start_time": "2022-07-08T14:07:22.358Z"
   },
   {
    "duration": 87,
    "start_time": "2022-07-08T14:07:22.459Z"
   },
   {
    "duration": 17,
    "start_time": "2022-07-08T14:07:22.548Z"
   },
   {
    "duration": 13,
    "start_time": "2022-07-08T14:07:22.567Z"
   },
   {
    "duration": 64,
    "start_time": "2022-07-08T14:07:22.582Z"
   },
   {
    "duration": 4,
    "start_time": "2022-07-08T14:07:22.648Z"
   },
   {
    "duration": 16,
    "start_time": "2022-07-08T14:07:22.653Z"
   },
   {
    "duration": 5276,
    "start_time": "2022-07-08T14:07:22.671Z"
   },
   {
    "duration": 5540,
    "start_time": "2022-07-08T21:02:13.514Z"
   },
   {
    "duration": 2,
    "start_time": "2022-07-08T21:02:19.056Z"
   },
   {
    "duration": 1664,
    "start_time": "2022-07-08T21:02:19.060Z"
   },
   {
    "duration": 41,
    "start_time": "2022-07-08T21:02:20.726Z"
   },
   {
    "duration": 140,
    "start_time": "2022-07-08T21:02:20.770Z"
   },
   {
    "duration": 68,
    "start_time": "2022-07-08T21:02:20.912Z"
   },
   {
    "duration": 167,
    "start_time": "2022-07-08T21:02:20.982Z"
   },
   {
    "duration": 34,
    "start_time": "2022-07-08T21:02:21.151Z"
   },
   {
    "duration": 33,
    "start_time": "2022-07-08T21:02:21.197Z"
   },
   {
    "duration": 33,
    "start_time": "2022-07-08T21:02:21.232Z"
   },
   {
    "duration": 146,
    "start_time": "2022-07-08T21:02:21.267Z"
   },
   {
    "duration": 17,
    "start_time": "2022-07-08T21:02:21.415Z"
   },
   {
    "duration": 1173,
    "start_time": "2022-07-08T21:02:21.434Z"
   },
   {
    "duration": 31,
    "start_time": "2022-07-08T21:02:22.610Z"
   },
   {
    "duration": 66,
    "start_time": "2022-07-08T21:02:22.643Z"
   },
   {
    "duration": 5,
    "start_time": "2022-07-08T21:02:22.797Z"
   },
   {
    "duration": 13,
    "start_time": "2022-07-08T21:02:22.804Z"
   },
   {
    "duration": 23,
    "start_time": "2022-07-08T21:02:22.820Z"
   },
   {
    "duration": 67,
    "start_time": "2022-07-08T21:02:22.845Z"
   },
   {
    "duration": 4,
    "start_time": "2022-07-08T21:02:22.913Z"
   },
   {
    "duration": 16,
    "start_time": "2022-07-08T21:02:22.919Z"
   },
   {
    "duration": 5063,
    "start_time": "2022-07-08T21:02:22.936Z"
   },
   {
    "duration": 1174,
    "start_time": "2022-07-09T15:02:48.309Z"
   },
   {
    "duration": 3,
    "start_time": "2022-07-09T15:02:49.485Z"
   },
   {
    "duration": 750,
    "start_time": "2022-07-09T15:02:49.489Z"
   },
   {
    "duration": 37,
    "start_time": "2022-07-09T15:02:50.241Z"
   },
   {
    "duration": 122,
    "start_time": "2022-07-09T15:02:50.280Z"
   },
   {
    "duration": 68,
    "start_time": "2022-07-09T15:02:50.403Z"
   },
   {
    "duration": 141,
    "start_time": "2022-07-09T15:02:50.473Z"
   },
   {
    "duration": 30,
    "start_time": "2022-07-09T15:02:50.623Z"
   },
   {
    "duration": 30,
    "start_time": "2022-07-09T15:02:50.654Z"
   },
   {
    "duration": 47,
    "start_time": "2022-07-09T15:02:50.687Z"
   },
   {
    "duration": 125,
    "start_time": "2022-07-09T15:02:50.736Z"
   },
   {
    "duration": 16,
    "start_time": "2022-07-09T15:02:50.863Z"
   },
   {
    "duration": 15,
    "start_time": "2022-07-09T15:02:54.152Z"
   },
   {
    "duration": 17,
    "start_time": "2022-07-09T15:03:26.694Z"
   },
   {
    "duration": 21,
    "start_time": "2022-07-09T15:03:54.904Z"
   },
   {
    "duration": 77,
    "start_time": "2022-07-09T15:11:17.946Z"
   },
   {
    "duration": 27,
    "start_time": "2022-07-09T15:11:50.846Z"
   },
   {
    "duration": 116,
    "start_time": "2022-07-09T15:13:11.509Z"
   },
   {
    "duration": 11,
    "start_time": "2022-07-09T15:13:50.614Z"
   },
   {
    "duration": 4,
    "start_time": "2022-07-09T15:14:00.154Z"
   },
   {
    "duration": 21,
    "start_time": "2022-07-09T15:14:03.645Z"
   },
   {
    "duration": 22,
    "start_time": "2022-07-09T15:14:21.059Z"
   },
   {
    "duration": 3,
    "start_time": "2022-07-09T15:15:01.292Z"
   },
   {
    "duration": 24,
    "start_time": "2022-07-09T15:15:09.782Z"
   },
   {
    "duration": 22,
    "start_time": "2022-07-09T15:15:50.522Z"
   },
   {
    "duration": 23,
    "start_time": "2022-07-09T15:16:22.009Z"
   },
   {
    "duration": 22,
    "start_time": "2022-07-09T15:16:30.630Z"
   },
   {
    "duration": 23,
    "start_time": "2022-07-09T15:16:37.984Z"
   },
   {
    "duration": 18,
    "start_time": "2022-07-09T15:19:56.557Z"
   },
   {
    "duration": 18,
    "start_time": "2022-07-09T15:20:05.141Z"
   },
   {
    "duration": 19,
    "start_time": "2022-07-09T15:20:09.693Z"
   },
   {
    "duration": 19,
    "start_time": "2022-07-09T15:25:00.242Z"
   },
   {
    "duration": 128,
    "start_time": "2022-07-09T15:47:21.298Z"
   },
   {
    "duration": 57,
    "start_time": "2022-07-09T15:47:41.866Z"
   },
   {
    "duration": 62,
    "start_time": "2022-07-09T15:47:44.464Z"
   },
   {
    "duration": 4,
    "start_time": "2022-07-09T16:07:17.007Z"
   },
   {
    "duration": 4,
    "start_time": "2022-07-09T16:07:42.386Z"
   },
   {
    "duration": 8,
    "start_time": "2022-07-09T16:09:08.065Z"
   },
   {
    "duration": 39,
    "start_time": "2022-07-09T16:09:11.539Z"
   },
   {
    "duration": 1127,
    "start_time": "2022-07-09T16:23:26.874Z"
   },
   {
    "duration": 3,
    "start_time": "2022-07-09T16:23:28.003Z"
   },
   {
    "duration": 505,
    "start_time": "2022-07-09T16:23:28.008Z"
   },
   {
    "duration": 60,
    "start_time": "2022-07-09T16:23:28.525Z"
   },
   {
    "duration": 171,
    "start_time": "2022-07-09T16:23:28.587Z"
   },
   {
    "duration": 112,
    "start_time": "2022-07-09T16:23:28.760Z"
   },
   {
    "duration": 230,
    "start_time": "2022-07-09T16:23:28.877Z"
   },
   {
    "duration": 72,
    "start_time": "2022-07-09T16:23:29.109Z"
   },
   {
    "duration": 93,
    "start_time": "2022-07-09T16:23:29.185Z"
   },
   {
    "duration": 81,
    "start_time": "2022-07-09T16:23:29.284Z"
   },
   {
    "duration": 234,
    "start_time": "2022-07-09T16:23:29.372Z"
   },
   {
    "duration": 10,
    "start_time": "2022-07-09T16:23:29.609Z"
   },
   {
    "duration": 46,
    "start_time": "2022-07-09T16:23:31.619Z"
   },
   {
    "duration": 36,
    "start_time": "2022-07-09T16:23:34.397Z"
   },
   {
    "duration": 30,
    "start_time": "2022-07-09T16:23:35.363Z"
   },
   {
    "duration": 3,
    "start_time": "2022-07-09T16:23:37.457Z"
   },
   {
    "duration": 89,
    "start_time": "2022-07-09T16:23:39.299Z"
   },
   {
    "duration": 99,
    "start_time": "2022-07-09T16:23:41.565Z"
   },
   {
    "duration": 85,
    "start_time": "2022-07-09T16:23:43.108Z"
   },
   {
    "duration": 139,
    "start_time": "2022-07-09T16:23:47.456Z"
   },
   {
    "duration": 1304,
    "start_time": "2022-07-09T16:24:42.711Z"
   },
   {
    "duration": 4,
    "start_time": "2022-07-09T16:24:44.017Z"
   },
   {
    "duration": 521,
    "start_time": "2022-07-09T16:24:44.029Z"
   },
   {
    "duration": 51,
    "start_time": "2022-07-09T16:24:44.557Z"
   },
   {
    "duration": 141,
    "start_time": "2022-07-09T16:24:44.611Z"
   },
   {
    "duration": 86,
    "start_time": "2022-07-09T16:24:44.755Z"
   },
   {
    "duration": 184,
    "start_time": "2022-07-09T16:24:44.842Z"
   },
   {
    "duration": 58,
    "start_time": "2022-07-09T16:24:45.035Z"
   },
   {
    "duration": 51,
    "start_time": "2022-07-09T16:24:45.095Z"
   },
   {
    "duration": 51,
    "start_time": "2022-07-09T16:24:45.148Z"
   },
   {
    "duration": 167,
    "start_time": "2022-07-09T16:24:45.201Z"
   },
   {
    "duration": 19,
    "start_time": "2022-07-09T16:24:45.371Z"
   },
   {
    "duration": 59,
    "start_time": "2022-07-09T16:24:45.393Z"
   },
   {
    "duration": 21,
    "start_time": "2022-07-09T16:24:45.457Z"
   },
   {
    "duration": 26,
    "start_time": "2022-07-09T16:24:45.480Z"
   },
   {
    "duration": 3,
    "start_time": "2022-07-09T16:24:45.508Z"
   },
   {
    "duration": 35,
    "start_time": "2022-07-09T16:24:45.523Z"
   },
   {
    "duration": 39,
    "start_time": "2022-07-09T16:24:45.560Z"
   },
   {
    "duration": 47,
    "start_time": "2022-07-09T16:24:45.601Z"
   },
   {
    "duration": 81,
    "start_time": "2022-07-09T16:24:45.649Z"
   },
   {
    "duration": 145,
    "start_time": "2022-07-09T16:24:45.732Z"
   },
   {
    "duration": 1444,
    "start_time": "2022-07-09T16:28:24.889Z"
   },
   {
    "duration": 10,
    "start_time": "2022-07-09T16:28:26.336Z"
   },
   {
    "duration": 607,
    "start_time": "2022-07-09T16:28:26.348Z"
   },
   {
    "duration": 67,
    "start_time": "2022-07-09T16:28:26.960Z"
   },
   {
    "duration": 147,
    "start_time": "2022-07-09T16:28:27.029Z"
   },
   {
    "duration": 98,
    "start_time": "2022-07-09T16:28:27.178Z"
   },
   {
    "duration": 188,
    "start_time": "2022-07-09T16:28:27.279Z"
   },
   {
    "duration": 38,
    "start_time": "2022-07-09T16:28:27.469Z"
   },
   {
    "duration": 59,
    "start_time": "2022-07-09T16:28:27.509Z"
   },
   {
    "duration": 59,
    "start_time": "2022-07-09T16:28:27.572Z"
   },
   {
    "duration": 148,
    "start_time": "2022-07-09T16:28:27.649Z"
   },
   {
    "duration": 42,
    "start_time": "2022-07-09T16:28:27.799Z"
   },
   {
    "duration": 34,
    "start_time": "2022-07-09T16:28:27.846Z"
   },
   {
    "duration": 25,
    "start_time": "2022-07-09T16:28:27.882Z"
   },
   {
    "duration": 31,
    "start_time": "2022-07-09T16:28:27.910Z"
   },
   {
    "duration": 14,
    "start_time": "2022-07-09T16:28:27.951Z"
   },
   {
    "duration": 29,
    "start_time": "2022-07-09T16:28:27.967Z"
   },
   {
    "duration": 47,
    "start_time": "2022-07-09T16:28:27.997Z"
   },
   {
    "duration": 27,
    "start_time": "2022-07-09T16:28:28.049Z"
   },
   {
    "duration": 82,
    "start_time": "2022-07-09T16:28:28.079Z"
   },
   {
    "duration": 164,
    "start_time": "2022-07-09T16:28:28.163Z"
   },
   {
    "duration": 122,
    "start_time": "2022-07-09T16:28:28.334Z"
   },
   {
    "duration": 1174,
    "start_time": "2022-07-09T16:33:45.719Z"
   },
   {
    "duration": 3,
    "start_time": "2022-07-09T16:33:46.895Z"
   },
   {
    "duration": 472,
    "start_time": "2022-07-09T16:33:46.899Z"
   },
   {
    "duration": 74,
    "start_time": "2022-07-09T16:33:47.373Z"
   },
   {
    "duration": 137,
    "start_time": "2022-07-09T16:33:47.456Z"
   },
   {
    "duration": 120,
    "start_time": "2022-07-09T16:33:47.595Z"
   },
   {
    "duration": 185,
    "start_time": "2022-07-09T16:33:47.717Z"
   },
   {
    "duration": 53,
    "start_time": "2022-07-09T16:33:47.904Z"
   },
   {
    "duration": 43,
    "start_time": "2022-07-09T16:33:47.959Z"
   },
   {
    "duration": 70,
    "start_time": "2022-07-09T16:33:48.004Z"
   },
   {
    "duration": 153,
    "start_time": "2022-07-09T16:33:48.076Z"
   },
   {
    "duration": 23,
    "start_time": "2022-07-09T16:33:48.231Z"
   },
   {
    "duration": 34,
    "start_time": "2022-07-09T16:33:48.259Z"
   },
   {
    "duration": 32,
    "start_time": "2022-07-09T16:33:48.297Z"
   },
   {
    "duration": 31,
    "start_time": "2022-07-09T16:33:48.332Z"
   },
   {
    "duration": 8,
    "start_time": "2022-07-09T16:33:48.367Z"
   },
   {
    "duration": 30,
    "start_time": "2022-07-09T16:33:48.377Z"
   },
   {
    "duration": 32,
    "start_time": "2022-07-09T16:33:48.429Z"
   },
   {
    "duration": 25,
    "start_time": "2022-07-09T16:33:48.463Z"
   },
   {
    "duration": 57,
    "start_time": "2022-07-09T16:33:48.490Z"
   },
   {
    "duration": 104,
    "start_time": "2022-07-09T16:33:48.549Z"
   },
   {
    "duration": 175,
    "start_time": "2022-07-09T16:33:48.728Z"
   },
   {
    "duration": 172,
    "start_time": "2022-07-09T16:33:48.905Z"
   },
   {
    "duration": 34,
    "start_time": "2022-07-09T16:33:49.079Z"
   },
   {
    "duration": 89,
    "start_time": "2022-07-09T16:33:49.116Z"
   },
   {
    "duration": 118,
    "start_time": "2022-07-09T16:33:49.207Z"
   },
   {
    "duration": 7,
    "start_time": "2022-07-09T16:33:49.330Z"
   },
   {
    "duration": 52,
    "start_time": "2022-07-09T16:33:49.342Z"
   },
   {
    "duration": 186,
    "start_time": "2022-07-09T16:33:49.397Z"
   },
   {
    "duration": 13,
    "start_time": "2022-07-09T16:46:45.097Z"
   },
   {
    "duration": 9,
    "start_time": "2022-07-09T16:49:16.902Z"
   },
   {
    "duration": 62,
    "start_time": "2022-07-09T16:51:56.449Z"
   },
   {
    "duration": 1305,
    "start_time": "2022-07-09T16:55:24.657Z"
   },
   {
    "duration": 3,
    "start_time": "2022-07-09T16:55:25.965Z"
   },
   {
    "duration": 942,
    "start_time": "2022-07-09T16:55:25.970Z"
   },
   {
    "duration": 59,
    "start_time": "2022-07-09T16:55:26.915Z"
   },
   {
    "duration": 125,
    "start_time": "2022-07-09T16:55:26.976Z"
   },
   {
    "duration": 94,
    "start_time": "2022-07-09T16:55:27.103Z"
   },
   {
    "duration": 174,
    "start_time": "2022-07-09T16:55:27.199Z"
   },
   {
    "duration": 73,
    "start_time": "2022-07-09T16:55:27.376Z"
   },
   {
    "duration": 46,
    "start_time": "2022-07-09T16:55:27.452Z"
   },
   {
    "duration": 46,
    "start_time": "2022-07-09T16:55:27.501Z"
   },
   {
    "duration": 135,
    "start_time": "2022-07-09T16:55:27.553Z"
   },
   {
    "duration": 17,
    "start_time": "2022-07-09T16:55:27.689Z"
   },
   {
    "duration": 21,
    "start_time": "2022-07-09T16:55:27.728Z"
   },
   {
    "duration": 26,
    "start_time": "2022-07-09T16:55:27.751Z"
   },
   {
    "duration": 26,
    "start_time": "2022-07-09T16:55:27.779Z"
   },
   {
    "duration": 18,
    "start_time": "2022-07-09T16:55:27.808Z"
   },
   {
    "duration": 41,
    "start_time": "2022-07-09T16:55:27.830Z"
   },
   {
    "duration": 25,
    "start_time": "2022-07-09T16:55:27.874Z"
   },
   {
    "duration": 48,
    "start_time": "2022-07-09T16:55:27.900Z"
   },
   {
    "duration": 79,
    "start_time": "2022-07-09T16:55:27.949Z"
   },
   {
    "duration": 143,
    "start_time": "2022-07-09T16:55:28.030Z"
   },
   {
    "duration": 251,
    "start_time": "2022-07-09T16:55:28.175Z"
   },
   {
    "duration": 22,
    "start_time": "2022-07-09T16:55:28.436Z"
   },
   {
    "duration": 26,
    "start_time": "2022-07-09T16:55:28.460Z"
   },
   {
    "duration": 19,
    "start_time": "2022-07-09T16:55:28.488Z"
   },
   {
    "duration": 92,
    "start_time": "2022-07-09T16:55:28.509Z"
   },
   {
    "duration": 5,
    "start_time": "2022-07-09T16:55:28.603Z"
   },
   {
    "duration": 176,
    "start_time": "2022-07-09T16:55:28.611Z"
   },
   {
    "duration": 0,
    "start_time": "2022-07-09T16:55:28.788Z"
   },
   {
    "duration": 0,
    "start_time": "2022-07-09T16:55:28.790Z"
   },
   {
    "duration": 8,
    "start_time": "2022-07-09T16:56:06.052Z"
   },
   {
    "duration": 13,
    "start_time": "2022-07-09T16:56:13.865Z"
   },
   {
    "duration": 12,
    "start_time": "2022-07-09T17:01:28.087Z"
   },
   {
    "duration": 13,
    "start_time": "2022-07-09T17:02:08.187Z"
   },
   {
    "duration": 14,
    "start_time": "2022-07-09T17:02:23.236Z"
   },
   {
    "duration": 188,
    "start_time": "2022-07-09T17:03:34.641Z"
   },
   {
    "duration": 9,
    "start_time": "2022-07-09T17:31:16.206Z"
   },
   {
    "duration": 10,
    "start_time": "2022-07-09T17:31:18.856Z"
   },
   {
    "duration": 10,
    "start_time": "2022-07-09T17:31:19.736Z"
   },
   {
    "duration": 9,
    "start_time": "2022-07-09T17:31:20.416Z"
   },
   {
    "duration": 10,
    "start_time": "2022-07-09T17:31:46.114Z"
   },
   {
    "duration": 9,
    "start_time": "2022-07-09T17:31:47.560Z"
   },
   {
    "duration": 4,
    "start_time": "2022-07-09T17:31:51.642Z"
   },
   {
    "duration": 12,
    "start_time": "2022-07-09T17:32:13.253Z"
   },
   {
    "duration": 14,
    "start_time": "2022-07-09T17:33:11.201Z"
   },
   {
    "duration": 15,
    "start_time": "2022-07-09T17:47:30.154Z"
   },
   {
    "duration": 15,
    "start_time": "2022-07-09T17:47:48.359Z"
   },
   {
    "duration": 18,
    "start_time": "2022-07-09T17:48:03.281Z"
   },
   {
    "duration": 17,
    "start_time": "2022-07-09T17:48:11.137Z"
   },
   {
    "duration": 12,
    "start_time": "2022-07-09T17:54:57.612Z"
   },
   {
    "duration": 10,
    "start_time": "2022-07-09T17:56:21.844Z"
   },
   {
    "duration": 10,
    "start_time": "2022-07-09T17:56:35.553Z"
   },
   {
    "duration": 5,
    "start_time": "2022-07-09T17:58:33.693Z"
   },
   {
    "duration": 5,
    "start_time": "2022-07-09T17:58:33.796Z"
   },
   {
    "duration": 6,
    "start_time": "2022-07-09T17:58:35.398Z"
   },
   {
    "duration": 6,
    "start_time": "2022-07-09T18:01:01.488Z"
   },
   {
    "duration": 15736,
    "start_time": "2022-07-09T18:01:06.044Z"
   },
   {
    "duration": 6,
    "start_time": "2022-07-09T18:05:03.998Z"
   },
   {
    "duration": 50,
    "start_time": "2022-07-09T18:05:17.454Z"
   },
   {
    "duration": 7,
    "start_time": "2022-07-09T18:05:20.937Z"
   },
   {
    "duration": 5,
    "start_time": "2022-07-09T18:05:25.439Z"
   },
   {
    "duration": 5,
    "start_time": "2022-07-09T18:05:28.451Z"
   },
   {
    "duration": 118,
    "start_time": "2022-07-09T18:05:57.937Z"
   },
   {
    "duration": 10,
    "start_time": "2022-07-09T18:06:03.542Z"
   },
   {
    "duration": 52,
    "start_time": "2022-07-09T18:07:27.706Z"
   },
   {
    "duration": 6,
    "start_time": "2022-07-09T18:07:33.894Z"
   },
   {
    "duration": 8,
    "start_time": "2022-07-09T19:03:43.473Z"
   },
   {
    "duration": 9,
    "start_time": "2022-07-09T19:04:02.189Z"
   },
   {
    "duration": 6,
    "start_time": "2022-07-09T19:08:17.339Z"
   },
   {
    "duration": 16247,
    "start_time": "2022-07-09T19:08:19.194Z"
   },
   {
    "duration": 6,
    "start_time": "2022-07-09T19:09:06.446Z"
   },
   {
    "duration": 47077,
    "start_time": "2022-07-09T19:09:08.056Z"
   },
   {
    "duration": 5,
    "start_time": "2022-07-09T19:11:08.684Z"
   },
   {
    "duration": 47326,
    "start_time": "2022-07-09T19:11:10.411Z"
   },
   {
    "duration": 5,
    "start_time": "2022-07-09T19:14:25.626Z"
   },
   {
    "duration": 6,
    "start_time": "2022-07-09T19:15:38.467Z"
   },
   {
    "duration": 6,
    "start_time": "2022-07-09T19:15:44.353Z"
   },
   {
    "duration": 6,
    "start_time": "2022-07-09T19:19:35.182Z"
   },
   {
    "duration": 7,
    "start_time": "2022-07-09T19:19:40.321Z"
   },
   {
    "duration": 8,
    "start_time": "2022-07-09T19:21:43.498Z"
   },
   {
    "duration": 6,
    "start_time": "2022-07-09T19:23:26.652Z"
   },
   {
    "duration": 6,
    "start_time": "2022-07-09T19:23:37.178Z"
   },
   {
    "duration": 9,
    "start_time": "2022-07-09T19:23:59.019Z"
   },
   {
    "duration": 36617,
    "start_time": "2022-07-09T19:24:00.973Z"
   },
   {
    "duration": 0,
    "start_time": "2022-07-09T19:24:37.593Z"
   },
   {
    "duration": 9,
    "start_time": "2022-07-09T19:24:40.021Z"
   },
   {
    "duration": 47733,
    "start_time": "2022-07-09T19:24:41.508Z"
   },
   {
    "duration": 8,
    "start_time": "2022-07-09T19:26:13.357Z"
   },
   {
    "duration": 45694,
    "start_time": "2022-07-09T19:26:15.344Z"
   },
   {
    "duration": 1189,
    "start_time": "2022-07-11T10:25:28.366Z"
   },
   {
    "duration": 5,
    "start_time": "2022-07-11T10:25:29.557Z"
   },
   {
    "duration": 830,
    "start_time": "2022-07-11T10:25:29.565Z"
   },
   {
    "duration": 44,
    "start_time": "2022-07-11T10:25:30.398Z"
   },
   {
    "duration": 119,
    "start_time": "2022-07-11T10:25:30.451Z"
   },
   {
    "duration": 91,
    "start_time": "2022-07-11T10:25:30.572Z"
   },
   {
    "duration": 154,
    "start_time": "2022-07-11T10:25:30.665Z"
   },
   {
    "duration": 49,
    "start_time": "2022-07-11T10:25:30.820Z"
   },
   {
    "duration": 46,
    "start_time": "2022-07-11T10:25:30.870Z"
   },
   {
    "duration": 51,
    "start_time": "2022-07-11T10:25:30.919Z"
   },
   {
    "duration": 151,
    "start_time": "2022-07-11T10:25:30.972Z"
   },
   {
    "duration": 30,
    "start_time": "2022-07-11T10:25:31.125Z"
   },
   {
    "duration": 22,
    "start_time": "2022-07-11T10:25:31.156Z"
   },
   {
    "duration": 36,
    "start_time": "2022-07-11T10:25:31.180Z"
   },
   {
    "duration": 40,
    "start_time": "2022-07-11T10:25:31.218Z"
   },
   {
    "duration": 4,
    "start_time": "2022-07-11T10:25:31.264Z"
   },
   {
    "duration": 39,
    "start_time": "2022-07-11T10:25:31.270Z"
   },
   {
    "duration": 22,
    "start_time": "2022-07-11T10:25:31.310Z"
   },
   {
    "duration": 44,
    "start_time": "2022-07-11T10:25:31.334Z"
   },
   {
    "duration": 78,
    "start_time": "2022-07-11T10:25:31.380Z"
   },
   {
    "duration": 116,
    "start_time": "2022-07-11T10:25:31.463Z"
   },
   {
    "duration": 199,
    "start_time": "2022-07-11T10:25:31.581Z"
   },
   {
    "duration": 119,
    "start_time": "2022-07-11T10:25:31.846Z"
   },
   {
    "duration": 19,
    "start_time": "2022-07-11T10:25:31.967Z"
   },
   {
    "duration": 12,
    "start_time": "2022-07-11T10:25:31.988Z"
   },
   {
    "duration": 41,
    "start_time": "2022-07-11T10:25:32.003Z"
   },
   {
    "duration": 16,
    "start_time": "2022-07-11T10:25:32.045Z"
   },
   {
    "duration": 10,
    "start_time": "2022-07-11T10:25:32.064Z"
   },
   {
    "duration": 21,
    "start_time": "2022-07-11T10:25:32.075Z"
   },
   {
    "duration": 148,
    "start_time": "2022-07-11T10:25:32.098Z"
   },
   {
    "duration": 21,
    "start_time": "2022-07-11T10:25:32.252Z"
   },
   {
    "duration": 13,
    "start_time": "2022-07-11T10:25:32.275Z"
   },
   {
    "duration": 7,
    "start_time": "2022-07-11T10:25:32.290Z"
   },
   {
    "duration": 53,
    "start_time": "2022-07-11T10:25:32.299Z"
   },
   {
    "duration": 20,
    "start_time": "2022-07-11T10:25:32.356Z"
   },
   {
    "duration": 46512,
    "start_time": "2022-07-11T10:25:32.378Z"
   },
   {
    "duration": 15,
    "start_time": "2022-07-11T10:27:33.386Z"
   },
   {
    "duration": 11,
    "start_time": "2022-07-11T10:29:22.908Z"
   },
   {
    "duration": 22,
    "start_time": "2022-07-11T10:29:29.054Z"
   },
   {
    "duration": 980,
    "start_time": "2022-07-11T10:29:38.058Z"
   },
   {
    "duration": 18,
    "start_time": "2022-07-11T10:29:49.936Z"
   },
   {
    "duration": 6,
    "start_time": "2022-07-11T10:33:55.771Z"
   },
   {
    "duration": 14987,
    "start_time": "2022-07-11T10:33:55.779Z"
   },
   {
    "duration": 5,
    "start_time": "2022-07-11T10:40:07.163Z"
   },
   {
    "duration": 6,
    "start_time": "2022-07-11T10:40:10.737Z"
   },
   {
    "duration": 22838,
    "start_time": "2022-07-11T10:40:19.858Z"
   },
   {
    "duration": 8,
    "start_time": "2022-07-11T10:41:00.426Z"
   },
   {
    "duration": 6,
    "start_time": "2022-07-11T10:41:45.366Z"
   },
   {
    "duration": 5,
    "start_time": "2022-07-11T10:41:57.038Z"
   },
   {
    "duration": 225,
    "start_time": "2022-07-11T10:42:02.750Z"
   },
   {
    "duration": 213,
    "start_time": "2022-07-11T10:48:51.550Z"
   },
   {
    "duration": 6,
    "start_time": "2022-07-11T10:49:36.923Z"
   },
   {
    "duration": 235,
    "start_time": "2022-07-11T10:49:41.015Z"
   },
   {
    "duration": 9,
    "start_time": "2022-07-11T10:56:06.766Z"
   },
   {
    "duration": 26415,
    "start_time": "2022-07-11T10:56:12.966Z"
   },
   {
    "duration": 5,
    "start_time": "2022-07-11T10:57:12.260Z"
   },
   {
    "duration": 6,
    "start_time": "2022-07-11T10:57:19.194Z"
   },
   {
    "duration": 15163,
    "start_time": "2022-07-11T10:57:21.359Z"
   },
   {
    "duration": 7,
    "start_time": "2022-07-11T11:00:14.952Z"
   },
   {
    "duration": 1208,
    "start_time": "2022-07-11T11:13:08.991Z"
   },
   {
    "duration": 3,
    "start_time": "2022-07-11T11:13:10.201Z"
   },
   {
    "duration": 532,
    "start_time": "2022-07-11T11:13:10.206Z"
   },
   {
    "duration": 70,
    "start_time": "2022-07-11T11:13:10.740Z"
   },
   {
    "duration": 116,
    "start_time": "2022-07-11T11:13:10.812Z"
   },
   {
    "duration": 109,
    "start_time": "2022-07-11T11:13:10.930Z"
   },
   {
    "duration": 173,
    "start_time": "2022-07-11T11:13:11.040Z"
   },
   {
    "duration": 53,
    "start_time": "2022-07-11T11:13:11.215Z"
   },
   {
    "duration": 44,
    "start_time": "2022-07-11T11:13:11.272Z"
   },
   {
    "duration": 46,
    "start_time": "2022-07-11T11:13:11.320Z"
   },
   {
    "duration": 160,
    "start_time": "2022-07-11T11:13:11.368Z"
   },
   {
    "duration": 54,
    "start_time": "2022-07-11T11:13:11.530Z"
   },
   {
    "duration": 21,
    "start_time": "2022-07-11T11:13:11.586Z"
   },
   {
    "duration": 19,
    "start_time": "2022-07-11T11:13:11.609Z"
   },
   {
    "duration": 35,
    "start_time": "2022-07-11T11:13:11.629Z"
   },
   {
    "duration": 5,
    "start_time": "2022-07-11T11:13:11.669Z"
   },
   {
    "duration": 34,
    "start_time": "2022-07-11T11:13:11.676Z"
   },
   {
    "duration": 21,
    "start_time": "2022-07-11T11:13:11.712Z"
   },
   {
    "duration": 56,
    "start_time": "2022-07-11T11:13:11.735Z"
   },
   {
    "duration": 156,
    "start_time": "2022-07-11T11:13:11.795Z"
   },
   {
    "duration": 113,
    "start_time": "2022-07-11T11:13:11.953Z"
   },
   {
    "duration": 120,
    "start_time": "2022-07-11T11:13:12.071Z"
   },
   {
    "duration": 61,
    "start_time": "2022-07-11T11:13:12.193Z"
   },
   {
    "duration": 134,
    "start_time": "2022-07-11T11:13:12.256Z"
   },
   {
    "duration": 16,
    "start_time": "2022-07-11T11:13:12.392Z"
   },
   {
    "duration": 48,
    "start_time": "2022-07-11T11:13:12.410Z"
   },
   {
    "duration": 6,
    "start_time": "2022-07-11T11:13:12.460Z"
   },
   {
    "duration": 30,
    "start_time": "2022-07-11T11:13:12.469Z"
   },
   {
    "duration": 49586,
    "start_time": "2022-07-11T11:13:12.501Z"
   },
   {
    "duration": 7,
    "start_time": "2022-07-11T11:14:02.089Z"
   },
   {
    "duration": 34,
    "start_time": "2022-07-11T11:14:02.097Z"
   },
   {
    "duration": 129,
    "start_time": "2022-07-11T11:14:02.133Z"
   },
   {
    "duration": 131,
    "start_time": "2022-07-11T11:14:02.265Z"
   },
   {
    "duration": 11,
    "start_time": "2022-07-11T11:14:02.398Z"
   },
   {
    "duration": 11,
    "start_time": "2022-07-11T11:14:02.411Z"
   },
   {
    "duration": 38,
    "start_time": "2022-07-11T11:14:02.424Z"
   },
   {
    "duration": 30,
    "start_time": "2022-07-11T11:14:02.475Z"
   },
   {
    "duration": 23,
    "start_time": "2022-07-11T11:14:02.507Z"
   },
   {
    "duration": 6,
    "start_time": "2022-07-11T11:14:02.531Z"
   },
   {
    "duration": 1255,
    "start_time": "2022-07-11T11:18:06.063Z"
   },
   {
    "duration": 3,
    "start_time": "2022-07-11T11:18:07.320Z"
   },
   {
    "duration": 500,
    "start_time": "2022-07-11T11:18:07.325Z"
   },
   {
    "duration": 72,
    "start_time": "2022-07-11T11:18:07.827Z"
   },
   {
    "duration": 127,
    "start_time": "2022-07-11T11:18:07.900Z"
   },
   {
    "duration": 114,
    "start_time": "2022-07-11T11:18:08.030Z"
   },
   {
    "duration": 190,
    "start_time": "2022-07-11T11:18:08.148Z"
   },
   {
    "duration": 55,
    "start_time": "2022-07-11T11:18:08.340Z"
   },
   {
    "duration": 36,
    "start_time": "2022-07-11T11:18:08.397Z"
   },
   {
    "duration": 65,
    "start_time": "2022-07-11T11:18:08.435Z"
   },
   {
    "duration": 151,
    "start_time": "2022-07-11T11:18:08.502Z"
   },
   {
    "duration": 26,
    "start_time": "2022-07-11T11:18:08.654Z"
   },
   {
    "duration": 38,
    "start_time": "2022-07-11T11:18:08.682Z"
   },
   {
    "duration": 25,
    "start_time": "2022-07-11T11:18:08.722Z"
   },
   {
    "duration": 33,
    "start_time": "2022-07-11T11:18:08.749Z"
   },
   {
    "duration": 25,
    "start_time": "2022-07-11T11:18:08.787Z"
   },
   {
    "duration": 36,
    "start_time": "2022-07-11T11:18:08.814Z"
   },
   {
    "duration": 42,
    "start_time": "2022-07-11T11:18:08.855Z"
   },
   {
    "duration": 38,
    "start_time": "2022-07-11T11:18:08.899Z"
   },
   {
    "duration": 116,
    "start_time": "2022-07-11T11:18:08.940Z"
   },
   {
    "duration": 135,
    "start_time": "2022-07-11T11:18:09.058Z"
   },
   {
    "duration": 268,
    "start_time": "2022-07-11T11:18:09.196Z"
   },
   {
    "duration": 9,
    "start_time": "2022-07-11T11:18:09.474Z"
   },
   {
    "duration": 38,
    "start_time": "2022-07-11T11:18:09.484Z"
   },
   {
    "duration": 29,
    "start_time": "2022-07-11T11:18:09.524Z"
   },
   {
    "duration": 102,
    "start_time": "2022-07-11T11:18:09.555Z"
   },
   {
    "duration": 6,
    "start_time": "2022-07-11T11:18:09.659Z"
   },
   {
    "duration": 46,
    "start_time": "2022-07-11T11:18:09.667Z"
   },
   {
    "duration": 48549,
    "start_time": "2022-07-11T11:18:09.715Z"
   },
   {
    "duration": 9,
    "start_time": "2022-07-11T11:18:58.265Z"
   },
   {
    "duration": 27,
    "start_time": "2022-07-11T11:18:58.275Z"
   },
   {
    "duration": 50,
    "start_time": "2022-07-11T11:18:58.305Z"
   },
   {
    "duration": 136,
    "start_time": "2022-07-11T11:18:58.358Z"
   },
   {
    "duration": 11,
    "start_time": "2022-07-11T11:18:58.496Z"
   },
   {
    "duration": 10,
    "start_time": "2022-07-11T11:18:58.508Z"
   },
   {
    "duration": 14,
    "start_time": "2022-07-11T11:18:58.520Z"
   },
   {
    "duration": 24,
    "start_time": "2022-07-11T11:18:58.536Z"
   },
   {
    "duration": 26,
    "start_time": "2022-07-11T11:18:58.566Z"
   },
   {
    "duration": 9,
    "start_time": "2022-07-11T11:18:58.593Z"
   },
   {
    "duration": 13,
    "start_time": "2022-07-11T19:26:26.296Z"
   },
   {
    "duration": 51,
    "start_time": "2022-07-11T19:26:30.217Z"
   },
   {
    "duration": 1276,
    "start_time": "2022-07-11T19:26:40.117Z"
   },
   {
    "duration": 3,
    "start_time": "2022-07-11T19:26:41.395Z"
   },
   {
    "duration": 1886,
    "start_time": "2022-07-11T19:26:41.400Z"
   },
   {
    "duration": 58,
    "start_time": "2022-07-11T19:26:43.288Z"
   },
   {
    "duration": 120,
    "start_time": "2022-07-11T19:26:43.348Z"
   },
   {
    "duration": 90,
    "start_time": "2022-07-11T19:26:43.470Z"
   },
   {
    "duration": 188,
    "start_time": "2022-07-11T19:26:43.562Z"
   },
   {
    "duration": 46,
    "start_time": "2022-07-11T19:26:43.752Z"
   },
   {
    "duration": 38,
    "start_time": "2022-07-11T19:26:43.800Z"
   },
   {
    "duration": 48,
    "start_time": "2022-07-11T19:26:43.841Z"
   },
   {
    "duration": 167,
    "start_time": "2022-07-11T19:26:43.890Z"
   },
   {
    "duration": 20,
    "start_time": "2022-07-11T19:26:44.059Z"
   },
   {
    "duration": 31,
    "start_time": "2022-07-11T19:26:44.099Z"
   },
   {
    "duration": 21,
    "start_time": "2022-07-11T19:26:44.131Z"
   },
   {
    "duration": 20,
    "start_time": "2022-07-11T19:26:44.154Z"
   },
   {
    "duration": 23,
    "start_time": "2022-07-11T19:26:44.176Z"
   },
   {
    "duration": 32,
    "start_time": "2022-07-11T19:26:44.202Z"
   },
   {
    "duration": 25,
    "start_time": "2022-07-11T19:26:44.236Z"
   },
   {
    "duration": 50,
    "start_time": "2022-07-11T19:26:44.264Z"
   },
   {
    "duration": 88,
    "start_time": "2022-07-11T19:26:44.316Z"
   },
   {
    "duration": 101,
    "start_time": "2022-07-11T19:26:44.406Z"
   },
   {
    "duration": 196,
    "start_time": "2022-07-11T19:26:44.509Z"
   },
   {
    "duration": 3,
    "start_time": "2022-07-11T19:26:44.707Z"
   },
   {
    "duration": 98,
    "start_time": "2022-07-11T19:26:44.712Z"
   },
   {
    "duration": 24,
    "start_time": "2022-07-11T19:26:44.812Z"
   },
   {
    "duration": 42,
    "start_time": "2022-07-11T19:26:44.838Z"
   },
   {
    "duration": 19,
    "start_time": "2022-07-11T19:26:44.882Z"
   },
   {
    "duration": 14,
    "start_time": "2022-07-11T19:26:44.904Z"
   },
   {
    "duration": 56108,
    "start_time": "2022-07-11T19:26:44.920Z"
   },
   {
    "duration": 5,
    "start_time": "2022-07-11T19:27:41.030Z"
   },
   {
    "duration": 14,
    "start_time": "2022-07-11T19:27:41.037Z"
   },
   {
    "duration": 151,
    "start_time": "2022-07-11T19:27:41.053Z"
   },
   {
    "duration": 27,
    "start_time": "2022-07-11T19:27:41.206Z"
   },
   {
    "duration": 67,
    "start_time": "2022-07-11T19:27:41.235Z"
   },
   {
    "duration": 13,
    "start_time": "2022-07-11T19:27:41.306Z"
   },
   {
    "duration": 15,
    "start_time": "2022-07-11T19:27:41.322Z"
   },
   {
    "duration": 11,
    "start_time": "2022-07-11T19:27:41.339Z"
   },
   {
    "duration": 11,
    "start_time": "2022-07-11T19:27:41.352Z"
   },
   {
    "duration": 35,
    "start_time": "2022-07-11T19:27:41.365Z"
   },
   {
    "duration": 7,
    "start_time": "2022-07-11T19:30:59.329Z"
   },
   {
    "duration": 53009,
    "start_time": "2022-07-11T19:31:01.840Z"
   },
   {
    "duration": 114,
    "start_time": "2022-07-11T19:33:36.556Z"
   },
   {
    "duration": 23,
    "start_time": "2022-07-11T19:33:53.159Z"
   },
   {
    "duration": 4,
    "start_time": "2022-07-11T19:34:04.207Z"
   },
   {
    "duration": 7,
    "start_time": "2022-07-11T19:34:27.470Z"
   },
   {
    "duration": 8,
    "start_time": "2022-07-11T19:36:09.890Z"
   },
   {
    "duration": 48054,
    "start_time": "2022-07-11T19:36:12.066Z"
   },
   {
    "duration": 28,
    "start_time": "2022-07-11T19:37:12.477Z"
   },
   {
    "duration": 21,
    "start_time": "2022-07-11T19:37:18.265Z"
   },
   {
    "duration": 21,
    "start_time": "2022-07-11T19:38:02.260Z"
   },
   {
    "duration": 10,
    "start_time": "2022-07-11T19:38:11.931Z"
   },
   {
    "duration": 14,
    "start_time": "2022-07-11T19:39:25.678Z"
   },
   {
    "duration": 12,
    "start_time": "2022-07-11T19:39:37.754Z"
   },
   {
    "duration": 4,
    "start_time": "2022-07-11T19:40:10.606Z"
   },
   {
    "duration": 17,
    "start_time": "2022-07-11T19:40:21.165Z"
   },
   {
    "duration": 20,
    "start_time": "2022-07-11T19:42:50.327Z"
   },
   {
    "duration": 19,
    "start_time": "2022-07-11T19:43:56.357Z"
   },
   {
    "duration": 22,
    "start_time": "2022-07-11T19:44:06.273Z"
   },
   {
    "duration": 13,
    "start_time": "2022-07-11T19:44:06.857Z"
   },
   {
    "duration": 15,
    "start_time": "2022-07-11T19:44:07.454Z"
   },
   {
    "duration": 16,
    "start_time": "2022-07-11T19:45:04.021Z"
   },
   {
    "duration": 3,
    "start_time": "2022-07-11T19:46:21.316Z"
   },
   {
    "duration": 48,
    "start_time": "2022-07-11T19:46:33.070Z"
   },
   {
    "duration": 3,
    "start_time": "2022-07-11T19:46:41.186Z"
   },
   {
    "duration": 15,
    "start_time": "2022-07-11T19:47:04.491Z"
   },
   {
    "duration": 11,
    "start_time": "2022-07-11T19:47:33.495Z"
   },
   {
    "duration": 10,
    "start_time": "2022-07-11T19:47:44.319Z"
   },
   {
    "duration": 6,
    "start_time": "2022-07-11T19:48:05.599Z"
   },
   {
    "duration": 14,
    "start_time": "2022-07-11T19:48:10.770Z"
   },
   {
    "duration": 16,
    "start_time": "2022-07-11T19:48:46.862Z"
   },
   {
    "duration": 6,
    "start_time": "2022-07-11T19:49:27.008Z"
   },
   {
    "duration": 13,
    "start_time": "2022-07-11T19:51:31.690Z"
   },
   {
    "duration": 11,
    "start_time": "2022-07-11T19:55:14.495Z"
   },
   {
    "duration": 25,
    "start_time": "2022-07-11T19:55:31.923Z"
   },
   {
    "duration": 10,
    "start_time": "2022-07-11T19:56:07.979Z"
   },
   {
    "duration": 16,
    "start_time": "2022-07-11T19:56:26.818Z"
   },
   {
    "duration": 14,
    "start_time": "2022-07-11T19:58:21.003Z"
   },
   {
    "duration": 30,
    "start_time": "2022-07-11T20:03:45.795Z"
   },
   {
    "duration": 5,
    "start_time": "2022-07-11T20:04:59.561Z"
   },
   {
    "duration": 154,
    "start_time": "2022-07-11T20:05:02.504Z"
   },
   {
    "duration": 28,
    "start_time": "2022-07-11T20:05:13.582Z"
   },
   {
    "duration": 4,
    "start_time": "2022-07-11T20:05:15.320Z"
   },
   {
    "duration": 23,
    "start_time": "2022-07-11T20:06:00.921Z"
   },
   {
    "duration": 4,
    "start_time": "2022-07-11T20:06:01.485Z"
   },
   {
    "duration": 12,
    "start_time": "2022-07-11T20:08:45.476Z"
   },
   {
    "duration": 13,
    "start_time": "2022-07-11T20:10:16.661Z"
   },
   {
    "duration": 4,
    "start_time": "2022-07-11T20:12:20.908Z"
   },
   {
    "duration": 22,
    "start_time": "2022-07-11T20:12:34.248Z"
   },
   {
    "duration": 4,
    "start_time": "2022-07-11T20:12:34.964Z"
   },
   {
    "duration": 4,
    "start_time": "2022-07-11T20:12:35.714Z"
   },
   {
    "duration": 49,
    "start_time": "2022-07-11T21:48:00.544Z"
   },
   {
    "duration": 1112,
    "start_time": "2022-07-11T21:48:10.847Z"
   },
   {
    "duration": 3,
    "start_time": "2022-07-11T21:48:11.961Z"
   },
   {
    "duration": 820,
    "start_time": "2022-07-11T21:48:11.966Z"
   },
   {
    "duration": 48,
    "start_time": "2022-07-11T21:48:12.788Z"
   },
   {
    "duration": 118,
    "start_time": "2022-07-11T21:48:12.838Z"
   },
   {
    "duration": 86,
    "start_time": "2022-07-11T21:48:12.958Z"
   },
   {
    "duration": 149,
    "start_time": "2022-07-11T21:48:13.046Z"
   },
   {
    "duration": 49,
    "start_time": "2022-07-11T21:48:13.197Z"
   },
   {
    "duration": 38,
    "start_time": "2022-07-11T21:48:13.248Z"
   },
   {
    "duration": 56,
    "start_time": "2022-07-11T21:48:13.288Z"
   },
   {
    "duration": 149,
    "start_time": "2022-07-11T21:48:13.346Z"
   },
   {
    "duration": 27,
    "start_time": "2022-07-11T21:48:13.496Z"
   },
   {
    "duration": 23,
    "start_time": "2022-07-11T21:48:13.525Z"
   },
   {
    "duration": 33,
    "start_time": "2022-07-11T21:48:13.550Z"
   },
   {
    "duration": 25,
    "start_time": "2022-07-11T21:48:13.585Z"
   },
   {
    "duration": 28,
    "start_time": "2022-07-11T21:48:13.612Z"
   },
   {
    "duration": 56,
    "start_time": "2022-07-11T21:48:13.642Z"
   },
   {
    "duration": 33,
    "start_time": "2022-07-11T21:48:13.699Z"
   },
   {
    "duration": 49,
    "start_time": "2022-07-11T21:48:13.734Z"
   },
   {
    "duration": 51,
    "start_time": "2022-07-11T21:48:13.785Z"
   },
   {
    "duration": 107,
    "start_time": "2022-07-11T21:48:13.924Z"
   },
   {
    "duration": 199,
    "start_time": "2022-07-11T21:48:14.034Z"
   },
   {
    "duration": 98,
    "start_time": "2022-07-11T21:48:14.237Z"
   },
   {
    "duration": 30,
    "start_time": "2022-07-11T21:48:14.336Z"
   },
   {
    "duration": 26,
    "start_time": "2022-07-11T21:48:14.368Z"
   },
   {
    "duration": 63,
    "start_time": "2022-07-11T21:48:14.396Z"
   },
   {
    "duration": 5,
    "start_time": "2022-07-11T21:48:14.461Z"
   },
   {
    "duration": 28,
    "start_time": "2022-07-11T21:48:14.470Z"
   },
   {
    "duration": 57,
    "start_time": "2022-07-11T21:48:14.500Z"
   },
   {
    "duration": 178,
    "start_time": "2022-07-11T21:48:14.559Z"
   },
   {
    "duration": 13,
    "start_time": "2022-07-11T21:48:14.739Z"
   },
   {
    "duration": 298,
    "start_time": "2022-07-11T21:48:14.754Z"
   },
   {
    "duration": 0,
    "start_time": "2022-07-11T21:48:15.054Z"
   },
   {
    "duration": 0,
    "start_time": "2022-07-11T21:48:15.056Z"
   },
   {
    "duration": 0,
    "start_time": "2022-07-11T21:48:15.058Z"
   },
   {
    "duration": 0,
    "start_time": "2022-07-11T21:48:15.059Z"
   },
   {
    "duration": 0,
    "start_time": "2022-07-11T21:48:15.060Z"
   },
   {
    "duration": 0,
    "start_time": "2022-07-11T21:48:15.062Z"
   },
   {
    "duration": 0,
    "start_time": "2022-07-11T21:48:15.063Z"
   },
   {
    "duration": 0,
    "start_time": "2022-07-11T21:48:15.065Z"
   },
   {
    "duration": 0,
    "start_time": "2022-07-11T21:48:15.067Z"
   },
   {
    "duration": 0,
    "start_time": "2022-07-11T21:48:15.068Z"
   },
   {
    "duration": 0,
    "start_time": "2022-07-11T21:48:15.070Z"
   },
   {
    "duration": 0,
    "start_time": "2022-07-11T21:48:15.072Z"
   },
   {
    "duration": 0,
    "start_time": "2022-07-11T21:48:15.073Z"
   },
   {
    "duration": 56,
    "start_time": "2022-07-11T21:48:54.759Z"
   },
   {
    "duration": 39,
    "start_time": "2022-07-11T21:49:00.884Z"
   },
   {
    "duration": 12,
    "start_time": "2022-07-11T21:49:42.659Z"
   },
   {
    "duration": 16,
    "start_time": "2022-07-11T21:49:57.605Z"
   },
   {
    "duration": 12,
    "start_time": "2022-07-11T21:50:11.681Z"
   },
   {
    "duration": 13,
    "start_time": "2022-07-11T21:51:03.119Z"
   },
   {
    "duration": 11,
    "start_time": "2022-07-11T21:51:14.462Z"
   },
   {
    "duration": 32,
    "start_time": "2022-07-11T21:52:16.892Z"
   },
   {
    "duration": 39,
    "start_time": "2022-07-11T21:52:58.489Z"
   },
   {
    "duration": 13,
    "start_time": "2022-07-11T21:53:06.990Z"
   },
   {
    "duration": 11,
    "start_time": "2022-07-11T21:53:26.115Z"
   },
   {
    "duration": 13,
    "start_time": "2022-07-11T21:53:42.774Z"
   },
   {
    "duration": 13,
    "start_time": "2022-07-11T21:53:56.859Z"
   },
   {
    "duration": 12,
    "start_time": "2022-07-11T21:54:12.127Z"
   },
   {
    "duration": 43,
    "start_time": "2022-07-11T21:54:15.479Z"
   },
   {
    "duration": 51,
    "start_time": "2022-07-11T21:54:25.585Z"
   },
   {
    "duration": 55,
    "start_time": "2022-07-11T21:56:45.975Z"
   },
   {
    "duration": 7,
    "start_time": "2022-07-11T22:02:33.006Z"
   },
   {
    "duration": 4175,
    "start_time": "2022-07-11T22:02:36.631Z"
   },
   {
    "duration": 8,
    "start_time": "2022-07-11T22:07:34.444Z"
   },
   {
    "duration": 6,
    "start_time": "2022-07-11T22:08:11.897Z"
   },
   {
    "duration": 4175,
    "start_time": "2022-07-11T22:08:13.183Z"
   },
   {
    "duration": 6,
    "start_time": "2022-07-11T22:12:56.083Z"
   },
   {
    "duration": 4274,
    "start_time": "2022-07-11T22:12:58.823Z"
   },
   {
    "duration": 1151,
    "start_time": "2022-07-11T22:20:19.636Z"
   },
   {
    "duration": 3,
    "start_time": "2022-07-11T22:20:20.789Z"
   },
   {
    "duration": 431,
    "start_time": "2022-07-11T22:20:20.794Z"
   },
   {
    "duration": 48,
    "start_time": "2022-07-11T22:20:21.228Z"
   },
   {
    "duration": 131,
    "start_time": "2022-07-11T22:20:21.278Z"
   },
   {
    "duration": 86,
    "start_time": "2022-07-11T22:20:21.411Z"
   },
   {
    "duration": 171,
    "start_time": "2022-07-11T22:20:21.498Z"
   },
   {
    "duration": 31,
    "start_time": "2022-07-11T22:20:21.671Z"
   },
   {
    "duration": 55,
    "start_time": "2022-07-11T22:20:21.703Z"
   },
   {
    "duration": 31,
    "start_time": "2022-07-11T22:20:21.760Z"
   },
   {
    "duration": 151,
    "start_time": "2022-07-11T22:20:21.793Z"
   },
   {
    "duration": 18,
    "start_time": "2022-07-11T22:20:21.946Z"
   },
   {
    "duration": 14,
    "start_time": "2022-07-11T22:20:21.966Z"
   },
   {
    "duration": 46,
    "start_time": "2022-07-11T22:20:21.982Z"
   },
   {
    "duration": 25,
    "start_time": "2022-07-11T22:20:22.030Z"
   },
   {
    "duration": 4,
    "start_time": "2022-07-11T22:20:22.057Z"
   },
   {
    "duration": 27,
    "start_time": "2022-07-11T22:20:22.063Z"
   },
   {
    "duration": 49,
    "start_time": "2022-07-11T22:20:22.091Z"
   },
   {
    "duration": 25,
    "start_time": "2022-07-11T22:20:22.142Z"
   },
   {
    "duration": 65,
    "start_time": "2022-07-11T22:20:22.169Z"
   },
   {
    "duration": 192,
    "start_time": "2022-07-11T22:20:22.235Z"
   },
   {
    "duration": 199,
    "start_time": "2022-07-11T22:20:22.428Z"
   },
   {
    "duration": 4,
    "start_time": "2022-07-11T22:20:22.629Z"
   },
   {
    "duration": 94,
    "start_time": "2022-07-11T22:20:22.635Z"
   },
   {
    "duration": 14,
    "start_time": "2022-07-11T22:20:22.732Z"
   },
   {
    "duration": 43,
    "start_time": "2022-07-11T22:20:22.748Z"
   },
   {
    "duration": 33,
    "start_time": "2022-07-11T22:20:22.793Z"
   },
   {
    "duration": 12,
    "start_time": "2022-07-11T22:20:22.830Z"
   },
   {
    "duration": 15,
    "start_time": "2022-07-11T22:20:22.845Z"
   },
   {
    "duration": 10,
    "start_time": "2022-07-11T22:20:22.862Z"
   },
   {
    "duration": 5505,
    "start_time": "2022-07-11T22:20:22.874Z"
   },
   {
    "duration": 21,
    "start_time": "2022-07-11T22:20:28.382Z"
   },
   {
    "duration": 21,
    "start_time": "2022-07-11T22:20:28.405Z"
   },
   {
    "duration": 7,
    "start_time": "2022-07-11T22:20:28.428Z"
   },
   {
    "duration": 92,
    "start_time": "2022-07-11T22:20:28.437Z"
   },
   {
    "duration": 91,
    "start_time": "2022-07-11T22:20:28.534Z"
   },
   {
    "duration": 15,
    "start_time": "2022-07-11T22:20:28.627Z"
   },
   {
    "duration": 84,
    "start_time": "2022-07-11T22:20:28.644Z"
   },
   {
    "duration": 101,
    "start_time": "2022-07-11T22:20:28.730Z"
   },
   {
    "duration": 13,
    "start_time": "2022-07-11T22:20:28.833Z"
   },
   {
    "duration": 11,
    "start_time": "2022-07-11T22:20:28.848Z"
   },
   {
    "duration": 23,
    "start_time": "2022-07-11T22:20:28.862Z"
   },
   {
    "duration": 36,
    "start_time": "2022-07-11T22:20:28.887Z"
   },
   {
    "duration": 30,
    "start_time": "2022-07-11T22:20:28.926Z"
   },
   {
    "duration": 16,
    "start_time": "2022-07-11T22:20:28.958Z"
   },
   {
    "duration": 16,
    "start_time": "2022-07-11T22:31:25.371Z"
   },
   {
    "duration": 5550,
    "start_time": "2022-07-11T22:32:10.004Z"
   },
   {
    "duration": 1101,
    "start_time": "2022-07-11T22:35:41.955Z"
   },
   {
    "duration": 3,
    "start_time": "2022-07-11T22:35:43.059Z"
   },
   {
    "duration": 416,
    "start_time": "2022-07-11T22:35:43.064Z"
   },
   {
    "duration": 57,
    "start_time": "2022-07-11T22:35:43.481Z"
   },
   {
    "duration": 125,
    "start_time": "2022-07-11T22:35:43.541Z"
   },
   {
    "duration": 79,
    "start_time": "2022-07-11T22:35:43.667Z"
   },
   {
    "duration": 166,
    "start_time": "2022-07-11T22:35:43.748Z"
   },
   {
    "duration": 47,
    "start_time": "2022-07-11T22:35:43.916Z"
   },
   {
    "duration": 32,
    "start_time": "2022-07-11T22:35:43.965Z"
   },
   {
    "duration": 64,
    "start_time": "2022-07-11T22:35:44.000Z"
   },
   {
    "duration": 144,
    "start_time": "2022-07-11T22:35:44.065Z"
   },
   {
    "duration": 32,
    "start_time": "2022-07-11T22:35:44.211Z"
   },
   {
    "duration": 19,
    "start_time": "2022-07-11T22:35:44.245Z"
   },
   {
    "duration": 21,
    "start_time": "2022-07-11T22:35:44.267Z"
   },
   {
    "duration": 54,
    "start_time": "2022-07-11T22:35:44.289Z"
   },
   {
    "duration": 4,
    "start_time": "2022-07-11T22:35:44.345Z"
   },
   {
    "duration": 29,
    "start_time": "2022-07-11T22:35:44.351Z"
   },
   {
    "duration": 47,
    "start_time": "2022-07-11T22:35:44.381Z"
   },
   {
    "duration": 29,
    "start_time": "2022-07-11T22:35:44.430Z"
   },
   {
    "duration": 164,
    "start_time": "2022-07-11T22:35:44.460Z"
   },
   {
    "duration": 23,
    "start_time": "2022-07-11T22:35:44.626Z"
   },
   {
    "duration": 194,
    "start_time": "2022-07-11T22:35:44.733Z"
   },
   {
    "duration": 103,
    "start_time": "2022-07-11T22:35:44.934Z"
   },
   {
    "duration": 6003,
    "start_time": "2022-07-11T22:35:45.039Z"
   },
   {
    "duration": 4,
    "start_time": "2022-07-11T22:35:51.044Z"
   },
   {
    "duration": 11,
    "start_time": "2022-07-11T22:35:51.051Z"
   },
   {
    "duration": 10,
    "start_time": "2022-07-11T22:35:51.064Z"
   },
   {
    "duration": 50,
    "start_time": "2022-07-11T22:35:51.075Z"
   },
   {
    "duration": 5,
    "start_time": "2022-07-11T22:35:51.128Z"
   },
   {
    "duration": 11,
    "start_time": "2022-07-11T22:35:51.135Z"
   },
   {
    "duration": 15,
    "start_time": "2022-07-11T22:35:51.148Z"
   },
   {
    "duration": 11,
    "start_time": "2022-07-11T22:35:51.165Z"
   },
   {
    "duration": 4085,
    "start_time": "2022-07-11T22:35:51.177Z"
   },
   {
    "duration": 20,
    "start_time": "2022-07-11T22:35:55.263Z"
   },
   {
    "duration": 8,
    "start_time": "2022-07-11T22:35:55.285Z"
   },
   {
    "duration": 20,
    "start_time": "2022-07-11T22:35:55.294Z"
   },
   {
    "duration": 109,
    "start_time": "2022-07-11T22:35:55.315Z"
   },
   {
    "duration": 102,
    "start_time": "2022-07-11T22:35:55.426Z"
   },
   {
    "duration": 26,
    "start_time": "2022-07-11T22:35:55.530Z"
   },
   {
    "duration": 65,
    "start_time": "2022-07-11T22:35:55.560Z"
   },
   {
    "duration": 113,
    "start_time": "2022-07-11T22:35:55.629Z"
   },
   {
    "duration": 10,
    "start_time": "2022-07-11T22:35:55.745Z"
   },
   {
    "duration": 31,
    "start_time": "2022-07-11T22:35:55.757Z"
   },
   {
    "duration": 16,
    "start_time": "2022-07-11T22:35:55.790Z"
   },
   {
    "duration": 6,
    "start_time": "2022-07-11T22:35:55.808Z"
   },
   {
    "duration": 11,
    "start_time": "2022-07-11T22:35:55.816Z"
   },
   {
    "duration": 10,
    "start_time": "2022-07-11T22:35:55.829Z"
   }
  ],
  "kernelspec": {
   "display_name": "Python 3 (ipykernel)",
   "language": "python",
   "name": "python3"
  },
  "language_info": {
   "codemirror_mode": {
    "name": "ipython",
    "version": 3
   },
   "file_extension": ".py",
   "mimetype": "text/x-python",
   "name": "python",
   "nbconvert_exporter": "python",
   "pygments_lexer": "ipython3",
   "version": "3.11.5"
  },
  "toc": {
   "base_numbering": 1,
   "nav_menu": {},
   "number_sections": true,
   "sideBar": true,
   "skip_h1_title": true,
   "title_cell": "Table of Contents",
   "title_sidebar": "Contents",
   "toc_cell": true,
   "toc_position": {
    "height": "calc(100% - 180px)",
    "left": "10px",
    "top": "150px",
    "width": "409px"
   },
   "toc_section_display": true,
   "toc_window_display": true
  }
 },
 "nbformat": 4,
 "nbformat_minor": 4
}
