{
 "cells": [
  {
   "cell_type": "markdown",
   "metadata": {},
   "source": [
    "# Рекомендация тарифов"
   ]
  },
  {
   "cell_type": "markdown",
   "metadata": {},
   "source": [
    "Оператор мобильной связи «Мегалайн» выяснил: многие клиенты пользуются архивными тарифами. Они хотят построить систему, способную проанализировать поведение клиентов и предложить пользователям новый тариф: «Смарт» или «Ультра».\n",
    "\n",
    "В нашем распоряжении данные о поведении клиентов, которые уже перешли на эти тарифы. Нужно построить модель для задачи классификации, которая выберет подходящий тариф. Предобработка данных не понадобится.\n",
    "\n",
    "Необходимо построить модель с максимально большим значением accuracy. Целевое значение метрики должно быть больше или равно 0.75."
   ]
  },
  {
   "cell_type": "markdown",
   "metadata": {},
   "source": [
    "## Загрузка данных"
   ]
  },
  {
   "cell_type": "code",
   "execution_count": 1,
   "metadata": {},
   "outputs": [],
   "source": [
    "# Импортируем pandas и необходимые для работы модели и методы из библиотеки scikit-learn\n",
    "import pandas as pd\n",
    "import matplotlib.pyplot as plt\n",
    "\n",
    "from sklearn.ensemble import RandomForestClassifier\n",
    "from sklearn.linear_model import LogisticRegression\n",
    "from sklearn.model_selection import train_test_split\n",
    "from sklearn.tree import DecisionTreeClassifier\n",
    "from sklearn import tree"
   ]
  },
  {
   "cell_type": "code",
   "execution_count": 2,
   "metadata": {},
   "outputs": [
    {
     "data": {
      "text/html": [
       "<div>\n",
       "<style scoped>\n",
       "    .dataframe tbody tr th:only-of-type {\n",
       "        vertical-align: middle;\n",
       "    }\n",
       "\n",
       "    .dataframe tbody tr th {\n",
       "        vertical-align: top;\n",
       "    }\n",
       "\n",
       "    .dataframe thead th {\n",
       "        text-align: right;\n",
       "    }\n",
       "</style>\n",
       "<table border=\"1\" class=\"dataframe\">\n",
       "  <thead>\n",
       "    <tr style=\"text-align: right;\">\n",
       "      <th></th>\n",
       "      <th>calls</th>\n",
       "      <th>minutes</th>\n",
       "      <th>messages</th>\n",
       "      <th>mb_used</th>\n",
       "      <th>is_ultra</th>\n",
       "    </tr>\n",
       "  </thead>\n",
       "  <tbody>\n",
       "    <tr>\n",
       "      <th>0</th>\n",
       "      <td>40.0</td>\n",
       "      <td>311.90</td>\n",
       "      <td>83.0</td>\n",
       "      <td>19915.42</td>\n",
       "      <td>0</td>\n",
       "    </tr>\n",
       "    <tr>\n",
       "      <th>1</th>\n",
       "      <td>85.0</td>\n",
       "      <td>516.75</td>\n",
       "      <td>56.0</td>\n",
       "      <td>22696.96</td>\n",
       "      <td>0</td>\n",
       "    </tr>\n",
       "    <tr>\n",
       "      <th>2</th>\n",
       "      <td>77.0</td>\n",
       "      <td>467.66</td>\n",
       "      <td>86.0</td>\n",
       "      <td>21060.45</td>\n",
       "      <td>0</td>\n",
       "    </tr>\n",
       "    <tr>\n",
       "      <th>3</th>\n",
       "      <td>106.0</td>\n",
       "      <td>745.53</td>\n",
       "      <td>81.0</td>\n",
       "      <td>8437.39</td>\n",
       "      <td>1</td>\n",
       "    </tr>\n",
       "    <tr>\n",
       "      <th>4</th>\n",
       "      <td>66.0</td>\n",
       "      <td>418.74</td>\n",
       "      <td>1.0</td>\n",
       "      <td>14502.75</td>\n",
       "      <td>0</td>\n",
       "    </tr>\n",
       "    <tr>\n",
       "      <th>...</th>\n",
       "      <td>...</td>\n",
       "      <td>...</td>\n",
       "      <td>...</td>\n",
       "      <td>...</td>\n",
       "      <td>...</td>\n",
       "    </tr>\n",
       "    <tr>\n",
       "      <th>3209</th>\n",
       "      <td>122.0</td>\n",
       "      <td>910.98</td>\n",
       "      <td>20.0</td>\n",
       "      <td>35124.90</td>\n",
       "      <td>1</td>\n",
       "    </tr>\n",
       "    <tr>\n",
       "      <th>3210</th>\n",
       "      <td>25.0</td>\n",
       "      <td>190.36</td>\n",
       "      <td>0.0</td>\n",
       "      <td>3275.61</td>\n",
       "      <td>0</td>\n",
       "    </tr>\n",
       "    <tr>\n",
       "      <th>3211</th>\n",
       "      <td>97.0</td>\n",
       "      <td>634.44</td>\n",
       "      <td>70.0</td>\n",
       "      <td>13974.06</td>\n",
       "      <td>0</td>\n",
       "    </tr>\n",
       "    <tr>\n",
       "      <th>3212</th>\n",
       "      <td>64.0</td>\n",
       "      <td>462.32</td>\n",
       "      <td>90.0</td>\n",
       "      <td>31239.78</td>\n",
       "      <td>0</td>\n",
       "    </tr>\n",
       "    <tr>\n",
       "      <th>3213</th>\n",
       "      <td>80.0</td>\n",
       "      <td>566.09</td>\n",
       "      <td>6.0</td>\n",
       "      <td>29480.52</td>\n",
       "      <td>1</td>\n",
       "    </tr>\n",
       "  </tbody>\n",
       "</table>\n",
       "<p>3214 rows × 5 columns</p>\n",
       "</div>"
      ],
      "text/plain": [
       "      calls  minutes  messages   mb_used  is_ultra\n",
       "0      40.0   311.90      83.0  19915.42         0\n",
       "1      85.0   516.75      56.0  22696.96         0\n",
       "2      77.0   467.66      86.0  21060.45         0\n",
       "3     106.0   745.53      81.0   8437.39         1\n",
       "4      66.0   418.74       1.0  14502.75         0\n",
       "...     ...      ...       ...       ...       ...\n",
       "3209  122.0   910.98      20.0  35124.90         1\n",
       "3210   25.0   190.36       0.0   3275.61         0\n",
       "3211   97.0   634.44      70.0  13974.06         0\n",
       "3212   64.0   462.32      90.0  31239.78         0\n",
       "3213   80.0   566.09       6.0  29480.52         1\n",
       "\n",
       "[3214 rows x 5 columns]"
      ]
     },
     "execution_count": 2,
     "metadata": {},
     "output_type": "execute_result"
    }
   ],
   "source": [
    "# Прочитаем наш датасет\n",
    "df = pd.read_csv('/datasets/users_behavior.csv')\n",
    "df"
   ]
  },
  {
   "cell_type": "markdown",
   "metadata": {},
   "source": [
    "Каждый объект в наборе данных — это информация о поведении одного пользователя за месяц. Известно:\n",
    "* `сalls` — количество звонков,\n",
    "* `minutes` — суммарная длительность звонков в минутах,\n",
    "* `messages` — количество sms-сообщений,\n",
    "* `mb_used` — израсходованный интернет-трафик в Мб,\n",
    "* `is_ultra` — каким тарифом пользовался в течение месяца («Ультра» — 1, «Смарт» — 0)."
   ]
  },
  {
   "cell_type": "markdown",
   "metadata": {},
   "source": [
    "## Подготовим выборки"
   ]
  },
  {
   "cell_type": "markdown",
   "metadata": {},
   "source": [
    "Разделим датасет на обучающию, валидационную и тестовую выборки с соотношением 0.6/0.2/0.2."
   ]
  },
  {
   "cell_type": "code",
   "execution_count": 3,
   "metadata": {},
   "outputs": [
    {
     "data": {
      "text/html": [
       "<div>\n",
       "<style scoped>\n",
       "    .dataframe tbody tr th:only-of-type {\n",
       "        vertical-align: middle;\n",
       "    }\n",
       "\n",
       "    .dataframe tbody tr th {\n",
       "        vertical-align: top;\n",
       "    }\n",
       "\n",
       "    .dataframe thead th {\n",
       "        text-align: right;\n",
       "    }\n",
       "</style>\n",
       "<table border=\"1\" class=\"dataframe\">\n",
       "  <thead>\n",
       "    <tr style=\"text-align: right;\">\n",
       "      <th></th>\n",
       "      <th>calls</th>\n",
       "      <th>minutes</th>\n",
       "      <th>messages</th>\n",
       "      <th>mb_used</th>\n",
       "    </tr>\n",
       "  </thead>\n",
       "  <tbody>\n",
       "    <tr>\n",
       "      <th>2140</th>\n",
       "      <td>74.0</td>\n",
       "      <td>546.21</td>\n",
       "      <td>35.0</td>\n",
       "      <td>20134.43</td>\n",
       "    </tr>\n",
       "    <tr>\n",
       "      <th>364</th>\n",
       "      <td>45.0</td>\n",
       "      <td>358.33</td>\n",
       "      <td>36.0</td>\n",
       "      <td>15723.08</td>\n",
       "    </tr>\n",
       "    <tr>\n",
       "      <th>237</th>\n",
       "      <td>56.0</td>\n",
       "      <td>469.49</td>\n",
       "      <td>145.0</td>\n",
       "      <td>15877.65</td>\n",
       "    </tr>\n",
       "    <tr>\n",
       "      <th>3057</th>\n",
       "      <td>59.0</td>\n",
       "      <td>381.49</td>\n",
       "      <td>47.0</td>\n",
       "      <td>17272.81</td>\n",
       "    </tr>\n",
       "    <tr>\n",
       "      <th>651</th>\n",
       "      <td>18.0</td>\n",
       "      <td>147.93</td>\n",
       "      <td>18.0</td>\n",
       "      <td>1904.01</td>\n",
       "    </tr>\n",
       "    <tr>\n",
       "      <th>...</th>\n",
       "      <td>...</td>\n",
       "      <td>...</td>\n",
       "      <td>...</td>\n",
       "      <td>...</td>\n",
       "    </tr>\n",
       "    <tr>\n",
       "      <th>709</th>\n",
       "      <td>77.0</td>\n",
       "      <td>571.62</td>\n",
       "      <td>7.0</td>\n",
       "      <td>17096.14</td>\n",
       "    </tr>\n",
       "    <tr>\n",
       "      <th>655</th>\n",
       "      <td>99.0</td>\n",
       "      <td>688.70</td>\n",
       "      <td>16.0</td>\n",
       "      <td>18758.43</td>\n",
       "    </tr>\n",
       "    <tr>\n",
       "      <th>2256</th>\n",
       "      <td>0.0</td>\n",
       "      <td>0.00</td>\n",
       "      <td>42.0</td>\n",
       "      <td>13280.45</td>\n",
       "    </tr>\n",
       "    <tr>\n",
       "      <th>195</th>\n",
       "      <td>125.0</td>\n",
       "      <td>874.85</td>\n",
       "      <td>22.0</td>\n",
       "      <td>20647.82</td>\n",
       "    </tr>\n",
       "    <tr>\n",
       "      <th>260</th>\n",
       "      <td>117.0</td>\n",
       "      <td>832.78</td>\n",
       "      <td>52.0</td>\n",
       "      <td>2949.68</td>\n",
       "    </tr>\n",
       "  </tbody>\n",
       "</table>\n",
       "<p>1928 rows × 4 columns</p>\n",
       "</div>"
      ],
      "text/plain": [
       "      calls  minutes  messages   mb_used\n",
       "2140   74.0   546.21      35.0  20134.43\n",
       "364    45.0   358.33      36.0  15723.08\n",
       "237    56.0   469.49     145.0  15877.65\n",
       "3057   59.0   381.49      47.0  17272.81\n",
       "651    18.0   147.93      18.0   1904.01\n",
       "...     ...      ...       ...       ...\n",
       "709    77.0   571.62       7.0  17096.14\n",
       "655    99.0   688.70      16.0  18758.43\n",
       "2256    0.0     0.00      42.0  13280.45\n",
       "195   125.0   874.85      22.0  20647.82\n",
       "260   117.0   832.78      52.0   2949.68\n",
       "\n",
       "[1928 rows x 4 columns]"
      ]
     },
     "metadata": {},
     "output_type": "display_data"
    },
    {
     "data": {
      "text/plain": [
       "2140    0\n",
       "364     1\n",
       "237     1\n",
       "3057    0\n",
       "651     1\n",
       "Name: is_ultra, dtype: int64"
      ]
     },
     "execution_count": 3,
     "metadata": {},
     "output_type": "execute_result"
    }
   ],
   "source": [
    "# Разделим датасет на выборки и выведем некоторые из них на экран для наглядности\n",
    "# Сначала разделим на обучающию и тестовую выборки\n",
    "df_train, df_test = train_test_split(df, test_size=0.2, random_state=987654321)\n",
    "\n",
    "# Теперь из обучающей выборки выделим валидационную выборку\n",
    "# Размер валидационной выборки указан как 0.25, потому что 0.25 * 0.8 = 0.2 (0.8 - размер обучающей выборки)\n",
    "df_train, df_valid = train_test_split(df_train, test_size=0.25, random_state=987654321)\n",
    "\n",
    "features_train = df_train.drop('is_ultra', axis=1)\n",
    "target_train = df_train['is_ultra']\n",
    "\n",
    "features_valid = df_valid.drop('is_ultra', axis=1)\n",
    "target_valid = df_valid['is_ultra']\n",
    "\n",
    "features_test = df_test.drop('is_ultra', axis=1)\n",
    "target_test = df_test['is_ultra']\n",
    "\n",
    "display(features_train)\n",
    "target_train.head(5)"
   ]
  },
  {
   "cell_type": "markdown",
   "metadata": {},
   "source": [
    "## Исследуем модели"
   ]
  },
  {
   "cell_type": "markdown",
   "metadata": {},
   "source": [
    "### Дерево решений "
   ]
  },
  {
   "cell_type": "markdown",
   "metadata": {},
   "source": [
    "Найдём наилучшую модель дерева решений. В цикле будем проверять глубину дерева от 1 до 10. Сохраним модель с наибольшей долей правильных ответов (`accuracy_score`)."
   ]
  },
  {
   "cell_type": "code",
   "execution_count": 4,
   "metadata": {},
   "outputs": [
    {
     "data": {
      "text/plain": [
       "'Accuracy лучшей модели на валидационной выборке: 0.7947122861586314 c глубиной 3'"
      ]
     },
     "execution_count": 4,
     "metadata": {},
     "output_type": "execute_result"
    }
   ],
   "source": [
    "# Найдём наиболее точную модель на основе дерева решений\n",
    "best_model_dt = None\n",
    "best_result_dt = 0\n",
    "best_result_dt_depth = 0\n",
    "for depth in range(1, 11):\n",
    "    model = DecisionTreeClassifier(random_state=987654321, max_depth=depth)\n",
    "    model.fit(features_train, target_train)\n",
    "    result = model.score(features_valid, target_valid)\n",
    "    if result > best_result_dt:\n",
    "        best_model_dt = model\n",
    "        best_result_dt = result\n",
    "        best_result_dt_depth = depth\n",
    "        \n",
    "f'Accuracy лучшей модели на валидационной выборке: {best_result_dt} c глубиной {best_result_dt_depth}'"
   ]
  },
  {
   "cell_type": "code",
   "execution_count": 5,
   "metadata": {},
   "outputs": [
    {
     "data": {
      "image/png": "[encoded data removed]",
      "text/plain": [
       "<Figure size 1500x1000 with 1 Axes>"
      ]
     },
     "metadata": {
      "needs_background": "light"
     },
     "output_type": "display_data"
    }
   ],
   "source": [
    "# Для наглядности посмотрим на наилучшее дерево решений\n",
    "plt.figure(dpi=250)\n",
    "tree.plot_tree(\n",
    "    best_model_dt,\n",
    "    feature_names=['calls', 'minutes', 'messages', 'mb_used'], \n",
    "    filled=True, \n",
    "    proportion=True, \n",
    "    rounded=True\n",
    ");"
   ]
  },
  {
   "cell_type": "markdown",
   "metadata": {},
   "source": [
    "Теперь попробуем перебрать гиперпараметры `min_samples_split` и `min_samples_leaf` и посмотреть на результат."
   ]
  },
  {
   "cell_type": "code",
   "execution_count": 6,
   "metadata": {},
   "outputs": [
    {
     "data": {
      "text/plain": [
       "'Accuracy лучшей модели на валидационной выборке: 0.7947122861586314 c min_samples_split=2'"
      ]
     },
     "execution_count": 6,
     "metadata": {},
     "output_type": "execute_result"
    }
   ],
   "source": [
    "best_model_dt = None\n",
    "best_result_dt = 0\n",
    "best_result_dt_depth = 0\n",
    "for i in range(2, 20):\n",
    "    model = DecisionTreeClassifier(random_state=987654321, max_depth=3, min_samples_split=i)\n",
    "    model.fit(features_train, target_train)\n",
    "    result = model.score(features_valid, target_valid)\n",
    "    if result > best_result_dt:\n",
    "        best_model_dt = model\n",
    "        best_result_dt = result\n",
    "        best_result_dt_i = i\n",
    "        \n",
    "f'Accuracy лучшей модели на валидационной выборке: {best_result_dt} c min_samples_split={best_result_dt_i}'"
   ]
  },
  {
   "cell_type": "markdown",
   "metadata": {},
   "source": [
    "В диапазоне 2-20 изменения гиперпараметра min_samples_split не принесло результатов. Наилучшее значение метрики accuracy была получено со значением по умолчанию, равным 2. Данная модель по accuracy равна модели без указания гиперпараметра min_samples_split.\n",
    "\n",
    "Теперь попробуем изменить гиперпараметр min_samples_leaf. По умолчанию он принимает значение 1."
   ]
  },
  {
   "cell_type": "code",
   "execution_count": 7,
   "metadata": {},
   "outputs": [
    {
     "data": {
      "text/plain": [
       "'Accuracy лучшей модели на валидационной выборке: 0.7962674961119751 c min_samples_leaf=2'"
      ]
     },
     "execution_count": 7,
     "metadata": {},
     "output_type": "execute_result"
    }
   ],
   "source": [
    "best_model_dt = None\n",
    "best_result_dt = 0\n",
    "best_result_dt_depth = 0\n",
    "for i in range(1, 20):\n",
    "    model = DecisionTreeClassifier(random_state=987654321, max_depth=3, min_samples_leaf=i)\n",
    "    model.fit(features_train, target_train)\n",
    "    result = model.score(features_valid, target_valid)\n",
    "    if result > best_result_dt:\n",
    "        best_model_dt = model\n",
    "        best_result_dt = result\n",
    "        best_result_dt_i = i\n",
    "        \n",
    "f'Accuracy лучшей модели на валидационной выборке: {best_result_dt} c min_samples_leaf={best_result_dt_i}'"
   ]
  },
  {
   "cell_type": "markdown",
   "metadata": {},
   "source": [
    "Удалось немного улучшить модель. Accuracy повысилась на 0,15% со значением min_samples_leaf=2."
   ]
  },
  {
   "cell_type": "markdown",
   "metadata": {},
   "source": [
    "### Случайный лес"
   ]
  },
  {
   "cell_type": "code",
   "execution_count": 8,
   "metadata": {},
   "outputs": [
    {
     "data": {
      "text/plain": [
       "'Accuracy лучшей модели на валидационной выборке: 0.7744945567651633 c количеством деревьев 2'"
      ]
     },
     "execution_count": 8,
     "metadata": {},
     "output_type": "execute_result"
    }
   ],
   "source": [
    "# Найдём наиболее точную модель на основе случайного леса\n",
    "best_model_rf = None\n",
    "best_result_rf = 0\n",
    "best_result_rf_est = 0\n",
    "for est in range(1, 11):\n",
    "    model = RandomForestClassifier(random_state=987654321, n_estimators=est)\n",
    "    model.fit(features_train, target_train)\n",
    "    result = model.score(features_valid, target_valid)\n",
    "    if result > best_result_rf:\n",
    "        best_model_rf = model\n",
    "        best_result_rf = result\n",
    "        best_result_rf_est = est\n",
    "\n",
    "f'Accuracy лучшей модели на валидационной выборке: {best_result_rf} c количеством деревьев {best_result_rf_est}'"
   ]
  },
  {
   "cell_type": "markdown",
   "metadata": {},
   "source": [
    "Accuracy модели на основе случайного леса равна 77,45%. Количество деревьев - 2.\n",
    "\n",
    "Попробуем теперь найти наилучшую модель на основе случайного леса с использованием значений гиперпараметров, которые мы нашли для единичного дерева решений."
   ]
  },
  {
   "cell_type": "code",
   "execution_count": 9,
   "metadata": {},
   "outputs": [
    {
     "data": {
      "text/plain": [
       "'Accuracy лучшей модели на валидационной выборке: 0.8009331259720062 c количеством деревьев 10'"
      ]
     },
     "execution_count": 9,
     "metadata": {},
     "output_type": "execute_result"
    }
   ],
   "source": [
    "# Найдём наиболее точную модель на основе случайного леса с гиперпараметрами от единичного дерева решений\n",
    "best_model_rf = None\n",
    "best_result_rf = 0\n",
    "best_result_rf_est = 0\n",
    "for est in range(1, 11):\n",
    "    model = RandomForestClassifier(random_state=987654321, n_estimators=est, max_depth=3, min_samples_leaf=2)\n",
    "    model.fit(features_train, target_train)\n",
    "    result = model.score(features_valid, target_valid)\n",
    "    if result > best_result_rf:\n",
    "        best_model_rf = model\n",
    "        best_result_rf = result\n",
    "        best_result_rf_est = est\n",
    "\n",
    "f'Accuracy лучшей модели на валидационной выборке: {best_result_rf} c количеством деревьев {best_result_rf_est}'"
   ]
  },
  {
   "cell_type": "markdown",
   "metadata": {},
   "source": [
    "Accuracy модели повысилась до 80,09%! Увеличим количество деревьев в цикле."
   ]
  },
  {
   "cell_type": "code",
   "execution_count": 10,
   "metadata": {},
   "outputs": [
    {
     "data": {
      "text/plain": [
       "'Accuracy лучшей модели на валидационной выборке: 0.8009331259720062 c количеством деревьев 10'"
      ]
     },
     "execution_count": 10,
     "metadata": {},
     "output_type": "execute_result"
    }
   ],
   "source": [
    "# Найдём наиболее точную модель на основе случайного леса с гиперпараметрами от единичного дерева решений\n",
    "# Укажем максимальное количество деревьев, равное 50\n",
    "best_model_rf = None\n",
    "best_result_rf = 0\n",
    "best_result_rf_est = 0\n",
    "for est in range(1, 51):\n",
    "    model = RandomForestClassifier(random_state=987654321, n_estimators=est, max_depth=3, min_samples_leaf=2)\n",
    "    model.fit(features_train, target_train)\n",
    "    result = model.score(features_valid, target_valid)\n",
    "    if result > best_result_rf:\n",
    "        best_model_rf = model\n",
    "        best_result_rf = result\n",
    "        best_result_rf_est = est\n",
    "\n",
    "f'Accuracy лучшей модели на валидационной выборке: {best_result_rf} c количеством деревьев {best_result_rf_est}'"
   ]
  },
  {
   "cell_type": "markdown",
   "metadata": {},
   "source": [
    "Результат остался прежним - 80% при 10 деревьях. Уже ощущается увеличение времени расчёта при таком количестве деревьев в цикле поиска."
   ]
  },
  {
   "cell_type": "markdown",
   "metadata": {},
   "source": [
    "###  Логистическая регрессия"
   ]
  },
  {
   "cell_type": "code",
   "execution_count": 11,
   "metadata": {},
   "outputs": [
    {
     "data": {
      "text/plain": [
       "'Accuracy модели на валидационной выборке: 0.7418351477449455'"
      ]
     },
     "execution_count": 11,
     "metadata": {},
     "output_type": "execute_result"
    }
   ],
   "source": [
    "# Обучим модель на основе логистической регрессии\n",
    "# По умолчанию используется алгоритм ‘lbfgs’ и максимальное количество итераций, равное 100 (по умолчанию)\n",
    "model_lr = LogisticRegression(random_state=987654321)\n",
    "model_lr.fit(features_train, target_train)\n",
    "score_lr = model_lr.score(features_valid, target_valid)\n",
    "\n",
    "f'Accuracy модели на валидационной выборке: {score_lr}'"
   ]
  },
  {
   "cell_type": "markdown",
   "metadata": {},
   "source": [
    "Accuracy модели равна 74,18%. Попробуем несколько других алгоритмов с тем же количеством итераций."
   ]
  },
  {
   "cell_type": "code",
   "execution_count": 12,
   "metadata": {},
   "outputs": [
    {
     "data": {
      "text/plain": [
       "'Accuracy модели на валидационной выборке: 0.7418351477449455'"
      ]
     },
     "execution_count": 12,
     "metadata": {},
     "output_type": "execute_result"
    }
   ],
   "source": [
    "# Обучим модель на основе логистической регрессии\n",
    "# Используем алгоритм ‘liblinear’\n",
    "model_lr = LogisticRegression(random_state=987654321, solver='liblinear')\n",
    "model_lr.fit(features_train, target_train)\n",
    "score_lr = model_lr.score(features_valid, target_valid)\n",
    "\n",
    "f'Accuracy модели на валидационной выборке: {score_lr}'"
   ]
  },
  {
   "cell_type": "markdown",
   "metadata": {},
   "source": [
    "Accuracy модели на алгоритме 'liblinear' равна точности модели на алгоритме 'lbfgs'."
   ]
  },
  {
   "cell_type": "code",
   "execution_count": 13,
   "metadata": {},
   "outputs": [
    {
     "data": {
      "text/plain": [
       "'Accuracy модели на валидационной выборке: 0.7636080870917574'"
      ]
     },
     "execution_count": 13,
     "metadata": {},
     "output_type": "execute_result"
    }
   ],
   "source": [
    "# Обучим модель на основе логистической регрессии\n",
    "# Используем алгоритм ‘newton-cg’\n",
    "model_lr = LogisticRegression(random_state=987654321, solver='newton-cg')\n",
    "model_lr.fit(features_train, target_train)\n",
    "score_lr = model_lr.score(features_valid, target_valid)\n",
    "\n",
    "f'Accuracy модели на валидационной выборке: {score_lr}'"
   ]
  },
  {
   "cell_type": "markdown",
   "metadata": {},
   "source": [
    "В случае алгоритма 'newton-cg' accuracy модели немного улучшилась - до 76,36%. Но это всё равно меньше, чем accuracy модели на основе случайного леса."
   ]
  },
  {
   "cell_type": "markdown",
   "metadata": {},
   "source": [
    "### Выводы по исследованиям моделей "
   ]
  },
  {
   "cell_type": "markdown",
   "metadata": {},
   "source": [
    "В результате исследования моделей были получены следующие результаты:\n",
    "1. Дерево решений, accuracy - 79,47%.\n",
    "2. Случайный лес, accuracy - 80,09%.\n",
    "3. Логистическая регрессия, accuracy - 76,36%.\n",
    "\n",
    "Лучший результат у модели на основе случайного леса с accuracy 80,09%.  \n",
    "Для случайного леса использовались наилучшие гиперпараметры, которые были подобраны для единичного дерева решений. Итоговые параметры модели случайного леса: \n",
    "1. Количество деревьев - 10\n",
    "2. Максимальная глубина дерева - 3\n",
    "3. Минимальное количество объектов в листе - 2"
   ]
  },
  {
   "cell_type": "markdown",
   "metadata": {},
   "source": [
    "## Проверка модели на тестовой выборке"
   ]
  },
  {
   "cell_type": "code",
   "execution_count": 14,
   "metadata": {},
   "outputs": [
    {
     "data": {
      "text/plain": [
       "'Accuracy модели на тестовой выборке: 0.8118195956454122'"
      ]
     },
     "execution_count": 14,
     "metadata": {},
     "output_type": "execute_result"
    }
   ],
   "source": [
    "# Проверим точность нашей наилучшей модели на тестовой выборке\n",
    "score = best_model_rf.score(features_test, target_test)\n",
    "f'Accuracy модели на тестовой выборке: {score}'"
   ]
  },
  {
   "cell_type": "markdown",
   "metadata": {},
   "source": [
    "Accuracy модели на тестовой выборке оказалась чуть выше, чем на валидационной - 81,18%."
   ]
  },
  {
   "cell_type": "markdown",
   "metadata": {},
   "source": [
    "## Проверка модели на адекватность"
   ]
  },
  {
   "cell_type": "markdown",
   "metadata": {},
   "source": [
    "Для проверки модели на адекватность сравним полученное значение метрики accuracy со случайной выборкой. В нашем случае мы имеем биномиальное распределение, т.к. результат у нас может быть равен либо 0 (пользователю рекомендован тариф \"Смарт\"), либо 1 (пользователю рекомендован тариф \"Ультра\"). Таким образом точность случайной выборки будет равна 50%.\n",
    "\n",
    "Аccuracy нашей модели равна 81,18%. 81,18% > 50%. Таким образом считаем нашу модель адекватной."
   ]
  }
 ],
 "metadata": {
  "ExecuteTimeLog": [
   {
    "duration": 522,
    "start_time": "2022-05-23T10:37:08.475Z"
   },
   {
    "duration": 146,
    "start_time": "2022-05-23T10:37:47.124Z"
   },
   {
    "duration": 771,
    "start_time": "2022-05-23T11:24:33.144Z"
   },
   {
    "duration": 17,
    "start_time": "2022-05-23T11:39:23.479Z"
   },
   {
    "duration": 16,
    "start_time": "2022-05-23T11:40:10.710Z"
   },
   {
    "duration": 15,
    "start_time": "2022-05-23T11:40:13.939Z"
   },
   {
    "duration": 16,
    "start_time": "2022-05-23T11:40:14.642Z"
   },
   {
    "duration": 16,
    "start_time": "2022-05-23T11:40:15.413Z"
   },
   {
    "duration": 14,
    "start_time": "2022-05-23T11:40:17.836Z"
   },
   {
    "duration": 22,
    "start_time": "2022-05-23T11:40:45.095Z"
   },
   {
    "duration": 24,
    "start_time": "2022-05-23T11:40:58.223Z"
   },
   {
    "duration": 26,
    "start_time": "2022-05-23T11:41:03.323Z"
   },
   {
    "duration": 29,
    "start_time": "2022-05-23T11:41:44.302Z"
   },
   {
    "duration": 22,
    "start_time": "2022-05-23T11:52:31.527Z"
   },
   {
    "duration": 19,
    "start_time": "2022-05-23T12:05:51.535Z"
   },
   {
    "duration": 65,
    "start_time": "2022-05-23T12:10:01.678Z"
   },
   {
    "duration": 79,
    "start_time": "2022-05-23T12:11:47.144Z"
   },
   {
    "duration": 55,
    "start_time": "2022-05-23T12:11:51.683Z"
   },
   {
    "duration": 56,
    "start_time": "2022-05-23T12:12:55.724Z"
   },
   {
    "duration": 56,
    "start_time": "2022-05-23T12:13:02.601Z"
   },
   {
    "duration": 55,
    "start_time": "2022-05-23T12:13:05.163Z"
   },
   {
    "duration": 53,
    "start_time": "2022-05-23T12:13:12.468Z"
   },
   {
    "duration": 989,
    "start_time": "2022-05-23T12:13:22.467Z"
   },
   {
    "duration": 45,
    "start_time": "2022-05-23T12:13:23.457Z"
   },
   {
    "duration": 17,
    "start_time": "2022-05-23T12:13:23.504Z"
   },
   {
    "duration": 56,
    "start_time": "2022-05-23T12:13:23.522Z"
   },
   {
    "duration": 57,
    "start_time": "2022-05-23T12:13:39.650Z"
   },
   {
    "duration": 109,
    "start_time": "2022-05-23T12:15:34.419Z"
   },
   {
    "duration": 7,
    "start_time": "2022-05-23T12:15:38.476Z"
   },
   {
    "duration": 8,
    "start_time": "2022-05-23T12:15:41.859Z"
   },
   {
    "duration": 63,
    "start_time": "2022-05-23T12:15:44.114Z"
   },
   {
    "duration": 53,
    "start_time": "2022-05-23T12:15:56.553Z"
   },
   {
    "duration": 986,
    "start_time": "2022-05-23T12:15:59.961Z"
   },
   {
    "duration": 427,
    "start_time": "2022-05-23T12:16:06.605Z"
   },
   {
    "duration": 441,
    "start_time": "2022-05-23T12:17:31.593Z"
   },
   {
    "duration": 4,
    "start_time": "2022-05-23T12:18:22.192Z"
   },
   {
    "duration": 437,
    "start_time": "2022-05-23T12:18:24.339Z"
   },
   {
    "duration": 497,
    "start_time": "2022-05-23T12:18:35.071Z"
   },
   {
    "duration": 470,
    "start_time": "2022-05-23T12:19:03.697Z"
   },
   {
    "duration": 742,
    "start_time": "2022-05-23T12:19:16.651Z"
   },
   {
    "duration": 485,
    "start_time": "2022-05-23T12:19:41.267Z"
   },
   {
    "duration": 474,
    "start_time": "2022-05-23T12:20:33.643Z"
   },
   {
    "duration": 507,
    "start_time": "2022-05-23T12:21:14.680Z"
   },
   {
    "duration": 540,
    "start_time": "2022-05-23T12:21:46.996Z"
   },
   {
    "duration": 540,
    "start_time": "2022-05-23T12:23:24.875Z"
   },
   {
    "duration": 523,
    "start_time": "2022-05-23T12:23:40.234Z"
   },
   {
    "duration": 519,
    "start_time": "2022-05-23T12:23:58.411Z"
   },
   {
    "duration": 549,
    "start_time": "2022-05-23T12:24:08.236Z"
   },
   {
    "duration": 727,
    "start_time": "2022-05-23T12:24:14.058Z"
   },
   {
    "duration": 595,
    "start_time": "2022-05-23T12:26:14.270Z"
   },
   {
    "duration": 584,
    "start_time": "2022-05-23T12:27:26.726Z"
   },
   {
    "duration": 71,
    "start_time": "2022-05-23T12:36:28.591Z"
   },
   {
    "duration": 664,
    "start_time": "2022-05-23T12:36:32.150Z"
   },
   {
    "duration": 249,
    "start_time": "2022-05-23T12:39:10.442Z"
   },
   {
    "duration": 38,
    "start_time": "2022-05-23T12:43:22.657Z"
   },
   {
    "duration": 142,
    "start_time": "2022-05-23T12:45:25.665Z"
   },
   {
    "duration": 9593,
    "start_time": "2022-05-23T12:45:47.865Z"
   },
   {
    "duration": 215,
    "start_time": "2022-05-23T12:46:53.136Z"
   },
   {
    "duration": 23,
    "start_time": "2022-05-23T12:46:53.352Z"
   },
   {
    "duration": 22,
    "start_time": "2022-05-23T12:46:59.665Z"
   },
   {
    "duration": 21,
    "start_time": "2022-05-23T12:47:03.985Z"
   },
   {
    "duration": 20,
    "start_time": "2022-05-23T12:47:33.900Z"
   },
   {
    "duration": 16,
    "start_time": "2022-05-23T12:47:35.578Z"
   },
   {
    "duration": 33,
    "start_time": "2022-05-23T12:47:42.622Z"
   },
   {
    "duration": 21,
    "start_time": "2022-05-23T12:47:49.412Z"
   },
   {
    "duration": 20,
    "start_time": "2022-05-23T12:47:53.913Z"
   },
   {
    "duration": 10,
    "start_time": "2022-05-23T13:33:25.770Z"
   },
   {
    "duration": 65,
    "start_time": "2022-05-23T13:33:45.932Z"
   },
   {
    "duration": 10,
    "start_time": "2022-05-23T13:35:07.481Z"
   },
   {
    "duration": 14,
    "start_time": "2022-05-23T13:35:13.451Z"
   },
   {
    "duration": 11,
    "start_time": "2022-05-23T13:35:16.005Z"
   },
   {
    "duration": 10,
    "start_time": "2022-05-23T13:35:24.837Z"
   },
   {
    "duration": 9,
    "start_time": "2022-05-23T13:35:28.130Z"
   },
   {
    "duration": 11,
    "start_time": "2022-05-23T13:35:31.004Z"
   },
   {
    "duration": 10,
    "start_time": "2022-05-23T13:39:17.998Z"
   },
   {
    "duration": 12,
    "start_time": "2022-05-23T13:39:23.647Z"
   },
   {
    "duration": 11,
    "start_time": "2022-05-23T13:39:31.350Z"
   },
   {
    "duration": 12,
    "start_time": "2022-05-23T13:39:35.279Z"
   },
   {
    "duration": 12,
    "start_time": "2022-05-23T13:39:38.072Z"
   },
   {
    "duration": 13,
    "start_time": "2022-05-23T13:39:41.737Z"
   },
   {
    "duration": 10,
    "start_time": "2022-05-23T13:39:55.041Z"
   },
   {
    "duration": 8,
    "start_time": "2022-05-23T13:39:58.837Z"
   },
   {
    "duration": 11,
    "start_time": "2022-05-23T13:40:07.869Z"
   },
   {
    "duration": 13,
    "start_time": "2022-05-23T13:40:15.226Z"
   },
   {
    "duration": 9,
    "start_time": "2022-05-23T13:40:19.285Z"
   },
   {
    "duration": 12,
    "start_time": "2022-05-23T13:40:23.608Z"
   },
   {
    "duration": 15,
    "start_time": "2022-05-23T13:40:30.735Z"
   },
   {
    "duration": 9,
    "start_time": "2022-05-23T13:41:04.131Z"
   },
   {
    "duration": 9,
    "start_time": "2022-05-23T13:41:08.425Z"
   },
   {
    "duration": 13,
    "start_time": "2022-05-23T13:41:17.209Z"
   },
   {
    "duration": 11,
    "start_time": "2022-05-23T13:41:25.049Z"
   },
   {
    "duration": 10,
    "start_time": "2022-05-23T13:41:31.487Z"
   },
   {
    "duration": 9,
    "start_time": "2022-05-23T13:41:40.821Z"
   },
   {
    "duration": 13,
    "start_time": "2022-05-23T14:29:22.920Z"
   },
   {
    "duration": 18,
    "start_time": "2022-05-23T14:29:34.042Z"
   },
   {
    "duration": 17,
    "start_time": "2022-05-23T14:29:46.578Z"
   },
   {
    "duration": 263,
    "start_time": "2022-05-23T14:29:48.620Z"
   },
   {
    "duration": 11,
    "start_time": "2022-05-23T14:29:50.576Z"
   },
   {
    "duration": 18,
    "start_time": "2022-05-23T14:30:04.672Z"
   },
   {
    "duration": 11,
    "start_time": "2022-05-23T14:31:07.708Z"
   },
   {
    "duration": 10,
    "start_time": "2022-05-23T14:33:22.258Z"
   },
   {
    "duration": 12,
    "start_time": "2022-05-23T14:33:31.795Z"
   },
   {
    "duration": 11,
    "start_time": "2022-05-23T14:33:34.066Z"
   },
   {
    "duration": 11,
    "start_time": "2022-05-23T14:33:43.778Z"
   },
   {
    "duration": 11,
    "start_time": "2022-05-23T14:33:49.877Z"
   },
   {
    "duration": 9,
    "start_time": "2022-05-23T14:33:50.950Z"
   },
   {
    "duration": 11,
    "start_time": "2022-05-23T14:33:56.669Z"
   },
   {
    "duration": 11,
    "start_time": "2022-05-23T14:33:58.112Z"
   },
   {
    "duration": 1121,
    "start_time": "2022-05-23T14:34:04.985Z"
   },
   {
    "duration": 110,
    "start_time": "2022-05-23T14:34:06.108Z"
   },
   {
    "duration": 21,
    "start_time": "2022-05-23T14:34:06.219Z"
   },
   {
    "duration": 77,
    "start_time": "2022-05-23T14:34:06.242Z"
   },
   {
    "duration": 4,
    "start_time": "2022-05-23T14:34:06.321Z"
   },
   {
    "duration": 0,
    "start_time": "2022-05-23T14:34:06.326Z"
   },
   {
    "duration": 0,
    "start_time": "2022-05-23T14:34:06.328Z"
   },
   {
    "duration": 0,
    "start_time": "2022-05-23T14:34:06.329Z"
   },
   {
    "duration": 0,
    "start_time": "2022-05-23T14:34:06.329Z"
   },
   {
    "duration": 684,
    "start_time": "2022-05-23T14:35:02.533Z"
   },
   {
    "duration": 10,
    "start_time": "2022-05-23T14:35:07.121Z"
   },
   {
    "duration": 10,
    "start_time": "2022-05-23T14:35:09.128Z"
   },
   {
    "duration": 129,
    "start_time": "2022-05-23T14:36:18.346Z"
   },
   {
    "duration": 84,
    "start_time": "2022-05-23T14:36:25.120Z"
   },
   {
    "duration": 96,
    "start_time": "2022-05-23T14:36:54.230Z"
   },
   {
    "duration": 84,
    "start_time": "2022-05-23T14:37:04.590Z"
   },
   {
    "duration": 91,
    "start_time": "2022-05-23T14:38:47.896Z"
   },
   {
    "duration": 89,
    "start_time": "2022-05-23T14:41:53.649Z"
   },
   {
    "duration": 254,
    "start_time": "2022-05-23T14:44:21.679Z"
   },
   {
    "duration": 146,
    "start_time": "2022-05-23T14:55:14.139Z"
   },
   {
    "duration": 455,
    "start_time": "2022-05-23T14:56:12.775Z"
   },
   {
    "duration": 2418,
    "start_time": "2022-05-23T14:56:34.869Z"
   },
   {
    "duration": 2535,
    "start_time": "2022-05-23T14:57:16.937Z"
   },
   {
    "duration": 24,
    "start_time": "2022-05-23T14:59:31.244Z"
   },
   {
    "duration": 25,
    "start_time": "2022-05-23T15:02:17.738Z"
   },
   {
    "duration": 19,
    "start_time": "2022-05-23T15:04:19.744Z"
   },
   {
    "duration": 120,
    "start_time": "2022-05-23T15:04:59.660Z"
   },
   {
    "duration": 111,
    "start_time": "2022-05-23T15:05:13.087Z"
   },
   {
    "duration": 103,
    "start_time": "2022-05-23T15:05:28.506Z"
   },
   {
    "duration": 18,
    "start_time": "2022-05-23T15:06:14.601Z"
   },
   {
    "duration": 11,
    "start_time": "2022-05-23T15:06:27.265Z"
   },
   {
    "duration": 97,
    "start_time": "2022-05-23T15:06:30.866Z"
   },
   {
    "duration": 99,
    "start_time": "2022-05-23T15:06:48.254Z"
   },
   {
    "duration": 99,
    "start_time": "2022-05-23T15:06:54.806Z"
   },
   {
    "duration": 8,
    "start_time": "2022-05-23T15:24:59.550Z"
   },
   {
    "duration": 9,
    "start_time": "2022-05-23T15:26:02.073Z"
   },
   {
    "duration": 1121,
    "start_time": "2022-05-23T15:42:27.404Z"
   },
   {
    "duration": 134,
    "start_time": "2022-05-23T15:42:28.528Z"
   },
   {
    "duration": 0,
    "start_time": "2022-05-23T15:42:28.664Z"
   },
   {
    "duration": 0,
    "start_time": "2022-05-23T15:42:28.665Z"
   },
   {
    "duration": 0,
    "start_time": "2022-05-23T15:42:28.733Z"
   },
   {
    "duration": 0,
    "start_time": "2022-05-23T15:42:28.735Z"
   },
   {
    "duration": 0,
    "start_time": "2022-05-23T15:42:28.736Z"
   },
   {
    "duration": 0,
    "start_time": "2022-05-23T15:42:28.737Z"
   },
   {
    "duration": 0,
    "start_time": "2022-05-23T15:42:28.738Z"
   },
   {
    "duration": 0,
    "start_time": "2022-05-23T15:42:28.739Z"
   },
   {
    "duration": 0,
    "start_time": "2022-05-23T15:42:28.740Z"
   },
   {
    "duration": 0,
    "start_time": "2022-05-23T15:42:28.741Z"
   },
   {
    "duration": 0,
    "start_time": "2022-05-23T15:42:28.742Z"
   },
   {
    "duration": 0,
    "start_time": "2022-05-23T15:42:28.743Z"
   },
   {
    "duration": 1158,
    "start_time": "2022-05-23T15:42:59.636Z"
   },
   {
    "duration": 123,
    "start_time": "2022-05-23T15:43:00.797Z"
   },
   {
    "duration": 0,
    "start_time": "2022-05-23T15:43:00.923Z"
   },
   {
    "duration": 0,
    "start_time": "2022-05-23T15:43:00.924Z"
   },
   {
    "duration": 0,
    "start_time": "2022-05-23T15:43:01.000Z"
   },
   {
    "duration": 0,
    "start_time": "2022-05-23T15:43:01.001Z"
   },
   {
    "duration": 0,
    "start_time": "2022-05-23T15:43:01.002Z"
   },
   {
    "duration": 0,
    "start_time": "2022-05-23T15:43:01.003Z"
   },
   {
    "duration": 0,
    "start_time": "2022-05-23T15:43:01.004Z"
   },
   {
    "duration": 0,
    "start_time": "2022-05-23T15:43:01.005Z"
   },
   {
    "duration": 0,
    "start_time": "2022-05-23T15:43:01.006Z"
   },
   {
    "duration": 0,
    "start_time": "2022-05-23T15:43:01.007Z"
   },
   {
    "duration": 0,
    "start_time": "2022-05-23T15:43:01.008Z"
   },
   {
    "duration": 0,
    "start_time": "2022-05-23T15:43:01.009Z"
   },
   {
    "duration": 1164,
    "start_time": "2022-05-23T15:47:46.579Z"
   },
   {
    "duration": 148,
    "start_time": "2022-05-23T15:47:47.747Z"
   },
   {
    "duration": 21,
    "start_time": "2022-05-23T15:47:47.897Z"
   },
   {
    "duration": 136,
    "start_time": "2022-05-23T15:47:47.920Z"
   },
   {
    "duration": 0,
    "start_time": "2022-05-23T15:47:48.057Z"
   },
   {
    "duration": 0,
    "start_time": "2022-05-23T15:47:48.059Z"
   },
   {
    "duration": 0,
    "start_time": "2022-05-23T15:47:48.061Z"
   },
   {
    "duration": 0,
    "start_time": "2022-05-23T15:47:48.062Z"
   },
   {
    "duration": 0,
    "start_time": "2022-05-23T15:47:48.075Z"
   },
   {
    "duration": 0,
    "start_time": "2022-05-23T15:47:48.076Z"
   },
   {
    "duration": 0,
    "start_time": "2022-05-23T15:47:48.078Z"
   },
   {
    "duration": 0,
    "start_time": "2022-05-23T15:47:48.079Z"
   },
   {
    "duration": 0,
    "start_time": "2022-05-23T15:47:48.081Z"
   },
   {
    "duration": 0,
    "start_time": "2022-05-23T15:47:48.082Z"
   },
   {
    "duration": 33,
    "start_time": "2022-05-23T15:48:20.921Z"
   },
   {
    "duration": 78,
    "start_time": "2022-05-23T15:48:49.545Z"
   },
   {
    "duration": 1103,
    "start_time": "2022-05-23T15:49:22.083Z"
   },
   {
    "duration": 103,
    "start_time": "2022-05-23T15:49:23.189Z"
   },
   {
    "duration": 19,
    "start_time": "2022-05-23T15:49:23.296Z"
   },
   {
    "duration": 86,
    "start_time": "2022-05-23T15:49:23.317Z"
   },
   {
    "duration": 617,
    "start_time": "2022-05-23T15:49:23.404Z"
   },
   {
    "duration": 84,
    "start_time": "2022-05-23T15:49:24.023Z"
   },
   {
    "duration": 105,
    "start_time": "2022-05-23T15:49:24.109Z"
   },
   {
    "duration": 261,
    "start_time": "2022-05-23T15:49:24.216Z"
   },
   {
    "duration": 150,
    "start_time": "2022-05-23T15:49:24.480Z"
   },
   {
    "duration": 2461,
    "start_time": "2022-05-23T15:49:24.632Z"
   },
   {
    "duration": 17,
    "start_time": "2022-05-23T15:49:27.094Z"
   },
   {
    "duration": 10,
    "start_time": "2022-05-23T15:49:27.112Z"
   },
   {
    "duration": 127,
    "start_time": "2022-05-23T15:49:27.123Z"
   },
   {
    "duration": 24,
    "start_time": "2022-05-23T15:49:27.251Z"
   },
   {
    "duration": 1123,
    "start_time": "2022-05-23T15:54:17.776Z"
   },
   {
    "duration": 107,
    "start_time": "2022-05-23T15:54:18.902Z"
   },
   {
    "duration": 19,
    "start_time": "2022-05-23T15:54:19.010Z"
   },
   {
    "duration": 76,
    "start_time": "2022-05-23T15:54:19.031Z"
   },
   {
    "duration": 617,
    "start_time": "2022-05-23T15:54:19.108Z"
   },
   {
    "duration": 92,
    "start_time": "2022-05-23T15:54:19.727Z"
   },
   {
    "duration": 109,
    "start_time": "2022-05-23T15:54:19.820Z"
   },
   {
    "duration": 259,
    "start_time": "2022-05-23T15:54:19.930Z"
   },
   {
    "duration": 156,
    "start_time": "2022-05-23T15:54:20.190Z"
   },
   {
    "duration": 2485,
    "start_time": "2022-05-23T15:54:20.348Z"
   },
   {
    "duration": 22,
    "start_time": "2022-05-23T15:54:22.835Z"
   },
   {
    "duration": 25,
    "start_time": "2022-05-23T15:54:22.858Z"
   },
   {
    "duration": 140,
    "start_time": "2022-05-23T15:54:22.885Z"
   },
   {
    "duration": 8,
    "start_time": "2022-05-23T15:54:23.026Z"
   },
   {
    "duration": 1700,
    "start_time": "2022-05-23T17:32:19.284Z"
   },
   {
    "duration": 192,
    "start_time": "2022-05-23T17:32:20.986Z"
   },
   {
    "duration": 20,
    "start_time": "2022-05-23T17:32:21.180Z"
   },
   {
    "duration": 4,
    "start_time": "2022-05-23T17:32:21.201Z"
   },
   {
    "duration": 368,
    "start_time": "2022-05-23T17:40:47.909Z"
   }
  ],
  "kernelspec": {
   "display_name": "Python 3 (ipykernel)",
   "language": "python",
   "name": "python3"
  },
  "language_info": {
   "codemirror_mode": {
    "name": "ipython",
    "version": 3
   },
   "file_extension": ".py",
   "mimetype": "text/x-python",
   "name": "python",
   "nbconvert_exporter": "python",
   "pygments_lexer": "ipython3",
   "version": "3.11.5"
  },
  "toc": {
   "base_numbering": 1,
   "nav_menu": {},
   "number_sections": true,
   "sideBar": true,
   "skip_h1_title": true,
   "title_cell": "Table of Contents",
   "title_sidebar": "Contents",
   "toc_cell": true,
   "toc_position": {
    "height": "calc(100% - 180px)",
    "left": "10px",
    "top": "150px",
    "width": "283.333px"
   },
   "toc_section_display": true,
   "toc_window_display": true
  }
 },
 "nbformat": 4,
 "nbformat_minor": 4
}
