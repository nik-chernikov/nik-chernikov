{
 "cells": [
  {
   "cell_type": "markdown",
   "metadata": {
    "toc": true
   },
   "source": [
    "<h1>Содержание<span class=\"tocSkip\"></span></h1>\n",
    "<div class=\"toc\"><ul class=\"toc-item\"><li><span><a href=\"#Загрузка-данных\" data-toc-modified-id=\"Загрузка-данных-1\"><span class=\"toc-item-num\">1&nbsp;&nbsp;</span>Загрузка данных</a></span></li><li><span><a href=\"#Умножение-матриц\" data-toc-modified-id=\"Умножение-матриц-2\"><span class=\"toc-item-num\">2&nbsp;&nbsp;</span>Умножение матриц</a></span><ul class=\"toc-item\"><li><span><a href=\"#Постановка-задачи\" data-toc-modified-id=\"Постановка-задачи-2.1\"><span class=\"toc-item-num\">2.1&nbsp;&nbsp;</span>Постановка задачи</a></span></li><li><span><a href=\"#Описание-задачи\" data-toc-modified-id=\"Описание-задачи-2.2\"><span class=\"toc-item-num\">2.2&nbsp;&nbsp;</span>Описание задачи</a></span></li><li><span><a href=\"#Решение-задачи\" data-toc-modified-id=\"Решение-задачи-2.3\"><span class=\"toc-item-num\">2.3&nbsp;&nbsp;</span>Решение задачи</a></span></li></ul></li><li><span><a href=\"#Алгоритм-преобразования\" data-toc-modified-id=\"Алгоритм-преобразования-3\"><span class=\"toc-item-num\">3&nbsp;&nbsp;</span>Алгоритм преобразования</a></span></li><li><span><a href=\"#Проверка-алгоритма\" data-toc-modified-id=\"Проверка-алгоритма-4\"><span class=\"toc-item-num\">4&nbsp;&nbsp;</span>Проверка алгоритма</a></span><ul class=\"toc-item\"><li><span><a href=\"#Выделение-признаков\" data-toc-modified-id=\"Выделение-признаков-4.1\"><span class=\"toc-item-num\">4.1&nbsp;&nbsp;</span>Выделение признаков</a></span></li><li><span><a href=\"#Имплементация-алгоритма\" data-toc-modified-id=\"Имплементация-алгоритма-4.2\"><span class=\"toc-item-num\">4.2&nbsp;&nbsp;</span>Имплементация алгоритма</a></span></li><li><span><a href=\"#Проверка-работы-алгоритма\" data-toc-modified-id=\"Проверка-работы-алгоритма-4.3\"><span class=\"toc-item-num\">4.3&nbsp;&nbsp;</span>Проверка работы алгоритма</a></span></li></ul></li><li><span><a href=\"#Чек-лист-проверки\" data-toc-modified-id=\"Чек-лист-проверки-5\"><span class=\"toc-item-num\">5&nbsp;&nbsp;</span>Чек-лист проверки</a></span></li></ul></div>"
   ]
  },
  {
   "cell_type": "markdown",
   "metadata": {},
   "source": [
    "# Защита персональных данных клиентов"
   ]
  },
  {
   "cell_type": "markdown",
   "metadata": {},
   "source": [
    "Нам нужно защитить данные клиентов страховой компании «Хоть потоп». Необходимо разработать такой метод преобразования данных, чтобы по ним было сложно восстановить персональную информацию. Необходимо обосновать корректность его работы.\n",
    "\n",
    "Нужно защитить данные, чтобы при преобразовании качество моделей машинного обучения не ухудшилось. Подбирать наилучшую модель не требуется."
   ]
  },
  {
   "cell_type": "markdown",
   "metadata": {},
   "source": [
    "## Загрузка данных"
   ]
  },
  {
   "cell_type": "code",
   "execution_count": 1,
   "metadata": {},
   "outputs": [],
   "source": [
    "import pandas as pd \n",
    "import numpy as np\n",
    "\n",
    "from sklearn.model_selection import train_test_split\n",
    "from sklearn.metrics import r2_score\n",
    "from sklearn.linear_model import LinearRegression"
   ]
  },
  {
   "cell_type": "code",
   "execution_count": 2,
   "metadata": {},
   "outputs": [],
   "source": [
    "df = pd.read_csv('/datasets/insurance.csv')"
   ]
  },
  {
   "cell_type": "code",
   "execution_count": 3,
   "metadata": {},
   "outputs": [
    {
     "data": {
      "text/html": [
       "<div>\n",
       "<style scoped>\n",
       "    .dataframe tbody tr th:only-of-type {\n",
       "        vertical-align: middle;\n",
       "    }\n",
       "\n",
       "    .dataframe tbody tr th {\n",
       "        vertical-align: top;\n",
       "    }\n",
       "\n",
       "    .dataframe thead th {\n",
       "        text-align: right;\n",
       "    }\n",
       "</style>\n",
       "<table border=\"1\" class=\"dataframe\">\n",
       "  <thead>\n",
       "    <tr style=\"text-align: right;\">\n",
       "      <th></th>\n",
       "      <th>Пол</th>\n",
       "      <th>Возраст</th>\n",
       "      <th>Зарплата</th>\n",
       "      <th>Члены семьи</th>\n",
       "      <th>Страховые выплаты</th>\n",
       "    </tr>\n",
       "  </thead>\n",
       "  <tbody>\n",
       "    <tr>\n",
       "      <th>0</th>\n",
       "      <td>1</td>\n",
       "      <td>41.0</td>\n",
       "      <td>49600.0</td>\n",
       "      <td>1</td>\n",
       "      <td>0</td>\n",
       "    </tr>\n",
       "    <tr>\n",
       "      <th>1</th>\n",
       "      <td>0</td>\n",
       "      <td>46.0</td>\n",
       "      <td>38000.0</td>\n",
       "      <td>1</td>\n",
       "      <td>1</td>\n",
       "    </tr>\n",
       "    <tr>\n",
       "      <th>2</th>\n",
       "      <td>0</td>\n",
       "      <td>29.0</td>\n",
       "      <td>21000.0</td>\n",
       "      <td>0</td>\n",
       "      <td>0</td>\n",
       "    </tr>\n",
       "    <tr>\n",
       "      <th>3</th>\n",
       "      <td>0</td>\n",
       "      <td>21.0</td>\n",
       "      <td>41700.0</td>\n",
       "      <td>2</td>\n",
       "      <td>0</td>\n",
       "    </tr>\n",
       "    <tr>\n",
       "      <th>4</th>\n",
       "      <td>1</td>\n",
       "      <td>28.0</td>\n",
       "      <td>26100.0</td>\n",
       "      <td>0</td>\n",
       "      <td>0</td>\n",
       "    </tr>\n",
       "  </tbody>\n",
       "</table>\n",
       "</div>"
      ],
      "text/plain": [
       "   Пол  Возраст  Зарплата  Члены семьи  Страховые выплаты\n",
       "0    1     41.0   49600.0            1                  0\n",
       "1    0     46.0   38000.0            1                  1\n",
       "2    0     29.0   21000.0            0                  0\n",
       "3    0     21.0   41700.0            2                  0\n",
       "4    1     28.0   26100.0            0                  0"
      ]
     },
     "execution_count": 3,
     "metadata": {},
     "output_type": "execute_result"
    }
   ],
   "source": [
    "df.head()"
   ]
  },
  {
   "cell_type": "code",
   "execution_count": 4,
   "metadata": {},
   "outputs": [
    {
     "name": "stdout",
     "output_type": "stream",
     "text": [
      "<class 'pandas.core.frame.DataFrame'>\n",
      "RangeIndex: 5000 entries, 0 to 4999\n",
      "Data columns (total 5 columns):\n",
      " #   Column             Non-Null Count  Dtype  \n",
      "---  ------             --------------  -----  \n",
      " 0   Пол                5000 non-null   int64  \n",
      " 1   Возраст            5000 non-null   float64\n",
      " 2   Зарплата           5000 non-null   float64\n",
      " 3   Члены семьи        5000 non-null   int64  \n",
      " 4   Страховые выплаты  5000 non-null   int64  \n",
      "dtypes: float64(2), int64(3)\n",
      "memory usage: 195.4 KB\n"
     ]
    }
   ],
   "source": [
    "df.info()"
   ]
  },
  {
   "cell_type": "code",
   "execution_count": 5,
   "metadata": {},
   "outputs": [
    {
     "data": {
      "text/html": [
       "<div>\n",
       "<style scoped>\n",
       "    .dataframe tbody tr th:only-of-type {\n",
       "        vertical-align: middle;\n",
       "    }\n",
       "\n",
       "    .dataframe tbody tr th {\n",
       "        vertical-align: top;\n",
       "    }\n",
       "\n",
       "    .dataframe thead th {\n",
       "        text-align: right;\n",
       "    }\n",
       "</style>\n",
       "<table border=\"1\" class=\"dataframe\">\n",
       "  <thead>\n",
       "    <tr style=\"text-align: right;\">\n",
       "      <th></th>\n",
       "      <th>Пол</th>\n",
       "      <th>Возраст</th>\n",
       "      <th>Зарплата</th>\n",
       "      <th>Члены семьи</th>\n",
       "      <th>Страховые выплаты</th>\n",
       "    </tr>\n",
       "  </thead>\n",
       "  <tbody>\n",
       "    <tr>\n",
       "      <th>count</th>\n",
       "      <td>5000.000000</td>\n",
       "      <td>5000.000000</td>\n",
       "      <td>5000.000000</td>\n",
       "      <td>5000.000000</td>\n",
       "      <td>5000.000000</td>\n",
       "    </tr>\n",
       "    <tr>\n",
       "      <th>mean</th>\n",
       "      <td>0.499000</td>\n",
       "      <td>30.952800</td>\n",
       "      <td>39916.360000</td>\n",
       "      <td>1.194200</td>\n",
       "      <td>0.148000</td>\n",
       "    </tr>\n",
       "    <tr>\n",
       "      <th>std</th>\n",
       "      <td>0.500049</td>\n",
       "      <td>8.440807</td>\n",
       "      <td>9900.083569</td>\n",
       "      <td>1.091387</td>\n",
       "      <td>0.463183</td>\n",
       "    </tr>\n",
       "    <tr>\n",
       "      <th>min</th>\n",
       "      <td>0.000000</td>\n",
       "      <td>18.000000</td>\n",
       "      <td>5300.000000</td>\n",
       "      <td>0.000000</td>\n",
       "      <td>0.000000</td>\n",
       "    </tr>\n",
       "    <tr>\n",
       "      <th>25%</th>\n",
       "      <td>0.000000</td>\n",
       "      <td>24.000000</td>\n",
       "      <td>33300.000000</td>\n",
       "      <td>0.000000</td>\n",
       "      <td>0.000000</td>\n",
       "    </tr>\n",
       "    <tr>\n",
       "      <th>50%</th>\n",
       "      <td>0.000000</td>\n",
       "      <td>30.000000</td>\n",
       "      <td>40200.000000</td>\n",
       "      <td>1.000000</td>\n",
       "      <td>0.000000</td>\n",
       "    </tr>\n",
       "    <tr>\n",
       "      <th>75%</th>\n",
       "      <td>1.000000</td>\n",
       "      <td>37.000000</td>\n",
       "      <td>46600.000000</td>\n",
       "      <td>2.000000</td>\n",
       "      <td>0.000000</td>\n",
       "    </tr>\n",
       "    <tr>\n",
       "      <th>max</th>\n",
       "      <td>1.000000</td>\n",
       "      <td>65.000000</td>\n",
       "      <td>79000.000000</td>\n",
       "      <td>6.000000</td>\n",
       "      <td>5.000000</td>\n",
       "    </tr>\n",
       "  </tbody>\n",
       "</table>\n",
       "</div>"
      ],
      "text/plain": [
       "               Пол      Возраст      Зарплата  Члены семьи  Страховые выплаты\n",
       "count  5000.000000  5000.000000   5000.000000  5000.000000        5000.000000\n",
       "mean      0.499000    30.952800  39916.360000     1.194200           0.148000\n",
       "std       0.500049     8.440807   9900.083569     1.091387           0.463183\n",
       "min       0.000000    18.000000   5300.000000     0.000000           0.000000\n",
       "25%       0.000000    24.000000  33300.000000     0.000000           0.000000\n",
       "50%       0.000000    30.000000  40200.000000     1.000000           0.000000\n",
       "75%       1.000000    37.000000  46600.000000     2.000000           0.000000\n",
       "max       1.000000    65.000000  79000.000000     6.000000           5.000000"
      ]
     },
     "execution_count": 5,
     "metadata": {},
     "output_type": "execute_result"
    }
   ],
   "source": [
    "df.describe()"
   ]
  },
  {
   "cell_type": "markdown",
   "metadata": {},
   "source": [
    "В нашем распоряжении имеется датасет объемом 5000 объектов без пропусков. Датасет имеет 5 признаков. Тип всех признаков - целые и рациональные числа.\n",
    "\n",
    "* Признаки: пол, возраст и зарплата застрахованного, количество членов его семьи.\n",
    "* Целевой признак: количество страховых выплат клиенту за последние 5 лет."
   ]
  },
  {
   "cell_type": "markdown",
   "metadata": {},
   "source": [
    "## Умножение матриц"
   ]
  },
  {
   "cell_type": "markdown",
   "metadata": {},
   "source": [
    "Обозначения:\n",
    "\n",
    "- $a$ — предсказания модели\n",
    "\n",
    "- $X$ — матрица признаков (нулевой столбец состоит из единиц)\n",
    "\n",
    "- $y$ — вектор целевого признака\n",
    "\n",
    "- $P$ — матрица, на которую умножаются признаки\n",
    "\n",
    "- $w$ — вектор весов линейной регрессии (нулевой элемент равен сдвигу)"
   ]
  },
  {
   "cell_type": "markdown",
   "metadata": {},
   "source": [
    "Предсказания:\n",
    "\n",
    "$$\n",
    "a = Xw\n",
    "$$\n",
    "\n",
    "Задача обучения:\n",
    "\n",
    "$$\n",
    "w = \\arg\\min_w MSE(Xw, y)\n",
    "$$\n",
    "\n",
    "Формула обучения:\n",
    "\n",
    "$$\n",
    "w = (X^T X)^{-1} X^T y\n",
    "$$"
   ]
  },
  {
   "cell_type": "markdown",
   "metadata": {},
   "source": [
    "### Постановка задачи"
   ]
  },
  {
   "cell_type": "markdown",
   "metadata": {},
   "source": [
    "**Признаки умножают на обратимую матрицу. Изменится ли качество линейной регрессии?**\n",
    "\n",
    "1. Изменится. В таком случае необходимо привести примеры матриц.\n",
    "2. Не изменится. В таком случае необходимо указать, как связаны параметры линейной регрессии в исходной задаче и в преобразованной."
   ]
  },
  {
   "cell_type": "markdown",
   "metadata": {},
   "source": [
    "### Описание задачи"
   ]
  },
  {
   "cell_type": "markdown",
   "metadata": {},
   "source": [
    "Нам нужно установить тождество между  a и a', где\n",
    "    \n",
    "$a = X w$ \n",
    "    \n",
    "$a' = X P w'$ \n",
    " \n",
    "    \n",
    "Модифицированный вектор весов вычисляется по следующей формуле:\n",
    "    \n",
    "$\n",
    "w' = ((XP)^T XP)^{-1} (XP)^T y\n",
    "$  \n"
   ]
  },
  {
   "cell_type": "markdown",
   "metadata": {},
   "source": [
    "### Решение задачи"
   ]
  },
  {
   "cell_type": "markdown",
   "metadata": {},
   "source": [
    "Раскроем скобки для формул предсказаний модели"
   ]
  },
  {
   "cell_type": "markdown",
   "metadata": {},
   "source": [
    "$a = X w$\n",
    "\n",
    "$a = X ((X^T X)^{-1} X^T y)$\n",
    "\n",
    "$a = X   (X^T X)^{-1} X^T y$"
   ]
  },
  {
   "cell_type": "markdown",
   "metadata": {},
   "source": [
    "\n",
    "$a' = X P w'$ \n",
    "\n",
    "$a' = X P (((XP)^T XP)^{-1} (XP)^T y)$ \n",
    "\n",
    "$a' = X P ((P^T(X^TX)P)^{-1} P^TX^T y)$ \n",
    "\n",
    "$a' = X P P^{-1} (X^TX)^{-1}(P^T)^{-1}P^TX^Ty$ \n",
    "\n",
    "$a' = X E (X^TX)^{-1}EX^Ty$ \n"
   ]
  },
  {
   "cell_type": "markdown",
   "metadata": {},
   "source": [
    "В результате мы можем утверждать, что $a = a'$, т.к. умножение на единичную матрицу $E$ возвращает ту же самую матрицу. "
   ]
  },
  {
   "cell_type": "markdown",
   "metadata": {},
   "source": [
    "## Алгоритм преобразования"
   ]
  },
  {
   "cell_type": "markdown",
   "metadata": {},
   "source": [
    "**Алгоритм**\n",
    "\n",
    "1. Исходная матрица может быть любого размера и должна быть обратимой.\n",
    "2. Для шифрования используется класс `DataEncryption`.\n",
    "3. Инициируем класс `DataEncryption` и передаём внутрь него матрицу признаков $X$.\n",
    "4. Вызываем метод класса `encrypt_data()`.\n",
    "    1. Метод генерирует матрицу $P$, на которую будут умножаться признаки. Матрица $P$ генерируется такого размера, который позволяет умножить её на матрицу $X$.\n",
    "    2. Матрица $P$ проверяется на обратимость. Если матрица необратимая, то рекурсивно вызывается функция генерации матрицы с новым случайным зерном.\n",
    "5. Получаем зашифрованную матрицу признаков."
   ]
  },
  {
   "cell_type": "markdown",
   "metadata": {},
   "source": [
    "**Обоснование**\n",
    "\n",
    "В результате вычисления математического уравнения в п.2.3 доказано, что умножение матрицы признаков на другую матрицу не приводит к изменению предсказаний модели $a$."
   ]
  },
  {
   "cell_type": "markdown",
   "metadata": {},
   "source": [
    "## Проверка алгоритма"
   ]
  },
  {
   "cell_type": "markdown",
   "metadata": {},
   "source": [
    "### Выделение признаков"
   ]
  },
  {
   "cell_type": "code",
   "execution_count": 6,
   "metadata": {},
   "outputs": [],
   "source": [
    "# выделим целевой признак и признаки для обучения\n",
    "features = df.drop('Страховые выплаты', axis=1)\n",
    "target = df['Страховые выплаты']"
   ]
  },
  {
   "cell_type": "code",
   "execution_count": 7,
   "metadata": {},
   "outputs": [
    {
     "data": {
      "text/plain": [
       "array([[1.00e+00, 4.10e+01, 4.96e+04, 1.00e+00],\n",
       "       [0.00e+00, 4.60e+01, 3.80e+04, 1.00e+00],\n",
       "       [0.00e+00, 2.90e+01, 2.10e+04, 0.00e+00],\n",
       "       ...,\n",
       "       [0.00e+00, 2.00e+01, 3.39e+04, 2.00e+00],\n",
       "       [1.00e+00, 2.20e+01, 3.27e+04, 3.00e+00],\n",
       "       [1.00e+00, 2.80e+01, 4.06e+04, 1.00e+00]])"
      ]
     },
     "execution_count": 7,
     "metadata": {},
     "output_type": "execute_result"
    }
   ],
   "source": [
    "X = features.values\n",
    "X"
   ]
  },
  {
   "cell_type": "code",
   "execution_count": 8,
   "metadata": {},
   "outputs": [
    {
     "data": {
      "text/plain": [
       "array([0, 1, 0, ..., 0, 0, 0])"
      ]
     },
     "execution_count": 8,
     "metadata": {},
     "output_type": "execute_result"
    }
   ],
   "source": [
    "y = target.values\n",
    "y"
   ]
  },
  {
   "cell_type": "code",
   "execution_count": 9,
   "metadata": {},
   "outputs": [],
   "source": [
    "X_train, X_test, y_train, y_test = train_test_split(X, y, test_size=0.25, random_state=123456)"
   ]
  },
  {
   "cell_type": "markdown",
   "metadata": {},
   "source": [
    "### Имплементация алгоритма"
   ]
  },
  {
   "cell_type": "code",
   "execution_count": 10,
   "metadata": {},
   "outputs": [],
   "source": [
    "# Напишем класс для шифрования данных\n",
    "class DataEncryption:\n",
    "    def __init__(self, X_train, X_test):\n",
    "        self.X_train = X_train\n",
    "        self.X_test = X_test\n",
    "        \n",
    "    def generate_random_normal(self):\n",
    "        np.random.seed(np.random.randint(1, 100000))\n",
    "        \n",
    "        self.random_matrix = np.random.normal(\n",
    "            np.random.randint(1, 10), \n",
    "            np.random.randint(1, 5), \n",
    "            size=(self.X_train.shape[1], \n",
    "                  self.X_train.shape[1])\n",
    "        ).round(1)\n",
    "        \n",
    "        try:\n",
    "            np.linalg.inv(self.random_matrix)\n",
    "        except LinAlgError:\n",
    "            self.generate_random_normal()\n",
    "        \n",
    "    def encrypt_data(self):\n",
    "        self.generate_random_normal()\n",
    "        self.X_encrypted_train = self.X_train @ self.random_matrix\n",
    "        self.X_encrypted_test = self.X_test @ self.random_matrix"
   ]
  },
  {
   "cell_type": "markdown",
   "metadata": {},
   "source": [
    "### Проверка работы алгоритма"
   ]
  },
  {
   "cell_type": "code",
   "execution_count": 11,
   "metadata": {},
   "outputs": [
    {
     "data": {
      "text/plain": [
       "0.4192116037042798"
      ]
     },
     "execution_count": 11,
     "metadata": {},
     "output_type": "execute_result"
    }
   ],
   "source": [
    "# Обучим модель на оригинальных признаках и проверим R2 метрику\n",
    "model = LinearRegression()\n",
    "\n",
    "model.fit(X_train, y_train)\n",
    "predictions = model.predict(X_test)\n",
    "\n",
    "r2_score(y_test, predictions)"
   ]
  },
  {
   "cell_type": "code",
   "execution_count": 12,
   "metadata": {},
   "outputs": [
    {
     "data": {
      "text/plain": [
       "0.41921160370362653"
      ]
     },
     "execution_count": 12,
     "metadata": {},
     "output_type": "execute_result"
    }
   ],
   "source": [
    "# Обучим модель на преобразованных признаках и проверим R2 метрику\n",
    "model = LinearRegression()\n",
    "\n",
    "encrypter = DataEncryption(X_train, X_test)\n",
    "encrypter.encrypt_data()\n",
    "\n",
    "model.fit(encrypter.X_encrypted_train, y_train)\n",
    "predictions = model.predict(encrypter.X_encrypted_test)\n",
    "\n",
    "r2_score(y_test, predictions)"
   ]
  },
  {
   "cell_type": "markdown",
   "metadata": {},
   "source": [
    "**Вывод:**\n",
    "\n",
    "Умножение признаков на обратимую матрицу помогает зашифровать данные и не влияет на значение метрики R2"
   ]
  }
 ],
 "metadata": {
  "ExecuteTimeLog": [
   {
    "duration": 1321,
    "start_time": "2023-07-31T07:45:53.866Z"
   },
   {
    "duration": 78,
    "start_time": "2023-07-31T07:45:55.188Z"
   },
   {
    "duration": 13,
    "start_time": "2023-07-31T07:45:55.268Z"
   },
   {
    "duration": 37,
    "start_time": "2023-07-31T07:45:55.283Z"
   },
   {
    "duration": 45,
    "start_time": "2023-07-31T07:45:55.322Z"
   },
   {
    "duration": 34,
    "start_time": "2023-07-31T07:45:55.369Z"
   },
   {
    "duration": 25,
    "start_time": "2023-07-31T07:45:55.405Z"
   },
   {
    "duration": 26,
    "start_time": "2023-07-31T07:45:55.432Z"
   },
   {
    "duration": 19,
    "start_time": "2023-07-31T07:45:55.460Z"
   },
   {
    "duration": 22,
    "start_time": "2023-07-31T07:45:55.481Z"
   },
   {
    "duration": 1359,
    "start_time": "2023-08-03T07:29:12.239Z"
   },
   {
    "duration": 100,
    "start_time": "2023-08-03T07:29:13.600Z"
   },
   {
    "duration": 33,
    "start_time": "2023-08-03T07:29:13.702Z"
   },
   {
    "duration": 68,
    "start_time": "2023-08-03T07:29:13.737Z"
   },
   {
    "duration": 75,
    "start_time": "2023-08-03T07:29:13.807Z"
   },
   {
    "duration": 76,
    "start_time": "2023-08-03T07:29:13.883Z"
   },
   {
    "duration": 82,
    "start_time": "2023-08-03T07:29:13.961Z"
   },
   {
    "duration": 4,
    "start_time": "2023-08-03T07:29:14.046Z"
   },
   {
    "duration": 51,
    "start_time": "2023-08-03T07:29:14.052Z"
   },
   {
    "duration": 138,
    "start_time": "2023-08-03T07:29:14.105Z"
   },
   {
    "duration": 97,
    "start_time": "2023-08-03T07:29:14.245Z"
   },
   {
    "duration": 4,
    "start_time": "2023-08-03T07:46:31.038Z"
   },
   {
    "duration": 5,
    "start_time": "2023-08-03T07:48:00.780Z"
   },
   {
    "duration": 5,
    "start_time": "2023-08-03T07:48:08.352Z"
   },
   {
    "duration": 5,
    "start_time": "2023-08-03T07:48:12.486Z"
   },
   {
    "duration": 5,
    "start_time": "2023-08-03T07:50:09.591Z"
   },
   {
    "duration": 4,
    "start_time": "2023-08-03T07:50:14.058Z"
   },
   {
    "duration": 6,
    "start_time": "2023-08-03T07:50:19.628Z"
   },
   {
    "duration": 4,
    "start_time": "2023-08-03T07:50:22.240Z"
   },
   {
    "duration": 4,
    "start_time": "2023-08-03T07:50:27.296Z"
   },
   {
    "duration": 4,
    "start_time": "2023-08-03T07:54:25.230Z"
   },
   {
    "duration": 112,
    "start_time": "2023-08-03T08:11:00.807Z"
   },
   {
    "duration": 4,
    "start_time": "2023-08-03T08:11:05.129Z"
   },
   {
    "duration": 6,
    "start_time": "2023-08-03T08:11:08.033Z"
   },
   {
    "duration": 6,
    "start_time": "2023-08-03T08:11:11.620Z"
   },
   {
    "duration": 17,
    "start_time": "2023-08-03T08:21:25.104Z"
   },
   {
    "duration": 5,
    "start_time": "2023-08-03T08:22:00.419Z"
   },
   {
    "duration": 106,
    "start_time": "2023-08-03T08:24:14.203Z"
   },
   {
    "duration": 7,
    "start_time": "2023-08-03T08:24:40.847Z"
   },
   {
    "duration": 7,
    "start_time": "2023-08-03T08:24:51.751Z"
   },
   {
    "duration": 18,
    "start_time": "2023-08-03T08:25:17.903Z"
   },
   {
    "duration": 10,
    "start_time": "2023-08-03T08:27:07.275Z"
   },
   {
    "duration": 5,
    "start_time": "2023-08-03T08:34:10.164Z"
   },
   {
    "duration": 5,
    "start_time": "2023-08-03T08:34:44.996Z"
   },
   {
    "duration": 5,
    "start_time": "2023-08-03T08:34:45.652Z"
   },
   {
    "duration": 5,
    "start_time": "2023-08-03T08:34:46.288Z"
   },
   {
    "duration": 5,
    "start_time": "2023-08-03T08:34:46.899Z"
   },
   {
    "duration": 5,
    "start_time": "2023-08-03T08:34:47.876Z"
   },
   {
    "duration": 5,
    "start_time": "2023-08-03T08:34:50.582Z"
   },
   {
    "duration": 5,
    "start_time": "2023-08-03T08:34:52.370Z"
   },
   {
    "duration": 19,
    "start_time": "2023-08-03T08:34:54.230Z"
   },
   {
    "duration": 7,
    "start_time": "2023-08-03T08:34:55.596Z"
   },
   {
    "duration": 6,
    "start_time": "2023-08-03T08:35:00.991Z"
   },
   {
    "duration": 5,
    "start_time": "2023-08-03T08:35:02.297Z"
   },
   {
    "duration": 5,
    "start_time": "2023-08-03T08:35:03.640Z"
   },
   {
    "duration": 22,
    "start_time": "2023-08-03T08:35:05.518Z"
   },
   {
    "duration": 11,
    "start_time": "2023-08-03T08:35:06.446Z"
   },
   {
    "duration": 1110,
    "start_time": "2023-09-18T05:41:56.788Z"
   },
   {
    "duration": 77,
    "start_time": "2023-09-18T05:41:57.900Z"
   },
   {
    "duration": 16,
    "start_time": "2023-09-18T05:41:57.979Z"
   },
   {
    "duration": 29,
    "start_time": "2023-09-18T05:41:57.997Z"
   },
   {
    "duration": 7,
    "start_time": "2023-09-18T05:41:58.029Z"
   },
   {
    "duration": 90,
    "start_time": "2023-09-18T05:41:58.038Z"
   },
   {
    "duration": 102,
    "start_time": "2023-09-18T05:41:58.130Z"
   },
   {
    "duration": 62,
    "start_time": "2023-09-18T05:41:58.235Z"
   },
   {
    "duration": 229,
    "start_time": "2023-09-18T05:41:58.299Z"
   },
   {
    "duration": 120,
    "start_time": "2023-09-18T05:41:58.530Z"
   },
   {
    "duration": 94,
    "start_time": "2023-09-18T05:41:58.652Z"
   },
   {
    "duration": 106,
    "start_time": "2023-09-18T05:41:58.749Z"
   },
   {
    "duration": 95,
    "start_time": "2023-09-18T05:41:58.860Z"
   },
   {
    "duration": 152,
    "start_time": "2023-09-18T05:41:58.959Z"
   },
   {
    "duration": 35,
    "start_time": "2023-09-18T05:41:59.113Z"
   },
   {
    "duration": 11,
    "start_time": "2023-09-18T05:41:59.150Z"
   },
   {
    "duration": 58,
    "start_time": "2023-09-19T05:39:33.324Z"
   },
   {
    "duration": 1167,
    "start_time": "2023-09-19T05:39:42.917Z"
   },
   {
    "duration": 76,
    "start_time": "2023-09-19T05:39:44.086Z"
   },
   {
    "duration": 17,
    "start_time": "2023-09-19T05:39:44.163Z"
   },
   {
    "duration": 12,
    "start_time": "2023-09-19T05:39:44.181Z"
   },
   {
    "duration": 9,
    "start_time": "2023-09-19T05:39:44.195Z"
   },
   {
    "duration": 14,
    "start_time": "2023-09-19T05:39:44.205Z"
   },
   {
    "duration": 7,
    "start_time": "2023-09-19T05:39:44.220Z"
   },
   {
    "duration": 18,
    "start_time": "2023-09-19T05:39:44.229Z"
   },
   {
    "duration": 13,
    "start_time": "2023-09-19T05:39:44.249Z"
   },
   {
    "duration": 82,
    "start_time": "2023-09-19T05:39:44.265Z"
   },
   {
    "duration": 99,
    "start_time": "2023-09-19T05:39:44.349Z"
   },
   {
    "duration": 197,
    "start_time": "2023-09-19T05:39:44.450Z"
   },
   {
    "duration": 94,
    "start_time": "2023-09-19T05:39:44.653Z"
   },
   {
    "duration": 3,
    "start_time": "2023-09-19T05:39:44.750Z"
   },
   {
    "duration": 20,
    "start_time": "2023-09-19T05:39:44.755Z"
   },
   {
    "duration": 8,
    "start_time": "2023-09-19T05:39:44.777Z"
   },
   {
    "duration": 62,
    "start_time": "2023-09-19T05:39:44.787Z"
   },
   {
    "duration": 96,
    "start_time": "2023-09-19T05:39:44.851Z"
   },
   {
    "duration": 3,
    "start_time": "2023-09-19T05:39:51.699Z"
   },
   {
    "duration": 5,
    "start_time": "2023-09-19T05:40:03.635Z"
   },
   {
    "duration": 4,
    "start_time": "2023-09-19T05:40:06.500Z"
   },
   {
    "duration": 4,
    "start_time": "2023-09-19T05:40:07.279Z"
   },
   {
    "duration": 4,
    "start_time": "2023-09-19T05:40:08.028Z"
   },
   {
    "duration": 857,
    "start_time": "2023-09-19T05:40:44.021Z"
   },
   {
    "duration": 3,
    "start_time": "2023-09-19T05:42:00.767Z"
   },
   {
    "duration": 9,
    "start_time": "2023-09-19T05:42:12.325Z"
   },
   {
    "duration": 3,
    "start_time": "2023-09-19T05:42:22.932Z"
   },
   {
    "duration": 2,
    "start_time": "2023-09-19T05:42:27.898Z"
   },
   {
    "duration": 5,
    "start_time": "2023-09-19T05:42:36.584Z"
   },
   {
    "duration": 5,
    "start_time": "2023-09-19T05:49:20.189Z"
   },
   {
    "duration": 5,
    "start_time": "2023-09-19T05:49:21.762Z"
   },
   {
    "duration": 4,
    "start_time": "2023-09-19T05:49:22.421Z"
   },
   {
    "duration": 4,
    "start_time": "2023-09-19T05:49:22.950Z"
   },
   {
    "duration": 5,
    "start_time": "2023-09-19T05:49:23.501Z"
   },
   {
    "duration": 5,
    "start_time": "2023-09-19T05:49:24.023Z"
   },
   {
    "duration": 5,
    "start_time": "2023-09-19T05:49:24.355Z"
   },
   {
    "duration": 5,
    "start_time": "2023-09-19T05:49:24.552Z"
   },
   {
    "duration": 4,
    "start_time": "2023-09-19T05:49:27.689Z"
   },
   {
    "duration": 4,
    "start_time": "2023-09-19T05:49:28.514Z"
   },
   {
    "duration": 5,
    "start_time": "2023-09-19T05:49:29.759Z"
   },
   {
    "duration": 9,
    "start_time": "2023-09-19T06:04:19.352Z"
   },
   {
    "duration": 2920,
    "start_time": "2023-09-19T06:05:02.140Z"
   },
   {
    "duration": 6,
    "start_time": "2023-09-19T06:05:28.096Z"
   },
   {
    "duration": 10,
    "start_time": "2023-09-19T06:05:30.619Z"
   },
   {
    "duration": 13,
    "start_time": "2023-09-19T06:06:54.369Z"
   },
   {
    "duration": 6,
    "start_time": "2023-09-19T06:06:58.035Z"
   },
   {
    "duration": 16,
    "start_time": "2023-09-19T06:07:00.551Z"
   },
   {
    "duration": 14,
    "start_time": "2023-09-19T06:07:46.816Z"
   },
   {
    "duration": 9,
    "start_time": "2023-09-19T06:07:53.423Z"
   },
   {
    "duration": 12,
    "start_time": "2023-09-19T06:07:54.480Z"
   },
   {
    "duration": 10,
    "start_time": "2023-09-19T06:07:55.223Z"
   },
   {
    "duration": 12,
    "start_time": "2023-09-19T06:07:55.909Z"
   },
   {
    "duration": 12,
    "start_time": "2023-09-19T06:07:56.508Z"
   },
   {
    "duration": 12,
    "start_time": "2023-09-19T06:07:56.983Z"
   },
   {
    "duration": 11,
    "start_time": "2023-09-19T06:07:57.392Z"
   },
   {
    "duration": 10,
    "start_time": "2023-09-19T06:07:57.755Z"
   },
   {
    "duration": 13,
    "start_time": "2023-09-19T06:07:58.125Z"
   },
   {
    "duration": 12,
    "start_time": "2023-09-19T06:07:58.473Z"
   },
   {
    "duration": 1511,
    "start_time": "2023-09-19T06:08:55.007Z"
   },
   {
    "duration": 30,
    "start_time": "2023-09-19T06:08:56.521Z"
   },
   {
    "duration": 21,
    "start_time": "2023-09-19T06:08:56.553Z"
   },
   {
    "duration": 19,
    "start_time": "2023-09-19T06:08:56.577Z"
   },
   {
    "duration": 41,
    "start_time": "2023-09-19T06:08:56.597Z"
   },
   {
    "duration": 27,
    "start_time": "2023-09-19T06:08:56.640Z"
   },
   {
    "duration": 12,
    "start_time": "2023-09-19T06:08:56.669Z"
   },
   {
    "duration": 11,
    "start_time": "2023-09-19T06:08:56.683Z"
   },
   {
    "duration": 17,
    "start_time": "2023-09-19T06:08:56.696Z"
   },
   {
    "duration": 34,
    "start_time": "2023-09-19T06:08:56.718Z"
   },
   {
    "duration": 109,
    "start_time": "2023-09-19T06:08:56.754Z"
   },
   {
    "duration": 109,
    "start_time": "2023-09-19T06:08:56.949Z"
   },
   {
    "duration": 8,
    "start_time": "2023-09-19T06:08:57.147Z"
   },
   {
    "duration": 101,
    "start_time": "2023-09-19T06:08:57.157Z"
   },
   {
    "duration": 191,
    "start_time": "2023-09-19T06:08:57.262Z"
   },
   {
    "duration": 91,
    "start_time": "2023-09-19T06:08:57.458Z"
   },
   {
    "duration": 13,
    "start_time": "2023-09-19T06:08:57.552Z"
   },
   {
    "duration": 82,
    "start_time": "2023-09-19T06:08:57.567Z"
   },
   {
    "duration": 6,
    "start_time": "2023-09-19T06:08:57.651Z"
   },
   {
    "duration": 3059,
    "start_time": "2023-09-19T06:34:27.574Z"
   },
   {
    "duration": 78,
    "start_time": "2023-09-19T06:34:30.635Z"
   },
   {
    "duration": 17,
    "start_time": "2023-09-19T06:34:30.716Z"
   },
   {
    "duration": 76,
    "start_time": "2023-09-19T06:34:30.734Z"
   },
   {
    "duration": 67,
    "start_time": "2023-09-19T06:34:30.813Z"
   },
   {
    "duration": 64,
    "start_time": "2023-09-19T06:34:30.882Z"
   },
   {
    "duration": 57,
    "start_time": "2023-09-19T06:34:30.948Z"
   },
   {
    "duration": 38,
    "start_time": "2023-09-19T06:34:31.007Z"
   },
   {
    "duration": 31,
    "start_time": "2023-09-19T06:34:31.047Z"
   },
   {
    "duration": 34,
    "start_time": "2023-09-19T06:34:31.081Z"
   },
   {
    "duration": 100,
    "start_time": "2023-09-19T06:34:31.116Z"
   },
   {
    "duration": 213,
    "start_time": "2023-09-19T06:34:31.218Z"
   },
   {
    "duration": 182,
    "start_time": "2023-09-19T06:34:31.434Z"
   },
   {
    "duration": 40,
    "start_time": "2023-09-19T06:34:31.620Z"
   },
   {
    "duration": 110,
    "start_time": "2023-09-19T06:34:31.710Z"
   },
   {
    "duration": 186,
    "start_time": "2023-09-19T06:34:31.824Z"
   },
   {
    "duration": 129,
    "start_time": "2023-09-19T06:34:32.012Z"
   },
   {
    "duration": 94,
    "start_time": "2023-09-19T06:34:32.143Z"
   },
   {
    "duration": 6,
    "start_time": "2023-09-19T06:34:32.310Z"
   },
   {
    "duration": 52,
    "start_time": "2023-09-20T06:31:13.680Z"
   },
   {
    "duration": 1084,
    "start_time": "2023-09-20T06:31:18.950Z"
   },
   {
    "duration": 94,
    "start_time": "2023-09-20T06:31:20.036Z"
   },
   {
    "duration": 48,
    "start_time": "2023-09-20T06:31:20.132Z"
   },
   {
    "duration": 33,
    "start_time": "2023-09-20T06:31:20.181Z"
   },
   {
    "duration": 34,
    "start_time": "2023-09-20T06:31:20.216Z"
   },
   {
    "duration": 4,
    "start_time": "2023-09-20T06:31:20.251Z"
   },
   {
    "duration": 22,
    "start_time": "2023-09-20T06:31:20.257Z"
   },
   {
    "duration": 26,
    "start_time": "2023-09-20T06:31:20.281Z"
   },
   {
    "duration": 23,
    "start_time": "2023-09-20T06:31:20.309Z"
   },
   {
    "duration": 9,
    "start_time": "2023-09-20T06:31:20.334Z"
   },
   {
    "duration": 60,
    "start_time": "2023-09-20T06:31:20.346Z"
   },
   {
    "duration": 95,
    "start_time": "2023-09-20T06:31:20.408Z"
   },
   {
    "duration": 98,
    "start_time": "2023-09-20T06:31:20.508Z"
   },
   {
    "duration": 8,
    "start_time": "2023-09-20T06:31:20.700Z"
   },
   {
    "duration": 180,
    "start_time": "2023-09-20T06:31:20.711Z"
   },
   {
    "duration": 233,
    "start_time": "2023-09-20T06:31:20.894Z"
   },
   {
    "duration": 203,
    "start_time": "2023-09-20T06:31:21.129Z"
   },
   {
    "duration": 28,
    "start_time": "2023-09-20T06:31:21.334Z"
   },
   {
    "duration": 41,
    "start_time": "2023-09-20T06:31:21.364Z"
   },
   {
    "duration": 101,
    "start_time": "2023-09-20T06:31:21.407Z"
   },
   {
    "duration": 1179,
    "start_time": "2023-09-20T07:44:32.514Z"
   },
   {
    "duration": 30,
    "start_time": "2023-09-20T07:44:33.695Z"
   },
   {
    "duration": 27,
    "start_time": "2023-09-20T07:44:33.727Z"
   },
   {
    "duration": 40,
    "start_time": "2023-09-20T07:44:33.757Z"
   },
   {
    "duration": 75,
    "start_time": "2023-09-20T07:44:33.799Z"
   },
   {
    "duration": 5,
    "start_time": "2023-09-20T07:44:33.876Z"
   },
   {
    "duration": 27,
    "start_time": "2023-09-20T07:44:33.882Z"
   },
   {
    "duration": 215,
    "start_time": "2023-09-20T07:44:33.911Z"
   },
   {
    "duration": 272,
    "start_time": "2023-09-20T07:44:34.128Z"
   },
   {
    "duration": 52,
    "start_time": "2023-09-20T07:44:34.402Z"
   },
   {
    "duration": 148,
    "start_time": "2023-09-20T07:44:34.455Z"
   },
   {
    "duration": 4,
    "start_time": "2023-09-20T07:44:34.606Z"
   },
   {
    "duration": 130,
    "start_time": "2023-09-20T07:44:34.613Z"
   },
   {
    "duration": 39,
    "start_time": "2023-09-20T07:44:34.745Z"
   },
   {
    "duration": 72,
    "start_time": "2023-09-20T07:44:34.786Z"
   },
   {
    "duration": 59,
    "start_time": "2023-09-20T07:44:34.860Z"
   },
   {
    "duration": 1228,
    "start_time": "2023-09-21T04:13:15.221Z"
   },
   {
    "duration": 85,
    "start_time": "2023-09-21T04:13:16.451Z"
   },
   {
    "duration": 17,
    "start_time": "2023-09-21T04:13:16.538Z"
   },
   {
    "duration": 14,
    "start_time": "2023-09-21T04:13:16.556Z"
   },
   {
    "duration": 48,
    "start_time": "2023-09-21T04:13:16.572Z"
   },
   {
    "duration": 5,
    "start_time": "2023-09-21T04:13:16.621Z"
   },
   {
    "duration": 10,
    "start_time": "2023-09-21T04:13:16.627Z"
   },
   {
    "duration": 12,
    "start_time": "2023-09-21T04:13:16.639Z"
   },
   {
    "duration": 6,
    "start_time": "2023-09-21T04:13:16.653Z"
   },
   {
    "duration": 152,
    "start_time": "2023-09-21T04:13:16.661Z"
   },
   {
    "duration": 18,
    "start_time": "2023-09-21T04:13:16.815Z"
   },
   {
    "duration": 74,
    "start_time": "2023-09-21T04:13:16.836Z"
   },
   {
    "duration": 5,
    "start_time": "2023-09-21T04:13:16.912Z"
   },
   {
    "duration": 5,
    "start_time": "2023-09-21T04:13:16.920Z"
   },
   {
    "duration": 85,
    "start_time": "2023-09-21T04:13:16.928Z"
   },
   {
    "duration": 9,
    "start_time": "2023-09-21T04:13:17.016Z"
   },
   {
    "duration": 6,
    "start_time": "2023-09-21T05:24:55.406Z"
   },
   {
    "duration": 1446,
    "start_time": "2023-09-21T05:27:04.181Z"
   },
   {
    "duration": 35,
    "start_time": "2023-09-21T05:27:05.630Z"
   },
   {
    "duration": 27,
    "start_time": "2023-09-21T05:27:05.667Z"
   },
   {
    "duration": 18,
    "start_time": "2023-09-21T05:27:05.697Z"
   },
   {
    "duration": 41,
    "start_time": "2023-09-21T05:27:05.719Z"
   },
   {
    "duration": 6,
    "start_time": "2023-09-21T05:27:05.762Z"
   },
   {
    "duration": 36,
    "start_time": "2023-09-21T05:27:05.770Z"
   },
   {
    "duration": 24,
    "start_time": "2023-09-21T05:27:05.808Z"
   },
   {
    "duration": 29,
    "start_time": "2023-09-21T05:27:05.834Z"
   },
   {
    "duration": 159,
    "start_time": "2023-09-21T05:27:05.865Z"
   },
   {
    "duration": 0,
    "start_time": "2023-09-21T05:27:06.026Z"
   },
   {
    "duration": 0,
    "start_time": "2023-09-21T05:27:06.028Z"
   },
   {
    "duration": 0,
    "start_time": "2023-09-21T05:27:06.029Z"
   },
   {
    "duration": 4,
    "start_time": "2023-09-21T05:27:18.747Z"
   },
   {
    "duration": 5,
    "start_time": "2023-09-21T05:27:22.773Z"
   },
   {
    "duration": 6,
    "start_time": "2023-09-21T05:27:31.122Z"
   },
   {
    "duration": 7,
    "start_time": "2023-09-21T05:28:11.344Z"
   },
   {
    "duration": 10,
    "start_time": "2023-09-21T05:28:48.249Z"
   },
   {
    "duration": 1270,
    "start_time": "2023-09-21T05:28:58.497Z"
   },
   {
    "duration": 37,
    "start_time": "2023-09-21T05:28:59.770Z"
   },
   {
    "duration": 17,
    "start_time": "2023-09-21T05:28:59.809Z"
   },
   {
    "duration": 16,
    "start_time": "2023-09-21T05:28:59.829Z"
   },
   {
    "duration": 36,
    "start_time": "2023-09-21T05:28:59.847Z"
   },
   {
    "duration": 4,
    "start_time": "2023-09-21T05:28:59.885Z"
   },
   {
    "duration": 6,
    "start_time": "2023-09-21T05:28:59.910Z"
   },
   {
    "duration": 13,
    "start_time": "2023-09-21T05:28:59.919Z"
   },
   {
    "duration": 5,
    "start_time": "2023-09-21T05:28:59.935Z"
   },
   {
    "duration": 8,
    "start_time": "2023-09-21T05:28:59.944Z"
   },
   {
    "duration": 19,
    "start_time": "2023-09-21T05:28:59.954Z"
   },
   {
    "duration": 40,
    "start_time": "2023-09-21T05:28:59.976Z"
   },
   {
    "duration": 17,
    "start_time": "2023-09-21T05:29:48.206Z"
   },
   {
    "duration": 9,
    "start_time": "2023-09-21T05:30:59.483Z"
   },
   {
    "duration": 5,
    "start_time": "2023-09-21T05:32:17.234Z"
   },
   {
    "duration": 112,
    "start_time": "2023-09-21T05:32:46.478Z"
   },
   {
    "duration": 5,
    "start_time": "2023-09-21T05:33:34.307Z"
   },
   {
    "duration": 10,
    "start_time": "2023-09-21T05:33:36.650Z"
   },
   {
    "duration": 7,
    "start_time": "2023-09-21T05:33:38.972Z"
   },
   {
    "duration": 1130,
    "start_time": "2023-09-21T05:33:47.434Z"
   },
   {
    "duration": 33,
    "start_time": "2023-09-21T05:33:48.566Z"
   },
   {
    "duration": 19,
    "start_time": "2023-09-21T05:33:48.601Z"
   },
   {
    "duration": 20,
    "start_time": "2023-09-21T05:33:48.621Z"
   },
   {
    "duration": 29,
    "start_time": "2023-09-21T05:33:48.643Z"
   },
   {
    "duration": 7,
    "start_time": "2023-09-21T05:33:48.673Z"
   },
   {
    "duration": 10,
    "start_time": "2023-09-21T05:33:48.681Z"
   },
   {
    "duration": 17,
    "start_time": "2023-09-21T05:33:48.693Z"
   },
   {
    "duration": 4,
    "start_time": "2023-09-21T05:33:48.712Z"
   },
   {
    "duration": 8,
    "start_time": "2023-09-21T05:33:48.717Z"
   },
   {
    "duration": 32,
    "start_time": "2023-09-21T05:33:48.727Z"
   },
   {
    "duration": 13,
    "start_time": "2023-09-21T05:33:48.761Z"
   },
   {
    "duration": 52,
    "start_time": "2023-09-21T07:36:45.490Z"
   },
   {
    "duration": 7,
    "start_time": "2023-09-21T07:36:47.497Z"
   },
   {
    "duration": 1191,
    "start_time": "2023-09-21T07:36:53.308Z"
   },
   {
    "duration": 82,
    "start_time": "2023-09-21T07:36:54.501Z"
   },
   {
    "duration": 24,
    "start_time": "2023-09-21T07:36:54.585Z"
   },
   {
    "duration": 17,
    "start_time": "2023-09-21T07:36:54.612Z"
   },
   {
    "duration": 33,
    "start_time": "2023-09-21T07:36:54.632Z"
   },
   {
    "duration": 4,
    "start_time": "2023-09-21T07:36:54.667Z"
   },
   {
    "duration": 10,
    "start_time": "2023-09-21T07:36:54.673Z"
   },
   {
    "duration": 5,
    "start_time": "2023-09-21T07:36:54.710Z"
   },
   {
    "duration": 23,
    "start_time": "2023-09-21T07:36:54.717Z"
   },
   {
    "duration": 7,
    "start_time": "2023-09-21T07:36:54.743Z"
   },
   {
    "duration": 8,
    "start_time": "2023-09-21T07:36:54.752Z"
   },
   {
    "duration": 15,
    "start_time": "2023-09-21T07:36:54.762Z"
   },
   {
    "duration": 14,
    "start_time": "2023-09-21T07:36:54.779Z"
   },
   {
    "duration": 22,
    "start_time": "2023-09-21T07:36:54.796Z"
   },
   {
    "duration": 5,
    "start_time": "2023-09-21T07:37:13.261Z"
   },
   {
    "duration": 4,
    "start_time": "2023-09-21T07:37:24.060Z"
   },
   {
    "duration": 1450,
    "start_time": "2023-09-22T07:33:53.272Z"
   },
   {
    "duration": 112,
    "start_time": "2023-09-22T07:33:54.725Z"
   },
   {
    "duration": 32,
    "start_time": "2023-09-22T07:33:54.839Z"
   },
   {
    "duration": 16,
    "start_time": "2023-09-22T07:33:54.878Z"
   },
   {
    "duration": 25,
    "start_time": "2023-09-22T07:33:54.897Z"
   },
   {
    "duration": 25,
    "start_time": "2023-09-22T07:33:54.924Z"
   },
   {
    "duration": 34,
    "start_time": "2023-09-22T07:33:54.950Z"
   },
   {
    "duration": 10,
    "start_time": "2023-09-22T07:33:54.987Z"
   },
   {
    "duration": 11,
    "start_time": "2023-09-22T07:33:54.998Z"
   },
   {
    "duration": 14,
    "start_time": "2023-09-22T07:33:55.011Z"
   },
   {
    "duration": 104,
    "start_time": "2023-09-22T07:33:55.028Z"
   },
   {
    "duration": 56,
    "start_time": "2023-09-22T07:33:55.134Z"
   }
  ],
  "kernelspec": {
   "display_name": "Python 3 (ipykernel)",
   "language": "python",
   "name": "python3"
  },
  "language_info": {
   "codemirror_mode": {
    "name": "ipython",
    "version": 3
   },
   "file_extension": ".py",
   "mimetype": "text/x-python",
   "name": "python",
   "nbconvert_exporter": "python",
   "pygments_lexer": "ipython3",
   "version": "3.11.5"
  },
  "toc": {
   "base_numbering": 1,
   "nav_menu": {},
   "number_sections": true,
   "sideBar": true,
   "skip_h1_title": true,
   "title_cell": "Содержание",
   "title_sidebar": "Contents",
   "toc_cell": true,
   "toc_position": {
    "height": "calc(100% - 180px)",
    "left": "10px",
    "top": "150px",
    "width": "307px"
   },
   "toc_section_display": true,
   "toc_window_display": true
  }
 },
 "nbformat": 4,
 "nbformat_minor": 4
}
