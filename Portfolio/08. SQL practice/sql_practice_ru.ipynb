{
 "cells": [
  {
   "cell_type": "markdown",
   "metadata": {
    "id": "sRW85nPMDWKb"
   },
   "source": [
    "# SQL"
   ]
  },
  {
   "cell_type": "markdown",
   "metadata": {},
   "source": [
    "Данная тетрадь содержит решение практических задач по SQL с использованием оконных функций. Используется база данных Stack Overflow за первые месяцы существования проекта."
   ]
  },
  {
   "cell_type": "code",
   "execution_count": 1,
   "metadata": {
    "id": "nlZBlglMDWKe",
    "tags": []
   },
   "outputs": [],
   "source": [
    "import matplotlib\n",
    "\n",
    "import pandas as pd\n",
    "import numpy as np\n",
    "import matplotlib.pyplot as plt\n",
    "import seaborn as sns\n",
    "\n",
    "from sqlalchemy import create_engine "
   ]
  },
  {
   "cell_type": "markdown",
   "metadata": {
    "id": "XnOE3n28DWKg"
   },
   "source": [
    "### Конфигурация для подключения к базе данных\n",
    "Эта база данных содержит схему `stackoverflow`, с которой мы будем работать в проекте"
   ]
  },
  {
   "cell_type": "code",
   "execution_count": 2,
   "metadata": {
    "id": "6p-yGp7qDWKg"
   },
   "outputs": [],
   "source": [
    "db_config = {\n",
    "    'user': 'XXX', \n",
    "    'pwd': 'XXX', \n",
    "    'host': 'XXX',\n",
    "    'port': 0000, \n",
    "    'db': 'XXX' \n",
    "}  \n",
    "\n",
    "connection_string = 'postgresql://{}:{}@{}:{}/{}'.format(\n",
    "    db_config['user'],\n",
    "    db_config['pwd'],\n",
    "    db_config['host'],\n",
    "    db_config['port'],\n",
    "    db_config['db'],\n",
    ")"
   ]
  },
  {
   "cell_type": "markdown",
   "metadata": {
    "id": "2Rg8ZpS0DWKh"
   },
   "source": [
    "Создание подключения"
   ]
  },
  {
   "cell_type": "code",
   "execution_count": 3,
   "metadata": {
    "id": "DamCUTR6DWKi"
   },
   "outputs": [],
   "source": [
    "engine = create_engine(connection_string) "
   ]
  },
  {
   "cell_type": "markdown",
   "metadata": {
    "id": "gnBMXkDBDWKm"
   },
   "source": [
    "## Задание 1"
   ]
  },
  {
   "cell_type": "markdown",
   "metadata": {
    "id": "vHsfOrrNDWKn"
   },
   "source": [
    "Выведите общую сумму просмотров постов за каждый месяц 2008 года. Если данных за какой-либо месяц в базе нет, такой месяц можно пропустить. Результат отсортируйте по убыванию общего количества просмотров."
   ]
  },
  {
   "cell_type": "markdown",
   "metadata": {
    "id": "N5rTgGNmDWKn"
   },
   "source": [
    "| month_date  | total_views |\n",
    "| ------------- | ------------- |\n",
    "| 2008-09-01  | 452928568  |\n",
    "| 2008-10-01  | 365400138  |\n",
    "| ...         | ... |"
   ]
  },
  {
   "cell_type": "code",
   "execution_count": 5,
   "metadata": {
    "id": "eWvykcXTDWKo"
   },
   "outputs": [
    {
     "data": {
      "text/html": [
       "<div>\n",
       "<style scoped>\n",
       "    .dataframe tbody tr th:only-of-type {\n",
       "        vertical-align: middle;\n",
       "    }\n",
       "\n",
       "    .dataframe tbody tr th {\n",
       "        vertical-align: top;\n",
       "    }\n",
       "\n",
       "    .dataframe thead th {\n",
       "        text-align: right;\n",
       "    }\n",
       "</style>\n",
       "<table border=\"1\" class=\"dataframe\">\n",
       "  <thead>\n",
       "    <tr style=\"text-align: right;\">\n",
       "      <th></th>\n",
       "      <th>month_date</th>\n",
       "      <th>total_views</th>\n",
       "    </tr>\n",
       "  </thead>\n",
       "  <tbody>\n",
       "    <tr>\n",
       "      <th>0</th>\n",
       "      <td>2008-09-01</td>\n",
       "      <td>452928568</td>\n",
       "    </tr>\n",
       "    <tr>\n",
       "      <th>1</th>\n",
       "      <td>2008-10-01</td>\n",
       "      <td>365400138</td>\n",
       "    </tr>\n",
       "    <tr>\n",
       "      <th>2</th>\n",
       "      <td>2008-11-01</td>\n",
       "      <td>221759651</td>\n",
       "    </tr>\n",
       "    <tr>\n",
       "      <th>3</th>\n",
       "      <td>2008-12-01</td>\n",
       "      <td>197792841</td>\n",
       "    </tr>\n",
       "    <tr>\n",
       "      <th>4</th>\n",
       "      <td>2008-08-01</td>\n",
       "      <td>131367083</td>\n",
       "    </tr>\n",
       "    <tr>\n",
       "      <th>5</th>\n",
       "      <td>2008-07-01</td>\n",
       "      <td>669895</td>\n",
       "    </tr>\n",
       "  </tbody>\n",
       "</table>\n",
       "</div>"
      ],
      "text/plain": [
       "  month_date  total_views\n",
       "0 2008-09-01    452928568\n",
       "1 2008-10-01    365400138\n",
       "2 2008-11-01    221759651\n",
       "3 2008-12-01    197792841\n",
       "4 2008-08-01    131367083\n",
       "5 2008-07-01       669895"
      ]
     },
     "execution_count": 5,
     "metadata": {},
     "output_type": "execute_result"
    }
   ],
   "source": [
    "# запрос\n",
    "query = '''\n",
    "SELECT date_trunc('month', creation_date) AS month_date,\n",
    "    sum(views_count) AS total_views\n",
    "FROM stackoverflow.posts\n",
    "GROUP BY date_trunc('month', creation_date)\n",
    "ORDER BY sum(views_count) DESC\n",
    "'''\n",
    "\n",
    "# выполнение запроса\n",
    "sample_df = pd.read_sql_query(query, con=engine)\n",
    "\n",
    "sample_df"
   ]
  },
  {
   "cell_type": "markdown",
   "metadata": {
    "id": "I_ZvhOxkDWKp"
   },
   "source": [
    "Проанализируйте итоговую таблицу. Отличаются ли данные за разные месяцы? С чем могут быть связаны отличия?"
   ]
  },
  {
   "cell_type": "code",
   "execution_count": null,
   "metadata": {},
   "outputs": [],
   "source": [
    "# напишите ваш ответ здесь"
   ]
  },
  {
   "cell_type": "markdown",
   "metadata": {},
   "source": [
    "Ответ: \n",
    "1. Данные за разные месяцы отличаются.\n",
    "2. Отличия скорее всего связаны с запуском платформы в сентябре 2008 года и взрывным ростом интереса к платформе и последующим спадом этого интереса."
   ]
  },
  {
   "cell_type": "markdown",
   "metadata": {
    "id": "FziIXkn5DWKr"
   },
   "source": [
    "# Задание 2"
   ]
  },
  {
   "cell_type": "markdown",
   "metadata": {
    "id": "fTGESZvYDWKr"
   },
   "source": [
    "Выведите имена самых активных пользователей, которые в первый месяц после регистрации (включая день регистрации) дали больше 100 ответов. Вопросы, которые задавали пользователи, не учитывайте. Для каждого имени пользователя выведите количество уникальных значений `user_id`. Отсортируйте результат по полю с именами в лексикографическом порядке."
   ]
  },
  {
   "cell_type": "markdown",
   "metadata": {
    "id": "W5-tv6Y3DWKs"
   },
   "source": [
    "| display_name | count |\n",
    "| ------------ | ----- |\n",
    "| 1800 INFORMATION | 1 |\n",
    "| Adam Bellaire | 1 |\n",
    "| Adam Davis | 1 |\n",
    "| ... | ... |"
   ]
  },
  {
   "cell_type": "code",
   "execution_count": 7,
   "metadata": {
    "id": "fIO-y-YjDWKt"
   },
   "outputs": [
    {
     "data": {
      "text/html": [
       "<div>\n",
       "<style scoped>\n",
       "    .dataframe tbody tr th:only-of-type {\n",
       "        vertical-align: middle;\n",
       "    }\n",
       "\n",
       "    .dataframe tbody tr th {\n",
       "        vertical-align: top;\n",
       "    }\n",
       "\n",
       "    .dataframe thead th {\n",
       "        text-align: right;\n",
       "    }\n",
       "</style>\n",
       "<table border=\"1\" class=\"dataframe\">\n",
       "  <thead>\n",
       "    <tr style=\"text-align: right;\">\n",
       "      <th></th>\n",
       "      <th>display_name</th>\n",
       "      <th>count</th>\n",
       "    </tr>\n",
       "  </thead>\n",
       "  <tbody>\n",
       "    <tr>\n",
       "      <th>0</th>\n",
       "      <td>1800 INFORMATION</td>\n",
       "      <td>1</td>\n",
       "    </tr>\n",
       "    <tr>\n",
       "      <th>1</th>\n",
       "      <td>Adam Bellaire</td>\n",
       "      <td>1</td>\n",
       "    </tr>\n",
       "    <tr>\n",
       "      <th>2</th>\n",
       "      <td>Adam Davis</td>\n",
       "      <td>1</td>\n",
       "    </tr>\n",
       "    <tr>\n",
       "      <th>3</th>\n",
       "      <td>Adam Liss</td>\n",
       "      <td>1</td>\n",
       "    </tr>\n",
       "    <tr>\n",
       "      <th>4</th>\n",
       "      <td>Alan</td>\n",
       "      <td>8</td>\n",
       "    </tr>\n",
       "    <tr>\n",
       "      <th>...</th>\n",
       "      <td>...</td>\n",
       "      <td>...</td>\n",
       "    </tr>\n",
       "    <tr>\n",
       "      <th>71</th>\n",
       "      <td>leppie</td>\n",
       "      <td>1</td>\n",
       "    </tr>\n",
       "    <tr>\n",
       "      <th>72</th>\n",
       "      <td>lomaxx</td>\n",
       "      <td>1</td>\n",
       "    </tr>\n",
       "    <tr>\n",
       "      <th>73</th>\n",
       "      <td>mattlant</td>\n",
       "      <td>1</td>\n",
       "    </tr>\n",
       "    <tr>\n",
       "      <th>74</th>\n",
       "      <td>paxdiablo</td>\n",
       "      <td>1</td>\n",
       "    </tr>\n",
       "    <tr>\n",
       "      <th>75</th>\n",
       "      <td>tzot</td>\n",
       "      <td>1</td>\n",
       "    </tr>\n",
       "  </tbody>\n",
       "</table>\n",
       "<p>76 rows × 2 columns</p>\n",
       "</div>"
      ],
      "text/plain": [
       "        display_name  count\n",
       "0   1800 INFORMATION      1\n",
       "1      Adam Bellaire      1\n",
       "2         Adam Davis      1\n",
       "3          Adam Liss      1\n",
       "4               Alan      8\n",
       "..               ...    ...\n",
       "71            leppie      1\n",
       "72            lomaxx      1\n",
       "73          mattlant      1\n",
       "74         paxdiablo      1\n",
       "75              tzot      1\n",
       "\n",
       "[76 rows x 2 columns]"
      ]
     },
     "execution_count": 7,
     "metadata": {},
     "output_type": "execute_result"
    }
   ],
   "source": [
    "# запрос\n",
    "query = '''\n",
    "SELECT u.display_name AS display_name,\n",
    "    COUNT(DISTINCT u.id)\n",
    "FROM stackoverflow.posts AS p\n",
    "LEFT JOIN stackoverflow.users AS u ON p.user_id = u.id\n",
    "WHERE p.post_type_id = 2 AND\n",
    "    p.creation_date BETWEEN u.creation_date AND u.creation_date + INTERVAL '1 month'\n",
    "GROUP BY u.display_name\n",
    "HAVING COUNT(p.id) > 100\n",
    "ORDER BY display_name\n",
    "'''\n",
    "\n",
    "# выполнение запроса\n",
    "sample_df = pd.read_sql_query(query, con=engine)\n",
    "\n",
    "sample_df"
   ]
  },
  {
   "cell_type": "code",
   "execution_count": 8,
   "metadata": {
    "scrolled": true
   },
   "outputs": [
    {
     "data": {
      "text/plain": [
       "array([ 1,  8, 15, 29, 10, 21, 12,  7,  9, 16,  5, 11,  3, 19])"
      ]
     },
     "execution_count": 8,
     "metadata": {},
     "output_type": "execute_result"
    }
   ],
   "source": [
    "# Проверим уникальные значения признака count\n",
    "sample_df['count'].unique()"
   ]
  },
  {
   "cell_type": "code",
   "execution_count": 9,
   "metadata": {},
   "outputs": [
    {
     "data": {
      "text/plain": [
       "array(['1800 INFORMATION', 'Adam Bellaire', 'Adam Davis', 'Adam Liss',\n",
       "       'Alan', 'Amy B', 'Ben Hoffstein', 'Brian', 'Cade Roux', 'CesarB',\n",
       "       'Chris', 'ConcernedOfTunbridgeWells', 'Craig', 'Dale Ragan', 'Dan',\n",
       "       'Eric Z Beard', 'Espo', 'FlySwat', 'Franci Penov', 'GEOCHET',\n",
       "       'GateKiller', 'Greg', 'Gulzar Nazim', 'Ilya Kochetov',\n",
       "       'James Curran', 'Jim', 'Joe', 'Joel Coehoorn',\n",
       "       'Johannes Schaub - litb', 'John Millikin', 'Jon Limjap',\n",
       "       'Jon Skeet', 'Jorge Ferreira', 'Josh', 'Keith', 'Kevin', 'Kibbee',\n",
       "       'Konrad Rudolph', 'Lasse Vågsæther Karlsen', 'Marc Gravell',\n",
       "       'Mark', 'Mark Cidade', 'Mark Harrison', 'Matt', 'Matt Hamilton',\n",
       "       'Michael Burr', 'Michael Stum', 'Mitchel Sellers', 'Nick',\n",
       "       'Norman Ramsey', 'Oli', 'Orion Edwards', 'Paul Nathan', 'PhiLho',\n",
       "       'Rob', 'Rob Cooper', 'Rob Walker', 'Ryan', 'S.Lott', 'Sklivvz',\n",
       "       'Steven A. Lowe', 'TheSmurf', 'Tom', 'Vilx-', 'Vinko Vrsalovic',\n",
       "       'aku', 'anjanb', 'dkretz', 'frankodwyer', 'gbjbaanb', 'jfs',\n",
       "       'leppie', 'lomaxx', 'mattlant', 'paxdiablo', 'tzot'], dtype=object)"
      ]
     },
     "execution_count": 9,
     "metadata": {},
     "output_type": "execute_result"
    }
   ],
   "source": [
    "# Проверим уникальные значения признака display_name\n",
    "sample_df['display_name'].values"
   ]
  },
  {
   "cell_type": "code",
   "execution_count": 10,
   "metadata": {},
   "outputs": [],
   "source": [
    "# отбросим все имена, которые встречаются только один раз\n",
    "sample_df = sample_df.query('count != 1')"
   ]
  },
  {
   "cell_type": "code",
   "execution_count": 15,
   "metadata": {},
   "outputs": [
    {
     "data": {
      "image/png": "[encoded data removed]",
      "text/plain": [
       "<Figure size 1152x1152 with 1 Axes>"
      ]
     },
     "metadata": {
      "needs_background": "light"
     },
     "output_type": "display_data"
    }
   ],
   "source": [
    "# построим столбчатую диаграмму, чтобы увидеть какие именна часто повторяются\n",
    "y = sample_df['count'].values\n",
    "x = sample_df['display_name'].values\n",
    "\n",
    "\n",
    "plt.figure(figsize=(16,16))\n",
    "plt.title('Количество одинаковых имён пользователей')\n",
    "plt.xticks(rotation=45, ha='right')\n",
    "plt.bar(x, y)\n",
    "plt.show()"
   ]
  },
  {
   "cell_type": "markdown",
   "metadata": {
    "id": "I3Wr82TplKpI"
   },
   "source": [
    "Какие аномалии наблюдаются в данных? О чём они говорят?"
   ]
  },
  {
   "cell_type": "code",
   "execution_count": 10,
   "metadata": {
    "id": "CEIGGQ6ODWKy"
   },
   "outputs": [],
   "source": [
    "# напишите ваш ответ здесь"
   ]
  },
  {
   "cell_type": "markdown",
   "metadata": {},
   "source": [
    "Ответ:\n",
    "\n",
    "В полученной выборке некоторые имена пользователей дублируются. По диаграмме видно, что часто дублируются распространенные имена. Среди имён встречается аномалия - имя `jfs` существует более чем у одного пользователя."
   ]
  },
  {
   "cell_type": "markdown",
   "metadata": {
    "id": "JhM2xXj5DWKu"
   },
   "source": [
    "# Задание 3"
   ]
  },
  {
   "cell_type": "markdown",
   "metadata": {
    "id": "IS6xPqyyDWKu"
   },
   "source": [
    "Выведите количество постов за 2008 год по месяцам. Отберите посты от пользователей, которые зарегистрировались в сентябре 2008 года и сделали хотя бы один пост в декабре того же года. Отсортируйте таблицу по значению месяца по убыванию."
   ]
  },
  {
   "cell_type": "markdown",
   "metadata": {
    "id": "WmjhjV2xDWKv"
   },
   "source": [
    "| month | count |\n",
    "| ------|------ |\n",
    "| 2008-12-01 | 17641 |\n",
    "| 2008-11-01 | 18294 |\n",
    "| ... | ... |"
   ]
  },
  {
   "cell_type": "code",
   "execution_count": 11,
   "metadata": {
    "id": "kVu0FB8WDWKv"
   },
   "outputs": [
    {
     "data": {
      "text/html": [
       "<div>\n",
       "<style scoped>\n",
       "    .dataframe tbody tr th:only-of-type {\n",
       "        vertical-align: middle;\n",
       "    }\n",
       "\n",
       "    .dataframe tbody tr th {\n",
       "        vertical-align: top;\n",
       "    }\n",
       "\n",
       "    .dataframe thead th {\n",
       "        text-align: right;\n",
       "    }\n",
       "</style>\n",
       "<table border=\"1\" class=\"dataframe\">\n",
       "  <thead>\n",
       "    <tr style=\"text-align: right;\">\n",
       "      <th></th>\n",
       "      <th>month</th>\n",
       "      <th>count</th>\n",
       "    </tr>\n",
       "  </thead>\n",
       "  <tbody>\n",
       "    <tr>\n",
       "      <th>0</th>\n",
       "      <td>2008-12-01</td>\n",
       "      <td>17641</td>\n",
       "    </tr>\n",
       "    <tr>\n",
       "      <th>1</th>\n",
       "      <td>2008-11-01</td>\n",
       "      <td>18294</td>\n",
       "    </tr>\n",
       "    <tr>\n",
       "      <th>2</th>\n",
       "      <td>2008-10-01</td>\n",
       "      <td>27171</td>\n",
       "    </tr>\n",
       "    <tr>\n",
       "      <th>3</th>\n",
       "      <td>2008-09-01</td>\n",
       "      <td>24870</td>\n",
       "    </tr>\n",
       "    <tr>\n",
       "      <th>4</th>\n",
       "      <td>2008-08-01</td>\n",
       "      <td>32</td>\n",
       "    </tr>\n",
       "  </tbody>\n",
       "</table>\n",
       "</div>"
      ],
      "text/plain": [
       "       month  count\n",
       "0 2008-12-01  17641\n",
       "1 2008-11-01  18294\n",
       "2 2008-10-01  27171\n",
       "3 2008-09-01  24870\n",
       "4 2008-08-01     32"
      ]
     },
     "execution_count": 11,
     "metadata": {},
     "output_type": "execute_result"
    }
   ],
   "source": [
    "# запрос\n",
    "query = '''\n",
    "SELECT DATE_TRUNC('month', p.creation_date) AS month,\n",
    "    COUNT(p.id)\n",
    "FROM stackoverflow.posts AS p\n",
    "WHERE p.user_id IN (SELECT p.user_id\n",
    "    FROM stackoverflow.posts AS p\n",
    "    LEFT JOIN stackoverflow.users AS u ON p.user_id = u.id\n",
    "    WHERE EXTRACT(MONTH FROM u.creation_date) = 9 \n",
    "        AND EXTRACT(YEAR FROM u.creation_date) = 2008 \n",
    "        AND EXTRACT(MONTH FROM p.creation_date) = 12\n",
    "        AND EXTRACT(YEAR FROM p.creation_date) = 2008)\n",
    "GROUP BY DATE_TRUNC('month', p.creation_date)\n",
    "ORDER BY month DESC\n",
    "'''\n",
    "\n",
    "# выполнение запроса\n",
    "sample_df = pd.read_sql_query(query, con=engine) \n",
    "\n",
    "sample_df"
   ]
  },
  {
   "cell_type": "markdown",
   "metadata": {
    "id": "Vnxn9DVHDWKx"
   },
   "source": [
    "Изучите данные: есть ли в них аномалии? Предположите, почему могли появиться аномальные значения."
   ]
  },
  {
   "cell_type": "code",
   "execution_count": 12,
   "metadata": {
    "id": "MMVIz4yMlKpN"
   },
   "outputs": [],
   "source": [
    "# напишите ваш ответ здесь"
   ]
  },
  {
   "cell_type": "markdown",
   "metadata": {},
   "source": [
    "Ответ:\n",
    "\n",
    "Да, присутствует аномалия - 32 поста было написано в августе. Пользователи в выборке создали аккаунты только в сентябре. Вероятно аномалия связана с тем, что посты могли быть созданы разработчиками или тестировщиками платформы. Возможно дату создания аккаунта после запуска платформы в сентябре 2008 года им поменяли. "
   ]
  },
  {
   "cell_type": "markdown",
   "metadata": {
    "id": "5Pcizm0DDWKz"
   },
   "source": [
    "# Задание 4"
   ]
  },
  {
   "cell_type": "markdown",
   "metadata": {
    "id": "KUZPF6vHDWKz"
   },
   "source": [
    "Используя данные о постах, выведите несколько полей:\n",
    "\n",
    "- идентификатор пользователя, который написал пост;\n",
    "- дата создания поста;\n",
    "- количество просмотров у текущего поста;\n",
    "- сумму просмотров постов автора с накоплением.\n",
    "\n",
    "Данные в таблице должны быть отсортированы по возрастанию идентификаторов пользователей, а данные об одном и том же пользователе — по возрастанию даты создания поста."
   ]
  },
  {
   "cell_type": "markdown",
   "metadata": {
    "id": "ZpsTUVDYDWK0"
   },
   "source": [
    "| user_id | creation_date | views_count | cumulative_count |\n",
    "| ------ | -------------- | ----------- | ---------------- |\n",
    "| 1 | 2008-07-31 23:41:00  | 480476   | 480476  |\n",
    "| 1 | 2008-07-31 23:55:38  | 136033 | 616509  | \n",
    "| 1 | 2008-07-31 23:56:41  | 0 |  616509  |\n",
    "| ... | ... | ... | ... |\n",
    "| 2 | 2008-07-31 23:56:41 | 79087  | 79087 |\n",
    "| 2 | 2008-08-01 05:09:56 | 65443 | 144530 |\n",
    "| ... | ...  | ...  | ...  |"
   ]
  },
  {
   "cell_type": "code",
   "execution_count": 13,
   "metadata": {
    "id": "hDoJhMzfDWK0"
   },
   "outputs": [
    {
     "data": {
      "text/html": [
       "<div>\n",
       "<style scoped>\n",
       "    .dataframe tbody tr th:only-of-type {\n",
       "        vertical-align: middle;\n",
       "    }\n",
       "\n",
       "    .dataframe tbody tr th {\n",
       "        vertical-align: top;\n",
       "    }\n",
       "\n",
       "    .dataframe thead th {\n",
       "        text-align: right;\n",
       "    }\n",
       "</style>\n",
       "<table border=\"1\" class=\"dataframe\">\n",
       "  <thead>\n",
       "    <tr style=\"text-align: right;\">\n",
       "      <th></th>\n",
       "      <th>user_id</th>\n",
       "      <th>creation_date</th>\n",
       "      <th>views_count</th>\n",
       "      <th>cumulative_count</th>\n",
       "    </tr>\n",
       "  </thead>\n",
       "  <tbody>\n",
       "    <tr>\n",
       "      <th>0</th>\n",
       "      <td>1</td>\n",
       "      <td>2008-07-31 23:41:00</td>\n",
       "      <td>480476</td>\n",
       "      <td>480476</td>\n",
       "    </tr>\n",
       "    <tr>\n",
       "      <th>1</th>\n",
       "      <td>1</td>\n",
       "      <td>2008-07-31 23:55:38</td>\n",
       "      <td>136033</td>\n",
       "      <td>616509</td>\n",
       "    </tr>\n",
       "    <tr>\n",
       "      <th>2</th>\n",
       "      <td>1</td>\n",
       "      <td>2008-07-31 23:56:41</td>\n",
       "      <td>0</td>\n",
       "      <td>616509</td>\n",
       "    </tr>\n",
       "    <tr>\n",
       "      <th>3</th>\n",
       "      <td>1</td>\n",
       "      <td>2008-08-04 02:45:08</td>\n",
       "      <td>0</td>\n",
       "      <td>616509</td>\n",
       "    </tr>\n",
       "    <tr>\n",
       "      <th>4</th>\n",
       "      <td>1</td>\n",
       "      <td>2008-08-04 04:31:03</td>\n",
       "      <td>0</td>\n",
       "      <td>616509</td>\n",
       "    </tr>\n",
       "    <tr>\n",
       "      <th>...</th>\n",
       "      <td>...</td>\n",
       "      <td>...</td>\n",
       "      <td>...</td>\n",
       "      <td>...</td>\n",
       "    </tr>\n",
       "    <tr>\n",
       "      <th>243791</th>\n",
       "      <td>5696608</td>\n",
       "      <td>2008-12-23 16:00:37</td>\n",
       "      <td>0</td>\n",
       "      <td>2804</td>\n",
       "    </tr>\n",
       "    <tr>\n",
       "      <th>243792</th>\n",
       "      <td>5696608</td>\n",
       "      <td>2008-12-23 17:35:09</td>\n",
       "      <td>0</td>\n",
       "      <td>2804</td>\n",
       "    </tr>\n",
       "    <tr>\n",
       "      <th>243793</th>\n",
       "      <td>5696608</td>\n",
       "      <td>2008-12-24 01:02:48</td>\n",
       "      <td>0</td>\n",
       "      <td>2804</td>\n",
       "    </tr>\n",
       "    <tr>\n",
       "      <th>243794</th>\n",
       "      <td>5696608</td>\n",
       "      <td>2008-12-30 14:34:45</td>\n",
       "      <td>0</td>\n",
       "      <td>2804</td>\n",
       "    </tr>\n",
       "    <tr>\n",
       "      <th>243795</th>\n",
       "      <td>5696608</td>\n",
       "      <td>2008-12-30 16:32:12</td>\n",
       "      <td>0</td>\n",
       "      <td>2804</td>\n",
       "    </tr>\n",
       "  </tbody>\n",
       "</table>\n",
       "<p>243796 rows × 4 columns</p>\n",
       "</div>"
      ],
      "text/plain": [
       "        user_id       creation_date  views_count  cumulative_count\n",
       "0             1 2008-07-31 23:41:00       480476            480476\n",
       "1             1 2008-07-31 23:55:38       136033            616509\n",
       "2             1 2008-07-31 23:56:41            0            616509\n",
       "3             1 2008-08-04 02:45:08            0            616509\n",
       "4             1 2008-08-04 04:31:03            0            616509\n",
       "...         ...                 ...          ...               ...\n",
       "243791  5696608 2008-12-23 16:00:37            0              2804\n",
       "243792  5696608 2008-12-23 17:35:09            0              2804\n",
       "243793  5696608 2008-12-24 01:02:48            0              2804\n",
       "243794  5696608 2008-12-30 14:34:45            0              2804\n",
       "243795  5696608 2008-12-30 16:32:12            0              2804\n",
       "\n",
       "[243796 rows x 4 columns]"
      ]
     },
     "execution_count": 13,
     "metadata": {},
     "output_type": "execute_result"
    }
   ],
   "source": [
    "# запрос\n",
    "query = '''\n",
    "SELECT user_id,\n",
    "    creation_date,\n",
    "    views_count,\n",
    "    SUM(views_count) OVER(PARTITION BY user_id ORDER BY creation_date) AS cumulative_count\n",
    "FROM stackoverflow.posts\n",
    "'''\n",
    "\n",
    "# выполнение запроса\n",
    "sample_df = pd.read_sql_query(query, con=engine)\n",
    "\n",
    "sample_df"
   ]
  },
  {
   "cell_type": "markdown",
   "metadata": {
    "id": "N0kHRHvIDWK2"
   },
   "source": [
    "# Задание 5"
   ]
  },
  {
   "cell_type": "markdown",
   "metadata": {
    "id": "gBgvmPtODWK2"
   },
   "source": [
    "Найдите среднее количество постов пользователей в день за август 2008 года. Отберите данные о пользователях, которые опубликовали больше 120 постов за август. Дни без публикаций не учитывайте. \n",
    "\n",
    "Отсортируйте результат по возрастанию среднего количества постов. Значения можно не округлять."
   ]
  },
  {
   "cell_type": "markdown",
   "metadata": {
    "id": "nfzR08BODWK3"
   },
   "source": [
    "| user_id | avg_daily |\n",
    "| ------- | --------- |\n",
    "| 116     | 4.777778  |\n",
    "| 234     | 5.208333  |\n",
    "| ...     | ... |"
   ]
  },
  {
   "cell_type": "code",
   "execution_count": 16,
   "metadata": {
    "id": "YFyPNz5GDWK3"
   },
   "outputs": [
    {
     "data": {
      "text/html": [
       "<div>\n",
       "<style scoped>\n",
       "    .dataframe tbody tr th:only-of-type {\n",
       "        vertical-align: middle;\n",
       "    }\n",
       "\n",
       "    .dataframe tbody tr th {\n",
       "        vertical-align: top;\n",
       "    }\n",
       "\n",
       "    .dataframe thead th {\n",
       "        text-align: right;\n",
       "    }\n",
       "</style>\n",
       "<table border=\"1\" class=\"dataframe\">\n",
       "  <thead>\n",
       "    <tr style=\"text-align: right;\">\n",
       "      <th></th>\n",
       "      <th>user_id</th>\n",
       "      <th>avg_daily</th>\n",
       "    </tr>\n",
       "  </thead>\n",
       "  <tbody>\n",
       "    <tr>\n",
       "      <th>0</th>\n",
       "      <td>116</td>\n",
       "      <td>4.777778</td>\n",
       "    </tr>\n",
       "    <tr>\n",
       "      <th>1</th>\n",
       "      <td>234</td>\n",
       "      <td>5.208333</td>\n",
       "    </tr>\n",
       "    <tr>\n",
       "      <th>2</th>\n",
       "      <td>91</td>\n",
       "      <td>5.681818</td>\n",
       "    </tr>\n",
       "    <tr>\n",
       "      <th>3</th>\n",
       "      <td>905</td>\n",
       "      <td>7.000000</td>\n",
       "    </tr>\n",
       "    <tr>\n",
       "      <th>4</th>\n",
       "      <td>383</td>\n",
       "      <td>7.277778</td>\n",
       "    </tr>\n",
       "  </tbody>\n",
       "</table>\n",
       "</div>"
      ],
      "text/plain": [
       "   user_id  avg_daily\n",
       "0      116   4.777778\n",
       "1      234   5.208333\n",
       "2       91   5.681818\n",
       "3      905   7.000000\n",
       "4      383   7.277778"
      ]
     },
     "execution_count": 16,
     "metadata": {},
     "output_type": "execute_result"
    }
   ],
   "source": [
    "# запрос\n",
    "query = '''\n",
    "WITH first_query AS\n",
    "    (SELECT user_id,\n",
    "        DATE_TRUNC('day', creation_date) AS day_of_month,\n",
    "        COUNT(id) as posts_in_this_day\n",
    "    FROM stackoverflow.posts\n",
    "    WHERE user_id IN (SELECT user_id\n",
    "        FROM stackoverflow.posts\n",
    "        WHERE EXTRACT(MONTH FROM creation_date) = 8\n",
    "            AND EXTRACT(YEAR FROM creation_date) = 2008\n",
    "        GROUP BY user_id\n",
    "        HAVING COUNT(id) > 120)\n",
    "        AND EXTRACT(MONTH FROM creation_date) = 8\n",
    "        AND EXTRACT(YEAR FROM creation_date) = 2008\n",
    "    GROUP BY user_id, DATE_TRUNC('day', creation_date))\n",
    "    \n",
    "\n",
    "SELECT user_id,\n",
    "    AVG(posts_in_this_day) AS avg_daily\n",
    "FROM first_query\n",
    "GROUP BY user_id\n",
    "ORDER BY avg_daily\n",
    "'''\n",
    "\n",
    "# выполнение запроса\n",
    "sample_df = pd.read_sql_query(query, con=engine)\n",
    "\n",
    "sample_df"
   ]
  },
  {
   "cell_type": "markdown",
   "metadata": {
    "id": "EQ0dcFH4DWK5"
   },
   "source": [
    "# Задание 6"
   ]
  },
  {
   "cell_type": "markdown",
   "metadata": {
    "id": "c7flfg_hDWK5"
   },
   "source": [
    "Сколько в среднем дней в период с 1 по 7 декабря 2008 года пользователи взаимодействовали с платформой? Для каждого пользователя отберите дни, в которые он или она опубликовали хотя бы один пост. Нужно получить одно целое число — не забудьте округлить результат. "
   ]
  },
  {
   "cell_type": "markdown",
   "metadata": {
    "id": "RC1Ibzm9DWK6"
   },
   "source": [
    "| result |\n",
    "| -----  |\n",
    "| <целое число> |"
   ]
  },
  {
   "cell_type": "code",
   "execution_count": 15,
   "metadata": {
    "id": "kZ7LXTr6DWK6"
   },
   "outputs": [
    {
     "data": {
      "text/html": [
       "<div>\n",
       "<style scoped>\n",
       "    .dataframe tbody tr th:only-of-type {\n",
       "        vertical-align: middle;\n",
       "    }\n",
       "\n",
       "    .dataframe tbody tr th {\n",
       "        vertical-align: top;\n",
       "    }\n",
       "\n",
       "    .dataframe thead th {\n",
       "        text-align: right;\n",
       "    }\n",
       "</style>\n",
       "<table border=\"1\" class=\"dataframe\">\n",
       "  <thead>\n",
       "    <tr style=\"text-align: right;\">\n",
       "      <th></th>\n",
       "      <th>result</th>\n",
       "    </tr>\n",
       "  </thead>\n",
       "  <tbody>\n",
       "    <tr>\n",
       "      <th>0</th>\n",
       "      <td>2</td>\n",
       "    </tr>\n",
       "  </tbody>\n",
       "</table>\n",
       "</div>"
      ],
      "text/plain": [
       "   result\n",
       "0       2"
      ]
     },
     "execution_count": 15,
     "metadata": {},
     "output_type": "execute_result"
    }
   ],
   "source": [
    "# запрос\n",
    "query = '''\n",
    "WITH first_query AS (SELECT id, creation_date, user_id,\n",
    "        DENSE_RANK() OVER(PARTITION BY user_id ORDER BY DATE_TRUNC('day', creation_date)) AS user_days\n",
    "    FROM stackoverflow.posts\n",
    "    WHERE creation_date BETWEEN '2008-12-1' AND '2008-12-7')\n",
    "    \n",
    "SELECT ROUND(AVG(user_days))::integer AS result\n",
    "FROM first_query\n",
    "'''\n",
    "\n",
    "# выполнение запроса\n",
    "sample_df = pd.read_sql_query(query, con=engine)\n",
    "\n",
    "sample_df"
   ]
  },
  {
   "cell_type": "markdown",
   "metadata": {
    "id": "UJFtNNggDWK7"
   },
   "source": [
    "Проанализируйте итоговую таблицу — какие выводы можно сделать?"
   ]
  },
  {
   "cell_type": "code",
   "execution_count": 16,
   "metadata": {
    "id": "LfUuYz-1DWK8"
   },
   "outputs": [],
   "source": [
    "# напишите ваш ответ здесь"
   ]
  },
  {
   "cell_type": "markdown",
   "metadata": {},
   "source": [
    "Ответ:\n",
    "\n",
    "С 1 по 7 декабря 2008 года пользователи взаимодействовали с платформой в среднем 2 дня"
   ]
  },
  {
   "cell_type": "markdown",
   "metadata": {
    "id": "wfOmqmfLDWK8"
   },
   "source": [
    "# Задание 7"
   ]
  },
  {
   "cell_type": "markdown",
   "metadata": {
    "id": "X4ARQimADWK9"
   },
   "source": [
    "Выведите историю активности каждого пользователя в таком виде: идентификатор пользователя, дата публикации поста. Отсортируйте вывод по возрастанию идентификаторов пользователей, а для каждого пользователя — по возрастанию даты публикации.\n",
    "\n",
    "Добавьте в таблицу новое поле: для каждого поста в нём будет указано название месяца предпоследней публикации пользователя относительно текущей. Если такой публикации нет, укажите `NULL`.  Python автоматически поменяет `NULL` на `None`, но дополнительно преобразовывать значения `None` вам не нужно.\n",
    "\n",
    "Посмотрите внимательно на образец таблицы: для первых двух постов предпоследней публикации нет, но, начиная с третьего поста, в новое поле входит нужный месяц. Для следующего пользователя в первые две записи поля `second_last_month` тоже войдёт `NULL`."
   ]
  },
  {
   "cell_type": "markdown",
   "metadata": {
    "id": "IGPjRP01DWK9"
   },
   "source": [
    "| user_id | creation_date | second_last_month |\n",
    "| ------- | ------------- | ----------------- |\n",
    "| 1       | 2008-07-31 23:41:00 | None |\n",
    "| 1       | 2008-07-31 23:55:38 | None |\n",
    "| 1       | 2008-07-31 23:56:41 | July |\n",
    "| 1       | 2008-08-04 02:45:08 | July |\n",
    "| 1       | 2008-08-04 04:31:03 | July |\n",
    "| 1       | 2008-08-04 08:04:42 | August |\n",
    "| ... | ... | ... |"
   ]
  },
  {
   "cell_type": "code",
   "execution_count": 17,
   "metadata": {
    "id": "HzI1vhaMDWK-"
   },
   "outputs": [
    {
     "data": {
      "text/html": [
       "<div>\n",
       "<style scoped>\n",
       "    .dataframe tbody tr th:only-of-type {\n",
       "        vertical-align: middle;\n",
       "    }\n",
       "\n",
       "    .dataframe tbody tr th {\n",
       "        vertical-align: top;\n",
       "    }\n",
       "\n",
       "    .dataframe thead th {\n",
       "        text-align: right;\n",
       "    }\n",
       "</style>\n",
       "<table border=\"1\" class=\"dataframe\">\n",
       "  <thead>\n",
       "    <tr style=\"text-align: right;\">\n",
       "      <th></th>\n",
       "      <th>user_id</th>\n",
       "      <th>creation_date</th>\n",
       "      <th>second_last_month</th>\n",
       "    </tr>\n",
       "  </thead>\n",
       "  <tbody>\n",
       "    <tr>\n",
       "      <th>0</th>\n",
       "      <td>1</td>\n",
       "      <td>2008-07-31 23:41:00</td>\n",
       "      <td>None</td>\n",
       "    </tr>\n",
       "    <tr>\n",
       "      <th>1</th>\n",
       "      <td>1</td>\n",
       "      <td>2008-07-31 23:55:38</td>\n",
       "      <td>None</td>\n",
       "    </tr>\n",
       "    <tr>\n",
       "      <th>2</th>\n",
       "      <td>1</td>\n",
       "      <td>2008-07-31 23:56:41</td>\n",
       "      <td>July</td>\n",
       "    </tr>\n",
       "    <tr>\n",
       "      <th>3</th>\n",
       "      <td>1</td>\n",
       "      <td>2008-08-04 02:45:08</td>\n",
       "      <td>July</td>\n",
       "    </tr>\n",
       "    <tr>\n",
       "      <th>4</th>\n",
       "      <td>1</td>\n",
       "      <td>2008-08-04 04:31:03</td>\n",
       "      <td>July</td>\n",
       "    </tr>\n",
       "    <tr>\n",
       "      <th>...</th>\n",
       "      <td>...</td>\n",
       "      <td>...</td>\n",
       "      <td>...</td>\n",
       "    </tr>\n",
       "    <tr>\n",
       "      <th>243791</th>\n",
       "      <td>5696608</td>\n",
       "      <td>2008-12-23 16:00:37</td>\n",
       "      <td>December</td>\n",
       "    </tr>\n",
       "    <tr>\n",
       "      <th>243792</th>\n",
       "      <td>5696608</td>\n",
       "      <td>2008-12-23 17:35:09</td>\n",
       "      <td>December</td>\n",
       "    </tr>\n",
       "    <tr>\n",
       "      <th>243793</th>\n",
       "      <td>5696608</td>\n",
       "      <td>2008-12-24 01:02:48</td>\n",
       "      <td>December</td>\n",
       "    </tr>\n",
       "    <tr>\n",
       "      <th>243794</th>\n",
       "      <td>5696608</td>\n",
       "      <td>2008-12-30 14:34:45</td>\n",
       "      <td>December</td>\n",
       "    </tr>\n",
       "    <tr>\n",
       "      <th>243795</th>\n",
       "      <td>5696608</td>\n",
       "      <td>2008-12-30 16:32:12</td>\n",
       "      <td>December</td>\n",
       "    </tr>\n",
       "  </tbody>\n",
       "</table>\n",
       "<p>243796 rows × 3 columns</p>\n",
       "</div>"
      ],
      "text/plain": [
       "        user_id       creation_date second_last_month\n",
       "0             1 2008-07-31 23:41:00              None\n",
       "1             1 2008-07-31 23:55:38              None\n",
       "2             1 2008-07-31 23:56:41         July     \n",
       "3             1 2008-08-04 02:45:08         July     \n",
       "4             1 2008-08-04 04:31:03         July     \n",
       "...         ...                 ...               ...\n",
       "243791  5696608 2008-12-23 16:00:37         December \n",
       "243792  5696608 2008-12-23 17:35:09         December \n",
       "243793  5696608 2008-12-24 01:02:48         December \n",
       "243794  5696608 2008-12-30 14:34:45         December \n",
       "243795  5696608 2008-12-30 16:32:12         December \n",
       "\n",
       "[243796 rows x 3 columns]"
      ]
     },
     "execution_count": 17,
     "metadata": {},
     "output_type": "execute_result"
    }
   ],
   "source": [
    "# запрос\n",
    "query = '''\n",
    "SELECT user_id, creation_date,\n",
    "    LAG(TO_CHAR(creation_date, 'Month'), 2) OVER(PARTITION BY user_id ORDER BY creation_date) AS second_last_month\n",
    "FROM stackoverflow.posts\n",
    "'''\n",
    "\n",
    "# выполнение запроса\n",
    "sample_df = pd.read_sql_query(query, con=engine)\n",
    "\n",
    "sample_df"
   ]
  },
  {
   "cell_type": "markdown",
   "metadata": {
    "id": "tf9qq2yzDWK_"
   },
   "source": [
    "# Задание 8"
   ]
  },
  {
   "cell_type": "markdown",
   "metadata": {
    "id": "gfwLVXBYDWLA"
   },
   "source": [
    "Рассчитайте аналог Retention Rate по месяцам для пользователей StackOverflow. Объедините пользователей в когорты по месяцу их первого поста. Возвращение определяйте по наличию поста в текущем месяце. "
   ]
  },
  {
   "cell_type": "markdown",
   "metadata": {
    "id": "kN2ic39WlKpl"
   },
   "source": [
    "| cohort_dt | session_date | users_cnt | cohort_users_cnt | retention_rate |\n",
    "| --- | --- | --- | --- | --- |\n",
    "| 2008-07-01 00:00:00 | 2008-07-01 00:00:00 | 3 | 3 | 100 |\n",
    "| 2008-07-01 00:00:00 | 2008-08-01 00:00:00 | 2 | 3 | 66,67 |\n",
    "| 2008-07-01 00:00:00 | 2008-09-01 00:00:00 | 1 | 3 | 33,33 |\n",
    "| 2008-07-01 00:00:00 | 2008-10-01 00:00:00 | 2 | 3 | 66,67 |\n",
    "| 2008-07-01 00:00:00 | 2008-11-01 00:00:00 | 1 | 3 | 33,33 |\n",
    "| 2008-07-01 00:00:00 | 2008-12-01 00:00:00 | 2 | 3 | 66,67 |\n",
    "| 2008-08-01 00:00:00 | 2008-08-01 00:00:00 | 2151 | 2151 | 100 |\n",
    "| ... | ... | ... | ... | ... |"
   ]
  },
  {
   "cell_type": "code",
   "execution_count": 18,
   "metadata": {
    "id": "LUgFmwmTDWLB"
   },
   "outputs": [
    {
     "data": {
      "text/html": [
       "<div>\n",
       "<style scoped>\n",
       "    .dataframe tbody tr th:only-of-type {\n",
       "        vertical-align: middle;\n",
       "    }\n",
       "\n",
       "    .dataframe tbody tr th {\n",
       "        vertical-align: top;\n",
       "    }\n",
       "\n",
       "    .dataframe thead th {\n",
       "        text-align: right;\n",
       "    }\n",
       "</style>\n",
       "<table border=\"1\" class=\"dataframe\">\n",
       "  <thead>\n",
       "    <tr style=\"text-align: right;\">\n",
       "      <th></th>\n",
       "      <th>cohort_dt</th>\n",
       "      <th>session_date</th>\n",
       "      <th>users_cnt</th>\n",
       "      <th>cohort_users_cnt</th>\n",
       "      <th>retention_rate</th>\n",
       "    </tr>\n",
       "  </thead>\n",
       "  <tbody>\n",
       "    <tr>\n",
       "      <th>0</th>\n",
       "      <td>2008-07-01</td>\n",
       "      <td>2008-07-01</td>\n",
       "      <td>3</td>\n",
       "      <td>3</td>\n",
       "      <td>100.00</td>\n",
       "    </tr>\n",
       "    <tr>\n",
       "      <th>1</th>\n",
       "      <td>2008-07-01</td>\n",
       "      <td>2008-08-01</td>\n",
       "      <td>2</td>\n",
       "      <td>3</td>\n",
       "      <td>66.67</td>\n",
       "    </tr>\n",
       "    <tr>\n",
       "      <th>2</th>\n",
       "      <td>2008-07-01</td>\n",
       "      <td>2008-09-01</td>\n",
       "      <td>1</td>\n",
       "      <td>3</td>\n",
       "      <td>33.33</td>\n",
       "    </tr>\n",
       "    <tr>\n",
       "      <th>3</th>\n",
       "      <td>2008-07-01</td>\n",
       "      <td>2008-10-01</td>\n",
       "      <td>2</td>\n",
       "      <td>3</td>\n",
       "      <td>66.67</td>\n",
       "    </tr>\n",
       "    <tr>\n",
       "      <th>4</th>\n",
       "      <td>2008-07-01</td>\n",
       "      <td>2008-11-01</td>\n",
       "      <td>1</td>\n",
       "      <td>3</td>\n",
       "      <td>33.33</td>\n",
       "    </tr>\n",
       "    <tr>\n",
       "      <th>5</th>\n",
       "      <td>2008-07-01</td>\n",
       "      <td>2008-12-01</td>\n",
       "      <td>2</td>\n",
       "      <td>3</td>\n",
       "      <td>66.67</td>\n",
       "    </tr>\n",
       "    <tr>\n",
       "      <th>6</th>\n",
       "      <td>2008-08-01</td>\n",
       "      <td>2008-08-01</td>\n",
       "      <td>2151</td>\n",
       "      <td>2151</td>\n",
       "      <td>100.00</td>\n",
       "    </tr>\n",
       "    <tr>\n",
       "      <th>7</th>\n",
       "      <td>2008-08-01</td>\n",
       "      <td>2008-09-01</td>\n",
       "      <td>1571</td>\n",
       "      <td>2151</td>\n",
       "      <td>73.04</td>\n",
       "    </tr>\n",
       "    <tr>\n",
       "      <th>8</th>\n",
       "      <td>2008-08-01</td>\n",
       "      <td>2008-10-01</td>\n",
       "      <td>1275</td>\n",
       "      <td>2151</td>\n",
       "      <td>59.27</td>\n",
       "    </tr>\n",
       "    <tr>\n",
       "      <th>9</th>\n",
       "      <td>2008-08-01</td>\n",
       "      <td>2008-11-01</td>\n",
       "      <td>1050</td>\n",
       "      <td>2151</td>\n",
       "      <td>48.81</td>\n",
       "    </tr>\n",
       "    <tr>\n",
       "      <th>10</th>\n",
       "      <td>2008-08-01</td>\n",
       "      <td>2008-12-01</td>\n",
       "      <td>894</td>\n",
       "      <td>2151</td>\n",
       "      <td>41.56</td>\n",
       "    </tr>\n",
       "    <tr>\n",
       "      <th>11</th>\n",
       "      <td>2008-09-01</td>\n",
       "      <td>2008-09-01</td>\n",
       "      <td>7678</td>\n",
       "      <td>7678</td>\n",
       "      <td>100.00</td>\n",
       "    </tr>\n",
       "    <tr>\n",
       "      <th>12</th>\n",
       "      <td>2008-09-01</td>\n",
       "      <td>2008-10-01</td>\n",
       "      <td>4132</td>\n",
       "      <td>7678</td>\n",
       "      <td>53.82</td>\n",
       "    </tr>\n",
       "    <tr>\n",
       "      <th>13</th>\n",
       "      <td>2008-09-01</td>\n",
       "      <td>2008-11-01</td>\n",
       "      <td>2966</td>\n",
       "      <td>7678</td>\n",
       "      <td>38.63</td>\n",
       "    </tr>\n",
       "    <tr>\n",
       "      <th>14</th>\n",
       "      <td>2008-09-01</td>\n",
       "      <td>2008-12-01</td>\n",
       "      <td>2500</td>\n",
       "      <td>7678</td>\n",
       "      <td>32.56</td>\n",
       "    </tr>\n",
       "    <tr>\n",
       "      <th>15</th>\n",
       "      <td>2008-10-01</td>\n",
       "      <td>2008-10-01</td>\n",
       "      <td>3629</td>\n",
       "      <td>3629</td>\n",
       "      <td>100.00</td>\n",
       "    </tr>\n",
       "    <tr>\n",
       "      <th>16</th>\n",
       "      <td>2008-10-01</td>\n",
       "      <td>2008-11-01</td>\n",
       "      <td>1640</td>\n",
       "      <td>3629</td>\n",
       "      <td>45.19</td>\n",
       "    </tr>\n",
       "    <tr>\n",
       "      <th>17</th>\n",
       "      <td>2008-10-01</td>\n",
       "      <td>2008-12-01</td>\n",
       "      <td>1221</td>\n",
       "      <td>3629</td>\n",
       "      <td>33.65</td>\n",
       "    </tr>\n",
       "    <tr>\n",
       "      <th>18</th>\n",
       "      <td>2008-11-01</td>\n",
       "      <td>2008-11-01</td>\n",
       "      <td>2852</td>\n",
       "      <td>2852</td>\n",
       "      <td>100.00</td>\n",
       "    </tr>\n",
       "    <tr>\n",
       "      <th>19</th>\n",
       "      <td>2008-11-01</td>\n",
       "      <td>2008-12-01</td>\n",
       "      <td>1151</td>\n",
       "      <td>2852</td>\n",
       "      <td>40.36</td>\n",
       "    </tr>\n",
       "    <tr>\n",
       "      <th>20</th>\n",
       "      <td>2008-12-01</td>\n",
       "      <td>2008-12-01</td>\n",
       "      <td>2536</td>\n",
       "      <td>2536</td>\n",
       "      <td>100.00</td>\n",
       "    </tr>\n",
       "  </tbody>\n",
       "</table>\n",
       "</div>"
      ],
      "text/plain": [
       "    cohort_dt session_date  users_cnt  cohort_users_cnt  retention_rate\n",
       "0  2008-07-01   2008-07-01          3                 3          100.00\n",
       "1  2008-07-01   2008-08-01          2                 3           66.67\n",
       "2  2008-07-01   2008-09-01          1                 3           33.33\n",
       "3  2008-07-01   2008-10-01          2                 3           66.67\n",
       "4  2008-07-01   2008-11-01          1                 3           33.33\n",
       "5  2008-07-01   2008-12-01          2                 3           66.67\n",
       "6  2008-08-01   2008-08-01       2151              2151          100.00\n",
       "7  2008-08-01   2008-09-01       1571              2151           73.04\n",
       "8  2008-08-01   2008-10-01       1275              2151           59.27\n",
       "9  2008-08-01   2008-11-01       1050              2151           48.81\n",
       "10 2008-08-01   2008-12-01        894              2151           41.56\n",
       "11 2008-09-01   2008-09-01       7678              7678          100.00\n",
       "12 2008-09-01   2008-10-01       4132              7678           53.82\n",
       "13 2008-09-01   2008-11-01       2966              7678           38.63\n",
       "14 2008-09-01   2008-12-01       2500              7678           32.56\n",
       "15 2008-10-01   2008-10-01       3629              3629          100.00\n",
       "16 2008-10-01   2008-11-01       1640              3629           45.19\n",
       "17 2008-10-01   2008-12-01       1221              3629           33.65\n",
       "18 2008-11-01   2008-11-01       2852              2852          100.00\n",
       "19 2008-11-01   2008-12-01       1151              2852           40.36\n",
       "20 2008-12-01   2008-12-01       2536              2536          100.00"
      ]
     },
     "execution_count": 18,
     "metadata": {},
     "output_type": "execute_result"
    }
   ],
   "source": [
    "# запрос\n",
    "query = '''\n",
    "WITH \n",
    "first_post_month AS \n",
    "    (SELECT DISTINCT(user_id),\n",
    "        DATE_TRUNC('month', FIRST_VALUE(creation_date) OVER(PARTITION BY user_id ORDER BY creation_date)) as first_post_month\n",
    "    FROM stackoverflow.posts),\n",
    "profile AS \n",
    "    (SELECT *,\n",
    "        COUNT(*) OVER(PARTITION BY first_post_month) AS cohort_users_cnt\n",
    "    FROM first_post_month),\n",
    "sessions AS \n",
    "    (SELECT user_id,\n",
    "        DATE_TRUNC('month', creation_date) AS session_date\n",
    "    FROM stackoverflow.posts\n",
    "    GROUP BY 1, 2)\n",
    "    \n",
    "SELECT p.first_post_month AS cohort_dt,\n",
    "       s.session_date,\n",
    "       COUNT(p.user_id) AS users_cnt,\n",
    "       p.cohort_users_cnt,\n",
    "       ROUND(COUNT(p.user_id) * 100.0 / p.cohort_users_cnt, 2) AS retention_rate\n",
    "FROM profile p\n",
    "JOIN sessions s ON p.user_id = s.user_id\n",
    "GROUP BY 1,\n",
    "         2,\n",
    "         4\n",
    "ORDER BY cohort_dt, s.session_date\n",
    "'''\n",
    "\n",
    "# выполнение запроса\n",
    "sample_df = pd.read_sql_query(query, con=engine)\n",
    "\n",
    "sample_df"
   ]
  },
  {
   "cell_type": "markdown",
   "metadata": {
    "id": "_msBtnb2DWLC"
   },
   "source": [
    "Постройте тепловую карту Retention Rate. Какие аномалии или другие необычные явления удалось выявить? Сформулируйте гипотезы о возможных причинах."
   ]
  },
  {
   "cell_type": "code",
   "execution_count": 19,
   "metadata": {
    "id": "qAEJc8H1DWLC"
   },
   "outputs": [],
   "source": [
    "# построение тепловой карты Retention Rate"
   ]
  },
  {
   "cell_type": "code",
   "execution_count": 20,
   "metadata": {},
   "outputs": [
    {
     "data": {
      "image/png": "[encoded data removed]",
      "text/plain": [
       "<Figure size 1152x1152 with 2 Axes>"
      ]
     },
     "metadata": {
      "needs_background": "light"
     },
     "output_type": "display_data"
    }
   ],
   "source": [
    "retention = sample_df.pivot('cohort_dt', 'session_date', 'retention_rate')\n",
    "retention.index = [str(x)[0:10] for x in retention.index]\n",
    "retention.columns = [str(x)[0:10] for x in retention.columns]\n",
    "\n",
    "plt.figure(figsize=(16, 16)) \n",
    "sns.heatmap(retention, \n",
    "            annot=True, \n",
    "            fmt='') \n",
    "plt.title('Тепловая карта')\n",
    "plt.show()"
   ]
  },
  {
   "cell_type": "code",
   "execution_count": 21,
   "metadata": {
    "id": "EgOfIsI4DWLC"
   },
   "outputs": [],
   "source": [
    "# опишите аномалии или другие необычные явления и сформулируйте гипотезы"
   ]
  },
  {
   "cell_type": "markdown",
   "metadata": {},
   "source": [
    "Ответ:\n",
    "1. В когорте от июля 2008 года наблюдаются перепады Retention Rate. Данная когорта состоит только из 3 участников (вероятно тестировщики и/или разработчики платформы), поэтому можно не принимать во внимание Retention Rate данной когорты. \n",
    "2. Остальные когорты более многочисленны. Retention Rate для указанных когорт стабильно уменьшается со временем.    \n",
    "3. Retention Rate 2, 3 и последующих месяцев у каждой новой когорты меньше по сравнению с предыдущей когортой за тот же порядковый месяц.\n",
    "    * Гипотеза: Это может быть связано с тем, что платформа наполняется контентом и всё больше появляется популярных вопросов и ответов на них.   "
   ]
  },
  {
   "cell_type": "markdown",
   "metadata": {
    "id": "1k7oPWt5DWLK"
   },
   "source": [
    "# Задание 9\n"
   ]
  },
  {
   "cell_type": "markdown",
   "metadata": {
    "id": "ALsYVSyRDWLM"
   },
   "source": [
    "На сколько процентов менялось количество постов ежемесячно с 1 сентября по 31 декабря 2008 года? Отобразите таблицу со следующими полями:\n",
    "\n",
    "- номер месяца;\n",
    "- количество постов за месяц;\n",
    "- процент, который показывает, насколько изменилось количество постов в текущем месяце по сравнению с предыдущим.\n",
    "\n",
    "Если постов стало меньше, значение процента должно быть отрицательным, если больше — положительным. Округлите значение процента до двух знаков после запятой.\n",
    "\n",
    "Напомним, что при делении одного целого числа на другое в PostgreSQL в результате получится целое число, округлённое до ближайшего целого вниз. Чтобы этого избежать, переведите делимое в тип `numeric`."
   ]
  },
  {
   "cell_type": "markdown",
   "metadata": {
    "id": "u4E2zF8DDWLM"
   },
   "source": [
    "| creation_month | posts_count | percentage |\n",
    "| -------------- | ----------- | ---------- |\n",
    "| 9 | 70731 | Nan |\n",
    "| 10 | 63102 | -10.33 |\n",
    "| ... | ... | ... |"
   ]
  },
  {
   "cell_type": "code",
   "execution_count": 22,
   "metadata": {
    "id": "Mb5pShStDWLN"
   },
   "outputs": [
    {
     "data": {
      "text/html": [
       "<div>\n",
       "<style scoped>\n",
       "    .dataframe tbody tr th:only-of-type {\n",
       "        vertical-align: middle;\n",
       "    }\n",
       "\n",
       "    .dataframe tbody tr th {\n",
       "        vertical-align: top;\n",
       "    }\n",
       "\n",
       "    .dataframe thead th {\n",
       "        text-align: right;\n",
       "    }\n",
       "</style>\n",
       "<table border=\"1\" class=\"dataframe\">\n",
       "  <thead>\n",
       "    <tr style=\"text-align: right;\">\n",
       "      <th></th>\n",
       "      <th>creation_month</th>\n",
       "      <th>posts_count</th>\n",
       "      <th>percentage</th>\n",
       "    </tr>\n",
       "  </thead>\n",
       "  <tbody>\n",
       "    <tr>\n",
       "      <th>0</th>\n",
       "      <td>9</td>\n",
       "      <td>70371</td>\n",
       "      <td>NaN</td>\n",
       "    </tr>\n",
       "    <tr>\n",
       "      <th>1</th>\n",
       "      <td>10</td>\n",
       "      <td>63102</td>\n",
       "      <td>-10.33</td>\n",
       "    </tr>\n",
       "    <tr>\n",
       "      <th>2</th>\n",
       "      <td>11</td>\n",
       "      <td>46975</td>\n",
       "      <td>-25.56</td>\n",
       "    </tr>\n",
       "    <tr>\n",
       "      <th>3</th>\n",
       "      <td>12</td>\n",
       "      <td>44592</td>\n",
       "      <td>-5.07</td>\n",
       "    </tr>\n",
       "  </tbody>\n",
       "</table>\n",
       "</div>"
      ],
      "text/plain": [
       "   creation_month  posts_count  percentage\n",
       "0               9        70371         NaN\n",
       "1              10        63102      -10.33\n",
       "2              11        46975      -25.56\n",
       "3              12        44592       -5.07"
      ]
     },
     "execution_count": 22,
     "metadata": {},
     "output_type": "execute_result"
    }
   ],
   "source": [
    "# запрос\n",
    "query = '''\n",
    "\n",
    "WITH \n",
    "posts_per_month AS\n",
    "    (SELECT EXTRACT(MONTH FROM creation_date)::integer AS creation_month,\n",
    "        COUNT(id) AS posts_count\n",
    "    FROM stackoverflow.posts\n",
    "    WHERE creation_date BETWEEN '2008-09-01' AND '2008-12-31'\n",
    "    GROUP BY EXTRACT(MONTH FROM creation_date)\n",
    "    ORDER BY creation_month),\n",
    "lag AS \n",
    "    (SELECT *,\n",
    "        LAG(posts_count) OVER() AS prev_month_posts\n",
    "    FROM posts_per_month)\n",
    "    \n",
    "SELECT creation_month,\n",
    "    posts_count,\n",
    "    ROUND((100 * (posts_count - prev_month_posts)::numeric / prev_month_posts), 2) AS percentage\n",
    "FROM lag\n",
    "'''\n",
    "\n",
    "# выполнение запроса\n",
    "sample_df = pd.read_sql_query(query, con=engine)\n",
    "\n",
    "sample_df"
   ]
  },
  {
   "cell_type": "markdown",
   "metadata": {
    "id": "9NQE2y_MDWLP"
   },
   "source": [
    "Постройте круговую диаграмму с количеством постов по месяцам."
   ]
  },
  {
   "cell_type": "code",
   "execution_count": 23,
   "metadata": {
    "id": "377ABjiVDWLP"
   },
   "outputs": [],
   "source": [
    "# постройте круговую диаграмму с количеством постов по месяцам"
   ]
  },
  {
   "cell_type": "code",
   "execution_count": 24,
   "metadata": {},
   "outputs": [
    {
     "data": {
      "image/png": "[encoded data removed]",
      "text/plain": [
       "<Figure size 864x864 with 1 Axes>"
      ]
     },
     "metadata": {},
     "output_type": "display_data"
    }
   ],
   "source": [
    "months = sample_df.creation_month.values\n",
    "posts = sample_df.posts_count.values\n",
    "\n",
    "def absolute_value(val):\n",
    "    a  = int(val/100.*posts.sum())\n",
    "    return a\n",
    "\n",
    "font = {'weight' : 'bold',\n",
    "        'size'   : 16}\n",
    "\n",
    "matplotlib.rc('font', **font)\n",
    "\n",
    "plt.figure(figsize=(12,12))\n",
    "plt.title('Круговая диаграмма')\n",
    "plt.pie(posts, labels=months, autopct=absolute_value)\n",
    "plt.show()"
   ]
  },
  {
   "cell_type": "markdown",
   "metadata": {
    "id": "uw7qMtafDWLP"
   },
   "source": [
    "# Задание 10"
   ]
  },
  {
   "cell_type": "markdown",
   "metadata": {
    "id": "oRBpWKx3DWLQ"
   },
   "source": [
    "Выгрузите данные активности пользователя, который опубликовал больше всего постов за всё время. Выведите данные за октябрь 2008 года в таком виде:\n",
    "\n",
    "- номер недели;\n",
    "- дата и время последнего поста, опубликованного на этой неделе."
   ]
  },
  {
   "cell_type": "markdown",
   "metadata": {
    "id": "XjAWSn_3DWLQ"
   },
   "source": [
    "| week_creation | creation_date |\n",
    "| ------------- | ------------- |\n",
    "| 40 | 2008-10-05 09:00:58 |\n",
    "| 41 | 2008-10-12 21:22:23 |\n",
    "| ... | ... |"
   ]
  },
  {
   "cell_type": "code",
   "execution_count": 25,
   "metadata": {
    "id": "r5F5fSkwDWLQ"
   },
   "outputs": [
    {
     "data": {
      "text/html": [
       "<div>\n",
       "<style scoped>\n",
       "    .dataframe tbody tr th:only-of-type {\n",
       "        vertical-align: middle;\n",
       "    }\n",
       "\n",
       "    .dataframe tbody tr th {\n",
       "        vertical-align: top;\n",
       "    }\n",
       "\n",
       "    .dataframe thead th {\n",
       "        text-align: right;\n",
       "    }\n",
       "</style>\n",
       "<table border=\"1\" class=\"dataframe\">\n",
       "  <thead>\n",
       "    <tr style=\"text-align: right;\">\n",
       "      <th></th>\n",
       "      <th>week_creation</th>\n",
       "      <th>creation_date</th>\n",
       "    </tr>\n",
       "  </thead>\n",
       "  <tbody>\n",
       "    <tr>\n",
       "      <th>0</th>\n",
       "      <td>40</td>\n",
       "      <td>2008-10-05 09:00:58</td>\n",
       "    </tr>\n",
       "    <tr>\n",
       "      <th>1</th>\n",
       "      <td>41</td>\n",
       "      <td>2008-10-12 21:22:23</td>\n",
       "    </tr>\n",
       "    <tr>\n",
       "      <th>2</th>\n",
       "      <td>42</td>\n",
       "      <td>2008-10-19 06:49:30</td>\n",
       "    </tr>\n",
       "    <tr>\n",
       "      <th>3</th>\n",
       "      <td>43</td>\n",
       "      <td>2008-10-26 21:44:36</td>\n",
       "    </tr>\n",
       "    <tr>\n",
       "      <th>4</th>\n",
       "      <td>44</td>\n",
       "      <td>2008-10-31 22:16:01</td>\n",
       "    </tr>\n",
       "  </tbody>\n",
       "</table>\n",
       "</div>"
      ],
      "text/plain": [
       "   week_creation       creation_date\n",
       "0             40 2008-10-05 09:00:58\n",
       "1             41 2008-10-12 21:22:23\n",
       "2             42 2008-10-19 06:49:30\n",
       "3             43 2008-10-26 21:44:36\n",
       "4             44 2008-10-31 22:16:01"
      ]
     },
     "execution_count": 25,
     "metadata": {},
     "output_type": "execute_result"
    }
   ],
   "source": [
    "# запрос\n",
    "query = '''\n",
    "WITH \n",
    "top_user AS \n",
    "    (SELECT user_id\n",
    "    FROM stackoverflow.posts\n",
    "    GROUP BY user_id\n",
    "    ORDER BY COUNT(id) DESC\n",
    "    LIMIT 1),\n",
    "weeks AS\n",
    "    (SELECT EXTRACT(WEEK FROM creation_date)::integer AS week_creation,\n",
    "    creation_date\n",
    "    FROM stackoverflow.posts AS p\n",
    "    RIGHT JOIN top_user AS tp ON p.user_id = tp.user_id \n",
    "    WHERE DATE_TRUNC('month', creation_date) = '2008-10-01')\n",
    "\n",
    "SELECT DISTINCT(week_creation),\n",
    "    LAST_VALUE(creation_date) OVER(PARTITION BY week_creation \n",
    "                                    ORDER BY creation_date \n",
    "                                    ROWS BETWEEN CURRENT ROW AND UNBOUNDED FOLLOWING) AS creation_date\n",
    "FROM weeks\n",
    "'''\n",
    "\n",
    "# выполнение запроса\n",
    "sample_df = pd.read_sql_query(query, con=engine)\n",
    "\n",
    "sample_df"
   ]
  }
 ],
 "metadata": {
  "ExecuteTimeLog": [
   {
    "duration": 2894,
    "start_time": "2023-12-27T07:34:26.761Z"
   },
   {
    "duration": 1066,
    "start_time": "2023-12-27T07:36:21.105Z"
   },
   {
    "duration": 6,
    "start_time": "2023-12-27T07:36:24.436Z"
   },
   {
    "duration": 5535,
    "start_time": "2023-12-27T07:36:40.067Z"
   },
   {
    "duration": 46,
    "start_time": "2023-12-27T07:36:50.572Z"
   },
   {
    "duration": 17,
    "start_time": "2023-12-27T07:36:53.869Z"
   },
   {
    "duration": 170,
    "start_time": "2023-12-27T07:41:10.613Z"
   },
   {
    "duration": 25,
    "start_time": "2023-12-27T07:41:13.901Z"
   },
   {
    "duration": 84,
    "start_time": "2023-12-27T07:42:29.371Z"
   },
   {
    "duration": 561,
    "start_time": "2023-12-27T07:42:55.909Z"
   },
   {
    "duration": 51,
    "start_time": "2023-12-27T07:43:00.007Z"
   },
   {
    "duration": 109,
    "start_time": "2023-12-27T08:30:51.074Z"
   },
   {
    "duration": 8,
    "start_time": "2023-12-27T08:30:53.106Z"
   },
   {
    "duration": 87,
    "start_time": "2023-12-27T08:31:28.069Z"
   },
   {
    "duration": 98,
    "start_time": "2023-12-27T08:31:35.205Z"
   },
   {
    "duration": 64,
    "start_time": "2023-12-27T08:32:38.555Z"
   },
   {
    "duration": 81,
    "start_time": "2023-12-27T08:33:21.042Z"
   },
   {
    "duration": 10,
    "start_time": "2023-12-27T08:33:23.633Z"
   },
   {
    "duration": 116,
    "start_time": "2023-12-27T08:33:42.666Z"
   },
   {
    "duration": 7,
    "start_time": "2023-12-27T08:33:45.862Z"
   },
   {
    "duration": 3,
    "start_time": "2023-12-27T08:46:45.141Z"
   },
   {
    "duration": 7,
    "start_time": "2023-12-27T08:56:49.463Z"
   },
   {
    "duration": 8,
    "start_time": "2023-12-27T08:56:51.184Z"
   },
   {
    "duration": 2271,
    "start_time": "2023-12-27T09:02:12.256Z"
   },
   {
    "duration": 29,
    "start_time": "2023-12-27T09:02:15.552Z"
   },
   {
    "duration": 96,
    "start_time": "2023-12-27T09:05:17.728Z"
   },
   {
    "duration": 125,
    "start_time": "2023-12-27T09:05:37.058Z"
   },
   {
    "duration": 12,
    "start_time": "2023-12-27T09:05:38.942Z"
   },
   {
    "duration": 89,
    "start_time": "2023-12-27T09:07:50.404Z"
   },
   {
    "duration": 8,
    "start_time": "2023-12-27T09:07:52.000Z"
   },
   {
    "duration": 86,
    "start_time": "2023-12-27T09:08:19.622Z"
   },
   {
    "duration": 9,
    "start_time": "2023-12-27T09:08:21.209Z"
   },
   {
    "duration": 120,
    "start_time": "2023-12-27T09:08:39.558Z"
   },
   {
    "duration": 8,
    "start_time": "2023-12-27T09:08:40.958Z"
   },
   {
    "duration": 212,
    "start_time": "2023-12-27T09:08:58.442Z"
   },
   {
    "duration": 8,
    "start_time": "2023-12-27T09:08:59.484Z"
   },
   {
    "duration": 69,
    "start_time": "2023-12-27T09:09:08.224Z"
   },
   {
    "duration": 77,
    "start_time": "2023-12-27T09:09:35.578Z"
   },
   {
    "duration": 138,
    "start_time": "2023-12-27T10:09:39.448Z"
   },
   {
    "duration": 13,
    "start_time": "2023-12-27T10:09:41.580Z"
   },
   {
    "duration": 85,
    "start_time": "2023-12-27T10:11:16.663Z"
   },
   {
    "duration": 85,
    "start_time": "2023-12-27T10:12:04.215Z"
   },
   {
    "duration": 10,
    "start_time": "2023-12-27T10:12:08.838Z"
   },
   {
    "duration": 100,
    "start_time": "2023-12-27T10:13:03.286Z"
   },
   {
    "duration": 170,
    "start_time": "2023-12-27T10:14:36.884Z"
   },
   {
    "duration": 11,
    "start_time": "2023-12-27T10:14:38.468Z"
   },
   {
    "duration": 120,
    "start_time": "2023-12-27T10:14:48.649Z"
   },
   {
    "duration": 11,
    "start_time": "2023-12-27T10:14:51.489Z"
   },
   {
    "duration": 68,
    "start_time": "2023-12-27T10:15:35.557Z"
   },
   {
    "duration": 11,
    "start_time": "2023-12-27T10:15:37.293Z"
   },
   {
    "duration": 110,
    "start_time": "2023-12-27T10:17:40.446Z"
   },
   {
    "duration": 10,
    "start_time": "2023-12-27T10:17:42.858Z"
   },
   {
    "duration": 192,
    "start_time": "2023-12-27T10:24:55.775Z"
   },
   {
    "duration": 6,
    "start_time": "2023-12-27T10:27:58.481Z"
   },
   {
    "duration": 11,
    "start_time": "2023-12-27T10:28:05.229Z"
   },
   {
    "duration": 11,
    "start_time": "2023-12-27T10:28:23.381Z"
   },
   {
    "duration": 12,
    "start_time": "2023-12-27T10:28:35.931Z"
   },
   {
    "duration": 6,
    "start_time": "2023-12-27T10:28:44.744Z"
   },
   {
    "duration": 1092,
    "start_time": "2023-12-27T10:28:55.563Z"
   },
   {
    "duration": 21,
    "start_time": "2023-12-27T10:29:26.626Z"
   },
   {
    "duration": 5,
    "start_time": "2023-12-27T10:29:48.101Z"
   },
   {
    "duration": 5,
    "start_time": "2023-12-27T10:31:00.790Z"
   },
   {
    "duration": 7,
    "start_time": "2023-12-27T10:31:23.502Z"
   },
   {
    "duration": 10,
    "start_time": "2023-12-27T10:31:31.255Z"
   },
   {
    "duration": 5,
    "start_time": "2023-12-27T10:36:44.344Z"
   },
   {
    "duration": 1658,
    "start_time": "2023-12-27T10:54:01.930Z"
   },
   {
    "duration": 28,
    "start_time": "2023-12-27T10:54:05.360Z"
   },
   {
    "duration": 1378,
    "start_time": "2023-12-27T10:57:25.693Z"
   },
   {
    "duration": 4,
    "start_time": "2023-12-27T10:57:27.074Z"
   },
   {
    "duration": 4970,
    "start_time": "2023-12-27T10:57:27.080Z"
   },
   {
    "duration": 48,
    "start_time": "2023-12-27T10:57:32.052Z"
   },
   {
    "duration": 33,
    "start_time": "2023-12-27T10:57:32.102Z"
   },
   {
    "duration": 121,
    "start_time": "2023-12-27T10:57:32.136Z"
   },
   {
    "duration": 8,
    "start_time": "2023-12-27T10:57:32.258Z"
   },
   {
    "duration": 42,
    "start_time": "2023-12-27T10:57:32.267Z"
   },
   {
    "duration": 144,
    "start_time": "2023-12-27T10:57:32.311Z"
   },
   {
    "duration": 12,
    "start_time": "2023-12-27T10:57:32.457Z"
   },
   {
    "duration": 29,
    "start_time": "2023-12-27T10:57:32.472Z"
   },
   {
    "duration": 14,
    "start_time": "2023-12-27T10:57:32.503Z"
   },
   {
    "duration": 26,
    "start_time": "2023-12-27T10:57:32.520Z"
   },
   {
    "duration": 1393,
    "start_time": "2023-12-27T11:01:47.287Z"
   },
   {
    "duration": 4,
    "start_time": "2023-12-27T11:01:48.682Z"
   },
   {
    "duration": 5264,
    "start_time": "2023-12-27T11:01:48.688Z"
   },
   {
    "duration": 39,
    "start_time": "2023-12-27T11:01:53.954Z"
   },
   {
    "duration": 17,
    "start_time": "2023-12-27T11:01:53.996Z"
   },
   {
    "duration": 119,
    "start_time": "2023-12-27T11:01:54.015Z"
   },
   {
    "duration": 8,
    "start_time": "2023-12-27T11:01:54.136Z"
   },
   {
    "duration": 17,
    "start_time": "2023-12-27T11:01:54.145Z"
   },
   {
    "duration": 117,
    "start_time": "2023-12-27T11:01:54.164Z"
   },
   {
    "duration": 12,
    "start_time": "2023-12-27T11:01:54.283Z"
   },
   {
    "duration": 16,
    "start_time": "2023-12-27T11:01:54.296Z"
   },
   {
    "duration": 31,
    "start_time": "2023-12-27T11:01:54.314Z"
   },
   {
    "duration": 24,
    "start_time": "2023-12-27T11:01:54.347Z"
   },
   {
    "duration": 1593,
    "start_time": "2023-12-27T11:01:54.375Z"
   },
   {
    "duration": 26,
    "start_time": "2023-12-27T11:01:55.970Z"
   },
   {
    "duration": 37,
    "start_time": "2023-12-27T11:01:55.997Z"
   },
   {
    "duration": 24,
    "start_time": "2023-12-27T11:01:56.035Z"
   },
   {
    "duration": 39,
    "start_time": "2023-12-27T11:01:56.061Z"
   },
   {
    "duration": 38,
    "start_time": "2023-12-27T11:01:56.101Z"
   },
   {
    "duration": 26,
    "start_time": "2023-12-27T11:01:56.141Z"
   },
   {
    "duration": 20,
    "start_time": "2023-12-27T11:01:56.170Z"
   },
   {
    "duration": 37,
    "start_time": "2023-12-27T11:01:56.192Z"
   },
   {
    "duration": 30,
    "start_time": "2023-12-27T11:01:56.231Z"
   },
   {
    "duration": 29,
    "start_time": "2023-12-27T11:01:56.263Z"
   },
   {
    "duration": 51,
    "start_time": "2023-12-27T11:01:56.293Z"
   },
   {
    "duration": 32,
    "start_time": "2023-12-27T11:01:56.345Z"
   },
   {
    "duration": 19,
    "start_time": "2023-12-27T11:01:56.378Z"
   },
   {
    "duration": 201,
    "start_time": "2023-12-27T11:02:11.788Z"
   },
   {
    "duration": 28,
    "start_time": "2023-12-27T11:02:15.554Z"
   },
   {
    "duration": 1348,
    "start_time": "2023-12-27T11:09:29.339Z"
   },
   {
    "duration": 3,
    "start_time": "2023-12-27T11:09:30.689Z"
   },
   {
    "duration": 5383,
    "start_time": "2023-12-27T11:09:30.694Z"
   },
   {
    "duration": 39,
    "start_time": "2023-12-27T11:09:36.079Z"
   },
   {
    "duration": 19,
    "start_time": "2023-12-27T11:09:36.121Z"
   },
   {
    "duration": 144,
    "start_time": "2023-12-27T11:09:36.142Z"
   },
   {
    "duration": 7,
    "start_time": "2023-12-27T11:09:36.288Z"
   },
   {
    "duration": 20,
    "start_time": "2023-12-27T11:09:36.296Z"
   },
   {
    "duration": 130,
    "start_time": "2023-12-27T11:09:36.318Z"
   },
   {
    "duration": 12,
    "start_time": "2023-12-27T11:09:36.450Z"
   },
   {
    "duration": 16,
    "start_time": "2023-12-27T11:09:36.464Z"
   },
   {
    "duration": 14,
    "start_time": "2023-12-27T11:09:36.481Z"
   },
   {
    "duration": 4,
    "start_time": "2023-12-27T11:09:36.497Z"
   },
   {
    "duration": 1343,
    "start_time": "2023-12-27T11:10:04.181Z"
   },
   {
    "duration": 10,
    "start_time": "2023-12-27T11:10:05.526Z"
   },
   {
    "duration": 5445,
    "start_time": "2023-12-27T11:10:05.542Z"
   },
   {
    "duration": 49,
    "start_time": "2023-12-27T11:10:10.989Z"
   },
   {
    "duration": 18,
    "start_time": "2023-12-27T11:10:11.041Z"
   },
   {
    "duration": 132,
    "start_time": "2023-12-27T11:10:11.061Z"
   },
   {
    "duration": 9,
    "start_time": "2023-12-27T11:10:11.195Z"
   },
   {
    "duration": 32,
    "start_time": "2023-12-27T11:10:11.208Z"
   },
   {
    "duration": 123,
    "start_time": "2023-12-27T11:10:11.245Z"
   },
   {
    "duration": 17,
    "start_time": "2023-12-27T11:10:11.372Z"
   },
   {
    "duration": 7,
    "start_time": "2023-12-27T11:10:11.391Z"
   },
   {
    "duration": 22,
    "start_time": "2023-12-27T11:10:11.400Z"
   },
   {
    "duration": 45,
    "start_time": "2023-12-27T11:10:11.424Z"
   },
   {
    "duration": 175,
    "start_time": "2023-12-27T11:10:11.471Z"
   },
   {
    "duration": 9,
    "start_time": "2023-12-27T11:10:11.648Z"
   },
   {
    "duration": 5,
    "start_time": "2023-12-27T11:10:11.659Z"
   },
   {
    "duration": 12,
    "start_time": "2023-12-27T11:10:11.666Z"
   },
   {
    "duration": 8,
    "start_time": "2023-12-27T11:10:11.680Z"
   },
   {
    "duration": 7,
    "start_time": "2023-12-27T11:10:11.690Z"
   },
   {
    "duration": 5,
    "start_time": "2023-12-27T11:10:11.699Z"
   },
   {
    "duration": 7,
    "start_time": "2023-12-27T11:10:11.706Z"
   },
   {
    "duration": 20,
    "start_time": "2023-12-27T11:10:11.715Z"
   },
   {
    "duration": 4,
    "start_time": "2023-12-27T11:10:11.742Z"
   },
   {
    "duration": 11,
    "start_time": "2023-12-27T11:10:11.748Z"
   },
   {
    "duration": 8,
    "start_time": "2023-12-27T11:10:11.760Z"
   },
   {
    "duration": 19,
    "start_time": "2023-12-27T11:10:11.769Z"
   },
   {
    "duration": 5,
    "start_time": "2023-12-27T11:10:11.790Z"
   },
   {
    "duration": 238,
    "start_time": "2023-12-27T11:10:17.954Z"
   },
   {
    "duration": 28,
    "start_time": "2023-12-27T11:10:28.540Z"
   },
   {
    "duration": 27,
    "start_time": "2023-12-27T11:19:27.249Z"
   },
   {
    "duration": 207,
    "start_time": "2023-12-27T11:21:07.288Z"
   },
   {
    "duration": 73,
    "start_time": "2023-12-27T11:21:19.168Z"
   },
   {
    "duration": 77,
    "start_time": "2023-12-27T11:21:28.467Z"
   },
   {
    "duration": 16180,
    "start_time": "2023-12-27T11:21:33.369Z"
   },
   {
    "duration": 8,
    "start_time": "2023-12-27T11:22:00.993Z"
   },
   {
    "duration": 216,
    "start_time": "2023-12-27T11:31:56.490Z"
   },
   {
    "duration": 82,
    "start_time": "2023-12-27T11:33:36.975Z"
   },
   {
    "duration": 7,
    "start_time": "2023-12-27T11:33:39.905Z"
   },
   {
    "duration": 97,
    "start_time": "2023-12-27T11:34:06.431Z"
   },
   {
    "duration": 10,
    "start_time": "2023-12-27T11:34:09.644Z"
   },
   {
    "duration": 3,
    "start_time": "2023-12-27T11:54:01.192Z"
   },
   {
    "duration": 1339,
    "start_time": "2023-12-27T11:54:12.943Z"
   },
   {
    "duration": 14,
    "start_time": "2023-12-27T11:54:17.570Z"
   },
   {
    "duration": 26,
    "start_time": "2023-12-27T11:55:34.371Z"
   },
   {
    "duration": 8,
    "start_time": "2023-12-27T11:55:36.064Z"
   },
   {
    "duration": 1382,
    "start_time": "2023-12-27T11:56:16.686Z"
   },
   {
    "duration": 17,
    "start_time": "2023-12-27T11:56:19.330Z"
   },
   {
    "duration": 74,
    "start_time": "2023-12-27T12:02:18.598Z"
   },
   {
    "duration": 136,
    "start_time": "2023-12-27T12:02:40.463Z"
   },
   {
    "duration": 20,
    "start_time": "2023-12-27T12:02:47.307Z"
   },
   {
    "duration": 41,
    "start_time": "2023-12-27T12:04:22.791Z"
   },
   {
    "duration": 6,
    "start_time": "2023-12-27T12:04:24.779Z"
   },
   {
    "duration": 79,
    "start_time": "2023-12-27T12:24:36.945Z"
   },
   {
    "duration": 79,
    "start_time": "2023-12-27T12:24:49.502Z"
   },
   {
    "duration": 21,
    "start_time": "2023-12-27T12:24:52.249Z"
   },
   {
    "duration": 72,
    "start_time": "2023-12-27T12:27:22.641Z"
   },
   {
    "duration": 19,
    "start_time": "2023-12-27T12:27:25.083Z"
   },
   {
    "duration": 83,
    "start_time": "2023-12-27T12:30:54.936Z"
   },
   {
    "duration": 16,
    "start_time": "2023-12-27T12:30:57.006Z"
   },
   {
    "duration": 71,
    "start_time": "2023-12-27T12:33:52.837Z"
   },
   {
    "duration": 11,
    "start_time": "2023-12-27T12:33:54.585Z"
   },
   {
    "duration": 1332,
    "start_time": "2023-12-30T13:04:03.407Z"
   },
   {
    "duration": 3,
    "start_time": "2023-12-30T13:04:04.741Z"
   },
   {
    "duration": 7995,
    "start_time": "2023-12-30T13:04:04.745Z"
   },
   {
    "duration": 221,
    "start_time": "2023-12-30T13:04:12.741Z"
   },
   {
    "duration": 16,
    "start_time": "2023-12-30T13:04:12.963Z"
   },
   {
    "duration": 172,
    "start_time": "2023-12-30T13:04:12.981Z"
   },
   {
    "duration": 6,
    "start_time": "2023-12-30T13:04:13.155Z"
   },
   {
    "duration": 14,
    "start_time": "2023-12-30T13:04:13.162Z"
   },
   {
    "duration": 146,
    "start_time": "2023-12-30T13:04:13.177Z"
   },
   {
    "duration": 9,
    "start_time": "2023-12-30T13:04:13.326Z"
   },
   {
    "duration": 4,
    "start_time": "2023-12-30T13:04:13.337Z"
   },
   {
    "duration": 5,
    "start_time": "2023-12-30T13:04:13.343Z"
   },
   {
    "duration": 3,
    "start_time": "2023-12-30T13:04:13.350Z"
   },
   {
    "duration": 130,
    "start_time": "2023-12-30T13:04:13.354Z"
   },
   {
    "duration": 6,
    "start_time": "2023-12-30T13:04:13.485Z"
   },
   {
    "duration": 4,
    "start_time": "2023-12-30T13:04:13.492Z"
   },
   {
    "duration": 1201,
    "start_time": "2023-12-30T13:04:13.498Z"
   },
   {
    "duration": 15,
    "start_time": "2023-12-30T13:04:14.701Z"
   },
   {
    "duration": 99,
    "start_time": "2023-12-30T13:04:14.718Z"
   },
   {
    "duration": 7,
    "start_time": "2023-12-30T13:04:14.819Z"
   },
   {
    "duration": 214,
    "start_time": "2023-12-30T13:04:14.828Z"
   },
   {
    "duration": 0,
    "start_time": "2023-12-30T13:04:15.044Z"
   },
   {
    "duration": 0,
    "start_time": "2023-12-30T13:04:15.045Z"
   },
   {
    "duration": 0,
    "start_time": "2023-12-30T13:04:15.045Z"
   },
   {
    "duration": 0,
    "start_time": "2023-12-30T13:04:15.046Z"
   },
   {
    "duration": 0,
    "start_time": "2023-12-30T13:04:15.047Z"
   },
   {
    "duration": 0,
    "start_time": "2023-12-30T13:04:15.048Z"
   },
   {
    "duration": 0,
    "start_time": "2023-12-30T13:04:15.049Z"
   },
   {
    "duration": 0,
    "start_time": "2023-12-30T13:04:15.050Z"
   },
   {
    "duration": 0,
    "start_time": "2023-12-30T13:04:15.051Z"
   },
   {
    "duration": 158,
    "start_time": "2023-12-30T13:04:43.790Z"
   },
   {
    "duration": 16,
    "start_time": "2023-12-30T13:04:45.897Z"
   },
   {
    "duration": 132,
    "start_time": "2023-12-30T13:06:26.536Z"
   },
   {
    "duration": 195,
    "start_time": "2023-12-30T13:06:31.838Z"
   },
   {
    "duration": 11,
    "start_time": "2023-12-30T13:06:33.599Z"
   },
   {
    "duration": 151,
    "start_time": "2023-12-30T13:06:48.373Z"
   },
   {
    "duration": 122,
    "start_time": "2023-12-30T13:07:20.700Z"
   },
   {
    "duration": 10,
    "start_time": "2023-12-30T13:07:22.976Z"
   },
   {
    "duration": 1483,
    "start_time": "2024-01-03T12:12:00.076Z"
   },
   {
    "duration": 3,
    "start_time": "2024-01-03T12:12:01.561Z"
   },
   {
    "duration": 8890,
    "start_time": "2024-01-03T12:12:01.566Z"
   },
   {
    "duration": 209,
    "start_time": "2024-01-03T12:12:10.457Z"
   },
   {
    "duration": 14,
    "start_time": "2024-01-03T12:12:10.668Z"
   },
   {
    "duration": 154,
    "start_time": "2024-01-03T12:12:10.684Z"
   },
   {
    "duration": 6,
    "start_time": "2024-01-03T12:12:10.839Z"
   },
   {
    "duration": 4,
    "start_time": "2024-01-03T12:12:10.846Z"
   },
   {
    "duration": 138,
    "start_time": "2024-01-03T12:12:10.851Z"
   },
   {
    "duration": 11,
    "start_time": "2024-01-03T12:12:10.990Z"
   },
   {
    "duration": 4,
    "start_time": "2024-01-03T12:12:11.002Z"
   },
   {
    "duration": 9,
    "start_time": "2024-01-03T12:12:11.008Z"
   },
   {
    "duration": 9,
    "start_time": "2024-01-03T12:12:11.018Z"
   },
   {
    "duration": 119,
    "start_time": "2024-01-03T12:12:11.030Z"
   },
   {
    "duration": 8,
    "start_time": "2024-01-03T12:12:11.151Z"
   },
   {
    "duration": 41,
    "start_time": "2024-01-03T12:12:11.161Z"
   },
   {
    "duration": 1320,
    "start_time": "2024-01-03T12:12:11.204Z"
   },
   {
    "duration": 10,
    "start_time": "2024-01-03T12:12:12.525Z"
   },
   {
    "duration": 131,
    "start_time": "2024-01-03T12:12:12.537Z"
   },
   {
    "duration": 6,
    "start_time": "2024-01-03T12:12:12.670Z"
   },
   {
    "duration": 117,
    "start_time": "2024-01-03T12:12:12.678Z"
   },
   {
    "duration": 12,
    "start_time": "2024-01-03T12:12:12.797Z"
   },
   {
    "duration": 27,
    "start_time": "2024-01-03T12:12:12.811Z"
   },
   {
    "duration": 41,
    "start_time": "2024-01-03T12:12:12.840Z"
   },
   {
    "duration": 51,
    "start_time": "2024-01-03T12:12:12.883Z"
   },
   {
    "duration": 29,
    "start_time": "2024-01-03T12:12:12.936Z"
   },
   {
    "duration": 22,
    "start_time": "2024-01-03T12:12:12.967Z"
   },
   {
    "duration": 17,
    "start_time": "2024-01-03T12:12:12.990Z"
   },
   {
    "duration": 32,
    "start_time": "2024-01-03T12:12:13.008Z"
   },
   {
    "duration": 50,
    "start_time": "2024-01-03T12:12:13.042Z"
   },
   {
    "duration": 186,
    "start_time": "2024-01-03T12:20:33.533Z"
   },
   {
    "duration": 11,
    "start_time": "2024-01-03T12:20:36.825Z"
   },
   {
    "duration": 223,
    "start_time": "2024-01-03T12:22:30.676Z"
   },
   {
    "duration": 124,
    "start_time": "2024-01-03T12:23:08.275Z"
   },
   {
    "duration": 8,
    "start_time": "2024-01-03T12:23:17.209Z"
   },
   {
    "duration": 131,
    "start_time": "2024-01-03T12:25:56.363Z"
   },
   {
    "duration": 124,
    "start_time": "2024-01-03T12:26:36.025Z"
   },
   {
    "duration": 9,
    "start_time": "2024-01-03T12:26:37.735Z"
   },
   {
    "duration": 117,
    "start_time": "2024-01-03T12:27:58.200Z"
   },
   {
    "duration": 123,
    "start_time": "2024-01-03T12:28:08.397Z"
   },
   {
    "duration": 9,
    "start_time": "2024-01-03T12:28:10.532Z"
   },
   {
    "duration": 183,
    "start_time": "2024-01-03T12:28:43.985Z"
   },
   {
    "duration": 8,
    "start_time": "2024-01-03T12:28:46.984Z"
   },
   {
    "duration": 123,
    "start_time": "2024-01-03T12:29:27.127Z"
   },
   {
    "duration": 12,
    "start_time": "2024-01-03T12:29:29.501Z"
   },
   {
    "duration": 58,
    "start_time": "2024-01-03T12:32:48.346Z"
   },
   {
    "duration": 6,
    "start_time": "2024-01-03T12:32:51.460Z"
   },
   {
    "duration": 129,
    "start_time": "2024-01-03T12:33:22.300Z"
   },
   {
    "duration": 57,
    "start_time": "2024-01-03T12:33:28.944Z"
   },
   {
    "duration": 7,
    "start_time": "2024-01-03T12:33:31.285Z"
   },
   {
    "duration": 57,
    "start_time": "2024-01-03T12:33:39.755Z"
   },
   {
    "duration": 6,
    "start_time": "2024-01-03T12:33:42.009Z"
   },
   {
    "duration": 56,
    "start_time": "2024-01-03T12:33:45.876Z"
   },
   {
    "duration": 6,
    "start_time": "2024-01-03T12:44:35.637Z"
   },
   {
    "duration": 1176,
    "start_time": "2024-01-03T12:52:08.135Z"
   },
   {
    "duration": 10,
    "start_time": "2024-01-03T12:52:10.999Z"
   },
   {
    "duration": 1244,
    "start_time": "2024-01-03T12:52:29.792Z"
   },
   {
    "duration": 11,
    "start_time": "2024-01-03T12:52:32.106Z"
   },
   {
    "duration": 1113,
    "start_time": "2024-01-03T12:53:19.029Z"
   },
   {
    "duration": 11,
    "start_time": "2024-01-03T12:53:21.553Z"
   },
   {
    "duration": 8,
    "start_time": "2024-01-03T12:53:38.384Z"
   },
   {
    "duration": 11,
    "start_time": "2024-01-03T12:53:45.543Z"
   },
   {
    "duration": 120,
    "start_time": "2024-01-03T13:34:36.625Z"
   },
   {
    "duration": 151,
    "start_time": "2024-01-03T13:35:02.779Z"
   },
   {
    "duration": 154,
    "start_time": "2024-01-03T13:36:10.154Z"
   },
   {
    "duration": 2021,
    "start_time": "2024-01-03T13:36:24.489Z"
   },
   {
    "duration": 10,
    "start_time": "2024-01-03T13:36:28.683Z"
   },
   {
    "duration": 1907,
    "start_time": "2024-01-03T13:36:58.648Z"
   },
   {
    "duration": 10,
    "start_time": "2024-01-03T13:37:02.105Z"
   },
   {
    "duration": 1987,
    "start_time": "2024-01-03T13:39:24.943Z"
   },
   {
    "duration": 3291,
    "start_time": "2024-01-03T13:39:49.145Z"
   },
   {
    "duration": 9,
    "start_time": "2024-01-03T13:39:55.319Z"
   },
   {
    "duration": 8,
    "start_time": "2024-01-03T13:40:03.752Z"
   },
   {
    "duration": 1440,
    "start_time": "2024-01-03T13:41:21.381Z"
   },
   {
    "duration": 8,
    "start_time": "2024-01-03T13:41:24.299Z"
   },
   {
    "duration": 258,
    "start_time": "2024-01-03T13:45:38.612Z"
   },
   {
    "duration": 9,
    "start_time": "2024-01-03T13:45:40.639Z"
   },
   {
    "duration": 641,
    "start_time": "2024-01-03T13:46:37.608Z"
   },
   {
    "duration": 8,
    "start_time": "2024-01-03T13:46:39.523Z"
   },
   {
    "duration": 138,
    "start_time": "2024-01-03T13:48:53.280Z"
   },
   {
    "duration": 971,
    "start_time": "2024-01-03T13:49:00.525Z"
   },
   {
    "duration": 8,
    "start_time": "2024-01-03T13:49:04.471Z"
   },
   {
    "duration": 940,
    "start_time": "2024-01-03T13:49:28.771Z"
   },
   {
    "duration": 8,
    "start_time": "2024-01-03T13:49:30.891Z"
   },
   {
    "duration": 920,
    "start_time": "2024-01-03T13:50:17.407Z"
   },
   {
    "duration": 128,
    "start_time": "2024-01-03T13:50:22.194Z"
   },
   {
    "duration": 57,
    "start_time": "2024-01-03T13:50:33.974Z"
   },
   {
    "duration": 12,
    "start_time": "2024-01-03T13:50:37.402Z"
   },
   {
    "duration": 53,
    "start_time": "2024-01-03T13:50:56.520Z"
   },
   {
    "duration": 13,
    "start_time": "2024-01-03T13:50:58.577Z"
   },
   {
    "duration": 12,
    "start_time": "2024-01-03T13:51:08.268Z"
   },
   {
    "duration": 966,
    "start_time": "2024-01-03T13:51:12.437Z"
   },
   {
    "duration": 8,
    "start_time": "2024-01-03T13:51:15.689Z"
   },
   {
    "duration": 942,
    "start_time": "2024-01-03T13:59:46.210Z"
   },
   {
    "duration": 9,
    "start_time": "2024-01-03T13:59:51.029Z"
   },
   {
    "duration": 989,
    "start_time": "2024-01-03T14:05:14.877Z"
   },
   {
    "duration": 11,
    "start_time": "2024-01-03T14:05:18.295Z"
   },
   {
    "duration": 376,
    "start_time": "2024-01-03T14:05:39.183Z"
   },
   {
    "duration": 8,
    "start_time": "2024-01-03T14:05:41.940Z"
   },
   {
    "duration": 410,
    "start_time": "2024-01-03T14:07:19.989Z"
   },
   {
    "duration": 8,
    "start_time": "2024-01-03T14:07:23.510Z"
   },
   {
    "duration": 400,
    "start_time": "2024-01-03T14:08:29.003Z"
   },
   {
    "duration": 8,
    "start_time": "2024-01-03T14:08:32.649Z"
   },
   {
    "duration": 981,
    "start_time": "2024-01-03T14:20:23.996Z"
   },
   {
    "duration": 6,
    "start_time": "2024-01-03T14:20:26.217Z"
   },
   {
    "duration": 901,
    "start_time": "2024-01-03T14:20:39.215Z"
   },
   {
    "duration": 10,
    "start_time": "2024-01-03T14:20:42.796Z"
   },
   {
    "duration": 1022,
    "start_time": "2024-01-03T14:20:58.018Z"
   },
   {
    "duration": 7,
    "start_time": "2024-01-03T14:21:00.571Z"
   },
   {
    "duration": 976,
    "start_time": "2024-01-03T14:23:15.493Z"
   },
   {
    "duration": 8,
    "start_time": "2024-01-03T14:23:17.843Z"
   },
   {
    "duration": 1551,
    "start_time": "2024-01-04T08:58:52.967Z"
   },
   {
    "duration": 3,
    "start_time": "2024-01-04T08:58:54.520Z"
   },
   {
    "duration": 8064,
    "start_time": "2024-01-04T08:58:54.525Z"
   },
   {
    "duration": 214,
    "start_time": "2024-01-04T08:59:02.591Z"
   },
   {
    "duration": 14,
    "start_time": "2024-01-04T08:59:02.807Z"
   },
   {
    "duration": 246,
    "start_time": "2024-01-04T08:59:02.822Z"
   },
   {
    "duration": 7,
    "start_time": "2024-01-04T08:59:03.069Z"
   },
   {
    "duration": 23,
    "start_time": "2024-01-04T08:59:03.077Z"
   },
   {
    "duration": 144,
    "start_time": "2024-01-04T08:59:03.102Z"
   },
   {
    "duration": 16,
    "start_time": "2024-01-04T08:59:03.248Z"
   },
   {
    "duration": 5,
    "start_time": "2024-01-04T08:59:03.266Z"
   },
   {
    "duration": 4,
    "start_time": "2024-01-04T08:59:03.272Z"
   },
   {
    "duration": 2,
    "start_time": "2024-01-04T08:59:03.278Z"
   },
   {
    "duration": 124,
    "start_time": "2024-01-04T08:59:03.283Z"
   },
   {
    "duration": 6,
    "start_time": "2024-01-04T08:59:03.408Z"
   },
   {
    "duration": 12,
    "start_time": "2024-01-04T08:59:03.416Z"
   },
   {
    "duration": 1269,
    "start_time": "2024-01-04T08:59:03.430Z"
   },
   {
    "duration": 11,
    "start_time": "2024-01-04T08:59:04.700Z"
   },
   {
    "duration": 98,
    "start_time": "2024-01-04T08:59:04.713Z"
   },
   {
    "duration": 7,
    "start_time": "2024-01-04T08:59:04.812Z"
   },
   {
    "duration": 58,
    "start_time": "2024-01-04T08:59:04.820Z"
   },
   {
    "duration": 5,
    "start_time": "2024-01-04T08:59:04.880Z"
   },
   {
    "duration": 4,
    "start_time": "2024-01-04T08:59:04.887Z"
   },
   {
    "duration": 1221,
    "start_time": "2024-01-04T08:59:04.892Z"
   },
   {
    "duration": 12,
    "start_time": "2024-01-04T08:59:06.115Z"
   },
   {
    "duration": 76,
    "start_time": "2024-01-04T08:59:06.128Z"
   },
   {
    "duration": 0,
    "start_time": "2024-01-04T08:59:06.206Z"
   },
   {
    "duration": 0,
    "start_time": "2024-01-04T08:59:06.207Z"
   },
   {
    "duration": 0,
    "start_time": "2024-01-04T08:59:06.209Z"
   },
   {
    "duration": 0,
    "start_time": "2024-01-04T08:59:06.210Z"
   },
   {
    "duration": 0,
    "start_time": "2024-01-04T08:59:06.211Z"
   },
   {
    "duration": 0,
    "start_time": "2024-01-04T08:59:06.212Z"
   },
   {
    "duration": 0,
    "start_time": "2024-01-04T08:59:06.213Z"
   },
   {
    "duration": 1012,
    "start_time": "2024-01-04T09:26:27.172Z"
   },
   {
    "duration": 7,
    "start_time": "2024-01-04T09:26:29.442Z"
   },
   {
    "duration": 401,
    "start_time": "2024-01-04T09:27:17.843Z"
   },
   {
    "duration": 8,
    "start_time": "2024-01-04T09:27:20.035Z"
   },
   {
    "duration": 309,
    "start_time": "2024-01-04T09:29:36.507Z"
   },
   {
    "duration": 8,
    "start_time": "2024-01-04T09:29:39.115Z"
   },
   {
    "duration": 230,
    "start_time": "2024-01-04T09:30:08.174Z"
   },
   {
    "duration": 54,
    "start_time": "2024-01-04T09:30:22.231Z"
   },
   {
    "duration": 7,
    "start_time": "2024-01-04T09:30:24.538Z"
   },
   {
    "duration": 477,
    "start_time": "2024-01-04T09:33:48.525Z"
   },
   {
    "duration": 11,
    "start_time": "2024-01-04T09:33:51.672Z"
   },
   {
    "duration": 404,
    "start_time": "2024-01-04T09:35:24.154Z"
   },
   {
    "duration": 8,
    "start_time": "2024-01-04T09:35:25.900Z"
   },
   {
    "duration": 506,
    "start_time": "2024-01-04T09:37:47.906Z"
   },
   {
    "duration": 11,
    "start_time": "2024-01-04T09:37:49.593Z"
   },
   {
    "duration": 490,
    "start_time": "2024-01-04T09:38:49.850Z"
   },
   {
    "duration": 12,
    "start_time": "2024-01-04T09:38:51.708Z"
   },
   {
    "duration": 467,
    "start_time": "2024-01-04T09:41:41.835Z"
   },
   {
    "duration": 3,
    "start_time": "2024-01-04T09:43:23.699Z"
   },
   {
    "duration": 11,
    "start_time": "2024-01-04T10:42:55.924Z"
   },
   {
    "duration": 525,
    "start_time": "2024-01-04T10:43:01.364Z"
   },
   {
    "duration": 10,
    "start_time": "2024-01-04T10:43:03.475Z"
   },
   {
    "duration": 1524,
    "start_time": "2024-01-04T10:44:23.873Z"
   },
   {
    "duration": 18,
    "start_time": "2024-01-04T10:44:26.404Z"
   },
   {
    "duration": 123,
    "start_time": "2024-01-04T10:45:40.000Z"
   },
   {
    "duration": 6,
    "start_time": "2024-01-04T10:45:42.258Z"
   },
   {
    "duration": 191,
    "start_time": "2024-01-04T10:46:01.282Z"
   },
   {
    "duration": 7,
    "start_time": "2024-01-04T10:46:04.184Z"
   },
   {
    "duration": 118,
    "start_time": "2024-01-04T10:48:13.689Z"
   },
   {
    "duration": 117,
    "start_time": "2024-01-04T10:48:25.386Z"
   },
   {
    "duration": 6,
    "start_time": "2024-01-04T10:48:27.613Z"
   },
   {
    "duration": 58,
    "start_time": "2024-01-04T10:49:06.536Z"
   },
   {
    "duration": 6,
    "start_time": "2024-01-04T10:49:08.158Z"
   },
   {
    "duration": 115,
    "start_time": "2024-01-04T10:49:15.594Z"
   },
   {
    "duration": 6,
    "start_time": "2024-01-04T10:49:17.159Z"
   },
   {
    "duration": 120,
    "start_time": "2024-01-04T10:49:31.939Z"
   },
   {
    "duration": 509,
    "start_time": "2024-01-04T10:49:42.012Z"
   },
   {
    "duration": 1290,
    "start_time": "2024-01-04T10:51:01.054Z"
   },
   {
    "duration": 4,
    "start_time": "2024-01-04T10:51:02.346Z"
   },
   {
    "duration": 7845,
    "start_time": "2024-01-04T10:51:02.352Z"
   },
   {
    "duration": 214,
    "start_time": "2024-01-04T10:51:10.199Z"
   },
   {
    "duration": 151,
    "start_time": "2024-01-04T10:51:10.415Z"
   },
   {
    "duration": 3,
    "start_time": "2024-01-04T10:51:10.567Z"
   },
   {
    "duration": 143,
    "start_time": "2024-01-04T10:51:10.571Z"
   },
   {
    "duration": 3,
    "start_time": "2024-01-04T10:51:10.716Z"
   },
   {
    "duration": 6,
    "start_time": "2024-01-04T10:51:10.721Z"
   },
   {
    "duration": 10,
    "start_time": "2024-01-04T10:51:10.729Z"
   },
   {
    "duration": 127,
    "start_time": "2024-01-04T10:51:10.740Z"
   },
   {
    "duration": 2,
    "start_time": "2024-01-04T10:51:10.869Z"
   },
   {
    "duration": 1177,
    "start_time": "2024-01-04T10:51:10.873Z"
   },
   {
    "duration": 100,
    "start_time": "2024-01-04T10:51:12.053Z"
   },
   {
    "duration": 60,
    "start_time": "2024-01-04T10:51:12.155Z"
   },
   {
    "duration": 2,
    "start_time": "2024-01-04T10:51:12.217Z"
   },
   {
    "duration": 1139,
    "start_time": "2024-01-04T10:51:12.221Z"
   },
   {
    "duration": 490,
    "start_time": "2024-01-04T10:51:13.362Z"
   },
   {
    "duration": 3,
    "start_time": "2024-01-04T10:51:13.854Z"
   },
   {
    "duration": 433,
    "start_time": "2024-01-04T10:51:13.858Z"
   },
   {
    "duration": 3,
    "start_time": "2024-01-04T10:51:14.292Z"
   },
   {
    "duration": 126,
    "start_time": "2024-01-04T10:51:14.296Z"
   },
   {
    "duration": 2,
    "start_time": "2024-01-04T10:51:14.424Z"
   },
   {
    "duration": 4,
    "start_time": "2024-01-04T10:51:14.428Z"
   },
   {
    "duration": 133,
    "start_time": "2024-01-04T11:21:25.461Z"
   },
   {
    "duration": 125,
    "start_time": "2024-01-04T11:21:52.498Z"
   },
   {
    "duration": 123,
    "start_time": "2024-01-04T11:25:37.814Z"
   },
   {
    "duration": 124,
    "start_time": "2024-01-04T11:25:58.080Z"
   },
   {
    "duration": 124,
    "start_time": "2024-01-04T11:26:02.380Z"
   },
   {
    "duration": 125,
    "start_time": "2024-01-04T11:26:11.084Z"
   },
   {
    "duration": 123,
    "start_time": "2024-01-04T11:26:29.409Z"
   },
   {
    "duration": 125,
    "start_time": "2024-01-04T11:32:49.170Z"
   },
   {
    "duration": 131,
    "start_time": "2024-01-04T11:33:00.454Z"
   },
   {
    "duration": 123,
    "start_time": "2024-01-04T11:33:11.782Z"
   },
   {
    "duration": 123,
    "start_time": "2024-01-04T11:33:37.556Z"
   },
   {
    "duration": 123,
    "start_time": "2024-01-04T11:34:05.445Z"
   },
   {
    "duration": 204,
    "start_time": "2024-01-04T11:34:43.714Z"
   },
   {
    "duration": 125,
    "start_time": "2024-01-04T11:34:51.157Z"
   },
   {
    "duration": 128,
    "start_time": "2024-01-04T11:35:42.170Z"
   },
   {
    "duration": 124,
    "start_time": "2024-01-04T11:36:07.285Z"
   },
   {
    "duration": 122,
    "start_time": "2024-01-04T11:38:26.619Z"
   },
   {
    "duration": 123,
    "start_time": "2024-01-04T11:39:27.473Z"
   },
   {
    "duration": 124,
    "start_time": "2024-01-04T11:39:59.465Z"
   },
   {
    "duration": 125,
    "start_time": "2024-01-04T11:40:19.015Z"
   },
   {
    "duration": 124,
    "start_time": "2024-01-04T11:41:32.053Z"
   },
   {
    "duration": 122,
    "start_time": "2024-01-04T11:41:37.681Z"
   },
   {
    "duration": 125,
    "start_time": "2024-01-04T11:43:39.924Z"
   },
   {
    "duration": 125,
    "start_time": "2024-01-04T11:44:14.786Z"
   },
   {
    "duration": 120,
    "start_time": "2024-01-04T11:44:28.620Z"
   },
   {
    "duration": 125,
    "start_time": "2024-01-04T11:44:45.529Z"
   },
   {
    "duration": 124,
    "start_time": "2024-01-04T11:45:02.596Z"
   },
   {
    "duration": 124,
    "start_time": "2024-01-04T11:45:46.902Z"
   },
   {
    "duration": 18,
    "start_time": "2024-01-04T11:49:45.638Z"
   },
   {
    "duration": 16,
    "start_time": "2024-01-04T11:50:27.235Z"
   },
   {
    "duration": 174,
    "start_time": "2024-01-04T11:59:23.522Z"
   },
   {
    "duration": 8,
    "start_time": "2024-01-04T11:59:57.725Z"
   },
   {
    "duration": 18,
    "start_time": "2024-01-04T12:00:20.557Z"
   },
   {
    "duration": 6,
    "start_time": "2024-01-04T12:00:31.824Z"
   },
   {
    "duration": 4,
    "start_time": "2024-01-04T12:00:43.037Z"
   },
   {
    "duration": 7,
    "start_time": "2024-01-04T12:00:50.895Z"
   },
   {
    "duration": 3,
    "start_time": "2024-01-04T12:00:54.090Z"
   },
   {
    "duration": 4,
    "start_time": "2024-01-04T12:01:22.749Z"
   },
   {
    "duration": 5,
    "start_time": "2024-01-04T12:01:27.147Z"
   },
   {
    "duration": 72,
    "start_time": "2024-01-04T12:01:54.353Z"
   },
   {
    "duration": 73,
    "start_time": "2024-01-04T12:02:12.494Z"
   },
   {
    "duration": 10,
    "start_time": "2024-01-04T12:03:35.984Z"
   },
   {
    "duration": 86,
    "start_time": "2024-01-04T12:03:40.678Z"
   },
   {
    "duration": 63,
    "start_time": "2024-01-04T12:03:50.284Z"
   },
   {
    "duration": 66,
    "start_time": "2024-01-04T12:04:44.519Z"
   },
   {
    "duration": 70,
    "start_time": "2024-01-04T12:04:56.954Z"
   },
   {
    "duration": 73,
    "start_time": "2024-01-04T12:05:02.935Z"
   },
   {
    "duration": 74,
    "start_time": "2024-01-04T12:05:09.105Z"
   },
   {
    "duration": 173,
    "start_time": "2024-01-04T12:05:25.806Z"
   },
   {
    "duration": 80,
    "start_time": "2024-01-04T12:05:49.047Z"
   },
   {
    "duration": 72,
    "start_time": "2024-01-04T12:06:15.187Z"
   },
   {
    "duration": 76,
    "start_time": "2024-01-04T12:06:47.654Z"
   },
   {
    "duration": 92,
    "start_time": "2024-01-04T12:07:53.801Z"
   },
   {
    "duration": 94,
    "start_time": "2024-01-04T12:09:02.491Z"
   },
   {
    "duration": 165,
    "start_time": "2024-01-04T12:09:07.982Z"
   },
   {
    "duration": 184,
    "start_time": "2024-01-04T12:09:15.651Z"
   },
   {
    "duration": 160,
    "start_time": "2024-01-04T12:09:23.684Z"
   },
   {
    "duration": 105,
    "start_time": "2024-01-04T12:09:32.292Z"
   },
   {
    "duration": 151,
    "start_time": "2024-01-04T12:09:37.902Z"
   },
   {
    "duration": 131,
    "start_time": "2024-01-04T12:10:18.253Z"
   },
   {
    "duration": 127,
    "start_time": "2024-01-04T12:12:51.222Z"
   },
   {
    "duration": 10,
    "start_time": "2024-01-04T12:13:37.975Z"
   },
   {
    "duration": 3,
    "start_time": "2024-01-04T12:14:05.213Z"
   },
   {
    "duration": 147,
    "start_time": "2024-01-04T12:14:13.148Z"
   },
   {
    "duration": 134,
    "start_time": "2024-01-04T12:15:02.496Z"
   },
   {
    "duration": 126,
    "start_time": "2024-01-04T12:15:08.891Z"
   },
   {
    "duration": 133,
    "start_time": "2024-01-04T12:15:14.579Z"
   },
   {
    "duration": 242,
    "start_time": "2024-01-04T12:16:21.715Z"
   },
   {
    "duration": 122,
    "start_time": "2024-01-04T12:16:29.522Z"
   },
   {
    "duration": 131,
    "start_time": "2024-01-04T12:17:00.843Z"
   },
   {
    "duration": 143,
    "start_time": "2024-01-04T12:17:06.951Z"
   },
   {
    "duration": 215,
    "start_time": "2024-01-04T12:17:50.677Z"
   },
   {
    "duration": 4,
    "start_time": "2024-01-04T12:18:11.570Z"
   },
   {
    "duration": 184,
    "start_time": "2024-01-04T12:18:17.393Z"
   },
   {
    "duration": 169,
    "start_time": "2024-01-04T12:18:32.799Z"
   },
   {
    "duration": 179,
    "start_time": "2024-01-04T12:19:03.500Z"
   },
   {
    "duration": 136,
    "start_time": "2024-01-04T12:19:11.571Z"
   },
   {
    "duration": 141,
    "start_time": "2024-01-04T12:19:53.311Z"
   },
   {
    "duration": 133,
    "start_time": "2024-01-04T12:19:59.601Z"
   },
   {
    "duration": 271,
    "start_time": "2024-01-04T12:28:20.692Z"
   },
   {
    "duration": 176,
    "start_time": "2024-01-04T12:28:27.188Z"
   },
   {
    "duration": 104,
    "start_time": "2024-01-04T12:30:01.772Z"
   },
   {
    "duration": 160,
    "start_time": "2024-01-04T12:32:05.612Z"
   },
   {
    "duration": 118,
    "start_time": "2024-01-04T12:32:12.678Z"
   },
   {
    "duration": 148,
    "start_time": "2024-01-04T12:33:43.078Z"
   },
   {
    "duration": 138,
    "start_time": "2024-01-04T12:40:05.490Z"
   },
   {
    "duration": 137,
    "start_time": "2024-01-04T12:41:05.199Z"
   },
   {
    "duration": 155,
    "start_time": "2024-01-04T12:42:05.845Z"
   },
   {
    "duration": 134,
    "start_time": "2024-01-04T12:43:11.374Z"
   },
   {
    "duration": 142,
    "start_time": "2024-01-04T12:43:32.168Z"
   },
   {
    "duration": 147,
    "start_time": "2024-01-04T12:44:37.707Z"
   },
   {
    "duration": 130,
    "start_time": "2024-01-04T12:45:37.263Z"
   },
   {
    "duration": 1232,
    "start_time": "2024-01-04T12:47:17.956Z"
   },
   {
    "duration": 4,
    "start_time": "2024-01-04T12:47:19.189Z"
   },
   {
    "duration": 7529,
    "start_time": "2024-01-04T12:47:19.194Z"
   },
   {
    "duration": 219,
    "start_time": "2024-01-04T12:47:26.725Z"
   },
   {
    "duration": 153,
    "start_time": "2024-01-04T12:47:26.947Z"
   },
   {
    "duration": 3,
    "start_time": "2024-01-04T12:47:27.101Z"
   },
   {
    "duration": 169,
    "start_time": "2024-01-04T12:47:27.105Z"
   },
   {
    "duration": 4,
    "start_time": "2024-01-04T12:47:27.275Z"
   },
   {
    "duration": 11,
    "start_time": "2024-01-04T12:47:27.280Z"
   },
   {
    "duration": 3,
    "start_time": "2024-01-04T12:47:27.292Z"
   },
   {
    "duration": 122,
    "start_time": "2024-01-04T12:47:27.296Z"
   },
   {
    "duration": 2,
    "start_time": "2024-01-04T12:47:27.419Z"
   },
   {
    "duration": 1222,
    "start_time": "2024-01-04T12:47:27.423Z"
   },
   {
    "duration": 101,
    "start_time": "2024-01-04T12:47:28.649Z"
   },
   {
    "duration": 60,
    "start_time": "2024-01-04T12:47:28.752Z"
   },
   {
    "duration": 2,
    "start_time": "2024-01-04T12:47:28.814Z"
   },
   {
    "duration": 1132,
    "start_time": "2024-01-04T12:47:28.817Z"
   },
   {
    "duration": 509,
    "start_time": "2024-01-04T12:47:29.950Z"
   },
   {
    "duration": 3,
    "start_time": "2024-01-04T12:47:30.460Z"
   },
   {
    "duration": 532,
    "start_time": "2024-01-04T12:47:30.465Z"
   },
   {
    "duration": 3,
    "start_time": "2024-01-04T12:47:30.998Z"
   },
   {
    "duration": 173,
    "start_time": "2024-01-04T12:47:31.002Z"
   },
   {
    "duration": 6,
    "start_time": "2024-01-04T12:47:31.177Z"
   },
   {
    "duration": 167,
    "start_time": "2024-01-04T12:47:31.185Z"
   },
   {
    "duration": 131,
    "start_time": "2024-01-04T12:47:31.355Z"
   },
   {
    "duration": 1253,
    "start_time": "2024-01-04T12:49:38.474Z"
   },
   {
    "duration": 4,
    "start_time": "2024-01-04T12:49:39.728Z"
   },
   {
    "duration": 8178,
    "start_time": "2024-01-04T12:49:39.733Z"
   },
   {
    "duration": 213,
    "start_time": "2024-01-04T12:49:47.912Z"
   },
   {
    "duration": 147,
    "start_time": "2024-01-04T12:49:48.127Z"
   },
   {
    "duration": 3,
    "start_time": "2024-01-04T12:49:48.276Z"
   },
   {
    "duration": 159,
    "start_time": "2024-01-04T12:49:48.280Z"
   },
   {
    "duration": 6,
    "start_time": "2024-01-04T12:49:48.442Z"
   },
   {
    "duration": 11,
    "start_time": "2024-01-04T12:49:48.450Z"
   },
   {
    "duration": 11,
    "start_time": "2024-01-04T12:49:48.463Z"
   },
   {
    "duration": 142,
    "start_time": "2024-01-04T12:49:48.475Z"
   },
   {
    "duration": 2,
    "start_time": "2024-01-04T12:49:48.619Z"
   },
   {
    "duration": 1291,
    "start_time": "2024-01-04T12:49:48.623Z"
   },
   {
    "duration": 100,
    "start_time": "2024-01-04T12:49:49.916Z"
   },
   {
    "duration": 58,
    "start_time": "2024-01-04T12:49:50.017Z"
   },
   {
    "duration": 2,
    "start_time": "2024-01-04T12:49:50.077Z"
   },
   {
    "duration": 1234,
    "start_time": "2024-01-04T12:49:50.081Z"
   },
   {
    "duration": 495,
    "start_time": "2024-01-04T12:49:51.317Z"
   },
   {
    "duration": 2,
    "start_time": "2024-01-04T12:49:51.814Z"
   },
   {
    "duration": 456,
    "start_time": "2024-01-04T12:49:51.818Z"
   },
   {
    "duration": 3,
    "start_time": "2024-01-04T12:49:52.276Z"
   },
   {
    "duration": 137,
    "start_time": "2024-01-04T12:49:52.280Z"
   },
   {
    "duration": 2,
    "start_time": "2024-01-04T12:49:52.419Z"
   },
   {
    "duration": 166,
    "start_time": "2024-01-04T12:49:52.422Z"
   },
   {
    "duration": 138,
    "start_time": "2024-01-04T12:49:52.590Z"
   },
   {
    "duration": 1534,
    "start_time": "2024-01-04T19:59:01.388Z"
   },
   {
    "duration": 4,
    "start_time": "2024-01-04T19:59:02.925Z"
   },
   {
    "duration": 7444,
    "start_time": "2024-01-04T19:59:02.931Z"
   },
   {
    "duration": 230,
    "start_time": "2024-01-04T19:59:10.377Z"
   },
   {
    "duration": 161,
    "start_time": "2024-01-04T19:59:10.609Z"
   },
   {
    "duration": 2,
    "start_time": "2024-01-04T19:59:10.772Z"
   },
   {
    "duration": 143,
    "start_time": "2024-01-04T19:59:10.776Z"
   },
   {
    "duration": 4,
    "start_time": "2024-01-04T19:59:10.921Z"
   },
   {
    "duration": 8,
    "start_time": "2024-01-04T19:59:10.926Z"
   },
   {
    "duration": 3,
    "start_time": "2024-01-04T19:59:10.937Z"
   },
   {
    "duration": 129,
    "start_time": "2024-01-04T19:59:10.941Z"
   },
   {
    "duration": 3,
    "start_time": "2024-01-04T19:59:11.071Z"
   },
   {
    "duration": 1341,
    "start_time": "2024-01-04T19:59:11.075Z"
   },
   {
    "duration": 97,
    "start_time": "2024-01-04T19:59:12.417Z"
   },
   {
    "duration": 58,
    "start_time": "2024-01-04T19:59:12.515Z"
   },
   {
    "duration": 3,
    "start_time": "2024-01-04T19:59:12.574Z"
   },
   {
    "duration": 1175,
    "start_time": "2024-01-04T19:59:12.578Z"
   },
   {
    "duration": 477,
    "start_time": "2024-01-04T19:59:13.756Z"
   },
   {
    "duration": 3,
    "start_time": "2024-01-04T19:59:14.234Z"
   },
   {
    "duration": 485,
    "start_time": "2024-01-04T19:59:14.238Z"
   },
   {
    "duration": 2,
    "start_time": "2024-01-04T19:59:14.724Z"
   },
   {
    "duration": 137,
    "start_time": "2024-01-04T19:59:14.727Z"
   },
   {
    "duration": 2,
    "start_time": "2024-01-04T19:59:14.866Z"
   },
   {
    "duration": 136,
    "start_time": "2024-01-04T19:59:14.871Z"
   },
   {
    "duration": 131,
    "start_time": "2024-01-04T19:59:15.009Z"
   },
   {
    "duration": 150,
    "start_time": "2024-01-04T20:08:23.035Z"
   },
   {
    "duration": 154,
    "start_time": "2024-01-04T20:08:31.354Z"
   },
   {
    "duration": 139,
    "start_time": "2024-01-04T20:19:14.768Z"
   },
   {
    "duration": 126,
    "start_time": "2024-01-04T20:20:20.507Z"
   },
   {
    "duration": 69,
    "start_time": "2024-01-04T20:40:18.423Z"
   },
   {
    "duration": 67,
    "start_time": "2024-01-04T20:40:37.437Z"
   },
   {
    "duration": 74,
    "start_time": "2024-01-04T20:44:06.493Z"
   },
   {
    "duration": 106,
    "start_time": "2024-01-04T20:44:25.353Z"
   },
   {
    "duration": 1329,
    "start_time": "2024-01-05T12:17:37.703Z"
   },
   {
    "duration": 3,
    "start_time": "2024-01-05T12:17:39.034Z"
   },
   {
    "duration": 8006,
    "start_time": "2024-01-05T12:17:39.039Z"
   },
   {
    "duration": 229,
    "start_time": "2024-01-05T12:17:47.047Z"
   },
   {
    "duration": 163,
    "start_time": "2024-01-05T12:17:47.278Z"
   },
   {
    "duration": 3,
    "start_time": "2024-01-05T12:17:47.442Z"
   },
   {
    "duration": 163,
    "start_time": "2024-01-05T12:17:47.446Z"
   },
   {
    "duration": 5,
    "start_time": "2024-01-05T12:17:47.611Z"
   },
   {
    "duration": 22,
    "start_time": "2024-01-05T12:17:47.618Z"
   },
   {
    "duration": 8,
    "start_time": "2024-01-05T12:17:47.642Z"
   },
   {
    "duration": 140,
    "start_time": "2024-01-05T12:17:47.651Z"
   },
   {
    "duration": 3,
    "start_time": "2024-01-05T12:17:47.792Z"
   },
   {
    "duration": 1203,
    "start_time": "2024-01-05T12:17:47.796Z"
   },
   {
    "duration": 100,
    "start_time": "2024-01-05T12:17:49.001Z"
   },
   {
    "duration": 61,
    "start_time": "2024-01-05T12:17:49.103Z"
   },
   {
    "duration": 2,
    "start_time": "2024-01-05T12:17:49.165Z"
   },
   {
    "duration": 1131,
    "start_time": "2024-01-05T12:17:49.169Z"
   },
   {
    "duration": 496,
    "start_time": "2024-01-05T12:17:50.301Z"
   },
   {
    "duration": 2,
    "start_time": "2024-01-05T12:17:50.799Z"
   },
   {
    "duration": 494,
    "start_time": "2024-01-05T12:17:50.803Z"
   },
   {
    "duration": 3,
    "start_time": "2024-01-05T12:17:51.298Z"
   },
   {
    "duration": 128,
    "start_time": "2024-01-05T12:17:51.302Z"
   },
   {
    "duration": 3,
    "start_time": "2024-01-05T12:17:51.431Z"
   },
   {
    "duration": 150,
    "start_time": "2024-01-05T12:17:51.435Z"
   },
   {
    "duration": 135,
    "start_time": "2024-01-05T12:17:51.587Z"
   },
   {
    "duration": 117,
    "start_time": "2024-01-05T12:26:43.179Z"
   },
   {
    "duration": 144,
    "start_time": "2024-01-05T12:29:00.737Z"
   },
   {
    "duration": 130,
    "start_time": "2024-01-05T12:29:24.843Z"
   },
   {
    "duration": 4,
    "start_time": "2024-01-05T12:31:03.091Z"
   },
   {
    "duration": 5,
    "start_time": "2024-01-05T12:31:07.390Z"
   },
   {
    "duration": 4,
    "start_time": "2024-01-05T12:49:17.714Z"
   },
   {
    "duration": 7,
    "start_time": "2024-01-05T12:49:52.047Z"
   },
   {
    "duration": 5,
    "start_time": "2024-01-05T12:49:57.164Z"
   },
   {
    "duration": 4,
    "start_time": "2024-01-05T12:50:06.828Z"
   },
   {
    "duration": 4,
    "start_time": "2024-01-05T12:50:21.500Z"
   },
   {
    "duration": 1025,
    "start_time": "2024-01-05T12:51:18.461Z"
   },
   {
    "duration": 1164,
    "start_time": "2024-01-05T12:52:26.255Z"
   },
   {
    "duration": 6,
    "start_time": "2024-01-05T12:58:09.270Z"
   },
   {
    "duration": 209,
    "start_time": "2024-01-05T12:58:11.107Z"
   },
   {
    "duration": 216,
    "start_time": "2024-01-05T12:58:31.700Z"
   },
   {
    "duration": 1202,
    "start_time": "2024-01-05T12:58:45.303Z"
   },
   {
    "duration": 3,
    "start_time": "2024-01-05T12:58:46.506Z"
   },
   {
    "duration": 8332,
    "start_time": "2024-01-05T12:58:46.511Z"
   },
   {
    "duration": 210,
    "start_time": "2024-01-05T12:58:54.844Z"
   },
   {
    "duration": 117,
    "start_time": "2024-01-05T12:58:55.055Z"
   },
   {
    "duration": 2,
    "start_time": "2024-01-05T12:58:55.174Z"
   },
   {
    "duration": 136,
    "start_time": "2024-01-05T12:58:55.178Z"
   },
   {
    "duration": 4,
    "start_time": "2024-01-05T12:58:55.316Z"
   },
   {
    "duration": 26,
    "start_time": "2024-01-05T12:58:55.322Z"
   },
   {
    "duration": 39,
    "start_time": "2024-01-05T12:58:55.349Z"
   },
   {
    "duration": 211,
    "start_time": "2024-01-05T12:59:12.738Z"
   },
   {
    "duration": 267,
    "start_time": "2024-01-05T13:03:39.711Z"
   },
   {
    "duration": 249,
    "start_time": "2024-01-05T13:04:45.382Z"
   },
   {
    "duration": 258,
    "start_time": "2024-01-05T13:05:17.544Z"
   },
   {
    "duration": 308,
    "start_time": "2024-01-05T13:09:14.412Z"
   },
   {
    "duration": 102,
    "start_time": "2024-01-05T13:17:55.827Z"
   }
  ],
  "colab": {
   "provenance": []
  },
  "kernelspec": {
   "display_name": "Python 3 (ipykernel)",
   "language": "python",
   "name": "python3"
  },
  "language_info": {
   "codemirror_mode": {
    "name": "ipython",
    "version": 3
   },
   "file_extension": ".py",
   "mimetype": "text/x-python",
   "name": "python",
   "nbconvert_exporter": "python",
   "pygments_lexer": "ipython3",
   "version": "3.12.3"
  },
  "toc": {
   "base_numbering": 1,
   "nav_menu": {},
   "number_sections": true,
   "sideBar": true,
   "skip_h1_title": true,
   "title_cell": "Table of Contents",
   "title_sidebar": "Contents",
   "toc_cell": false,
   "toc_position": {},
   "toc_section_display": true,
   "toc_window_display": false
  }
 },
 "nbformat": 4,
 "nbformat_minor": 4
}
