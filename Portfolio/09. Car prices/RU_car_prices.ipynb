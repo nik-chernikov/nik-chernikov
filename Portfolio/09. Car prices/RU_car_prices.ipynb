{
 "cells": [
  {
   "cell_type": "markdown",
   "metadata": {},
   "source": [
    "# Определение стоимости автомобилей"
   ]
  },
  {
   "cell_type": "markdown",
   "metadata": {},
   "source": [
    "Сервис по продаже автомобилей с пробегом «Не бит, не крашен» разрабатывает приложение для привлечения новых клиентов. В нём можно быстро узнать рыночную стоимость своего автомобиля. В вашем распоряжении исторические данные: технические характеристики, комплектации и цены автомобилей. Вам нужно построить модель для определения стоимости. \n",
    "\n",
    "Заказчику важны:\n",
    "\n",
    "- Качество предсказания. Величина метрики RMSE должна быть менее 2500;\n",
    "- Скорость предсказания;\n",
    "- Время обучения."
   ]
  },
  {
   "cell_type": "markdown",
   "metadata": {},
   "source": [
    "## Подготовка данных"
   ]
  },
  {
   "cell_type": "markdown",
   "metadata": {},
   "source": [
    "### Обзор данных"
   ]
  },
  {
   "cell_type": "code",
   "execution_count": 1,
   "metadata": {
    "scrolled": true
   },
   "outputs": [
    {
     "name": "stdout",
     "output_type": "stream",
     "text": [
      "Requirement already satisfied: category_encoders in /opt/conda/lib/python3.9/site-packages (2.6.3)\n",
      "Requirement already satisfied: pandas>=1.0.5 in /opt/conda/lib/python3.9/site-packages (from category_encoders) (1.2.4)\n",
      "Requirement already satisfied: numpy>=1.14.0 in /opt/conda/lib/python3.9/site-packages (from category_encoders) (1.21.1)\n",
      "Requirement already satisfied: scipy>=1.0.0 in /opt/conda/lib/python3.9/site-packages (from category_encoders) (1.9.1)\n",
      "Requirement already satisfied: scikit-learn>=0.20.0 in /opt/conda/lib/python3.9/site-packages (from category_encoders) (0.24.1)\n",
      "Requirement already satisfied: statsmodels>=0.9.0 in /opt/conda/lib/python3.9/site-packages (from category_encoders) (0.13.2)\n",
      "Requirement already satisfied: patsy>=0.5.1 in /opt/conda/lib/python3.9/site-packages (from category_encoders) (0.5.2)\n",
      "Requirement already satisfied: python-dateutil>=2.7.3 in /opt/conda/lib/python3.9/site-packages (from pandas>=1.0.5->category_encoders) (2.8.1)\n",
      "Requirement already satisfied: pytz>=2017.3 in /opt/conda/lib/python3.9/site-packages (from pandas>=1.0.5->category_encoders) (2021.1)\n",
      "Requirement already satisfied: six in /opt/conda/lib/python3.9/site-packages (from patsy>=0.5.1->category_encoders) (1.16.0)\n",
      "Requirement already satisfied: joblib>=0.11 in /opt/conda/lib/python3.9/site-packages (from scikit-learn>=0.20.0->category_encoders) (1.1.0)\n",
      "Requirement already satisfied: threadpoolctl>=2.0.0 in /opt/conda/lib/python3.9/site-packages (from scikit-learn>=0.20.0->category_encoders) (3.1.0)\n",
      "Requirement already satisfied: packaging>=21.3 in /opt/conda/lib/python3.9/site-packages (from statsmodels>=0.9.0->category_encoders) (21.3)\n",
      "Requirement already satisfied: pyparsing!=3.0.5,>=2.0.2 in /opt/conda/lib/python3.9/site-packages (from packaging>=21.3->statsmodels>=0.9.0->category_encoders) (2.4.7)\n"
     ]
    }
   ],
   "source": [
    "!pip install category_encoders"
   ]
  },
  {
   "cell_type": "code",
   "execution_count": 2,
   "metadata": {
    "scrolled": true
   },
   "outputs": [
    {
     "name": "stdout",
     "output_type": "stream",
     "text": [
      "Requirement already satisfied: lightgbm in /opt/conda/lib/python3.9/site-packages (3.3.1)\n",
      "Requirement already satisfied: scipy in /opt/conda/lib/python3.9/site-packages (from lightgbm) (1.9.1)\n",
      "Requirement already satisfied: numpy in /opt/conda/lib/python3.9/site-packages (from lightgbm) (1.21.1)\n",
      "Requirement already satisfied: wheel in /opt/conda/lib/python3.9/site-packages (from lightgbm) (0.36.2)\n",
      "Requirement already satisfied: scikit-learn!=0.22.0 in /opt/conda/lib/python3.9/site-packages (from lightgbm) (0.24.1)\n",
      "Requirement already satisfied: threadpoolctl>=2.0.0 in /opt/conda/lib/python3.9/site-packages (from scikit-learn!=0.22.0->lightgbm) (3.1.0)\n",
      "Requirement already satisfied: joblib>=0.11 in /opt/conda/lib/python3.9/site-packages (from scikit-learn!=0.22.0->lightgbm) (1.1.0)\n"
     ]
    }
   ],
   "source": [
    "!pip install lightgbm"
   ]
  },
  {
   "cell_type": "code",
   "execution_count": 3,
   "metadata": {},
   "outputs": [],
   "source": [
    "import pandas as pd\n",
    "import numpy as np\n",
    "import category_encoders as ce\n",
    "import lightgbm as lgb\n",
    "import matplotlib.pyplot as plt\n",
    "\n",
    "from time import time\n",
    "from sklearn.preprocessing import StandardScaler\n",
    "from sklearn.model_selection import train_test_split, GridSearchCV, cross_val_score\n",
    "from sklearn.feature_selection import RFE\n",
    "from sklearn.metrics import mean_squared_error\n",
    "from sklearn.linear_model import LinearRegression\n",
    "from sklearn.dummy import DummyRegressor"
   ]
  },
  {
   "cell_type": "code",
   "execution_count": 4,
   "metadata": {},
   "outputs": [],
   "source": [
    "pd.options.mode.chained_assignment = None"
   ]
  },
  {
   "cell_type": "code",
   "execution_count": 5,
   "metadata": {},
   "outputs": [],
   "source": [
    "df = pd.read_csv('/datasets/autos.csv')"
   ]
  },
  {
   "cell_type": "code",
   "execution_count": 6,
   "metadata": {},
   "outputs": [
    {
     "name": "stdout",
     "output_type": "stream",
     "text": [
      "<class 'pandas.core.frame.DataFrame'>\n",
      "RangeIndex: 354369 entries, 0 to 354368\n",
      "Data columns (total 16 columns):\n",
      " #   Column             Non-Null Count   Dtype \n",
      "---  ------             --------------   ----- \n",
      " 0   DateCrawled        354369 non-null  object\n",
      " 1   Price              354369 non-null  int64 \n",
      " 2   VehicleType        316879 non-null  object\n",
      " 3   RegistrationYear   354369 non-null  int64 \n",
      " 4   Gearbox            334536 non-null  object\n",
      " 5   Power              354369 non-null  int64 \n",
      " 6   Model              334664 non-null  object\n",
      " 7   Kilometer          354369 non-null  int64 \n",
      " 8   RegistrationMonth  354369 non-null  int64 \n",
      " 9   FuelType           321474 non-null  object\n",
      " 10  Brand              354369 non-null  object\n",
      " 11  Repaired           283215 non-null  object\n",
      " 12  DateCreated        354369 non-null  object\n",
      " 13  NumberOfPictures   354369 non-null  int64 \n",
      " 14  PostalCode         354369 non-null  int64 \n",
      " 15  LastSeen           354369 non-null  object\n",
      "dtypes: int64(7), object(9)\n",
      "memory usage: 43.3+ MB\n"
     ]
    }
   ],
   "source": [
    "df.info()"
   ]
  },
  {
   "cell_type": "code",
   "execution_count": 7,
   "metadata": {
    "scrolled": true
   },
   "outputs": [
    {
     "data": {
      "text/html": [
       "<div>\n",
       "<style scoped>\n",
       "    .dataframe tbody tr th:only-of-type {\n",
       "        vertical-align: middle;\n",
       "    }\n",
       "\n",
       "    .dataframe tbody tr th {\n",
       "        vertical-align: top;\n",
       "    }\n",
       "\n",
       "    .dataframe thead th {\n",
       "        text-align: right;\n",
       "    }\n",
       "</style>\n",
       "<table border=\"1\" class=\"dataframe\">\n",
       "  <thead>\n",
       "    <tr style=\"text-align: right;\">\n",
       "      <th></th>\n",
       "      <th>Price</th>\n",
       "      <th>RegistrationYear</th>\n",
       "      <th>Power</th>\n",
       "      <th>Kilometer</th>\n",
       "      <th>RegistrationMonth</th>\n",
       "      <th>NumberOfPictures</th>\n",
       "      <th>PostalCode</th>\n",
       "    </tr>\n",
       "  </thead>\n",
       "  <tbody>\n",
       "    <tr>\n",
       "      <th>count</th>\n",
       "      <td>354369.000000</td>\n",
       "      <td>354369.000000</td>\n",
       "      <td>354369.000000</td>\n",
       "      <td>354369.000000</td>\n",
       "      <td>354369.000000</td>\n",
       "      <td>354369.0</td>\n",
       "      <td>354369.000000</td>\n",
       "    </tr>\n",
       "    <tr>\n",
       "      <th>mean</th>\n",
       "      <td>4416.656776</td>\n",
       "      <td>2004.234448</td>\n",
       "      <td>110.094337</td>\n",
       "      <td>128211.172535</td>\n",
       "      <td>5.714645</td>\n",
       "      <td>0.0</td>\n",
       "      <td>50508.689087</td>\n",
       "    </tr>\n",
       "    <tr>\n",
       "      <th>std</th>\n",
       "      <td>4514.158514</td>\n",
       "      <td>90.227958</td>\n",
       "      <td>189.850405</td>\n",
       "      <td>37905.341530</td>\n",
       "      <td>3.726421</td>\n",
       "      <td>0.0</td>\n",
       "      <td>25783.096248</td>\n",
       "    </tr>\n",
       "    <tr>\n",
       "      <th>min</th>\n",
       "      <td>0.000000</td>\n",
       "      <td>1000.000000</td>\n",
       "      <td>0.000000</td>\n",
       "      <td>5000.000000</td>\n",
       "      <td>0.000000</td>\n",
       "      <td>0.0</td>\n",
       "      <td>1067.000000</td>\n",
       "    </tr>\n",
       "    <tr>\n",
       "      <th>25%</th>\n",
       "      <td>1050.000000</td>\n",
       "      <td>1999.000000</td>\n",
       "      <td>69.000000</td>\n",
       "      <td>125000.000000</td>\n",
       "      <td>3.000000</td>\n",
       "      <td>0.0</td>\n",
       "      <td>30165.000000</td>\n",
       "    </tr>\n",
       "    <tr>\n",
       "      <th>50%</th>\n",
       "      <td>2700.000000</td>\n",
       "      <td>2003.000000</td>\n",
       "      <td>105.000000</td>\n",
       "      <td>150000.000000</td>\n",
       "      <td>6.000000</td>\n",
       "      <td>0.0</td>\n",
       "      <td>49413.000000</td>\n",
       "    </tr>\n",
       "    <tr>\n",
       "      <th>75%</th>\n",
       "      <td>6400.000000</td>\n",
       "      <td>2008.000000</td>\n",
       "      <td>143.000000</td>\n",
       "      <td>150000.000000</td>\n",
       "      <td>9.000000</td>\n",
       "      <td>0.0</td>\n",
       "      <td>71083.000000</td>\n",
       "    </tr>\n",
       "    <tr>\n",
       "      <th>max</th>\n",
       "      <td>20000.000000</td>\n",
       "      <td>9999.000000</td>\n",
       "      <td>20000.000000</td>\n",
       "      <td>150000.000000</td>\n",
       "      <td>12.000000</td>\n",
       "      <td>0.0</td>\n",
       "      <td>99998.000000</td>\n",
       "    </tr>\n",
       "  </tbody>\n",
       "</table>\n",
       "</div>"
      ],
      "text/plain": [
       "               Price  RegistrationYear          Power      Kilometer  \\\n",
       "count  354369.000000     354369.000000  354369.000000  354369.000000   \n",
       "mean     4416.656776       2004.234448     110.094337  128211.172535   \n",
       "std      4514.158514         90.227958     189.850405   37905.341530   \n",
       "min         0.000000       1000.000000       0.000000    5000.000000   \n",
       "25%      1050.000000       1999.000000      69.000000  125000.000000   \n",
       "50%      2700.000000       2003.000000     105.000000  150000.000000   \n",
       "75%      6400.000000       2008.000000     143.000000  150000.000000   \n",
       "max     20000.000000       9999.000000   20000.000000  150000.000000   \n",
       "\n",
       "       RegistrationMonth  NumberOfPictures     PostalCode  \n",
       "count      354369.000000          354369.0  354369.000000  \n",
       "mean            5.714645               0.0   50508.689087  \n",
       "std             3.726421               0.0   25783.096248  \n",
       "min             0.000000               0.0    1067.000000  \n",
       "25%             3.000000               0.0   30165.000000  \n",
       "50%             6.000000               0.0   49413.000000  \n",
       "75%             9.000000               0.0   71083.000000  \n",
       "max            12.000000               0.0   99998.000000  "
      ]
     },
     "execution_count": 7,
     "metadata": {},
     "output_type": "execute_result"
    }
   ],
   "source": [
    "df.describe()"
   ]
  },
  {
   "cell_type": "code",
   "execution_count": 8,
   "metadata": {},
   "outputs": [
    {
     "data": {
      "text/html": [
       "<div>\n",
       "<style scoped>\n",
       "    .dataframe tbody tr th:only-of-type {\n",
       "        vertical-align: middle;\n",
       "    }\n",
       "\n",
       "    .dataframe tbody tr th {\n",
       "        vertical-align: top;\n",
       "    }\n",
       "\n",
       "    .dataframe thead th {\n",
       "        text-align: right;\n",
       "    }\n",
       "</style>\n",
       "<table border=\"1\" class=\"dataframe\">\n",
       "  <thead>\n",
       "    <tr style=\"text-align: right;\">\n",
       "      <th></th>\n",
       "      <th>DateCrawled</th>\n",
       "      <th>Price</th>\n",
       "      <th>VehicleType</th>\n",
       "      <th>RegistrationYear</th>\n",
       "      <th>Gearbox</th>\n",
       "      <th>Power</th>\n",
       "      <th>Model</th>\n",
       "      <th>Kilometer</th>\n",
       "      <th>RegistrationMonth</th>\n",
       "      <th>FuelType</th>\n",
       "      <th>Brand</th>\n",
       "      <th>Repaired</th>\n",
       "      <th>DateCreated</th>\n",
       "      <th>NumberOfPictures</th>\n",
       "      <th>PostalCode</th>\n",
       "      <th>LastSeen</th>\n",
       "    </tr>\n",
       "  </thead>\n",
       "  <tbody>\n",
       "    <tr>\n",
       "      <th>0</th>\n",
       "      <td>2016-03-24 11:52:17</td>\n",
       "      <td>480</td>\n",
       "      <td>NaN</td>\n",
       "      <td>1993</td>\n",
       "      <td>manual</td>\n",
       "      <td>0</td>\n",
       "      <td>golf</td>\n",
       "      <td>150000</td>\n",
       "      <td>0</td>\n",
       "      <td>petrol</td>\n",
       "      <td>volkswagen</td>\n",
       "      <td>NaN</td>\n",
       "      <td>2016-03-24 00:00:00</td>\n",
       "      <td>0</td>\n",
       "      <td>70435</td>\n",
       "      <td>2016-04-07 03:16:57</td>\n",
       "    </tr>\n",
       "    <tr>\n",
       "      <th>1</th>\n",
       "      <td>2016-03-24 10:58:45</td>\n",
       "      <td>18300</td>\n",
       "      <td>coupe</td>\n",
       "      <td>2011</td>\n",
       "      <td>manual</td>\n",
       "      <td>190</td>\n",
       "      <td>NaN</td>\n",
       "      <td>125000</td>\n",
       "      <td>5</td>\n",
       "      <td>gasoline</td>\n",
       "      <td>audi</td>\n",
       "      <td>yes</td>\n",
       "      <td>2016-03-24 00:00:00</td>\n",
       "      <td>0</td>\n",
       "      <td>66954</td>\n",
       "      <td>2016-04-07 01:46:50</td>\n",
       "    </tr>\n",
       "    <tr>\n",
       "      <th>2</th>\n",
       "      <td>2016-03-14 12:52:21</td>\n",
       "      <td>9800</td>\n",
       "      <td>suv</td>\n",
       "      <td>2004</td>\n",
       "      <td>auto</td>\n",
       "      <td>163</td>\n",
       "      <td>grand</td>\n",
       "      <td>125000</td>\n",
       "      <td>8</td>\n",
       "      <td>gasoline</td>\n",
       "      <td>jeep</td>\n",
       "      <td>NaN</td>\n",
       "      <td>2016-03-14 00:00:00</td>\n",
       "      <td>0</td>\n",
       "      <td>90480</td>\n",
       "      <td>2016-04-05 12:47:46</td>\n",
       "    </tr>\n",
       "    <tr>\n",
       "      <th>3</th>\n",
       "      <td>2016-03-17 16:54:04</td>\n",
       "      <td>1500</td>\n",
       "      <td>small</td>\n",
       "      <td>2001</td>\n",
       "      <td>manual</td>\n",
       "      <td>75</td>\n",
       "      <td>golf</td>\n",
       "      <td>150000</td>\n",
       "      <td>6</td>\n",
       "      <td>petrol</td>\n",
       "      <td>volkswagen</td>\n",
       "      <td>no</td>\n",
       "      <td>2016-03-17 00:00:00</td>\n",
       "      <td>0</td>\n",
       "      <td>91074</td>\n",
       "      <td>2016-03-17 17:40:17</td>\n",
       "    </tr>\n",
       "    <tr>\n",
       "      <th>4</th>\n",
       "      <td>2016-03-31 17:25:20</td>\n",
       "      <td>3600</td>\n",
       "      <td>small</td>\n",
       "      <td>2008</td>\n",
       "      <td>manual</td>\n",
       "      <td>69</td>\n",
       "      <td>fabia</td>\n",
       "      <td>90000</td>\n",
       "      <td>7</td>\n",
       "      <td>gasoline</td>\n",
       "      <td>skoda</td>\n",
       "      <td>no</td>\n",
       "      <td>2016-03-31 00:00:00</td>\n",
       "      <td>0</td>\n",
       "      <td>60437</td>\n",
       "      <td>2016-04-06 10:17:21</td>\n",
       "    </tr>\n",
       "  </tbody>\n",
       "</table>\n",
       "</div>"
      ],
      "text/plain": [
       "           DateCrawled  Price VehicleType  RegistrationYear Gearbox  Power  \\\n",
       "0  2016-03-24 11:52:17    480         NaN              1993  manual      0   \n",
       "1  2016-03-24 10:58:45  18300       coupe              2011  manual    190   \n",
       "2  2016-03-14 12:52:21   9800         suv              2004    auto    163   \n",
       "3  2016-03-17 16:54:04   1500       small              2001  manual     75   \n",
       "4  2016-03-31 17:25:20   3600       small              2008  manual     69   \n",
       "\n",
       "   Model  Kilometer  RegistrationMonth  FuelType       Brand Repaired  \\\n",
       "0   golf     150000                  0    petrol  volkswagen      NaN   \n",
       "1    NaN     125000                  5  gasoline        audi      yes   \n",
       "2  grand     125000                  8  gasoline        jeep      NaN   \n",
       "3   golf     150000                  6    petrol  volkswagen       no   \n",
       "4  fabia      90000                  7  gasoline       skoda       no   \n",
       "\n",
       "           DateCreated  NumberOfPictures  PostalCode             LastSeen  \n",
       "0  2016-03-24 00:00:00                 0       70435  2016-04-07 03:16:57  \n",
       "1  2016-03-24 00:00:00                 0       66954  2016-04-07 01:46:50  \n",
       "2  2016-03-14 00:00:00                 0       90480  2016-04-05 12:47:46  \n",
       "3  2016-03-17 00:00:00                 0       91074  2016-03-17 17:40:17  \n",
       "4  2016-03-31 00:00:00                 0       60437  2016-04-06 10:17:21  "
      ]
     },
     "execution_count": 8,
     "metadata": {},
     "output_type": "execute_result"
    }
   ],
   "source": [
    "df.head()"
   ]
  },
  {
   "cell_type": "markdown",
   "metadata": {},
   "source": [
    "В нашем распоряжении имеется датасет размером примерно в 354 тысячи объектов и 16 признаков. Признаки есть строковые и целочисленные. Присутствуют пропуски и нулевые значения. \n",
    "\n",
    "Признаки:\n",
    "\n",
    "- `DateCrawled` — дата скачивания анкеты из базы\n",
    "- `VehicleType` — тип автомобильного кузова\n",
    "- `RegistrationYear` — год регистрации автомобиля\n",
    "- `Gearbox` — тип коробки передач\n",
    "- `Power` — мощность (л. с.)\n",
    "- `Model` — модель автомобиля\n",
    "- `Kilometer` — пробег (км)\n",
    "- `RegistrationMonth` — месяц регистрации автомобиля\n",
    "- `FuelType` — тип топлива\n",
    "- `Brand` — марка автомобиля\n",
    "- `Repaired` — была машина в ремонте или нет\n",
    "- `DateCreated` — дата создания анкеты\n",
    "- `NumberOfPictures` — количество фотографий автомобиля\n",
    "- `PostalCode` — почтовый индекс владельца анкеты (пользователя)\n",
    "- `LastSeen` — дата последней активности пользователя\n",
    "\n",
    "Целевой признак:\n",
    "- `Price` — цена (евро)"
   ]
  },
  {
   "cell_type": "markdown",
   "metadata": {},
   "source": [
    "### Предобработка данных\n"
   ]
  },
  {
   "cell_type": "markdown",
   "metadata": {},
   "source": [
    "#### Дубликаты"
   ]
  },
  {
   "cell_type": "code",
   "execution_count": 9,
   "metadata": {},
   "outputs": [
    {
     "data": {
      "text/plain": [
       "4"
      ]
     },
     "execution_count": 9,
     "metadata": {},
     "output_type": "execute_result"
    }
   ],
   "source": [
    "# Проверим на дубликаты и удалим их.\n",
    "df.duplicated().sum()"
   ]
  },
  {
   "cell_type": "code",
   "execution_count": 10,
   "metadata": {},
   "outputs": [
    {
     "data": {
      "text/plain": [
       "0"
      ]
     },
     "execution_count": 10,
     "metadata": {},
     "output_type": "execute_result"
    }
   ],
   "source": [
    "df = df.drop_duplicates().reset_index(drop=True)\n",
    "\n",
    "df.duplicated().sum()"
   ]
  },
  {
   "cell_type": "markdown",
   "metadata": {},
   "source": [
    "#### Проверка дат "
   ]
  },
  {
   "cell_type": "markdown",
   "metadata": {},
   "source": [
    "Проверим, что год и месяц выпуска авто не меньше, чем дата создания объявления "
   ]
  },
  {
   "cell_type": "markdown",
   "metadata": {},
   "source": [
    "##### DateCrawled\n"
   ]
  },
  {
   "cell_type": "code",
   "execution_count": 11,
   "metadata": {},
   "outputs": [
    {
     "data": {
      "text/plain": [
       "0         2016-03-24 11:52:17\n",
       "1         2016-03-24 10:58:45\n",
       "2         2016-03-14 12:52:21\n",
       "3         2016-03-17 16:54:04\n",
       "4         2016-03-31 17:25:20\n",
       "                 ...         \n",
       "354360    2016-03-21 09:50:58\n",
       "354361    2016-03-14 17:48:27\n",
       "354362    2016-03-05 19:56:21\n",
       "354363    2016-03-19 18:57:12\n",
       "354364    2016-03-20 19:41:08\n",
       "Name: DateCrawled, Length: 354365, dtype: object"
      ]
     },
     "execution_count": 11,
     "metadata": {},
     "output_type": "execute_result"
    }
   ],
   "source": [
    "df['DateCrawled']"
   ]
  },
  {
   "cell_type": "code",
   "execution_count": 12,
   "metadata": {},
   "outputs": [
    {
     "data": {
      "text/plain": [
       "0        2016-03-24 11:52:17\n",
       "1        2016-03-24 10:58:45\n",
       "2        2016-03-14 12:52:21\n",
       "3        2016-03-17 16:54:04\n",
       "4        2016-03-31 17:25:20\n",
       "                 ...        \n",
       "354360   2016-03-21 09:50:58\n",
       "354361   2016-03-14 17:48:27\n",
       "354362   2016-03-05 19:56:21\n",
       "354363   2016-03-19 18:57:12\n",
       "354364   2016-03-20 19:41:08\n",
       "Name: DateCrawled, Length: 354365, dtype: datetime64[ns]"
      ]
     },
     "execution_count": 12,
     "metadata": {},
     "output_type": "execute_result"
    }
   ],
   "source": [
    "# Преобразуем DateCrawled в формат datetime\n",
    "df['DateCrawled'] = pd.to_datetime(df['DateCrawled'], format='%Y-%m-%d %H:%M:%S')\n",
    "df['DateCrawled']"
   ]
  },
  {
   "cell_type": "code",
   "execution_count": 13,
   "metadata": {},
   "outputs": [
    {
     "data": {
      "text/plain": [
       "Timestamp('2016-03-05 14:06:22')"
      ]
     },
     "metadata": {},
     "output_type": "display_data"
    },
    {
     "data": {
      "text/plain": [
       "Timestamp('2016-04-07 14:36:58')"
      ]
     },
     "execution_count": 13,
     "metadata": {},
     "output_type": "execute_result"
    }
   ],
   "source": [
    "# Проверим самую ранюю и самую позднюю дату выгрузки\n",
    "display(df['DateCrawled'].min())\n",
    "df['DateCrawled'].max()"
   ]
  },
  {
   "cell_type": "markdown",
   "metadata": {},
   "source": [
    "##### RegistrationYear\n"
   ]
  },
  {
   "cell_type": "code",
   "execution_count": 14,
   "metadata": {},
   "outputs": [
    {
     "data": {
      "text/plain": [
       "0         1993\n",
       "1         2011\n",
       "2         2004\n",
       "3         2001\n",
       "4         2008\n",
       "          ... \n",
       "354360    2005\n",
       "354361    2005\n",
       "354362    2000\n",
       "354363    1996\n",
       "354364    2002\n",
       "Name: RegistrationYear, Length: 354365, dtype: int64"
      ]
     },
     "metadata": {},
     "output_type": "display_data"
    },
    {
     "data": {
      "text/plain": [
       "array([1000, 1001, 1039, 1111, 1200, 1234, 1253, 1255, 1300, 1400, 1500,\n",
       "       1600, 1602, 1688, 1800, 1910, 1915, 1919, 1920, 1923, 1925, 1927,\n",
       "       1928, 1929, 1930, 1931, 1932, 1933, 1934, 1935, 1936, 1937, 1938,\n",
       "       1940, 1941, 1942, 1943, 1944, 1945, 1946, 1947, 1948, 1949, 1950,\n",
       "       1951, 1952, 1953, 1954, 1955, 1956, 1957, 1958, 1959, 1960, 1961,\n",
       "       1962, 1963, 1964, 1965, 1966, 1967, 1968, 1969, 1970, 1971, 1972,\n",
       "       1973, 1974, 1975, 1976, 1977, 1978, 1979, 1980, 1981, 1982, 1983,\n",
       "       1984, 1985, 1986, 1987, 1988, 1989, 1990, 1991, 1992, 1993, 1994,\n",
       "       1995, 1996, 1997, 1998, 1999, 2000, 2001, 2002, 2003, 2004, 2005,\n",
       "       2006, 2007, 2008, 2009, 2010, 2011, 2012, 2013, 2014, 2015, 2016,\n",
       "       2017, 2018, 2019, 2066, 2200, 2222, 2290, 2500, 2800, 2900, 3000,\n",
       "       3200, 3500, 3700, 3800, 4000, 4100, 4500, 4800, 5000, 5300, 5555,\n",
       "       5600, 5900, 5911, 6000, 6500, 7000, 7100, 7500, 7800, 8000, 8200,\n",
       "       8455, 8500, 8888, 9000, 9229, 9450, 9996, 9999])"
      ]
     },
     "execution_count": 14,
     "metadata": {},
     "output_type": "execute_result"
    }
   ],
   "source": [
    "display(df['RegistrationYear'])\n",
    "np.sort(df['RegistrationYear'].unique())"
   ]
  },
  {
   "cell_type": "markdown",
   "metadata": {},
   "source": [
    "Явно есть некорректные данные. Удалим записи, значения которых меньше 1910 и больше `df['DateCrawled'].dt.year.max()`"
   ]
  },
  {
   "cell_type": "code",
   "execution_count": 15,
   "metadata": {},
   "outputs": [],
   "source": [
    "df = df[(df['RegistrationYear'] >= 1910) & (df['RegistrationYear'] <= df['DateCrawled'].dt.year.max())].reset_index(drop=True)"
   ]
  },
  {
   "cell_type": "code",
   "execution_count": 16,
   "metadata": {},
   "outputs": [
    {
     "data": {
      "text/plain": [
       "339769"
      ]
     },
     "execution_count": 16,
     "metadata": {},
     "output_type": "execute_result"
    }
   ],
   "source": [
    "df.shape[0]"
   ]
  },
  {
   "cell_type": "code",
   "execution_count": 17,
   "metadata": {},
   "outputs": [
    {
     "data": {
      "text/plain": [
       "array([1910, 1915, 1919, 1920, 1923, 1925, 1927, 1928, 1929, 1930, 1931,\n",
       "       1932, 1933, 1934, 1935, 1936, 1937, 1938, 1940, 1941, 1942, 1943,\n",
       "       1944, 1945, 1946, 1947, 1948, 1949, 1950, 1951, 1952, 1953, 1954,\n",
       "       1955, 1956, 1957, 1958, 1959, 1960, 1961, 1962, 1963, 1964, 1965,\n",
       "       1966, 1967, 1968, 1969, 1970, 1971, 1972, 1973, 1974, 1975, 1976,\n",
       "       1977, 1978, 1979, 1980, 1981, 1982, 1983, 1984, 1985, 1986, 1987,\n",
       "       1988, 1989, 1990, 1991, 1992, 1993, 1994, 1995, 1996, 1997, 1998,\n",
       "       1999, 2000, 2001, 2002, 2003, 2004, 2005, 2006, 2007, 2008, 2009,\n",
       "       2010, 2011, 2012, 2013, 2014, 2015, 2016])"
      ]
     },
     "execution_count": 17,
     "metadata": {},
     "output_type": "execute_result"
    }
   ],
   "source": [
    "np.sort(df['RegistrationYear'].unique())"
   ]
  },
  {
   "cell_type": "markdown",
   "metadata": {},
   "source": [
    "Датасет стал меньше примерно на 15000 записей."
   ]
  },
  {
   "cell_type": "markdown",
   "metadata": {},
   "source": [
    "##### RegistrationMonth\n"
   ]
  },
  {
   "cell_type": "code",
   "execution_count": 18,
   "metadata": {},
   "outputs": [
    {
     "data": {
      "text/plain": [
       "0         0\n",
       "1         5\n",
       "2         8\n",
       "3         6\n",
       "4         7\n",
       "         ..\n",
       "339764    7\n",
       "339765    1\n",
       "339766    3\n",
       "339767    3\n",
       "339768    6\n",
       "Name: RegistrationMonth, Length: 339769, dtype: int64"
      ]
     },
     "execution_count": 18,
     "metadata": {},
     "output_type": "execute_result"
    }
   ],
   "source": [
    "df['RegistrationMonth']"
   ]
  },
  {
   "cell_type": "code",
   "execution_count": 19,
   "metadata": {},
   "outputs": [
    {
     "data": {
      "text/plain": [
       "array([ 0,  1,  2,  3,  4,  5,  6,  7,  8,  9, 10, 11, 12])"
      ]
     },
     "execution_count": 19,
     "metadata": {},
     "output_type": "execute_result"
    }
   ],
   "source": [
    "np.sort(df['RegistrationMonth'].unique())"
   ]
  },
  {
   "cell_type": "markdown",
   "metadata": {},
   "source": [
    "Похоже нулями заполнены объекты в случаях, если месяц регистрации был не известен."
   ]
  },
  {
   "cell_type": "code",
   "execution_count": 20,
   "metadata": {},
   "outputs": [
    {
     "data": {
      "text/plain": [
       "33616"
      ]
     },
     "execution_count": 20,
     "metadata": {},
     "output_type": "execute_result"
    }
   ],
   "source": [
    "df[df['RegistrationMonth'] == 0].shape[0]"
   ]
  },
  {
   "cell_type": "markdown",
   "metadata": {},
   "source": [
    "Довольно большое количество записей не содержит указания на месяц регистрации. Для сохранения данных будем считать, что месяцем регистрации в таком случае будет январь."
   ]
  },
  {
   "cell_type": "code",
   "execution_count": 21,
   "metadata": {},
   "outputs": [],
   "source": [
    "df['RegistrationMonth'][df['RegistrationMonth'] == 0] = 1"
   ]
  },
  {
   "cell_type": "code",
   "execution_count": 22,
   "metadata": {
    "scrolled": true
   },
   "outputs": [
    {
     "data": {
      "text/plain": [
       "array([ 1,  2,  3,  4,  5,  6,  7,  8,  9, 10, 11, 12])"
      ]
     },
     "execution_count": 22,
     "metadata": {},
     "output_type": "execute_result"
    }
   ],
   "source": [
    "np.sort(df['RegistrationMonth'].unique())"
   ]
  },
  {
   "cell_type": "markdown",
   "metadata": {},
   "source": [
    "##### Сравнение даты регистрации и даты выгрузки"
   ]
  },
  {
   "cell_type": "markdown",
   "metadata": {},
   "source": [
    "Напишем функцию, которая позволит нам отсеять записи, в которых дата регистрации позже даты выгрузки из БД."
   ]
  },
  {
   "cell_type": "code",
   "execution_count": 23,
   "metadata": {},
   "outputs": [],
   "source": [
    "# Функция для строки сравнивает дату скачивания объявления из БД с датой регистрации. \n",
    "# Возвращает False, если автомобиль зарегистрирован позже даты выгрузки из БД.\n",
    "def is_date_correct(row):\n",
    "    if row['RegistrationYear'] == row['DateCrawled'].year:\n",
    "        if row['RegistrationMonth'] <= row['DateCrawled'].month:\n",
    "            return True\n",
    "        else: \n",
    "            return False\n",
    "    else:\n",
    "        return True"
   ]
  },
  {
   "cell_type": "code",
   "execution_count": 24,
   "metadata": {},
   "outputs": [],
   "source": [
    "df['RegistrationDate_is_correct'] = df.apply(is_date_correct, axis=1)"
   ]
  },
  {
   "cell_type": "code",
   "execution_count": 25,
   "metadata": {
    "scrolled": true
   },
   "outputs": [
    {
     "data": {
      "text/plain": [
       "True     334540\n",
       "False      5229\n",
       "Name: RegistrationDate_is_correct, dtype: int64"
      ]
     },
     "execution_count": 25,
     "metadata": {},
     "output_type": "execute_result"
    }
   ],
   "source": [
    "df['RegistrationDate_is_correct'].value_counts()"
   ]
  },
  {
   "cell_type": "code",
   "execution_count": 26,
   "metadata": {},
   "outputs": [
    {
     "data": {
      "text/html": [
       "<div>\n",
       "<style scoped>\n",
       "    .dataframe tbody tr th:only-of-type {\n",
       "        vertical-align: middle;\n",
       "    }\n",
       "\n",
       "    .dataframe tbody tr th {\n",
       "        vertical-align: top;\n",
       "    }\n",
       "\n",
       "    .dataframe thead th {\n",
       "        text-align: right;\n",
       "    }\n",
       "</style>\n",
       "<table border=\"1\" class=\"dataframe\">\n",
       "  <thead>\n",
       "    <tr style=\"text-align: right;\">\n",
       "      <th></th>\n",
       "      <th>DateCrawled</th>\n",
       "      <th>Price</th>\n",
       "      <th>VehicleType</th>\n",
       "      <th>RegistrationYear</th>\n",
       "      <th>Gearbox</th>\n",
       "      <th>Power</th>\n",
       "      <th>Model</th>\n",
       "      <th>Kilometer</th>\n",
       "      <th>RegistrationMonth</th>\n",
       "      <th>FuelType</th>\n",
       "      <th>Brand</th>\n",
       "      <th>Repaired</th>\n",
       "      <th>DateCreated</th>\n",
       "      <th>NumberOfPictures</th>\n",
       "      <th>PostalCode</th>\n",
       "      <th>LastSeen</th>\n",
       "      <th>RegistrationDate_is_correct</th>\n",
       "    </tr>\n",
       "  </thead>\n",
       "  <tbody>\n",
       "    <tr>\n",
       "      <th>29</th>\n",
       "      <td>2016-03-29 16:57:02</td>\n",
       "      <td>899</td>\n",
       "      <td>NaN</td>\n",
       "      <td>2016</td>\n",
       "      <td>manual</td>\n",
       "      <td>60</td>\n",
       "      <td>clio</td>\n",
       "      <td>150000</td>\n",
       "      <td>6</td>\n",
       "      <td>petrol</td>\n",
       "      <td>renault</td>\n",
       "      <td>NaN</td>\n",
       "      <td>2016-03-29 00:00:00</td>\n",
       "      <td>0</td>\n",
       "      <td>37075</td>\n",
       "      <td>2016-03-29 17:43:07</td>\n",
       "      <td>False</td>\n",
       "    </tr>\n",
       "    <tr>\n",
       "      <th>33</th>\n",
       "      <td>2016-03-08 07:54:46</td>\n",
       "      <td>350</td>\n",
       "      <td>NaN</td>\n",
       "      <td>2016</td>\n",
       "      <td>manual</td>\n",
       "      <td>75</td>\n",
       "      <td>golf</td>\n",
       "      <td>150000</td>\n",
       "      <td>4</td>\n",
       "      <td>petrol</td>\n",
       "      <td>volkswagen</td>\n",
       "      <td>no</td>\n",
       "      <td>2016-03-08 00:00:00</td>\n",
       "      <td>0</td>\n",
       "      <td>19386</td>\n",
       "      <td>2016-03-08 09:44:50</td>\n",
       "      <td>False</td>\n",
       "    </tr>\n",
       "    <tr>\n",
       "      <th>190</th>\n",
       "      <td>2016-04-03 20:44:13</td>\n",
       "      <td>1999</td>\n",
       "      <td>NaN</td>\n",
       "      <td>2016</td>\n",
       "      <td>manual</td>\n",
       "      <td>110</td>\n",
       "      <td>almera</td>\n",
       "      <td>150000</td>\n",
       "      <td>9</td>\n",
       "      <td>gasoline</td>\n",
       "      <td>nissan</td>\n",
       "      <td>NaN</td>\n",
       "      <td>2016-04-03 00:00:00</td>\n",
       "      <td>0</td>\n",
       "      <td>10997</td>\n",
       "      <td>2016-04-05 21:17:18</td>\n",
       "      <td>False</td>\n",
       "    </tr>\n",
       "    <tr>\n",
       "      <th>280</th>\n",
       "      <td>2016-03-10 20:43:12</td>\n",
       "      <td>2390</td>\n",
       "      <td>NaN</td>\n",
       "      <td>2016</td>\n",
       "      <td>NaN</td>\n",
       "      <td>83</td>\n",
       "      <td>jazz</td>\n",
       "      <td>150000</td>\n",
       "      <td>12</td>\n",
       "      <td>petrol</td>\n",
       "      <td>honda</td>\n",
       "      <td>no</td>\n",
       "      <td>2016-03-10 00:00:00</td>\n",
       "      <td>0</td>\n",
       "      <td>78713</td>\n",
       "      <td>2016-03-13 03:17:27</td>\n",
       "      <td>False</td>\n",
       "    </tr>\n",
       "    <tr>\n",
       "      <th>388</th>\n",
       "      <td>2016-03-08 23:53:58</td>\n",
       "      <td>4500</td>\n",
       "      <td>NaN</td>\n",
       "      <td>2016</td>\n",
       "      <td>NaN</td>\n",
       "      <td>0</td>\n",
       "      <td>fox</td>\n",
       "      <td>60000</td>\n",
       "      <td>10</td>\n",
       "      <td>NaN</td>\n",
       "      <td>volkswagen</td>\n",
       "      <td>NaN</td>\n",
       "      <td>2016-03-08 00:00:00</td>\n",
       "      <td>0</td>\n",
       "      <td>41466</td>\n",
       "      <td>2016-04-06 23:17:29</td>\n",
       "      <td>False</td>\n",
       "    </tr>\n",
       "  </tbody>\n",
       "</table>\n",
       "</div>"
      ],
      "text/plain": [
       "            DateCrawled  Price VehicleType  RegistrationYear Gearbox  Power  \\\n",
       "29  2016-03-29 16:57:02    899         NaN              2016  manual     60   \n",
       "33  2016-03-08 07:54:46    350         NaN              2016  manual     75   \n",
       "190 2016-04-03 20:44:13   1999         NaN              2016  manual    110   \n",
       "280 2016-03-10 20:43:12   2390         NaN              2016     NaN     83   \n",
       "388 2016-03-08 23:53:58   4500         NaN              2016     NaN      0   \n",
       "\n",
       "      Model  Kilometer  RegistrationMonth  FuelType       Brand Repaired  \\\n",
       "29     clio     150000                  6    petrol     renault      NaN   \n",
       "33     golf     150000                  4    petrol  volkswagen       no   \n",
       "190  almera     150000                  9  gasoline      nissan      NaN   \n",
       "280    jazz     150000                 12    petrol       honda       no   \n",
       "388     fox      60000                 10       NaN  volkswagen      NaN   \n",
       "\n",
       "             DateCreated  NumberOfPictures  PostalCode             LastSeen  \\\n",
       "29   2016-03-29 00:00:00                 0       37075  2016-03-29 17:43:07   \n",
       "33   2016-03-08 00:00:00                 0       19386  2016-03-08 09:44:50   \n",
       "190  2016-04-03 00:00:00                 0       10997  2016-04-05 21:17:18   \n",
       "280  2016-03-10 00:00:00                 0       78713  2016-03-13 03:17:27   \n",
       "388  2016-03-08 00:00:00                 0       41466  2016-04-06 23:17:29   \n",
       "\n",
       "     RegistrationDate_is_correct  \n",
       "29                         False  \n",
       "33                         False  \n",
       "190                        False  \n",
       "280                        False  \n",
       "388                        False  "
      ]
     },
     "execution_count": 26,
     "metadata": {},
     "output_type": "execute_result"
    }
   ],
   "source": [
    "df[df['RegistrationDate_is_correct'] == False].head()"
   ]
  },
  {
   "cell_type": "markdown",
   "metadata": {},
   "source": [
    "Чуть больше 5000 записей содержат некорректные даты регистрации. Удалим их."
   ]
  },
  {
   "cell_type": "code",
   "execution_count": 27,
   "metadata": {},
   "outputs": [],
   "source": [
    "df = df[df['RegistrationDate_is_correct'] == True].reset_index(drop=True)"
   ]
  },
  {
   "cell_type": "code",
   "execution_count": 28,
   "metadata": {
    "scrolled": true
   },
   "outputs": [
    {
     "data": {
      "text/plain": [
       "True    334540\n",
       "Name: RegistrationDate_is_correct, dtype: int64"
      ]
     },
     "execution_count": 28,
     "metadata": {},
     "output_type": "execute_result"
    }
   ],
   "source": [
    "df['RegistrationDate_is_correct'].value_counts()"
   ]
  },
  {
   "cell_type": "markdown",
   "metadata": {},
   "source": [
    "#### Избыточные признаки"
   ]
  },
  {
   "cell_type": "markdown",
   "metadata": {},
   "source": [
    "Откажемся от признаков, которые нам не нужны: `DateCrawled`, `RegistrationMonth`, `DateCreated`, `NumberOfPictures`, `PostalCode`, `LastSeen`, `RegistrationDate_is_correct`. От месяца регистрации отказываемся, т.к. он оказывает минимальное влияние и может только всё усложнить из-за своей повторяющейся структуры: после 12 месяца идёт 1 месяц (чтобы корректно это отобразить, необходимо выразить признак через sin/cos).\n",
    "\n"
   ]
  },
  {
   "cell_type": "code",
   "execution_count": 29,
   "metadata": {},
   "outputs": [
    {
     "name": "stdout",
     "output_type": "stream",
     "text": [
      "<class 'pandas.core.frame.DataFrame'>\n",
      "RangeIndex: 334540 entries, 0 to 334539\n",
      "Data columns (total 10 columns):\n",
      " #   Column            Non-Null Count   Dtype \n",
      "---  ------            --------------   ----- \n",
      " 0   Price             334540 non-null  int64 \n",
      " 1   VehicleType       316826 non-null  object\n",
      " 2   RegistrationYear  334540 non-null  int64 \n",
      " 3   Gearbox           317111 non-null  object\n",
      " 4   Power             334540 non-null  int64 \n",
      " 5   Model             317581 non-null  object\n",
      " 6   Kilometer         334540 non-null  int64 \n",
      " 7   FuelType          309396 non-null  object\n",
      " 8   Brand             334540 non-null  object\n",
      " 9   Repaired          271910 non-null  object\n",
      "dtypes: int64(4), object(6)\n",
      "memory usage: 25.5+ MB\n"
     ]
    }
   ],
   "source": [
    "columns = ['DateCrawled', 'RegistrationMonth', 'DateCreated', 'NumberOfPictures', 'PostalCode', 'LastSeen', 'RegistrationDate_is_correct']\n",
    "\n",
    "df = df.drop(columns, axis=1)\n",
    "\n",
    "df.info()"
   ]
  },
  {
   "cell_type": "markdown",
   "metadata": {},
   "source": [
    "#### Уникальные объекты"
   ]
  },
  {
   "cell_type": "markdown",
   "metadata": {},
   "source": [
    "Взглянем на уникальные значения в строковых признаках"
   ]
  },
  {
   "cell_type": "code",
   "execution_count": 30,
   "metadata": {},
   "outputs": [
    {
     "data": {
      "text/plain": [
       "array([nan, 'coupe', 'suv', 'small', 'sedan', 'convertible', 'bus',\n",
       "       'wagon', 'other'], dtype=object)"
      ]
     },
     "execution_count": 30,
     "metadata": {},
     "output_type": "execute_result"
    }
   ],
   "source": [
    "df['VehicleType'].unique()"
   ]
  },
  {
   "cell_type": "code",
   "execution_count": 31,
   "metadata": {},
   "outputs": [
    {
     "data": {
      "text/plain": [
       "array(['manual', 'auto', nan], dtype=object)"
      ]
     },
     "execution_count": 31,
     "metadata": {},
     "output_type": "execute_result"
    }
   ],
   "source": [
    "df['Gearbox'].unique()"
   ]
  },
  {
   "cell_type": "code",
   "execution_count": 32,
   "metadata": {
    "scrolled": true
   },
   "outputs": [
    {
     "data": {
      "text/plain": [
       "array(['golf', nan, 'grand', 'fabia', '3er', '2_reihe', 'other', 'c_max',\n",
       "       '3_reihe', 'passat', 'navara', 'ka', 'polo', 'twingo', 'a_klasse',\n",
       "       'scirocco', '5er', 'arosa', 'civic', 'transporter', 'punto',\n",
       "       'e_klasse', 'kadett', 'kangoo', 'corsa', 'one', 'fortwo', 'clio',\n",
       "       '1er', 'b_klasse', 'signum', 'astra', 'a8', 'jetta', 'fiesta',\n",
       "       'c_klasse', 'micra', 'vito', 'sprinter', '156', 'escort',\n",
       "       'forester', 'xc_reihe', 'scenic', 'a4', 'a1', 'insignia', 'combo',\n",
       "       'focus', 'tt', 'a6', 'jazz', 'omega', 'slk', '7er', '80', '147',\n",
       "       '100', 'meriva', 'z_reihe', 'sorento', 'v40', 'ibiza', 'mustang',\n",
       "       'eos', 'touran', 'getz', 'a3', 'megane', 'lupo', 'r19', 'caddy',\n",
       "       'mondeo', 'cordoba', 'colt', 'impreza', 'vectra', 'berlingo',\n",
       "       'tiguan', 'sharan', '6_reihe', 'c4', 'panda', 'up', 'i_reihe',\n",
       "       'ceed', '5_reihe', 'yeti', 'octavia', 'zafira', 'mii', 'rx_reihe',\n",
       "       '6er', 'modus', 'fox', 'matiz', 'beetle', 'c1', 'rio', 'touareg',\n",
       "       'logan', 'spider', 'cuore', 's_max', 'a2', 'galaxy', 'c3', 'viano',\n",
       "       's_klasse', '1_reihe', 'avensis', 'roomster', 'sl', 'kaefer',\n",
       "       'santa', 'cooper', 'leon', '4_reihe', 'a5', 'sportage', 'laguna',\n",
       "       'ptcruiser', 'clk', 'primera', 'espace', 'x_reihe', 'exeo', '159',\n",
       "       'transit', 'juke', 'qashqai', 'carisma', 'accord', 'corolla',\n",
       "       'lanos', 'phaeton', 'verso', 'swift', 'rav', 'picanto', 'boxster',\n",
       "       'kalos', 'superb', 'stilo', 'alhambra', 'mx_reihe', 'roadster',\n",
       "       'ypsilon', 'cayenne', 'galant', 'justy', '90', 'sirion',\n",
       "       'crossfire', 'agila', 'duster', 'v50', '500', 'c_reihe',\n",
       "       'v_klasse', 'm_klasse', 'yaris', 'c5', 'aygo', 'almera',\n",
       "       'seicento', 'cc', 'fusion', '911', 'bora', 'forfour', 'm_reihe',\n",
       "       'cl', 'tigra', '300c', 'cr_reihe', 'spark', 'v70', 'kuga',\n",
       "       'x_type', 'ducato', 's_type', 'x_trail', 'toledo', 'altea',\n",
       "       'voyager', 'calibra', 'carnival', 'bravo', 'antara', 'tucson',\n",
       "       'citigo', 'jimny', 'wrangler', 'lybra', 'q7', 'lancer', 'captiva',\n",
       "       'discovery', 'freelander', 'sandero', 'note', '900', 'cherokee',\n",
       "       'clubman', 'samara', 'defender', 'cx_reihe', 'legacy', '601',\n",
       "       'pajero', 'auris', 'c2', 'niva', 's60', 'nubira', 'vivaro',\n",
       "       'g_klasse', 'lodgy', '850', 'range_rover', 'q3', 'serie_2', 'glk',\n",
       "       'charade', 'croma', 'outlander', 'doblo', 'musa', 'move', '9000',\n",
       "       'v60', '145', '200', 'b_max', 'range_rover_sport', 'aveo',\n",
       "       'terios', 'rangerover', 'q5', 'range_rover_evoque', 'materia',\n",
       "       'delta', 'gl', 'kalina', 'elefantino', 'i3', 'amarok', 'kappa',\n",
       "       'serie_3', 'serie_1'], dtype=object)"
      ]
     },
     "execution_count": 32,
     "metadata": {},
     "output_type": "execute_result"
    }
   ],
   "source": [
    "df['Model'].unique()"
   ]
  },
  {
   "cell_type": "code",
   "execution_count": 33,
   "metadata": {},
   "outputs": [
    {
     "data": {
      "text/plain": [
       "array(['petrol', 'gasoline', nan, 'lpg', 'other', 'hybrid', 'cng',\n",
       "       'electric'], dtype=object)"
      ]
     },
     "execution_count": 33,
     "metadata": {},
     "output_type": "execute_result"
    }
   ],
   "source": [
    "df['FuelType'].unique()"
   ]
  },
  {
   "cell_type": "markdown",
   "metadata": {},
   "source": [
    "Обращают на себя внимание типы топлива 'lpg' и 'cng'. Это не ошибка, такие типы топлива существуют - это сжиженный газ.\n",
    "\n",
    "> CNG is an abbreviation of “Compressed Natural Gas” whereas LPG is an abbreviation of “Liquefied Petroleum Gas”. The primary difference between CNG and LPG lies in the components that make up these fuels. While CNG is primarily made up of Methane, LPG is primarily made up of propane.\n",
    "\n",
    "Оставляем."
   ]
  },
  {
   "cell_type": "code",
   "execution_count": 34,
   "metadata": {},
   "outputs": [
    {
     "data": {
      "text/plain": [
       "array(['volkswagen', 'audi', 'jeep', 'skoda', 'bmw', 'peugeot', 'ford',\n",
       "       'mazda', 'nissan', 'renault', 'mercedes_benz', 'seat', 'honda',\n",
       "       'fiat', 'opel', 'mini', 'smart', 'hyundai', 'sonstige_autos',\n",
       "       'alfa_romeo', 'subaru', 'volvo', 'mitsubishi', 'kia', 'suzuki',\n",
       "       'lancia', 'citroen', 'toyota', 'chevrolet', 'dacia', 'daihatsu',\n",
       "       'trabant', 'saab', 'chrysler', 'jaguar', 'daewoo', 'porsche',\n",
       "       'rover', 'land_rover', 'lada'], dtype=object)"
      ]
     },
     "execution_count": 34,
     "metadata": {},
     "output_type": "execute_result"
    }
   ],
   "source": [
    "df['Brand'].unique()"
   ]
  },
  {
   "cell_type": "code",
   "execution_count": 35,
   "metadata": {},
   "outputs": [
    {
     "data": {
      "text/plain": [
       "array([nan, 'yes', 'no'], dtype=object)"
      ]
     },
     "execution_count": 35,
     "metadata": {},
     "output_type": "execute_result"
    }
   ],
   "source": [
    "df['Repaired'].unique()"
   ]
  },
  {
   "cell_type": "markdown",
   "metadata": {},
   "source": [
    "#### Пропуски"
   ]
  },
  {
   "cell_type": "code",
   "execution_count": 36,
   "metadata": {},
   "outputs": [
    {
     "name": "stdout",
     "output_type": "stream",
     "text": [
      "<class 'pandas.core.frame.DataFrame'>\n",
      "RangeIndex: 334540 entries, 0 to 334539\n",
      "Data columns (total 10 columns):\n",
      " #   Column            Non-Null Count   Dtype \n",
      "---  ------            --------------   ----- \n",
      " 0   Price             334540 non-null  int64 \n",
      " 1   VehicleType       316826 non-null  object\n",
      " 2   RegistrationYear  334540 non-null  int64 \n",
      " 3   Gearbox           317111 non-null  object\n",
      " 4   Power             334540 non-null  int64 \n",
      " 5   Model             317581 non-null  object\n",
      " 6   Kilometer         334540 non-null  int64 \n",
      " 7   FuelType          309396 non-null  object\n",
      " 8   Brand             334540 non-null  object\n",
      " 9   Repaired          271910 non-null  object\n",
      "dtypes: int64(4), object(6)\n",
      "memory usage: 25.5+ MB\n"
     ]
    }
   ],
   "source": [
    "df.info()"
   ]
  },
  {
   "cell_type": "markdown",
   "metadata": {},
   "source": [
    "Довольно много пропусков в категориальных признаках и все эти признаки нам важны. Заполним пропуски значением 'no_data'."
   ]
  },
  {
   "cell_type": "code",
   "execution_count": 37,
   "metadata": {},
   "outputs": [
    {
     "name": "stdout",
     "output_type": "stream",
     "text": [
      "<class 'pandas.core.frame.DataFrame'>\n",
      "RangeIndex: 334540 entries, 0 to 334539\n",
      "Data columns (total 10 columns):\n",
      " #   Column            Non-Null Count   Dtype \n",
      "---  ------            --------------   ----- \n",
      " 0   Price             334540 non-null  int64 \n",
      " 1   VehicleType       334540 non-null  object\n",
      " 2   RegistrationYear  334540 non-null  int64 \n",
      " 3   Gearbox           334540 non-null  object\n",
      " 4   Power             334540 non-null  int64 \n",
      " 5   Model             334540 non-null  object\n",
      " 6   Kilometer         334540 non-null  int64 \n",
      " 7   FuelType          334540 non-null  object\n",
      " 8   Brand             334540 non-null  object\n",
      " 9   Repaired          334540 non-null  object\n",
      "dtypes: int64(4), object(6)\n",
      "memory usage: 25.5+ MB\n"
     ]
    }
   ],
   "source": [
    "df = df.fillna('no_data')\n",
    "df.info()"
   ]
  },
  {
   "cell_type": "markdown",
   "metadata": {},
   "source": [
    "#### Выбросы в числовых признаках"
   ]
  },
  {
   "cell_type": "code",
   "execution_count": 38,
   "metadata": {},
   "outputs": [
    {
     "data": {
      "text/html": [
       "<div>\n",
       "<style scoped>\n",
       "    .dataframe tbody tr th:only-of-type {\n",
       "        vertical-align: middle;\n",
       "    }\n",
       "\n",
       "    .dataframe tbody tr th {\n",
       "        vertical-align: top;\n",
       "    }\n",
       "\n",
       "    .dataframe thead th {\n",
       "        text-align: right;\n",
       "    }\n",
       "</style>\n",
       "<table border=\"1\" class=\"dataframe\">\n",
       "  <thead>\n",
       "    <tr style=\"text-align: right;\">\n",
       "      <th></th>\n",
       "      <th>Price</th>\n",
       "      <th>RegistrationYear</th>\n",
       "      <th>Power</th>\n",
       "      <th>Kilometer</th>\n",
       "    </tr>\n",
       "  </thead>\n",
       "  <tbody>\n",
       "    <tr>\n",
       "      <th>count</th>\n",
       "      <td>334540.00000</td>\n",
       "      <td>334540.000000</td>\n",
       "      <td>334540.000000</td>\n",
       "      <td>334540.000000</td>\n",
       "    </tr>\n",
       "    <tr>\n",
       "      <th>mean</th>\n",
       "      <td>4504.85313</td>\n",
       "      <td>2002.270948</td>\n",
       "      <td>111.372168</td>\n",
       "      <td>127979.479285</td>\n",
       "    </tr>\n",
       "    <tr>\n",
       "      <th>std</th>\n",
       "      <td>4558.24649</td>\n",
       "      <td>6.940503</td>\n",
       "      <td>183.722301</td>\n",
       "      <td>37950.260321</td>\n",
       "    </tr>\n",
       "    <tr>\n",
       "      <th>min</th>\n",
       "      <td>0.00000</td>\n",
       "      <td>1910.000000</td>\n",
       "      <td>0.000000</td>\n",
       "      <td>5000.000000</td>\n",
       "    </tr>\n",
       "    <tr>\n",
       "      <th>25%</th>\n",
       "      <td>1100.00000</td>\n",
       "      <td>1999.000000</td>\n",
       "      <td>69.000000</td>\n",
       "      <td>125000.000000</td>\n",
       "    </tr>\n",
       "    <tr>\n",
       "      <th>50%</th>\n",
       "      <td>2800.00000</td>\n",
       "      <td>2003.000000</td>\n",
       "      <td>105.000000</td>\n",
       "      <td>150000.000000</td>\n",
       "    </tr>\n",
       "    <tr>\n",
       "      <th>75%</th>\n",
       "      <td>6500.00000</td>\n",
       "      <td>2007.000000</td>\n",
       "      <td>143.000000</td>\n",
       "      <td>150000.000000</td>\n",
       "    </tr>\n",
       "    <tr>\n",
       "      <th>max</th>\n",
       "      <td>20000.00000</td>\n",
       "      <td>2016.000000</td>\n",
       "      <td>20000.000000</td>\n",
       "      <td>150000.000000</td>\n",
       "    </tr>\n",
       "  </tbody>\n",
       "</table>\n",
       "</div>"
      ],
      "text/plain": [
       "              Price  RegistrationYear          Power      Kilometer\n",
       "count  334540.00000     334540.000000  334540.000000  334540.000000\n",
       "mean     4504.85313       2002.270948     111.372168  127979.479285\n",
       "std      4558.24649          6.940503     183.722301   37950.260321\n",
       "min         0.00000       1910.000000       0.000000    5000.000000\n",
       "25%      1100.00000       1999.000000      69.000000  125000.000000\n",
       "50%      2800.00000       2003.000000     105.000000  150000.000000\n",
       "75%      6500.00000       2007.000000     143.000000  150000.000000\n",
       "max     20000.00000       2016.000000   20000.000000  150000.000000"
      ]
     },
     "execution_count": 38,
     "metadata": {},
     "output_type": "execute_result"
    }
   ],
   "source": [
    "df.describe()"
   ]
  },
  {
   "cell_type": "markdown",
   "metadata": {},
   "source": [
    "##### Price"
   ]
  },
  {
   "cell_type": "code",
   "execution_count": 39,
   "metadata": {},
   "outputs": [
    {
     "data": {
      "image/png": "[encoded data removed]",
      "text/plain": [
       "<Figure size 1440x720 with 1 Axes>"
      ]
     },
     "metadata": {
      "needs_background": "light"
     },
     "output_type": "display_data"
    }
   ],
   "source": [
    "ax = df['Price'].plot.hist(bins=50, figsize=(20, 10), title='Гистограмма цен')\n",
    "\n",
    "ax.set_xlabel('Цена')\n",
    "ax.set_ylabel('Частота')\n",
    "\n",
    "\n",
    "plt.show()"
   ]
  },
  {
   "cell_type": "code",
   "execution_count": 40,
   "metadata": {},
   "outputs": [
    {
     "data": {
      "image/png": "[encoded data removed]",
      "text/plain": [
       "<Figure size 1440x720 with 1 Axes>"
      ]
     },
     "metadata": {
      "needs_background": "light"
     },
     "output_type": "display_data"
    }
   ],
   "source": [
    "ax = df['Price'].plot.box(figsize=(20, 10), title='Диаграмма размаха цен')\n",
    "\n",
    "ax.set_ylabel('Цена')\n",
    "ax.set(xticklabels=[])\n",
    "\n",
    "\n",
    "plt.show()"
   ]
  },
  {
   "cell_type": "code",
   "execution_count": 41,
   "metadata": {},
   "outputs": [
    {
     "data": {
      "text/plain": [
       "count    334540.00000\n",
       "mean       4504.85313\n",
       "std        4558.24649\n",
       "min           0.00000\n",
       "25%        1100.00000\n",
       "50%        2800.00000\n",
       "75%        6500.00000\n",
       "max       20000.00000\n",
       "Name: Price, dtype: float64"
      ]
     },
     "execution_count": 41,
     "metadata": {},
     "output_type": "execute_result"
    }
   ],
   "source": [
    "df['Price'].describe()"
   ]
  },
  {
   "cell_type": "markdown",
   "metadata": {},
   "source": [
    "Присутствуют выбросы как снизу (нулевые значения). Так и сверху. Верхние выбросы можно объяснить продажей дорогих авто. Нижние выбросы можно объяснить тем, что кто-то хочет избавиться от машины, которая годится только на металлолом и не на ходу. Удалим значения ниже 1000 евро."
   ]
  },
  {
   "cell_type": "code",
   "execution_count": 42,
   "metadata": {},
   "outputs": [],
   "source": [
    "df = df[~(df['Price'] <= 1000)]"
   ]
  },
  {
   "cell_type": "code",
   "execution_count": 43,
   "metadata": {},
   "outputs": [
    {
     "data": {
      "text/plain": [
       "count    253299.000000\n",
       "mean       5779.596122\n",
       "std        4551.457310\n",
       "min        1001.000000\n",
       "25%        2200.000000\n",
       "50%        4199.000000\n",
       "75%        7999.000000\n",
       "max       20000.000000\n",
       "Name: Price, dtype: float64"
      ]
     },
     "execution_count": 43,
     "metadata": {},
     "output_type": "execute_result"
    }
   ],
   "source": [
    "df['Price'].describe()"
   ]
  },
  {
   "cell_type": "markdown",
   "metadata": {},
   "source": [
    "##### RegistrationYear"
   ]
  },
  {
   "cell_type": "code",
   "execution_count": 44,
   "metadata": {},
   "outputs": [
    {
     "data": {
      "image/png": "[encoded data removed]",
      "text/plain": [
       "<Figure size 1440x720 with 1 Axes>"
      ]
     },
     "metadata": {
      "needs_background": "light"
     },
     "output_type": "display_data"
    }
   ],
   "source": [
    "ax = df['RegistrationYear'].plot.hist(bins=50, figsize=(20, 10), title='Гистограмма годов регистрации авто')\n",
    "\n",
    "ax.set_xlabel('Год регистрации')\n",
    "ax.set_ylabel('Частота')\n",
    "\n",
    "\n",
    "plt.show()"
   ]
  },
  {
   "cell_type": "code",
   "execution_count": 45,
   "metadata": {},
   "outputs": [
    {
     "data": {
      "image/png": "[encoded data removed]",
      "text/plain": [
       "<Figure size 1440x720 with 1 Axes>"
      ]
     },
     "metadata": {
      "needs_background": "light"
     },
     "output_type": "display_data"
    }
   ],
   "source": [
    "ax = df['RegistrationYear'].plot.box(figsize=(20, 10), title='Диаграмма размаха годов регистрации авто')\n",
    "\n",
    "ax.set_ylabel('Год регистрации')\n",
    "ax.set(xticklabels=[])\n",
    "\n",
    "\n",
    "plt.show()"
   ]
  },
  {
   "cell_type": "code",
   "execution_count": 46,
   "metadata": {},
   "outputs": [
    {
     "data": {
      "text/plain": [
       "count    253299.000000\n",
       "mean       2003.560717\n",
       "std           6.583924\n",
       "min        1910.000000\n",
       "25%        2001.000000\n",
       "50%        2004.000000\n",
       "75%        2008.000000\n",
       "max        2016.000000\n",
       "Name: RegistrationYear, dtype: float64"
      ]
     },
     "execution_count": 46,
     "metadata": {},
     "output_type": "execute_result"
    }
   ],
   "source": [
    "df['RegistrationYear'].describe()"
   ]
  },
  {
   "cell_type": "markdown",
   "metadata": {},
   "source": [
    "Иногда продаются очень старые авто. Это вполне возможно и важно уметь предсказывать цену на такие раритеты. Оставим всё как есть."
   ]
  },
  {
   "cell_type": "markdown",
   "metadata": {},
   "source": [
    "##### Power"
   ]
  },
  {
   "cell_type": "code",
   "execution_count": 47,
   "metadata": {},
   "outputs": [
    {
     "data": {
      "image/png": "[encoded data removed]",
      "text/plain": [
       "<Figure size 1440x720 with 1 Axes>"
      ]
     },
     "metadata": {
      "needs_background": "light"
     },
     "output_type": "display_data"
    }
   ],
   "source": [
    "ax = df['Power'].plot.hist(bins=50, figsize=(20, 10), title='Гистограмма мощности двигаетелей')\n",
    "\n",
    "ax.set_xlabel('Мощность двигателя, л.с.')\n",
    "ax.set_ylabel('Частота')\n",
    "\n",
    "\n",
    "plt.show()"
   ]
  },
  {
   "cell_type": "code",
   "execution_count": 48,
   "metadata": {},
   "outputs": [
    {
     "data": {
      "image/png": "[encoded data removed]",
      "text/plain": [
       "<Figure size 1440x720 with 1 Axes>"
      ]
     },
     "metadata": {
      "needs_background": "light"
     },
     "output_type": "display_data"
    }
   ],
   "source": [
    "ax = df['Power'].plot.box(figsize=(20, 10), title='Диаграмма размаха мощности двигателей')\n",
    "\n",
    "ax.set_ylabel('Мощность двигателя, л.с.')\n",
    "ax.set(xticklabels=[])\n",
    "\n",
    "\n",
    "plt.show()"
   ]
  },
  {
   "cell_type": "code",
   "execution_count": 49,
   "metadata": {},
   "outputs": [
    {
     "data": {
      "text/plain": [
       "count    253299.000000\n",
       "mean        123.277238\n",
       "std         191.215335\n",
       "min           0.000000\n",
       "25%          80.000000\n",
       "50%         116.000000\n",
       "75%         150.000000\n",
       "max       20000.000000\n",
       "Name: Power, dtype: float64"
      ]
     },
     "execution_count": 49,
     "metadata": {},
     "output_type": "execute_result"
    }
   ],
   "source": [
    "df['Power'].describe()"
   ]
  },
  {
   "cell_type": "markdown",
   "metadata": {},
   "source": [
    "Большие выбросы сверху. С высокой вероятностью - ошибка. Даже самые огромные экскаваторы LIEBHERR имеют только 4000 л.с. Некоторые штучные гоночные авто могут иметь 5000 л.с. ДВС для морских кораблей могут иметь подобную мощность, но мы их не продаём, поэтому уберём эти аномалии. \n",
    "\n",
    "Основываясь на [этой статье](https://www.cnet.com/roadshow/pictures/least-powerful-lowest-horsepower-cars-you-can-buy-pictures/5/), уберём автомобили с мощностью ДВС менее 100 л.с."
   ]
  },
  {
   "cell_type": "code",
   "execution_count": 50,
   "metadata": {},
   "outputs": [
    {
     "data": {
      "text/plain": [
       "306.0"
      ]
     },
     "metadata": {},
     "output_type": "display_data"
    }
   ],
   "source": [
    "top_cutoff = df['Power'].quantile(0.99)\n",
    "\n",
    "display(top_cutoff)"
   ]
  },
  {
   "cell_type": "markdown",
   "metadata": {},
   "source": [
    "99-ый перцентиль показывает адекватное значение. Оставим его в качестве верхнего предела."
   ]
  },
  {
   "cell_type": "code",
   "execution_count": 51,
   "metadata": {},
   "outputs": [],
   "source": [
    "df = df[(df['Power'] >= 100) & (df['Power'] <= top_cutoff)].reset_index(drop=True)"
   ]
  },
  {
   "cell_type": "code",
   "execution_count": 52,
   "metadata": {},
   "outputs": [
    {
     "data": {
      "text/plain": [
       "count    165743.000000\n",
       "mean        148.689441\n",
       "std          41.905578\n",
       "min         100.000000\n",
       "25%         116.000000\n",
       "50%         140.000000\n",
       "75%         170.000000\n",
       "max         306.000000\n",
       "Name: Power, dtype: float64"
      ]
     },
     "execution_count": 52,
     "metadata": {},
     "output_type": "execute_result"
    }
   ],
   "source": [
    "df['Power'].describe()"
   ]
  },
  {
   "cell_type": "markdown",
   "metadata": {},
   "source": [
    "##### Kilometer"
   ]
  },
  {
   "cell_type": "code",
   "execution_count": 53,
   "metadata": {},
   "outputs": [
    {
     "data": {
      "image/png": "[encoded data removed]",
      "text/plain": [
       "<Figure size 1440x720 with 1 Axes>"
      ]
     },
     "metadata": {
      "needs_background": "light"
     },
     "output_type": "display_data"
    }
   ],
   "source": [
    "ax = df['Kilometer'].plot.hist(bins=50, figsize=(20, 10), title='Гистограмма пробега авто')\n",
    "\n",
    "ax.set_xlabel('Пробег авто, км')\n",
    "ax.set_ylabel('Частота')\n",
    "\n",
    "\n",
    "plt.show()"
   ]
  },
  {
   "cell_type": "code",
   "execution_count": 54,
   "metadata": {},
   "outputs": [
    {
     "data": {
      "image/png": "[encoded data removed]",
      "text/plain": [
       "<Figure size 1440x720 with 1 Axes>"
      ]
     },
     "metadata": {
      "needs_background": "light"
     },
     "output_type": "display_data"
    }
   ],
   "source": [
    "df['Kilometer'].plot.box(figsize=(20, 10), title='Диаграмма размаха пробега авто')\n",
    "\n",
    "ax.set_ylabel('Пробег авто, км')\n",
    "ax.set(xticklabels=[])\n",
    "\n",
    "\n",
    "plt.show()"
   ]
  },
  {
   "cell_type": "code",
   "execution_count": 55,
   "metadata": {},
   "outputs": [
    {
     "data": {
      "text/plain": [
       "count    165743.000000\n",
       "mean     130107.003011\n",
       "std       34983.548652\n",
       "min        5000.000000\n",
       "25%      125000.000000\n",
       "50%      150000.000000\n",
       "75%      150000.000000\n",
       "max      150000.000000\n",
       "Name: Kilometer, dtype: float64"
      ]
     },
     "execution_count": 55,
     "metadata": {},
     "output_type": "execute_result"
    }
   ],
   "source": [
    "df['Kilometer'].describe()"
   ]
  },
  {
   "cell_type": "markdown",
   "metadata": {},
   "source": [
    "Присутствуют выбросы снизу. Вполне может быть правдоподобно - машина стояла в гараже и не ездила. Оставим всё как есть. "
   ]
  },
  {
   "cell_type": "markdown",
   "metadata": {},
   "source": [
    "#### Повторная проверка на дубликаты"
   ]
  },
  {
   "cell_type": "code",
   "execution_count": 56,
   "metadata": {},
   "outputs": [
    {
     "data": {
      "text/plain": [
       "21105"
      ]
     },
     "execution_count": 56,
     "metadata": {},
     "output_type": "execute_result"
    }
   ],
   "source": [
    "# Проверим ещё раз на дубликаты и удалим их.\n",
    "df.duplicated().sum()"
   ]
  },
  {
   "cell_type": "code",
   "execution_count": 57,
   "metadata": {},
   "outputs": [
    {
     "data": {
      "text/plain": [
       "0"
      ]
     },
     "execution_count": 57,
     "metadata": {},
     "output_type": "execute_result"
    }
   ],
   "source": [
    "df = df.drop_duplicates().reset_index(drop=True)\n",
    "\n",
    "df.duplicated().sum()"
   ]
  },
  {
   "cell_type": "markdown",
   "metadata": {},
   "source": [
    "#### Выводы"
   ]
  },
  {
   "cell_type": "code",
   "execution_count": 58,
   "metadata": {},
   "outputs": [
    {
     "name": "stdout",
     "output_type": "stream",
     "text": [
      "<class 'pandas.core.frame.DataFrame'>\n",
      "RangeIndex: 144638 entries, 0 to 144637\n",
      "Data columns (total 10 columns):\n",
      " #   Column            Non-Null Count   Dtype \n",
      "---  ------            --------------   ----- \n",
      " 0   Price             144638 non-null  int64 \n",
      " 1   VehicleType       144638 non-null  object\n",
      " 2   RegistrationYear  144638 non-null  int64 \n",
      " 3   Gearbox           144638 non-null  object\n",
      " 4   Power             144638 non-null  int64 \n",
      " 5   Model             144638 non-null  object\n",
      " 6   Kilometer         144638 non-null  int64 \n",
      " 7   FuelType          144638 non-null  object\n",
      " 8   Brand             144638 non-null  object\n",
      " 9   Repaired          144638 non-null  object\n",
      "dtypes: int64(4), object(6)\n",
      "memory usage: 11.0+ MB\n"
     ]
    },
    {
     "data": {
      "text/plain": [
       "None"
      ]
     },
     "metadata": {},
     "output_type": "display_data"
    },
    {
     "data": {
      "text/html": [
       "<div>\n",
       "<style scoped>\n",
       "    .dataframe tbody tr th:only-of-type {\n",
       "        vertical-align: middle;\n",
       "    }\n",
       "\n",
       "    .dataframe tbody tr th {\n",
       "        vertical-align: top;\n",
       "    }\n",
       "\n",
       "    .dataframe thead th {\n",
       "        text-align: right;\n",
       "    }\n",
       "</style>\n",
       "<table border=\"1\" class=\"dataframe\">\n",
       "  <thead>\n",
       "    <tr style=\"text-align: right;\">\n",
       "      <th></th>\n",
       "      <th>Price</th>\n",
       "      <th>RegistrationYear</th>\n",
       "      <th>Power</th>\n",
       "      <th>Kilometer</th>\n",
       "    </tr>\n",
       "  </thead>\n",
       "  <tbody>\n",
       "    <tr>\n",
       "      <th>count</th>\n",
       "      <td>144638.000000</td>\n",
       "      <td>144638.000000</td>\n",
       "      <td>144638.000000</td>\n",
       "      <td>144638.000000</td>\n",
       "    </tr>\n",
       "    <tr>\n",
       "      <th>mean</th>\n",
       "      <td>6807.832354</td>\n",
       "      <td>2004.003326</td>\n",
       "      <td>149.052248</td>\n",
       "      <td>129434.657559</td>\n",
       "    </tr>\n",
       "    <tr>\n",
       "      <th>std</th>\n",
       "      <td>4863.461551</td>\n",
       "      <td>5.747974</td>\n",
       "      <td>42.125440</td>\n",
       "      <td>35409.804901</td>\n",
       "    </tr>\n",
       "    <tr>\n",
       "      <th>min</th>\n",
       "      <td>1001.000000</td>\n",
       "      <td>1937.000000</td>\n",
       "      <td>100.000000</td>\n",
       "      <td>5000.000000</td>\n",
       "    </tr>\n",
       "    <tr>\n",
       "      <th>25%</th>\n",
       "      <td>2800.000000</td>\n",
       "      <td>2001.000000</td>\n",
       "      <td>116.000000</td>\n",
       "      <td>125000.000000</td>\n",
       "    </tr>\n",
       "    <tr>\n",
       "      <th>50%</th>\n",
       "      <td>5499.000000</td>\n",
       "      <td>2005.000000</td>\n",
       "      <td>140.000000</td>\n",
       "      <td>150000.000000</td>\n",
       "    </tr>\n",
       "    <tr>\n",
       "      <th>75%</th>\n",
       "      <td>9800.000000</td>\n",
       "      <td>2008.000000</td>\n",
       "      <td>170.000000</td>\n",
       "      <td>150000.000000</td>\n",
       "    </tr>\n",
       "    <tr>\n",
       "      <th>max</th>\n",
       "      <td>20000.000000</td>\n",
       "      <td>2016.000000</td>\n",
       "      <td>306.000000</td>\n",
       "      <td>150000.000000</td>\n",
       "    </tr>\n",
       "  </tbody>\n",
       "</table>\n",
       "</div>"
      ],
      "text/plain": [
       "               Price  RegistrationYear          Power      Kilometer\n",
       "count  144638.000000     144638.000000  144638.000000  144638.000000\n",
       "mean     6807.832354       2004.003326     149.052248  129434.657559\n",
       "std      4863.461551          5.747974      42.125440   35409.804901\n",
       "min      1001.000000       1937.000000     100.000000    5000.000000\n",
       "25%      2800.000000       2001.000000     116.000000  125000.000000\n",
       "50%      5499.000000       2005.000000     140.000000  150000.000000\n",
       "75%      9800.000000       2008.000000     170.000000  150000.000000\n",
       "max     20000.000000       2016.000000     306.000000  150000.000000"
      ]
     },
     "execution_count": 58,
     "metadata": {},
     "output_type": "execute_result"
    }
   ],
   "source": [
    "display(df.info())\n",
    "df.describe()"
   ]
  },
  {
   "cell_type": "markdown",
   "metadata": {},
   "source": [
    "В результате предобработки данных были обнаружены и обработаны аномалии в датасете. Размер датасета уменьшился с 350 тыс. объектов до 144 тыс. объектов. Были обработаны дубликаты, выбросы, некорректные записи"
   ]
  },
  {
   "cell_type": "markdown",
   "metadata": {},
   "source": [
    "## Обучение моделей"
   ]
  },
  {
   "cell_type": "markdown",
   "metadata": {},
   "source": [
    "### Разделение, кодирование и масштабирование данных "
   ]
  },
  {
   "cell_type": "markdown",
   "metadata": {},
   "source": [
    "#### Разделение выборок"
   ]
  },
  {
   "cell_type": "code",
   "execution_count": 59,
   "metadata": {},
   "outputs": [],
   "source": [
    "X = df.drop('Price', axis=1)\n",
    "y = df['Price']"
   ]
  },
  {
   "cell_type": "code",
   "execution_count": 60,
   "metadata": {},
   "outputs": [
    {
     "data": {
      "text/html": [
       "<div>\n",
       "<style scoped>\n",
       "    .dataframe tbody tr th:only-of-type {\n",
       "        vertical-align: middle;\n",
       "    }\n",
       "\n",
       "    .dataframe tbody tr th {\n",
       "        vertical-align: top;\n",
       "    }\n",
       "\n",
       "    .dataframe thead th {\n",
       "        text-align: right;\n",
       "    }\n",
       "</style>\n",
       "<table border=\"1\" class=\"dataframe\">\n",
       "  <thead>\n",
       "    <tr style=\"text-align: right;\">\n",
       "      <th></th>\n",
       "      <th>VehicleType</th>\n",
       "      <th>RegistrationYear</th>\n",
       "      <th>Gearbox</th>\n",
       "      <th>Power</th>\n",
       "      <th>Model</th>\n",
       "      <th>Kilometer</th>\n",
       "      <th>FuelType</th>\n",
       "      <th>Brand</th>\n",
       "      <th>Repaired</th>\n",
       "    </tr>\n",
       "  </thead>\n",
       "  <tbody>\n",
       "    <tr>\n",
       "      <th>0</th>\n",
       "      <td>coupe</td>\n",
       "      <td>2011</td>\n",
       "      <td>manual</td>\n",
       "      <td>190</td>\n",
       "      <td>no_data</td>\n",
       "      <td>125000</td>\n",
       "      <td>gasoline</td>\n",
       "      <td>audi</td>\n",
       "      <td>yes</td>\n",
       "    </tr>\n",
       "    <tr>\n",
       "      <th>1</th>\n",
       "      <td>suv</td>\n",
       "      <td>2004</td>\n",
       "      <td>auto</td>\n",
       "      <td>163</td>\n",
       "      <td>grand</td>\n",
       "      <td>125000</td>\n",
       "      <td>gasoline</td>\n",
       "      <td>jeep</td>\n",
       "      <td>no_data</td>\n",
       "    </tr>\n",
       "    <tr>\n",
       "      <th>2</th>\n",
       "      <td>convertible</td>\n",
       "      <td>2004</td>\n",
       "      <td>manual</td>\n",
       "      <td>109</td>\n",
       "      <td>2_reihe</td>\n",
       "      <td>150000</td>\n",
       "      <td>petrol</td>\n",
       "      <td>peugeot</td>\n",
       "      <td>no</td>\n",
       "    </tr>\n",
       "    <tr>\n",
       "      <th>3</th>\n",
       "      <td>bus</td>\n",
       "      <td>2014</td>\n",
       "      <td>manual</td>\n",
       "      <td>125</td>\n",
       "      <td>c_max</td>\n",
       "      <td>30000</td>\n",
       "      <td>petrol</td>\n",
       "      <td>ford</td>\n",
       "      <td>no_data</td>\n",
       "    </tr>\n",
       "    <tr>\n",
       "      <th>4</th>\n",
       "      <td>sedan</td>\n",
       "      <td>2004</td>\n",
       "      <td>manual</td>\n",
       "      <td>105</td>\n",
       "      <td>3_reihe</td>\n",
       "      <td>150000</td>\n",
       "      <td>petrol</td>\n",
       "      <td>mazda</td>\n",
       "      <td>no</td>\n",
       "    </tr>\n",
       "  </tbody>\n",
       "</table>\n",
       "</div>"
      ],
      "text/plain": [
       "   VehicleType  RegistrationYear Gearbox  Power    Model  Kilometer  FuelType  \\\n",
       "0        coupe              2011  manual    190  no_data     125000  gasoline   \n",
       "1          suv              2004    auto    163    grand     125000  gasoline   \n",
       "2  convertible              2004  manual    109  2_reihe     150000    petrol   \n",
       "3          bus              2014  manual    125    c_max      30000    petrol   \n",
       "4        sedan              2004  manual    105  3_reihe     150000    petrol   \n",
       "\n",
       "     Brand Repaired  \n",
       "0     audi      yes  \n",
       "1     jeep  no_data  \n",
       "2  peugeot       no  \n",
       "3     ford  no_data  \n",
       "4    mazda       no  "
      ]
     },
     "execution_count": 60,
     "metadata": {},
     "output_type": "execute_result"
    }
   ],
   "source": [
    "X.head()"
   ]
  },
  {
   "cell_type": "code",
   "execution_count": 61,
   "metadata": {},
   "outputs": [
    {
     "data": {
      "text/plain": [
       "0    18300\n",
       "1     9800\n",
       "2     2200\n",
       "3    14500\n",
       "4     2000\n",
       "Name: Price, dtype: int64"
      ]
     },
     "execution_count": 61,
     "metadata": {},
     "output_type": "execute_result"
    }
   ],
   "source": [
    "y.head()"
   ]
  },
  {
   "cell_type": "code",
   "execution_count": 62,
   "metadata": {},
   "outputs": [],
   "source": [
    "X_train, X_test, y_train, y_test = train_test_split(X, y, test_size=0.33, random_state=987654321)"
   ]
  },
  {
   "cell_type": "markdown",
   "metadata": {},
   "source": [
    "#### Кодирование и масштабирование признаков"
   ]
  },
  {
   "cell_type": "markdown",
   "metadata": {},
   "source": [
    "Ещё раз посмотрим на категориальные признаки"
   ]
  },
  {
   "cell_type": "code",
   "execution_count": 63,
   "metadata": {},
   "outputs": [
    {
     "data": {
      "text/plain": [
       "array(['coupe', 'suv', 'convertible', 'bus', 'sedan', 'wagon', 'other',\n",
       "       'no_data', 'small'], dtype=object)"
      ]
     },
     "execution_count": 63,
     "metadata": {},
     "output_type": "execute_result"
    }
   ],
   "source": [
    "df['VehicleType'].unique()"
   ]
  },
  {
   "cell_type": "code",
   "execution_count": 64,
   "metadata": {},
   "outputs": [
    {
     "data": {
      "text/plain": [
       "array(['manual', 'auto', 'no_data'], dtype=object)"
      ]
     },
     "execution_count": 64,
     "metadata": {},
     "output_type": "execute_result"
    }
   ],
   "source": [
    "df['Gearbox'].unique()"
   ]
  },
  {
   "cell_type": "code",
   "execution_count": 65,
   "metadata": {
    "scrolled": true
   },
   "outputs": [
    {
     "data": {
      "text/plain": [
       "array(['no_data', 'grand', '2_reihe', 'c_max', '3_reihe', 'passat',\n",
       "       'navara', 'a_klasse', 'scirocco', '5er', 'e_klasse', '3er',\n",
       "       'other', '1er', 'b_klasse', 'a8', 'jetta', 'c_klasse', 'golf',\n",
       "       'sprinter', 'forester', 'xc_reihe', 'scenic', 'focus', 'a4', 'tt',\n",
       "       'astra', 'a6', 'transporter', 'slk', '7er', '80', 'civic', '147',\n",
       "       'z_reihe', 'sorento', 'mustang', 'eos', 'vito', 'fabia', 'touran',\n",
       "       'insignia', 'megane', 'a3', 'impreza', 'a1', 'clio', 'tiguan',\n",
       "       '6_reihe', 'i_reihe', '5_reihe', 'yeti', 'octavia', 'zafira',\n",
       "       'rx_reihe', '6er', 'vectra', 'beetle', 'touareg', 'ibiza',\n",
       "       'spider', 's_max', 'galaxy', 'c3', 'viano', 'mondeo', 'sharan',\n",
       "       'avensis', 'sl', 'santa', 'leon', 'cooper', '4_reihe', 'a5',\n",
       "       'sportage', 'laguna', 'ptcruiser', 'clk', 'primera', 's_klasse',\n",
       "       'exeo', 'polo', '159', 'transit', 'juke', 'x_reihe', 'espace',\n",
       "       'c4', 'accord', 'corolla', 'phaeton', 'verso', 'rav', 'caddy',\n",
       "       'qashqai', 'boxster', 'superb', 'stilo', 'alhambra', 'one',\n",
       "       'fiesta', '90', 'signum', 'crossfire', 'duster', 'v50', 'mx_reihe',\n",
       "       'c_reihe', 'v_klasse', 'm_klasse', 'c5', 'cc', '911', 'bora',\n",
       "       'modus', 'meriva', 'cl', '156', '300c', '100', 'cr_reihe', 'kuga',\n",
       "       'x_type', 'ducato', 's_type', 'x_trail', 'toledo', 'altea',\n",
       "       'voyager', 'carnival', 'v70', 'omega', 'ceed', 'tucson', 'corsa',\n",
       "       'wrangler', 'lybra', 'captiva', 'fusion', 'discovery',\n",
       "       'freelander', 'tigra', 'q7', 'note', 'antara', '900', 'cherokee',\n",
       "       'clubman', 'a2', 'defender', 'fortwo', 'combo', 'lancer',\n",
       "       'cx_reihe', 'legacy', 'roomster', 'berlingo', 'colt', 'auris',\n",
       "       'c2', '500', 'swift', 'cayenne', 's60', 'pajero', 'nubira',\n",
       "       'vivaro', 'kadett', 'lupo', 'g_klasse', 'sirion', 'twingo',\n",
       "       'carisma', 'galant', 'lodgy', 'range_rover', 'almera', '850',\n",
       "       'rio', 'q3', 'serie_2', 'calibra', 'glk', 'v40', 'croma',\n",
       "       'outlander', 'doblo', '9000', 'v60', 'forfour', 'bravo', 'yaris',\n",
       "       '200', 'kangoo', '1_reihe', 'escort', 'cordoba', 'logan',\n",
       "       'range_rover_sport', 'punto', 'b_max', 'aveo', 'getz', 'panda',\n",
       "       'm_reihe', 'rangerover', 'q5', 'range_rover_evoque', 'micra',\n",
       "       'materia', 'terios', 'jazz', 'gl', 'roadster', 'delta', 'i3',\n",
       "       'kaefer', '145', 'amarok', 'kappa', 'r19', 'ka', 'picanto', 'up',\n",
       "       'arosa', 'kalos', 'charade', 'fox', 'justy', 'sandero'],\n",
       "      dtype=object)"
      ]
     },
     "execution_count": 65,
     "metadata": {},
     "output_type": "execute_result"
    }
   ],
   "source": [
    "df['Model'].unique()"
   ]
  },
  {
   "cell_type": "code",
   "execution_count": 66,
   "metadata": {},
   "outputs": [
    {
     "data": {
      "text/plain": [
       "array(['gasoline', 'petrol', 'no_data', 'lpg', 'other', 'hybrid', 'cng',\n",
       "       'electric'], dtype=object)"
      ]
     },
     "execution_count": 66,
     "metadata": {},
     "output_type": "execute_result"
    }
   ],
   "source": [
    "df['FuelType'].unique()"
   ]
  },
  {
   "cell_type": "code",
   "execution_count": 67,
   "metadata": {},
   "outputs": [
    {
     "data": {
      "text/plain": [
       "array(['audi', 'jeep', 'peugeot', 'ford', 'mazda', 'volkswagen', 'nissan',\n",
       "       'mercedes_benz', 'bmw', 'honda', 'subaru', 'volvo', 'renault',\n",
       "       'opel', 'alfa_romeo', 'kia', 'skoda', 'lancia', 'mitsubishi',\n",
       "       'toyota', 'hyundai', 'seat', 'citroen', 'mini', 'chrysler',\n",
       "       'sonstige_autos', 'jaguar', 'suzuki', 'rover', 'porsche', 'fiat',\n",
       "       'saab', 'chevrolet', 'dacia', 'land_rover', 'lada', 'daewoo',\n",
       "       'smart', 'daihatsu'], dtype=object)"
      ]
     },
     "execution_count": 67,
     "metadata": {},
     "output_type": "execute_result"
    }
   ],
   "source": [
    "df['Brand'].unique()"
   ]
  },
  {
   "cell_type": "code",
   "execution_count": 68,
   "metadata": {},
   "outputs": [
    {
     "data": {
      "text/plain": [
       "array(['yes', 'no_data', 'no'], dtype=object)"
      ]
     },
     "execution_count": 68,
     "metadata": {},
     "output_type": "execute_result"
    }
   ],
   "source": [
    "df['Repaired'].unique()"
   ]
  },
  {
   "cell_type": "code",
   "execution_count": 69,
   "metadata": {},
   "outputs": [
    {
     "data": {
      "text/plain": [
       "array([2011, 2004, 2014, 2005, 2007, 2009, 2002, 1995, 2006, 1998, 2012,\n",
       "       2008, 2000, 1992, 1997, 1984, 2003, 1999, 1991, 1996, 2001, 2010,\n",
       "       2015, 1994, 1989, 2013, 1983, 1981, 1969, 2016, 1990, 1985, 1988,\n",
       "       1980, 1993, 1986, 1974, 1987, 1982, 1978, 1976, 1972, 1968, 1966,\n",
       "       1961, 1977, 1979, 1973, 1965, 1975, 1971, 1958, 1962, 1956, 1970,\n",
       "       1959, 1950, 1951, 1963, 1967, 1955, 1964, 1960, 1952, 1957, 1948,\n",
       "       1954, 1937, 1947])"
      ]
     },
     "execution_count": 69,
     "metadata": {},
     "output_type": "execute_result"
    }
   ],
   "source": [
    "df['RegistrationYear'].unique()"
   ]
  },
  {
   "cell_type": "code",
   "execution_count": 70,
   "metadata": {},
   "outputs": [
    {
     "data": {
      "text/plain": [
       "array([125000, 150000,  30000,  70000, 100000,  20000,  50000,   5000,\n",
       "        60000,  10000,  90000,  80000,  40000])"
      ]
     },
     "execution_count": 70,
     "metadata": {},
     "output_type": "execute_result"
    }
   ],
   "source": [
    "df['Kilometer'].unique()"
   ]
  },
  {
   "cell_type": "markdown",
   "metadata": {},
   "source": [
    "Признаки VehicleType, Model, FuelType, Brand имеют довольно много значений. Особенно Model. RegistrationYear и Kilometer так же являются категориальными признаками, несмотря на то, что содержат числовые значения.\n",
    "\n",
    "Закодируем категориальные признаки с помощью бинарного кодирования (это смесь Hash Encoding и One-Hot Encoding). Бинарное кодирование хорошо себя показывает, когда категориальные признаки имеют большое множество значений и данное кодирование позволяет не раздувать пространство признаков слишком сильно."
   ]
  },
  {
   "cell_type": "code",
   "execution_count": 71,
   "metadata": {},
   "outputs": [],
   "source": [
    "cat_features = ['VehicleType','Gearbox', 'Model', 'FuelType', 'Brand', 'Repaired', 'RegistrationYear', 'Kilometer']\n",
    "num_features = ['Power']"
   ]
  },
  {
   "cell_type": "code",
   "execution_count": 72,
   "metadata": {},
   "outputs": [],
   "source": [
    "X_train_copy = X_train.copy()\n",
    "X_test_copy = X_test.copy()"
   ]
  },
  {
   "cell_type": "code",
   "execution_count": 73,
   "metadata": {},
   "outputs": [],
   "source": [
    "# Кодирование и масштабирование прризнаков\n",
    "encoder = ce.BinaryEncoder(cols=cat_features, return_df=True)\n",
    "\n",
    "encoder.fit(X_train_copy)\n",
    "\n",
    "X_train_copy = encoder.transform(X_train_copy)\n",
    "X_test_copy = encoder.transform(X_test_copy)\n",
    "\n",
    "scaler = StandardScaler()\n",
    "scaler.fit(X_train_copy[num_features])\n",
    "\n",
    "X_train_copy[num_features] = scaler.transform(X_train_copy[num_features])\n",
    "X_test_copy[num_features] = scaler.transform(X_test_copy[num_features])"
   ]
  },
  {
   "cell_type": "code",
   "execution_count": 74,
   "metadata": {},
   "outputs": [
    {
     "data": {
      "text/html": [
       "<div>\n",
       "<style scoped>\n",
       "    .dataframe tbody tr th:only-of-type {\n",
       "        vertical-align: middle;\n",
       "    }\n",
       "\n",
       "    .dataframe tbody tr th {\n",
       "        vertical-align: top;\n",
       "    }\n",
       "\n",
       "    .dataframe thead th {\n",
       "        text-align: right;\n",
       "    }\n",
       "</style>\n",
       "<table border=\"1\" class=\"dataframe\">\n",
       "  <thead>\n",
       "    <tr style=\"text-align: right;\">\n",
       "      <th></th>\n",
       "      <th>VehicleType_0</th>\n",
       "      <th>VehicleType_1</th>\n",
       "      <th>VehicleType_2</th>\n",
       "      <th>VehicleType_3</th>\n",
       "      <th>RegistrationYear_0</th>\n",
       "      <th>RegistrationYear_1</th>\n",
       "      <th>RegistrationYear_2</th>\n",
       "      <th>RegistrationYear_3</th>\n",
       "      <th>RegistrationYear_4</th>\n",
       "      <th>RegistrationYear_5</th>\n",
       "      <th>...</th>\n",
       "      <th>FuelType_2</th>\n",
       "      <th>FuelType_3</th>\n",
       "      <th>Brand_0</th>\n",
       "      <th>Brand_1</th>\n",
       "      <th>Brand_2</th>\n",
       "      <th>Brand_3</th>\n",
       "      <th>Brand_4</th>\n",
       "      <th>Brand_5</th>\n",
       "      <th>Repaired_0</th>\n",
       "      <th>Repaired_1</th>\n",
       "    </tr>\n",
       "  </thead>\n",
       "  <tbody>\n",
       "    <tr>\n",
       "      <th>24656</th>\n",
       "      <td>0</td>\n",
       "      <td>0</td>\n",
       "      <td>0</td>\n",
       "      <td>1</td>\n",
       "      <td>0</td>\n",
       "      <td>0</td>\n",
       "      <td>0</td>\n",
       "      <td>0</td>\n",
       "      <td>0</td>\n",
       "      <td>0</td>\n",
       "      <td>...</td>\n",
       "      <td>0</td>\n",
       "      <td>1</td>\n",
       "      <td>0</td>\n",
       "      <td>0</td>\n",
       "      <td>0</td>\n",
       "      <td>0</td>\n",
       "      <td>0</td>\n",
       "      <td>1</td>\n",
       "      <td>0</td>\n",
       "      <td>1</td>\n",
       "    </tr>\n",
       "    <tr>\n",
       "      <th>12385</th>\n",
       "      <td>0</td>\n",
       "      <td>0</td>\n",
       "      <td>1</td>\n",
       "      <td>0</td>\n",
       "      <td>0</td>\n",
       "      <td>0</td>\n",
       "      <td>0</td>\n",
       "      <td>0</td>\n",
       "      <td>0</td>\n",
       "      <td>1</td>\n",
       "      <td>...</td>\n",
       "      <td>0</td>\n",
       "      <td>1</td>\n",
       "      <td>0</td>\n",
       "      <td>0</td>\n",
       "      <td>0</td>\n",
       "      <td>0</td>\n",
       "      <td>1</td>\n",
       "      <td>0</td>\n",
       "      <td>0</td>\n",
       "      <td>1</td>\n",
       "    </tr>\n",
       "    <tr>\n",
       "      <th>74131</th>\n",
       "      <td>0</td>\n",
       "      <td>0</td>\n",
       "      <td>1</td>\n",
       "      <td>0</td>\n",
       "      <td>0</td>\n",
       "      <td>0</td>\n",
       "      <td>0</td>\n",
       "      <td>0</td>\n",
       "      <td>0</td>\n",
       "      <td>1</td>\n",
       "      <td>...</td>\n",
       "      <td>0</td>\n",
       "      <td>1</td>\n",
       "      <td>0</td>\n",
       "      <td>0</td>\n",
       "      <td>0</td>\n",
       "      <td>0</td>\n",
       "      <td>1</td>\n",
       "      <td>1</td>\n",
       "      <td>0</td>\n",
       "      <td>1</td>\n",
       "    </tr>\n",
       "    <tr>\n",
       "      <th>130356</th>\n",
       "      <td>0</td>\n",
       "      <td>0</td>\n",
       "      <td>0</td>\n",
       "      <td>1</td>\n",
       "      <td>0</td>\n",
       "      <td>0</td>\n",
       "      <td>0</td>\n",
       "      <td>0</td>\n",
       "      <td>1</td>\n",
       "      <td>0</td>\n",
       "      <td>...</td>\n",
       "      <td>1</td>\n",
       "      <td>0</td>\n",
       "      <td>0</td>\n",
       "      <td>0</td>\n",
       "      <td>0</td>\n",
       "      <td>1</td>\n",
       "      <td>0</td>\n",
       "      <td>0</td>\n",
       "      <td>0</td>\n",
       "      <td>1</td>\n",
       "    </tr>\n",
       "    <tr>\n",
       "      <th>84668</th>\n",
       "      <td>0</td>\n",
       "      <td>0</td>\n",
       "      <td>1</td>\n",
       "      <td>0</td>\n",
       "      <td>0</td>\n",
       "      <td>0</td>\n",
       "      <td>0</td>\n",
       "      <td>0</td>\n",
       "      <td>0</td>\n",
       "      <td>1</td>\n",
       "      <td>...</td>\n",
       "      <td>0</td>\n",
       "      <td>1</td>\n",
       "      <td>0</td>\n",
       "      <td>0</td>\n",
       "      <td>0</td>\n",
       "      <td>1</td>\n",
       "      <td>0</td>\n",
       "      <td>1</td>\n",
       "      <td>0</td>\n",
       "      <td>1</td>\n",
       "    </tr>\n",
       "  </tbody>\n",
       "</table>\n",
       "<p>5 rows × 38 columns</p>\n",
       "</div>"
      ],
      "text/plain": [
       "        VehicleType_0  VehicleType_1  VehicleType_2  VehicleType_3  \\\n",
       "24656               0              0              0              1   \n",
       "12385               0              0              1              0   \n",
       "74131               0              0              1              0   \n",
       "130356              0              0              0              1   \n",
       "84668               0              0              1              0   \n",
       "\n",
       "        RegistrationYear_0  RegistrationYear_1  RegistrationYear_2  \\\n",
       "24656                    0                   0                   0   \n",
       "12385                    0                   0                   0   \n",
       "74131                    0                   0                   0   \n",
       "130356                   0                   0                   0   \n",
       "84668                    0                   0                   0   \n",
       "\n",
       "        RegistrationYear_3  RegistrationYear_4  RegistrationYear_5  ...  \\\n",
       "24656                    0                   0                   0  ...   \n",
       "12385                    0                   0                   1  ...   \n",
       "74131                    0                   0                   1  ...   \n",
       "130356                   0                   1                   0  ...   \n",
       "84668                    0                   0                   1  ...   \n",
       "\n",
       "        FuelType_2  FuelType_3  Brand_0  Brand_1  Brand_2  Brand_3  Brand_4  \\\n",
       "24656            0           1        0        0        0        0        0   \n",
       "12385            0           1        0        0        0        0        1   \n",
       "74131            0           1        0        0        0        0        1   \n",
       "130356           1           0        0        0        0        1        0   \n",
       "84668            0           1        0        0        0        1        0   \n",
       "\n",
       "        Brand_5  Repaired_0  Repaired_1  \n",
       "24656         1           0           1  \n",
       "12385         0           0           1  \n",
       "74131         1           0           1  \n",
       "130356        0           0           1  \n",
       "84668         1           0           1  \n",
       "\n",
       "[5 rows x 38 columns]"
      ]
     },
     "execution_count": 74,
     "metadata": {},
     "output_type": "execute_result"
    }
   ],
   "source": [
    "X_train_copy.head()"
   ]
  },
  {
   "cell_type": "code",
   "execution_count": 75,
   "metadata": {
    "scrolled": true
   },
   "outputs": [
    {
     "data": {
      "text/html": [
       "<div>\n",
       "<style scoped>\n",
       "    .dataframe tbody tr th:only-of-type {\n",
       "        vertical-align: middle;\n",
       "    }\n",
       "\n",
       "    .dataframe tbody tr th {\n",
       "        vertical-align: top;\n",
       "    }\n",
       "\n",
       "    .dataframe thead th {\n",
       "        text-align: right;\n",
       "    }\n",
       "</style>\n",
       "<table border=\"1\" class=\"dataframe\">\n",
       "  <thead>\n",
       "    <tr style=\"text-align: right;\">\n",
       "      <th></th>\n",
       "      <th>VehicleType_0</th>\n",
       "      <th>VehicleType_1</th>\n",
       "      <th>VehicleType_2</th>\n",
       "      <th>VehicleType_3</th>\n",
       "      <th>RegistrationYear_0</th>\n",
       "      <th>RegistrationYear_1</th>\n",
       "      <th>RegistrationYear_2</th>\n",
       "      <th>RegistrationYear_3</th>\n",
       "      <th>RegistrationYear_4</th>\n",
       "      <th>RegistrationYear_5</th>\n",
       "      <th>...</th>\n",
       "      <th>FuelType_2</th>\n",
       "      <th>FuelType_3</th>\n",
       "      <th>Brand_0</th>\n",
       "      <th>Brand_1</th>\n",
       "      <th>Brand_2</th>\n",
       "      <th>Brand_3</th>\n",
       "      <th>Brand_4</th>\n",
       "      <th>Brand_5</th>\n",
       "      <th>Repaired_0</th>\n",
       "      <th>Repaired_1</th>\n",
       "    </tr>\n",
       "  </thead>\n",
       "  <tbody>\n",
       "    <tr>\n",
       "      <th>72829</th>\n",
       "      <td>0</td>\n",
       "      <td>0</td>\n",
       "      <td>1</td>\n",
       "      <td>0</td>\n",
       "      <td>0</td>\n",
       "      <td>0</td>\n",
       "      <td>0</td>\n",
       "      <td>1</td>\n",
       "      <td>1</td>\n",
       "      <td>1</td>\n",
       "      <td>...</td>\n",
       "      <td>0</td>\n",
       "      <td>1</td>\n",
       "      <td>0</td>\n",
       "      <td>0</td>\n",
       "      <td>0</td>\n",
       "      <td>0</td>\n",
       "      <td>1</td>\n",
       "      <td>0</td>\n",
       "      <td>0</td>\n",
       "      <td>1</td>\n",
       "    </tr>\n",
       "    <tr>\n",
       "      <th>88436</th>\n",
       "      <td>1</td>\n",
       "      <td>0</td>\n",
       "      <td>0</td>\n",
       "      <td>0</td>\n",
       "      <td>0</td>\n",
       "      <td>0</td>\n",
       "      <td>0</td>\n",
       "      <td>1</td>\n",
       "      <td>0</td>\n",
       "      <td>1</td>\n",
       "      <td>...</td>\n",
       "      <td>0</td>\n",
       "      <td>1</td>\n",
       "      <td>0</td>\n",
       "      <td>0</td>\n",
       "      <td>0</td>\n",
       "      <td>1</td>\n",
       "      <td>1</td>\n",
       "      <td>1</td>\n",
       "      <td>0</td>\n",
       "      <td>1</td>\n",
       "    </tr>\n",
       "    <tr>\n",
       "      <th>116771</th>\n",
       "      <td>0</td>\n",
       "      <td>1</td>\n",
       "      <td>1</td>\n",
       "      <td>1</td>\n",
       "      <td>0</td>\n",
       "      <td>0</td>\n",
       "      <td>0</td>\n",
       "      <td>0</td>\n",
       "      <td>1</td>\n",
       "      <td>0</td>\n",
       "      <td>...</td>\n",
       "      <td>0</td>\n",
       "      <td>1</td>\n",
       "      <td>0</td>\n",
       "      <td>0</td>\n",
       "      <td>1</td>\n",
       "      <td>1</td>\n",
       "      <td>0</td>\n",
       "      <td>1</td>\n",
       "      <td>1</td>\n",
       "      <td>1</td>\n",
       "    </tr>\n",
       "    <tr>\n",
       "      <th>20726</th>\n",
       "      <td>0</td>\n",
       "      <td>1</td>\n",
       "      <td>1</td>\n",
       "      <td>0</td>\n",
       "      <td>0</td>\n",
       "      <td>0</td>\n",
       "      <td>0</td>\n",
       "      <td>0</td>\n",
       "      <td>0</td>\n",
       "      <td>1</td>\n",
       "      <td>...</td>\n",
       "      <td>0</td>\n",
       "      <td>1</td>\n",
       "      <td>0</td>\n",
       "      <td>0</td>\n",
       "      <td>0</td>\n",
       "      <td>1</td>\n",
       "      <td>1</td>\n",
       "      <td>0</td>\n",
       "      <td>0</td>\n",
       "      <td>1</td>\n",
       "    </tr>\n",
       "    <tr>\n",
       "      <th>10928</th>\n",
       "      <td>0</td>\n",
       "      <td>0</td>\n",
       "      <td>1</td>\n",
       "      <td>0</td>\n",
       "      <td>0</td>\n",
       "      <td>0</td>\n",
       "      <td>0</td>\n",
       "      <td>0</td>\n",
       "      <td>1</td>\n",
       "      <td>1</td>\n",
       "      <td>...</td>\n",
       "      <td>0</td>\n",
       "      <td>1</td>\n",
       "      <td>0</td>\n",
       "      <td>0</td>\n",
       "      <td>0</td>\n",
       "      <td>1</td>\n",
       "      <td>1</td>\n",
       "      <td>1</td>\n",
       "      <td>1</td>\n",
       "      <td>0</td>\n",
       "    </tr>\n",
       "  </tbody>\n",
       "</table>\n",
       "<p>5 rows × 38 columns</p>\n",
       "</div>"
      ],
      "text/plain": [
       "        VehicleType_0  VehicleType_1  VehicleType_2  VehicleType_3  \\\n",
       "72829               0              0              1              0   \n",
       "88436               1              0              0              0   \n",
       "116771              0              1              1              1   \n",
       "20726               0              1              1              0   \n",
       "10928               0              0              1              0   \n",
       "\n",
       "        RegistrationYear_0  RegistrationYear_1  RegistrationYear_2  \\\n",
       "72829                    0                   0                   0   \n",
       "88436                    0                   0                   0   \n",
       "116771                   0                   0                   0   \n",
       "20726                    0                   0                   0   \n",
       "10928                    0                   0                   0   \n",
       "\n",
       "        RegistrationYear_3  RegistrationYear_4  RegistrationYear_5  ...  \\\n",
       "72829                    1                   1                   1  ...   \n",
       "88436                    1                   0                   1  ...   \n",
       "116771                   0                   1                   0  ...   \n",
       "20726                    0                   0                   1  ...   \n",
       "10928                    0                   1                   1  ...   \n",
       "\n",
       "        FuelType_2  FuelType_3  Brand_0  Brand_1  Brand_2  Brand_3  Brand_4  \\\n",
       "72829            0           1        0        0        0        0        1   \n",
       "88436            0           1        0        0        0        1        1   \n",
       "116771           0           1        0        0        1        1        0   \n",
       "20726            0           1        0        0        0        1        1   \n",
       "10928            0           1        0        0        0        1        1   \n",
       "\n",
       "        Brand_5  Repaired_0  Repaired_1  \n",
       "72829         0           0           1  \n",
       "88436         1           0           1  \n",
       "116771        1           1           1  \n",
       "20726         0           0           1  \n",
       "10928         1           1           0  \n",
       "\n",
       "[5 rows x 38 columns]"
      ]
     },
     "execution_count": 75,
     "metadata": {},
     "output_type": "execute_result"
    }
   ],
   "source": [
    "X_test_copy.head()"
   ]
  },
  {
   "cell_type": "markdown",
   "metadata": {},
   "source": [
    "### Линейная регрессия "
   ]
  },
  {
   "cell_type": "code",
   "execution_count": 76,
   "metadata": {
    "tags": []
   },
   "outputs": [
    {
     "data": {
      "text/plain": [
       "array([-3119.75303338, -3122.97386576, -3172.66260242, -3116.35339527,\n",
       "       -3106.48031519])"
      ]
     },
     "metadata": {},
     "output_type": "display_data"
    },
    {
     "data": {
      "text/plain": [
       "'Среднее значение метрики RMSE для линейной регрессии с использованием кросс-валидации равно: 3127.644642405879'"
      ]
     },
     "metadata": {},
     "output_type": "display_data"
    }
   ],
   "source": [
    "model_lr = LinearRegression()\n",
    "\n",
    "scores = cross_val_score(model_lr, \n",
    "                         X_train_copy, \n",
    "                         y_train, \n",
    "                         cv=5, \n",
    "                         scoring='neg_root_mean_squared_error'\n",
    "                        )\n",
    "\n",
    "lr_score_mean = scores.mean()\n",
    "\n",
    "display(scores)\n",
    "display(f'Среднее значение метрики RMSE для линейной регрессии с использованием кросс-валидации равно: {abs(lr_score_mean)}')"
   ]
  },
  {
   "cell_type": "code",
   "execution_count": 77,
   "metadata": {
    "tags": []
   },
   "outputs": [
    {
     "data": {
      "text/plain": [
       "'Время обучения для линейной регрессии равно: 0.5996513366699219 сек.'"
      ]
     },
     "metadata": {},
     "output_type": "display_data"
    },
    {
     "data": {
      "text/plain": [
       "'Время предсказания для линейной регрессии равно: 0.08896660804748535 сек.'"
      ]
     },
     "execution_count": 77,
     "metadata": {},
     "output_type": "execute_result"
    }
   ],
   "source": [
    "start = time()\n",
    "model_lr.fit(X_train_copy, y_train)\n",
    "end = time()\n",
    "\n",
    "model_lr_train_time = end-start\n",
    "\n",
    "\n",
    "start = time()\n",
    "model_lr.predict(X_train_copy)\n",
    "end = time()\n",
    "\n",
    "model_lr_predict_time = end-start\n",
    "\n",
    "display(f'Время обучения для линейной регрессии равно: {model_lr_train_time} сек.')\n",
    "f'Время предсказания для линейной регрессии равно: {model_lr_predict_time} сек.'"
   ]
  },
  {
   "cell_type": "markdown",
   "metadata": {},
   "source": [
    "###  LightGBM"
   ]
  },
  {
   "cell_type": "code",
   "execution_count": 78,
   "metadata": {
    "tags": []
   },
   "outputs": [
    {
     "data": {
      "text/plain": [
       "\"Лучшие параметры: {'colsample_bytree': 0.8, 'max_depth': 6, 'min_child_samples': 5, 'num_leaves': 40, 'subsample': 0.7}\""
      ]
     },
     "metadata": {},
     "output_type": "display_data"
    },
    {
     "data": {
      "text/plain": [
       "'RMSE лучшей модели: 2034.1266284678193'"
      ]
     },
     "metadata": {},
     "output_type": "display_data"
    }
   ],
   "source": [
    "params = {\n",
    "    'max_depth': [4, 6],\n",
    "    'colsample_bytree': [0.7, 0.8, 0.9],\n",
    "    'subsample': [0.7, 0.8, 0.9],\n",
    "    'min_child_samples': [1, 5, 10],\n",
    "    'num_leaves': [40]\n",
    "}\n",
    "\n",
    "\n",
    "estimator_lgb = lgb.LGBMRegressor(objective='regression', \n",
    "                              random_state=42)\n",
    "\n",
    "model_lgb = GridSearchCV(estimator=estimator_lgb, \n",
    "                         param_grid=params, \n",
    "                         cv=5, \n",
    "                         n_jobs=-1,\n",
    "                         scoring='neg_root_mean_squared_error'\n",
    "                        )\n",
    "\n",
    "model_lgb.fit(X_train_copy, y_train)\n",
    "\n",
    "best_model_lgb = model_lgb.best_estimator_\n",
    "best_params_lgb = model_lgb.best_params_\n",
    "best_score_lgb = model_lgb.best_score_\n",
    "\n",
    "display(f'Лучшие параметры: {best_params_lgb}')\n",
    "display(f'RMSE лучшей модели: {abs(best_score_lgb)}')"
   ]
  },
  {
   "cell_type": "code",
   "execution_count": 79,
   "metadata": {
    "tags": []
   },
   "outputs": [
    {
     "data": {
      "text/plain": [
       "'Время обучения для LightGBM равно: 4.306342840194702 сек.'"
      ]
     },
     "metadata": {},
     "output_type": "display_data"
    },
    {
     "data": {
      "text/plain": [
       "'Время предсказания для LightGBM равно: 0.8864963054656982 сек.'"
      ]
     },
     "execution_count": 79,
     "metadata": {},
     "output_type": "execute_result"
    }
   ],
   "source": [
    "start = time()\n",
    "best_model_lgb.fit(X_train_copy, y_train)\n",
    "end = time()\n",
    "\n",
    "model_lgb_train_time = end-start\n",
    "\n",
    "\n",
    "start = time()\n",
    "best_model_lgb.predict(X_train_copy)\n",
    "end = time()\n",
    "\n",
    "model_lgb_predict_time = end-start\n",
    "\n",
    "display(f'Время обучения для LightGBM равно: {model_lgb_train_time} сек.')\n",
    "f'Время предсказания для LightGBM равно: {model_lgb_predict_time} сек.'"
   ]
  },
  {
   "cell_type": "markdown",
   "metadata": {},
   "source": [
    "## Анализ моделей"
   ]
  },
  {
   "cell_type": "markdown",
   "metadata": {},
   "source": [
    "Сравним метрики обученных моделей и скорость их обучения."
   ]
  },
  {
   "cell_type": "code",
   "execution_count": 80,
   "metadata": {},
   "outputs": [
    {
     "data": {
      "text/plain": [
       "'RMSE составляет:'"
      ]
     },
     "metadata": {},
     "output_type": "display_data"
    },
    {
     "data": {
      "text/plain": [
       "'Линейная регрессия: 3127.64 eur'"
      ]
     },
     "metadata": {},
     "output_type": "display_data"
    },
    {
     "data": {
      "text/plain": [
       "'LightGBM: 2034.13 eur'"
      ]
     },
     "metadata": {},
     "output_type": "display_data"
    },
    {
     "data": {
      "text/plain": [
       "'------'"
      ]
     },
     "metadata": {},
     "output_type": "display_data"
    },
    {
     "data": {
      "text/plain": [
       "'Время обучения'"
      ]
     },
     "metadata": {},
     "output_type": "display_data"
    },
    {
     "data": {
      "text/plain": [
       "'Линейная регрессия: 0.6 сек.'"
      ]
     },
     "metadata": {},
     "output_type": "display_data"
    },
    {
     "data": {
      "text/plain": [
       "'LightGBM: 4.31 сек.'"
      ]
     },
     "metadata": {},
     "output_type": "display_data"
    },
    {
     "data": {
      "text/plain": [
       "'------'"
      ]
     },
     "metadata": {},
     "output_type": "display_data"
    },
    {
     "data": {
      "text/plain": [
       "'Время предсказания'"
      ]
     },
     "metadata": {},
     "output_type": "display_data"
    },
    {
     "data": {
      "text/plain": [
       "'Линейная регрессия: 0.09 сек.'"
      ]
     },
     "metadata": {},
     "output_type": "display_data"
    },
    {
     "data": {
      "text/plain": [
       "'LightGBM: 0.89 сек.'"
      ]
     },
     "metadata": {},
     "output_type": "display_data"
    }
   ],
   "source": [
    "display(f'Метрика RMSE')\n",
    "display(f'Линейная регрессия: {abs(lr_score_mean.round(2))} eur')\n",
    "display(f'LightGBM: {abs(best_score_lgb.round(2))} eur')\n",
    "display(f'------')\n",
    "display(f'Время обучения')\n",
    "display(f'Линейная регрессия: {round(model_lr_train_time, 2)} сек.')\n",
    "display(f'LightGBM: {round(model_lgb_train_time, 2)} сек.')\n",
    "display(f'------')\n",
    "display(f'Время предсказания')\n",
    "display(f'Линейная регрессия: {round(model_lr_predict_time, 2)} сек.')\n",
    "display(f'LightGBM: {round(model_lgb_predict_time, 2)} сек.')"
   ]
  },
  {
   "cell_type": "markdown",
   "metadata": {},
   "source": [
    "Модель LightGBM показала лучшее значение метрики RMSE при увеличенных затратах по времени на обучение и предсказание. Проверим её против константной модели."
   ]
  },
  {
   "cell_type": "code",
   "execution_count": 81,
   "metadata": {},
   "outputs": [
    {
     "data": {
      "text/plain": [
       "'RMSE константной модели равно 4868.406451413606'"
      ]
     },
     "execution_count": 81,
     "metadata": {},
     "output_type": "execute_result"
    }
   ],
   "source": [
    "model_dr = DummyRegressor()\n",
    "\n",
    "model_dr.fit(X_train_copy, y_train)\n",
    "predictions_dr = model_dr.predict(X_train_copy)\n",
    "score_dr = mean_squared_error(y_train, predictions_dr, squared=False)\n",
    "\n",
    "f'RMSE константной модели равно {abs(score_dr)}'"
   ]
  },
  {
   "cell_type": "markdown",
   "metadata": {},
   "source": [
    "Наша модель LightGBM показывает лучшие результаты, чем константая модель. Проверим теперь лучшую модель на тестовой выборке"
   ]
  },
  {
   "cell_type": "code",
   "execution_count": 82,
   "metadata": {},
   "outputs": [
    {
     "data": {
      "text/plain": [
       "'RMSE LightGBM модели на тестовой выборке равно 2022.4118735443558'"
      ]
     },
     "execution_count": 82,
     "metadata": {},
     "output_type": "execute_result"
    }
   ],
   "source": [
    "predictions_final = best_model_lgb.predict(X_test_copy)\n",
    "\n",
    "score_final = mean_squared_error(y_test, predictions_final, squared=False)\n",
    "\n",
    "f'RMSE LightGBM модели на тестовой выборке равно {abs(score_final)}'"
   ]
  },
  {
   "cell_type": "markdown",
   "metadata": {},
   "source": [
    "На тестовой выборке лучшая модель показывает ожидаемую величину метрики RMSE. Модель подходит для внедрения в эксплуатацию."
   ]
  },
  {
   "cell_type": "markdown",
   "metadata": {},
   "source": [
    "## Итоговый вывод"
   ]
  },
  {
   "cell_type": "markdown",
   "metadata": {},
   "source": [
    "Наша задача состояла в следующем:\n",
    "\n",
    "> Сервис по продаже автомобилей с пробегом «Не бит, не крашен» разрабатывает приложение для привлечения новых клиентов. В нём можно быстро узнать рыночную стоимость своего автомобиля. В вашем распоряжении исторические данные: технические характеристики, комплектации и цены автомобилей. Вам нужно построить модель для определения стоимости.<br><br>\n",
    "> Заказчику важны:\n",
    "> - Качество предсказания. Величина метрики RMSE должна быть менее 2500;\n",
    "> - Скорость предсказания;\n",
    "> - Время обучения.\n",
    "\n",
    "Проделаны были следующие этапы:\n",
    "1. Выполнена предобработка данных. Аномалии, выбросы, некорректные значения были обработаны.\n",
    "2. Обучены с применением кросс-валидации модели линейной регрессии и LightGBM. Для LightGBM были найдены оптимальные гиперпараметры с помощью `GridSearchCV`.\n",
    "3. Проведено сравнение обученных моделей по метрике RMSE и скорости обучения и предсказания. Модель LightGBM обучается и предсказывает медленнее, но показывает лучший результат по метрике RMSE.\n",
    "    1. Проведено сравнение лучшей модели с константной моделью.\n",
    "    2. Проведена проверка лучшей модели на тестовой выборке.\n",
    "    \n",
    "В результате получена модель, соответствующая критериям заказчика и готовая для внедрения в эксплуатацию. \n"
   ]
  }
 ],
 "metadata": {
  "ExecuteTimeLog": [
   {
    "duration": 372,
    "start_time": "2023-09-28T07:25:45.163Z"
   },
   {
    "duration": 2861,
    "start_time": "2023-09-28T07:25:59.918Z"
   },
   {
    "duration": 142,
    "start_time": "2023-09-28T07:26:10.135Z"
   },
   {
    "duration": 108,
    "start_time": "2023-09-28T07:26:20.937Z"
   },
   {
    "duration": 13,
    "start_time": "2023-09-28T07:39:19.301Z"
   },
   {
    "duration": 402,
    "start_time": "2023-10-04T05:11:43.017Z"
   },
   {
    "duration": 1238,
    "start_time": "2023-10-04T05:11:43.421Z"
   },
   {
    "duration": 167,
    "start_time": "2023-10-04T05:11:44.661Z"
   },
   {
    "duration": 119,
    "start_time": "2023-10-04T05:11:44.830Z"
   },
   {
    "duration": 12,
    "start_time": "2023-10-04T05:11:44.952Z"
   },
   {
    "duration": 486,
    "start_time": "2023-10-04T05:23:17.794Z"
   },
   {
    "duration": 447,
    "start_time": "2023-10-04T05:23:22.477Z"
   },
   {
    "duration": 462,
    "start_time": "2023-10-04T05:23:37.855Z"
   },
   {
    "duration": 538,
    "start_time": "2023-10-04T05:26:33.711Z"
   },
   {
    "duration": 469,
    "start_time": "2023-10-04T05:26:38.321Z"
   },
   {
    "duration": 631,
    "start_time": "2023-10-04T05:26:44.063Z"
   },
   {
    "duration": 121,
    "start_time": "2023-10-04T05:33:03.703Z"
   },
   {
    "duration": 26,
    "start_time": "2023-10-04T05:38:15.320Z"
   },
   {
    "duration": 22,
    "start_time": "2023-10-04T05:38:53.765Z"
   },
   {
    "duration": 32,
    "start_time": "2023-10-04T05:39:04.275Z"
   },
   {
    "duration": 30,
    "start_time": "2023-10-04T05:39:27.189Z"
   },
   {
    "duration": 26,
    "start_time": "2023-10-04T05:44:30.657Z"
   },
   {
    "duration": 22,
    "start_time": "2023-10-04T05:44:54.892Z"
   },
   {
    "duration": 102,
    "start_time": "2023-10-04T05:47:03.160Z"
   },
   {
    "duration": 218,
    "start_time": "2023-10-04T06:04:04.374Z"
   },
   {
    "duration": 164,
    "start_time": "2023-10-04T06:04:10.397Z"
   },
   {
    "duration": 8,
    "start_time": "2023-10-04T06:04:25.846Z"
   },
   {
    "duration": 52,
    "start_time": "2023-10-04T06:04:30.827Z"
   },
   {
    "duration": 3857,
    "start_time": "2023-10-04T06:10:15.953Z"
   },
   {
    "duration": 644,
    "start_time": "2023-10-04T06:10:55.498Z"
   },
   {
    "duration": 183,
    "start_time": "2023-10-04T06:11:23.465Z"
   },
   {
    "duration": 417,
    "start_time": "2023-10-04T06:13:35.101Z"
   },
   {
    "duration": 942,
    "start_time": "2023-10-04T06:13:35.520Z"
   },
   {
    "duration": 170,
    "start_time": "2023-10-04T06:13:36.464Z"
   },
   {
    "duration": 129,
    "start_time": "2023-10-04T06:13:36.636Z"
   },
   {
    "duration": 17,
    "start_time": "2023-10-04T06:13:36.767Z"
   },
   {
    "duration": 577,
    "start_time": "2023-10-04T06:13:36.785Z"
   },
   {
    "duration": 1214,
    "start_time": "2023-10-04T06:13:37.364Z"
   },
   {
    "duration": 150,
    "start_time": "2023-10-04T06:13:38.580Z"
   },
   {
    "duration": 160,
    "start_time": "2023-10-04T06:13:38.732Z"
   },
   {
    "duration": 75,
    "start_time": "2023-10-04T06:13:38.894Z"
   },
   {
    "duration": 39,
    "start_time": "2023-10-04T06:13:38.971Z"
   },
   {
    "duration": 45,
    "start_time": "2023-10-04T06:13:39.012Z"
   },
   {
    "duration": 42,
    "start_time": "2023-10-04T06:13:39.058Z"
   },
   {
    "duration": 25,
    "start_time": "2023-10-04T06:13:39.102Z"
   },
   {
    "duration": 111,
    "start_time": "2023-10-04T06:13:39.128Z"
   },
   {
    "duration": 230,
    "start_time": "2023-10-04T06:13:39.240Z"
   },
   {
    "duration": 66,
    "start_time": "2023-10-04T06:13:39.472Z"
   },
   {
    "duration": 511,
    "start_time": "2023-10-04T06:13:39.540Z"
   },
   {
    "duration": 2,
    "start_time": "2023-10-04T06:20:49.323Z"
   },
   {
    "duration": 71,
    "start_time": "2023-10-04T06:21:08.811Z"
   },
   {
    "duration": 90,
    "start_time": "2023-10-04T06:21:25.967Z"
   },
   {
    "duration": 7,
    "start_time": "2023-10-04T06:22:20.269Z"
   },
   {
    "duration": 172,
    "start_time": "2023-10-04T06:23:45.667Z"
   },
   {
    "duration": 195,
    "start_time": "2023-10-04T06:24:20.684Z"
   },
   {
    "duration": 225,
    "start_time": "2023-10-04T06:24:26.719Z"
   },
   {
    "duration": 3,
    "start_time": "2023-10-04T06:24:47.679Z"
   },
   {
    "duration": 15,
    "start_time": "2023-10-04T06:25:23.587Z"
   },
   {
    "duration": 79,
    "start_time": "2023-10-04T06:26:36.339Z"
   },
   {
    "duration": 19,
    "start_time": "2023-10-04T06:26:45.779Z"
   },
   {
    "duration": 14,
    "start_time": "2023-10-04T06:26:51.338Z"
   },
   {
    "duration": 10,
    "start_time": "2023-10-04T06:27:05.075Z"
   },
   {
    "duration": 4,
    "start_time": "2023-10-04T06:28:56.979Z"
   },
   {
    "duration": 5,
    "start_time": "2023-10-04T06:29:01.315Z"
   },
   {
    "duration": 5,
    "start_time": "2023-10-04T06:29:33.711Z"
   },
   {
    "duration": 27,
    "start_time": "2023-10-04T06:52:28.131Z"
   },
   {
    "duration": 67,
    "start_time": "2023-10-04T06:52:36.147Z"
   },
   {
    "duration": 128,
    "start_time": "2023-10-04T06:54:10.506Z"
   },
   {
    "duration": 7,
    "start_time": "2023-10-04T07:04:08.341Z"
   },
   {
    "duration": 4,
    "start_time": "2023-10-04T07:04:11.688Z"
   },
   {
    "duration": 4,
    "start_time": "2023-10-04T07:04:22.417Z"
   },
   {
    "duration": 4,
    "start_time": "2023-10-04T07:04:26.091Z"
   },
   {
    "duration": 6,
    "start_time": "2023-10-04T07:04:34.529Z"
   },
   {
    "duration": 4,
    "start_time": "2023-10-04T07:04:36.207Z"
   },
   {
    "duration": 1258,
    "start_time": "2023-10-04T07:05:52.876Z"
   },
   {
    "duration": 14,
    "start_time": "2023-10-04T07:05:58.912Z"
   },
   {
    "duration": 13,
    "start_time": "2023-10-04T07:06:12.731Z"
   },
   {
    "duration": 13,
    "start_time": "2023-10-04T07:06:41.309Z"
   },
   {
    "duration": 15,
    "start_time": "2023-10-04T07:07:41.200Z"
   },
   {
    "duration": 68,
    "start_time": "2023-10-04T07:07:44.418Z"
   },
   {
    "duration": 45,
    "start_time": "2023-10-04T07:08:04.286Z"
   },
   {
    "duration": 66,
    "start_time": "2023-10-04T07:08:06.890Z"
   },
   {
    "duration": 12,
    "start_time": "2023-10-04T07:08:22.183Z"
   },
   {
    "duration": 439,
    "start_time": "2023-10-04T07:08:30.685Z"
   },
   {
    "duration": 910,
    "start_time": "2023-10-04T07:08:31.126Z"
   },
   {
    "duration": 169,
    "start_time": "2023-10-04T07:08:32.037Z"
   },
   {
    "duration": 324,
    "start_time": "2023-10-04T07:08:32.209Z"
   },
   {
    "duration": 13,
    "start_time": "2023-10-04T07:08:32.535Z"
   },
   {
    "duration": 533,
    "start_time": "2023-10-04T07:08:32.550Z"
   },
   {
    "duration": 1049,
    "start_time": "2023-10-04T07:08:33.085Z"
   },
   {
    "duration": 146,
    "start_time": "2023-10-04T07:08:34.135Z"
   },
   {
    "duration": 34,
    "start_time": "2023-10-04T07:08:34.283Z"
   },
   {
    "duration": 59,
    "start_time": "2023-10-04T07:08:34.321Z"
   },
   {
    "duration": 44,
    "start_time": "2023-10-04T07:08:34.383Z"
   },
   {
    "duration": 27,
    "start_time": "2023-10-04T07:08:34.429Z"
   },
   {
    "duration": 41,
    "start_time": "2023-10-04T07:08:34.458Z"
   },
   {
    "duration": 52,
    "start_time": "2023-10-04T07:08:34.501Z"
   },
   {
    "duration": 157,
    "start_time": "2023-10-04T07:08:34.555Z"
   },
   {
    "duration": 236,
    "start_time": "2023-10-04T07:08:34.714Z"
   },
   {
    "duration": 52,
    "start_time": "2023-10-04T07:08:34.952Z"
   },
   {
    "duration": 786,
    "start_time": "2023-10-04T07:08:35.005Z"
   },
   {
    "duration": 148,
    "start_time": "2023-10-04T07:08:35.793Z"
   },
   {
    "duration": 36,
    "start_time": "2023-10-04T07:08:35.942Z"
   },
   {
    "duration": 68,
    "start_time": "2023-10-04T07:08:35.979Z"
   },
   {
    "duration": 125,
    "start_time": "2023-10-04T07:08:36.048Z"
   },
   {
    "duration": 87,
    "start_time": "2023-10-04T07:08:36.175Z"
   },
   {
    "duration": 87,
    "start_time": "2023-10-04T07:08:36.263Z"
   },
   {
    "duration": 292,
    "start_time": "2023-10-04T07:08:36.352Z"
   },
   {
    "duration": 43,
    "start_time": "2023-10-04T07:09:20.480Z"
   },
   {
    "duration": 463,
    "start_time": "2023-10-04T07:09:36.973Z"
   },
   {
    "duration": 966,
    "start_time": "2023-10-04T07:09:37.439Z"
   },
   {
    "duration": 184,
    "start_time": "2023-10-04T07:09:38.407Z"
   },
   {
    "duration": 139,
    "start_time": "2023-10-04T07:09:38.593Z"
   },
   {
    "duration": 16,
    "start_time": "2023-10-04T07:09:38.735Z"
   },
   {
    "duration": 508,
    "start_time": "2023-10-04T07:09:38.753Z"
   },
   {
    "duration": 1058,
    "start_time": "2023-10-04T07:09:39.263Z"
   },
   {
    "duration": 134,
    "start_time": "2023-10-04T07:09:40.323Z"
   },
   {
    "duration": 23,
    "start_time": "2023-10-04T07:09:40.459Z"
   },
   {
    "duration": 35,
    "start_time": "2023-10-04T07:09:40.483Z"
   },
   {
    "duration": 38,
    "start_time": "2023-10-04T07:09:40.520Z"
   },
   {
    "duration": 28,
    "start_time": "2023-10-04T07:09:40.560Z"
   },
   {
    "duration": 31,
    "start_time": "2023-10-04T07:09:40.589Z"
   },
   {
    "duration": 29,
    "start_time": "2023-10-04T07:09:40.623Z"
   },
   {
    "duration": 126,
    "start_time": "2023-10-04T07:09:40.653Z"
   },
   {
    "duration": 199,
    "start_time": "2023-10-04T07:09:40.780Z"
   },
   {
    "duration": 54,
    "start_time": "2023-10-04T07:09:40.981Z"
   },
   {
    "duration": 480,
    "start_time": "2023-10-04T07:09:41.037Z"
   },
   {
    "duration": 127,
    "start_time": "2023-10-04T07:09:41.519Z"
   },
   {
    "duration": 15,
    "start_time": "2023-10-04T07:09:41.648Z"
   },
   {
    "duration": 18,
    "start_time": "2023-10-04T07:09:41.665Z"
   },
   {
    "duration": 41,
    "start_time": "2023-10-04T07:09:41.685Z"
   },
   {
    "duration": 46,
    "start_time": "2023-10-04T07:09:41.727Z"
   },
   {
    "duration": 49,
    "start_time": "2023-10-04T07:09:41.774Z"
   },
   {
    "duration": 79,
    "start_time": "2023-10-04T07:09:41.825Z"
   },
   {
    "duration": 206,
    "start_time": "2023-10-04T07:11:01.183Z"
   },
   {
    "duration": 113,
    "start_time": "2023-10-04T07:11:07.525Z"
   },
   {
    "duration": 16,
    "start_time": "2023-10-04T07:11:15.507Z"
   },
   {
    "duration": 269,
    "start_time": "2023-10-04T07:16:00.066Z"
   },
   {
    "duration": 126,
    "start_time": "2023-10-04T07:16:10.413Z"
   },
   {
    "duration": 14,
    "start_time": "2023-10-04T07:16:25.493Z"
   },
   {
    "duration": 430,
    "start_time": "2023-10-04T07:16:47.403Z"
   },
   {
    "duration": 943,
    "start_time": "2023-10-04T07:16:47.835Z"
   },
   {
    "duration": 146,
    "start_time": "2023-10-04T07:16:48.780Z"
   },
   {
    "duration": 184,
    "start_time": "2023-10-04T07:16:48.927Z"
   },
   {
    "duration": 14,
    "start_time": "2023-10-04T07:16:49.114Z"
   },
   {
    "duration": 686,
    "start_time": "2023-10-04T07:16:49.130Z"
   },
   {
    "duration": 1119,
    "start_time": "2023-10-04T07:16:49.818Z"
   },
   {
    "duration": 132,
    "start_time": "2023-10-04T07:16:50.938Z"
   },
   {
    "duration": 22,
    "start_time": "2023-10-04T07:16:51.072Z"
   },
   {
    "duration": 22,
    "start_time": "2023-10-04T07:16:51.102Z"
   },
   {
    "duration": 45,
    "start_time": "2023-10-04T07:16:51.126Z"
   },
   {
    "duration": 33,
    "start_time": "2023-10-04T07:16:51.173Z"
   },
   {
    "duration": 48,
    "start_time": "2023-10-04T07:16:51.207Z"
   },
   {
    "duration": 56,
    "start_time": "2023-10-04T07:16:51.258Z"
   },
   {
    "duration": 140,
    "start_time": "2023-10-04T07:16:51.315Z"
   },
   {
    "duration": 381,
    "start_time": "2023-10-04T07:16:51.457Z"
   },
   {
    "duration": 45,
    "start_time": "2023-10-04T07:16:51.840Z"
   },
   {
    "duration": 514,
    "start_time": "2023-10-04T07:16:51.887Z"
   },
   {
    "duration": 144,
    "start_time": "2023-10-04T07:16:52.403Z"
   },
   {
    "duration": 15,
    "start_time": "2023-10-04T07:16:52.549Z"
   },
   {
    "duration": 43,
    "start_time": "2023-10-04T07:16:52.565Z"
   },
   {
    "duration": 90,
    "start_time": "2023-10-04T07:16:52.609Z"
   },
   {
    "duration": 0,
    "start_time": "2023-10-04T07:16:52.700Z"
   },
   {
    "duration": 27,
    "start_time": "2023-10-04T07:17:05.968Z"
   },
   {
    "duration": 49,
    "start_time": "2023-10-04T07:17:08.464Z"
   },
   {
    "duration": 221,
    "start_time": "2023-10-04T07:17:28.492Z"
   },
   {
    "duration": 113,
    "start_time": "2023-10-04T07:17:31.144Z"
   },
   {
    "duration": 16,
    "start_time": "2023-10-04T07:17:33.426Z"
   },
   {
    "duration": 314,
    "start_time": "2023-10-04T07:17:38.497Z"
   },
   {
    "duration": 127,
    "start_time": "2023-10-04T07:17:40.779Z"
   },
   {
    "duration": 15,
    "start_time": "2023-10-04T07:17:43.106Z"
   },
   {
    "duration": 14,
    "start_time": "2023-10-04T07:19:34.383Z"
   },
   {
    "duration": 30,
    "start_time": "2023-10-04T07:19:52.198Z"
   },
   {
    "duration": 42,
    "start_time": "2023-10-04T07:19:54.435Z"
   },
   {
    "duration": 13,
    "start_time": "2023-10-04T07:20:09.478Z"
   },
   {
    "duration": 214,
    "start_time": "2023-10-04T07:21:40.291Z"
   },
   {
    "duration": 140,
    "start_time": "2023-10-04T07:21:43.510Z"
   },
   {
    "duration": 15,
    "start_time": "2023-10-04T07:21:52.879Z"
   },
   {
    "duration": 424,
    "start_time": "2023-10-04T07:22:55.671Z"
   },
   {
    "duration": 915,
    "start_time": "2023-10-04T07:22:56.101Z"
   },
   {
    "duration": 153,
    "start_time": "2023-10-04T07:22:57.018Z"
   },
   {
    "duration": 121,
    "start_time": "2023-10-04T07:22:57.173Z"
   },
   {
    "duration": 15,
    "start_time": "2023-10-04T07:22:57.300Z"
   },
   {
    "duration": 511,
    "start_time": "2023-10-04T07:22:57.317Z"
   },
   {
    "duration": 1093,
    "start_time": "2023-10-04T07:22:57.830Z"
   },
   {
    "duration": 135,
    "start_time": "2023-10-04T07:22:58.925Z"
   },
   {
    "duration": 23,
    "start_time": "2023-10-04T07:22:59.061Z"
   },
   {
    "duration": 104,
    "start_time": "2023-10-04T07:22:59.085Z"
   },
   {
    "duration": 90,
    "start_time": "2023-10-04T07:22:59.191Z"
   },
   {
    "duration": 54,
    "start_time": "2023-10-04T07:22:59.283Z"
   },
   {
    "duration": 49,
    "start_time": "2023-10-04T07:22:59.339Z"
   },
   {
    "duration": 66,
    "start_time": "2023-10-04T07:22:59.392Z"
   },
   {
    "duration": 131,
    "start_time": "2023-10-04T07:22:59.460Z"
   },
   {
    "duration": 225,
    "start_time": "2023-10-04T07:22:59.593Z"
   },
   {
    "duration": 44,
    "start_time": "2023-10-04T07:22:59.819Z"
   },
   {
    "duration": 509,
    "start_time": "2023-10-04T07:22:59.864Z"
   },
   {
    "duration": 138,
    "start_time": "2023-10-04T07:23:00.375Z"
   },
   {
    "duration": 328,
    "start_time": "2023-10-04T07:23:00.515Z"
   },
   {
    "duration": 251,
    "start_time": "2023-10-04T07:23:00.845Z"
   },
   {
    "duration": 78,
    "start_time": "2023-10-04T07:23:01.098Z"
   },
   {
    "duration": 74,
    "start_time": "2023-10-04T07:23:01.178Z"
   },
   {
    "duration": 201,
    "start_time": "2023-10-04T07:23:01.253Z"
   },
   {
    "duration": 121,
    "start_time": "2023-10-04T07:23:01.456Z"
   },
   {
    "duration": 28,
    "start_time": "2023-10-04T07:23:01.580Z"
   },
   {
    "duration": 385,
    "start_time": "2023-10-04T07:23:01.610Z"
   },
   {
    "duration": 140,
    "start_time": "2023-10-04T07:23:01.997Z"
   },
   {
    "duration": 651,
    "start_time": "2023-10-04T07:23:02.139Z"
   },
   {
    "duration": 81,
    "start_time": "2023-10-04T07:23:02.791Z"
   },
   {
    "duration": 49,
    "start_time": "2023-10-04T07:23:02.874Z"
   },
   {
    "duration": 44,
    "start_time": "2023-10-04T07:23:02.925Z"
   },
   {
    "duration": 231,
    "start_time": "2023-10-04T07:23:02.971Z"
   },
   {
    "duration": 154,
    "start_time": "2023-10-04T07:23:03.204Z"
   },
   {
    "duration": 13,
    "start_time": "2023-10-04T07:23:03.360Z"
   },
   {
    "duration": 395,
    "start_time": "2023-10-04T07:25:52.344Z"
   },
   {
    "duration": 922,
    "start_time": "2023-10-04T07:25:52.741Z"
   },
   {
    "duration": 154,
    "start_time": "2023-10-04T07:25:53.665Z"
   },
   {
    "duration": 113,
    "start_time": "2023-10-04T07:25:53.821Z"
   },
   {
    "duration": 13,
    "start_time": "2023-10-04T07:25:53.936Z"
   },
   {
    "duration": 550,
    "start_time": "2023-10-04T07:25:53.951Z"
   },
   {
    "duration": 1128,
    "start_time": "2023-10-04T07:25:54.503Z"
   },
   {
    "duration": 142,
    "start_time": "2023-10-04T07:25:55.633Z"
   },
   {
    "duration": 31,
    "start_time": "2023-10-04T07:25:55.777Z"
   },
   {
    "duration": 44,
    "start_time": "2023-10-04T07:25:55.812Z"
   },
   {
    "duration": 46,
    "start_time": "2023-10-04T07:25:55.857Z"
   },
   {
    "duration": 25,
    "start_time": "2023-10-04T07:25:55.905Z"
   },
   {
    "duration": 30,
    "start_time": "2023-10-04T07:25:55.932Z"
   },
   {
    "duration": 42,
    "start_time": "2023-10-04T07:25:55.963Z"
   },
   {
    "duration": 140,
    "start_time": "2023-10-04T07:25:56.006Z"
   },
   {
    "duration": 509,
    "start_time": "2023-10-04T07:25:56.148Z"
   },
   {
    "duration": 59,
    "start_time": "2023-10-04T07:25:56.659Z"
   },
   {
    "duration": 540,
    "start_time": "2023-10-04T07:25:56.720Z"
   },
   {
    "duration": 146,
    "start_time": "2023-10-04T07:25:57.262Z"
   },
   {
    "duration": 16,
    "start_time": "2023-10-04T07:25:57.410Z"
   },
   {
    "duration": 212,
    "start_time": "2023-10-04T07:25:57.428Z"
   },
   {
    "duration": 122,
    "start_time": "2023-10-04T07:25:57.641Z"
   },
   {
    "duration": 15,
    "start_time": "2023-10-04T07:25:57.765Z"
   },
   {
    "duration": 294,
    "start_time": "2023-10-04T07:25:57.781Z"
   },
   {
    "duration": 140,
    "start_time": "2023-10-04T07:25:58.076Z"
   },
   {
    "duration": 15,
    "start_time": "2023-10-04T07:25:58.218Z"
   },
   {
    "duration": 17,
    "start_time": "2023-10-04T07:25:58.235Z"
   },
   {
    "duration": 61,
    "start_time": "2023-10-04T07:25:58.256Z"
   },
   {
    "duration": 48,
    "start_time": "2023-10-04T07:25:58.319Z"
   },
   {
    "duration": 256,
    "start_time": "2023-10-04T07:25:58.369Z"
   },
   {
    "duration": 172,
    "start_time": "2023-10-04T07:25:58.627Z"
   },
   {
    "duration": 14,
    "start_time": "2023-10-04T07:25:58.802Z"
   },
   {
    "duration": 464,
    "start_time": "2023-10-04T07:26:47.870Z"
   },
   {
    "duration": 936,
    "start_time": "2023-10-04T07:26:48.337Z"
   },
   {
    "duration": 155,
    "start_time": "2023-10-04T07:26:49.275Z"
   },
   {
    "duration": 126,
    "start_time": "2023-10-04T07:26:49.431Z"
   },
   {
    "duration": 14,
    "start_time": "2023-10-04T07:26:49.559Z"
   },
   {
    "duration": 532,
    "start_time": "2023-10-04T07:26:49.575Z"
   },
   {
    "duration": 1143,
    "start_time": "2023-10-04T07:26:50.108Z"
   },
   {
    "duration": 142,
    "start_time": "2023-10-04T07:26:51.255Z"
   },
   {
    "duration": 25,
    "start_time": "2023-10-04T07:26:51.400Z"
   },
   {
    "duration": 69,
    "start_time": "2023-10-04T07:26:51.428Z"
   },
   {
    "duration": 31,
    "start_time": "2023-10-04T07:26:51.499Z"
   },
   {
    "duration": 36,
    "start_time": "2023-10-04T07:26:51.531Z"
   },
   {
    "duration": 58,
    "start_time": "2023-10-04T07:26:51.568Z"
   },
   {
    "duration": 21,
    "start_time": "2023-10-04T07:26:51.629Z"
   },
   {
    "duration": 113,
    "start_time": "2023-10-04T07:26:51.651Z"
   },
   {
    "duration": 214,
    "start_time": "2023-10-04T07:26:51.766Z"
   },
   {
    "duration": 61,
    "start_time": "2023-10-04T07:26:51.982Z"
   },
   {
    "duration": 506,
    "start_time": "2023-10-04T07:26:52.045Z"
   },
   {
    "duration": 151,
    "start_time": "2023-10-04T07:26:52.554Z"
   },
   {
    "duration": 14,
    "start_time": "2023-10-04T07:26:52.707Z"
   },
   {
    "duration": 213,
    "start_time": "2023-10-04T07:26:52.723Z"
   },
   {
    "duration": 140,
    "start_time": "2023-10-04T07:26:52.938Z"
   },
   {
    "duration": 23,
    "start_time": "2023-10-04T07:26:53.080Z"
   },
   {
    "duration": 329,
    "start_time": "2023-10-04T07:26:53.104Z"
   },
   {
    "duration": 151,
    "start_time": "2023-10-04T07:26:53.434Z"
   },
   {
    "duration": 29,
    "start_time": "2023-10-04T07:26:53.587Z"
   },
   {
    "duration": 14,
    "start_time": "2023-10-04T07:26:53.618Z"
   },
   {
    "duration": 41,
    "start_time": "2023-10-04T07:26:53.634Z"
   },
   {
    "duration": 66,
    "start_time": "2023-10-04T07:26:53.677Z"
   },
   {
    "duration": 228,
    "start_time": "2023-10-04T07:26:53.745Z"
   },
   {
    "duration": 164,
    "start_time": "2023-10-04T07:26:53.974Z"
   },
   {
    "duration": 14,
    "start_time": "2023-10-04T07:26:54.140Z"
   },
   {
    "duration": 438,
    "start_time": "2023-10-04T07:29:25.887Z"
   },
   {
    "duration": 998,
    "start_time": "2023-10-04T07:29:26.327Z"
   },
   {
    "duration": 173,
    "start_time": "2023-10-04T07:29:27.326Z"
   },
   {
    "duration": 117,
    "start_time": "2023-10-04T07:29:27.516Z"
   },
   {
    "duration": 13,
    "start_time": "2023-10-04T07:29:27.635Z"
   },
   {
    "duration": 539,
    "start_time": "2023-10-04T07:29:27.650Z"
   },
   {
    "duration": 1128,
    "start_time": "2023-10-04T07:29:28.191Z"
   },
   {
    "duration": 148,
    "start_time": "2023-10-04T07:29:29.322Z"
   },
   {
    "duration": 38,
    "start_time": "2023-10-04T07:29:29.472Z"
   },
   {
    "duration": 50,
    "start_time": "2023-10-04T07:29:29.512Z"
   },
   {
    "duration": 72,
    "start_time": "2023-10-04T07:29:29.564Z"
   },
   {
    "duration": 59,
    "start_time": "2023-10-04T07:29:29.638Z"
   },
   {
    "duration": 46,
    "start_time": "2023-10-04T07:29:29.699Z"
   },
   {
    "duration": 31,
    "start_time": "2023-10-04T07:29:29.748Z"
   },
   {
    "duration": 117,
    "start_time": "2023-10-04T07:29:29.780Z"
   },
   {
    "duration": 212,
    "start_time": "2023-10-04T07:29:29.899Z"
   },
   {
    "duration": 51,
    "start_time": "2023-10-04T07:29:30.113Z"
   },
   {
    "duration": 648,
    "start_time": "2023-10-04T07:29:30.166Z"
   },
   {
    "duration": 141,
    "start_time": "2023-10-04T07:29:30.816Z"
   },
   {
    "duration": 16,
    "start_time": "2023-10-04T07:29:30.959Z"
   },
   {
    "duration": 218,
    "start_time": "2023-10-04T07:29:30.976Z"
   },
   {
    "duration": 132,
    "start_time": "2023-10-04T07:29:31.195Z"
   },
   {
    "duration": 14,
    "start_time": "2023-10-04T07:29:31.329Z"
   },
   {
    "duration": 369,
    "start_time": "2023-10-04T07:29:31.345Z"
   },
   {
    "duration": 134,
    "start_time": "2023-10-04T07:29:31.716Z"
   },
   {
    "duration": 14,
    "start_time": "2023-10-04T07:29:31.852Z"
   },
   {
    "duration": 158,
    "start_time": "2023-10-04T07:29:31.868Z"
   },
   {
    "duration": 237,
    "start_time": "2023-10-04T07:29:32.028Z"
   },
   {
    "duration": 55,
    "start_time": "2023-10-04T07:29:32.266Z"
   },
   {
    "duration": 389,
    "start_time": "2023-10-04T07:29:32.322Z"
   },
   {
    "duration": 160,
    "start_time": "2023-10-04T07:29:32.714Z"
   },
   {
    "duration": 13,
    "start_time": "2023-10-04T07:29:32.876Z"
   },
   {
    "duration": 13,
    "start_time": "2023-10-04T07:37:25.277Z"
   },
   {
    "duration": 17,
    "start_time": "2023-10-04T07:37:27.422Z"
   },
   {
    "duration": 93,
    "start_time": "2023-10-04T07:37:46.201Z"
   },
   {
    "duration": 83,
    "start_time": "2023-10-04T07:38:49.650Z"
   },
   {
    "duration": 5,
    "start_time": "2023-10-04T07:38:53.542Z"
   },
   {
    "duration": 16,
    "start_time": "2023-10-04T07:38:58.739Z"
   },
   {
    "duration": 1181,
    "start_time": "2023-10-06T06:00:32.438Z"
   },
   {
    "duration": 1498,
    "start_time": "2023-10-06T06:00:33.621Z"
   },
   {
    "duration": 169,
    "start_time": "2023-10-06T06:00:35.121Z"
   },
   {
    "duration": 131,
    "start_time": "2023-10-06T06:00:35.292Z"
   },
   {
    "duration": 16,
    "start_time": "2023-10-06T06:00:35.426Z"
   },
   {
    "duration": 609,
    "start_time": "2023-10-06T06:00:35.444Z"
   },
   {
    "duration": 1273,
    "start_time": "2023-10-06T06:00:36.054Z"
   },
   {
    "duration": 158,
    "start_time": "2023-10-06T06:00:37.329Z"
   },
   {
    "duration": 39,
    "start_time": "2023-10-06T06:00:37.490Z"
   },
   {
    "duration": 47,
    "start_time": "2023-10-06T06:00:37.531Z"
   },
   {
    "duration": 52,
    "start_time": "2023-10-06T06:00:37.580Z"
   },
   {
    "duration": 29,
    "start_time": "2023-10-06T06:00:37.634Z"
   },
   {
    "duration": 46,
    "start_time": "2023-10-06T06:00:37.665Z"
   },
   {
    "duration": 31,
    "start_time": "2023-10-06T06:00:37.716Z"
   },
   {
    "duration": 121,
    "start_time": "2023-10-06T06:00:37.749Z"
   },
   {
    "duration": 241,
    "start_time": "2023-10-06T06:00:37.872Z"
   },
   {
    "duration": 50,
    "start_time": "2023-10-06T06:00:38.115Z"
   },
   {
    "duration": 876,
    "start_time": "2023-10-06T06:00:38.166Z"
   },
   {
    "duration": 151,
    "start_time": "2023-10-06T06:00:39.044Z"
   },
   {
    "duration": 24,
    "start_time": "2023-10-06T06:00:39.197Z"
   },
   {
    "duration": 228,
    "start_time": "2023-10-06T06:00:39.222Z"
   },
   {
    "duration": 134,
    "start_time": "2023-10-06T06:00:39.453Z"
   },
   {
    "duration": 22,
    "start_time": "2023-10-06T06:00:39.590Z"
   },
   {
    "duration": 246,
    "start_time": "2023-10-06T06:00:39.613Z"
   },
   {
    "duration": 225,
    "start_time": "2023-10-06T06:00:39.861Z"
   },
   {
    "duration": 26,
    "start_time": "2023-10-06T06:00:40.089Z"
   },
   {
    "duration": 55,
    "start_time": "2023-10-06T06:00:40.118Z"
   },
   {
    "duration": 78,
    "start_time": "2023-10-06T06:00:40.175Z"
   },
   {
    "duration": 56,
    "start_time": "2023-10-06T06:00:40.255Z"
   },
   {
    "duration": 237,
    "start_time": "2023-10-06T06:00:40.314Z"
   },
   {
    "duration": 175,
    "start_time": "2023-10-06T06:00:40.553Z"
   },
   {
    "duration": 13,
    "start_time": "2023-10-06T06:00:40.730Z"
   },
   {
    "duration": 85,
    "start_time": "2023-10-06T06:00:40.745Z"
   },
   {
    "duration": 38,
    "start_time": "2023-10-06T06:00:40.831Z"
   },
   {
    "duration": 45,
    "start_time": "2023-10-06T06:00:40.871Z"
   },
   {
    "duration": 29,
    "start_time": "2023-10-06T06:00:40.918Z"
   },
   {
    "duration": 23,
    "start_time": "2023-10-06T06:00:40.949Z"
   },
   {
    "duration": 43,
    "start_time": "2023-10-06T06:00:40.974Z"
   },
   {
    "duration": 50,
    "start_time": "2023-10-06T06:00:41.019Z"
   },
   {
    "duration": 82,
    "start_time": "2023-10-06T06:00:41.070Z"
   },
   {
    "duration": 16,
    "start_time": "2023-10-06T06:00:41.156Z"
   },
   {
    "duration": 64,
    "start_time": "2023-10-06T06:00:41.174Z"
   },
   {
    "duration": 128,
    "start_time": "2023-10-06T06:27:33.428Z"
   },
   {
    "duration": 3560,
    "start_time": "2023-10-06T06:27:56.091Z"
   },
   {
    "duration": 118,
    "start_time": "2023-10-06T06:28:02.755Z"
   },
   {
    "duration": 4,
    "start_time": "2023-10-06T06:31:05.777Z"
   },
   {
    "duration": 6,
    "start_time": "2023-10-06T06:31:07.720Z"
   },
   {
    "duration": 1702,
    "start_time": "2023-10-06T06:31:42.246Z"
   },
   {
    "duration": 61,
    "start_time": "2023-10-06T06:31:51.736Z"
   },
   {
    "duration": 2549,
    "start_time": "2023-10-06T06:33:23.689Z"
   },
   {
    "duration": 1223,
    "start_time": "2023-10-06T06:33:26.240Z"
   },
   {
    "duration": 999,
    "start_time": "2023-10-06T06:33:27.465Z"
   },
   {
    "duration": 357,
    "start_time": "2023-10-06T06:33:28.466Z"
   },
   {
    "duration": 218,
    "start_time": "2023-10-06T06:33:28.825Z"
   },
   {
    "duration": 72,
    "start_time": "2023-10-06T06:33:29.044Z"
   },
   {
    "duration": 1228,
    "start_time": "2023-10-06T06:33:29.118Z"
   },
   {
    "duration": 1479,
    "start_time": "2023-10-06T06:33:30.349Z"
   },
   {
    "duration": 148,
    "start_time": "2023-10-06T06:33:31.830Z"
   },
   {
    "duration": 111,
    "start_time": "2023-10-06T06:33:31.980Z"
   },
   {
    "duration": 73,
    "start_time": "2023-10-06T06:33:32.093Z"
   },
   {
    "duration": 128,
    "start_time": "2023-10-06T06:33:32.168Z"
   },
   {
    "duration": 84,
    "start_time": "2023-10-06T06:33:32.297Z"
   },
   {
    "duration": 62,
    "start_time": "2023-10-06T06:33:32.384Z"
   },
   {
    "duration": 42,
    "start_time": "2023-10-06T06:33:32.448Z"
   },
   {
    "duration": 150,
    "start_time": "2023-10-06T06:33:32.492Z"
   },
   {
    "duration": 229,
    "start_time": "2023-10-06T06:33:32.644Z"
   },
   {
    "duration": 53,
    "start_time": "2023-10-06T06:33:32.874Z"
   },
   {
    "duration": 561,
    "start_time": "2023-10-06T06:33:32.929Z"
   },
   {
    "duration": 146,
    "start_time": "2023-10-06T06:33:33.492Z"
   },
   {
    "duration": 14,
    "start_time": "2023-10-06T06:33:33.640Z"
   },
   {
    "duration": 237,
    "start_time": "2023-10-06T06:33:33.656Z"
   },
   {
    "duration": 156,
    "start_time": "2023-10-06T06:33:33.895Z"
   },
   {
    "duration": 14,
    "start_time": "2023-10-06T06:33:34.053Z"
   },
   {
    "duration": 356,
    "start_time": "2023-10-06T06:33:34.069Z"
   },
   {
    "duration": 153,
    "start_time": "2023-10-06T06:33:34.426Z"
   },
   {
    "duration": 38,
    "start_time": "2023-10-06T06:33:34.581Z"
   },
   {
    "duration": 50,
    "start_time": "2023-10-06T06:33:34.622Z"
   },
   {
    "duration": 314,
    "start_time": "2023-10-06T06:33:34.674Z"
   },
   {
    "duration": 68,
    "start_time": "2023-10-06T06:33:34.990Z"
   },
   {
    "duration": 255,
    "start_time": "2023-10-06T06:33:35.060Z"
   },
   {
    "duration": 153,
    "start_time": "2023-10-06T06:33:35.317Z"
   },
   {
    "duration": 13,
    "start_time": "2023-10-06T06:33:35.471Z"
   },
   {
    "duration": 211,
    "start_time": "2023-10-06T06:33:35.486Z"
   },
   {
    "duration": 48,
    "start_time": "2023-10-06T06:33:35.698Z"
   },
   {
    "duration": 67,
    "start_time": "2023-10-06T06:33:35.748Z"
   },
   {
    "duration": 47,
    "start_time": "2023-10-06T06:33:35.817Z"
   },
   {
    "duration": 75,
    "start_time": "2023-10-06T06:33:35.865Z"
   },
   {
    "duration": 50,
    "start_time": "2023-10-06T06:33:35.942Z"
   },
   {
    "duration": 2372,
    "start_time": "2023-10-06T06:33:35.994Z"
   },
   {
    "duration": 36,
    "start_time": "2023-10-06T06:33:38.371Z"
   },
   {
    "duration": 21,
    "start_time": "2023-10-06T06:33:38.414Z"
   },
   {
    "duration": 185,
    "start_time": "2023-10-06T06:33:38.437Z"
   },
   {
    "duration": 118,
    "start_time": "2023-10-06T06:33:38.625Z"
   },
   {
    "duration": 182,
    "start_time": "2023-10-06T06:33:38.745Z"
   },
   {
    "duration": 334,
    "start_time": "2023-10-06T06:33:38.929Z"
   },
   {
    "duration": 2561,
    "start_time": "2023-10-06T06:47:00.559Z"
   },
   {
    "duration": 1183,
    "start_time": "2023-10-06T06:47:03.123Z"
   },
   {
    "duration": 1100,
    "start_time": "2023-10-06T06:47:04.314Z"
   },
   {
    "duration": 160,
    "start_time": "2023-10-06T06:47:05.416Z"
   },
   {
    "duration": 173,
    "start_time": "2023-10-06T06:47:05.579Z"
   },
   {
    "duration": 15,
    "start_time": "2023-10-06T06:47:05.755Z"
   },
   {
    "duration": 579,
    "start_time": "2023-10-06T06:47:05.771Z"
   },
   {
    "duration": 1133,
    "start_time": "2023-10-06T06:47:06.352Z"
   },
   {
    "duration": 147,
    "start_time": "2023-10-06T06:47:07.487Z"
   },
   {
    "duration": 101,
    "start_time": "2023-10-06T06:47:07.636Z"
   },
   {
    "duration": 44,
    "start_time": "2023-10-06T06:47:07.738Z"
   },
   {
    "duration": 40,
    "start_time": "2023-10-06T06:47:07.783Z"
   },
   {
    "duration": 37,
    "start_time": "2023-10-06T06:47:07.825Z"
   },
   {
    "duration": 37,
    "start_time": "2023-10-06T06:47:07.867Z"
   },
   {
    "duration": 37,
    "start_time": "2023-10-06T06:47:07.909Z"
   },
   {
    "duration": 126,
    "start_time": "2023-10-06T06:47:07.948Z"
   },
   {
    "duration": 234,
    "start_time": "2023-10-06T06:47:08.075Z"
   },
   {
    "duration": 50,
    "start_time": "2023-10-06T06:47:08.311Z"
   },
   {
    "duration": 581,
    "start_time": "2023-10-06T06:47:08.362Z"
   },
   {
    "duration": 149,
    "start_time": "2023-10-06T06:47:08.944Z"
   },
   {
    "duration": 22,
    "start_time": "2023-10-06T06:47:09.101Z"
   },
   {
    "duration": 226,
    "start_time": "2023-10-06T06:47:09.125Z"
   },
   {
    "duration": 126,
    "start_time": "2023-10-06T06:47:09.353Z"
   },
   {
    "duration": 25,
    "start_time": "2023-10-06T06:47:09.481Z"
   },
   {
    "duration": 324,
    "start_time": "2023-10-06T06:47:09.508Z"
   },
   {
    "duration": 135,
    "start_time": "2023-10-06T06:47:09.833Z"
   },
   {
    "duration": 14,
    "start_time": "2023-10-06T06:47:09.970Z"
   },
   {
    "duration": 34,
    "start_time": "2023-10-06T06:47:09.986Z"
   },
   {
    "duration": 53,
    "start_time": "2023-10-06T06:47:10.022Z"
   },
   {
    "duration": 64,
    "start_time": "2023-10-06T06:47:10.077Z"
   },
   {
    "duration": 239,
    "start_time": "2023-10-06T06:47:10.146Z"
   },
   {
    "duration": 171,
    "start_time": "2023-10-06T06:47:10.387Z"
   },
   {
    "duration": 14,
    "start_time": "2023-10-06T06:47:10.560Z"
   },
   {
    "duration": 44,
    "start_time": "2023-10-06T06:47:10.576Z"
   },
   {
    "duration": 17,
    "start_time": "2023-10-06T06:47:10.622Z"
   },
   {
    "duration": 25,
    "start_time": "2023-10-06T06:47:10.641Z"
   },
   {
    "duration": 17,
    "start_time": "2023-10-06T06:47:10.668Z"
   },
   {
    "duration": 26,
    "start_time": "2023-10-06T06:47:10.702Z"
   },
   {
    "duration": 15,
    "start_time": "2023-10-06T06:47:10.730Z"
   },
   {
    "duration": 63,
    "start_time": "2023-10-06T06:47:21.017Z"
   },
   {
    "duration": 19,
    "start_time": "2023-10-06T06:47:23.199Z"
   },
   {
    "duration": 1395,
    "start_time": "2023-10-06T06:47:50.474Z"
   },
   {
    "duration": 25,
    "start_time": "2023-10-06T06:47:53.266Z"
   },
   {
    "duration": 14,
    "start_time": "2023-10-06T06:48:01.782Z"
   },
   {
    "duration": 10,
    "start_time": "2023-10-06T06:48:58.695Z"
   },
   {
    "duration": 1616,
    "start_time": "2023-10-06T06:49:44.815Z"
   },
   {
    "duration": 6,
    "start_time": "2023-10-06T06:50:22.364Z"
   },
   {
    "duration": 5,
    "start_time": "2023-10-06T06:50:31.419Z"
   },
   {
    "duration": 23,
    "start_time": "2023-10-06T06:54:55.662Z"
   },
   {
    "duration": 73,
    "start_time": "2023-10-06T06:54:57.386Z"
   },
   {
    "duration": 19,
    "start_time": "2023-10-06T06:55:04.665Z"
   },
   {
    "duration": 6,
    "start_time": "2023-10-06T06:55:08.731Z"
   },
   {
    "duration": 10,
    "start_time": "2023-10-06T06:55:59.376Z"
   },
   {
    "duration": 3,
    "start_time": "2023-10-06T06:56:04.918Z"
   },
   {
    "duration": 180,
    "start_time": "2023-10-06T06:56:31.436Z"
   },
   {
    "duration": 77,
    "start_time": "2023-10-06T06:56:49.499Z"
   },
   {
    "duration": 14,
    "start_time": "2023-10-06T06:59:11.972Z"
   },
   {
    "duration": 181,
    "start_time": "2023-10-06T06:59:31.954Z"
   },
   {
    "duration": 77,
    "start_time": "2023-10-06T06:59:54.234Z"
   },
   {
    "duration": 63,
    "start_time": "2023-10-06T07:00:21.089Z"
   },
   {
    "duration": 63,
    "start_time": "2023-10-06T07:00:25.653Z"
   },
   {
    "duration": 52,
    "start_time": "2023-10-06T07:00:29.019Z"
   },
   {
    "duration": 20,
    "start_time": "2023-10-06T07:00:44.799Z"
   },
   {
    "duration": 13,
    "start_time": "2023-10-06T07:01:54.262Z"
   },
   {
    "duration": 15,
    "start_time": "2023-10-06T07:02:19.437Z"
   },
   {
    "duration": 55,
    "start_time": "2023-10-06T07:02:31.462Z"
   },
   {
    "duration": 21,
    "start_time": "2023-10-06T07:03:43.391Z"
   },
   {
    "duration": 3,
    "start_time": "2023-10-06T07:04:00.417Z"
   },
   {
    "duration": 6,
    "start_time": "2023-10-06T07:04:03.913Z"
   },
   {
    "duration": 13,
    "start_time": "2023-10-06T07:04:06.144Z"
   },
   {
    "duration": 2478,
    "start_time": "2023-10-06T07:05:10.242Z"
   },
   {
    "duration": 1285,
    "start_time": "2023-10-06T07:05:12.723Z"
   },
   {
    "duration": 1120,
    "start_time": "2023-10-06T07:05:14.009Z"
   },
   {
    "duration": 182,
    "start_time": "2023-10-06T07:05:15.131Z"
   },
   {
    "duration": 174,
    "start_time": "2023-10-06T07:05:15.316Z"
   },
   {
    "duration": 27,
    "start_time": "2023-10-06T07:05:15.492Z"
   },
   {
    "duration": 570,
    "start_time": "2023-10-06T07:05:15.521Z"
   },
   {
    "duration": 1142,
    "start_time": "2023-10-06T07:05:16.093Z"
   },
   {
    "duration": 143,
    "start_time": "2023-10-06T07:05:17.237Z"
   },
   {
    "duration": 44,
    "start_time": "2023-10-06T07:05:17.385Z"
   },
   {
    "duration": 288,
    "start_time": "2023-10-06T07:05:17.431Z"
   },
   {
    "duration": 62,
    "start_time": "2023-10-06T07:05:17.721Z"
   },
   {
    "duration": 51,
    "start_time": "2023-10-06T07:05:17.784Z"
   },
   {
    "duration": 59,
    "start_time": "2023-10-06T07:05:17.837Z"
   },
   {
    "duration": 57,
    "start_time": "2023-10-06T07:05:17.898Z"
   },
   {
    "duration": 130,
    "start_time": "2023-10-06T07:05:17.958Z"
   },
   {
    "duration": 251,
    "start_time": "2023-10-06T07:05:18.091Z"
   },
   {
    "duration": 72,
    "start_time": "2023-10-06T07:05:18.344Z"
   },
   {
    "duration": 612,
    "start_time": "2023-10-06T07:05:18.418Z"
   },
   {
    "duration": 156,
    "start_time": "2023-10-06T07:05:19.032Z"
   },
   {
    "duration": 24,
    "start_time": "2023-10-06T07:05:19.191Z"
   },
   {
    "duration": 239,
    "start_time": "2023-10-06T07:05:19.217Z"
   },
   {
    "duration": 139,
    "start_time": "2023-10-06T07:05:19.458Z"
   },
   {
    "duration": 31,
    "start_time": "2023-10-06T07:05:19.603Z"
   },
   {
    "duration": 329,
    "start_time": "2023-10-06T07:05:19.636Z"
   },
   {
    "duration": 151,
    "start_time": "2023-10-06T07:05:19.967Z"
   },
   {
    "duration": 15,
    "start_time": "2023-10-06T07:05:20.120Z"
   },
   {
    "duration": 212,
    "start_time": "2023-10-06T07:05:20.139Z"
   },
   {
    "duration": 90,
    "start_time": "2023-10-06T07:05:20.353Z"
   },
   {
    "duration": 70,
    "start_time": "2023-10-06T07:05:20.445Z"
   },
   {
    "duration": 240,
    "start_time": "2023-10-06T07:05:20.517Z"
   },
   {
    "duration": 175,
    "start_time": "2023-10-06T07:05:20.759Z"
   },
   {
    "duration": 15,
    "start_time": "2023-10-06T07:05:20.936Z"
   },
   {
    "duration": 62,
    "start_time": "2023-10-06T07:05:20.953Z"
   },
   {
    "duration": 16,
    "start_time": "2023-10-06T07:05:21.017Z"
   },
   {
    "duration": 56,
    "start_time": "2023-10-06T07:05:21.035Z"
   },
   {
    "duration": 49,
    "start_time": "2023-10-06T07:05:21.093Z"
   },
   {
    "duration": 61,
    "start_time": "2023-10-06T07:05:21.144Z"
   },
   {
    "duration": 98,
    "start_time": "2023-10-06T07:05:21.206Z"
   },
   {
    "duration": 231,
    "start_time": "2023-10-06T07:05:21.306Z"
   },
   {
    "duration": 10,
    "start_time": "2023-10-06T07:05:21.539Z"
   },
   {
    "duration": 1414,
    "start_time": "2023-10-06T07:05:21.551Z"
   },
   {
    "duration": 23,
    "start_time": "2023-10-06T07:05:22.967Z"
   },
   {
    "duration": 41,
    "start_time": "2023-10-06T07:05:22.991Z"
   },
   {
    "duration": 66,
    "start_time": "2023-10-06T07:05:23.034Z"
   },
   {
    "duration": 53,
    "start_time": "2023-10-06T07:05:23.102Z"
   },
   {
    "duration": 16,
    "start_time": "2023-10-06T07:05:23.157Z"
   },
   {
    "duration": 80,
    "start_time": "2023-10-06T07:05:23.175Z"
   },
   {
    "duration": 15,
    "start_time": "2023-10-06T07:05:23.257Z"
   },
   {
    "duration": 180,
    "start_time": "2023-10-06T07:05:23.274Z"
   },
   {
    "duration": 131,
    "start_time": "2023-10-06T07:06:13.323Z"
   },
   {
    "duration": 126,
    "start_time": "2023-10-06T07:06:33.532Z"
   },
   {
    "duration": 2718,
    "start_time": "2023-10-06T07:08:42.321Z"
   },
   {
    "duration": 1240,
    "start_time": "2023-10-06T07:08:45.041Z"
   },
   {
    "duration": 3,
    "start_time": "2023-10-06T07:08:46.283Z"
   },
   {
    "duration": 1028,
    "start_time": "2023-10-06T07:08:46.288Z"
   },
   {
    "duration": 165,
    "start_time": "2023-10-06T07:08:47.320Z"
   },
   {
    "duration": 127,
    "start_time": "2023-10-06T07:08:47.487Z"
   },
   {
    "duration": 14,
    "start_time": "2023-10-06T07:08:47.618Z"
   },
   {
    "duration": 887,
    "start_time": "2023-10-06T07:08:47.633Z"
   },
   {
    "duration": 1163,
    "start_time": "2023-10-06T07:08:48.522Z"
   },
   {
    "duration": 151,
    "start_time": "2023-10-06T07:08:49.686Z"
   },
   {
    "duration": 23,
    "start_time": "2023-10-06T07:08:49.839Z"
   },
   {
    "duration": 55,
    "start_time": "2023-10-06T07:08:49.863Z"
   },
   {
    "duration": 26,
    "start_time": "2023-10-06T07:08:49.920Z"
   },
   {
    "duration": 46,
    "start_time": "2023-10-06T07:08:49.950Z"
   },
   {
    "duration": 82,
    "start_time": "2023-10-06T07:08:49.997Z"
   },
   {
    "duration": 86,
    "start_time": "2023-10-06T07:08:50.081Z"
   },
   {
    "duration": 167,
    "start_time": "2023-10-06T07:08:50.168Z"
   },
   {
    "duration": 271,
    "start_time": "2023-10-06T07:08:50.336Z"
   },
   {
    "duration": 52,
    "start_time": "2023-10-06T07:08:50.611Z"
   },
   {
    "duration": 562,
    "start_time": "2023-10-06T07:08:50.665Z"
   },
   {
    "duration": 149,
    "start_time": "2023-10-06T07:08:51.228Z"
   },
   {
    "duration": 24,
    "start_time": "2023-10-06T07:08:51.378Z"
   },
   {
    "duration": 363,
    "start_time": "2023-10-06T07:08:51.410Z"
   },
   {
    "duration": 143,
    "start_time": "2023-10-06T07:08:51.775Z"
   },
   {
    "duration": 14,
    "start_time": "2023-10-06T07:08:51.920Z"
   },
   {
    "duration": 336,
    "start_time": "2023-10-06T07:08:51.936Z"
   },
   {
    "duration": 159,
    "start_time": "2023-10-06T07:08:52.273Z"
   },
   {
    "duration": 15,
    "start_time": "2023-10-06T07:08:52.434Z"
   },
   {
    "duration": 225,
    "start_time": "2023-10-06T07:08:52.451Z"
   },
   {
    "duration": 52,
    "start_time": "2023-10-06T07:08:52.677Z"
   },
   {
    "duration": 47,
    "start_time": "2023-10-06T07:08:52.731Z"
   },
   {
    "duration": 271,
    "start_time": "2023-10-06T07:08:52.779Z"
   },
   {
    "duration": 192,
    "start_time": "2023-10-06T07:08:53.052Z"
   },
   {
    "duration": 15,
    "start_time": "2023-10-06T07:08:53.246Z"
   },
   {
    "duration": 79,
    "start_time": "2023-10-06T07:08:53.262Z"
   },
   {
    "duration": 41,
    "start_time": "2023-10-06T07:08:53.342Z"
   },
   {
    "duration": 57,
    "start_time": "2023-10-06T07:08:53.385Z"
   },
   {
    "duration": 55,
    "start_time": "2023-10-06T07:08:53.444Z"
   },
   {
    "duration": 40,
    "start_time": "2023-10-06T07:08:53.501Z"
   },
   {
    "duration": 23,
    "start_time": "2023-10-06T07:08:53.543Z"
   },
   {
    "duration": 104,
    "start_time": "2023-10-06T07:08:53.570Z"
   },
   {
    "duration": 12,
    "start_time": "2023-10-06T07:08:53.676Z"
   },
   {
    "duration": 1526,
    "start_time": "2023-10-06T07:08:53.701Z"
   },
   {
    "duration": 20,
    "start_time": "2023-10-06T07:08:55.229Z"
   },
   {
    "duration": 14,
    "start_time": "2023-10-06T07:08:55.251Z"
   },
   {
    "duration": 51,
    "start_time": "2023-10-06T07:08:55.266Z"
   },
   {
    "duration": 38,
    "start_time": "2023-10-06T07:08:55.320Z"
   },
   {
    "duration": 12,
    "start_time": "2023-10-06T07:08:55.360Z"
   },
   {
    "duration": 103,
    "start_time": "2023-10-06T07:08:55.374Z"
   },
   {
    "duration": 17,
    "start_time": "2023-10-06T07:08:55.478Z"
   },
   {
    "duration": 168,
    "start_time": "2023-10-06T07:08:55.501Z"
   },
   {
    "duration": 26,
    "start_time": "2023-10-06T07:09:15.140Z"
   },
   {
    "duration": 21,
    "start_time": "2023-10-06T07:09:34.820Z"
   },
   {
    "duration": 25,
    "start_time": "2023-10-06T07:26:24.090Z"
   },
   {
    "duration": 2862,
    "start_time": "2023-10-09T06:35:42.571Z"
   },
   {
    "duration": 1253,
    "start_time": "2023-10-09T06:35:45.435Z"
   },
   {
    "duration": 2,
    "start_time": "2023-10-09T06:35:46.691Z"
   },
   {
    "duration": 1066,
    "start_time": "2023-10-09T06:35:46.694Z"
   },
   {
    "duration": 118,
    "start_time": "2023-10-09T06:35:47.762Z"
   },
   {
    "duration": 100,
    "start_time": "2023-10-09T06:35:47.882Z"
   },
   {
    "duration": 11,
    "start_time": "2023-10-09T06:35:47.984Z"
   },
   {
    "duration": 398,
    "start_time": "2023-10-09T06:35:47.996Z"
   },
   {
    "duration": 842,
    "start_time": "2023-10-09T06:35:48.395Z"
   },
   {
    "duration": 110,
    "start_time": "2023-10-09T06:35:49.238Z"
   },
   {
    "duration": 21,
    "start_time": "2023-10-09T06:35:49.349Z"
   },
   {
    "duration": 50,
    "start_time": "2023-10-09T06:35:49.371Z"
   },
   {
    "duration": 33,
    "start_time": "2023-10-09T06:35:49.422Z"
   },
   {
    "duration": 19,
    "start_time": "2023-10-09T06:35:49.459Z"
   },
   {
    "duration": 32,
    "start_time": "2023-10-09T06:35:49.480Z"
   },
   {
    "duration": 19,
    "start_time": "2023-10-09T06:35:49.514Z"
   },
   {
    "duration": 96,
    "start_time": "2023-10-09T06:35:49.534Z"
   },
   {
    "duration": 165,
    "start_time": "2023-10-09T06:35:49.632Z"
   },
   {
    "duration": 52,
    "start_time": "2023-10-09T06:35:49.799Z"
   },
   {
    "duration": 616,
    "start_time": "2023-10-09T06:35:49.857Z"
   },
   {
    "duration": 123,
    "start_time": "2023-10-09T06:35:50.474Z"
   },
   {
    "duration": 13,
    "start_time": "2023-10-09T06:35:50.599Z"
   },
   {
    "duration": 228,
    "start_time": "2023-10-09T06:35:50.613Z"
   },
   {
    "duration": 115,
    "start_time": "2023-10-09T06:35:50.843Z"
   },
   {
    "duration": 12,
    "start_time": "2023-10-09T06:35:50.959Z"
   },
   {
    "duration": 194,
    "start_time": "2023-10-09T06:35:50.972Z"
   },
   {
    "duration": 113,
    "start_time": "2023-10-09T06:35:51.167Z"
   },
   {
    "duration": 13,
    "start_time": "2023-10-09T06:35:51.281Z"
   },
   {
    "duration": 11,
    "start_time": "2023-10-09T06:35:51.295Z"
   },
   {
    "duration": 54,
    "start_time": "2023-10-09T06:35:51.307Z"
   },
   {
    "duration": 43,
    "start_time": "2023-10-09T06:35:51.362Z"
   },
   {
    "duration": 203,
    "start_time": "2023-10-09T06:35:51.406Z"
   },
   {
    "duration": 148,
    "start_time": "2023-10-09T06:35:51.610Z"
   },
   {
    "duration": 11,
    "start_time": "2023-10-09T06:35:51.759Z"
   },
   {
    "duration": 34,
    "start_time": "2023-10-09T06:35:51.771Z"
   },
   {
    "duration": 26,
    "start_time": "2023-10-09T06:35:51.806Z"
   },
   {
    "duration": 31,
    "start_time": "2023-10-09T06:35:51.834Z"
   },
   {
    "duration": 15,
    "start_time": "2023-10-09T06:35:51.866Z"
   },
   {
    "duration": 18,
    "start_time": "2023-10-09T06:35:51.882Z"
   },
   {
    "duration": 25,
    "start_time": "2023-10-09T06:35:51.901Z"
   },
   {
    "duration": 86,
    "start_time": "2023-10-09T06:35:51.930Z"
   },
   {
    "duration": 8,
    "start_time": "2023-10-09T06:35:52.018Z"
   },
   {
    "duration": 1202,
    "start_time": "2023-10-09T06:35:52.028Z"
   },
   {
    "duration": 23,
    "start_time": "2023-10-09T06:35:53.231Z"
   },
   {
    "duration": 35,
    "start_time": "2023-10-09T06:35:53.256Z"
   },
   {
    "duration": 67,
    "start_time": "2023-10-09T06:35:53.292Z"
   },
   {
    "duration": 52,
    "start_time": "2023-10-09T06:35:53.361Z"
   },
   {
    "duration": 41,
    "start_time": "2023-10-09T06:35:53.415Z"
   },
   {
    "duration": 188,
    "start_time": "2023-10-09T06:35:53.458Z"
   },
   {
    "duration": 49,
    "start_time": "2023-10-09T06:35:53.648Z"
   },
   {
    "duration": 145,
    "start_time": "2023-10-09T06:35:53.699Z"
   },
   {
    "duration": 15,
    "start_time": "2023-10-09T06:35:53.845Z"
   },
   {
    "duration": 13,
    "start_time": "2023-10-09T06:35:53.862Z"
   },
   {
    "duration": 2086,
    "start_time": "2023-10-09T06:48:16.192Z"
   },
   {
    "duration": 1318,
    "start_time": "2023-10-09T06:48:18.280Z"
   },
   {
    "duration": 2,
    "start_time": "2023-10-09T06:48:19.600Z"
   },
   {
    "duration": 776,
    "start_time": "2023-10-09T06:48:19.640Z"
   },
   {
    "duration": 116,
    "start_time": "2023-10-09T06:48:20.417Z"
   },
   {
    "duration": 141,
    "start_time": "2023-10-09T06:48:20.539Z"
   },
   {
    "duration": 11,
    "start_time": "2023-10-09T06:48:20.682Z"
   },
   {
    "duration": 404,
    "start_time": "2023-10-09T06:48:20.695Z"
   },
   {
    "duration": 868,
    "start_time": "2023-10-09T06:48:21.101Z"
   },
   {
    "duration": 123,
    "start_time": "2023-10-09T06:48:21.972Z"
   },
   {
    "duration": 19,
    "start_time": "2023-10-09T06:48:22.096Z"
   },
   {
    "duration": 36,
    "start_time": "2023-10-09T06:48:22.116Z"
   },
   {
    "duration": 20,
    "start_time": "2023-10-09T06:48:22.156Z"
   },
   {
    "duration": 21,
    "start_time": "2023-10-09T06:48:22.178Z"
   },
   {
    "duration": 25,
    "start_time": "2023-10-09T06:48:22.201Z"
   },
   {
    "duration": 34,
    "start_time": "2023-10-09T06:48:22.227Z"
   },
   {
    "duration": 77,
    "start_time": "2023-10-09T06:48:22.262Z"
   },
   {
    "duration": 224,
    "start_time": "2023-10-09T06:48:22.345Z"
   },
   {
    "duration": 51,
    "start_time": "2023-10-09T06:48:22.571Z"
   },
   {
    "duration": 467,
    "start_time": "2023-10-09T06:48:22.624Z"
   },
   {
    "duration": 123,
    "start_time": "2023-10-09T06:48:23.092Z"
   },
   {
    "duration": 13,
    "start_time": "2023-10-09T06:48:23.217Z"
   },
   {
    "duration": 174,
    "start_time": "2023-10-09T06:48:23.232Z"
   },
   {
    "duration": 165,
    "start_time": "2023-10-09T06:48:23.407Z"
   },
   {
    "duration": 12,
    "start_time": "2023-10-09T06:48:23.574Z"
   },
   {
    "duration": 213,
    "start_time": "2023-10-09T06:48:23.588Z"
   },
   {
    "duration": 121,
    "start_time": "2023-10-09T06:48:23.802Z"
   },
   {
    "duration": 18,
    "start_time": "2023-10-09T06:48:23.926Z"
   },
   {
    "duration": 18,
    "start_time": "2023-10-09T06:48:23.945Z"
   },
   {
    "duration": 44,
    "start_time": "2023-10-09T06:48:23.965Z"
   },
   {
    "duration": 46,
    "start_time": "2023-10-09T06:48:24.010Z"
   },
   {
    "duration": 201,
    "start_time": "2023-10-09T06:48:24.057Z"
   },
   {
    "duration": 132,
    "start_time": "2023-10-09T06:48:24.259Z"
   },
   {
    "duration": 11,
    "start_time": "2023-10-09T06:48:24.393Z"
   },
   {
    "duration": 45,
    "start_time": "2023-10-09T06:48:24.405Z"
   },
   {
    "duration": 22,
    "start_time": "2023-10-09T06:48:24.451Z"
   },
   {
    "duration": 35,
    "start_time": "2023-10-09T06:48:24.474Z"
   },
   {
    "duration": 21,
    "start_time": "2023-10-09T06:48:24.510Z"
   },
   {
    "duration": 26,
    "start_time": "2023-10-09T06:48:24.533Z"
   },
   {
    "duration": 13,
    "start_time": "2023-10-09T06:48:24.560Z"
   },
   {
    "duration": 53,
    "start_time": "2023-10-09T06:48:24.574Z"
   },
   {
    "duration": 29,
    "start_time": "2023-10-09T06:48:24.628Z"
   },
   {
    "duration": 1118,
    "start_time": "2023-10-09T06:48:24.659Z"
   },
   {
    "duration": 18,
    "start_time": "2023-10-09T06:48:25.779Z"
   },
   {
    "duration": 12,
    "start_time": "2023-10-09T06:48:25.799Z"
   },
   {
    "duration": 41,
    "start_time": "2023-10-09T06:48:25.812Z"
   },
   {
    "duration": 14,
    "start_time": "2023-10-09T06:48:25.854Z"
   },
   {
    "duration": 11,
    "start_time": "2023-10-09T06:48:25.870Z"
   },
   {
    "duration": 55,
    "start_time": "2023-10-09T06:48:25.883Z"
   },
   {
    "duration": 22,
    "start_time": "2023-10-09T06:48:25.939Z"
   },
   {
    "duration": 123,
    "start_time": "2023-10-09T06:48:25.962Z"
   },
   {
    "duration": 15,
    "start_time": "2023-10-09T06:48:26.086Z"
   },
   {
    "duration": 14,
    "start_time": "2023-10-09T06:48:26.102Z"
   },
   {
    "duration": 3339,
    "start_time": "2023-10-16T07:02:12.751Z"
   },
   {
    "duration": 1152,
    "start_time": "2023-10-16T07:02:16.092Z"
   },
   {
    "duration": 3,
    "start_time": "2023-10-16T07:02:17.245Z"
   },
   {
    "duration": 2825,
    "start_time": "2023-10-16T07:02:17.249Z"
   },
   {
    "duration": 151,
    "start_time": "2023-10-16T07:02:20.076Z"
   },
   {
    "duration": 98,
    "start_time": "2023-10-16T07:02:20.229Z"
   },
   {
    "duration": 24,
    "start_time": "2023-10-16T07:02:20.329Z"
   },
   {
    "duration": 460,
    "start_time": "2023-10-16T07:02:20.354Z"
   },
   {
    "duration": 1014,
    "start_time": "2023-10-16T07:02:20.815Z"
   },
   {
    "duration": 117,
    "start_time": "2023-10-16T07:02:21.830Z"
   },
   {
    "duration": 19,
    "start_time": "2023-10-16T07:02:21.949Z"
   },
   {
    "duration": 29,
    "start_time": "2023-10-16T07:02:21.970Z"
   },
   {
    "duration": 36,
    "start_time": "2023-10-16T07:02:22.001Z"
   },
   {
    "duration": 39,
    "start_time": "2023-10-16T07:02:22.044Z"
   },
   {
    "duration": 25,
    "start_time": "2023-10-16T07:02:22.085Z"
   },
   {
    "duration": 24,
    "start_time": "2023-10-16T07:02:22.111Z"
   },
   {
    "duration": 118,
    "start_time": "2023-10-16T07:02:22.136Z"
   },
   {
    "duration": 195,
    "start_time": "2023-10-16T07:02:22.256Z"
   },
   {
    "duration": 41,
    "start_time": "2023-10-16T07:02:22.452Z"
   },
   {
    "duration": 659,
    "start_time": "2023-10-16T07:02:22.495Z"
   },
   {
    "duration": 122,
    "start_time": "2023-10-16T07:02:23.156Z"
   },
   {
    "duration": 13,
    "start_time": "2023-10-16T07:02:23.280Z"
   },
   {
    "duration": 254,
    "start_time": "2023-10-16T07:02:23.295Z"
   },
   {
    "duration": 106,
    "start_time": "2023-10-16T07:02:23.551Z"
   },
   {
    "duration": 14,
    "start_time": "2023-10-16T07:02:23.659Z"
   },
   {
    "duration": 208,
    "start_time": "2023-10-16T07:02:23.674Z"
   },
   {
    "duration": 122,
    "start_time": "2023-10-16T07:02:23.883Z"
   },
   {
    "duration": 18,
    "start_time": "2023-10-16T07:02:24.007Z"
   },
   {
    "duration": 27,
    "start_time": "2023-10-16T07:02:24.027Z"
   },
   {
    "duration": 39,
    "start_time": "2023-10-16T07:02:24.056Z"
   },
   {
    "duration": 63,
    "start_time": "2023-10-16T07:02:24.096Z"
   },
   {
    "duration": 261,
    "start_time": "2023-10-16T07:02:24.163Z"
   },
   {
    "duration": 135,
    "start_time": "2023-10-16T07:02:24.426Z"
   },
   {
    "duration": 12,
    "start_time": "2023-10-16T07:02:24.563Z"
   },
   {
    "duration": 15,
    "start_time": "2023-10-16T07:02:24.577Z"
   },
   {
    "duration": 16,
    "start_time": "2023-10-16T07:02:24.593Z"
   },
   {
    "duration": 41,
    "start_time": "2023-10-16T07:02:24.610Z"
   },
   {
    "duration": 16,
    "start_time": "2023-10-16T07:02:24.652Z"
   },
   {
    "duration": 17,
    "start_time": "2023-10-16T07:02:24.669Z"
   },
   {
    "duration": 20,
    "start_time": "2023-10-16T07:02:24.687Z"
   },
   {
    "duration": 75,
    "start_time": "2023-10-16T07:02:24.711Z"
   },
   {
    "duration": 9,
    "start_time": "2023-10-16T07:02:24.788Z"
   },
   {
    "duration": 1237,
    "start_time": "2023-10-16T07:02:24.799Z"
   },
   {
    "duration": 23,
    "start_time": "2023-10-16T07:02:26.038Z"
   },
   {
    "duration": 25,
    "start_time": "2023-10-16T07:02:26.063Z"
   },
   {
    "duration": 24,
    "start_time": "2023-10-16T07:02:26.089Z"
   },
   {
    "duration": 14,
    "start_time": "2023-10-16T07:02:26.115Z"
   },
   {
    "duration": 15,
    "start_time": "2023-10-16T07:02:26.131Z"
   },
   {
    "duration": 79,
    "start_time": "2023-10-16T07:02:26.147Z"
   },
   {
    "duration": 18,
    "start_time": "2023-10-16T07:02:26.227Z"
   },
   {
    "duration": 160,
    "start_time": "2023-10-16T07:02:26.246Z"
   },
   {
    "duration": 16,
    "start_time": "2023-10-16T07:02:26.407Z"
   },
   {
    "duration": 26,
    "start_time": "2023-10-16T07:02:26.424Z"
   },
   {
    "duration": 3456,
    "start_time": "2023-10-20T07:47:58.878Z"
   },
   {
    "duration": 1597,
    "start_time": "2023-10-20T07:48:02.337Z"
   },
   {
    "duration": 2,
    "start_time": "2023-10-20T07:48:03.936Z"
   },
   {
    "duration": 1354,
    "start_time": "2023-10-20T07:48:03.940Z"
   },
   {
    "duration": 167,
    "start_time": "2023-10-20T07:48:05.296Z"
   },
   {
    "duration": 106,
    "start_time": "2023-10-20T07:48:05.465Z"
   },
   {
    "duration": 13,
    "start_time": "2023-10-20T07:48:05.572Z"
   },
   {
    "duration": 501,
    "start_time": "2023-10-20T07:48:05.586Z"
   },
   {
    "duration": 1101,
    "start_time": "2023-10-20T07:48:06.088Z"
   },
   {
    "duration": 134,
    "start_time": "2023-10-20T07:48:07.191Z"
   },
   {
    "duration": 40,
    "start_time": "2023-10-20T07:48:07.326Z"
   },
   {
    "duration": 47,
    "start_time": "2023-10-20T07:48:07.368Z"
   },
   {
    "duration": 59,
    "start_time": "2023-10-20T07:48:07.417Z"
   },
   {
    "duration": 35,
    "start_time": "2023-10-20T07:48:07.479Z"
   },
   {
    "duration": 25,
    "start_time": "2023-10-20T07:48:07.515Z"
   },
   {
    "duration": 30,
    "start_time": "2023-10-20T07:48:07.542Z"
   },
   {
    "duration": 122,
    "start_time": "2023-10-20T07:48:07.574Z"
   },
   {
    "duration": 227,
    "start_time": "2023-10-20T07:48:07.697Z"
   },
   {
    "duration": 50,
    "start_time": "2023-10-20T07:48:07.925Z"
   },
   {
    "duration": 744,
    "start_time": "2023-10-20T07:48:07.977Z"
   },
   {
    "duration": 142,
    "start_time": "2023-10-20T07:48:08.723Z"
   },
   {
    "duration": 15,
    "start_time": "2023-10-20T07:48:08.867Z"
   },
   {
    "duration": 296,
    "start_time": "2023-10-20T07:48:08.883Z"
   },
   {
    "duration": 121,
    "start_time": "2023-10-20T07:48:09.181Z"
   },
   {
    "duration": 13,
    "start_time": "2023-10-20T07:48:09.304Z"
   },
   {
    "duration": 247,
    "start_time": "2023-10-20T07:48:09.318Z"
   },
   {
    "duration": 133,
    "start_time": "2023-10-20T07:48:09.566Z"
   },
   {
    "duration": 15,
    "start_time": "2023-10-20T07:48:09.701Z"
   },
   {
    "duration": 40,
    "start_time": "2023-10-20T07:48:09.717Z"
   },
   {
    "duration": 40,
    "start_time": "2023-10-20T07:48:09.760Z"
   },
   {
    "duration": 64,
    "start_time": "2023-10-20T07:48:09.802Z"
   },
   {
    "duration": 228,
    "start_time": "2023-10-20T07:48:09.868Z"
   },
   {
    "duration": 161,
    "start_time": "2023-10-20T07:48:10.097Z"
   },
   {
    "duration": 12,
    "start_time": "2023-10-20T07:48:10.261Z"
   },
   {
    "duration": 99,
    "start_time": "2023-10-20T07:48:10.275Z"
   },
   {
    "duration": 86,
    "start_time": "2023-10-20T07:48:10.376Z"
   },
   {
    "duration": 34,
    "start_time": "2023-10-20T07:48:10.467Z"
   },
   {
    "duration": 46,
    "start_time": "2023-10-20T07:48:10.503Z"
   },
   {
    "duration": 38,
    "start_time": "2023-10-20T07:48:10.551Z"
   },
   {
    "duration": 38,
    "start_time": "2023-10-20T07:48:10.591Z"
   },
   {
    "duration": 74,
    "start_time": "2023-10-20T07:48:10.633Z"
   },
   {
    "duration": 11,
    "start_time": "2023-10-20T07:48:10.708Z"
   },
   {
    "duration": 1370,
    "start_time": "2023-10-20T07:48:10.721Z"
   },
   {
    "duration": 20,
    "start_time": "2023-10-20T07:48:12.092Z"
   },
   {
    "duration": 16,
    "start_time": "2023-10-20T07:48:12.113Z"
   },
   {
    "duration": 37,
    "start_time": "2023-10-20T07:48:12.146Z"
   },
   {
    "duration": 15,
    "start_time": "2023-10-20T07:48:12.185Z"
   },
   {
    "duration": 20,
    "start_time": "2023-10-20T07:48:12.202Z"
   },
   {
    "duration": 83,
    "start_time": "2023-10-20T07:48:12.224Z"
   },
   {
    "duration": 16,
    "start_time": "2023-10-20T07:48:12.309Z"
   },
   {
    "duration": 176,
    "start_time": "2023-10-20T07:48:12.327Z"
   },
   {
    "duration": 17,
    "start_time": "2023-10-20T07:48:12.505Z"
   },
   {
    "duration": 80,
    "start_time": "2023-10-20T07:48:12.523Z"
   },
   {
    "duration": 2312,
    "start_time": "2023-10-20T07:49:56.906Z"
   },
   {
    "duration": 28,
    "start_time": "2023-10-20T07:58:33.590Z"
   },
   {
    "duration": 3111,
    "start_time": "2023-10-24T07:03:32.112Z"
   },
   {
    "duration": 2277,
    "start_time": "2023-10-24T07:03:35.226Z"
   },
   {
    "duration": 1385,
    "start_time": "2023-10-24T07:03:37.505Z"
   },
   {
    "duration": 2,
    "start_time": "2023-10-24T07:03:38.892Z"
   },
   {
    "duration": 1184,
    "start_time": "2023-10-24T07:03:38.896Z"
   },
   {
    "duration": 159,
    "start_time": "2023-10-24T07:03:40.082Z"
   },
   {
    "duration": 111,
    "start_time": "2023-10-24T07:03:40.243Z"
   },
   {
    "duration": 13,
    "start_time": "2023-10-24T07:03:40.356Z"
   },
   {
    "duration": 492,
    "start_time": "2023-10-24T07:03:40.370Z"
   },
   {
    "duration": 1008,
    "start_time": "2023-10-24T07:03:40.863Z"
   },
   {
    "duration": 125,
    "start_time": "2023-10-24T07:03:41.872Z"
   },
   {
    "duration": 24,
    "start_time": "2023-10-24T07:03:41.998Z"
   },
   {
    "duration": 24,
    "start_time": "2023-10-24T07:03:42.023Z"
   },
   {
    "duration": 53,
    "start_time": "2023-10-24T07:03:42.050Z"
   },
   {
    "duration": 26,
    "start_time": "2023-10-24T07:03:42.105Z"
   },
   {
    "duration": 31,
    "start_time": "2023-10-24T07:03:42.132Z"
   },
   {
    "duration": 22,
    "start_time": "2023-10-24T07:03:42.164Z"
   },
   {
    "duration": 109,
    "start_time": "2023-10-24T07:03:42.187Z"
   },
   {
    "duration": 199,
    "start_time": "2023-10-24T07:03:42.297Z"
   },
   {
    "duration": 48,
    "start_time": "2023-10-24T07:03:42.497Z"
   },
   {
    "duration": 539,
    "start_time": "2023-10-24T07:03:42.547Z"
   },
   {
    "duration": 131,
    "start_time": "2023-10-24T07:03:43.088Z"
   },
   {
    "duration": 13,
    "start_time": "2023-10-24T07:03:43.221Z"
   },
   {
    "duration": 279,
    "start_time": "2023-10-24T07:03:43.236Z"
   },
   {
    "duration": 116,
    "start_time": "2023-10-24T07:03:43.516Z"
   },
   {
    "duration": 13,
    "start_time": "2023-10-24T07:03:43.634Z"
   },
   {
    "duration": 222,
    "start_time": "2023-10-24T07:03:43.649Z"
   },
   {
    "duration": 122,
    "start_time": "2023-10-24T07:03:43.873Z"
   },
   {
    "duration": 14,
    "start_time": "2023-10-24T07:03:44.006Z"
   },
   {
    "duration": 14,
    "start_time": "2023-10-24T07:03:44.022Z"
   },
   {
    "duration": 37,
    "start_time": "2023-10-24T07:03:44.037Z"
   },
   {
    "duration": 67,
    "start_time": "2023-10-24T07:03:44.076Z"
   },
   {
    "duration": 227,
    "start_time": "2023-10-24T07:03:44.145Z"
   },
   {
    "duration": 152,
    "start_time": "2023-10-24T07:03:44.374Z"
   },
   {
    "duration": 13,
    "start_time": "2023-10-24T07:03:44.527Z"
   },
   {
    "duration": 21,
    "start_time": "2023-10-24T07:03:44.542Z"
   },
   {
    "duration": 43,
    "start_time": "2023-10-24T07:03:44.564Z"
   },
   {
    "duration": 20,
    "start_time": "2023-10-24T07:03:44.608Z"
   },
   {
    "duration": 28,
    "start_time": "2023-10-24T07:03:44.631Z"
   },
   {
    "duration": 24,
    "start_time": "2023-10-24T07:03:44.661Z"
   },
   {
    "duration": 14,
    "start_time": "2023-10-24T07:03:44.707Z"
   },
   {
    "duration": 91,
    "start_time": "2023-10-24T07:03:44.722Z"
   },
   {
    "duration": 11,
    "start_time": "2023-10-24T07:03:44.814Z"
   },
   {
    "duration": 1372,
    "start_time": "2023-10-24T07:03:44.827Z"
   },
   {
    "duration": 19,
    "start_time": "2023-10-24T07:03:46.200Z"
   },
   {
    "duration": 13,
    "start_time": "2023-10-24T07:03:46.220Z"
   },
   {
    "duration": 31,
    "start_time": "2023-10-24T07:03:46.235Z"
   },
   {
    "duration": 41,
    "start_time": "2023-10-24T07:03:46.268Z"
   },
   {
    "duration": 22,
    "start_time": "2023-10-24T07:03:46.311Z"
   },
   {
    "duration": 81,
    "start_time": "2023-10-24T07:03:46.335Z"
   },
   {
    "duration": 14,
    "start_time": "2023-10-24T07:03:46.418Z"
   },
   {
    "duration": 161,
    "start_time": "2023-10-24T07:03:46.434Z"
   },
   {
    "duration": 22,
    "start_time": "2023-10-24T07:03:46.597Z"
   },
   {
    "duration": 19,
    "start_time": "2023-10-24T07:03:46.621Z"
   },
   {
    "duration": 603,
    "start_time": "2023-10-24T07:15:10.019Z"
   },
   {
    "duration": 500,
    "start_time": "2023-10-24T07:18:20.813Z"
   },
   {
    "duration": 430,
    "start_time": "2023-10-24T07:18:23.776Z"
   },
   {
    "duration": 9,
    "start_time": "2023-10-24T07:21:53.635Z"
   },
   {
    "duration": 58205,
    "start_time": "2023-10-24T08:23:33.109Z"
   },
   {
    "duration": 128537,
    "start_time": "2023-10-24T08:37:02.176Z"
   },
   {
    "duration": 2379,
    "start_time": "2023-10-24T08:39:23.237Z"
   },
   {
    "duration": 2472,
    "start_time": "2023-10-24T08:39:25.619Z"
   },
   {
    "duration": 1427,
    "start_time": "2023-10-24T08:39:28.093Z"
   },
   {
    "duration": 2,
    "start_time": "2023-10-24T08:39:29.524Z"
   },
   {
    "duration": 1000,
    "start_time": "2023-10-24T08:39:29.528Z"
   },
   {
    "duration": 159,
    "start_time": "2023-10-24T08:39:30.530Z"
   },
   {
    "duration": 355,
    "start_time": "2023-10-24T08:39:30.691Z"
   },
   {
    "duration": 46,
    "start_time": "2023-10-24T08:39:31.048Z"
   },
   {
    "duration": 607,
    "start_time": "2023-10-24T08:39:31.096Z"
   },
   {
    "duration": 1134,
    "start_time": "2023-10-24T08:39:31.705Z"
   },
   {
    "duration": 132,
    "start_time": "2023-10-24T08:39:32.841Z"
   },
   {
    "duration": 21,
    "start_time": "2023-10-24T08:39:32.975Z"
   },
   {
    "duration": 30,
    "start_time": "2023-10-24T08:39:33.008Z"
   },
   {
    "duration": 46,
    "start_time": "2023-10-24T08:39:33.040Z"
   },
   {
    "duration": 48,
    "start_time": "2023-10-24T08:39:33.088Z"
   },
   {
    "duration": 96,
    "start_time": "2023-10-24T08:39:33.138Z"
   },
   {
    "duration": 61,
    "start_time": "2023-10-24T08:39:33.236Z"
   },
   {
    "duration": 131,
    "start_time": "2023-10-24T08:39:33.299Z"
   },
   {
    "duration": 241,
    "start_time": "2023-10-24T08:39:33.433Z"
   },
   {
    "duration": 58,
    "start_time": "2023-10-24T08:39:33.676Z"
   },
   {
    "duration": 413,
    "start_time": "2023-10-24T08:39:33.737Z"
   },
   {
    "duration": 134,
    "start_time": "2023-10-24T08:39:34.152Z"
   },
   {
    "duration": 31,
    "start_time": "2023-10-24T08:39:34.288Z"
   },
   {
    "duration": 218,
    "start_time": "2023-10-24T08:39:34.322Z"
   },
   {
    "duration": 203,
    "start_time": "2023-10-24T08:39:34.541Z"
   },
   {
    "duration": 14,
    "start_time": "2023-10-24T08:39:34.746Z"
   },
   {
    "duration": 253,
    "start_time": "2023-10-24T08:39:34.762Z"
   },
   {
    "duration": 130,
    "start_time": "2023-10-24T08:39:35.026Z"
   },
   {
    "duration": 14,
    "start_time": "2023-10-24T08:39:35.158Z"
   },
   {
    "duration": 47,
    "start_time": "2023-10-24T08:39:35.174Z"
   },
   {
    "duration": 54,
    "start_time": "2023-10-24T08:39:35.222Z"
   },
   {
    "duration": 52,
    "start_time": "2023-10-24T08:39:35.278Z"
   },
   {
    "duration": 229,
    "start_time": "2023-10-24T08:39:35.332Z"
   },
   {
    "duration": 180,
    "start_time": "2023-10-24T08:39:35.563Z"
   },
   {
    "duration": 14,
    "start_time": "2023-10-24T08:39:35.744Z"
   },
   {
    "duration": 35,
    "start_time": "2023-10-24T08:39:35.759Z"
   },
   {
    "duration": 38,
    "start_time": "2023-10-24T08:39:35.795Z"
   },
   {
    "duration": 34,
    "start_time": "2023-10-24T08:39:35.835Z"
   },
   {
    "duration": 17,
    "start_time": "2023-10-24T08:39:35.870Z"
   },
   {
    "duration": 45,
    "start_time": "2023-10-24T08:39:35.889Z"
   },
   {
    "duration": 42,
    "start_time": "2023-10-24T08:39:35.936Z"
   },
   {
    "duration": 90,
    "start_time": "2023-10-24T08:39:35.980Z"
   },
   {
    "duration": 14,
    "start_time": "2023-10-24T08:39:36.072Z"
   },
   {
    "duration": 1557,
    "start_time": "2023-10-24T08:39:36.088Z"
   },
   {
    "duration": 19,
    "start_time": "2023-10-24T08:39:37.647Z"
   },
   {
    "duration": 21,
    "start_time": "2023-10-24T08:39:37.667Z"
   },
   {
    "duration": 56,
    "start_time": "2023-10-24T08:39:37.690Z"
   },
   {
    "duration": 20,
    "start_time": "2023-10-24T08:39:37.748Z"
   },
   {
    "duration": 15,
    "start_time": "2023-10-24T08:39:37.769Z"
   },
   {
    "duration": 76,
    "start_time": "2023-10-24T08:39:37.785Z"
   },
   {
    "duration": 15,
    "start_time": "2023-10-24T08:39:37.863Z"
   },
   {
    "duration": 188,
    "start_time": "2023-10-24T08:39:37.879Z"
   },
   {
    "duration": 16,
    "start_time": "2023-10-24T08:39:38.070Z"
   },
   {
    "duration": 48,
    "start_time": "2023-10-24T08:39:38.088Z"
   },
   {
    "duration": 476,
    "start_time": "2023-10-24T08:39:38.138Z"
   },
   {
    "duration": 6805,
    "start_time": "2023-10-24T08:39:38.616Z"
   },
   {
    "duration": 109392,
    "start_time": "2023-10-24T08:39:51.542Z"
   },
   {
    "duration": 2227,
    "start_time": "2023-10-24T08:41:53.125Z"
   },
   {
    "duration": 2260,
    "start_time": "2023-10-24T08:41:55.354Z"
   },
   {
    "duration": 1405,
    "start_time": "2023-10-24T08:41:57.616Z"
   },
   {
    "duration": 3,
    "start_time": "2023-10-24T08:41:59.023Z"
   },
   {
    "duration": 879,
    "start_time": "2023-10-24T08:41:59.028Z"
   },
   {
    "duration": 151,
    "start_time": "2023-10-24T08:41:59.909Z"
   },
   {
    "duration": 158,
    "start_time": "2023-10-24T08:42:00.062Z"
   },
   {
    "duration": 13,
    "start_time": "2023-10-24T08:42:00.222Z"
   },
   {
    "duration": 525,
    "start_time": "2023-10-24T08:42:00.237Z"
   },
   {
    "duration": 1075,
    "start_time": "2023-10-24T08:42:00.764Z"
   },
   {
    "duration": 129,
    "start_time": "2023-10-24T08:42:01.841Z"
   },
   {
    "duration": 77,
    "start_time": "2023-10-24T08:42:01.972Z"
   },
   {
    "duration": 422,
    "start_time": "2023-10-24T08:42:02.050Z"
   },
   {
    "duration": 123,
    "start_time": "2023-10-24T08:42:02.476Z"
   },
   {
    "duration": 83,
    "start_time": "2023-10-24T08:42:02.601Z"
   },
   {
    "duration": 102,
    "start_time": "2023-10-24T08:42:02.687Z"
   },
   {
    "duration": 68,
    "start_time": "2023-10-24T08:42:02.791Z"
   },
   {
    "duration": 145,
    "start_time": "2023-10-24T08:42:02.861Z"
   },
   {
    "duration": 225,
    "start_time": "2023-10-24T08:42:03.008Z"
   },
   {
    "duration": 50,
    "start_time": "2023-10-24T08:42:03.235Z"
   },
   {
    "duration": 377,
    "start_time": "2023-10-24T08:42:03.287Z"
   },
   {
    "duration": 142,
    "start_time": "2023-10-24T08:42:03.666Z"
   },
   {
    "duration": 15,
    "start_time": "2023-10-24T08:42:03.809Z"
   },
   {
    "duration": 200,
    "start_time": "2023-10-24T08:42:03.826Z"
   },
   {
    "duration": 190,
    "start_time": "2023-10-24T08:42:04.028Z"
   },
   {
    "duration": 14,
    "start_time": "2023-10-24T08:42:04.219Z"
   },
   {
    "duration": 224,
    "start_time": "2023-10-24T08:42:04.234Z"
   },
   {
    "duration": 123,
    "start_time": "2023-10-24T08:42:04.459Z"
   },
   {
    "duration": 25,
    "start_time": "2023-10-24T08:42:04.584Z"
   },
   {
    "duration": 13,
    "start_time": "2023-10-24T08:42:04.611Z"
   },
   {
    "duration": 39,
    "start_time": "2023-10-24T08:42:04.625Z"
   },
   {
    "duration": 63,
    "start_time": "2023-10-24T08:42:04.666Z"
   },
   {
    "duration": 223,
    "start_time": "2023-10-24T08:42:04.731Z"
   },
   {
    "duration": 152,
    "start_time": "2023-10-24T08:42:04.955Z"
   },
   {
    "duration": 12,
    "start_time": "2023-10-24T08:42:05.109Z"
   },
   {
    "duration": 34,
    "start_time": "2023-10-24T08:42:05.123Z"
   },
   {
    "duration": 42,
    "start_time": "2023-10-24T08:42:05.159Z"
   },
   {
    "duration": 36,
    "start_time": "2023-10-24T08:42:05.203Z"
   },
   {
    "duration": 50,
    "start_time": "2023-10-24T08:42:05.240Z"
   },
   {
    "duration": 32,
    "start_time": "2023-10-24T08:42:05.292Z"
   },
   {
    "duration": 33,
    "start_time": "2023-10-24T08:42:05.328Z"
   },
   {
    "duration": 84,
    "start_time": "2023-10-24T08:42:05.363Z"
   },
   {
    "duration": 12,
    "start_time": "2023-10-24T08:42:05.449Z"
   },
   {
    "duration": 1369,
    "start_time": "2023-10-24T08:42:05.462Z"
   },
   {
    "duration": 21,
    "start_time": "2023-10-24T08:42:06.833Z"
   },
   {
    "duration": 12,
    "start_time": "2023-10-24T08:42:06.856Z"
   },
   {
    "duration": 48,
    "start_time": "2023-10-24T08:42:06.870Z"
   },
   {
    "duration": 21,
    "start_time": "2023-10-24T08:42:06.920Z"
   },
   {
    "duration": 14,
    "start_time": "2023-10-24T08:42:06.943Z"
   },
   {
    "duration": 81,
    "start_time": "2023-10-24T08:42:06.959Z"
   },
   {
    "duration": 14,
    "start_time": "2023-10-24T08:42:07.042Z"
   },
   {
    "duration": 161,
    "start_time": "2023-10-24T08:42:07.058Z"
   },
   {
    "duration": 25,
    "start_time": "2023-10-24T08:42:07.221Z"
   },
   {
    "duration": 67,
    "start_time": "2023-10-24T08:42:07.248Z"
   },
   {
    "duration": 507,
    "start_time": "2023-10-24T08:42:07.317Z"
   },
   {
    "duration": 332093,
    "start_time": "2023-10-24T08:42:07.826Z"
   },
   {
    "duration": 3878,
    "start_time": "2023-11-13T06:47:05.277Z"
   },
   {
    "duration": 2878,
    "start_time": "2023-11-13T06:47:09.157Z"
   },
   {
    "duration": 1452,
    "start_time": "2023-11-13T06:47:12.037Z"
   },
   {
    "duration": 3,
    "start_time": "2023-11-13T06:47:13.491Z"
   },
   {
    "duration": 1250,
    "start_time": "2023-11-13T06:47:13.496Z"
   },
   {
    "duration": 167,
    "start_time": "2023-11-13T06:47:14.748Z"
   },
   {
    "duration": 120,
    "start_time": "2023-11-13T06:47:14.917Z"
   },
   {
    "duration": 13,
    "start_time": "2023-11-13T06:47:15.039Z"
   },
   {
    "duration": 526,
    "start_time": "2023-11-13T06:47:15.054Z"
   },
   {
    "duration": 1114,
    "start_time": "2023-11-13T06:47:15.583Z"
   },
   {
    "duration": 145,
    "start_time": "2023-11-13T06:47:16.699Z"
   },
   {
    "duration": 24,
    "start_time": "2023-11-13T06:47:16.845Z"
   },
   {
    "duration": 41,
    "start_time": "2023-11-13T06:47:16.871Z"
   },
   {
    "duration": 24,
    "start_time": "2023-11-13T06:47:16.914Z"
   },
   {
    "duration": 24,
    "start_time": "2023-11-13T06:47:16.940Z"
   },
   {
    "duration": 48,
    "start_time": "2023-11-13T06:47:16.965Z"
   },
   {
    "duration": 23,
    "start_time": "2023-11-13T06:47:17.015Z"
   },
   {
    "duration": 144,
    "start_time": "2023-11-13T06:47:17.040Z"
   },
   {
    "duration": 225,
    "start_time": "2023-11-13T06:47:17.186Z"
   },
   {
    "duration": 58,
    "start_time": "2023-11-13T06:47:17.413Z"
   },
   {
    "duration": 691,
    "start_time": "2023-11-13T06:47:17.473Z"
   },
   {
    "duration": 149,
    "start_time": "2023-11-13T06:47:18.166Z"
   },
   {
    "duration": 15,
    "start_time": "2023-11-13T06:47:18.317Z"
   },
   {
    "duration": 481,
    "start_time": "2023-11-13T06:47:18.334Z"
   },
   {
    "duration": 239,
    "start_time": "2023-11-13T06:47:18.817Z"
   },
   {
    "duration": 68,
    "start_time": "2023-11-13T06:47:19.057Z"
   },
   {
    "duration": 501,
    "start_time": "2023-11-13T06:47:19.127Z"
   },
   {
    "duration": 294,
    "start_time": "2023-11-13T06:47:19.632Z"
   },
   {
    "duration": 18,
    "start_time": "2023-11-13T06:47:19.928Z"
   },
   {
    "duration": 67,
    "start_time": "2023-11-13T06:47:19.948Z"
   },
   {
    "duration": 115,
    "start_time": "2023-11-13T06:47:20.018Z"
   },
   {
    "duration": 115,
    "start_time": "2023-11-13T06:47:20.135Z"
   },
   {
    "duration": 343,
    "start_time": "2023-11-13T06:47:20.252Z"
   },
   {
    "duration": 174,
    "start_time": "2023-11-13T06:47:20.597Z"
   },
   {
    "duration": 13,
    "start_time": "2023-11-13T06:47:20.773Z"
   },
   {
    "duration": 141,
    "start_time": "2023-11-13T06:47:20.788Z"
   },
   {
    "duration": 270,
    "start_time": "2023-11-13T06:47:20.931Z"
   },
   {
    "duration": 27,
    "start_time": "2023-11-13T06:47:21.203Z"
   },
   {
    "duration": 23,
    "start_time": "2023-11-13T06:47:21.232Z"
   },
   {
    "duration": 25,
    "start_time": "2023-11-13T06:47:21.257Z"
   },
   {
    "duration": 40,
    "start_time": "2023-11-13T06:47:21.284Z"
   },
   {
    "duration": 18,
    "start_time": "2023-11-13T06:47:21.325Z"
   },
   {
    "duration": 13,
    "start_time": "2023-11-13T06:47:21.345Z"
   },
   {
    "duration": 83,
    "start_time": "2023-11-13T06:47:21.360Z"
   },
   {
    "duration": 11,
    "start_time": "2023-11-13T06:47:21.444Z"
   },
   {
    "duration": 1978,
    "start_time": "2023-11-13T06:47:21.457Z"
   },
   {
    "duration": 19,
    "start_time": "2023-11-13T06:47:23.436Z"
   },
   {
    "duration": 70,
    "start_time": "2023-11-13T06:47:23.457Z"
   },
   {
    "duration": 27,
    "start_time": "2023-11-13T06:47:23.529Z"
   },
   {
    "duration": 62,
    "start_time": "2023-11-13T06:47:23.558Z"
   },
   {
    "duration": 15,
    "start_time": "2023-11-13T06:47:23.622Z"
   },
   {
    "duration": 194,
    "start_time": "2023-11-13T06:47:23.639Z"
   },
   {
    "duration": 4,
    "start_time": "2023-11-13T06:47:23.835Z"
   },
   {
    "duration": 73,
    "start_time": "2023-11-13T06:47:23.841Z"
   },
   {
    "duration": 309,
    "start_time": "2023-11-13T06:47:23.916Z"
   },
   {
    "duration": 18,
    "start_time": "2023-11-13T06:47:24.227Z"
   },
   {
    "duration": 78,
    "start_time": "2023-11-13T06:47:24.247Z"
   },
   {
    "duration": 689,
    "start_time": "2023-11-13T06:47:24.327Z"
   },
   {
    "duration": 387109,
    "start_time": "2023-11-13T06:47:25.019Z"
   },
   {
    "duration": 358,
    "start_time": "2023-11-13T06:55:06.606Z"
   },
   {
    "duration": 4,
    "start_time": "2023-11-13T06:55:15.559Z"
   },
   {
    "duration": 221,
    "start_time": "2023-11-13T06:55:21.274Z"
   },
   {
    "duration": 310,
    "start_time": "2023-11-13T06:56:16.968Z"
   },
   {
    "duration": 233,
    "start_time": "2023-11-13T06:58:35.656Z"
   },
   {
    "duration": 491,
    "start_time": "2023-11-13T07:01:30.303Z"
   },
   {
    "duration": 306,
    "start_time": "2023-11-13T07:03:37.530Z"
   },
   {
    "duration": 185,
    "start_time": "2023-11-13T07:04:33.832Z"
   },
   {
    "duration": 203,
    "start_time": "2023-11-13T07:04:48.284Z"
   },
   {
    "duration": 185,
    "start_time": "2023-11-13T07:05:06.922Z"
   },
   {
    "duration": 188,
    "start_time": "2023-11-13T07:05:16.343Z"
   },
   {
    "duration": 183,
    "start_time": "2023-11-13T07:05:38.013Z"
   },
   {
    "duration": 198,
    "start_time": "2023-11-13T07:05:41.780Z"
   },
   {
    "duration": 287,
    "start_time": "2023-11-13T07:06:41.567Z"
   },
   {
    "duration": 191,
    "start_time": "2023-11-13T07:08:57.618Z"
   },
   {
    "duration": 190,
    "start_time": "2023-11-13T07:09:02.943Z"
   },
   {
    "duration": 189,
    "start_time": "2023-11-13T07:09:56.439Z"
   },
   {
    "duration": 181,
    "start_time": "2023-11-13T07:10:10.659Z"
   },
   {
    "duration": 286,
    "start_time": "2023-11-13T07:12:44.061Z"
   },
   {
    "duration": 4,
    "start_time": "2023-11-13T07:13:17.688Z"
   },
   {
    "duration": 202,
    "start_time": "2023-11-13T07:13:20.275Z"
   },
   {
    "duration": 277,
    "start_time": "2023-11-13T07:14:22.295Z"
   },
   {
    "duration": 273,
    "start_time": "2023-11-13T07:14:45.676Z"
   },
   {
    "duration": 201,
    "start_time": "2023-11-13T07:14:51.488Z"
   },
   {
    "duration": 186,
    "start_time": "2023-11-13T07:14:56.362Z"
   },
   {
    "duration": 298,
    "start_time": "2023-11-13T07:15:01.072Z"
   },
   {
    "duration": 312,
    "start_time": "2023-11-13T07:15:40.099Z"
   },
   {
    "duration": 278,
    "start_time": "2023-11-13T07:16:49.969Z"
   },
   {
    "duration": 175,
    "start_time": "2023-11-13T07:16:53.134Z"
   },
   {
    "duration": 2671,
    "start_time": "2023-11-13T07:19:44.511Z"
   },
   {
    "duration": 2622,
    "start_time": "2023-11-13T07:19:47.185Z"
   },
   {
    "duration": 1553,
    "start_time": "2023-11-13T07:19:49.809Z"
   },
   {
    "duration": 3,
    "start_time": "2023-11-13T07:19:51.365Z"
   },
   {
    "duration": 962,
    "start_time": "2023-11-13T07:19:51.370Z"
   },
   {
    "duration": 162,
    "start_time": "2023-11-13T07:19:52.334Z"
   },
   {
    "duration": 160,
    "start_time": "2023-11-13T07:19:52.497Z"
   },
   {
    "duration": 15,
    "start_time": "2023-11-13T07:19:52.659Z"
   },
   {
    "duration": 529,
    "start_time": "2023-11-13T07:19:52.676Z"
   },
   {
    "duration": 1081,
    "start_time": "2023-11-13T07:19:53.206Z"
   },
   {
    "duration": 143,
    "start_time": "2023-11-13T07:19:54.289Z"
   },
   {
    "duration": 25,
    "start_time": "2023-11-13T07:19:54.434Z"
   },
   {
    "duration": 33,
    "start_time": "2023-11-13T07:19:54.461Z"
   },
   {
    "duration": 33,
    "start_time": "2023-11-13T07:19:54.498Z"
   },
   {
    "duration": 39,
    "start_time": "2023-11-13T07:19:54.533Z"
   },
   {
    "duration": 45,
    "start_time": "2023-11-13T07:19:54.574Z"
   },
   {
    "duration": 28,
    "start_time": "2023-11-13T07:19:54.621Z"
   },
   {
    "duration": 138,
    "start_time": "2023-11-13T07:19:54.652Z"
   },
   {
    "duration": 233,
    "start_time": "2023-11-13T07:19:54.792Z"
   },
   {
    "duration": 45,
    "start_time": "2023-11-13T07:19:55.027Z"
   },
   {
    "duration": 324,
    "start_time": "2023-11-13T07:19:55.074Z"
   },
   {
    "duration": 188,
    "start_time": "2023-11-13T07:19:55.400Z"
   },
   {
    "duration": 32,
    "start_time": "2023-11-13T07:19:55.590Z"
   },
   {
    "duration": 273,
    "start_time": "2023-11-13T07:19:55.627Z"
   },
   {
    "duration": 265,
    "start_time": "2023-11-13T07:19:55.902Z"
   },
   {
    "duration": 15,
    "start_time": "2023-11-13T07:19:56.168Z"
   },
   {
    "duration": 310,
    "start_time": "2023-11-13T07:19:56.185Z"
   },
   {
    "duration": 206,
    "start_time": "2023-11-13T07:19:56.496Z"
   },
   {
    "duration": 20,
    "start_time": "2023-11-13T07:19:56.703Z"
   },
   {
    "duration": 13,
    "start_time": "2023-11-13T07:19:56.724Z"
   },
   {
    "duration": 45,
    "start_time": "2023-11-13T07:19:56.738Z"
   },
   {
    "duration": 66,
    "start_time": "2023-11-13T07:19:56.784Z"
   },
   {
    "duration": 342,
    "start_time": "2023-11-13T07:19:56.852Z"
   },
   {
    "duration": 333,
    "start_time": "2023-11-13T07:19:57.195Z"
   },
   {
    "duration": 12,
    "start_time": "2023-11-13T07:19:57.530Z"
   },
   {
    "duration": 182,
    "start_time": "2023-11-13T07:19:57.544Z"
   },
   {
    "duration": 295,
    "start_time": "2023-11-13T07:19:57.728Z"
   },
   {
    "duration": 15,
    "start_time": "2023-11-13T07:19:58.025Z"
   },
   {
    "duration": 16,
    "start_time": "2023-11-13T07:19:58.041Z"
   },
   {
    "duration": 19,
    "start_time": "2023-11-13T07:19:58.059Z"
   },
   {
    "duration": 16,
    "start_time": "2023-11-13T07:19:58.082Z"
   },
   {
    "duration": 17,
    "start_time": "2023-11-13T07:19:58.112Z"
   },
   {
    "duration": 24,
    "start_time": "2023-11-13T07:19:58.131Z"
   },
   {
    "duration": 62,
    "start_time": "2023-11-13T07:19:58.157Z"
   },
   {
    "duration": 10,
    "start_time": "2023-11-13T07:19:58.220Z"
   },
   {
    "duration": 1223,
    "start_time": "2023-11-13T07:19:58.232Z"
   },
   {
    "duration": 18,
    "start_time": "2023-11-13T07:19:59.457Z"
   },
   {
    "duration": 13,
    "start_time": "2023-11-13T07:19:59.476Z"
   },
   {
    "duration": 23,
    "start_time": "2023-11-13T07:19:59.491Z"
   },
   {
    "duration": 18,
    "start_time": "2023-11-13T07:19:59.516Z"
   },
   {
    "duration": 4,
    "start_time": "2023-11-13T07:19:59.536Z"
   },
   {
    "duration": 65,
    "start_time": "2023-11-13T07:19:59.542Z"
   },
   {
    "duration": 3,
    "start_time": "2023-11-13T07:19:59.610Z"
   },
   {
    "duration": 18,
    "start_time": "2023-11-13T07:19:59.615Z"
   },
   {
    "duration": 213,
    "start_time": "2023-11-13T07:19:59.635Z"
   },
   {
    "duration": 17,
    "start_time": "2023-11-13T07:19:59.850Z"
   },
   {
    "duration": 49,
    "start_time": "2023-11-13T07:19:59.869Z"
   },
   {
    "duration": 396,
    "start_time": "2023-11-13T07:19:59.919Z"
   },
   {
    "duration": 72486,
    "start_time": "2023-11-13T07:20:00.317Z"
   },
   {
    "duration": 26,
    "start_time": "2023-11-13T07:38:22.715Z"
   },
   {
    "duration": 18,
    "start_time": "2023-11-13T07:38:27.100Z"
   },
   {
    "duration": 13,
    "start_time": "2023-11-13T07:39:01.158Z"
   },
   {
    "duration": 53,
    "start_time": "2023-11-13T07:39:04.532Z"
   },
   {
    "duration": 12,
    "start_time": "2023-11-13T07:39:06.271Z"
   },
   {
    "duration": 7,
    "start_time": "2023-11-13T07:40:26.357Z"
   },
   {
    "duration": 3001,
    "start_time": "2023-11-13T07:41:34.484Z"
   },
   {
    "duration": 3001,
    "start_time": "2023-11-13T07:41:37.488Z"
   },
   {
    "duration": 1639,
    "start_time": "2023-11-13T07:41:40.490Z"
   },
   {
    "duration": 5,
    "start_time": "2023-11-13T07:41:42.131Z"
   },
   {
    "duration": 1057,
    "start_time": "2023-11-13T07:41:42.139Z"
   },
   {
    "duration": 204,
    "start_time": "2023-11-13T07:41:43.197Z"
   },
   {
    "duration": 123,
    "start_time": "2023-11-13T07:41:43.403Z"
   },
   {
    "duration": 23,
    "start_time": "2023-11-13T07:41:43.528Z"
   },
   {
    "duration": 629,
    "start_time": "2023-11-13T07:41:43.553Z"
   },
   {
    "duration": 1306,
    "start_time": "2023-11-13T07:41:44.184Z"
   },
   {
    "duration": 172,
    "start_time": "2023-11-13T07:41:45.491Z"
   },
   {
    "duration": 23,
    "start_time": "2023-11-13T07:41:45.664Z"
   },
   {
    "duration": 47,
    "start_time": "2023-11-13T07:41:45.689Z"
   },
   {
    "duration": 26,
    "start_time": "2023-11-13T07:41:45.740Z"
   },
   {
    "duration": 23,
    "start_time": "2023-11-13T07:41:45.768Z"
   },
   {
    "duration": 60,
    "start_time": "2023-11-13T07:41:45.794Z"
   },
   {
    "duration": 29,
    "start_time": "2023-11-13T07:41:45.856Z"
   },
   {
    "duration": 139,
    "start_time": "2023-11-13T07:41:45.887Z"
   },
   {
    "duration": 256,
    "start_time": "2023-11-13T07:41:46.028Z"
   },
   {
    "duration": 63,
    "start_time": "2023-11-13T07:41:46.285Z"
   },
   {
    "duration": 368,
    "start_time": "2023-11-13T07:41:46.350Z"
   },
   {
    "duration": 190,
    "start_time": "2023-11-13T07:41:46.726Z"
   },
   {
    "duration": 20,
    "start_time": "2023-11-13T07:41:46.917Z"
   },
   {
    "duration": 29,
    "start_time": "2023-11-13T07:43:34.612Z"
   },
   {
    "duration": 8,
    "start_time": "2023-11-13T07:43:37.180Z"
   },
   {
    "duration": 14,
    "start_time": "2023-11-13T07:43:39.547Z"
   },
   {
    "duration": 14,
    "start_time": "2023-11-13T07:43:46.428Z"
   },
   {
    "duration": 2961,
    "start_time": "2023-11-13T07:44:15.238Z"
   },
   {
    "duration": 2811,
    "start_time": "2023-11-13T07:44:18.202Z"
   },
   {
    "duration": 1675,
    "start_time": "2023-11-13T07:44:21.016Z"
   },
   {
    "duration": 3,
    "start_time": "2023-11-13T07:44:22.693Z"
   },
   {
    "duration": 1074,
    "start_time": "2023-11-13T07:44:22.698Z"
   },
   {
    "duration": 194,
    "start_time": "2023-11-13T07:44:23.774Z"
   },
   {
    "duration": 120,
    "start_time": "2023-11-13T07:44:23.970Z"
   },
   {
    "duration": 12,
    "start_time": "2023-11-13T07:44:24.092Z"
   },
   {
    "duration": 568,
    "start_time": "2023-11-13T07:44:24.115Z"
   },
   {
    "duration": 1219,
    "start_time": "2023-11-13T07:44:24.686Z"
   },
   {
    "duration": 161,
    "start_time": "2023-11-13T07:44:25.907Z"
   },
   {
    "duration": 24,
    "start_time": "2023-11-13T07:44:26.069Z"
   },
   {
    "duration": 52,
    "start_time": "2023-11-13T07:44:26.094Z"
   },
   {
    "duration": 27,
    "start_time": "2023-11-13T07:44:26.147Z"
   },
   {
    "duration": 48,
    "start_time": "2023-11-13T07:44:26.175Z"
   },
   {
    "duration": 45,
    "start_time": "2023-11-13T07:44:26.226Z"
   },
   {
    "duration": 58,
    "start_time": "2023-11-13T07:44:26.273Z"
   },
   {
    "duration": 136,
    "start_time": "2023-11-13T07:44:26.333Z"
   },
   {
    "duration": 311,
    "start_time": "2023-11-13T07:44:26.471Z"
   },
   {
    "duration": 69,
    "start_time": "2023-11-13T07:44:26.784Z"
   },
   {
    "duration": 409,
    "start_time": "2023-11-13T07:44:26.855Z"
   },
   {
    "duration": 216,
    "start_time": "2023-11-13T07:44:27.266Z"
   },
   {
    "duration": 14,
    "start_time": "2023-11-13T07:44:27.484Z"
   },
   {
    "duration": 24,
    "start_time": "2023-11-13T07:44:27.516Z"
   },
   {
    "duration": 10,
    "start_time": "2023-11-13T07:44:27.542Z"
   },
   {
    "duration": 11,
    "start_time": "2023-11-13T07:44:34.532Z"
   },
   {
    "duration": 21,
    "start_time": "2023-11-13T07:44:53.853Z"
   },
   {
    "duration": 25,
    "start_time": "2023-11-13T07:44:56.924Z"
   },
   {
    "duration": 2844,
    "start_time": "2023-11-13T07:45:22.746Z"
   },
   {
    "duration": 2935,
    "start_time": "2023-11-13T07:45:25.594Z"
   },
   {
    "duration": 1718,
    "start_time": "2023-11-13T07:45:28.531Z"
   },
   {
    "duration": 3,
    "start_time": "2023-11-13T07:45:30.252Z"
   },
   {
    "duration": 1118,
    "start_time": "2023-11-13T07:45:30.258Z"
   },
   {
    "duration": 191,
    "start_time": "2023-11-13T07:45:31.379Z"
   },
   {
    "duration": 179,
    "start_time": "2023-11-13T07:45:31.573Z"
   },
   {
    "duration": 14,
    "start_time": "2023-11-13T07:45:31.754Z"
   },
   {
    "duration": 619,
    "start_time": "2023-11-13T07:45:31.770Z"
   },
   {
    "duration": 1220,
    "start_time": "2023-11-13T07:45:32.391Z"
   },
   {
    "duration": 163,
    "start_time": "2023-11-13T07:45:33.613Z"
   },
   {
    "duration": 23,
    "start_time": "2023-11-13T07:45:33.778Z"
   },
   {
    "duration": 38,
    "start_time": "2023-11-13T07:45:33.811Z"
   },
   {
    "duration": 25,
    "start_time": "2023-11-13T07:45:33.852Z"
   },
   {
    "duration": 65,
    "start_time": "2023-11-13T07:45:33.880Z"
   },
   {
    "duration": 29,
    "start_time": "2023-11-13T07:45:33.947Z"
   },
   {
    "duration": 37,
    "start_time": "2023-11-13T07:45:33.978Z"
   },
   {
    "duration": 124,
    "start_time": "2023-11-13T07:45:34.022Z"
   },
   {
    "duration": 276,
    "start_time": "2023-11-13T07:45:34.148Z"
   },
   {
    "duration": 53,
    "start_time": "2023-11-13T07:45:34.426Z"
   },
   {
    "duration": 362,
    "start_time": "2023-11-13T07:45:34.481Z"
   },
   {
    "duration": 221,
    "start_time": "2023-11-13T07:45:34.845Z"
   },
   {
    "duration": 16,
    "start_time": "2023-11-13T07:45:35.068Z"
   },
   {
    "duration": 44,
    "start_time": "2023-11-13T07:45:35.086Z"
   },
   {
    "duration": 27,
    "start_time": "2023-11-13T07:53:17.705Z"
   },
   {
    "duration": 3549,
    "start_time": "2023-11-13T08:46:03.666Z"
   },
   {
    "duration": 2602,
    "start_time": "2023-11-13T08:46:07.217Z"
   },
   {
    "duration": 1679,
    "start_time": "2023-11-13T08:46:09.821Z"
   },
   {
    "duration": 3,
    "start_time": "2023-11-13T08:46:11.502Z"
   },
   {
    "duration": 1248,
    "start_time": "2023-11-13T08:46:11.512Z"
   },
   {
    "duration": 159,
    "start_time": "2023-11-13T08:46:12.762Z"
   },
   {
    "duration": 114,
    "start_time": "2023-11-13T08:46:12.923Z"
   },
   {
    "duration": 14,
    "start_time": "2023-11-13T08:46:13.038Z"
   },
   {
    "duration": 536,
    "start_time": "2023-11-13T08:46:13.053Z"
   },
   {
    "duration": 1130,
    "start_time": "2023-11-13T08:46:13.592Z"
   },
   {
    "duration": 126,
    "start_time": "2023-11-13T08:54:26.250Z"
   },
   {
    "duration": 358,
    "start_time": "2023-11-13T08:54:39.012Z"
   },
   {
    "duration": 5,
    "start_time": "2023-11-13T08:54:55.165Z"
   },
   {
    "duration": 330,
    "start_time": "2023-11-13T08:55:01.482Z"
   },
   {
    "duration": 10,
    "start_time": "2023-11-13T08:55:18.277Z"
   },
   {
    "duration": 5,
    "start_time": "2023-11-13T08:55:25.025Z"
   },
   {
    "duration": 10,
    "start_time": "2023-11-13T08:55:33.862Z"
   },
   {
    "duration": 5,
    "start_time": "2023-11-13T08:55:57.463Z"
   },
   {
    "duration": 6,
    "start_time": "2023-11-13T08:56:10.048Z"
   },
   {
    "duration": 4,
    "start_time": "2023-11-13T08:56:26.707Z"
   },
   {
    "duration": 6,
    "start_time": "2023-11-13T08:56:31.232Z"
   },
   {
    "duration": 6,
    "start_time": "2023-11-13T08:56:39.735Z"
   },
   {
    "duration": 8,
    "start_time": "2023-11-13T08:56:54.979Z"
   },
   {
    "duration": 7,
    "start_time": "2023-11-13T08:57:21.869Z"
   },
   {
    "duration": 7,
    "start_time": "2023-11-13T08:58:01.232Z"
   },
   {
    "duration": 3656,
    "start_time": "2023-11-25T08:45:09.248Z"
   },
   {
    "duration": 2214,
    "start_time": "2023-11-25T08:45:12.906Z"
   },
   {
    "duration": 1670,
    "start_time": "2023-11-25T08:45:15.121Z"
   },
   {
    "duration": 2,
    "start_time": "2023-11-25T08:45:16.793Z"
   },
   {
    "duration": 1000,
    "start_time": "2023-11-25T08:45:16.797Z"
   },
   {
    "duration": 137,
    "start_time": "2023-11-25T08:45:17.798Z"
   },
   {
    "duration": 97,
    "start_time": "2023-11-25T08:45:17.937Z"
   },
   {
    "duration": 12,
    "start_time": "2023-11-25T08:45:18.036Z"
   },
   {
    "duration": 409,
    "start_time": "2023-11-25T08:45:18.049Z"
   },
   {
    "duration": 851,
    "start_time": "2023-11-25T08:45:18.459Z"
   },
   {
    "duration": 257,
    "start_time": "2023-11-25T08:45:19.312Z"
   },
   {
    "duration": 11,
    "start_time": "2023-11-25T08:45:19.571Z"
   },
   {
    "duration": 112,
    "start_time": "2023-11-25T08:45:19.583Z"
   },
   {
    "duration": 21,
    "start_time": "2023-11-25T08:45:19.697Z"
   },
   {
    "duration": 21,
    "start_time": "2023-11-25T08:45:19.719Z"
   },
   {
    "duration": 22,
    "start_time": "2023-11-25T08:45:19.741Z"
   },
   {
    "duration": 20,
    "start_time": "2023-11-25T08:45:19.782Z"
   },
   {
    "duration": 22,
    "start_time": "2023-11-25T08:45:19.803Z"
   },
   {
    "duration": 23,
    "start_time": "2023-11-25T08:45:19.826Z"
   },
   {
    "duration": 107,
    "start_time": "2023-11-25T08:45:19.850Z"
   },
   {
    "duration": 190,
    "start_time": "2023-11-25T08:45:19.958Z"
   },
   {
    "duration": 45,
    "start_time": "2023-11-25T08:45:20.149Z"
   },
   {
    "duration": 276,
    "start_time": "2023-11-25T08:45:20.196Z"
   },
   {
    "duration": 169,
    "start_time": "2023-11-25T08:45:20.474Z"
   },
   {
    "duration": 14,
    "start_time": "2023-11-25T08:45:20.645Z"
   },
   {
    "duration": 26,
    "start_time": "2023-11-25T08:45:20.660Z"
   },
   {
    "duration": 12,
    "start_time": "2023-11-25T08:45:20.688Z"
   },
   {
    "duration": 311,
    "start_time": "2023-11-25T08:45:20.701Z"
   },
   {
    "duration": 171,
    "start_time": "2023-11-25T08:45:21.013Z"
   },
   {
    "duration": 12,
    "start_time": "2023-11-25T08:45:21.186Z"
   },
   {
    "duration": 271,
    "start_time": "2023-11-25T08:45:21.200Z"
   },
   {
    "duration": 169,
    "start_time": "2023-11-25T08:45:21.473Z"
   },
   {
    "duration": 13,
    "start_time": "2023-11-25T08:45:21.643Z"
   },
   {
    "duration": 30,
    "start_time": "2023-11-25T08:45:21.658Z"
   },
   {
    "duration": 22,
    "start_time": "2023-11-25T08:45:21.690Z"
   },
   {
    "duration": 39,
    "start_time": "2023-11-25T08:45:21.714Z"
   },
   {
    "duration": 305,
    "start_time": "2023-11-25T08:45:21.755Z"
   },
   {
    "duration": 195,
    "start_time": "2023-11-25T08:45:22.062Z"
   },
   {
    "duration": 10,
    "start_time": "2023-11-25T08:45:22.259Z"
   },
   {
    "duration": 85,
    "start_time": "2023-11-25T08:45:22.270Z"
   },
   {
    "duration": 191,
    "start_time": "2023-11-25T08:45:22.359Z"
   },
   {
    "duration": 13,
    "start_time": "2023-11-25T08:45:22.552Z"
   },
   {
    "duration": 22,
    "start_time": "2023-11-25T08:45:22.567Z"
   },
   {
    "duration": 27,
    "start_time": "2023-11-25T08:45:22.590Z"
   },
   {
    "duration": 43,
    "start_time": "2023-11-25T08:45:22.619Z"
   },
   {
    "duration": 12,
    "start_time": "2023-11-25T08:45:22.663Z"
   },
   {
    "duration": 9,
    "start_time": "2023-11-25T08:45:22.677Z"
   },
   {
    "duration": 42,
    "start_time": "2023-11-25T08:45:22.688Z"
   },
   {
    "duration": 9,
    "start_time": "2023-11-25T08:45:22.731Z"
   },
   {
    "duration": 696,
    "start_time": "2023-11-25T08:45:22.741Z"
   },
   {
    "duration": 14,
    "start_time": "2023-11-25T08:45:23.438Z"
   },
   {
    "duration": 29,
    "start_time": "2023-11-25T08:45:23.454Z"
   },
   {
    "duration": 17,
    "start_time": "2023-11-25T08:45:23.484Z"
   },
   {
    "duration": 14,
    "start_time": "2023-11-25T08:45:23.502Z"
   },
   {
    "duration": 9,
    "start_time": "2023-11-25T08:45:23.518Z"
   },
   {
    "duration": 82,
    "start_time": "2023-11-25T08:45:23.529Z"
   },
   {
    "duration": 2,
    "start_time": "2023-11-25T08:45:23.613Z"
   },
   {
    "duration": 14,
    "start_time": "2023-11-25T08:45:23.616Z"
   },
   {
    "duration": 104,
    "start_time": "2023-11-25T08:45:23.632Z"
   },
   {
    "duration": 14,
    "start_time": "2023-11-25T08:45:23.738Z"
   },
   {
    "duration": 29,
    "start_time": "2023-11-25T08:45:23.753Z"
   },
   {
    "duration": 399,
    "start_time": "2023-11-25T08:45:23.783Z"
   },
   {
    "duration": 5314,
    "start_time": "2023-11-25T08:45:24.184Z"
   },
   {
    "duration": 2289,
    "start_time": "2023-11-25T12:08:18.615Z"
   },
   {
    "duration": 2197,
    "start_time": "2023-11-25T12:08:20.906Z"
   },
   {
    "duration": 1376,
    "start_time": "2023-11-25T12:08:23.106Z"
   },
   {
    "duration": 3,
    "start_time": "2023-11-25T12:08:24.483Z"
   },
   {
    "duration": 825,
    "start_time": "2023-11-25T12:08:24.489Z"
   },
   {
    "duration": 134,
    "start_time": "2023-11-25T12:08:25.315Z"
   },
   {
    "duration": 134,
    "start_time": "2023-11-25T12:08:25.450Z"
   },
   {
    "duration": 12,
    "start_time": "2023-11-25T12:08:25.585Z"
   },
   {
    "duration": 431,
    "start_time": "2023-11-25T12:08:25.599Z"
   },
   {
    "duration": 920,
    "start_time": "2023-11-25T12:08:26.031Z"
   },
   {
    "duration": 278,
    "start_time": "2023-11-25T12:08:26.953Z"
   },
   {
    "duration": 8,
    "start_time": "2023-11-25T12:08:32.478Z"
   },
   {
    "duration": 100,
    "start_time": "2023-11-25T12:09:52.074Z"
   },
   {
    "duration": 248,
    "start_time": "2023-11-25T12:09:56.676Z"
   },
   {
    "duration": 57,
    "start_time": "2023-11-25T12:17:30.475Z"
   },
   {
    "duration": 6,
    "start_time": "2023-11-25T12:17:35.159Z"
   },
   {
    "duration": 120,
    "start_time": "2023-11-25T12:17:58.812Z"
   },
   {
    "duration": 9,
    "start_time": "2023-11-25T12:18:31.133Z"
   },
   {
    "duration": 9,
    "start_time": "2023-11-25T12:18:36.740Z"
   },
   {
    "duration": 8,
    "start_time": "2023-11-25T12:18:42.237Z"
   },
   {
    "duration": 4,
    "start_time": "2023-11-25T12:18:46.026Z"
   },
   {
    "duration": 3,
    "start_time": "2023-11-25T12:20:27.409Z"
   },
   {
    "duration": 4,
    "start_time": "2023-11-25T12:20:31.712Z"
   },
   {
    "duration": 6,
    "start_time": "2023-11-25T12:21:16.727Z"
   },
   {
    "duration": 8,
    "start_time": "2023-11-25T12:21:25.464Z"
   },
   {
    "duration": 86,
    "start_time": "2023-11-25T12:21:33.407Z"
   },
   {
    "duration": 5,
    "start_time": "2023-11-25T12:21:51.290Z"
   },
   {
    "duration": 2297,
    "start_time": "2023-11-25T12:22:15.430Z"
   },
   {
    "duration": 2190,
    "start_time": "2023-11-25T12:22:17.729Z"
   },
   {
    "duration": 1326,
    "start_time": "2023-11-25T12:22:19.921Z"
   },
   {
    "duration": 3,
    "start_time": "2023-11-25T12:22:21.248Z"
   },
   {
    "duration": 791,
    "start_time": "2023-11-25T12:22:21.254Z"
   },
   {
    "duration": 137,
    "start_time": "2023-11-25T12:22:22.047Z"
   },
   {
    "duration": 79,
    "start_time": "2023-11-25T12:22:22.186Z"
   },
   {
    "duration": 22,
    "start_time": "2023-11-25T12:22:22.267Z"
   },
   {
    "duration": 435,
    "start_time": "2023-11-25T12:22:22.290Z"
   },
   {
    "duration": 912,
    "start_time": "2023-11-25T12:22:22.726Z"
   },
   {
    "duration": 265,
    "start_time": "2023-11-25T12:22:23.640Z"
   },
   {
    "duration": 5,
    "start_time": "2023-11-25T12:22:27.020Z"
   },
   {
    "duration": 4,
    "start_time": "2023-11-25T12:22:31.502Z"
   },
   {
    "duration": 5,
    "start_time": "2023-11-25T12:22:36.165Z"
   },
   {
    "duration": 5,
    "start_time": "2023-11-25T12:22:43.864Z"
   },
   {
    "duration": 108,
    "start_time": "2023-11-25T12:25:01.199Z"
   },
   {
    "duration": 9,
    "start_time": "2023-11-25T12:25:11.790Z"
   },
   {
    "duration": 31,
    "start_time": "2023-11-25T12:25:43.733Z"
   },
   {
    "duration": 1768,
    "start_time": "2023-11-25T12:25:49.583Z"
   },
   {
    "duration": 37,
    "start_time": "2023-11-25T12:26:02.739Z"
   },
   {
    "duration": 14,
    "start_time": "2023-11-25T12:27:19.393Z"
   },
   {
    "duration": 9,
    "start_time": "2023-11-25T12:43:03.585Z"
   },
   {
    "duration": 1030,
    "start_time": "2023-11-25T12:43:08.910Z"
   },
   {
    "duration": 110,
    "start_time": "2023-11-25T12:43:47.160Z"
   },
   {
    "duration": 40,
    "start_time": "2023-11-25T12:44:18.375Z"
   },
   {
    "duration": 51,
    "start_time": "2023-11-25T12:46:18.208Z"
   },
   {
    "duration": 47,
    "start_time": "2023-11-25T12:47:59.990Z"
   },
   {
    "duration": 75,
    "start_time": "2023-11-25T12:48:04.917Z"
   },
   {
    "duration": 13,
    "start_time": "2023-11-25T12:48:14.658Z"
   },
   {
    "duration": 2270,
    "start_time": "2023-11-25T12:48:32.101Z"
   },
   {
    "duration": 2257,
    "start_time": "2023-11-25T12:48:34.373Z"
   },
   {
    "duration": 1416,
    "start_time": "2023-11-25T12:48:36.633Z"
   },
   {
    "duration": 3,
    "start_time": "2023-11-25T12:48:38.051Z"
   },
   {
    "duration": 819,
    "start_time": "2023-11-25T12:48:38.056Z"
   },
   {
    "duration": 140,
    "start_time": "2023-11-25T12:48:38.877Z"
   },
   {
    "duration": 100,
    "start_time": "2023-11-25T12:48:39.019Z"
   },
   {
    "duration": 13,
    "start_time": "2023-11-25T12:48:39.120Z"
   },
   {
    "duration": 453,
    "start_time": "2023-11-25T12:48:39.134Z"
   },
   {
    "duration": 880,
    "start_time": "2023-11-25T12:48:39.588Z"
   },
   {
    "duration": 271,
    "start_time": "2023-11-25T12:48:40.470Z"
   },
   {
    "duration": 5,
    "start_time": "2023-11-25T12:48:40.743Z"
   },
   {
    "duration": 33,
    "start_time": "2023-11-25T12:48:40.749Z"
   },
   {
    "duration": 93,
    "start_time": "2023-11-25T12:48:46.266Z"
   },
   {
    "duration": 5,
    "start_time": "2023-11-25T12:49:43.224Z"
   },
   {
    "duration": 2314,
    "start_time": "2023-11-25T12:49:58.288Z"
   },
   {
    "duration": 2314,
    "start_time": "2023-11-25T12:50:00.604Z"
   },
   {
    "duration": 1473,
    "start_time": "2023-11-25T12:50:02.920Z"
   },
   {
    "duration": 3,
    "start_time": "2023-11-25T12:50:04.394Z"
   },
   {
    "duration": 792,
    "start_time": "2023-11-25T12:50:04.399Z"
   },
   {
    "duration": 141,
    "start_time": "2023-11-25T12:50:05.193Z"
   },
   {
    "duration": 93,
    "start_time": "2023-11-25T12:50:05.335Z"
   },
   {
    "duration": 12,
    "start_time": "2023-11-25T12:50:05.430Z"
   },
   {
    "duration": 461,
    "start_time": "2023-11-25T12:50:05.444Z"
   },
   {
    "duration": 1030,
    "start_time": "2023-11-25T12:50:05.908Z"
   },
   {
    "duration": 5,
    "start_time": "2023-11-25T12:50:17.169Z"
   },
   {
    "duration": 5,
    "start_time": "2023-11-25T12:51:24.326Z"
   },
   {
    "duration": 6,
    "start_time": "2023-11-25T12:51:58.171Z"
   },
   {
    "duration": 5,
    "start_time": "2023-11-25T12:53:25.206Z"
   },
   {
    "duration": 17,
    "start_time": "2023-11-25T12:53:27.085Z"
   },
   {
    "duration": 137,
    "start_time": "2023-11-25T12:53:29.010Z"
   },
   {
    "duration": 1088,
    "start_time": "2023-11-25T12:58:56.994Z"
   },
   {
    "duration": 101,
    "start_time": "2023-11-25T12:59:05.861Z"
   },
   {
    "duration": 8,
    "start_time": "2023-11-25T12:59:14.683Z"
   },
   {
    "duration": 154,
    "start_time": "2023-11-25T12:59:37.528Z"
   },
   {
    "duration": 8,
    "start_time": "2023-11-25T12:59:54.186Z"
   },
   {
    "duration": 110,
    "start_time": "2023-11-25T13:02:27.747Z"
   },
   {
    "duration": 3,
    "start_time": "2023-11-25T13:04:13.632Z"
   },
   {
    "duration": 17,
    "start_time": "2023-11-25T13:05:05.480Z"
   },
   {
    "duration": 756,
    "start_time": "2023-11-25T13:05:50.971Z"
   },
   {
    "duration": 6,
    "start_time": "2023-11-25T13:06:06.167Z"
   },
   {
    "duration": 10,
    "start_time": "2023-11-25T13:07:57.693Z"
   },
   {
    "duration": 719,
    "start_time": "2023-11-25T13:08:13.274Z"
   },
   {
    "duration": 6,
    "start_time": "2023-11-25T13:09:19.156Z"
   },
   {
    "duration": 5,
    "start_time": "2023-11-25T13:11:51.214Z"
   },
   {
    "duration": 6,
    "start_time": "2023-11-25T13:12:00.026Z"
   },
   {
    "duration": 8,
    "start_time": "2023-11-25T13:12:03.857Z"
   },
   {
    "duration": 13,
    "start_time": "2023-11-25T13:12:11.535Z"
   },
   {
    "duration": 13,
    "start_time": "2023-11-25T13:13:31.335Z"
   },
   {
    "duration": 17,
    "start_time": "2023-11-25T13:15:17.632Z"
   },
   {
    "duration": 4,
    "start_time": "2023-11-25T13:16:27.730Z"
   },
   {
    "duration": 8,
    "start_time": "2023-11-25T13:16:27.736Z"
   },
   {
    "duration": 1458,
    "start_time": "2023-11-25T13:16:27.746Z"
   },
   {
    "duration": 2,
    "start_time": "2023-11-25T13:16:29.206Z"
   },
   {
    "duration": 901,
    "start_time": "2023-11-25T13:16:29.211Z"
   },
   {
    "duration": 164,
    "start_time": "2023-11-25T13:16:30.114Z"
   },
   {
    "duration": 107,
    "start_time": "2023-11-25T13:16:30.282Z"
   },
   {
    "duration": 13,
    "start_time": "2023-11-25T13:16:30.390Z"
   },
   {
    "duration": 499,
    "start_time": "2023-11-25T13:16:30.405Z"
   },
   {
    "duration": 996,
    "start_time": "2023-11-25T13:16:30.905Z"
   },
   {
    "duration": 5,
    "start_time": "2023-11-25T13:16:31.903Z"
   },
   {
    "duration": 74,
    "start_time": "2023-11-25T13:16:38.521Z"
   },
   {
    "duration": 10,
    "start_time": "2023-11-25T13:16:43.795Z"
   },
   {
    "duration": 30,
    "start_time": "2023-11-25T13:16:46.939Z"
   },
   {
    "duration": 31,
    "start_time": "2023-11-25T13:16:57.300Z"
   },
   {
    "duration": 4,
    "start_time": "2023-11-25T13:19:41.650Z"
   },
   {
    "duration": 125,
    "start_time": "2023-11-25T13:19:43.689Z"
   },
   {
    "duration": 4,
    "start_time": "2023-11-25T13:19:45.940Z"
   },
   {
    "duration": 5,
    "start_time": "2023-11-25T13:19:59.431Z"
   },
   {
    "duration": 5,
    "start_time": "2023-11-25T13:22:50.048Z"
   },
   {
    "duration": 6,
    "start_time": "2023-11-25T13:22:55.947Z"
   },
   {
    "duration": 17,
    "start_time": "2023-11-25T13:22:59.529Z"
   },
   {
    "duration": 1177,
    "start_time": "2023-11-25T13:23:08.708Z"
   },
   {
    "duration": 7,
    "start_time": "2023-11-25T13:23:23.893Z"
   },
   {
    "duration": 168,
    "start_time": "2023-11-25T13:25:39.828Z"
   },
   {
    "duration": 13,
    "start_time": "2023-11-25T13:25:50.048Z"
   },
   {
    "duration": 3,
    "start_time": "2023-11-25T13:28:54.017Z"
   },
   {
    "duration": 3,
    "start_time": "2023-11-25T13:28:54.022Z"
   },
   {
    "duration": 1681,
    "start_time": "2023-11-25T13:28:54.026Z"
   },
   {
    "duration": 3,
    "start_time": "2023-11-25T13:28:55.708Z"
   },
   {
    "duration": 849,
    "start_time": "2023-11-25T13:28:55.713Z"
   },
   {
    "duration": 138,
    "start_time": "2023-11-25T13:28:56.564Z"
   },
   {
    "duration": 88,
    "start_time": "2023-11-25T13:28:56.703Z"
   },
   {
    "duration": 12,
    "start_time": "2023-11-25T13:28:56.792Z"
   },
   {
    "duration": 441,
    "start_time": "2023-11-25T13:28:56.806Z"
   },
   {
    "duration": 929,
    "start_time": "2023-11-25T13:28:57.249Z"
   },
   {
    "duration": 5,
    "start_time": "2023-11-25T13:28:58.182Z"
   },
   {
    "duration": 6,
    "start_time": "2023-11-25T13:29:10.531Z"
   },
   {
    "duration": 83,
    "start_time": "2023-11-25T13:29:14.287Z"
   },
   {
    "duration": 6,
    "start_time": "2023-11-25T13:29:16.945Z"
   },
   {
    "duration": 6,
    "start_time": "2023-11-25T13:29:20.874Z"
   },
   {
    "duration": 7,
    "start_time": "2023-11-25T13:29:42.113Z"
   },
   {
    "duration": 3,
    "start_time": "2023-11-25T13:48:28.945Z"
   },
   {
    "duration": 6,
    "start_time": "2023-11-25T13:48:28.951Z"
   },
   {
    "duration": 11,
    "start_time": "2023-11-25T13:48:28.958Z"
   },
   {
    "duration": 5,
    "start_time": "2023-11-25T13:48:28.971Z"
   },
   {
    "duration": 866,
    "start_time": "2023-11-25T13:48:28.979Z"
   },
   {
    "duration": 162,
    "start_time": "2023-11-25T13:48:29.847Z"
   },
   {
    "duration": 104,
    "start_time": "2023-11-25T13:48:30.012Z"
   },
   {
    "duration": 18,
    "start_time": "2023-11-25T13:48:30.118Z"
   },
   {
    "duration": 452,
    "start_time": "2023-11-25T13:48:30.138Z"
   },
   {
    "duration": 919,
    "start_time": "2023-11-25T13:48:30.593Z"
   },
   {
    "duration": 6,
    "start_time": "2023-11-25T13:48:31.513Z"
   },
   {
    "duration": 88,
    "start_time": "2023-11-25T13:48:31.521Z"
   },
   {
    "duration": 9,
    "start_time": "2023-11-25T13:48:31.610Z"
   },
   {
    "duration": 9,
    "start_time": "2023-11-25T13:48:31.621Z"
   },
   {
    "duration": 141,
    "start_time": "2023-11-25T13:48:31.631Z"
   },
   {
    "duration": 4,
    "start_time": "2023-11-25T13:48:31.773Z"
   },
   {
    "duration": 21,
    "start_time": "2023-11-25T13:48:31.778Z"
   },
   {
    "duration": 4,
    "start_time": "2023-11-25T13:49:45.335Z"
   },
   {
    "duration": 5,
    "start_time": "2023-11-25T13:49:45.341Z"
   },
   {
    "duration": 1382,
    "start_time": "2023-11-25T13:49:45.348Z"
   },
   {
    "duration": 5,
    "start_time": "2023-11-25T13:49:46.731Z"
   },
   {
    "duration": 821,
    "start_time": "2023-11-25T13:49:46.739Z"
   },
   {
    "duration": 138,
    "start_time": "2023-11-25T13:49:47.562Z"
   },
   {
    "duration": 100,
    "start_time": "2023-11-25T13:49:47.701Z"
   },
   {
    "duration": 11,
    "start_time": "2023-11-25T13:49:47.803Z"
   },
   {
    "duration": 456,
    "start_time": "2023-11-25T13:49:47.816Z"
   },
   {
    "duration": 923,
    "start_time": "2023-11-25T13:49:48.274Z"
   },
   {
    "duration": 5,
    "start_time": "2023-11-25T13:49:49.199Z"
   },
   {
    "duration": 109,
    "start_time": "2023-11-25T13:49:49.206Z"
   },
   {
    "duration": 9,
    "start_time": "2023-11-25T13:49:49.316Z"
   },
   {
    "duration": 11,
    "start_time": "2023-11-25T13:49:49.331Z"
   },
   {
    "duration": 153,
    "start_time": "2023-11-25T13:49:49.344Z"
   },
   {
    "duration": 7,
    "start_time": "2023-11-25T13:49:49.499Z"
   },
   {
    "duration": 13,
    "start_time": "2023-11-25T13:49:49.508Z"
   },
   {
    "duration": 7,
    "start_time": "2023-11-25T13:49:49.522Z"
   },
   {
    "duration": 17,
    "start_time": "2023-11-25T13:49:49.532Z"
   },
   {
    "duration": 13,
    "start_time": "2023-11-25T13:49:49.550Z"
   },
   {
    "duration": 1134,
    "start_time": "2023-11-25T13:49:49.564Z"
   },
   {
    "duration": 6,
    "start_time": "2023-11-25T13:50:58.150Z"
   },
   {
    "duration": 5,
    "start_time": "2023-11-25T13:55:27.520Z"
   },
   {
    "duration": 119,
    "start_time": "2023-11-25T14:02:13.365Z"
   },
   {
    "duration": 6,
    "start_time": "2023-11-25T14:02:27.054Z"
   },
   {
    "duration": 3,
    "start_time": "2023-11-25T14:02:37.386Z"
   },
   {
    "duration": 5,
    "start_time": "2023-11-25T14:02:37.391Z"
   },
   {
    "duration": 1343,
    "start_time": "2023-11-25T14:02:37.397Z"
   },
   {
    "duration": 3,
    "start_time": "2023-11-25T14:02:38.742Z"
   },
   {
    "duration": 809,
    "start_time": "2023-11-25T14:02:38.746Z"
   },
   {
    "duration": 143,
    "start_time": "2023-11-25T14:02:39.556Z"
   },
   {
    "duration": 138,
    "start_time": "2023-11-25T14:02:39.701Z"
   },
   {
    "duration": 16,
    "start_time": "2023-11-25T14:02:39.840Z"
   },
   {
    "duration": 436,
    "start_time": "2023-11-25T14:02:39.858Z"
   },
   {
    "duration": 933,
    "start_time": "2023-11-25T14:02:40.296Z"
   },
   {
    "duration": 6,
    "start_time": "2023-11-25T14:02:41.231Z"
   },
   {
    "duration": 103,
    "start_time": "2023-11-25T14:02:41.238Z"
   },
   {
    "duration": 8,
    "start_time": "2023-11-25T14:02:41.343Z"
   },
   {
    "duration": 9,
    "start_time": "2023-11-25T14:02:41.353Z"
   },
   {
    "duration": 136,
    "start_time": "2023-11-25T14:02:41.364Z"
   },
   {
    "duration": 4,
    "start_time": "2023-11-25T14:02:41.501Z"
   },
   {
    "duration": 7,
    "start_time": "2023-11-25T14:02:41.506Z"
   },
   {
    "duration": 16,
    "start_time": "2023-11-25T14:02:41.514Z"
   },
   {
    "duration": 16,
    "start_time": "2023-11-25T14:02:41.532Z"
   },
   {
    "duration": 29,
    "start_time": "2023-11-25T14:02:41.550Z"
   },
   {
    "duration": 1074,
    "start_time": "2023-11-25T14:02:41.581Z"
   },
   {
    "duration": 6,
    "start_time": "2023-11-25T14:02:42.657Z"
   },
   {
    "duration": 119,
    "start_time": "2023-11-25T14:02:51.059Z"
   },
   {
    "duration": 5,
    "start_time": "2023-11-25T14:02:57.468Z"
   },
   {
    "duration": 6,
    "start_time": "2023-11-25T14:03:19.000Z"
   },
   {
    "duration": 1247,
    "start_time": "2023-11-25T14:03:21.363Z"
   },
   {
    "duration": 4,
    "start_time": "2023-11-25T14:03:42.862Z"
   },
   {
    "duration": 8,
    "start_time": "2023-11-25T14:03:42.868Z"
   },
   {
    "duration": 1352,
    "start_time": "2023-11-25T14:03:42.878Z"
   },
   {
    "duration": 3,
    "start_time": "2023-11-25T14:03:44.231Z"
   },
   {
    "duration": 792,
    "start_time": "2023-11-25T14:03:44.235Z"
   },
   {
    "duration": 153,
    "start_time": "2023-11-25T14:03:45.029Z"
   },
   {
    "duration": 86,
    "start_time": "2023-11-25T14:03:45.184Z"
   },
   {
    "duration": 20,
    "start_time": "2023-11-25T14:03:45.271Z"
   },
   {
    "duration": 425,
    "start_time": "2023-11-25T14:03:45.292Z"
   },
   {
    "duration": 923,
    "start_time": "2023-11-25T14:03:45.718Z"
   },
   {
    "duration": 5,
    "start_time": "2023-11-25T14:03:50.329Z"
   },
   {
    "duration": 121,
    "start_time": "2023-11-25T14:03:52.564Z"
   },
   {
    "duration": 7,
    "start_time": "2023-11-25T14:03:54.990Z"
   },
   {
    "duration": 8,
    "start_time": "2023-11-25T14:03:56.743Z"
   },
   {
    "duration": 118,
    "start_time": "2023-11-25T14:03:58.625Z"
   },
   {
    "duration": 3,
    "start_time": "2023-11-25T14:03:59.954Z"
   },
   {
    "duration": 6,
    "start_time": "2023-11-25T14:04:01.111Z"
   },
   {
    "duration": 6,
    "start_time": "2023-11-25T14:04:03.115Z"
   },
   {
    "duration": 7,
    "start_time": "2023-11-25T14:04:04.589Z"
   },
   {
    "duration": 16,
    "start_time": "2023-11-25T14:04:05.637Z"
   },
   {
    "duration": 1040,
    "start_time": "2023-11-25T14:04:07.284Z"
   },
   {
    "duration": 6,
    "start_time": "2023-11-25T14:04:09.180Z"
   },
   {
    "duration": 4,
    "start_time": "2023-11-25T14:04:12.626Z"
   },
   {
    "duration": 5,
    "start_time": "2023-11-25T14:04:13.679Z"
   },
   {
    "duration": 111,
    "start_time": "2023-11-25T14:04:53.315Z"
   },
   {
    "duration": 9,
    "start_time": "2023-11-25T14:04:57.058Z"
   },
   {
    "duration": 5,
    "start_time": "2023-11-25T14:05:02.769Z"
   },
   {
    "duration": 1339,
    "start_time": "2023-11-25T14:05:44.358Z"
   },
   {
    "duration": 4,
    "start_time": "2023-11-25T14:06:15.406Z"
   },
   {
    "duration": 15,
    "start_time": "2023-11-25T14:06:15.411Z"
   },
   {
    "duration": 1371,
    "start_time": "2023-11-25T14:06:15.428Z"
   },
   {
    "duration": 2,
    "start_time": "2023-11-25T14:06:16.801Z"
   },
   {
    "duration": 841,
    "start_time": "2023-11-25T14:06:16.805Z"
   },
   {
    "duration": 151,
    "start_time": "2023-11-25T14:06:17.648Z"
   },
   {
    "duration": 104,
    "start_time": "2023-11-25T14:06:17.801Z"
   },
   {
    "duration": 13,
    "start_time": "2023-11-25T14:06:17.906Z"
   },
   {
    "duration": 460,
    "start_time": "2023-11-25T14:06:17.920Z"
   },
   {
    "duration": 893,
    "start_time": "2023-11-25T14:06:18.382Z"
   },
   {
    "duration": 5,
    "start_time": "2023-11-25T14:06:19.281Z"
   },
   {
    "duration": 93,
    "start_time": "2023-11-25T14:06:28.088Z"
   },
   {
    "duration": 5,
    "start_time": "2023-11-25T14:06:43.616Z"
   },
   {
    "duration": 7,
    "start_time": "2023-11-25T14:06:46.832Z"
   },
   {
    "duration": 6,
    "start_time": "2023-11-25T14:06:49.160Z"
   },
   {
    "duration": 11,
    "start_time": "2023-11-25T14:06:52.008Z"
   },
   {
    "duration": 6,
    "start_time": "2023-11-25T14:06:54.805Z"
   },
   {
    "duration": 114,
    "start_time": "2023-11-25T14:07:07.721Z"
   },
   {
    "duration": 9,
    "start_time": "2023-11-25T14:07:11.731Z"
   },
   {
    "duration": 4,
    "start_time": "2023-11-25T14:07:17.361Z"
   },
   {
    "duration": 5,
    "start_time": "2023-11-25T14:07:21.810Z"
   },
   {
    "duration": 9,
    "start_time": "2023-11-25T14:07:31.398Z"
   },
   {
    "duration": 6,
    "start_time": "2023-11-25T14:07:33.022Z"
   },
   {
    "duration": 5,
    "start_time": "2023-11-25T14:07:36.657Z"
   },
   {
    "duration": 6,
    "start_time": "2023-11-25T14:07:38.152Z"
   },
   {
    "duration": 8,
    "start_time": "2023-11-25T14:07:39.672Z"
   },
   {
    "duration": 7,
    "start_time": "2023-11-25T14:07:41.711Z"
   },
   {
    "duration": 16,
    "start_time": "2023-11-25T14:07:44.711Z"
   },
   {
    "duration": 6,
    "start_time": "2023-11-25T14:07:46.502Z"
   },
   {
    "duration": 1093,
    "start_time": "2023-11-25T14:07:48.581Z"
   },
   {
    "duration": 6,
    "start_time": "2023-11-25T14:07:54.450Z"
   },
   {
    "duration": 17,
    "start_time": "2023-11-25T14:08:18.516Z"
   },
   {
    "duration": 6,
    "start_time": "2023-11-25T14:09:03.864Z"
   },
   {
    "duration": 4,
    "start_time": "2023-11-25T14:09:32.200Z"
   },
   {
    "duration": 18,
    "start_time": "2023-11-25T14:09:32.206Z"
   },
   {
    "duration": 1355,
    "start_time": "2023-11-25T14:09:32.225Z"
   },
   {
    "duration": 3,
    "start_time": "2023-11-25T14:09:33.582Z"
   },
   {
    "duration": 842,
    "start_time": "2023-11-25T14:09:33.588Z"
   },
   {
    "duration": 170,
    "start_time": "2023-11-25T14:09:34.431Z"
   },
   {
    "duration": 160,
    "start_time": "2023-11-25T14:09:34.603Z"
   },
   {
    "duration": 20,
    "start_time": "2023-11-25T14:09:34.764Z"
   },
   {
    "duration": 485,
    "start_time": "2023-11-25T14:09:34.786Z"
   },
   {
    "duration": 944,
    "start_time": "2023-11-25T14:09:35.272Z"
   },
   {
    "duration": 5,
    "start_time": "2023-11-25T14:09:36.217Z"
   },
   {
    "duration": 102,
    "start_time": "2023-11-25T14:09:36.223Z"
   },
   {
    "duration": 6,
    "start_time": "2023-11-25T14:09:36.327Z"
   },
   {
    "duration": 13,
    "start_time": "2023-11-25T14:09:36.335Z"
   },
   {
    "duration": 139,
    "start_time": "2023-11-25T14:09:36.349Z"
   },
   {
    "duration": 3,
    "start_time": "2023-11-25T14:09:36.490Z"
   },
   {
    "duration": 7,
    "start_time": "2023-11-25T14:09:36.494Z"
   },
   {
    "duration": 5,
    "start_time": "2023-11-25T14:09:36.502Z"
   },
   {
    "duration": 7,
    "start_time": "2023-11-25T14:09:36.508Z"
   },
   {
    "duration": 13,
    "start_time": "2023-11-25T14:09:36.516Z"
   },
   {
    "duration": 6,
    "start_time": "2023-11-25T14:09:36.530Z"
   },
   {
    "duration": 53,
    "start_time": "2023-11-25T14:09:36.538Z"
   },
   {
    "duration": 5,
    "start_time": "2023-11-25T14:09:45.365Z"
   },
   {
    "duration": 6,
    "start_time": "2023-11-25T14:09:53.045Z"
   },
   {
    "duration": 4,
    "start_time": "2023-11-25T14:10:06.151Z"
   },
   {
    "duration": 5,
    "start_time": "2023-11-25T14:10:07.578Z"
   },
   {
    "duration": 31,
    "start_time": "2023-11-25T14:10:19.704Z"
   },
   {
    "duration": 5,
    "start_time": "2023-11-25T14:13:31.353Z"
   },
   {
    "duration": 1232,
    "start_time": "2023-11-25T14:13:33.895Z"
   },
   {
    "duration": 1450,
    "start_time": "2023-11-25T14:13:52.290Z"
   },
   {
    "duration": 1635,
    "start_time": "2023-11-25T14:13:57.367Z"
   },
   {
    "duration": 1937,
    "start_time": "2023-11-25T14:14:04.660Z"
   },
   {
    "duration": 9,
    "start_time": "2023-11-25T14:14:14.572Z"
   },
   {
    "duration": 4,
    "start_time": "2023-11-25T14:14:18.394Z"
   },
   {
    "duration": 3,
    "start_time": "2023-11-25T14:14:41.490Z"
   },
   {
    "duration": 3721,
    "start_time": "2023-11-25T14:14:43.071Z"
   },
   {
    "duration": 4,
    "start_time": "2023-11-25T14:14:58.531Z"
   },
   {
    "duration": 8,
    "start_time": "2023-11-25T14:15:28.534Z"
   },
   {
    "duration": 27,
    "start_time": "2023-11-25T14:16:09.644Z"
   },
   {
    "duration": 19,
    "start_time": "2023-11-25T14:16:17.941Z"
   },
   {
    "duration": 3,
    "start_time": "2023-11-25T14:24:23.339Z"
   },
   {
    "duration": 17,
    "start_time": "2023-11-25T14:25:07.231Z"
   },
   {
    "duration": 47,
    "start_time": "2023-11-25T14:27:34.079Z"
   },
   {
    "duration": 8,
    "start_time": "2023-11-25T14:27:38.440Z"
   },
   {
    "duration": 100,
    "start_time": "2023-11-25T14:30:26.553Z"
   },
   {
    "duration": 20,
    "start_time": "2023-11-25T14:31:01.949Z"
   },
   {
    "duration": 18,
    "start_time": "2023-11-25T14:31:04.610Z"
   },
   {
    "duration": 21,
    "start_time": "2023-11-25T14:31:05.528Z"
   },
   {
    "duration": 19,
    "start_time": "2023-11-25T14:31:08.004Z"
   },
   {
    "duration": 23,
    "start_time": "2023-11-25T14:31:10.103Z"
   },
   {
    "duration": 21,
    "start_time": "2023-11-25T14:31:11.765Z"
   },
   {
    "duration": 84,
    "start_time": "2023-11-25T14:31:13.405Z"
   },
   {
    "duration": 84,
    "start_time": "2023-11-25T14:43:14.525Z"
   },
   {
    "duration": 84,
    "start_time": "2023-11-25T14:43:32.623Z"
   },
   {
    "duration": 133,
    "start_time": "2023-11-25T14:43:44.009Z"
   },
   {
    "duration": 15,
    "start_time": "2023-11-25T14:43:52.690Z"
   },
   {
    "duration": 175,
    "start_time": "2023-11-25T14:51:25.910Z"
   },
   {
    "duration": 96,
    "start_time": "2023-11-25T14:53:01.261Z"
   },
   {
    "duration": 323,
    "start_time": "2023-11-25T14:53:09.521Z"
   },
   {
    "duration": 175,
    "start_time": "2023-11-25T14:53:13.246Z"
   },
   {
    "duration": 15,
    "start_time": "2023-11-25T14:53:15.376Z"
   },
   {
    "duration": 17,
    "start_time": "2023-11-25T14:53:26.332Z"
   },
   {
    "duration": 13,
    "start_time": "2023-11-25T14:53:27.730Z"
   },
   {
    "duration": 232,
    "start_time": "2023-11-25T14:53:32.052Z"
   },
   {
    "duration": 161,
    "start_time": "2023-11-25T14:53:37.696Z"
   },
   {
    "duration": 16,
    "start_time": "2023-11-25T14:53:43.822Z"
   },
   {
    "duration": 246,
    "start_time": "2023-11-25T14:53:59.749Z"
   },
   {
    "duration": 240,
    "start_time": "2023-11-25T14:54:06.800Z"
   },
   {
    "duration": 14,
    "start_time": "2023-11-25T14:54:09.512Z"
   },
   {
    "duration": 11,
    "start_time": "2023-11-25T14:54:15.677Z"
   },
   {
    "duration": 10,
    "start_time": "2023-11-25T14:54:48.549Z"
   },
   {
    "duration": 11,
    "start_time": "2023-11-25T14:54:57.748Z"
   },
   {
    "duration": 6,
    "start_time": "2023-11-25T14:58:08.021Z"
   },
   {
    "duration": 19,
    "start_time": "2023-11-25T15:02:00.077Z"
   },
   {
    "duration": 11,
    "start_time": "2023-11-25T15:02:23.855Z"
   },
   {
    "duration": 226,
    "start_time": "2023-11-25T15:02:52.263Z"
   },
   {
    "duration": 182,
    "start_time": "2023-11-25T15:02:55.022Z"
   },
   {
    "duration": 10,
    "start_time": "2023-11-25T15:02:59.500Z"
   },
   {
    "duration": 67,
    "start_time": "2023-11-25T15:03:07.013Z"
   },
   {
    "duration": 144,
    "start_time": "2023-11-25T15:03:12.792Z"
   },
   {
    "duration": 80,
    "start_time": "2023-11-25T15:51:35.539Z"
   },
   {
    "duration": 45,
    "start_time": "2023-11-26T10:04:39.538Z"
   },
   {
    "duration": 2,
    "start_time": "2023-11-26T10:04:45.658Z"
   },
   {
    "duration": 3,
    "start_time": "2023-11-26T10:04:45.662Z"
   },
   {
    "duration": 464,
    "start_time": "2023-11-26T10:04:45.667Z"
   },
   {
    "duration": 0,
    "start_time": "2023-11-26T10:04:46.133Z"
   },
   {
    "duration": 0,
    "start_time": "2023-11-26T10:04:46.134Z"
   },
   {
    "duration": 0,
    "start_time": "2023-11-26T10:04:46.135Z"
   },
   {
    "duration": 0,
    "start_time": "2023-11-26T10:04:46.136Z"
   },
   {
    "duration": 0,
    "start_time": "2023-11-26T10:04:46.137Z"
   },
   {
    "duration": 1,
    "start_time": "2023-11-26T10:04:46.137Z"
   },
   {
    "duration": 0,
    "start_time": "2023-11-26T10:04:46.138Z"
   },
   {
    "duration": 0,
    "start_time": "2023-11-26T10:04:46.139Z"
   },
   {
    "duration": 0,
    "start_time": "2023-11-26T10:04:46.140Z"
   },
   {
    "duration": 0,
    "start_time": "2023-11-26T10:04:46.141Z"
   },
   {
    "duration": 0,
    "start_time": "2023-11-26T10:04:46.142Z"
   },
   {
    "duration": 0,
    "start_time": "2023-11-26T10:04:46.143Z"
   },
   {
    "duration": 0,
    "start_time": "2023-11-26T10:04:46.143Z"
   },
   {
    "duration": 0,
    "start_time": "2023-11-26T10:04:46.144Z"
   },
   {
    "duration": 0,
    "start_time": "2023-11-26T10:04:46.145Z"
   },
   {
    "duration": 0,
    "start_time": "2023-11-26T10:04:46.147Z"
   },
   {
    "duration": 0,
    "start_time": "2023-11-26T10:04:46.148Z"
   },
   {
    "duration": 0,
    "start_time": "2023-11-26T10:04:46.148Z"
   },
   {
    "duration": 0,
    "start_time": "2023-11-26T10:04:46.149Z"
   },
   {
    "duration": 0,
    "start_time": "2023-11-26T10:04:46.150Z"
   },
   {
    "duration": 0,
    "start_time": "2023-11-26T10:04:46.151Z"
   },
   {
    "duration": 0,
    "start_time": "2023-11-26T10:04:46.152Z"
   },
   {
    "duration": 0,
    "start_time": "2023-11-26T10:04:46.153Z"
   },
   {
    "duration": 0,
    "start_time": "2023-11-26T10:04:46.154Z"
   },
   {
    "duration": 0,
    "start_time": "2023-11-26T10:04:46.155Z"
   },
   {
    "duration": 0,
    "start_time": "2023-11-26T10:04:46.156Z"
   },
   {
    "duration": 0,
    "start_time": "2023-11-26T10:04:46.157Z"
   },
   {
    "duration": 0,
    "start_time": "2023-11-26T10:04:46.158Z"
   },
   {
    "duration": 0,
    "start_time": "2023-11-26T10:04:46.159Z"
   },
   {
    "duration": 0,
    "start_time": "2023-11-26T10:04:46.160Z"
   },
   {
    "duration": 0,
    "start_time": "2023-11-26T10:04:46.161Z"
   },
   {
    "duration": 0,
    "start_time": "2023-11-26T10:04:46.162Z"
   },
   {
    "duration": 0,
    "start_time": "2023-11-26T10:04:46.163Z"
   },
   {
    "duration": 0,
    "start_time": "2023-11-26T10:04:46.212Z"
   },
   {
    "duration": 0,
    "start_time": "2023-11-26T10:04:46.213Z"
   },
   {
    "duration": 0,
    "start_time": "2023-11-26T10:04:46.216Z"
   },
   {
    "duration": 0,
    "start_time": "2023-11-26T10:04:46.218Z"
   },
   {
    "duration": 0,
    "start_time": "2023-11-26T10:04:46.219Z"
   },
   {
    "duration": 0,
    "start_time": "2023-11-26T10:04:46.220Z"
   },
   {
    "duration": 0,
    "start_time": "2023-11-26T10:04:46.221Z"
   },
   {
    "duration": 0,
    "start_time": "2023-11-26T10:04:46.222Z"
   },
   {
    "duration": 0,
    "start_time": "2023-11-26T10:04:46.223Z"
   },
   {
    "duration": 0,
    "start_time": "2023-11-26T10:04:46.224Z"
   },
   {
    "duration": 0,
    "start_time": "2023-11-26T10:04:46.225Z"
   },
   {
    "duration": 0,
    "start_time": "2023-11-26T10:04:46.226Z"
   },
   {
    "duration": 0,
    "start_time": "2023-11-26T10:04:46.227Z"
   },
   {
    "duration": 0,
    "start_time": "2023-11-26T10:04:46.228Z"
   },
   {
    "duration": 0,
    "start_time": "2023-11-26T10:04:46.229Z"
   },
   {
    "duration": 0,
    "start_time": "2023-11-26T10:04:46.230Z"
   },
   {
    "duration": 0,
    "start_time": "2023-11-26T10:04:46.231Z"
   },
   {
    "duration": 0,
    "start_time": "2023-11-26T10:04:46.231Z"
   },
   {
    "duration": 0,
    "start_time": "2023-11-26T10:04:46.232Z"
   },
   {
    "duration": 0,
    "start_time": "2023-11-26T10:04:46.233Z"
   },
   {
    "duration": 0,
    "start_time": "2023-11-26T10:04:46.234Z"
   },
   {
    "duration": 0,
    "start_time": "2023-11-26T10:04:46.235Z"
   },
   {
    "duration": 0,
    "start_time": "2023-11-26T10:04:46.236Z"
   },
   {
    "duration": 0,
    "start_time": "2023-11-26T10:04:46.237Z"
   },
   {
    "duration": 0,
    "start_time": "2023-11-26T10:04:46.238Z"
   },
   {
    "duration": 0,
    "start_time": "2023-11-26T10:04:46.238Z"
   },
   {
    "duration": 7,
    "start_time": "2023-11-26T10:04:49.996Z"
   },
   {
    "duration": 4,
    "start_time": "2023-11-26T10:05:05.344Z"
   },
   {
    "duration": 17,
    "start_time": "2023-11-26T10:05:05.350Z"
   },
   {
    "duration": 488,
    "start_time": "2023-11-26T10:05:05.368Z"
   },
   {
    "duration": 0,
    "start_time": "2023-11-26T10:05:05.859Z"
   },
   {
    "duration": 0,
    "start_time": "2023-11-26T10:05:05.860Z"
   },
   {
    "duration": 0,
    "start_time": "2023-11-26T10:05:05.861Z"
   },
   {
    "duration": 0,
    "start_time": "2023-11-26T10:05:05.863Z"
   },
   {
    "duration": 0,
    "start_time": "2023-11-26T10:05:05.864Z"
   },
   {
    "duration": 0,
    "start_time": "2023-11-26T10:05:05.865Z"
   },
   {
    "duration": 0,
    "start_time": "2023-11-26T10:05:05.866Z"
   },
   {
    "duration": 0,
    "start_time": "2023-11-26T10:05:05.868Z"
   },
   {
    "duration": 0,
    "start_time": "2023-11-26T10:05:05.869Z"
   },
   {
    "duration": 0,
    "start_time": "2023-11-26T10:05:05.871Z"
   },
   {
    "duration": 0,
    "start_time": "2023-11-26T10:05:05.872Z"
   },
   {
    "duration": 0,
    "start_time": "2023-11-26T10:05:05.873Z"
   },
   {
    "duration": 0,
    "start_time": "2023-11-26T10:05:05.874Z"
   },
   {
    "duration": 0,
    "start_time": "2023-11-26T10:05:05.876Z"
   },
   {
    "duration": 0,
    "start_time": "2023-11-26T10:05:05.877Z"
   },
   {
    "duration": 0,
    "start_time": "2023-11-26T10:05:05.878Z"
   },
   {
    "duration": 0,
    "start_time": "2023-11-26T10:05:05.911Z"
   },
   {
    "duration": 0,
    "start_time": "2023-11-26T10:05:05.913Z"
   },
   {
    "duration": 0,
    "start_time": "2023-11-26T10:05:05.914Z"
   },
   {
    "duration": 0,
    "start_time": "2023-11-26T10:05:05.915Z"
   },
   {
    "duration": 0,
    "start_time": "2023-11-26T10:05:05.916Z"
   },
   {
    "duration": 0,
    "start_time": "2023-11-26T10:05:05.917Z"
   },
   {
    "duration": 0,
    "start_time": "2023-11-26T10:05:05.918Z"
   },
   {
    "duration": 0,
    "start_time": "2023-11-26T10:05:05.919Z"
   },
   {
    "duration": 0,
    "start_time": "2023-11-26T10:05:05.920Z"
   },
   {
    "duration": 0,
    "start_time": "2023-11-26T10:05:05.921Z"
   },
   {
    "duration": 0,
    "start_time": "2023-11-26T10:05:05.922Z"
   },
   {
    "duration": 0,
    "start_time": "2023-11-26T10:05:05.923Z"
   },
   {
    "duration": 0,
    "start_time": "2023-11-26T10:05:05.924Z"
   },
   {
    "duration": 0,
    "start_time": "2023-11-26T10:05:05.924Z"
   },
   {
    "duration": 0,
    "start_time": "2023-11-26T10:05:05.925Z"
   },
   {
    "duration": 0,
    "start_time": "2023-11-26T10:05:05.926Z"
   },
   {
    "duration": 0,
    "start_time": "2023-11-26T10:05:05.927Z"
   },
   {
    "duration": 0,
    "start_time": "2023-11-26T10:05:05.928Z"
   },
   {
    "duration": 0,
    "start_time": "2023-11-26T10:05:05.929Z"
   },
   {
    "duration": 0,
    "start_time": "2023-11-26T10:05:05.930Z"
   },
   {
    "duration": 0,
    "start_time": "2023-11-26T10:05:05.931Z"
   },
   {
    "duration": 0,
    "start_time": "2023-11-26T10:05:05.931Z"
   },
   {
    "duration": 0,
    "start_time": "2023-11-26T10:05:05.932Z"
   },
   {
    "duration": 0,
    "start_time": "2023-11-26T10:05:05.933Z"
   },
   {
    "duration": 0,
    "start_time": "2023-11-26T10:05:05.934Z"
   },
   {
    "duration": 0,
    "start_time": "2023-11-26T10:05:05.935Z"
   },
   {
    "duration": 0,
    "start_time": "2023-11-26T10:05:05.935Z"
   },
   {
    "duration": 0,
    "start_time": "2023-11-26T10:05:05.936Z"
   },
   {
    "duration": 0,
    "start_time": "2023-11-26T10:05:05.937Z"
   },
   {
    "duration": 0,
    "start_time": "2023-11-26T10:05:05.938Z"
   },
   {
    "duration": 0,
    "start_time": "2023-11-26T10:05:05.939Z"
   },
   {
    "duration": 0,
    "start_time": "2023-11-26T10:05:05.940Z"
   },
   {
    "duration": 0,
    "start_time": "2023-11-26T10:05:05.941Z"
   },
   {
    "duration": 0,
    "start_time": "2023-11-26T10:05:05.942Z"
   },
   {
    "duration": 0,
    "start_time": "2023-11-26T10:05:05.942Z"
   },
   {
    "duration": 0,
    "start_time": "2023-11-26T10:05:05.943Z"
   },
   {
    "duration": 0,
    "start_time": "2023-11-26T10:05:05.944Z"
   },
   {
    "duration": 0,
    "start_time": "2023-11-26T10:05:05.945Z"
   },
   {
    "duration": 0,
    "start_time": "2023-11-26T10:05:05.946Z"
   },
   {
    "duration": 0,
    "start_time": "2023-11-26T10:05:05.947Z"
   },
   {
    "duration": 0,
    "start_time": "2023-11-26T10:05:05.948Z"
   },
   {
    "duration": 0,
    "start_time": "2023-11-26T10:05:05.949Z"
   },
   {
    "duration": 0,
    "start_time": "2023-11-26T10:05:05.949Z"
   },
   {
    "duration": 7,
    "start_time": "2023-11-26T10:05:10.848Z"
   },
   {
    "duration": 3175,
    "start_time": "2023-11-26T10:05:51.228Z"
   },
   {
    "duration": 2296,
    "start_time": "2023-11-26T10:05:54.405Z"
   },
   {
    "duration": 1102,
    "start_time": "2023-11-26T10:05:56.703Z"
   },
   {
    "duration": 5,
    "start_time": "2023-11-26T10:05:57.806Z"
   },
   {
    "duration": 1068,
    "start_time": "2023-11-26T10:05:57.812Z"
   },
   {
    "duration": 142,
    "start_time": "2023-11-26T10:05:58.882Z"
   },
   {
    "duration": 127,
    "start_time": "2023-11-26T10:05:59.026Z"
   },
   {
    "duration": 13,
    "start_time": "2023-11-26T10:05:59.154Z"
   },
   {
    "duration": 444,
    "start_time": "2023-11-26T10:05:59.168Z"
   },
   {
    "duration": 988,
    "start_time": "2023-11-26T10:05:59.613Z"
   },
   {
    "duration": 4,
    "start_time": "2023-11-26T10:06:00.602Z"
   },
   {
    "duration": 87,
    "start_time": "2023-11-26T10:06:00.610Z"
   },
   {
    "duration": 17,
    "start_time": "2023-11-26T10:06:00.699Z"
   },
   {
    "duration": 17,
    "start_time": "2023-11-26T10:06:00.719Z"
   },
   {
    "duration": 140,
    "start_time": "2023-11-26T10:06:00.738Z"
   },
   {
    "duration": 4,
    "start_time": "2023-11-26T10:06:00.879Z"
   },
   {
    "duration": 33,
    "start_time": "2023-11-26T10:06:00.885Z"
   },
   {
    "duration": 21,
    "start_time": "2023-11-26T10:06:00.920Z"
   },
   {
    "duration": 20,
    "start_time": "2023-11-26T10:06:00.943Z"
   },
   {
    "duration": 15,
    "start_time": "2023-11-26T10:06:00.964Z"
   },
   {
    "duration": 5,
    "start_time": "2023-11-26T10:06:00.980Z"
   },
   {
    "duration": 28,
    "start_time": "2023-11-26T10:06:00.986Z"
   },
   {
    "duration": 12,
    "start_time": "2023-11-26T10:06:01.015Z"
   },
   {
    "duration": 3837,
    "start_time": "2023-11-26T10:06:01.028Z"
   },
   {
    "duration": 6,
    "start_time": "2023-11-26T10:06:04.867Z"
   },
   {
    "duration": 16,
    "start_time": "2023-11-26T10:06:04.875Z"
   },
   {
    "duration": 65,
    "start_time": "2023-11-26T10:06:04.893Z"
   },
   {
    "duration": 7,
    "start_time": "2023-11-26T10:06:04.959Z"
   },
   {
    "duration": 117,
    "start_time": "2023-11-26T10:06:04.968Z"
   },
   {
    "duration": 25,
    "start_time": "2023-11-26T10:06:05.086Z"
   },
   {
    "duration": 19,
    "start_time": "2023-11-26T10:06:05.113Z"
   },
   {
    "duration": 22,
    "start_time": "2023-11-26T10:06:05.133Z"
   },
   {
    "duration": 19,
    "start_time": "2023-11-26T10:06:05.157Z"
   },
   {
    "duration": 39,
    "start_time": "2023-11-26T10:06:05.177Z"
   },
   {
    "duration": 29,
    "start_time": "2023-11-26T10:06:05.218Z"
   },
   {
    "duration": 124,
    "start_time": "2023-11-26T10:06:05.248Z"
   },
   {
    "duration": 186,
    "start_time": "2023-11-26T10:06:05.374Z"
   },
   {
    "duration": 66,
    "start_time": "2023-11-26T10:06:05.561Z"
   },
   {
    "duration": 285,
    "start_time": "2023-11-26T10:06:05.628Z"
   },
   {
    "duration": 181,
    "start_time": "2023-11-26T10:06:05.914Z"
   },
   {
    "duration": 17,
    "start_time": "2023-11-26T10:06:06.099Z"
   },
   {
    "duration": 22,
    "start_time": "2023-11-26T10:06:06.117Z"
   },
   {
    "duration": 14,
    "start_time": "2023-11-26T10:06:06.140Z"
   },
   {
    "duration": 272,
    "start_time": "2023-11-26T10:06:06.155Z"
   },
   {
    "duration": 172,
    "start_time": "2023-11-26T10:06:06.429Z"
   },
   {
    "duration": 13,
    "start_time": "2023-11-26T10:06:06.610Z"
   },
   {
    "duration": 254,
    "start_time": "2023-11-26T10:06:06.625Z"
   },
   {
    "duration": 174,
    "start_time": "2023-11-26T10:06:06.881Z"
   },
   {
    "duration": 13,
    "start_time": "2023-11-26T10:06:07.057Z"
   },
   {
    "duration": 6,
    "start_time": "2023-11-26T10:06:07.072Z"
   },
   {
    "duration": 40,
    "start_time": "2023-11-26T10:06:07.080Z"
   },
   {
    "duration": 11,
    "start_time": "2023-11-26T10:06:07.122Z"
   },
   {
    "duration": 245,
    "start_time": "2023-11-26T10:06:07.135Z"
   },
   {
    "duration": 177,
    "start_time": "2023-11-26T10:06:07.381Z"
   },
   {
    "duration": 11,
    "start_time": "2023-11-26T10:06:07.560Z"
   },
   {
    "duration": 87,
    "start_time": "2023-11-26T10:06:07.573Z"
   },
   {
    "duration": 146,
    "start_time": "2023-11-26T10:06:07.662Z"
   },
   {
    "duration": 71,
    "start_time": "2023-11-26T10:06:07.811Z"
   },
   {
    "duration": 7,
    "start_time": "2023-11-26T10:06:07.884Z"
   },
   {
    "duration": 11,
    "start_time": "2023-11-26T10:06:07.910Z"
   },
   {
    "duration": 5,
    "start_time": "2023-11-26T10:06:07.923Z"
   },
   {
    "duration": 25,
    "start_time": "2023-11-26T10:06:07.929Z"
   },
   {
    "duration": 12,
    "start_time": "2023-11-26T10:06:25.526Z"
   },
   {
    "duration": 10,
    "start_time": "2023-11-26T10:06:26.891Z"
   },
   {
    "duration": 2380,
    "start_time": "2023-11-26T10:06:31.222Z"
   },
   {
    "duration": 2236,
    "start_time": "2023-11-26T10:06:33.605Z"
   },
   {
    "duration": 4,
    "start_time": "2023-11-26T10:06:35.843Z"
   },
   {
    "duration": 17,
    "start_time": "2023-11-26T10:06:35.849Z"
   },
   {
    "duration": 808,
    "start_time": "2023-11-26T10:06:35.867Z"
   },
   {
    "duration": 145,
    "start_time": "2023-11-26T10:06:36.677Z"
   },
   {
    "duration": 96,
    "start_time": "2023-11-26T10:06:36.823Z"
   },
   {
    "duration": 11,
    "start_time": "2023-11-26T10:06:36.921Z"
   },
   {
    "duration": 378,
    "start_time": "2023-11-26T10:06:36.934Z"
   },
   {
    "duration": 159,
    "start_time": "2023-11-26T10:06:37.314Z"
   },
   {
    "duration": 0,
    "start_time": "2023-11-26T10:06:37.476Z"
   },
   {
    "duration": 0,
    "start_time": "2023-11-26T10:06:37.477Z"
   },
   {
    "duration": 0,
    "start_time": "2023-11-26T10:06:37.479Z"
   },
   {
    "duration": 0,
    "start_time": "2023-11-26T10:06:37.480Z"
   },
   {
    "duration": 0,
    "start_time": "2023-11-26T10:06:37.481Z"
   },
   {
    "duration": 0,
    "start_time": "2023-11-26T10:06:37.483Z"
   },
   {
    "duration": 0,
    "start_time": "2023-11-26T10:06:37.484Z"
   },
   {
    "duration": 0,
    "start_time": "2023-11-26T10:06:37.486Z"
   },
   {
    "duration": 0,
    "start_time": "2023-11-26T10:06:37.487Z"
   },
   {
    "duration": 0,
    "start_time": "2023-11-26T10:06:37.489Z"
   },
   {
    "duration": 0,
    "start_time": "2023-11-26T10:06:37.512Z"
   },
   {
    "duration": 0,
    "start_time": "2023-11-26T10:06:37.513Z"
   },
   {
    "duration": 0,
    "start_time": "2023-11-26T10:06:37.514Z"
   },
   {
    "duration": 0,
    "start_time": "2023-11-26T10:06:37.516Z"
   },
   {
    "duration": 0,
    "start_time": "2023-11-26T10:06:37.517Z"
   },
   {
    "duration": 0,
    "start_time": "2023-11-26T10:06:37.519Z"
   },
   {
    "duration": 0,
    "start_time": "2023-11-26T10:06:37.520Z"
   },
   {
    "duration": 0,
    "start_time": "2023-11-26T10:06:37.522Z"
   },
   {
    "duration": 0,
    "start_time": "2023-11-26T10:06:37.523Z"
   },
   {
    "duration": 0,
    "start_time": "2023-11-26T10:06:37.525Z"
   },
   {
    "duration": 0,
    "start_time": "2023-11-26T10:06:37.526Z"
   },
   {
    "duration": 0,
    "start_time": "2023-11-26T10:06:37.527Z"
   },
   {
    "duration": 1,
    "start_time": "2023-11-26T10:06:37.528Z"
   },
   {
    "duration": 0,
    "start_time": "2023-11-26T10:06:37.530Z"
   },
   {
    "duration": 0,
    "start_time": "2023-11-26T10:06:37.531Z"
   },
   {
    "duration": 0,
    "start_time": "2023-11-26T10:06:37.532Z"
   },
   {
    "duration": 0,
    "start_time": "2023-11-26T10:06:37.534Z"
   },
   {
    "duration": 0,
    "start_time": "2023-11-26T10:06:37.535Z"
   },
   {
    "duration": 0,
    "start_time": "2023-11-26T10:06:37.536Z"
   },
   {
    "duration": 0,
    "start_time": "2023-11-26T10:06:37.538Z"
   },
   {
    "duration": 0,
    "start_time": "2023-11-26T10:06:37.539Z"
   },
   {
    "duration": 0,
    "start_time": "2023-11-26T10:06:37.540Z"
   },
   {
    "duration": 0,
    "start_time": "2023-11-26T10:06:37.542Z"
   },
   {
    "duration": 0,
    "start_time": "2023-11-26T10:06:37.543Z"
   },
   {
    "duration": 0,
    "start_time": "2023-11-26T10:06:37.544Z"
   },
   {
    "duration": 1,
    "start_time": "2023-11-26T10:06:37.545Z"
   },
   {
    "duration": 0,
    "start_time": "2023-11-26T10:06:37.547Z"
   },
   {
    "duration": 0,
    "start_time": "2023-11-26T10:06:37.548Z"
   },
   {
    "duration": 1,
    "start_time": "2023-11-26T10:06:37.549Z"
   },
   {
    "duration": 0,
    "start_time": "2023-11-26T10:06:37.551Z"
   },
   {
    "duration": 0,
    "start_time": "2023-11-26T10:06:37.611Z"
   },
   {
    "duration": 0,
    "start_time": "2023-11-26T10:06:37.612Z"
   },
   {
    "duration": 0,
    "start_time": "2023-11-26T10:06:37.614Z"
   },
   {
    "duration": 0,
    "start_time": "2023-11-26T10:06:37.616Z"
   },
   {
    "duration": 0,
    "start_time": "2023-11-26T10:06:37.617Z"
   },
   {
    "duration": 0,
    "start_time": "2023-11-26T10:06:37.618Z"
   },
   {
    "duration": 0,
    "start_time": "2023-11-26T10:06:37.619Z"
   },
   {
    "duration": 0,
    "start_time": "2023-11-26T10:06:37.621Z"
   },
   {
    "duration": 0,
    "start_time": "2023-11-26T10:06:37.622Z"
   },
   {
    "duration": 0,
    "start_time": "2023-11-26T10:06:37.623Z"
   },
   {
    "duration": 0,
    "start_time": "2023-11-26T10:06:37.625Z"
   },
   {
    "duration": 0,
    "start_time": "2023-11-26T10:06:37.626Z"
   },
   {
    "duration": 0,
    "start_time": "2023-11-26T10:06:37.627Z"
   },
   {
    "duration": 0,
    "start_time": "2023-11-26T10:06:37.628Z"
   },
   {
    "duration": 0,
    "start_time": "2023-11-26T10:06:37.629Z"
   },
   {
    "duration": 0,
    "start_time": "2023-11-26T10:06:37.630Z"
   },
   {
    "duration": 0,
    "start_time": "2023-11-26T10:06:37.632Z"
   },
   {
    "duration": 0,
    "start_time": "2023-11-26T10:06:37.633Z"
   },
   {
    "duration": 2312,
    "start_time": "2023-11-26T10:06:51.631Z"
   },
   {
    "duration": 2210,
    "start_time": "2023-11-26T10:06:53.945Z"
   },
   {
    "duration": 1363,
    "start_time": "2023-11-26T10:06:56.157Z"
   },
   {
    "duration": 2,
    "start_time": "2023-11-26T10:06:57.522Z"
   },
   {
    "duration": 781,
    "start_time": "2023-11-26T10:06:57.525Z"
   },
   {
    "duration": 137,
    "start_time": "2023-11-26T10:06:58.308Z"
   },
   {
    "duration": 100,
    "start_time": "2023-11-26T10:06:58.447Z"
   },
   {
    "duration": 11,
    "start_time": "2023-11-26T10:06:58.549Z"
   },
   {
    "duration": 443,
    "start_time": "2023-11-26T10:06:58.562Z"
   },
   {
    "duration": 894,
    "start_time": "2023-11-26T10:06:59.007Z"
   },
   {
    "duration": 9,
    "start_time": "2023-11-26T10:06:59.902Z"
   },
   {
    "duration": 76,
    "start_time": "2023-11-26T10:06:59.912Z"
   },
   {
    "duration": 23,
    "start_time": "2023-11-26T10:06:59.989Z"
   },
   {
    "duration": 8,
    "start_time": "2023-11-26T10:07:00.014Z"
   },
   {
    "duration": 130,
    "start_time": "2023-11-26T10:07:00.023Z"
   },
   {
    "duration": 4,
    "start_time": "2023-11-26T10:07:00.154Z"
   },
   {
    "duration": 45,
    "start_time": "2023-11-26T10:07:00.159Z"
   },
   {
    "duration": 34,
    "start_time": "2023-11-26T10:07:00.205Z"
   },
   {
    "duration": 18,
    "start_time": "2023-11-26T10:07:00.240Z"
   },
   {
    "duration": 48,
    "start_time": "2023-11-26T10:07:00.259Z"
   },
   {
    "duration": 22,
    "start_time": "2023-11-26T10:07:00.309Z"
   },
   {
    "duration": 22,
    "start_time": "2023-11-26T10:07:00.333Z"
   },
   {
    "duration": 27,
    "start_time": "2023-11-26T10:07:00.356Z"
   },
   {
    "duration": 3955,
    "start_time": "2023-11-26T10:07:00.384Z"
   },
   {
    "duration": 7,
    "start_time": "2023-11-26T10:07:04.340Z"
   },
   {
    "duration": 18,
    "start_time": "2023-11-26T10:07:04.348Z"
   },
   {
    "duration": 70,
    "start_time": "2023-11-26T10:07:04.368Z"
   },
   {
    "duration": 7,
    "start_time": "2023-11-26T10:07:04.441Z"
   },
   {
    "duration": 108,
    "start_time": "2023-11-26T10:07:04.449Z"
   },
   {
    "duration": 22,
    "start_time": "2023-11-26T10:07:04.558Z"
   },
   {
    "duration": 40,
    "start_time": "2023-11-26T10:07:04.582Z"
   },
   {
    "duration": 24,
    "start_time": "2023-11-26T10:07:04.624Z"
   },
   {
    "duration": 23,
    "start_time": "2023-11-26T10:07:04.650Z"
   },
   {
    "duration": 43,
    "start_time": "2023-11-26T10:07:04.675Z"
   },
   {
    "duration": 22,
    "start_time": "2023-11-26T10:07:04.720Z"
   },
   {
    "duration": 99,
    "start_time": "2023-11-26T10:07:04.743Z"
   },
   {
    "duration": 184,
    "start_time": "2023-11-26T10:07:04.844Z"
   },
   {
    "duration": 63,
    "start_time": "2023-11-26T10:07:05.029Z"
   },
   {
    "duration": 300,
    "start_time": "2023-11-26T10:07:05.093Z"
   },
   {
    "duration": 178,
    "start_time": "2023-11-26T10:07:05.394Z"
   },
   {
    "duration": 16,
    "start_time": "2023-11-26T10:07:05.573Z"
   },
   {
    "duration": 28,
    "start_time": "2023-11-26T10:07:05.590Z"
   },
   {
    "duration": 13,
    "start_time": "2023-11-26T10:07:05.619Z"
   },
   {
    "duration": 264,
    "start_time": "2023-11-26T10:07:05.633Z"
   },
   {
    "duration": 166,
    "start_time": "2023-11-26T10:07:05.898Z"
   },
   {
    "duration": 13,
    "start_time": "2023-11-26T10:07:06.066Z"
   },
   {
    "duration": 264,
    "start_time": "2023-11-26T10:07:06.081Z"
   },
   {
    "duration": 184,
    "start_time": "2023-11-26T10:07:06.347Z"
   },
   {
    "duration": 12,
    "start_time": "2023-11-26T10:07:06.532Z"
   },
   {
    "duration": 13,
    "start_time": "2023-11-26T10:07:06.545Z"
   },
   {
    "duration": 19,
    "start_time": "2023-11-26T10:07:06.559Z"
   },
   {
    "duration": 11,
    "start_time": "2023-11-26T10:07:06.579Z"
   },
   {
    "duration": 236,
    "start_time": "2023-11-26T10:07:06.611Z"
   },
   {
    "duration": 173,
    "start_time": "2023-11-26T10:07:06.849Z"
   },
   {
    "duration": 10,
    "start_time": "2023-11-26T10:07:07.024Z"
   },
   {
    "duration": 81,
    "start_time": "2023-11-26T10:07:07.036Z"
   },
   {
    "duration": 139,
    "start_time": "2023-11-26T10:07:07.118Z"
   },
   {
    "duration": 82,
    "start_time": "2023-11-26T10:07:07.259Z"
   },
   {
    "duration": 6,
    "start_time": "2023-11-26T10:07:07.343Z"
   },
   {
    "duration": 9,
    "start_time": "2023-11-26T10:07:07.351Z"
   },
   {
    "duration": 9,
    "start_time": "2023-11-26T10:07:07.361Z"
   },
   {
    "duration": 42,
    "start_time": "2023-11-26T10:07:07.371Z"
   },
   {
    "duration": 10,
    "start_time": "2023-11-26T10:07:07.414Z"
   },
   {
    "duration": 11,
    "start_time": "2023-11-26T10:07:07.425Z"
   },
   {
    "duration": 12,
    "start_time": "2023-11-26T10:07:07.437Z"
   },
   {
    "duration": 10,
    "start_time": "2023-11-26T10:07:07.450Z"
   },
   {
    "duration": 11,
    "start_time": "2023-11-26T10:07:07.461Z"
   },
   {
    "duration": 48,
    "start_time": "2023-11-26T10:07:07.473Z"
   },
   {
    "duration": 4,
    "start_time": "2023-11-26T10:26:34.920Z"
   },
   {
    "duration": 5,
    "start_time": "2023-11-26T10:26:47.769Z"
   },
   {
    "duration": 5,
    "start_time": "2023-11-26T10:27:04.654Z"
   },
   {
    "duration": 4,
    "start_time": "2023-11-26T10:27:25.416Z"
   },
   {
    "duration": 6,
    "start_time": "2023-11-26T10:47:50.147Z"
   },
   {
    "duration": 2,
    "start_time": "2023-11-26T10:57:10.805Z"
   },
   {
    "duration": 701,
    "start_time": "2023-11-26T10:57:50.884Z"
   },
   {
    "duration": 7,
    "start_time": "2023-11-26T10:58:23.328Z"
   },
   {
    "duration": 884,
    "start_time": "2023-11-26T10:59:28.476Z"
   },
   {
    "duration": 22,
    "start_time": "2023-11-26T10:59:33.591Z"
   },
   {
    "duration": 6,
    "start_time": "2023-11-26T10:59:48.940Z"
   },
   {
    "duration": 108,
    "start_time": "2023-11-26T11:00:02.063Z"
   },
   {
    "duration": 33,
    "start_time": "2023-11-26T11:00:07.973Z"
   },
   {
    "duration": 10,
    "start_time": "2023-11-26T11:00:17.735Z"
   },
   {
    "duration": 6,
    "start_time": "2023-11-26T11:00:33.167Z"
   },
   {
    "duration": 3,
    "start_time": "2023-11-26T11:02:07.795Z"
   },
   {
    "duration": 6,
    "start_time": "2023-11-26T11:09:42.389Z"
   },
   {
    "duration": 1041,
    "start_time": "2023-11-26T11:09:49.470Z"
   },
   {
    "duration": 12,
    "start_time": "2023-11-26T11:09:53.499Z"
   },
   {
    "duration": 12,
    "start_time": "2023-11-26T11:10:08.740Z"
   },
   {
    "duration": 10,
    "start_time": "2023-11-26T11:12:15.535Z"
   },
   {
    "duration": 3,
    "start_time": "2023-11-26T11:12:21.946Z"
   },
   {
    "duration": 3,
    "start_time": "2023-11-26T11:12:23.596Z"
   },
   {
    "duration": 5,
    "start_time": "2023-11-26T11:12:25.722Z"
   },
   {
    "duration": 1129,
    "start_time": "2023-11-26T11:12:27.573Z"
   },
   {
    "duration": 13,
    "start_time": "2023-11-26T11:12:30.961Z"
   },
   {
    "duration": 12,
    "start_time": "2023-11-26T11:12:38.279Z"
   },
   {
    "duration": 467,
    "start_time": "2023-11-26T11:13:46.148Z"
   },
   {
    "duration": 5402,
    "start_time": "2023-11-26T11:14:48.416Z"
   },
   {
    "duration": 460,
    "start_time": "2023-11-27T12:13:03.042Z"
   },
   {
    "duration": 85,
    "start_time": "2023-11-27T12:44:21.282Z"
   },
   {
    "duration": 3543,
    "start_time": "2023-11-27T12:44:29.760Z"
   },
   {
    "duration": 2517,
    "start_time": "2023-11-27T12:44:33.305Z"
   },
   {
    "duration": 1703,
    "start_time": "2023-11-27T12:44:35.825Z"
   },
   {
    "duration": 3,
    "start_time": "2023-11-27T12:44:37.530Z"
   },
   {
    "duration": 3038,
    "start_time": "2023-11-27T12:44:37.535Z"
   },
   {
    "duration": 159,
    "start_time": "2023-11-27T12:44:40.574Z"
   },
   {
    "duration": 116,
    "start_time": "2023-11-27T12:44:40.735Z"
   },
   {
    "duration": 12,
    "start_time": "2023-11-27T12:44:40.853Z"
   },
   {
    "duration": 510,
    "start_time": "2023-11-27T12:44:40.867Z"
   },
   {
    "duration": 997,
    "start_time": "2023-11-27T12:44:41.381Z"
   },
   {
    "duration": 5,
    "start_time": "2023-11-27T12:44:42.380Z"
   },
   {
    "duration": 107,
    "start_time": "2023-11-27T12:44:42.386Z"
   },
   {
    "duration": 7,
    "start_time": "2023-11-27T12:44:42.494Z"
   },
   {
    "duration": 37,
    "start_time": "2023-11-27T12:44:42.502Z"
   },
   {
    "duration": 112,
    "start_time": "2023-11-27T12:44:42.540Z"
   },
   {
    "duration": 3,
    "start_time": "2023-11-27T12:44:42.654Z"
   },
   {
    "duration": 8,
    "start_time": "2023-11-27T12:44:42.659Z"
   },
   {
    "duration": 5,
    "start_time": "2023-11-27T12:44:42.669Z"
   },
   {
    "duration": 8,
    "start_time": "2023-11-27T12:44:42.676Z"
   },
   {
    "duration": 46,
    "start_time": "2023-11-27T12:44:42.685Z"
   },
   {
    "duration": 7,
    "start_time": "2023-11-27T12:44:42.732Z"
   },
   {
    "duration": 15,
    "start_time": "2023-11-27T12:44:42.740Z"
   },
   {
    "duration": 6,
    "start_time": "2023-11-27T12:44:42.756Z"
   },
   {
    "duration": 4382,
    "start_time": "2023-11-27T12:44:42.763Z"
   },
   {
    "duration": 7,
    "start_time": "2023-11-27T12:44:47.146Z"
   },
   {
    "duration": 34,
    "start_time": "2023-11-27T12:44:47.154Z"
   },
   {
    "duration": 68,
    "start_time": "2023-11-27T12:44:47.190Z"
   },
   {
    "duration": 7,
    "start_time": "2023-11-27T12:44:47.262Z"
   },
   {
    "duration": 132,
    "start_time": "2023-11-27T12:44:47.270Z"
   },
   {
    "duration": 35,
    "start_time": "2023-11-27T12:44:47.403Z"
   },
   {
    "duration": 29,
    "start_time": "2023-11-27T12:44:47.440Z"
   },
   {
    "duration": 27,
    "start_time": "2023-11-27T12:44:47.471Z"
   },
   {
    "duration": 37,
    "start_time": "2023-11-27T12:44:47.500Z"
   },
   {
    "duration": 32,
    "start_time": "2023-11-27T12:44:47.538Z"
   },
   {
    "duration": 20,
    "start_time": "2023-11-27T12:44:47.572Z"
   },
   {
    "duration": 137,
    "start_time": "2023-11-27T12:44:47.594Z"
   },
   {
    "duration": 203,
    "start_time": "2023-11-27T12:44:47.732Z"
   },
   {
    "duration": 63,
    "start_time": "2023-11-27T12:44:47.937Z"
   },
   {
    "duration": 324,
    "start_time": "2023-11-27T12:44:48.002Z"
   },
   {
    "duration": 201,
    "start_time": "2023-11-27T12:44:48.332Z"
   },
   {
    "duration": 17,
    "start_time": "2023-11-27T12:44:48.535Z"
   },
   {
    "duration": 32,
    "start_time": "2023-11-27T12:44:48.553Z"
   },
   {
    "duration": 38,
    "start_time": "2023-11-27T12:44:48.587Z"
   },
   {
    "duration": 307,
    "start_time": "2023-11-27T12:44:48.628Z"
   },
   {
    "duration": 186,
    "start_time": "2023-11-27T12:44:48.937Z"
   },
   {
    "duration": 17,
    "start_time": "2023-11-27T12:44:49.124Z"
   },
   {
    "duration": 297,
    "start_time": "2023-11-27T12:44:49.143Z"
   },
   {
    "duration": 216,
    "start_time": "2023-11-27T12:44:49.441Z"
   },
   {
    "duration": 14,
    "start_time": "2023-11-27T12:44:49.659Z"
   },
   {
    "duration": 27,
    "start_time": "2023-11-27T12:44:49.674Z"
   },
   {
    "duration": 50,
    "start_time": "2023-11-27T12:44:49.702Z"
   },
   {
    "duration": 28,
    "start_time": "2023-11-27T12:44:49.754Z"
   },
   {
    "duration": 287,
    "start_time": "2023-11-27T12:44:49.783Z"
   },
   {
    "duration": 204,
    "start_time": "2023-11-27T12:44:50.071Z"
   },
   {
    "duration": 10,
    "start_time": "2023-11-27T12:44:50.277Z"
   },
   {
    "duration": 101,
    "start_time": "2023-11-27T12:44:50.289Z"
   },
   {
    "duration": 169,
    "start_time": "2023-11-27T12:44:50.392Z"
   },
   {
    "duration": 86,
    "start_time": "2023-11-27T12:44:50.563Z"
   },
   {
    "duration": 7,
    "start_time": "2023-11-27T12:44:50.651Z"
   },
   {
    "duration": 20,
    "start_time": "2023-11-27T12:44:50.660Z"
   },
   {
    "duration": 25,
    "start_time": "2023-11-27T12:44:50.682Z"
   },
   {
    "duration": 44,
    "start_time": "2023-11-27T12:44:50.709Z"
   },
   {
    "duration": 23,
    "start_time": "2023-11-27T12:44:50.754Z"
   },
   {
    "duration": 50,
    "start_time": "2023-11-27T12:44:50.778Z"
   },
   {
    "duration": 20,
    "start_time": "2023-11-27T12:44:50.830Z"
   },
   {
    "duration": 34,
    "start_time": "2023-11-27T12:44:50.852Z"
   },
   {
    "duration": 49,
    "start_time": "2023-11-27T12:44:50.888Z"
   },
   {
    "duration": 30,
    "start_time": "2023-11-27T12:44:50.939Z"
   },
   {
    "duration": 30,
    "start_time": "2023-11-27T12:44:50.971Z"
   },
   {
    "duration": 29,
    "start_time": "2023-11-27T12:44:51.003Z"
   },
   {
    "duration": 20,
    "start_time": "2023-11-27T12:44:51.033Z"
   },
   {
    "duration": 25,
    "start_time": "2023-11-27T12:44:51.055Z"
   },
   {
    "duration": 1262,
    "start_time": "2023-11-27T12:44:51.081Z"
   },
   {
    "duration": 12,
    "start_time": "2023-11-27T12:44:52.344Z"
   },
   {
    "duration": 38,
    "start_time": "2023-11-27T12:44:52.357Z"
   },
   {
    "duration": 43,
    "start_time": "2023-11-27T12:44:52.397Z"
   },
   {
    "duration": 215,
    "start_time": "2023-11-27T12:44:57.423Z"
   },
   {
    "duration": 9,
    "start_time": "2023-11-27T12:45:12.971Z"
   },
   {
    "duration": 2778,
    "start_time": "2023-11-27T12:46:10.745Z"
   },
   {
    "duration": 3669,
    "start_time": "2023-11-28T08:07:22.056Z"
   },
   {
    "duration": 2534,
    "start_time": "2023-11-28T08:07:25.727Z"
   },
   {
    "duration": 1648,
    "start_time": "2023-11-28T08:07:28.263Z"
   },
   {
    "duration": 3,
    "start_time": "2023-11-28T08:07:29.914Z"
   },
   {
    "duration": 3068,
    "start_time": "2023-11-28T08:07:29.918Z"
   },
   {
    "duration": 149,
    "start_time": "2023-11-28T08:07:32.988Z"
   },
   {
    "duration": 153,
    "start_time": "2023-11-28T08:07:33.138Z"
   },
   {
    "duration": 22,
    "start_time": "2023-11-28T08:07:33.293Z"
   },
   {
    "duration": 491,
    "start_time": "2023-11-28T08:07:33.317Z"
   },
   {
    "duration": 1062,
    "start_time": "2023-11-28T08:07:33.813Z"
   },
   {
    "duration": 6,
    "start_time": "2023-11-28T08:07:34.876Z"
   },
   {
    "duration": 102,
    "start_time": "2023-11-28T08:07:34.883Z"
   },
   {
    "duration": 8,
    "start_time": "2023-11-28T08:07:34.986Z"
   },
   {
    "duration": 19,
    "start_time": "2023-11-28T08:07:34.995Z"
   },
   {
    "duration": 139,
    "start_time": "2023-11-28T08:07:35.016Z"
   },
   {
    "duration": 3,
    "start_time": "2023-11-28T08:07:35.157Z"
   },
   {
    "duration": 28,
    "start_time": "2023-11-28T08:07:35.162Z"
   },
   {
    "duration": 17,
    "start_time": "2023-11-28T08:07:35.191Z"
   },
   {
    "duration": 40,
    "start_time": "2023-11-28T08:07:35.209Z"
   },
   {
    "duration": 54,
    "start_time": "2023-11-28T08:07:35.251Z"
   },
   {
    "duration": 13,
    "start_time": "2023-11-28T08:07:35.307Z"
   },
   {
    "duration": 17,
    "start_time": "2023-11-28T08:07:35.322Z"
   },
   {
    "duration": 13,
    "start_time": "2023-11-28T08:07:35.341Z"
   },
   {
    "duration": 4295,
    "start_time": "2023-11-28T08:07:35.356Z"
   },
   {
    "duration": 7,
    "start_time": "2023-11-28T08:07:39.653Z"
   },
   {
    "duration": 20,
    "start_time": "2023-11-28T08:07:39.662Z"
   },
   {
    "duration": 67,
    "start_time": "2023-11-28T08:07:39.684Z"
   },
   {
    "duration": 9,
    "start_time": "2023-11-28T08:07:39.755Z"
   },
   {
    "duration": 128,
    "start_time": "2023-11-28T08:07:39.765Z"
   },
   {
    "duration": 23,
    "start_time": "2023-11-28T08:07:39.895Z"
   },
   {
    "duration": 31,
    "start_time": "2023-11-28T08:07:39.919Z"
   },
   {
    "duration": 40,
    "start_time": "2023-11-28T08:07:39.952Z"
   },
   {
    "duration": 40,
    "start_time": "2023-11-28T08:07:39.993Z"
   },
   {
    "duration": 43,
    "start_time": "2023-11-28T08:07:40.034Z"
   },
   {
    "duration": 22,
    "start_time": "2023-11-28T08:07:40.078Z"
   },
   {
    "duration": 105,
    "start_time": "2023-11-28T08:07:40.101Z"
   },
   {
    "duration": 200,
    "start_time": "2023-11-28T08:07:40.207Z"
   },
   {
    "duration": 73,
    "start_time": "2023-11-28T08:07:40.413Z"
   },
   {
    "duration": 318,
    "start_time": "2023-11-28T08:07:40.488Z"
   },
   {
    "duration": 197,
    "start_time": "2023-11-28T08:07:40.808Z"
   },
   {
    "duration": 21,
    "start_time": "2023-11-28T08:07:41.006Z"
   },
   {
    "duration": 38,
    "start_time": "2023-11-28T08:07:41.028Z"
   },
   {
    "duration": 24,
    "start_time": "2023-11-28T08:07:41.067Z"
   },
   {
    "duration": 297,
    "start_time": "2023-11-28T08:07:41.092Z"
   },
   {
    "duration": 187,
    "start_time": "2023-11-28T08:07:41.391Z"
   },
   {
    "duration": 15,
    "start_time": "2023-11-28T08:07:41.579Z"
   },
   {
    "duration": 287,
    "start_time": "2023-11-28T08:07:41.596Z"
   },
   {
    "duration": 206,
    "start_time": "2023-11-28T08:07:41.884Z"
   },
   {
    "duration": 21,
    "start_time": "2023-11-28T08:07:42.092Z"
   },
   {
    "duration": 8,
    "start_time": "2023-11-28T08:07:42.115Z"
   },
   {
    "duration": 41,
    "start_time": "2023-11-28T08:07:42.124Z"
   },
   {
    "duration": 12,
    "start_time": "2023-11-28T08:07:42.167Z"
   },
   {
    "duration": 281,
    "start_time": "2023-11-28T08:07:42.181Z"
   },
   {
    "duration": 202,
    "start_time": "2023-11-28T08:07:42.463Z"
   },
   {
    "duration": 11,
    "start_time": "2023-11-28T08:07:42.667Z"
   },
   {
    "duration": 90,
    "start_time": "2023-11-28T08:07:42.680Z"
   },
   {
    "duration": 164,
    "start_time": "2023-11-28T08:07:42.772Z"
   },
   {
    "duration": 98,
    "start_time": "2023-11-28T08:07:42.938Z"
   },
   {
    "duration": 9,
    "start_time": "2023-11-28T08:07:43.038Z"
   },
   {
    "duration": 11,
    "start_time": "2023-11-28T08:07:43.049Z"
   },
   {
    "duration": 15,
    "start_time": "2023-11-28T08:07:43.062Z"
   },
   {
    "duration": 53,
    "start_time": "2023-11-28T08:07:43.079Z"
   },
   {
    "duration": 13,
    "start_time": "2023-11-28T08:07:43.134Z"
   },
   {
    "duration": 13,
    "start_time": "2023-11-28T08:07:43.149Z"
   },
   {
    "duration": 21,
    "start_time": "2023-11-28T08:07:43.164Z"
   },
   {
    "duration": 37,
    "start_time": "2023-11-28T08:07:43.187Z"
   },
   {
    "duration": 16,
    "start_time": "2023-11-28T08:07:43.226Z"
   },
   {
    "duration": 13,
    "start_time": "2023-11-28T08:07:43.243Z"
   },
   {
    "duration": 6,
    "start_time": "2023-11-28T08:07:43.257Z"
   },
   {
    "duration": 6,
    "start_time": "2023-11-28T08:07:43.264Z"
   },
   {
    "duration": 3,
    "start_time": "2023-11-28T08:07:43.273Z"
   },
   {
    "duration": 20,
    "start_time": "2023-11-28T08:07:43.313Z"
   },
   {
    "duration": 1298,
    "start_time": "2023-11-28T08:07:43.335Z"
   },
   {
    "duration": 14,
    "start_time": "2023-11-28T08:07:44.634Z"
   },
   {
    "duration": 17,
    "start_time": "2023-11-28T08:07:44.649Z"
   },
   {
    "duration": 204,
    "start_time": "2023-11-28T08:07:48.234Z"
   },
   {
    "duration": 2473,
    "start_time": "2023-11-28T08:10:33.046Z"
   },
   {
    "duration": 4,
    "start_time": "2023-11-28T08:13:34.158Z"
   },
   {
    "duration": 6,
    "start_time": "2023-11-28T08:27:11.576Z"
   },
   {
    "duration": 89,
    "start_time": "2023-11-28T08:35:01.391Z"
   },
   {
    "duration": 2350,
    "start_time": "2023-11-28T08:48:15.166Z"
   },
   {
    "duration": 119,
    "start_time": "2023-11-28T08:51:16.067Z"
   },
   {
    "duration": 2690,
    "start_time": "2023-11-28T08:51:22.525Z"
   },
   {
    "duration": 2623,
    "start_time": "2023-11-28T08:51:38.096Z"
   },
   {
    "duration": 2381,
    "start_time": "2023-11-28T08:53:04.737Z"
   },
   {
    "duration": 449,
    "start_time": "2023-11-28T08:57:16.776Z"
   },
   {
    "duration": 11,
    "start_time": "2023-11-28T09:11:36.247Z"
   },
   {
    "duration": 4,
    "start_time": "2023-11-28T09:11:41.866Z"
   },
   {
    "duration": 482,
    "start_time": "2023-11-28T09:11:47.436Z"
   },
   {
    "duration": 500,
    "start_time": "2023-11-28T09:12:01.917Z"
   },
   {
    "duration": 442,
    "start_time": "2023-11-28T09:12:20.575Z"
   },
   {
    "duration": 441,
    "start_time": "2023-11-28T09:12:29.174Z"
   },
   {
    "duration": 382,
    "start_time": "2023-11-28T09:12:30.946Z"
   },
   {
    "duration": 441,
    "start_time": "2023-11-28T09:13:35.376Z"
   },
   {
    "duration": 360,
    "start_time": "2023-11-28T09:13:45.957Z"
   },
   {
    "duration": 514327,
    "start_time": "2023-11-28T09:22:09.606Z"
   },
   {
    "duration": 2636,
    "start_time": "2023-11-28T09:32:03.385Z"
   },
   {
    "duration": 2513,
    "start_time": "2023-11-28T09:32:06.023Z"
   },
   {
    "duration": 1501,
    "start_time": "2023-11-28T09:32:08.538Z"
   },
   {
    "duration": 3,
    "start_time": "2023-11-28T09:32:10.041Z"
   },
   {
    "duration": 935,
    "start_time": "2023-11-28T09:32:10.046Z"
   },
   {
    "duration": 154,
    "start_time": "2023-11-28T09:32:10.983Z"
   },
   {
    "duration": 110,
    "start_time": "2023-11-28T09:32:11.139Z"
   },
   {
    "duration": 14,
    "start_time": "2023-11-28T09:32:11.251Z"
   },
   {
    "duration": 507,
    "start_time": "2023-11-28T09:32:11.267Z"
   },
   {
    "duration": 1032,
    "start_time": "2023-11-28T09:32:11.776Z"
   },
   {
    "duration": 6,
    "start_time": "2023-11-28T09:32:12.814Z"
   },
   {
    "duration": 118,
    "start_time": "2023-11-28T09:32:12.822Z"
   },
   {
    "duration": 9,
    "start_time": "2023-11-28T09:32:12.942Z"
   },
   {
    "duration": 10,
    "start_time": "2023-11-28T09:32:12.955Z"
   },
   {
    "duration": 154,
    "start_time": "2023-11-28T09:32:12.967Z"
   },
   {
    "duration": 4,
    "start_time": "2023-11-28T09:32:13.123Z"
   },
   {
    "duration": 9,
    "start_time": "2023-11-28T09:32:13.129Z"
   },
   {
    "duration": 6,
    "start_time": "2023-11-28T09:32:13.139Z"
   },
   {
    "duration": 15,
    "start_time": "2023-11-28T09:32:13.146Z"
   },
   {
    "duration": 18,
    "start_time": "2023-11-28T09:32:13.162Z"
   },
   {
    "duration": 6,
    "start_time": "2023-11-28T09:32:13.181Z"
   },
   {
    "duration": 30,
    "start_time": "2023-11-28T09:32:13.189Z"
   },
   {
    "duration": 4,
    "start_time": "2023-11-28T09:32:13.221Z"
   },
   {
    "duration": 4285,
    "start_time": "2023-11-28T09:32:13.227Z"
   },
   {
    "duration": 8,
    "start_time": "2023-11-28T09:32:17.514Z"
   },
   {
    "duration": 20,
    "start_time": "2023-11-28T09:32:17.523Z"
   },
   {
    "duration": 74,
    "start_time": "2023-11-28T09:32:17.545Z"
   },
   {
    "duration": 8,
    "start_time": "2023-11-28T09:32:17.621Z"
   },
   {
    "duration": 126,
    "start_time": "2023-11-28T09:32:17.631Z"
   },
   {
    "duration": 22,
    "start_time": "2023-11-28T09:32:17.759Z"
   },
   {
    "duration": 36,
    "start_time": "2023-11-28T09:32:17.783Z"
   },
   {
    "duration": 36,
    "start_time": "2023-11-28T09:32:17.820Z"
   },
   {
    "duration": 36,
    "start_time": "2023-11-28T09:32:17.858Z"
   },
   {
    "duration": 26,
    "start_time": "2023-11-28T09:32:17.896Z"
   },
   {
    "duration": 22,
    "start_time": "2023-11-28T09:32:17.923Z"
   },
   {
    "duration": 104,
    "start_time": "2023-11-28T09:32:17.946Z"
   },
   {
    "duration": 211,
    "start_time": "2023-11-28T09:32:18.052Z"
   },
   {
    "duration": 80,
    "start_time": "2023-11-28T09:32:18.265Z"
   },
   {
    "duration": 305,
    "start_time": "2023-11-28T09:32:18.347Z"
   },
   {
    "duration": 202,
    "start_time": "2023-11-28T09:32:18.654Z"
   },
   {
    "duration": 16,
    "start_time": "2023-11-28T09:32:18.860Z"
   },
   {
    "duration": 36,
    "start_time": "2023-11-28T09:32:18.878Z"
   },
   {
    "duration": 15,
    "start_time": "2023-11-28T09:32:18.915Z"
   },
   {
    "duration": 292,
    "start_time": "2023-11-28T09:32:18.931Z"
   },
   {
    "duration": 201,
    "start_time": "2023-11-28T09:32:19.225Z"
   },
   {
    "duration": 14,
    "start_time": "2023-11-28T09:32:19.428Z"
   },
   {
    "duration": 305,
    "start_time": "2023-11-28T09:32:19.444Z"
   },
   {
    "duration": 201,
    "start_time": "2023-11-28T09:32:19.751Z"
   },
   {
    "duration": 14,
    "start_time": "2023-11-28T09:32:19.954Z"
   },
   {
    "duration": 7,
    "start_time": "2023-11-28T09:32:19.969Z"
   },
   {
    "duration": 40,
    "start_time": "2023-11-28T09:32:19.978Z"
   },
   {
    "duration": 12,
    "start_time": "2023-11-28T09:32:20.020Z"
   },
   {
    "duration": 286,
    "start_time": "2023-11-28T09:32:20.033Z"
   },
   {
    "duration": 199,
    "start_time": "2023-11-28T09:32:20.320Z"
   },
   {
    "duration": 12,
    "start_time": "2023-11-28T09:32:20.521Z"
   },
   {
    "duration": 99,
    "start_time": "2023-11-28T09:32:20.535Z"
   },
   {
    "duration": 158,
    "start_time": "2023-11-28T09:32:20.636Z"
   },
   {
    "duration": 83,
    "start_time": "2023-11-28T09:32:20.796Z"
   },
   {
    "duration": 8,
    "start_time": "2023-11-28T09:32:20.881Z"
   },
   {
    "duration": 31,
    "start_time": "2023-11-28T09:32:20.890Z"
   },
   {
    "duration": 19,
    "start_time": "2023-11-28T09:32:20.923Z"
   },
   {
    "duration": 49,
    "start_time": "2023-11-28T09:32:20.943Z"
   },
   {
    "duration": 12,
    "start_time": "2023-11-28T09:32:20.994Z"
   },
   {
    "duration": 26,
    "start_time": "2023-11-28T09:32:21.008Z"
   },
   {
    "duration": 30,
    "start_time": "2023-11-28T09:32:21.036Z"
   },
   {
    "duration": 25,
    "start_time": "2023-11-28T09:32:21.067Z"
   },
   {
    "duration": 31,
    "start_time": "2023-11-28T09:32:21.093Z"
   },
   {
    "duration": 51,
    "start_time": "2023-11-28T09:32:21.126Z"
   },
   {
    "duration": 18,
    "start_time": "2023-11-28T09:32:21.178Z"
   },
   {
    "duration": 21,
    "start_time": "2023-11-28T09:32:21.198Z"
   },
   {
    "duration": 18,
    "start_time": "2023-11-28T09:32:21.220Z"
   },
   {
    "duration": 23,
    "start_time": "2023-11-28T09:32:21.240Z"
   },
   {
    "duration": 1283,
    "start_time": "2023-11-28T09:32:21.265Z"
   },
   {
    "duration": 16,
    "start_time": "2023-11-28T09:32:22.550Z"
   },
   {
    "duration": 40,
    "start_time": "2023-11-28T09:32:22.568Z"
   },
   {
    "duration": 2504,
    "start_time": "2023-11-28T09:32:22.609Z"
   },
   {
    "duration": 204,
    "start_time": "2023-11-28T09:32:25.115Z"
   },
   {
    "duration": 488,
    "start_time": "2023-11-28T09:32:44.826Z"
   },
   {
    "duration": 72731,
    "start_time": "2023-11-28T09:32:48.508Z"
   },
   {
    "duration": 109302,
    "start_time": "2023-11-28T09:34:27.026Z"
   },
   {
    "duration": 145661,
    "start_time": "2023-11-28T09:40:04.166Z"
   },
   {
    "duration": 196,
    "start_time": "2023-11-28T09:44:26.685Z"
   },
   {
    "duration": 6,
    "start_time": "2023-11-28T09:45:36.226Z"
   },
   {
    "duration": 911,
    "start_time": "2023-11-28T09:52:01.704Z"
   },
   {
    "duration": 580,
    "start_time": "2023-11-28T09:52:05.135Z"
   },
   {
    "duration": 472,
    "start_time": "2023-11-28T09:52:07.649Z"
   },
   {
    "duration": 423701,
    "start_time": "2023-11-28T09:52:48.315Z"
   },
   {
    "duration": 2586,
    "start_time": "2023-11-28T14:25:40.294Z"
   },
   {
    "duration": 2528,
    "start_time": "2023-11-28T14:25:42.883Z"
   },
   {
    "duration": 1516,
    "start_time": "2023-11-28T14:25:45.413Z"
   },
   {
    "duration": 2,
    "start_time": "2023-11-28T14:25:46.932Z"
   },
   {
    "duration": 976,
    "start_time": "2023-11-28T14:25:46.936Z"
   },
   {
    "duration": 150,
    "start_time": "2023-11-28T14:25:47.914Z"
   },
   {
    "duration": 176,
    "start_time": "2023-11-28T14:25:48.065Z"
   },
   {
    "duration": 14,
    "start_time": "2023-11-28T14:25:48.242Z"
   },
   {
    "duration": 517,
    "start_time": "2023-11-28T14:25:48.257Z"
   },
   {
    "duration": 1117,
    "start_time": "2023-11-28T14:25:48.776Z"
   },
   {
    "duration": 5,
    "start_time": "2023-11-28T14:25:49.895Z"
   },
   {
    "duration": 102,
    "start_time": "2023-11-28T14:25:49.902Z"
   },
   {
    "duration": 8,
    "start_time": "2023-11-28T14:25:50.014Z"
   },
   {
    "duration": 32,
    "start_time": "2023-11-28T14:25:50.024Z"
   },
   {
    "duration": 151,
    "start_time": "2023-11-28T14:25:50.058Z"
   },
   {
    "duration": 5,
    "start_time": "2023-11-28T14:25:50.210Z"
   },
   {
    "duration": 11,
    "start_time": "2023-11-28T14:25:50.216Z"
   },
   {
    "duration": 13,
    "start_time": "2023-11-28T14:25:50.229Z"
   },
   {
    "duration": 50,
    "start_time": "2023-11-28T14:25:50.244Z"
   },
   {
    "duration": 22,
    "start_time": "2023-11-28T14:25:50.296Z"
   },
   {
    "duration": 11,
    "start_time": "2023-11-28T14:25:50.321Z"
   },
   {
    "duration": 25,
    "start_time": "2023-11-28T14:25:50.334Z"
   },
   {
    "duration": 12,
    "start_time": "2023-11-28T14:25:50.360Z"
   },
   {
    "duration": 5090,
    "start_time": "2023-11-28T14:25:50.373Z"
   },
   {
    "duration": 8,
    "start_time": "2023-11-28T14:25:55.465Z"
   },
   {
    "duration": 35,
    "start_time": "2023-11-28T14:25:55.474Z"
   },
   {
    "duration": 67,
    "start_time": "2023-11-28T14:25:55.511Z"
   },
   {
    "duration": 8,
    "start_time": "2023-11-28T14:25:55.582Z"
   },
   {
    "duration": 127,
    "start_time": "2023-11-28T14:25:55.592Z"
   },
   {
    "duration": 23,
    "start_time": "2023-11-28T14:25:55.720Z"
   },
   {
    "duration": 37,
    "start_time": "2023-11-28T14:25:55.744Z"
   },
   {
    "duration": 53,
    "start_time": "2023-11-28T14:25:55.783Z"
   },
   {
    "duration": 47,
    "start_time": "2023-11-28T14:25:55.838Z"
   },
   {
    "duration": 32,
    "start_time": "2023-11-28T14:25:55.887Z"
   },
   {
    "duration": 23,
    "start_time": "2023-11-28T14:25:55.921Z"
   },
   {
    "duration": 118,
    "start_time": "2023-11-28T14:25:55.946Z"
   },
   {
    "duration": 207,
    "start_time": "2023-11-28T14:25:56.066Z"
   },
   {
    "duration": 84,
    "start_time": "2023-11-28T14:25:56.275Z"
   },
   {
    "duration": 319,
    "start_time": "2023-11-28T14:25:56.360Z"
   },
   {
    "duration": 203,
    "start_time": "2023-11-28T14:25:56.681Z"
   },
   {
    "duration": 17,
    "start_time": "2023-11-28T14:25:56.886Z"
   },
   {
    "duration": 19,
    "start_time": "2023-11-28T14:25:56.914Z"
   },
   {
    "duration": 15,
    "start_time": "2023-11-28T14:25:56.935Z"
   },
   {
    "duration": 292,
    "start_time": "2023-11-28T14:25:56.952Z"
   },
   {
    "duration": 186,
    "start_time": "2023-11-28T14:25:57.245Z"
   },
   {
    "duration": 14,
    "start_time": "2023-11-28T14:25:57.433Z"
   },
   {
    "duration": 290,
    "start_time": "2023-11-28T14:25:57.449Z"
   },
   {
    "duration": 207,
    "start_time": "2023-11-28T14:25:57.741Z"
   },
   {
    "duration": 14,
    "start_time": "2023-11-28T14:25:57.950Z"
   },
   {
    "duration": 10,
    "start_time": "2023-11-28T14:25:57.965Z"
   },
   {
    "duration": 43,
    "start_time": "2023-11-28T14:25:57.977Z"
   },
   {
    "duration": 12,
    "start_time": "2023-11-28T14:25:58.022Z"
   },
   {
    "duration": 275,
    "start_time": "2023-11-28T14:25:58.035Z"
   },
   {
    "duration": 200,
    "start_time": "2023-11-28T14:25:58.314Z"
   },
   {
    "duration": 12,
    "start_time": "2023-11-28T14:25:58.515Z"
   },
   {
    "duration": 93,
    "start_time": "2023-11-28T14:25:58.528Z"
   },
   {
    "duration": 164,
    "start_time": "2023-11-28T14:25:58.623Z"
   },
   {
    "duration": 85,
    "start_time": "2023-11-28T14:25:58.788Z"
   },
   {
    "duration": 8,
    "start_time": "2023-11-28T14:25:58.875Z"
   },
   {
    "duration": 31,
    "start_time": "2023-11-28T14:25:58.885Z"
   },
   {
    "duration": 7,
    "start_time": "2023-11-28T14:25:58.918Z"
   },
   {
    "duration": 38,
    "start_time": "2023-11-28T14:25:58.927Z"
   },
   {
    "duration": 11,
    "start_time": "2023-11-28T14:25:58.967Z"
   },
   {
    "duration": 34,
    "start_time": "2023-11-28T14:25:58.980Z"
   },
   {
    "duration": 13,
    "start_time": "2023-11-28T14:25:59.016Z"
   },
   {
    "duration": 54,
    "start_time": "2023-11-28T14:25:59.031Z"
   },
   {
    "duration": 42,
    "start_time": "2023-11-28T14:25:59.087Z"
   },
   {
    "duration": 26,
    "start_time": "2023-11-28T14:25:59.130Z"
   },
   {
    "duration": 25,
    "start_time": "2023-11-28T14:25:59.157Z"
   },
   {
    "duration": 6,
    "start_time": "2023-11-28T14:25:59.184Z"
   },
   {
    "duration": 24,
    "start_time": "2023-11-28T14:25:59.192Z"
   },
   {
    "duration": 10,
    "start_time": "2023-11-28T14:25:59.218Z"
   },
   {
    "duration": 1324,
    "start_time": "2023-11-28T14:25:59.230Z"
   },
   {
    "duration": 16,
    "start_time": "2023-11-28T14:26:00.557Z"
   },
   {
    "duration": 84,
    "start_time": "2023-11-28T14:26:00.574Z"
   },
   {
    "duration": 2360,
    "start_time": "2023-11-28T14:26:00.660Z"
   },
   {
    "duration": 893,
    "start_time": "2023-11-28T14:26:03.022Z"
   },
   {
    "duration": 878099,
    "start_time": "2023-11-28T14:26:03.918Z"
   },
   {
    "duration": 4622,
    "start_time": "2023-11-28T14:40:42.019Z"
   },
   {
    "duration": 79,
    "start_time": "2023-11-28T14:40:46.642Z"
   },
   {
    "duration": 15,
    "start_time": "2023-11-28T14:40:46.723Z"
   },
   {
    "duration": 381,
    "start_time": "2023-11-28T14:40:46.744Z"
   },
   {
    "duration": 3347,
    "start_time": "2023-11-29T09:59:32.140Z"
   },
   {
    "duration": 2333,
    "start_time": "2023-11-29T09:59:35.489Z"
   },
   {
    "duration": 1552,
    "start_time": "2023-11-29T09:59:37.824Z"
   },
   {
    "duration": 3,
    "start_time": "2023-11-29T09:59:39.379Z"
   },
   {
    "duration": 1108,
    "start_time": "2023-11-29T09:59:39.383Z"
   },
   {
    "duration": 132,
    "start_time": "2023-11-29T09:59:40.492Z"
   },
   {
    "duration": 140,
    "start_time": "2023-11-29T09:59:40.626Z"
   },
   {
    "duration": 13,
    "start_time": "2023-11-29T09:59:40.767Z"
   },
   {
    "duration": 476,
    "start_time": "2023-11-29T09:59:40.781Z"
   },
   {
    "duration": 980,
    "start_time": "2023-11-29T09:59:41.267Z"
   },
   {
    "duration": 6,
    "start_time": "2023-11-29T09:59:42.248Z"
   },
   {
    "duration": 85,
    "start_time": "2023-11-29T09:59:42.266Z"
   },
   {
    "duration": 17,
    "start_time": "2023-11-29T09:59:42.352Z"
   },
   {
    "duration": 9,
    "start_time": "2023-11-29T09:59:42.371Z"
   },
   {
    "duration": 150,
    "start_time": "2023-11-29T09:59:42.381Z"
   },
   {
    "duration": 3,
    "start_time": "2023-11-29T09:59:42.533Z"
   },
   {
    "duration": 23,
    "start_time": "2023-11-29T09:59:42.537Z"
   },
   {
    "duration": 8,
    "start_time": "2023-11-29T09:59:42.562Z"
   },
   {
    "duration": 14,
    "start_time": "2023-11-29T09:59:42.571Z"
   },
   {
    "duration": 23,
    "start_time": "2023-11-29T09:59:42.587Z"
   },
   {
    "duration": 6,
    "start_time": "2023-11-29T09:59:42.612Z"
   },
   {
    "duration": 21,
    "start_time": "2023-11-29T09:59:42.620Z"
   },
   {
    "duration": 12,
    "start_time": "2023-11-29T09:59:42.643Z"
   },
   {
    "duration": 4016,
    "start_time": "2023-11-29T09:59:42.657Z"
   },
   {
    "duration": 7,
    "start_time": "2023-11-29T09:59:46.675Z"
   },
   {
    "duration": 44,
    "start_time": "2023-11-29T09:59:46.684Z"
   },
   {
    "duration": 60,
    "start_time": "2023-11-29T09:59:46.729Z"
   },
   {
    "duration": 10,
    "start_time": "2023-11-29T09:59:46.795Z"
   },
   {
    "duration": 126,
    "start_time": "2023-11-29T09:59:46.807Z"
   },
   {
    "duration": 19,
    "start_time": "2023-11-29T09:59:46.934Z"
   },
   {
    "duration": 38,
    "start_time": "2023-11-29T09:59:46.954Z"
   },
   {
    "duration": 30,
    "start_time": "2023-11-29T09:59:46.993Z"
   },
   {
    "duration": 37,
    "start_time": "2023-11-29T09:59:47.025Z"
   },
   {
    "duration": 36,
    "start_time": "2023-11-29T09:59:47.063Z"
   },
   {
    "duration": 29,
    "start_time": "2023-11-29T09:59:47.101Z"
   },
   {
    "duration": 101,
    "start_time": "2023-11-29T09:59:47.131Z"
   },
   {
    "duration": 173,
    "start_time": "2023-11-29T09:59:47.233Z"
   },
   {
    "duration": 74,
    "start_time": "2023-11-29T09:59:47.408Z"
   },
   {
    "duration": 292,
    "start_time": "2023-11-29T09:59:47.483Z"
   },
   {
    "duration": 185,
    "start_time": "2023-11-29T09:59:47.777Z"
   },
   {
    "duration": 17,
    "start_time": "2023-11-29T09:59:47.963Z"
   },
   {
    "duration": 40,
    "start_time": "2023-11-29T09:59:47.982Z"
   },
   {
    "duration": 20,
    "start_time": "2023-11-29T09:59:48.024Z"
   },
   {
    "duration": 277,
    "start_time": "2023-11-29T09:59:48.045Z"
   },
   {
    "duration": 181,
    "start_time": "2023-11-29T09:59:48.324Z"
   },
   {
    "duration": 14,
    "start_time": "2023-11-29T09:59:48.507Z"
   },
   {
    "duration": 297,
    "start_time": "2023-11-29T09:59:48.523Z"
   },
   {
    "duration": 188,
    "start_time": "2023-11-29T09:59:48.822Z"
   },
   {
    "duration": 16,
    "start_time": "2023-11-29T09:59:49.012Z"
   },
   {
    "duration": 17,
    "start_time": "2023-11-29T09:59:49.030Z"
   },
   {
    "duration": 30,
    "start_time": "2023-11-29T09:59:49.049Z"
   },
   {
    "duration": 12,
    "start_time": "2023-11-29T09:59:49.081Z"
   },
   {
    "duration": 279,
    "start_time": "2023-11-29T09:59:49.094Z"
   },
   {
    "duration": 189,
    "start_time": "2023-11-29T09:59:49.374Z"
   },
   {
    "duration": 11,
    "start_time": "2023-11-29T09:59:49.565Z"
   },
   {
    "duration": 70,
    "start_time": "2023-11-29T09:59:49.577Z"
   },
   {
    "duration": 162,
    "start_time": "2023-11-29T09:59:49.648Z"
   },
   {
    "duration": 77,
    "start_time": "2023-11-29T09:59:49.811Z"
   },
   {
    "duration": 6,
    "start_time": "2023-11-29T09:59:49.890Z"
   },
   {
    "duration": 17,
    "start_time": "2023-11-29T09:59:49.897Z"
   },
   {
    "duration": 11,
    "start_time": "2023-11-29T09:59:49.915Z"
   },
   {
    "duration": 32,
    "start_time": "2023-11-29T09:59:49.927Z"
   },
   {
    "duration": 13,
    "start_time": "2023-11-29T09:59:49.961Z"
   },
   {
    "duration": 11,
    "start_time": "2023-11-29T09:59:49.976Z"
   },
   {
    "duration": 17,
    "start_time": "2023-11-29T09:59:49.988Z"
   },
   {
    "duration": 43,
    "start_time": "2023-11-29T09:59:50.007Z"
   },
   {
    "duration": 34,
    "start_time": "2023-11-29T09:59:50.052Z"
   },
   {
    "duration": 12,
    "start_time": "2023-11-29T09:59:50.087Z"
   },
   {
    "duration": 35,
    "start_time": "2023-11-29T09:59:50.101Z"
   },
   {
    "duration": 32,
    "start_time": "2023-11-29T09:59:50.137Z"
   },
   {
    "duration": 9,
    "start_time": "2023-11-29T09:59:50.171Z"
   },
   {
    "duration": 21,
    "start_time": "2023-11-29T09:59:50.181Z"
   },
   {
    "duration": 1205,
    "start_time": "2023-11-29T09:59:50.203Z"
   },
   {
    "duration": 13,
    "start_time": "2023-11-29T09:59:51.410Z"
   },
   {
    "duration": 44,
    "start_time": "2023-11-29T09:59:51.424Z"
   },
   {
    "duration": 2486,
    "start_time": "2023-11-29T10:00:03.585Z"
   },
   {
    "duration": 535,
    "start_time": "2023-11-29T10:03:28.735Z"
   },
   {
    "duration": 463,
    "start_time": "2023-11-29T10:03:37.602Z"
   },
   {
    "duration": 2502,
    "start_time": "2023-11-29T10:07:34.082Z"
   },
   {
    "duration": 2354,
    "start_time": "2023-11-29T10:07:36.587Z"
   },
   {
    "duration": 1474,
    "start_time": "2023-11-29T10:07:38.943Z"
   },
   {
    "duration": 2,
    "start_time": "2023-11-29T10:07:40.419Z"
   },
   {
    "duration": 843,
    "start_time": "2023-11-29T10:07:40.423Z"
   },
   {
    "duration": 130,
    "start_time": "2023-11-29T10:07:41.267Z"
   },
   {
    "duration": 144,
    "start_time": "2023-11-29T10:07:41.398Z"
   },
   {
    "duration": 12,
    "start_time": "2023-11-29T10:07:41.544Z"
   },
   {
    "duration": 497,
    "start_time": "2023-11-29T10:07:41.557Z"
   },
   {
    "duration": 986,
    "start_time": "2023-11-29T10:07:42.055Z"
   },
   {
    "duration": 5,
    "start_time": "2023-11-29T10:07:43.043Z"
   },
   {
    "duration": 104,
    "start_time": "2023-11-29T10:07:43.049Z"
   },
   {
    "duration": 16,
    "start_time": "2023-11-29T10:07:43.155Z"
   },
   {
    "duration": 18,
    "start_time": "2023-11-29T10:07:43.174Z"
   },
   {
    "duration": 138,
    "start_time": "2023-11-29T10:07:43.193Z"
   },
   {
    "duration": 3,
    "start_time": "2023-11-29T10:07:43.333Z"
   },
   {
    "duration": 33,
    "start_time": "2023-11-29T10:07:43.338Z"
   },
   {
    "duration": 18,
    "start_time": "2023-11-29T10:07:43.373Z"
   },
   {
    "duration": 36,
    "start_time": "2023-11-29T10:07:43.393Z"
   },
   {
    "duration": 31,
    "start_time": "2023-11-29T10:07:43.431Z"
   },
   {
    "duration": 24,
    "start_time": "2023-11-29T10:07:43.464Z"
   },
   {
    "duration": 38,
    "start_time": "2023-11-29T10:07:43.489Z"
   },
   {
    "duration": 24,
    "start_time": "2023-11-29T10:07:43.530Z"
   },
   {
    "duration": 4154,
    "start_time": "2023-11-29T10:07:43.556Z"
   },
   {
    "duration": 8,
    "start_time": "2023-11-29T10:07:47.711Z"
   },
   {
    "duration": 19,
    "start_time": "2023-11-29T10:07:47.720Z"
   },
   {
    "duration": 73,
    "start_time": "2023-11-29T10:07:47.740Z"
   },
   {
    "duration": 8,
    "start_time": "2023-11-29T10:07:47.815Z"
   },
   {
    "duration": 109,
    "start_time": "2023-11-29T10:07:47.824Z"
   },
   {
    "duration": 20,
    "start_time": "2023-11-29T10:07:47.935Z"
   },
   {
    "duration": 19,
    "start_time": "2023-11-29T10:07:47.966Z"
   },
   {
    "duration": 22,
    "start_time": "2023-11-29T10:07:47.987Z"
   },
   {
    "duration": 36,
    "start_time": "2023-11-29T10:07:48.011Z"
   },
   {
    "duration": 28,
    "start_time": "2023-11-29T10:07:48.049Z"
   },
   {
    "duration": 26,
    "start_time": "2023-11-29T10:07:48.079Z"
   },
   {
    "duration": 94,
    "start_time": "2023-11-29T10:07:48.107Z"
   },
   {
    "duration": 173,
    "start_time": "2023-11-29T10:07:48.203Z"
   },
   {
    "duration": 68,
    "start_time": "2023-11-29T10:07:48.378Z"
   },
   {
    "duration": 332,
    "start_time": "2023-11-29T10:07:48.448Z"
   },
   {
    "duration": 188,
    "start_time": "2023-11-29T10:07:48.782Z"
   },
   {
    "duration": 16,
    "start_time": "2023-11-29T10:07:48.974Z"
   },
   {
    "duration": 23,
    "start_time": "2023-11-29T10:07:48.992Z"
   },
   {
    "duration": 32,
    "start_time": "2023-11-29T10:07:49.017Z"
   },
   {
    "duration": 272,
    "start_time": "2023-11-29T10:07:49.051Z"
   },
   {
    "duration": 179,
    "start_time": "2023-11-29T10:07:49.325Z"
   },
   {
    "duration": 14,
    "start_time": "2023-11-29T10:07:49.505Z"
   },
   {
    "duration": 286,
    "start_time": "2023-11-29T10:07:49.521Z"
   },
   {
    "duration": 192,
    "start_time": "2023-11-29T10:07:49.809Z"
   },
   {
    "duration": 14,
    "start_time": "2023-11-29T10:07:50.003Z"
   },
   {
    "duration": 64,
    "start_time": "2023-11-29T10:07:50.019Z"
   },
   {
    "duration": 45,
    "start_time": "2023-11-29T10:07:50.085Z"
   },
   {
    "duration": 61,
    "start_time": "2023-11-29T10:07:50.132Z"
   },
   {
    "duration": 282,
    "start_time": "2023-11-29T10:07:50.195Z"
   },
   {
    "duration": 202,
    "start_time": "2023-11-29T10:07:50.479Z"
   },
   {
    "duration": 11,
    "start_time": "2023-11-29T10:07:50.683Z"
   },
   {
    "duration": 104,
    "start_time": "2023-11-29T10:07:50.696Z"
   },
   {
    "duration": 155,
    "start_time": "2023-11-29T10:07:50.802Z"
   },
   {
    "duration": 76,
    "start_time": "2023-11-29T10:07:50.959Z"
   },
   {
    "duration": 20,
    "start_time": "2023-11-29T10:07:51.036Z"
   },
   {
    "duration": 57,
    "start_time": "2023-11-29T10:07:51.058Z"
   },
   {
    "duration": 39,
    "start_time": "2023-11-29T10:07:51.117Z"
   },
   {
    "duration": 72,
    "start_time": "2023-11-29T10:07:51.158Z"
   },
   {
    "duration": 29,
    "start_time": "2023-11-29T10:07:51.232Z"
   },
   {
    "duration": 54,
    "start_time": "2023-11-29T10:07:51.263Z"
   },
   {
    "duration": 30,
    "start_time": "2023-11-29T10:07:51.319Z"
   },
   {
    "duration": 34,
    "start_time": "2023-11-29T10:07:51.351Z"
   },
   {
    "duration": 37,
    "start_time": "2023-11-29T10:07:51.387Z"
   },
   {
    "duration": 42,
    "start_time": "2023-11-29T10:07:51.425Z"
   },
   {
    "duration": 22,
    "start_time": "2023-11-29T10:07:51.469Z"
   },
   {
    "duration": 23,
    "start_time": "2023-11-29T10:07:51.493Z"
   },
   {
    "duration": 24,
    "start_time": "2023-11-29T10:07:51.517Z"
   },
   {
    "duration": 25,
    "start_time": "2023-11-29T10:07:51.543Z"
   },
   {
    "duration": 1286,
    "start_time": "2023-11-29T10:07:51.570Z"
   },
   {
    "duration": 16,
    "start_time": "2023-11-29T10:07:52.858Z"
   },
   {
    "duration": 42,
    "start_time": "2023-11-29T10:07:52.875Z"
   },
   {
    "duration": 2454,
    "start_time": "2023-11-29T10:07:52.919Z"
   },
   {
    "duration": 706,
    "start_time": "2023-11-29T10:07:55.375Z"
   },
   {
    "duration": 1024806,
    "start_time": "2023-11-29T10:07:56.166Z"
   },
   {
    "duration": 5199,
    "start_time": "2023-11-29T10:25:00.974Z"
   },
   {
    "duration": 13,
    "start_time": "2023-11-29T10:25:06.175Z"
   },
   {
    "duration": 24,
    "start_time": "2023-11-29T10:25:06.189Z"
   },
   {
    "duration": 451,
    "start_time": "2023-11-29T10:25:06.215Z"
   }
  ],
  "kernelspec": {
   "display_name": "Python 3 (ipykernel)",
   "language": "python",
   "name": "python3"
  },
  "language_info": {
   "codemirror_mode": {
    "name": "ipython",
    "version": 3
   },
   "file_extension": ".py",
   "mimetype": "text/x-python",
   "name": "python",
   "nbconvert_exporter": "python",
   "pygments_lexer": "ipython3",
   "version": "3.11.5"
  },
  "toc": {
   "base_numbering": 1,
   "nav_menu": {},
   "number_sections": true,
   "sideBar": true,
   "skip_h1_title": true,
   "title_cell": "Table of Contents",
   "title_sidebar": "Contents",
   "toc_cell": false,
   "toc_position": {
    "height": "calc(100% - 180px)",
    "left": "10px",
    "top": "150px",
    "width": "307.167px"
   },
   "toc_section_display": true,
   "toc_window_display": true
  },
  "toc-autonumbering": true,
  "toc-showcode": false,
  "toc-showmarkdowntxt": false,
  "toc-showtags": false
 },
 "nbformat": 4,
 "nbformat_minor": 4
}
