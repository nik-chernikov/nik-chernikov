{
 "cells": [
  {
   "cell_type": "markdown",
   "id": "GEqQaHzsZ_bA",
   "metadata": {
    "id": "GEqQaHzsZ_bA"
   },
   "source": [
    "# Предсказание стоимости жилья\n",
    "\n",
    "В проекте нам нужно обучить модель линейной регрессии на данных о жилье в Калифорнии в 1990 году. На основе данных нужно предсказать медианную стоимость дома в жилом массиве. Обучим модель и сделаем предсказания на тестовой выборке. Для оценки качества модели будем использовать метрики RMSE, MAE и R2.\n",
    "\n",
    "По условию задачи нам необходимо обучить две модели на разных наборах данных:\n",
    "* используя все данные из файла;\n",
    "* используя только числовые переменные, исключив категориальные."
   ]
  },
  {
   "cell_type": "markdown",
   "id": "53871372",
   "metadata": {
    "id": "53871372"
   },
   "source": [
    "## Подготовка данных"
   ]
  },
  {
   "cell_type": "markdown",
   "id": "0382c59b",
   "metadata": {},
   "source": [
    "### Обзор данных "
   ]
  },
  {
   "cell_type": "code",
   "execution_count": 2,
   "id": "df92e3ec",
   "metadata": {
    "id": "df92e3ec"
   },
   "outputs": [],
   "source": [
    "# Инициализируем Spark-сессию\n",
    "import pandas as pd \n",
    "import numpy as np\n",
    "\n",
    "import pyspark\n",
    "from pyspark.sql import SparkSession\n",
    "from pyspark.sql.types import *\n",
    "import pyspark.sql.functions as F\n",
    "\n",
    "# Импортируем необходимые функции для обучения моделей\n",
    "from pyspark.ml.feature import StringIndexer, OneHotEncoder, VectorAssembler, StandardScaler\n",
    "from pyspark.ml.regression import LinearRegression\n",
    "from pyspark.ml.evaluation import RegressionEvaluator\n",
    "\n",
    "RANDOM_SEED = 12112022\n",
    "\n",
    "spark = SparkSession.builder \\\n",
    "                    .master(\"local\") \\\n",
    "                    .appName(\"EDA California Housing\") \\\n",
    "                    .getOrCreate()"
   ]
  },
  {
   "cell_type": "code",
   "execution_count": 3,
   "id": "039fab09",
   "metadata": {},
   "outputs": [
    {
     "name": "stderr",
     "output_type": "stream",
     "text": [
      "                                                                                \r"
     ]
    },
    {
     "name": "stdout",
     "output_type": "stream",
     "text": [
      "+---------+--------+------------------+-----------+--------------+----------+----------+-------------+------------------+---------------+\n",
      "|longitude|latitude|housing_median_age|total_rooms|total_bedrooms|population|households|median_income|median_house_value|ocean_proximity|\n",
      "+---------+--------+------------------+-----------+--------------+----------+----------+-------------+------------------+---------------+\n",
      "|  -122.23|   37.88|              41.0|      880.0|         129.0|     322.0|     126.0|       8.3252|          452600.0|       NEAR BAY|\n",
      "|  -122.22|   37.86|              21.0|     7099.0|        1106.0|    2401.0|    1138.0|       8.3014|          358500.0|       NEAR BAY|\n",
      "|  -122.24|   37.85|              52.0|     1467.0|         190.0|     496.0|     177.0|       7.2574|          352100.0|       NEAR BAY|\n",
      "|  -122.25|   37.85|              52.0|     1274.0|         235.0|     558.0|     219.0|       5.6431|          341300.0|       NEAR BAY|\n",
      "|  -122.25|   37.85|              52.0|     1627.0|         280.0|     565.0|     259.0|       3.8462|          342200.0|       NEAR BAY|\n",
      "+---------+--------+------------------+-----------+--------------+----------+----------+-------------+------------------+---------------+\n",
      "only showing top 5 rows\n",
      "\n"
     ]
    }
   ],
   "source": [
    "# Прочитаем датасет и выведем первые пять строк\n",
    "df = spark.read.csv('/datasets/housing.csv', inferSchema=True, header=True)\n",
    "df.show(5)"
   ]
  },
  {
   "cell_type": "code",
   "execution_count": 4,
   "id": "803acbe6",
   "metadata": {
    "scrolled": true
   },
   "outputs": [
    {
     "name": "stdout",
     "output_type": "stream",
     "text": [
      "root\n",
      " |-- longitude: double (nullable = true)\n",
      " |-- latitude: double (nullable = true)\n",
      " |-- housing_median_age: double (nullable = true)\n",
      " |-- total_rooms: double (nullable = true)\n",
      " |-- total_bedrooms: double (nullable = true)\n",
      " |-- population: double (nullable = true)\n",
      " |-- households: double (nullable = true)\n",
      " |-- median_income: double (nullable = true)\n",
      " |-- median_house_value: double (nullable = true)\n",
      " |-- ocean_proximity: string (nullable = true)\n",
      "\n"
     ]
    }
   ],
   "source": [
    "# Выведем типы данных через метод PySpark\n",
    "df.printSchema()"
   ]
  },
  {
   "cell_type": "markdown",
   "id": "9cf0df6b",
   "metadata": {},
   "source": [
    "Наш датасет состоит из 10 признаков. 9 признаков - вещественные числа, 1 признак - строковые значения."
   ]
  },
  {
   "cell_type": "code",
   "execution_count": 5,
   "id": "867ad434",
   "metadata": {},
   "outputs": [
    {
     "name": "stderr",
     "output_type": "stream",
     "text": [
      "                                                                                \r"
     ]
    },
    {
     "name": "stdout",
     "output_type": "stream",
     "text": [
      "<class 'pandas.core.frame.DataFrame'>\n",
      "RangeIndex: 20640 entries, 0 to 20639\n",
      "Data columns (total 10 columns):\n",
      " #   Column              Non-Null Count  Dtype  \n",
      "---  ------              --------------  -----  \n",
      " 0   longitude           20640 non-null  float64\n",
      " 1   latitude            20640 non-null  float64\n",
      " 2   housing_median_age  20640 non-null  float64\n",
      " 3   total_rooms         20640 non-null  float64\n",
      " 4   total_bedrooms      20433 non-null  float64\n",
      " 5   population          20640 non-null  float64\n",
      " 6   households          20640 non-null  float64\n",
      " 7   median_income       20640 non-null  float64\n",
      " 8   median_house_value  20640 non-null  float64\n",
      " 9   ocean_proximity     20640 non-null  object \n",
      "dtypes: float64(9), object(1)\n",
      "memory usage: 1.6+ MB\n"
     ]
    }
   ],
   "source": [
    "# Посмотрим на общие сведения по датасету через метод info() из Pandas\n",
    "df.toPandas().info()"
   ]
  },
  {
   "cell_type": "markdown",
   "id": "400ddd11",
   "metadata": {},
   "source": [
    "В датасете чуть больше 20000 объектов. В признаке `total_bedrooms` присутствуют пропуски."
   ]
  },
  {
   "cell_type": "markdown",
   "id": "bedd28ff",
   "metadata": {},
   "source": [
    "Известно, что каждая строка содержит агрегированную статистику о жилом массиве. Жилой массив — минимальная географическая единица с населением от 600 до 3000 человек в зависимости от штата.\n",
    "\n",
    "`median_house_value` (медианная стоимость дома в жилом массиве) является целевым признаком."
   ]
  },
  {
   "cell_type": "markdown",
   "id": "bfc0d6d4",
   "metadata": {},
   "source": [
    "В колонках датасета содержатся следующие данные:\n",
    "\n",
    "* longitude — широта;\n",
    "* latitude — долгота;\n",
    "* housing_median_age — медианный возраст жителей жилого массива;\n",
    "* total_rooms — общее количество комнат в домах жилого массива;\n",
    "* total_bedrooms — общее количество спален в домах жилого массива;\n",
    "* population — количество человек, которые проживают в жилом массиве;\n",
    "* households — количество домовладений в жилом массиве;\n",
    "* median_income — медианный доход жителей жилого массива;\n",
    "* median_house_value — медианная стоимость дома в жилом массиве;\n",
    "* ocean_proximity — близость к океану."
   ]
  },
  {
   "cell_type": "markdown",
   "id": "682b107d",
   "metadata": {},
   "source": [
    "### Предобработка данных "
   ]
  },
  {
   "cell_type": "markdown",
   "id": "a365431a",
   "metadata": {},
   "source": [
    "#### Удаление дубликатов\n"
   ]
  },
  {
   "cell_type": "code",
   "execution_count": 6,
   "id": "9f356dba",
   "metadata": {
    "id": "bddb08c4"
   },
   "outputs": [
    {
     "data": {
      "text/plain": [
       "20640"
      ]
     },
     "execution_count": 6,
     "metadata": {},
     "output_type": "execute_result"
    }
   ],
   "source": [
    "# Посчитаем количество строк в датасете\n",
    "df.count()"
   ]
  },
  {
   "cell_type": "code",
   "execution_count": 7,
   "id": "0c8306f8",
   "metadata": {},
   "outputs": [
    {
     "name": "stderr",
     "output_type": "stream",
     "text": [
      "                                                                                \r"
     ]
    },
    {
     "data": {
      "text/plain": [
       "20640"
      ]
     },
     "execution_count": 7,
     "metadata": {},
     "output_type": "execute_result"
    }
   ],
   "source": [
    "# Отбросим полные дубликаты, если они имеются, и выведем количество строк\n",
    "df = df.drop_duplicates()\n",
    "df.count()"
   ]
  },
  {
   "cell_type": "markdown",
   "id": "029ced14",
   "metadata": {},
   "source": [
    "Количество строк не изменилось, следственно, полных дубликатов не обнаружилось."
   ]
  },
  {
   "cell_type": "markdown",
   "id": "ed7df8e4",
   "metadata": {},
   "source": [
    "#### Обработка пропусков"
   ]
  },
  {
   "cell_type": "code",
   "execution_count": 8,
   "id": "0bb70d12",
   "metadata": {
    "id": "bddb08c4"
   },
   "outputs": [
    {
     "name": "stderr",
     "output_type": "stream",
     "text": [
      "                                                                                \r"
     ]
    },
    {
     "data": {
      "text/plain": [
       "207"
      ]
     },
     "execution_count": 8,
     "metadata": {},
     "output_type": "execute_result"
    }
   ],
   "source": [
    "# Пропуски были обнаружены только в признаке total_bedrooms, посчитаем их количество.\n",
    "df.select('total_bedrooms').where('total_bedrooms is Null').count()"
   ]
  },
  {
   "cell_type": "markdown",
   "id": "0e408ca0",
   "metadata": {},
   "source": [
    "С признаком `total_bedrooms` связан признак `total_rooms`. Логичным предположением является то, что с увеличением количества комнат будет увеличиватся количество спален. Взглянем на корреляцию этих двух признаков."
   ]
  },
  {
   "cell_type": "code",
   "execution_count": 9,
   "id": "090d03c3",
   "metadata": {},
   "outputs": [
    {
     "name": "stderr",
     "output_type": "stream",
     "text": [
      "                                                                                \r"
     ]
    },
    {
     "data": {
      "text/plain": [
       "0.9201961721166266"
      ]
     },
     "execution_count": 9,
     "metadata": {},
     "output_type": "execute_result"
    }
   ],
   "source": [
    "df.stat.corr('total_rooms', 'total_bedrooms')"
   ]
  },
  {
   "cell_type": "markdown",
   "id": "d29fba7b",
   "metadata": {},
   "source": [
    "Сильная положительная корреляция, почти единица. В таком случае имеет смысл заполнить пропуски средней или медианной долей спален по отношению к общему количеству комнат в массивах. Для снижения влияния выбросов будем использовать медианное значение."
   ]
  },
  {
   "cell_type": "code",
   "execution_count": 10,
   "id": "bb271752",
   "metadata": {},
   "outputs": [
    {
     "name": "stdout",
     "output_type": "stream",
     "text": [
      "+---------+--------+------------------+-----------+--------------+----------+----------+-------------+------------------+---------------+--------------+\n",
      "|longitude|latitude|housing_median_age|total_rooms|total_bedrooms|population|households|median_income|median_house_value|ocean_proximity|bedrooms_ratio|\n",
      "+---------+--------+------------------+-----------+--------------+----------+----------+-------------+------------------+---------------+--------------+\n",
      "|  -122.28|   37.81|              52.0|      340.0|          97.0|     200.0|      87.0|       1.5208|          112500.0|       NEAR BAY|         0.285|\n",
      "|  -122.13|   37.67|              40.0|     1748.0|         318.0|     914.0|     317.0|       3.8676|          184000.0|       NEAR BAY|         0.182|\n",
      "|  -122.07|   37.67|              27.0|     3239.0|         671.0|    1469.0|     616.0|       3.2465|          230600.0|       NEAR BAY|         0.207|\n",
      "|  -122.13|   37.66|              19.0|      862.0|         167.0|     407.0|     183.0|       4.3456|          163000.0|       NEAR BAY|         0.194|\n",
      "|  -121.85|   39.73|              52.0|      444.0|          80.0|    1107.0|      98.0|       3.4191|          137500.0|         INLAND|          0.18|\n",
      "+---------+--------+------------------+-----------+--------------+----------+----------+-------------+------------------+---------------+--------------+\n",
      "only showing top 5 rows\n",
      "\n"
     ]
    }
   ],
   "source": [
    "df = df.withColumn('bedrooms_ratio', F.round(F.col('total_bedrooms') / F.col('total_rooms'), 3))\n",
    "df.show(5)"
   ]
  },
  {
   "cell_type": "code",
   "execution_count": 11,
   "id": "8e1e05aa",
   "metadata": {},
   "outputs": [
    {
     "name": "stderr",
     "output_type": "stream",
     "text": [
      "                                                                                \r"
     ]
    },
    {
     "data": {
      "text/plain": [
       "0.203"
      ]
     },
     "execution_count": 11,
     "metadata": {},
     "output_type": "execute_result"
    }
   ],
   "source": [
    "# Найдём медианное значение отношения кол-ва спален к кол-ву комнат\n",
    "bedrooms_ratio_median = df.toPandas().bedrooms_ratio.median()\n",
    "bedrooms_ratio_median"
   ]
  },
  {
   "cell_type": "markdown",
   "id": "47b4b440",
   "metadata": {},
   "source": [
    "0.203 - таково медианное отношение кол-ва спален к кол-ву комнат. Теперь заполним пропуски с его помощью."
   ]
  },
  {
   "cell_type": "code",
   "execution_count": 12,
   "id": "48885f06",
   "metadata": {},
   "outputs": [],
   "source": [
    "# Заполним пропуски по формуле \"Количество комнат в массиве * медианное отношение кол-ва спален к кол-ву комнат\"\n",
    "df = df.withColumn('total_bedrooms', \\\n",
    "                   F.when(F.col('total_bedrooms').isNull(), F.round(F.col('total_rooms') * bedrooms_ratio_median, 0)) \\\n",
    "                   .otherwise(F.col('total_bedrooms')))"
   ]
  },
  {
   "cell_type": "code",
   "execution_count": 13,
   "id": "165f830a",
   "metadata": {},
   "outputs": [
    {
     "name": "stderr",
     "output_type": "stream",
     "text": [
      "                                                                                \r"
     ]
    },
    {
     "data": {
      "text/plain": [
       "0"
      ]
     },
     "execution_count": 13,
     "metadata": {},
     "output_type": "execute_result"
    }
   ],
   "source": [
    "# Проверим, что у нас не осталось пропусков в признаке total_bedrooms\n",
    "df.select('total_bedrooms').where('total_bedrooms is Null').count()"
   ]
  },
  {
   "cell_type": "markdown",
   "id": "f405c040",
   "metadata": {},
   "source": [
    "У нас остались пропуски в вычисляемом признаке `bedrooms_ratio`."
   ]
  },
  {
   "cell_type": "code",
   "execution_count": 14,
   "id": "34b23a34",
   "metadata": {},
   "outputs": [
    {
     "name": "stderr",
     "output_type": "stream",
     "text": [
      "                                                                                \r"
     ]
    },
    {
     "data": {
      "text/plain": [
       "207"
      ]
     },
     "execution_count": 14,
     "metadata": {},
     "output_type": "execute_result"
    }
   ],
   "source": [
    "# Посчитаем их\n",
    "df.select('bedrooms_ratio').where('bedrooms_ratio is Null').count()"
   ]
  },
  {
   "cell_type": "code",
   "execution_count": 15,
   "id": "9f094e15",
   "metadata": {},
   "outputs": [
    {
     "name": "stdout",
     "output_type": "stream",
     "text": [
      "+---------+--------+------------------+-----------+--------------+----------+----------+-------------+------------------+---------------+--------------+\n",
      "|longitude|latitude|housing_median_age|total_rooms|total_bedrooms|population|households|median_income|median_house_value|ocean_proximity|bedrooms_ratio|\n",
      "+---------+--------+------------------+-----------+--------------+----------+----------+-------------+------------------+---------------+--------------+\n",
      "|  -117.09|   32.77|              31.0|     3062.0|         622.0|    1263.0|     539.0|       3.0875|          291500.0|     NEAR OCEAN|          null|\n",
      "|  -121.95|   38.03|               5.0|     5526.0|        1122.0|    3207.0|    1012.0|       4.0767|          143100.0|         INLAND|          null|\n",
      "|  -119.69|   36.83|              32.0|     1098.0|         223.0|     726.0|     224.0|       1.4913|           54600.0|         INLAND|          null|\n",
      "|  -118.18|   34.04|              42.0|     1670.0|         339.0|    1997.0|     452.0|        2.788|          150500.0|      <1H OCEAN|          null|\n",
      "|  -117.86|   34.01|              16.0|     4632.0|         940.0|    3038.0|     727.0|       5.1762|          264400.0|      <1H OCEAN|          null|\n",
      "+---------+--------+------------------+-----------+--------------+----------+----------+-------------+------------------+---------------+--------------+\n",
      "only showing top 5 rows\n",
      "\n"
     ]
    }
   ],
   "source": [
    "# Отобразим первые пять объектов с пропусками в признаке bedrooms_ratio\n",
    "df.where('bedrooms_ratio is Null').show(5)"
   ]
  },
  {
   "cell_type": "code",
   "execution_count": 16,
   "id": "565b247d",
   "metadata": {},
   "outputs": [
    {
     "data": {
      "text/plain": [
       "['longitude',\n",
       " 'latitude',\n",
       " 'housing_median_age',\n",
       " 'total_rooms',\n",
       " 'total_bedrooms',\n",
       " 'population',\n",
       " 'households',\n",
       " 'median_income',\n",
       " 'median_house_value',\n",
       " 'ocean_proximity']"
      ]
     },
     "execution_count": 16,
     "metadata": {},
     "output_type": "execute_result"
    }
   ],
   "source": [
    "# Удалим колонку bedrooms_ratio для уменьшения корреляции с другими колонками\n",
    "df = df.drop('bedrooms_ratio')\n",
    "df.columns"
   ]
  },
  {
   "cell_type": "markdown",
   "id": "aa5122f6",
   "metadata": {},
   "source": [
    "#### Генерация признаков "
   ]
  },
  {
   "cell_type": "markdown",
   "id": "aeac86aa",
   "metadata": {},
   "source": [
    "Добавим ещё 2 признака:\n",
    "\n",
    "- Отношение количества комнат `total_rooms` к количеству домовладений `households`. Назовём колонку `rooms_per_household`.\n",
    "- Отношение количества жителей `population` к количеству домовладений `households`. Назовём колонку `population_in_household`."
   ]
  },
  {
   "cell_type": "code",
   "execution_count": 17,
   "id": "4b71026d",
   "metadata": {},
   "outputs": [
    {
     "name": "stderr",
     "output_type": "stream",
     "text": [
      "                                                                                \r"
     ]
    },
    {
     "data": {
      "text/html": [
       "<div>\n",
       "<style scoped>\n",
       "    .dataframe tbody tr th:only-of-type {\n",
       "        vertical-align: middle;\n",
       "    }\n",
       "\n",
       "    .dataframe tbody tr th {\n",
       "        vertical-align: top;\n",
       "    }\n",
       "\n",
       "    .dataframe thead th {\n",
       "        text-align: right;\n",
       "    }\n",
       "</style>\n",
       "<table border=\"1\" class=\"dataframe\">\n",
       "  <thead>\n",
       "    <tr style=\"text-align: right;\">\n",
       "      <th></th>\n",
       "      <th>longitude</th>\n",
       "      <th>latitude</th>\n",
       "      <th>housing_median_age</th>\n",
       "      <th>total_rooms</th>\n",
       "      <th>total_bedrooms</th>\n",
       "      <th>population</th>\n",
       "      <th>households</th>\n",
       "      <th>median_income</th>\n",
       "      <th>median_house_value</th>\n",
       "      <th>ocean_proximity</th>\n",
       "      <th>rooms_per_household</th>\n",
       "      <th>population_in_household</th>\n",
       "    </tr>\n",
       "  </thead>\n",
       "  <tbody>\n",
       "    <tr>\n",
       "      <th>0</th>\n",
       "      <td>-122.28</td>\n",
       "      <td>37.81</td>\n",
       "      <td>52.0</td>\n",
       "      <td>340.0</td>\n",
       "      <td>97.0</td>\n",
       "      <td>200.0</td>\n",
       "      <td>87.0</td>\n",
       "      <td>1.5208</td>\n",
       "      <td>112500.0</td>\n",
       "      <td>NEAR BAY</td>\n",
       "      <td>3.908046</td>\n",
       "      <td>2.298851</td>\n",
       "    </tr>\n",
       "    <tr>\n",
       "      <th>1</th>\n",
       "      <td>-122.13</td>\n",
       "      <td>37.67</td>\n",
       "      <td>40.0</td>\n",
       "      <td>1748.0</td>\n",
       "      <td>318.0</td>\n",
       "      <td>914.0</td>\n",
       "      <td>317.0</td>\n",
       "      <td>3.8676</td>\n",
       "      <td>184000.0</td>\n",
       "      <td>NEAR BAY</td>\n",
       "      <td>5.514196</td>\n",
       "      <td>2.883281</td>\n",
       "    </tr>\n",
       "    <tr>\n",
       "      <th>2</th>\n",
       "      <td>-122.07</td>\n",
       "      <td>37.67</td>\n",
       "      <td>27.0</td>\n",
       "      <td>3239.0</td>\n",
       "      <td>671.0</td>\n",
       "      <td>1469.0</td>\n",
       "      <td>616.0</td>\n",
       "      <td>3.2465</td>\n",
       "      <td>230600.0</td>\n",
       "      <td>NEAR BAY</td>\n",
       "      <td>5.258117</td>\n",
       "      <td>2.384740</td>\n",
       "    </tr>\n",
       "    <tr>\n",
       "      <th>3</th>\n",
       "      <td>-122.13</td>\n",
       "      <td>37.66</td>\n",
       "      <td>19.0</td>\n",
       "      <td>862.0</td>\n",
       "      <td>167.0</td>\n",
       "      <td>407.0</td>\n",
       "      <td>183.0</td>\n",
       "      <td>4.3456</td>\n",
       "      <td>163000.0</td>\n",
       "      <td>NEAR BAY</td>\n",
       "      <td>4.710383</td>\n",
       "      <td>2.224044</td>\n",
       "    </tr>\n",
       "    <tr>\n",
       "      <th>4</th>\n",
       "      <td>-121.85</td>\n",
       "      <td>39.73</td>\n",
       "      <td>52.0</td>\n",
       "      <td>444.0</td>\n",
       "      <td>80.0</td>\n",
       "      <td>1107.0</td>\n",
       "      <td>98.0</td>\n",
       "      <td>3.4191</td>\n",
       "      <td>137500.0</td>\n",
       "      <td>INLAND</td>\n",
       "      <td>4.530612</td>\n",
       "      <td>11.295918</td>\n",
       "    </tr>\n",
       "  </tbody>\n",
       "</table>\n",
       "</div>"
      ],
      "text/plain": [
       "   longitude  latitude  housing_median_age  total_rooms  total_bedrooms  \\\n",
       "0    -122.28     37.81                52.0        340.0            97.0   \n",
       "1    -122.13     37.67                40.0       1748.0           318.0   \n",
       "2    -122.07     37.67                27.0       3239.0           671.0   \n",
       "3    -122.13     37.66                19.0        862.0           167.0   \n",
       "4    -121.85     39.73                52.0        444.0            80.0   \n",
       "\n",
       "   population  households  median_income  median_house_value ocean_proximity  \\\n",
       "0       200.0        87.0         1.5208            112500.0        NEAR BAY   \n",
       "1       914.0       317.0         3.8676            184000.0        NEAR BAY   \n",
       "2      1469.0       616.0         3.2465            230600.0        NEAR BAY   \n",
       "3       407.0       183.0         4.3456            163000.0        NEAR BAY   \n",
       "4      1107.0        98.0         3.4191            137500.0          INLAND   \n",
       "\n",
       "   rooms_per_household  population_in_household  \n",
       "0             3.908046                 2.298851  \n",
       "1             5.514196                 2.883281  \n",
       "2             5.258117                 2.384740  \n",
       "3             4.710383                 2.224044  \n",
       "4             4.530612                11.295918  "
      ]
     },
     "execution_count": 17,
     "metadata": {},
     "output_type": "execute_result"
    }
   ],
   "source": [
    "df = df.withColumn('rooms_per_household', F.col('total_rooms') / F.col('households'))\n",
    "df = df.withColumn('population_in_household', F.col('population') / F.col('households'))\n",
    "\n",
    "df.toPandas().head()"
   ]
  },
  {
   "cell_type": "markdown",
   "id": "a902a6f4",
   "metadata": {},
   "source": [
    "#### Описательная статистика\n"
   ]
  },
  {
   "cell_type": "code",
   "execution_count": 18,
   "id": "750bd66b",
   "metadata": {},
   "outputs": [
    {
     "name": "stderr",
     "output_type": "stream",
     "text": [
      "                                                                                \r"
     ]
    },
    {
     "data": {
      "text/html": [
       "<div>\n",
       "<style scoped>\n",
       "    .dataframe tbody tr th:only-of-type {\n",
       "        vertical-align: middle;\n",
       "    }\n",
       "\n",
       "    .dataframe tbody tr th {\n",
       "        vertical-align: top;\n",
       "    }\n",
       "\n",
       "    .dataframe thead th {\n",
       "        text-align: right;\n",
       "    }\n",
       "</style>\n",
       "<table border=\"1\" class=\"dataframe\">\n",
       "  <thead>\n",
       "    <tr style=\"text-align: right;\">\n",
       "      <th></th>\n",
       "      <th>longitude</th>\n",
       "      <th>latitude</th>\n",
       "      <th>housing_median_age</th>\n",
       "      <th>total_rooms</th>\n",
       "      <th>total_bedrooms</th>\n",
       "      <th>population</th>\n",
       "      <th>households</th>\n",
       "      <th>median_income</th>\n",
       "      <th>median_house_value</th>\n",
       "      <th>rooms_per_household</th>\n",
       "      <th>population_in_household</th>\n",
       "    </tr>\n",
       "  </thead>\n",
       "  <tbody>\n",
       "    <tr>\n",
       "      <th>count</th>\n",
       "      <td>20640.000000</td>\n",
       "      <td>20640.000000</td>\n",
       "      <td>20640.000000</td>\n",
       "      <td>20640.000000</td>\n",
       "      <td>20640.000000</td>\n",
       "      <td>20640.000000</td>\n",
       "      <td>20640.000000</td>\n",
       "      <td>20640.000000</td>\n",
       "      <td>20640.000000</td>\n",
       "      <td>20640.000000</td>\n",
       "      <td>20640.000000</td>\n",
       "    </tr>\n",
       "    <tr>\n",
       "      <th>mean</th>\n",
       "      <td>-119.569704</td>\n",
       "      <td>35.631861</td>\n",
       "      <td>28.639486</td>\n",
       "      <td>2635.763081</td>\n",
       "      <td>537.693120</td>\n",
       "      <td>1425.476744</td>\n",
       "      <td>499.539680</td>\n",
       "      <td>3.870671</td>\n",
       "      <td>206855.816909</td>\n",
       "      <td>5.429000</td>\n",
       "      <td>3.070655</td>\n",
       "    </tr>\n",
       "    <tr>\n",
       "      <th>std</th>\n",
       "      <td>2.003532</td>\n",
       "      <td>2.135952</td>\n",
       "      <td>12.585558</td>\n",
       "      <td>2181.615252</td>\n",
       "      <td>420.834094</td>\n",
       "      <td>1132.462122</td>\n",
       "      <td>382.329753</td>\n",
       "      <td>1.899822</td>\n",
       "      <td>115395.615874</td>\n",
       "      <td>2.474173</td>\n",
       "      <td>10.386050</td>\n",
       "    </tr>\n",
       "    <tr>\n",
       "      <th>min</th>\n",
       "      <td>-124.350000</td>\n",
       "      <td>32.540000</td>\n",
       "      <td>1.000000</td>\n",
       "      <td>2.000000</td>\n",
       "      <td>1.000000</td>\n",
       "      <td>3.000000</td>\n",
       "      <td>1.000000</td>\n",
       "      <td>0.499900</td>\n",
       "      <td>14999.000000</td>\n",
       "      <td>0.846154</td>\n",
       "      <td>0.692308</td>\n",
       "    </tr>\n",
       "    <tr>\n",
       "      <th>25%</th>\n",
       "      <td>-121.800000</td>\n",
       "      <td>33.930000</td>\n",
       "      <td>18.000000</td>\n",
       "      <td>1447.750000</td>\n",
       "      <td>295.000000</td>\n",
       "      <td>787.000000</td>\n",
       "      <td>280.000000</td>\n",
       "      <td>2.563400</td>\n",
       "      <td>119600.000000</td>\n",
       "      <td>4.440716</td>\n",
       "      <td>2.429741</td>\n",
       "    </tr>\n",
       "    <tr>\n",
       "      <th>50%</th>\n",
       "      <td>-118.490000</td>\n",
       "      <td>34.260000</td>\n",
       "      <td>29.000000</td>\n",
       "      <td>2127.000000</td>\n",
       "      <td>435.000000</td>\n",
       "      <td>1166.000000</td>\n",
       "      <td>409.000000</td>\n",
       "      <td>3.534800</td>\n",
       "      <td>179700.000000</td>\n",
       "      <td>5.229129</td>\n",
       "      <td>2.818116</td>\n",
       "    </tr>\n",
       "    <tr>\n",
       "      <th>75%</th>\n",
       "      <td>-118.010000</td>\n",
       "      <td>37.710000</td>\n",
       "      <td>37.000000</td>\n",
       "      <td>3148.000000</td>\n",
       "      <td>647.000000</td>\n",
       "      <td>1725.000000</td>\n",
       "      <td>605.000000</td>\n",
       "      <td>4.743250</td>\n",
       "      <td>264725.000000</td>\n",
       "      <td>6.052381</td>\n",
       "      <td>3.282261</td>\n",
       "    </tr>\n",
       "    <tr>\n",
       "      <th>max</th>\n",
       "      <td>-114.310000</td>\n",
       "      <td>41.950000</td>\n",
       "      <td>52.000000</td>\n",
       "      <td>39320.000000</td>\n",
       "      <td>6445.000000</td>\n",
       "      <td>35682.000000</td>\n",
       "      <td>6082.000000</td>\n",
       "      <td>15.000100</td>\n",
       "      <td>500001.000000</td>\n",
       "      <td>141.909091</td>\n",
       "      <td>1243.333333</td>\n",
       "    </tr>\n",
       "  </tbody>\n",
       "</table>\n",
       "</div>"
      ],
      "text/plain": [
       "          longitude      latitude  housing_median_age   total_rooms  \\\n",
       "count  20640.000000  20640.000000        20640.000000  20640.000000   \n",
       "mean    -119.569704     35.631861           28.639486   2635.763081   \n",
       "std        2.003532      2.135952           12.585558   2181.615252   \n",
       "min     -124.350000     32.540000            1.000000      2.000000   \n",
       "25%     -121.800000     33.930000           18.000000   1447.750000   \n",
       "50%     -118.490000     34.260000           29.000000   2127.000000   \n",
       "75%     -118.010000     37.710000           37.000000   3148.000000   \n",
       "max     -114.310000     41.950000           52.000000  39320.000000   \n",
       "\n",
       "       total_bedrooms    population    households  median_income  \\\n",
       "count    20640.000000  20640.000000  20640.000000   20640.000000   \n",
       "mean       537.693120   1425.476744    499.539680       3.870671   \n",
       "std        420.834094   1132.462122    382.329753       1.899822   \n",
       "min          1.000000      3.000000      1.000000       0.499900   \n",
       "25%        295.000000    787.000000    280.000000       2.563400   \n",
       "50%        435.000000   1166.000000    409.000000       3.534800   \n",
       "75%        647.000000   1725.000000    605.000000       4.743250   \n",
       "max       6445.000000  35682.000000   6082.000000      15.000100   \n",
       "\n",
       "       median_house_value  rooms_per_household  population_in_household  \n",
       "count        20640.000000         20640.000000             20640.000000  \n",
       "mean        206855.816909             5.429000                 3.070655  \n",
       "std         115395.615874             2.474173                10.386050  \n",
       "min          14999.000000             0.846154                 0.692308  \n",
       "25%         119600.000000             4.440716                 2.429741  \n",
       "50%         179700.000000             5.229129                 2.818116  \n",
       "75%         264725.000000             6.052381                 3.282261  \n",
       "max         500001.000000           141.909091              1243.333333  "
      ]
     },
     "execution_count": 18,
     "metadata": {},
     "output_type": "execute_result"
    }
   ],
   "source": [
    "df.toPandas().describe()"
   ]
  },
  {
   "cell_type": "code",
   "execution_count": 19,
   "id": "401a5188",
   "metadata": {},
   "outputs": [
    {
     "name": "stderr",
     "output_type": "stream",
     "text": [
      "                                                                                \r"
     ]
    },
    {
     "data": {
      "text/html": [
       "<div>\n",
       "<style scoped>\n",
       "    .dataframe tbody tr th:only-of-type {\n",
       "        vertical-align: middle;\n",
       "    }\n",
       "\n",
       "    .dataframe tbody tr th {\n",
       "        vertical-align: top;\n",
       "    }\n",
       "\n",
       "    .dataframe thead th {\n",
       "        text-align: right;\n",
       "    }\n",
       "</style>\n",
       "<table border=\"1\" class=\"dataframe\">\n",
       "  <thead>\n",
       "    <tr style=\"text-align: right;\">\n",
       "      <th></th>\n",
       "      <th>longitude</th>\n",
       "      <th>latitude</th>\n",
       "      <th>housing_median_age</th>\n",
       "      <th>total_rooms</th>\n",
       "      <th>total_bedrooms</th>\n",
       "      <th>population</th>\n",
       "      <th>households</th>\n",
       "      <th>median_income</th>\n",
       "      <th>median_house_value</th>\n",
       "      <th>rooms_per_household</th>\n",
       "      <th>population_in_household</th>\n",
       "    </tr>\n",
       "  </thead>\n",
       "  <tbody>\n",
       "    <tr>\n",
       "      <th>longitude</th>\n",
       "      <td>1.000000</td>\n",
       "      <td>-0.924664</td>\n",
       "      <td>-0.108197</td>\n",
       "      <td>0.044568</td>\n",
       "      <td>0.068439</td>\n",
       "      <td>0.099773</td>\n",
       "      <td>0.055310</td>\n",
       "      <td>-0.015176</td>\n",
       "      <td>-0.045967</td>\n",
       "      <td>-0.027540</td>\n",
       "      <td>0.002476</td>\n",
       "    </tr>\n",
       "    <tr>\n",
       "      <th>latitude</th>\n",
       "      <td>-0.924664</td>\n",
       "      <td>1.000000</td>\n",
       "      <td>0.011173</td>\n",
       "      <td>-0.036100</td>\n",
       "      <td>-0.066125</td>\n",
       "      <td>-0.108785</td>\n",
       "      <td>-0.071035</td>\n",
       "      <td>-0.079809</td>\n",
       "      <td>-0.144160</td>\n",
       "      <td>0.106389</td>\n",
       "      <td>0.002366</td>\n",
       "    </tr>\n",
       "    <tr>\n",
       "      <th>housing_median_age</th>\n",
       "      <td>-0.108197</td>\n",
       "      <td>0.011173</td>\n",
       "      <td>1.000000</td>\n",
       "      <td>-0.361262</td>\n",
       "      <td>-0.321470</td>\n",
       "      <td>-0.296244</td>\n",
       "      <td>-0.302916</td>\n",
       "      <td>-0.119034</td>\n",
       "      <td>0.105623</td>\n",
       "      <td>-0.153277</td>\n",
       "      <td>0.013191</td>\n",
       "    </tr>\n",
       "    <tr>\n",
       "      <th>total_rooms</th>\n",
       "      <td>0.044568</td>\n",
       "      <td>-0.036100</td>\n",
       "      <td>-0.361262</td>\n",
       "      <td>1.000000</td>\n",
       "      <td>0.930862</td>\n",
       "      <td>0.857126</td>\n",
       "      <td>0.918484</td>\n",
       "      <td>0.198050</td>\n",
       "      <td>0.134153</td>\n",
       "      <td>0.133798</td>\n",
       "      <td>-0.024581</td>\n",
       "    </tr>\n",
       "    <tr>\n",
       "      <th>total_bedrooms</th>\n",
       "      <td>0.068439</td>\n",
       "      <td>-0.066125</td>\n",
       "      <td>-0.321470</td>\n",
       "      <td>0.930862</td>\n",
       "      <td>1.000000</td>\n",
       "      <td>0.877451</td>\n",
       "      <td>0.978731</td>\n",
       "      <td>-0.005675</td>\n",
       "      <td>0.051299</td>\n",
       "      <td>0.002551</td>\n",
       "      <td>-0.028319</td>\n",
       "    </tr>\n",
       "    <tr>\n",
       "      <th>population</th>\n",
       "      <td>0.099773</td>\n",
       "      <td>-0.108785</td>\n",
       "      <td>-0.296244</td>\n",
       "      <td>0.857126</td>\n",
       "      <td>0.877451</td>\n",
       "      <td>1.000000</td>\n",
       "      <td>0.907222</td>\n",
       "      <td>0.004834</td>\n",
       "      <td>-0.024650</td>\n",
       "      <td>-0.072213</td>\n",
       "      <td>0.069863</td>\n",
       "    </tr>\n",
       "    <tr>\n",
       "      <th>households</th>\n",
       "      <td>0.055310</td>\n",
       "      <td>-0.071035</td>\n",
       "      <td>-0.302916</td>\n",
       "      <td>0.918484</td>\n",
       "      <td>0.978731</td>\n",
       "      <td>0.907222</td>\n",
       "      <td>1.000000</td>\n",
       "      <td>0.013033</td>\n",
       "      <td>0.065843</td>\n",
       "      <td>-0.080598</td>\n",
       "      <td>-0.027309</td>\n",
       "    </tr>\n",
       "    <tr>\n",
       "      <th>median_income</th>\n",
       "      <td>-0.015176</td>\n",
       "      <td>-0.079809</td>\n",
       "      <td>-0.119034</td>\n",
       "      <td>0.198050</td>\n",
       "      <td>-0.005675</td>\n",
       "      <td>0.004834</td>\n",
       "      <td>0.013033</td>\n",
       "      <td>1.000000</td>\n",
       "      <td>0.688075</td>\n",
       "      <td>0.326895</td>\n",
       "      <td>0.018766</td>\n",
       "    </tr>\n",
       "    <tr>\n",
       "      <th>median_house_value</th>\n",
       "      <td>-0.045967</td>\n",
       "      <td>-0.144160</td>\n",
       "      <td>0.105623</td>\n",
       "      <td>0.134153</td>\n",
       "      <td>0.051299</td>\n",
       "      <td>-0.024650</td>\n",
       "      <td>0.065843</td>\n",
       "      <td>0.688075</td>\n",
       "      <td>1.000000</td>\n",
       "      <td>0.151948</td>\n",
       "      <td>-0.023737</td>\n",
       "    </tr>\n",
       "    <tr>\n",
       "      <th>rooms_per_household</th>\n",
       "      <td>-0.027540</td>\n",
       "      <td>0.106389</td>\n",
       "      <td>-0.153277</td>\n",
       "      <td>0.133798</td>\n",
       "      <td>0.002551</td>\n",
       "      <td>-0.072213</td>\n",
       "      <td>-0.080598</td>\n",
       "      <td>0.326895</td>\n",
       "      <td>0.151948</td>\n",
       "      <td>1.000000</td>\n",
       "      <td>-0.004852</td>\n",
       "    </tr>\n",
       "    <tr>\n",
       "      <th>population_in_household</th>\n",
       "      <td>0.002476</td>\n",
       "      <td>0.002366</td>\n",
       "      <td>0.013191</td>\n",
       "      <td>-0.024581</td>\n",
       "      <td>-0.028319</td>\n",
       "      <td>0.069863</td>\n",
       "      <td>-0.027309</td>\n",
       "      <td>0.018766</td>\n",
       "      <td>-0.023737</td>\n",
       "      <td>-0.004852</td>\n",
       "      <td>1.000000</td>\n",
       "    </tr>\n",
       "  </tbody>\n",
       "</table>\n",
       "</div>"
      ],
      "text/plain": [
       "                         longitude  latitude  housing_median_age  total_rooms  \\\n",
       "longitude                 1.000000 -0.924664           -0.108197     0.044568   \n",
       "latitude                 -0.924664  1.000000            0.011173    -0.036100   \n",
       "housing_median_age       -0.108197  0.011173            1.000000    -0.361262   \n",
       "total_rooms               0.044568 -0.036100           -0.361262     1.000000   \n",
       "total_bedrooms            0.068439 -0.066125           -0.321470     0.930862   \n",
       "population                0.099773 -0.108785           -0.296244     0.857126   \n",
       "households                0.055310 -0.071035           -0.302916     0.918484   \n",
       "median_income            -0.015176 -0.079809           -0.119034     0.198050   \n",
       "median_house_value       -0.045967 -0.144160            0.105623     0.134153   \n",
       "rooms_per_household      -0.027540  0.106389           -0.153277     0.133798   \n",
       "population_in_household   0.002476  0.002366            0.013191    -0.024581   \n",
       "\n",
       "                         total_bedrooms  population  households  \\\n",
       "longitude                      0.068439    0.099773    0.055310   \n",
       "latitude                      -0.066125   -0.108785   -0.071035   \n",
       "housing_median_age            -0.321470   -0.296244   -0.302916   \n",
       "total_rooms                    0.930862    0.857126    0.918484   \n",
       "total_bedrooms                 1.000000    0.877451    0.978731   \n",
       "population                     0.877451    1.000000    0.907222   \n",
       "households                     0.978731    0.907222    1.000000   \n",
       "median_income                 -0.005675    0.004834    0.013033   \n",
       "median_house_value             0.051299   -0.024650    0.065843   \n",
       "rooms_per_household            0.002551   -0.072213   -0.080598   \n",
       "population_in_household       -0.028319    0.069863   -0.027309   \n",
       "\n",
       "                         median_income  median_house_value  \\\n",
       "longitude                    -0.015176           -0.045967   \n",
       "latitude                     -0.079809           -0.144160   \n",
       "housing_median_age           -0.119034            0.105623   \n",
       "total_rooms                   0.198050            0.134153   \n",
       "total_bedrooms               -0.005675            0.051299   \n",
       "population                    0.004834           -0.024650   \n",
       "households                    0.013033            0.065843   \n",
       "median_income                 1.000000            0.688075   \n",
       "median_house_value            0.688075            1.000000   \n",
       "rooms_per_household           0.326895            0.151948   \n",
       "population_in_household       0.018766           -0.023737   \n",
       "\n",
       "                         rooms_per_household  population_in_household  \n",
       "longitude                          -0.027540                 0.002476  \n",
       "latitude                            0.106389                 0.002366  \n",
       "housing_median_age                 -0.153277                 0.013191  \n",
       "total_rooms                         0.133798                -0.024581  \n",
       "total_bedrooms                      0.002551                -0.028319  \n",
       "population                         -0.072213                 0.069863  \n",
       "households                         -0.080598                -0.027309  \n",
       "median_income                       0.326895                 0.018766  \n",
       "median_house_value                  0.151948                -0.023737  \n",
       "rooms_per_household                 1.000000                -0.004852  \n",
       "population_in_household            -0.004852                 1.000000  "
      ]
     },
     "execution_count": 19,
     "metadata": {},
     "output_type": "execute_result"
    }
   ],
   "source": [
    "df.toPandas().corr()"
   ]
  },
  {
   "cell_type": "code",
   "execution_count": 20,
   "id": "7f898109",
   "metadata": {},
   "outputs": [
    {
     "name": "stderr",
     "output_type": "stream",
     "text": [
      "                                                                                \r"
     ]
    },
    {
     "data": {
      "text/plain": [
       "<1H OCEAN     9136\n",
       "INLAND        6551\n",
       "NEAR OCEAN    2658\n",
       "NEAR BAY      2290\n",
       "ISLAND           5\n",
       "Name: ocean_proximity, dtype: int64"
      ]
     },
     "execution_count": 20,
     "metadata": {},
     "output_type": "execute_result"
    }
   ],
   "source": [
    "df.toPandas().ocean_proximity.value_counts()"
   ]
  },
  {
   "cell_type": "code",
   "execution_count": 21,
   "id": "88600718",
   "metadata": {},
   "outputs": [
    {
     "name": "stderr",
     "output_type": "stream",
     "text": [
      "                                                                                \r"
     ]
    },
    {
     "data": {
      "text/html": [
       "<div>\n",
       "<style scoped>\n",
       "    .dataframe tbody tr th:only-of-type {\n",
       "        vertical-align: middle;\n",
       "    }\n",
       "\n",
       "    .dataframe tbody tr th {\n",
       "        vertical-align: top;\n",
       "    }\n",
       "\n",
       "    .dataframe thead th {\n",
       "        text-align: right;\n",
       "    }\n",
       "</style>\n",
       "<table border=\"1\" class=\"dataframe\">\n",
       "  <thead>\n",
       "    <tr style=\"text-align: right;\">\n",
       "      <th></th>\n",
       "      <th>longitude</th>\n",
       "      <th>latitude</th>\n",
       "      <th>housing_median_age</th>\n",
       "      <th>total_rooms</th>\n",
       "      <th>total_bedrooms</th>\n",
       "      <th>population</th>\n",
       "      <th>households</th>\n",
       "      <th>median_income</th>\n",
       "      <th>median_house_value</th>\n",
       "      <th>ocean_proximity</th>\n",
       "      <th>rooms_per_household</th>\n",
       "      <th>population_in_household</th>\n",
       "    </tr>\n",
       "  </thead>\n",
       "  <tbody>\n",
       "    <tr>\n",
       "      <th>0</th>\n",
       "      <td>-122.28</td>\n",
       "      <td>37.81</td>\n",
       "      <td>52.0</td>\n",
       "      <td>340.0</td>\n",
       "      <td>97.0</td>\n",
       "      <td>200.0</td>\n",
       "      <td>87.0</td>\n",
       "      <td>1.5208</td>\n",
       "      <td>112500.0</td>\n",
       "      <td>NEAR BAY</td>\n",
       "      <td>3.908046</td>\n",
       "      <td>2.298851</td>\n",
       "    </tr>\n",
       "    <tr>\n",
       "      <th>1</th>\n",
       "      <td>-122.13</td>\n",
       "      <td>37.67</td>\n",
       "      <td>40.0</td>\n",
       "      <td>1748.0</td>\n",
       "      <td>318.0</td>\n",
       "      <td>914.0</td>\n",
       "      <td>317.0</td>\n",
       "      <td>3.8676</td>\n",
       "      <td>184000.0</td>\n",
       "      <td>NEAR BAY</td>\n",
       "      <td>5.514196</td>\n",
       "      <td>2.883281</td>\n",
       "    </tr>\n",
       "    <tr>\n",
       "      <th>2</th>\n",
       "      <td>-122.07</td>\n",
       "      <td>37.67</td>\n",
       "      <td>27.0</td>\n",
       "      <td>3239.0</td>\n",
       "      <td>671.0</td>\n",
       "      <td>1469.0</td>\n",
       "      <td>616.0</td>\n",
       "      <td>3.2465</td>\n",
       "      <td>230600.0</td>\n",
       "      <td>NEAR BAY</td>\n",
       "      <td>5.258117</td>\n",
       "      <td>2.384740</td>\n",
       "    </tr>\n",
       "    <tr>\n",
       "      <th>3</th>\n",
       "      <td>-122.13</td>\n",
       "      <td>37.66</td>\n",
       "      <td>19.0</td>\n",
       "      <td>862.0</td>\n",
       "      <td>167.0</td>\n",
       "      <td>407.0</td>\n",
       "      <td>183.0</td>\n",
       "      <td>4.3456</td>\n",
       "      <td>163000.0</td>\n",
       "      <td>NEAR BAY</td>\n",
       "      <td>4.710383</td>\n",
       "      <td>2.224044</td>\n",
       "    </tr>\n",
       "    <tr>\n",
       "      <th>4</th>\n",
       "      <td>-121.85</td>\n",
       "      <td>39.73</td>\n",
       "      <td>52.0</td>\n",
       "      <td>444.0</td>\n",
       "      <td>80.0</td>\n",
       "      <td>1107.0</td>\n",
       "      <td>98.0</td>\n",
       "      <td>3.4191</td>\n",
       "      <td>137500.0</td>\n",
       "      <td>INLAND</td>\n",
       "      <td>4.530612</td>\n",
       "      <td>11.295918</td>\n",
       "    </tr>\n",
       "    <tr>\n",
       "      <th>...</th>\n",
       "      <td>...</td>\n",
       "      <td>...</td>\n",
       "      <td>...</td>\n",
       "      <td>...</td>\n",
       "      <td>...</td>\n",
       "      <td>...</td>\n",
       "      <td>...</td>\n",
       "      <td>...</td>\n",
       "      <td>...</td>\n",
       "      <td>...</td>\n",
       "      <td>...</td>\n",
       "      <td>...</td>\n",
       "    </tr>\n",
       "    <tr>\n",
       "      <th>20635</th>\n",
       "      <td>-120.89</td>\n",
       "      <td>37.59</td>\n",
       "      <td>33.0</td>\n",
       "      <td>1016.0</td>\n",
       "      <td>206.0</td>\n",
       "      <td>617.0</td>\n",
       "      <td>209.0</td>\n",
       "      <td>2.1510</td>\n",
       "      <td>195800.0</td>\n",
       "      <td>INLAND</td>\n",
       "      <td>4.861244</td>\n",
       "      <td>2.952153</td>\n",
       "    </tr>\n",
       "    <tr>\n",
       "      <th>20636</th>\n",
       "      <td>-121.62</td>\n",
       "      <td>39.09</td>\n",
       "      <td>21.0</td>\n",
       "      <td>2693.0</td>\n",
       "      <td>481.0</td>\n",
       "      <td>1337.0</td>\n",
       "      <td>435.0</td>\n",
       "      <td>3.8534</td>\n",
       "      <td>99700.0</td>\n",
       "      <td>INLAND</td>\n",
       "      <td>6.190805</td>\n",
       "      <td>3.073563</td>\n",
       "    </tr>\n",
       "    <tr>\n",
       "      <th>20637</th>\n",
       "      <td>-119.34</td>\n",
       "      <td>36.22</td>\n",
       "      <td>38.0</td>\n",
       "      <td>2708.0</td>\n",
       "      <td>460.0</td>\n",
       "      <td>1260.0</td>\n",
       "      <td>455.0</td>\n",
       "      <td>3.0905</td>\n",
       "      <td>78200.0</td>\n",
       "      <td>INLAND</td>\n",
       "      <td>5.951648</td>\n",
       "      <td>2.769231</td>\n",
       "    </tr>\n",
       "    <tr>\n",
       "      <th>20638</th>\n",
       "      <td>-119.18</td>\n",
       "      <td>34.28</td>\n",
       "      <td>17.0</td>\n",
       "      <td>4526.0</td>\n",
       "      <td>717.0</td>\n",
       "      <td>2088.0</td>\n",
       "      <td>655.0</td>\n",
       "      <td>5.6885</td>\n",
       "      <td>268200.0</td>\n",
       "      <td>NEAR OCEAN</td>\n",
       "      <td>6.909924</td>\n",
       "      <td>3.187786</td>\n",
       "    </tr>\n",
       "    <tr>\n",
       "      <th>20639</th>\n",
       "      <td>-119.17</td>\n",
       "      <td>34.17</td>\n",
       "      <td>42.0</td>\n",
       "      <td>1411.0</td>\n",
       "      <td>300.0</td>\n",
       "      <td>1295.0</td>\n",
       "      <td>339.0</td>\n",
       "      <td>2.6667</td>\n",
       "      <td>164900.0</td>\n",
       "      <td>NEAR OCEAN</td>\n",
       "      <td>4.162242</td>\n",
       "      <td>3.820059</td>\n",
       "    </tr>\n",
       "  </tbody>\n",
       "</table>\n",
       "<p>20640 rows × 12 columns</p>\n",
       "</div>"
      ],
      "text/plain": [
       "       longitude  latitude  housing_median_age  total_rooms  total_bedrooms  \\\n",
       "0        -122.28     37.81                52.0        340.0            97.0   \n",
       "1        -122.13     37.67                40.0       1748.0           318.0   \n",
       "2        -122.07     37.67                27.0       3239.0           671.0   \n",
       "3        -122.13     37.66                19.0        862.0           167.0   \n",
       "4        -121.85     39.73                52.0        444.0            80.0   \n",
       "...          ...       ...                 ...          ...             ...   \n",
       "20635    -120.89     37.59                33.0       1016.0           206.0   \n",
       "20636    -121.62     39.09                21.0       2693.0           481.0   \n",
       "20637    -119.34     36.22                38.0       2708.0           460.0   \n",
       "20638    -119.18     34.28                17.0       4526.0           717.0   \n",
       "20639    -119.17     34.17                42.0       1411.0           300.0   \n",
       "\n",
       "       population  households  median_income  median_house_value  \\\n",
       "0           200.0        87.0         1.5208            112500.0   \n",
       "1           914.0       317.0         3.8676            184000.0   \n",
       "2          1469.0       616.0         3.2465            230600.0   \n",
       "3           407.0       183.0         4.3456            163000.0   \n",
       "4          1107.0        98.0         3.4191            137500.0   \n",
       "...           ...         ...            ...                 ...   \n",
       "20635       617.0       209.0         2.1510            195800.0   \n",
       "20636      1337.0       435.0         3.8534             99700.0   \n",
       "20637      1260.0       455.0         3.0905             78200.0   \n",
       "20638      2088.0       655.0         5.6885            268200.0   \n",
       "20639      1295.0       339.0         2.6667            164900.0   \n",
       "\n",
       "      ocean_proximity  rooms_per_household  population_in_household  \n",
       "0            NEAR BAY             3.908046                 2.298851  \n",
       "1            NEAR BAY             5.514196                 2.883281  \n",
       "2            NEAR BAY             5.258117                 2.384740  \n",
       "3            NEAR BAY             4.710383                 2.224044  \n",
       "4              INLAND             4.530612                11.295918  \n",
       "...               ...                  ...                      ...  \n",
       "20635          INLAND             4.861244                 2.952153  \n",
       "20636          INLAND             6.190805                 3.073563  \n",
       "20637          INLAND             5.951648                 2.769231  \n",
       "20638      NEAR OCEAN             6.909924                 3.187786  \n",
       "20639      NEAR OCEAN             4.162242                 3.820059  \n",
       "\n",
       "[20640 rows x 12 columns]"
      ]
     },
     "execution_count": 21,
     "metadata": {},
     "output_type": "execute_result"
    }
   ],
   "source": [
    "df.toPandas()"
   ]
  },
  {
   "cell_type": "markdown",
   "id": "26c738b4",
   "metadata": {},
   "source": [
    "Явных аномалий не замечено. Круглые значения скорее всего являются результатом небольшого количества домовладений."
   ]
  },
  {
   "cell_type": "markdown",
   "id": "7bec2ed0",
   "metadata": {},
   "source": [
    "Сильная корреляция между координатами - закономерно. Между количеством комнат, количеством спален, количеством домовладений, количеством населения так же имеется сильная корреляция. Это так же выглядит закономерным.\n",
    "\n",
    "Присутствует средне-сильная корреляция между медианным доходом и медианной стоимостью жилья. Имеется слабо-средняя корреляция между медианным доходом и количеством комнат."
   ]
  },
  {
   "cell_type": "markdown",
   "id": "9f0a82f3",
   "metadata": {
    "id": "9f0a82f3"
   },
   "source": [
    "## Обучение моделей"
   ]
  },
  {
   "cell_type": "markdown",
   "id": "17e16daf",
   "metadata": {},
   "source": [
    "### Подготовка признаков "
   ]
  },
  {
   "cell_type": "markdown",
   "id": "c4c2ee36",
   "metadata": {},
   "source": [
    "#### Подготовка категориальных признаков "
   ]
  },
  {
   "cell_type": "code",
   "execution_count": 22,
   "id": "d29261ba",
   "metadata": {},
   "outputs": [],
   "source": [
    "# Выделим категориальные признаки, числовые признаки и целевой признак\n",
    "categorical_cols = ['ocean_proximity']\n",
    "numerical_cols  = [\n",
    "    'longitude', \n",
    "    'latitude', \n",
    "    'housing_median_age', \n",
    "    'total_rooms', \n",
    "    'total_bedrooms', \n",
    "    'households', \n",
    "    'median_income',\n",
    "    'rooms_per_household', \n",
    "    'population_in_household'\n",
    "]\n",
    "target = 'median_house_value' "
   ]
  },
  {
   "cell_type": "code",
   "execution_count": 23,
   "id": "11983cae",
   "metadata": {},
   "outputs": [
    {
     "name": "stderr",
     "output_type": "stream",
     "text": [
      "                                                                                \r"
     ]
    },
    {
     "name": "stdout",
     "output_type": "stream",
     "text": [
      "+---------------+-------------------+\n",
      "|ocean_proximity|ocean_proximity_idx|\n",
      "+---------------+-------------------+\n",
      "|       NEAR BAY|                3.0|\n",
      "|       NEAR BAY|                3.0|\n",
      "|       NEAR BAY|                3.0|\n",
      "|       NEAR BAY|                3.0|\n",
      "|         INLAND|                1.0|\n",
      "|         INLAND|                1.0|\n",
      "|         INLAND|                1.0|\n",
      "|         INLAND|                1.0|\n",
      "|         INLAND|                1.0|\n",
      "|         INLAND|                1.0|\n",
      "+---------------+-------------------+\n",
      "only showing top 10 rows\n",
      "\n"
     ]
    }
   ],
   "source": [
    "# Трансформируем категориальный признак в числовое представление\n",
    "indexer = StringIndexer(inputCols=categorical_cols, \n",
    "                        outputCols=[c+'_idx' for c in categorical_cols]) \n",
    "df = indexer.fit(df).transform(df)\n",
    "\n",
    "cols = [c for c in df.columns for i in categorical_cols if (c.startswith(i))]\n",
    "df.select(cols).show(10) "
   ]
  },
  {
   "cell_type": "code",
   "execution_count": 24,
   "id": "7f405713",
   "metadata": {},
   "outputs": [
    {
     "name": "stdout",
     "output_type": "stream",
     "text": [
      "+---------------+-------------------+-------------------+\n",
      "|ocean_proximity|ocean_proximity_idx|ocean_proximity_ohe|\n",
      "+---------------+-------------------+-------------------+\n",
      "|       NEAR BAY|                3.0|      (4,[3],[1.0])|\n",
      "|       NEAR BAY|                3.0|      (4,[3],[1.0])|\n",
      "|       NEAR BAY|                3.0|      (4,[3],[1.0])|\n",
      "|       NEAR BAY|                3.0|      (4,[3],[1.0])|\n",
      "|         INLAND|                1.0|      (4,[1],[1.0])|\n",
      "|         INLAND|                1.0|      (4,[1],[1.0])|\n",
      "|         INLAND|                1.0|      (4,[1],[1.0])|\n",
      "|         INLAND|                1.0|      (4,[1],[1.0])|\n",
      "|         INLAND|                1.0|      (4,[1],[1.0])|\n",
      "|         INLAND|                1.0|      (4,[1],[1.0])|\n",
      "+---------------+-------------------+-------------------+\n",
      "only showing top 10 rows\n",
      "\n"
     ]
    }
   ],
   "source": [
    "# Применим OHE-кодирование для трансформированного категориального признака\n",
    "encoder = OneHotEncoder(inputCols=[c+'_idx' for c in categorical_cols],\n",
    "                        outputCols=[c+'_ohe' for c in categorical_cols])\n",
    "df = encoder.fit(df).transform(df)\n",
    "\n",
    "cols = [c for c in df.columns for i in categorical_cols if (c.startswith(i))]\n",
    "df.select(cols).show(10)"
   ]
  },
  {
   "cell_type": "code",
   "execution_count": 25,
   "id": "ac5554dd",
   "metadata": {},
   "outputs": [],
   "source": [
    "# Трансформируем категориальный признак в вектор для обучения\n",
    "categorical_assembler = \\\n",
    "        VectorAssembler(inputCols=[c+'_ohe' for c in categorical_cols], \n",
    "                        outputCol=\"categorical_features\")\n",
    "df = categorical_assembler.transform(df)"
   ]
  },
  {
   "cell_type": "markdown",
   "id": "97d4deef",
   "metadata": {},
   "source": [
    "#### Подготовка числовых признаков\n"
   ]
  },
  {
   "cell_type": "code",
   "execution_count": 26,
   "id": "4a1672ee",
   "metadata": {},
   "outputs": [],
   "source": [
    "# Соберём числовые признаки в единый вектор\n",
    "numerical_assembler = \\\n",
    "        VectorAssembler(inputCols=numerical_cols, \n",
    "                        outputCol=\"numerical_features\")\n",
    "df = numerical_assembler.transform(df)"
   ]
  },
  {
   "cell_type": "code",
   "execution_count": 27,
   "id": "3f0400a1",
   "metadata": {},
   "outputs": [
    {
     "name": "stderr",
     "output_type": "stream",
     "text": [
      "                                                                                \r"
     ]
    }
   ],
   "source": [
    "# Отмасштабируем числовые признаки\n",
    "standardScaler = \\\n",
    "        StandardScaler(inputCol='numerical_features', \n",
    "                       outputCol=\"numerical_features_scaled\")\n",
    "df = standardScaler.fit(df).transform(df)"
   ]
  },
  {
   "cell_type": "markdown",
   "id": "928071de",
   "metadata": {},
   "source": [
    "#### Объединение признаков в вектор"
   ]
  },
  {
   "cell_type": "code",
   "execution_count": 28,
   "id": "e10a60be",
   "metadata": {},
   "outputs": [
    {
     "data": {
      "text/plain": [
       "['longitude',\n",
       " 'latitude',\n",
       " 'housing_median_age',\n",
       " 'total_rooms',\n",
       " 'total_bedrooms',\n",
       " 'population',\n",
       " 'households',\n",
       " 'median_income',\n",
       " 'median_house_value',\n",
       " 'ocean_proximity',\n",
       " 'rooms_per_household',\n",
       " 'population_in_household',\n",
       " 'ocean_proximity_idx',\n",
       " 'ocean_proximity_ohe',\n",
       " 'categorical_features',\n",
       " 'numerical_features',\n",
       " 'numerical_features_scaled']"
      ]
     },
     "execution_count": 28,
     "metadata": {},
     "output_type": "execute_result"
    }
   ],
   "source": [
    "# Посмотрим на все получившиеся признаки вместе\n",
    "df.columns"
   ]
  },
  {
   "cell_type": "code",
   "execution_count": 29,
   "id": "7467fe4d",
   "metadata": {},
   "outputs": [
    {
     "name": "stdout",
     "output_type": "stream",
     "text": [
      "+--------------------+\n",
      "|            features|\n",
      "+--------------------+\n",
      "|[0.0,0.0,0.0,1.0,...|\n",
      "|[0.0,0.0,0.0,1.0,...|\n",
      "|[0.0,0.0,0.0,1.0,...|\n",
      "|[0.0,0.0,0.0,1.0,...|\n",
      "|[0.0,1.0,0.0,0.0,...|\n",
      "|[0.0,1.0,0.0,0.0,...|\n",
      "|[0.0,1.0,0.0,0.0,...|\n",
      "|[0.0,1.0,0.0,0.0,...|\n",
      "|[0.0,1.0,0.0,0.0,...|\n",
      "|[0.0,1.0,0.0,0.0,...|\n",
      "+--------------------+\n",
      "only showing top 10 rows\n",
      "\n"
     ]
    }
   ],
   "source": [
    "# Соберем все трансформированные признаки в единый вектор\n",
    "all_features = ['categorical_features','numerical_features_scaled']\n",
    "\n",
    "final_assembler = VectorAssembler(inputCols=all_features, \n",
    "                                  outputCol='features') \n",
    "df = final_assembler.transform(df)\n",
    "\n",
    "df.select('features').show(10)"
   ]
  },
  {
   "cell_type": "markdown",
   "id": "1947035f",
   "metadata": {},
   "source": [
    "#### Разделение на выборки"
   ]
  },
  {
   "cell_type": "code",
   "execution_count": 30,
   "id": "dbf2d705",
   "metadata": {},
   "outputs": [
    {
     "name": "stderr",
     "output_type": "stream",
     "text": [
      "                                                                                \r"
     ]
    },
    {
     "data": {
      "text/plain": [
       "16530"
      ]
     },
     "metadata": {},
     "output_type": "display_data"
    },
    {
     "data": {
      "text/plain": [
       "4110"
      ]
     },
     "metadata": {},
     "output_type": "display_data"
    }
   ],
   "source": [
    "train_data, test_data = df.randomSplit([.8,.2], seed=RANDOM_SEED)\n",
    "display(train_data.count(), test_data.count())"
   ]
  },
  {
   "cell_type": "markdown",
   "id": "7ff6e519",
   "metadata": {},
   "source": [
    "### Обучение моделей "
   ]
  },
  {
   "cell_type": "markdown",
   "id": "90a33fe3",
   "metadata": {},
   "source": [
    "По условию задачи нам необходимо обучить две модели на разных наборах данных:\n",
    "* используя все данные из файла;\n",
    "* используя только числовые переменные, исключив категориальные."
   ]
  },
  {
   "cell_type": "markdown",
   "id": "10eb6982",
   "metadata": {},
   "source": [
    "#### Обучение модели с использованием всех данных"
   ]
  },
  {
   "cell_type": "code",
   "execution_count": 31,
   "id": "cf18c799",
   "metadata": {},
   "outputs": [
    {
     "name": "stderr",
     "output_type": "stream",
     "text": [
      "22/11/17 09:33:57 WARN Instrumentation: [21bd75f2] regParam is zero, which might cause numerical instability and overfitting.\n",
      "22/11/17 09:33:57 WARN BLAS: Failed to load implementation from: com.github.fommil.netlib.NativeSystemBLAS\n",
      "22/11/17 09:33:57 WARN BLAS: Failed to load implementation from: com.github.fommil.netlib.NativeRefBLAS\n",
      "22/11/17 09:34:05 WARN LAPACK: Failed to load implementation from: com.github.fommil.netlib.NativeSystemLAPACK\n",
      "22/11/17 09:34:05 WARN LAPACK: Failed to load implementation from: com.github.fommil.netlib.NativeRefLAPACK\n",
      "                                                                                \r"
     ]
    }
   ],
   "source": [
    "# Обучим модель линейной регрессии\n",
    "lr = LinearRegression(labelCol=target, featuresCol='features')\n",
    "\n",
    "model = lr.fit(train_data)"
   ]
  },
  {
   "cell_type": "code",
   "execution_count": 32,
   "id": "0af075ff",
   "metadata": {},
   "outputs": [
    {
     "name": "stdout",
     "output_type": "stream",
     "text": [
      "+------------------+------------------+\n",
      "|median_house_value|        prediction|\n",
      "+------------------+------------------+\n",
      "|          252000.0|266741.85915008746|\n",
      "|          500001.0|439235.99356851866|\n",
      "|          413000.0|353556.21564060496|\n",
      "|          112500.0| 158760.7525684801|\n",
      "|          192800.0| 282057.1848999425|\n",
      "|          219300.0|161735.58523438824|\n",
      "|          141800.0|120272.91092541255|\n",
      "|           62000.0|    90767.00788503|\n",
      "|          500001.0|349106.61427363986|\n",
      "|          450000.0|334976.32641096134|\n",
      "+------------------+------------------+\n",
      "only showing top 10 rows\n",
      "\n"
     ]
    }
   ],
   "source": [
    "# Сделаем предсказания целевого признака\n",
    "predictions = model.transform(test_data)\n",
    "\n",
    "predictedLabes = predictions.select(target, 'prediction')\n",
    "predictedLabes.show(10)"
   ]
  },
  {
   "cell_type": "code",
   "execution_count": 33,
   "id": "c8d874ff",
   "metadata": {},
   "outputs": [
    {
     "name": "stderr",
     "output_type": "stream",
     "text": [
      "                                                                                \r"
     ]
    },
    {
     "data": {
      "text/plain": [
       "'RMSE: 69317.80225900839'"
      ]
     },
     "metadata": {},
     "output_type": "display_data"
    },
    {
     "data": {
      "text/plain": [
       "'MAE: 51075.170279426566'"
      ]
     },
     "metadata": {},
     "output_type": "display_data"
    },
    {
     "data": {
      "text/plain": [
       "'R2: 0.6396752541788671'"
      ]
     },
     "metadata": {},
     "output_type": "display_data"
    }
   ],
   "source": [
    "# Оценим качество предсказаний по метрикам RMSE, MAE, R2\n",
    "rmse = RegressionEvaluator(labelCol=target,\n",
    "                           metricName='rmse').evaluate(predictions)\n",
    "\n",
    "mae = RegressionEvaluator(labelCol=target,\n",
    "                          metricName='mae').evaluate(predictions)\n",
    "\n",
    "r2 = RegressionEvaluator(labelCol=target,\n",
    "                         metricName='r2').evaluate(predictions)\n",
    "\n",
    "display(f'RMSE: {rmse}')\n",
    "display(f'MAE: {mae}')\n",
    "display(f'R2: {r2}')"
   ]
  },
  {
   "cell_type": "markdown",
   "id": "d13cf01d",
   "metadata": {},
   "source": [
    "#### Обучение модели с использованием только числовых данных "
   ]
  },
  {
   "cell_type": "code",
   "execution_count": 34,
   "id": "3ed8cd7b",
   "metadata": {},
   "outputs": [
    {
     "name": "stderr",
     "output_type": "stream",
     "text": [
      "22/11/17 09:34:35 WARN Instrumentation: [a153bf63] regParam is zero, which might cause numerical instability and overfitting.\n",
      "                                                                                \r"
     ]
    }
   ],
   "source": [
    "# Обучим модель линейной регрессии\n",
    "lr = LinearRegression(labelCol=target, featuresCol='numerical_features_scaled')\n",
    "\n",
    "model = lr.fit(train_data)"
   ]
  },
  {
   "cell_type": "code",
   "execution_count": 35,
   "id": "67652a56",
   "metadata": {},
   "outputs": [
    {
     "name": "stdout",
     "output_type": "stream",
     "text": [
      "+------------------+------------------+\n",
      "|median_house_value|        prediction|\n",
      "+------------------+------------------+\n",
      "|          252000.0| 269033.9868632681|\n",
      "|          500001.0| 443960.3291619164|\n",
      "|          413000.0|345305.71643787064|\n",
      "|          112500.0|154325.97761280555|\n",
      "|          192800.0|  279103.250279177|\n",
      "|          219300.0| 166562.0992065766|\n",
      "|          141800.0|133650.75990496855|\n",
      "|           62000.0|108658.22400977928|\n",
      "|          500001.0|351436.53931543557|\n",
      "|          450000.0|198283.75856643263|\n",
      "+------------------+------------------+\n",
      "only showing top 10 rows\n",
      "\n"
     ]
    }
   ],
   "source": [
    "# Сделаем предсказания целевого признака\n",
    "predictions = model.transform(test_data)\n",
    "\n",
    "predictedLabes = predictions.select(target, 'prediction')\n",
    "predictedLabes.show(10)"
   ]
  },
  {
   "cell_type": "code",
   "execution_count": 36,
   "id": "34a5ce7b",
   "metadata": {},
   "outputs": [
    {
     "name": "stderr",
     "output_type": "stream",
     "text": [
      "                                                                                \r"
     ]
    },
    {
     "data": {
      "text/plain": [
       "'RMSE: 69988.05441699916'"
      ]
     },
     "metadata": {},
     "output_type": "display_data"
    },
    {
     "data": {
      "text/plain": [
       "'MAE: 52150.84888473936'"
      ]
     },
     "metadata": {},
     "output_type": "display_data"
    },
    {
     "data": {
      "text/plain": [
       "'R2: 0.6326734152564195'"
      ]
     },
     "metadata": {},
     "output_type": "display_data"
    }
   ],
   "source": [
    "# Оценим качество предсказаний по метрикам RMSE, MAE, R2\n",
    "rmse = RegressionEvaluator(labelCol=target,\n",
    "                           metricName='rmse').evaluate(predictions)\n",
    "\n",
    "mae = RegressionEvaluator(labelCol=target,\n",
    "                          metricName='mae').evaluate(predictions)\n",
    "\n",
    "r2 = RegressionEvaluator(labelCol=target,\n",
    "                         metricName='r2').evaluate(predictions)\n",
    "\n",
    "display(f'RMSE: {rmse}')\n",
    "display(f'MAE: {mae}')\n",
    "display(f'R2: {r2}')"
   ]
  },
  {
   "cell_type": "markdown",
   "id": "757fd103",
   "metadata": {
    "id": "757fd103"
   },
   "source": [
    "## Анализ результатов"
   ]
  },
  {
   "cell_type": "markdown",
   "id": "c5b79555",
   "metadata": {},
   "source": [
    "Мы подготовили и обучили 2 модели линейной регрессии для прогноза медианной стоимости дома в жилом массиве. Получены следующие значения контрольных метрик:\n",
    "\n",
    "|Метрика|Обучение на всех данных| Обучение без категориального признака|\n",
    "|---|---|---|\n",
    "|RMSE|69317.80225900839|69988.05441699916|\n",
    "|MAE|51075.170279426566|52150.84888473936|\n",
    "|R2|0.6396752541788671|0.6326734152564195|\n",
    "\n",
    "По представленной таблице можно заметить, что обучение без использования категориального признака дало результат чуть хуже, чем обучение на полном наборе данных."
   ]
  }
 ],
 "metadata": {
  "ExecuteTimeLog": [
   {
    "duration": 16736,
    "start_time": "2022-10-20T20:27:19.538Z"
   },
   {
    "duration": 10235,
    "start_time": "2022-10-20T20:27:58.537Z"
   },
   {
    "duration": 4,
    "start_time": "2022-10-20T20:48:33.909Z"
   },
   {
    "duration": 1204,
    "start_time": "2022-10-20T20:48:35.193Z"
   },
   {
    "duration": 15,
    "start_time": "2022-10-20T20:48:37.713Z"
   },
   {
    "duration": 16797,
    "start_time": "2022-11-01T20:46:14.861Z"
   },
   {
    "duration": 8892,
    "start_time": "2022-11-01T20:46:31.660Z"
   },
   {
    "duration": 71,
    "start_time": "2022-11-01T20:46:40.554Z"
   },
   {
    "duration": 94,
    "start_time": "2022-11-01T20:46:57.888Z"
   },
   {
    "duration": 90,
    "start_time": "2022-11-01T20:47:18.976Z"
   },
   {
    "duration": 18,
    "start_time": "2022-11-01T20:47:43.748Z"
   },
   {
    "duration": 21,
    "start_time": "2022-11-01T20:48:16.016Z"
   },
   {
    "duration": 13,
    "start_time": "2022-11-01T20:48:47.920Z"
   },
   {
    "duration": 99,
    "start_time": "2022-11-01T20:48:55.589Z"
   },
   {
    "duration": 14,
    "start_time": "2022-11-01T20:49:00.635Z"
   },
   {
    "duration": 42,
    "start_time": "2022-11-01T21:22:30.070Z"
   },
   {
    "duration": 6,
    "start_time": "2022-11-01T21:22:48.873Z"
   },
   {
    "duration": 1068,
    "start_time": "2022-11-01T21:22:54.192Z"
   },
   {
    "duration": 15390,
    "start_time": "2022-11-02T18:26:58.542Z"
   },
   {
    "duration": 9003,
    "start_time": "2022-11-02T18:27:13.934Z"
   },
   {
    "duration": 82,
    "start_time": "2022-11-02T18:27:22.940Z"
   },
   {
    "duration": 1285,
    "start_time": "2022-11-02T18:27:23.024Z"
   },
   {
    "duration": 88,
    "start_time": "2022-11-02T18:36:58.300Z"
   },
   {
    "duration": 1500,
    "start_time": "2022-11-02T18:38:03.216Z"
   },
   {
    "duration": 842,
    "start_time": "2022-11-02T18:45:43.096Z"
   },
   {
    "duration": 388,
    "start_time": "2022-11-02T19:03:20.722Z"
   },
   {
    "duration": 6473,
    "start_time": "2022-11-02T19:03:50.951Z"
   },
   {
    "duration": 4063,
    "start_time": "2022-11-02T19:06:53.469Z"
   },
   {
    "duration": 5027,
    "start_time": "2022-11-02T19:07:43.982Z"
   },
   {
    "duration": 5020,
    "start_time": "2022-11-02T19:11:59.604Z"
   },
   {
    "duration": 28919,
    "start_time": "2022-11-02T19:19:21.127Z"
   },
   {
    "duration": 20468,
    "start_time": "2022-11-02T19:20:22.275Z"
   },
   {
    "duration": 39,
    "start_time": "2022-11-02T19:22:17.816Z"
   },
   {
    "duration": 20825,
    "start_time": "2022-11-02T19:22:19.931Z"
   },
   {
    "duration": 661,
    "start_time": "2022-11-02T19:23:40.300Z"
   },
   {
    "duration": 254,
    "start_time": "2022-11-02T19:30:30.059Z"
   },
   {
    "duration": 146,
    "start_time": "2022-11-02T19:30:47.846Z"
   },
   {
    "duration": 15596,
    "start_time": "2022-11-02T19:35:00.221Z"
   },
   {
    "duration": 2,
    "start_time": "2022-11-02T19:35:15.820Z"
   },
   {
    "duration": 9291,
    "start_time": "2022-11-02T19:35:15.824Z"
   },
   {
    "duration": 15,
    "start_time": "2022-11-02T19:35:25.117Z"
   },
   {
    "duration": 1474,
    "start_time": "2022-11-02T19:35:25.135Z"
   },
   {
    "duration": 910,
    "start_time": "2022-11-02T19:35:26.611Z"
   },
   {
    "duration": 7005,
    "start_time": "2022-11-02T19:35:27.523Z"
   },
   {
    "duration": 4803,
    "start_time": "2022-11-02T19:35:34.531Z"
   },
   {
    "duration": 4411,
    "start_time": "2022-11-02T19:35:39.335Z"
   },
   {
    "duration": 34876,
    "start_time": "2022-11-02T19:35:43.747Z"
   },
   {
    "duration": 15417,
    "start_time": "2022-11-08T08:05:48.340Z"
   },
   {
    "duration": 3,
    "start_time": "2022-11-08T08:06:03.760Z"
   },
   {
    "duration": 9876,
    "start_time": "2022-11-08T08:06:03.765Z"
   },
   {
    "duration": 86,
    "start_time": "2022-11-08T08:06:13.643Z"
   },
   {
    "duration": 1334,
    "start_time": "2022-11-08T08:06:13.732Z"
   },
   {
    "duration": 1058,
    "start_time": "2022-11-08T08:06:15.068Z"
   },
   {
    "duration": 6725,
    "start_time": "2022-11-08T08:06:16.128Z"
   },
   {
    "duration": 4199,
    "start_time": "2022-11-08T08:06:22.855Z"
   },
   {
    "duration": 4083,
    "start_time": "2022-11-08T08:06:27.056Z"
   },
   {
    "duration": 186,
    "start_time": "2022-11-08T08:06:31.141Z"
   },
   {
    "duration": 0,
    "start_time": "2022-11-08T08:06:31.329Z"
   },
   {
    "duration": 993,
    "start_time": "2022-11-08T08:06:48.034Z"
   },
   {
    "duration": 6,
    "start_time": "2022-11-08T08:16:53.158Z"
   },
   {
    "duration": 3441,
    "start_time": "2022-11-08T08:17:15.015Z"
   },
   {
    "duration": 2457,
    "start_time": "2022-11-08T08:17:46.215Z"
   },
   {
    "duration": 13,
    "start_time": "2022-11-08T08:22:12.746Z"
   },
   {
    "duration": 7,
    "start_time": "2022-11-08T08:22:38.314Z"
   },
   {
    "duration": 11,
    "start_time": "2022-11-08T08:22:42.739Z"
   },
   {
    "duration": 308,
    "start_time": "2022-11-08T08:22:52.452Z"
   },
   {
    "duration": 25,
    "start_time": "2022-11-08T08:33:51.606Z"
   },
   {
    "duration": 3,
    "start_time": "2022-11-08T08:46:24.193Z"
   },
   {
    "duration": 3,
    "start_time": "2022-11-08T08:46:25.307Z"
   },
   {
    "duration": 19594,
    "start_time": "2022-11-09T19:20:00.131Z"
   },
   {
    "duration": 3,
    "start_time": "2022-11-09T19:20:19.728Z"
   },
   {
    "duration": 9337,
    "start_time": "2022-11-09T19:20:19.732Z"
   },
   {
    "duration": 76,
    "start_time": "2022-11-09T19:20:29.071Z"
   },
   {
    "duration": 1185,
    "start_time": "2022-11-09T19:20:29.149Z"
   },
   {
    "duration": 925,
    "start_time": "2022-11-09T19:20:30.336Z"
   },
   {
    "duration": 7069,
    "start_time": "2022-11-09T19:20:31.263Z"
   },
   {
    "duration": 4899,
    "start_time": "2022-11-09T19:20:38.335Z"
   },
   {
    "duration": 4012,
    "start_time": "2022-11-09T19:20:43.237Z"
   },
   {
    "duration": 998,
    "start_time": "2022-11-09T19:20:47.250Z"
   },
   {
    "duration": 3023,
    "start_time": "2022-11-09T19:20:48.249Z"
   },
   {
    "duration": 2,
    "start_time": "2022-11-09T19:20:51.274Z"
   },
   {
    "duration": 19,
    "start_time": "2022-11-09T19:20:51.278Z"
   },
   {
    "duration": 2572,
    "start_time": "2022-11-09T19:20:51.299Z"
   },
   {
    "duration": 44772,
    "start_time": "2022-11-09T19:20:53.873Z"
   },
   {
    "duration": 394,
    "start_time": "2022-11-09T19:22:01.276Z"
   },
   {
    "duration": 469,
    "start_time": "2022-11-09T19:24:29.484Z"
   },
   {
    "duration": 460,
    "start_time": "2022-11-09T19:24:53.488Z"
   },
   {
    "duration": 2093,
    "start_time": "2022-11-09T19:25:26.945Z"
   },
   {
    "duration": 20,
    "start_time": "2022-11-09T19:28:51.496Z"
   },
   {
    "duration": 2184,
    "start_time": "2022-11-09T19:29:03.376Z"
   },
   {
    "duration": 33,
    "start_time": "2022-11-09T19:38:03.917Z"
   },
   {
    "duration": 2953,
    "start_time": "2022-11-09T19:38:10.585Z"
   },
   {
    "duration": 135,
    "start_time": "2022-11-09T19:38:29.006Z"
   },
   {
    "duration": 173,
    "start_time": "2022-11-09T19:43:46.481Z"
   },
   {
    "duration": 2288,
    "start_time": "2022-11-09T19:44:01.486Z"
   },
   {
    "duration": 43,
    "start_time": "2022-11-09T19:50:07.575Z"
   },
   {
    "duration": 1948,
    "start_time": "2022-11-09T19:50:33.295Z"
   },
   {
    "duration": 88,
    "start_time": "2022-11-09T19:50:56.717Z"
   },
   {
    "duration": 358,
    "start_time": "2022-11-09T19:51:05.132Z"
   },
   {
    "duration": 15792,
    "start_time": "2022-11-09T19:51:47.461Z"
   },
   {
    "duration": 2,
    "start_time": "2022-11-09T19:52:03.256Z"
   },
   {
    "duration": 9399,
    "start_time": "2022-11-09T19:52:03.260Z"
   },
   {
    "duration": 77,
    "start_time": "2022-11-09T19:52:12.662Z"
   },
   {
    "duration": 1226,
    "start_time": "2022-11-09T19:52:12.741Z"
   },
   {
    "duration": 968,
    "start_time": "2022-11-09T19:52:13.969Z"
   },
   {
    "duration": 7100,
    "start_time": "2022-11-09T19:52:14.939Z"
   },
   {
    "duration": 4591,
    "start_time": "2022-11-09T19:52:22.041Z"
   },
   {
    "duration": 4312,
    "start_time": "2022-11-09T19:52:26.635Z"
   },
   {
    "duration": 813,
    "start_time": "2022-11-09T19:52:30.950Z"
   },
   {
    "duration": 3206,
    "start_time": "2022-11-09T19:52:31.765Z"
   },
   {
    "duration": 90,
    "start_time": "2022-11-09T19:52:34.973Z"
   },
   {
    "duration": 383,
    "start_time": "2022-11-09T19:52:35.065Z"
   },
   {
    "duration": 3103,
    "start_time": "2022-11-09T19:52:35.450Z"
   },
   {
    "duration": 779,
    "start_time": "2022-11-09T19:52:38.554Z"
   },
   {
    "duration": 2,
    "start_time": "2022-11-09T19:52:39.335Z"
   },
   {
    "duration": 10,
    "start_time": "2022-11-09T19:52:39.339Z"
   },
   {
    "duration": 15400,
    "start_time": "2022-11-09T19:53:16.936Z"
   },
   {
    "duration": 3,
    "start_time": "2022-11-09T19:53:32.339Z"
   },
   {
    "duration": 9322,
    "start_time": "2022-11-09T19:53:32.343Z"
   },
   {
    "duration": 13,
    "start_time": "2022-11-09T19:53:41.733Z"
   },
   {
    "duration": 1306,
    "start_time": "2022-11-09T19:53:41.748Z"
   },
   {
    "duration": 1081,
    "start_time": "2022-11-09T19:53:43.056Z"
   },
   {
    "duration": 7310,
    "start_time": "2022-11-09T19:53:44.138Z"
   },
   {
    "duration": 4806,
    "start_time": "2022-11-09T19:53:51.451Z"
   },
   {
    "duration": 4707,
    "start_time": "2022-11-09T19:53:56.259Z"
   },
   {
    "duration": 898,
    "start_time": "2022-11-09T19:54:01.035Z"
   },
   {
    "duration": 3415,
    "start_time": "2022-11-09T19:54:01.935Z"
   },
   {
    "duration": 106,
    "start_time": "2022-11-09T19:54:05.352Z"
   },
   {
    "duration": 3083,
    "start_time": "2022-11-09T19:54:05.460Z"
   },
   {
    "duration": 3120,
    "start_time": "2022-11-09T19:54:08.545Z"
   },
   {
    "duration": 696,
    "start_time": "2022-11-09T19:54:11.666Z"
   },
   {
    "duration": 3,
    "start_time": "2022-11-09T19:54:12.364Z"
   },
   {
    "duration": 2,
    "start_time": "2022-11-09T19:54:12.434Z"
   },
   {
    "duration": 65,
    "start_time": "2022-11-09T19:55:01.541Z"
   },
   {
    "duration": 39,
    "start_time": "2022-11-09T19:55:08.479Z"
   },
   {
    "duration": 2901,
    "start_time": "2022-11-09T19:55:11.864Z"
   },
   {
    "duration": 2471,
    "start_time": "2022-11-09T19:55:18.777Z"
   },
   {
    "duration": 599,
    "start_time": "2022-11-09T19:55:22.935Z"
   },
   {
    "duration": 22,
    "start_time": "2022-11-09T19:56:11.147Z"
   },
   {
    "duration": 2145,
    "start_time": "2022-11-09T19:56:14.391Z"
   },
   {
    "duration": 3090,
    "start_time": "2022-11-09T19:56:18.343Z"
   },
   {
    "duration": 599,
    "start_time": "2022-11-09T19:56:22.868Z"
   },
   {
    "duration": 169,
    "start_time": "2022-11-09T20:06:49.896Z"
   },
   {
    "duration": 19194,
    "start_time": "2022-11-12T12:04:21.009Z"
   },
   {
    "duration": 3,
    "start_time": "2022-11-12T12:04:40.205Z"
   },
   {
    "duration": 10375,
    "start_time": "2022-11-12T12:04:40.209Z"
   },
   {
    "duration": 19,
    "start_time": "2022-11-12T12:04:50.586Z"
   },
   {
    "duration": 1288,
    "start_time": "2022-11-12T12:04:50.607Z"
   },
   {
    "duration": 900,
    "start_time": "2022-11-12T12:04:51.897Z"
   },
   {
    "duration": 6874,
    "start_time": "2022-11-12T12:04:52.799Z"
   },
   {
    "duration": 4905,
    "start_time": "2022-11-12T12:04:59.675Z"
   },
   {
    "duration": 3991,
    "start_time": "2022-11-12T12:05:04.582Z"
   },
   {
    "duration": 921,
    "start_time": "2022-11-12T12:05:08.576Z"
   },
   {
    "duration": 3186,
    "start_time": "2022-11-12T12:05:09.499Z"
   },
   {
    "duration": 33,
    "start_time": "2022-11-12T12:05:12.686Z"
   },
   {
    "duration": 3405,
    "start_time": "2022-11-12T12:05:12.768Z"
   },
   {
    "duration": 3300,
    "start_time": "2022-11-12T12:05:16.176Z"
   },
   {
    "duration": 797,
    "start_time": "2022-11-12T12:05:19.478Z"
   },
   {
    "duration": 221,
    "start_time": "2022-11-12T12:05:20.276Z"
   },
   {
    "duration": 3,
    "start_time": "2022-11-12T12:05:20.500Z"
   },
   {
    "duration": 3379,
    "start_time": "2022-11-12T12:36:14.298Z"
   },
   {
    "duration": 2466,
    "start_time": "2022-11-12T12:36:58.792Z"
   },
   {
    "duration": 2421,
    "start_time": "2022-11-12T13:05:26.663Z"
   },
   {
    "duration": 2174,
    "start_time": "2022-11-12T13:35:48.335Z"
   },
   {
    "duration": 333,
    "start_time": "2022-11-12T14:18:39.717Z"
   },
   {
    "duration": 4,
    "start_time": "2022-11-12T14:21:32.611Z"
   },
   {
    "duration": 15686,
    "start_time": "2022-11-12T14:22:48.298Z"
   },
   {
    "duration": 10095,
    "start_time": "2022-11-12T14:23:03.987Z"
   },
   {
    "duration": 15,
    "start_time": "2022-11-12T14:23:14.083Z"
   },
   {
    "duration": 1511,
    "start_time": "2022-11-12T14:23:14.100Z"
   },
   {
    "duration": 1104,
    "start_time": "2022-11-12T14:23:15.667Z"
   },
   {
    "duration": 7435,
    "start_time": "2022-11-12T14:23:16.773Z"
   },
   {
    "duration": 5134,
    "start_time": "2022-11-12T14:23:24.268Z"
   },
   {
    "duration": 4836,
    "start_time": "2022-11-12T14:23:29.467Z"
   },
   {
    "duration": 934,
    "start_time": "2022-11-12T14:23:34.369Z"
   },
   {
    "duration": 4231,
    "start_time": "2022-11-12T14:23:35.369Z"
   },
   {
    "duration": 85,
    "start_time": "2022-11-12T14:23:39.602Z"
   },
   {
    "duration": 3187,
    "start_time": "2022-11-12T14:23:39.688Z"
   },
   {
    "duration": 3396,
    "start_time": "2022-11-12T14:23:42.876Z"
   },
   {
    "duration": 913,
    "start_time": "2022-11-12T14:23:46.275Z"
   },
   {
    "duration": 380,
    "start_time": "2022-11-12T14:23:47.190Z"
   },
   {
    "duration": 3798,
    "start_time": "2022-11-12T14:23:47.571Z"
   },
   {
    "duration": 2445,
    "start_time": "2022-11-12T14:23:51.371Z"
   },
   {
    "duration": 2554,
    "start_time": "2022-11-12T14:23:53.818Z"
   },
   {
    "duration": 236,
    "start_time": "2022-11-12T14:23:56.374Z"
   },
   {
    "duration": 56,
    "start_time": "2022-11-12T14:23:56.612Z"
   },
   {
    "duration": 6863,
    "start_time": "2022-11-12T14:36:53.033Z"
   },
   {
    "duration": 3,
    "start_time": "2022-11-12T14:53:06.727Z"
   },
   {
    "duration": 837,
    "start_time": "2022-11-12T14:53:22.157Z"
   },
   {
    "duration": 52,
    "start_time": "2022-11-12T14:53:45.133Z"
   },
   {
    "duration": 15308,
    "start_time": "2022-11-12T19:14:02.286Z"
   },
   {
    "duration": 9603,
    "start_time": "2022-11-12T19:14:17.597Z"
   },
   {
    "duration": 78,
    "start_time": "2022-11-12T19:14:27.202Z"
   },
   {
    "duration": 1229,
    "start_time": "2022-11-12T19:14:27.282Z"
   },
   {
    "duration": 970,
    "start_time": "2022-11-12T19:14:28.513Z"
   },
   {
    "duration": 6616,
    "start_time": "2022-11-12T19:14:29.485Z"
   },
   {
    "duration": 4215,
    "start_time": "2022-11-12T19:14:36.103Z"
   },
   {
    "duration": 3704,
    "start_time": "2022-11-12T19:14:40.379Z"
   },
   {
    "duration": 707,
    "start_time": "2022-11-12T19:14:44.084Z"
   },
   {
    "duration": 3409,
    "start_time": "2022-11-12T19:14:44.794Z"
   },
   {
    "duration": 90,
    "start_time": "2022-11-12T19:14:48.205Z"
   },
   {
    "duration": 2798,
    "start_time": "2022-11-12T19:14:48.296Z"
   },
   {
    "duration": 3194,
    "start_time": "2022-11-12T19:14:51.096Z"
   },
   {
    "duration": 719,
    "start_time": "2022-11-12T19:14:54.292Z"
   },
   {
    "duration": 292,
    "start_time": "2022-11-12T19:14:55.013Z"
   },
   {
    "duration": 3095,
    "start_time": "2022-11-12T19:14:55.308Z"
   },
   {
    "duration": 2510,
    "start_time": "2022-11-12T19:14:58.405Z"
   },
   {
    "duration": 3004,
    "start_time": "2022-11-12T19:15:00.917Z"
   },
   {
    "duration": 379,
    "start_time": "2022-11-12T19:15:03.923Z"
   },
   {
    "duration": 4,
    "start_time": "2022-11-12T19:15:04.304Z"
   },
   {
    "duration": 7682,
    "start_time": "2022-11-12T19:15:04.310Z"
   },
   {
    "duration": 1106,
    "start_time": "2022-11-12T19:15:11.994Z"
   },
   {
    "duration": 112,
    "start_time": "2022-11-12T19:15:13.101Z"
   },
   {
    "duration": 30,
    "start_time": "2022-11-12T19:21:12.355Z"
   },
   {
    "duration": 4791,
    "start_time": "2022-11-12T19:21:13.718Z"
   },
   {
    "duration": 5,
    "start_time": "2022-11-12T19:21:31.680Z"
   },
   {
    "duration": 4,
    "start_time": "2022-11-12T19:21:36.531Z"
   },
   {
    "duration": 573,
    "start_time": "2022-11-12T19:24:33.342Z"
   },
   {
    "duration": 13441,
    "start_time": "2022-11-12T19:25:26.549Z"
   },
   {
    "duration": 16375,
    "start_time": "2022-11-15T08:33:02.546Z"
   },
   {
    "duration": 10503,
    "start_time": "2022-11-15T08:33:18.925Z"
   },
   {
    "duration": 83,
    "start_time": "2022-11-15T08:33:29.430Z"
   },
   {
    "duration": 1406,
    "start_time": "2022-11-15T08:33:29.515Z"
   },
   {
    "duration": 1083,
    "start_time": "2022-11-15T08:33:30.923Z"
   },
   {
    "duration": 7796,
    "start_time": "2022-11-15T08:33:32.009Z"
   },
   {
    "duration": 5305,
    "start_time": "2022-11-15T08:33:39.806Z"
   },
   {
    "duration": 5108,
    "start_time": "2022-11-15T08:33:45.113Z"
   },
   {
    "duration": 1107,
    "start_time": "2022-11-15T08:33:50.223Z"
   },
   {
    "duration": 3901,
    "start_time": "2022-11-15T08:33:51.333Z"
   },
   {
    "duration": 68,
    "start_time": "2022-11-15T08:33:55.236Z"
   },
   {
    "duration": 3191,
    "start_time": "2022-11-15T08:33:55.307Z"
   },
   {
    "duration": 3618,
    "start_time": "2022-11-15T08:33:58.499Z"
   },
   {
    "duration": 890,
    "start_time": "2022-11-15T08:34:02.121Z"
   },
   {
    "duration": 313,
    "start_time": "2022-11-15T08:34:03.013Z"
   },
   {
    "duration": 4190,
    "start_time": "2022-11-15T08:34:03.328Z"
   },
   {
    "duration": 3087,
    "start_time": "2022-11-15T08:34:07.520Z"
   },
   {
    "duration": 2634,
    "start_time": "2022-11-15T08:34:10.609Z"
   },
   {
    "duration": 203,
    "start_time": "2022-11-15T08:34:13.244Z"
   },
   {
    "duration": 3,
    "start_time": "2022-11-15T08:34:13.449Z"
   },
   {
    "duration": 7878,
    "start_time": "2022-11-15T08:34:13.453Z"
   },
   {
    "duration": 1168,
    "start_time": "2022-11-15T08:34:21.333Z"
   },
   {
    "duration": 102,
    "start_time": "2022-11-15T08:34:22.504Z"
   },
   {
    "duration": 99,
    "start_time": "2022-11-15T08:34:22.608Z"
   },
   {
    "duration": 5218,
    "start_time": "2022-11-15T08:34:22.709Z"
   },
   {
    "duration": 7,
    "start_time": "2022-11-15T08:34:27.929Z"
   },
   {
    "duration": 785,
    "start_time": "2022-11-15T08:34:27.940Z"
   },
   {
    "duration": 14570,
    "start_time": "2022-11-15T08:34:28.727Z"
   },
   {
    "duration": 830,
    "start_time": "2022-11-15T08:39:44.399Z"
   },
   {
    "duration": 16210,
    "start_time": "2022-11-15T08:47:16.487Z"
   },
   {
    "duration": 706,
    "start_time": "2022-11-15T08:48:06.091Z"
   },
   {
    "duration": 4,
    "start_time": "2022-11-15T08:56:03.673Z"
   },
   {
    "duration": 346,
    "start_time": "2022-11-15T08:56:59.752Z"
   },
   {
    "duration": 14661,
    "start_time": "2022-11-15T09:01:03.582Z"
   },
   {
    "duration": 10628,
    "start_time": "2022-11-15T09:02:16.007Z"
   },
   {
    "duration": 6,
    "start_time": "2022-11-15T09:25:13.502Z"
   },
   {
    "duration": 15555,
    "start_time": "2022-11-15T09:27:24.976Z"
   },
   {
    "duration": 9667,
    "start_time": "2022-11-15T09:27:40.534Z"
   },
   {
    "duration": 14,
    "start_time": "2022-11-15T09:27:50.202Z"
   },
   {
    "duration": 1114,
    "start_time": "2022-11-15T09:27:50.218Z"
   },
   {
    "duration": 885,
    "start_time": "2022-11-15T09:27:51.334Z"
   },
   {
    "duration": 6782,
    "start_time": "2022-11-15T09:27:52.221Z"
   },
   {
    "duration": 4525,
    "start_time": "2022-11-15T09:27:59.005Z"
   },
   {
    "duration": 3967,
    "start_time": "2022-11-15T09:28:03.532Z"
   },
   {
    "duration": 710,
    "start_time": "2022-11-15T09:28:07.500Z"
   },
   {
    "duration": 3103,
    "start_time": "2022-11-15T09:28:08.213Z"
   },
   {
    "duration": 85,
    "start_time": "2022-11-15T09:28:11.318Z"
   },
   {
    "duration": 2904,
    "start_time": "2022-11-15T09:28:11.404Z"
   },
   {
    "duration": 2514,
    "start_time": "2022-11-15T09:28:14.310Z"
   },
   {
    "duration": 590,
    "start_time": "2022-11-15T09:28:16.825Z"
   },
   {
    "duration": 299,
    "start_time": "2022-11-15T09:28:17.417Z"
   },
   {
    "duration": 3192,
    "start_time": "2022-11-15T09:28:17.717Z"
   },
   {
    "duration": 2494,
    "start_time": "2022-11-15T09:28:20.912Z"
   },
   {
    "duration": 2827,
    "start_time": "2022-11-15T09:28:23.408Z"
   },
   {
    "duration": 380,
    "start_time": "2022-11-15T09:28:26.237Z"
   },
   {
    "duration": 4,
    "start_time": "2022-11-15T09:28:26.618Z"
   },
   {
    "duration": 7786,
    "start_time": "2022-11-15T09:28:26.623Z"
   },
   {
    "duration": 1129,
    "start_time": "2022-11-15T09:28:34.411Z"
   },
   {
    "duration": 159,
    "start_time": "2022-11-15T09:28:35.541Z"
   },
   {
    "duration": 31,
    "start_time": "2022-11-15T09:28:35.702Z"
   },
   {
    "duration": 4624,
    "start_time": "2022-11-15T09:28:35.797Z"
   },
   {
    "duration": 8,
    "start_time": "2022-11-15T09:28:40.423Z"
   },
   {
    "duration": 777,
    "start_time": "2022-11-15T09:28:40.432Z"
   },
   {
    "duration": 14119,
    "start_time": "2022-11-15T09:28:41.212Z"
   },
   {
    "duration": 21914,
    "start_time": "2022-11-15T09:28:55.396Z"
   },
   {
    "duration": 684,
    "start_time": "2022-11-15T09:29:17.313Z"
   },
   {
    "duration": 15013,
    "start_time": "2022-11-15T09:29:17.999Z"
   },
   {
    "duration": 53,
    "start_time": "2022-11-16T19:31:54.837Z"
   },
   {
    "duration": 15288,
    "start_time": "2022-11-16T19:39:14.523Z"
   },
   {
    "duration": 8683,
    "start_time": "2022-11-16T19:39:29.814Z"
   },
   {
    "duration": 14,
    "start_time": "2022-11-16T19:39:38.499Z"
   },
   {
    "duration": 1288,
    "start_time": "2022-11-16T19:39:38.516Z"
   },
   {
    "duration": 896,
    "start_time": "2022-11-16T19:39:39.806Z"
   },
   {
    "duration": 6993,
    "start_time": "2022-11-16T19:39:40.705Z"
   },
   {
    "duration": 4416,
    "start_time": "2022-11-16T19:39:47.700Z"
   },
   {
    "duration": 4082,
    "start_time": "2022-11-16T19:39:52.118Z"
   },
   {
    "duration": 622,
    "start_time": "2022-11-16T19:39:56.202Z"
   },
   {
    "duration": 3509,
    "start_time": "2022-11-16T19:39:56.826Z"
   },
   {
    "duration": 89,
    "start_time": "2022-11-16T19:40:00.338Z"
   },
   {
    "duration": 3298,
    "start_time": "2022-11-16T19:40:00.429Z"
   },
   {
    "duration": 3395,
    "start_time": "2022-11-16T19:40:03.729Z"
   },
   {
    "duration": 777,
    "start_time": "2022-11-16T19:40:07.126Z"
   },
   {
    "duration": 31,
    "start_time": "2022-11-16T19:40:15.466Z"
   },
   {
    "duration": 3111,
    "start_time": "2022-11-16T19:44:06.899Z"
   },
   {
    "duration": 2894,
    "start_time": "2022-11-16T19:44:20.031Z"
   },
   {
    "duration": 2336,
    "start_time": "2022-11-16T19:44:25.594Z"
   },
   {
    "duration": 2168,
    "start_time": "2022-11-16T19:44:29.197Z"
   },
   {
    "duration": 1695,
    "start_time": "2022-11-16T20:07:42.509Z"
   },
   {
    "duration": 3,
    "start_time": "2022-11-16T20:07:48.711Z"
   },
   {
    "duration": 81,
    "start_time": "2022-11-16T20:07:54.059Z"
   },
   {
    "duration": 16220,
    "start_time": "2022-11-16T20:08:11.577Z"
   },
   {
    "duration": 10211,
    "start_time": "2022-11-16T20:08:27.800Z"
   },
   {
    "duration": 14,
    "start_time": "2022-11-16T20:08:38.013Z"
   },
   {
    "duration": 1138,
    "start_time": "2022-11-16T20:08:38.096Z"
   },
   {
    "duration": 967,
    "start_time": "2022-11-16T20:08:39.235Z"
   },
   {
    "duration": 6797,
    "start_time": "2022-11-16T20:08:40.203Z"
   },
   {
    "duration": 4621,
    "start_time": "2022-11-16T20:08:47.001Z"
   },
   {
    "duration": 4309,
    "start_time": "2022-11-16T20:08:51.623Z"
   },
   {
    "duration": 784,
    "start_time": "2022-11-16T20:08:55.934Z"
   },
   {
    "duration": 3411,
    "start_time": "2022-11-16T20:08:56.720Z"
   },
   {
    "duration": 68,
    "start_time": "2022-11-16T20:09:00.133Z"
   },
   {
    "duration": 2728,
    "start_time": "2022-11-16T20:09:00.203Z"
   },
   {
    "duration": 2424,
    "start_time": "2022-11-16T20:09:02.933Z"
   },
   {
    "duration": 628,
    "start_time": "2022-11-16T20:09:05.398Z"
   },
   {
    "duration": 75,
    "start_time": "2022-11-16T20:09:06.029Z"
   },
   {
    "duration": 2639,
    "start_time": "2022-11-16T20:09:06.106Z"
   },
   {
    "duration": 2492,
    "start_time": "2022-11-16T20:09:08.797Z"
   },
   {
    "duration": 2216,
    "start_time": "2022-11-16T20:09:11.291Z"
   },
   {
    "duration": 1893,
    "start_time": "2022-11-16T20:09:13.509Z"
   },
   {
    "duration": 4,
    "start_time": "2022-11-16T20:09:15.403Z"
   },
   {
    "duration": 3,
    "start_time": "2022-11-16T20:10:25.660Z"
   },
   {
    "duration": 7077,
    "start_time": "2022-11-16T20:10:27.830Z"
   },
   {
    "duration": 730,
    "start_time": "2022-11-16T20:10:39.576Z"
   },
   {
    "duration": 40,
    "start_time": "2022-11-16T20:10:47.699Z"
   },
   {
    "duration": 29,
    "start_time": "2022-11-16T20:10:56.754Z"
   },
   {
    "duration": 4648,
    "start_time": "2022-11-16T20:10:58.386Z"
   },
   {
    "duration": 5,
    "start_time": "2022-11-16T20:11:11.461Z"
   },
   {
    "duration": 15706,
    "start_time": "2022-11-16T20:19:54.810Z"
   },
   {
    "duration": 9291,
    "start_time": "2022-11-16T20:20:10.519Z"
   },
   {
    "duration": 17,
    "start_time": "2022-11-16T20:20:19.812Z"
   },
   {
    "duration": 1265,
    "start_time": "2022-11-16T20:20:19.832Z"
   },
   {
    "duration": 836,
    "start_time": "2022-11-16T20:20:21.099Z"
   },
   {
    "duration": 7405,
    "start_time": "2022-11-16T20:20:21.996Z"
   },
   {
    "duration": 5195,
    "start_time": "2022-11-16T20:20:29.403Z"
   },
   {
    "duration": 4727,
    "start_time": "2022-11-16T20:20:34.599Z"
   },
   {
    "duration": 1100,
    "start_time": "2022-11-16T20:20:39.328Z"
   },
   {
    "duration": 3452,
    "start_time": "2022-11-16T20:20:40.498Z"
   },
   {
    "duration": 61,
    "start_time": "2022-11-16T20:20:43.951Z"
   },
   {
    "duration": 2987,
    "start_time": "2022-11-16T20:20:44.013Z"
   },
   {
    "duration": 3126,
    "start_time": "2022-11-16T20:20:47.001Z"
   },
   {
    "duration": 794,
    "start_time": "2022-11-16T20:20:50.130Z"
   },
   {
    "duration": 73,
    "start_time": "2022-11-16T20:20:50.926Z"
   },
   {
    "duration": 3233,
    "start_time": "2022-11-16T20:20:51.001Z"
   },
   {
    "duration": 2771,
    "start_time": "2022-11-16T20:20:54.236Z"
   },
   {
    "duration": 2589,
    "start_time": "2022-11-16T20:20:57.009Z"
   },
   {
    "duration": 2622,
    "start_time": "2022-11-16T20:20:59.600Z"
   },
   {
    "duration": 3,
    "start_time": "2022-11-16T20:21:02.224Z"
   },
   {
    "duration": 7974,
    "start_time": "2022-11-16T20:21:02.228Z"
   },
   {
    "duration": 1102,
    "start_time": "2022-11-16T20:21:10.203Z"
   },
   {
    "duration": 90,
    "start_time": "2022-11-16T20:21:11.307Z"
   },
   {
    "duration": 97,
    "start_time": "2022-11-16T20:21:11.399Z"
   },
   {
    "duration": 4806,
    "start_time": "2022-11-16T20:21:11.498Z"
   },
   {
    "duration": 5,
    "start_time": "2022-11-16T20:21:16.306Z"
   },
   {
    "duration": 617,
    "start_time": "2022-11-16T20:21:16.312Z"
   },
   {
    "duration": 14206,
    "start_time": "2022-11-16T20:21:16.933Z"
   },
   {
    "duration": 17063,
    "start_time": "2022-11-16T20:21:31.141Z"
   },
   {
    "duration": 591,
    "start_time": "2022-11-16T20:21:48.206Z"
   },
   {
    "duration": 13157,
    "start_time": "2022-11-16T20:21:48.799Z"
   },
   {
    "duration": 11832,
    "start_time": "2022-11-16T20:22:01.997Z"
   },
   {
    "duration": 600,
    "start_time": "2022-11-16T20:22:13.831Z"
   },
   {
    "duration": 11412,
    "start_time": "2022-11-16T20:22:14.433Z"
   },
   {
    "duration": 15736,
    "start_time": "2022-11-16T20:39:30.603Z"
   },
   {
    "duration": 10757,
    "start_time": "2022-11-16T20:39:46.342Z"
   },
   {
    "duration": 14,
    "start_time": "2022-11-16T20:39:57.101Z"
   },
   {
    "duration": 1199,
    "start_time": "2022-11-16T20:39:57.117Z"
   },
   {
    "duration": 979,
    "start_time": "2022-11-16T20:39:58.317Z"
   },
   {
    "duration": 6915,
    "start_time": "2022-11-16T20:39:59.299Z"
   },
   {
    "duration": 4582,
    "start_time": "2022-11-16T20:40:06.216Z"
   },
   {
    "duration": 4133,
    "start_time": "2022-11-16T20:40:10.799Z"
   },
   {
    "duration": 783,
    "start_time": "2022-11-16T20:40:14.934Z"
   },
   {
    "duration": 3593,
    "start_time": "2022-11-16T20:40:15.721Z"
   },
   {
    "duration": 90,
    "start_time": "2022-11-16T20:40:19.316Z"
   },
   {
    "duration": 3294,
    "start_time": "2022-11-16T20:40:19.408Z"
   },
   {
    "duration": 3415,
    "start_time": "2022-11-16T20:40:22.704Z"
   },
   {
    "duration": 877,
    "start_time": "2022-11-16T20:40:26.120Z"
   },
   {
    "duration": 12,
    "start_time": "2022-11-16T20:40:26.999Z"
   },
   {
    "duration": 3300,
    "start_time": "2022-11-16T20:40:27.012Z"
   },
   {
    "duration": 2907,
    "start_time": "2022-11-16T20:40:30.313Z"
   },
   {
    "duration": 2683,
    "start_time": "2022-11-16T20:40:33.222Z"
   },
   {
    "duration": 2590,
    "start_time": "2022-11-16T20:40:35.906Z"
   },
   {
    "duration": 4,
    "start_time": "2022-11-16T20:40:38.498Z"
   },
   {
    "duration": 7333,
    "start_time": "2022-11-16T20:40:38.503Z"
   },
   {
    "duration": 1037,
    "start_time": "2022-11-16T20:40:45.897Z"
   },
   {
    "duration": 169,
    "start_time": "2022-11-16T20:40:46.936Z"
   },
   {
    "duration": 101,
    "start_time": "2022-11-16T20:40:47.107Z"
   },
   {
    "duration": 4615,
    "start_time": "2022-11-16T20:40:47.209Z"
   },
   {
    "duration": 74,
    "start_time": "2022-11-16T20:40:51.826Z"
   },
   {
    "duration": 625,
    "start_time": "2022-11-16T20:40:51.901Z"
   },
   {
    "duration": 13903,
    "start_time": "2022-11-16T20:40:52.530Z"
   },
   {
    "duration": 18571,
    "start_time": "2022-11-16T20:41:06.435Z"
   },
   {
    "duration": 705,
    "start_time": "2022-11-16T20:41:25.008Z"
   },
   {
    "duration": 13413,
    "start_time": "2022-11-16T20:41:25.715Z"
   },
   {
    "duration": 11511,
    "start_time": "2022-11-16T20:41:39.129Z"
   },
   {
    "duration": 910,
    "start_time": "2022-11-16T20:41:50.696Z"
   },
   {
    "duration": 11192,
    "start_time": "2022-11-16T20:41:51.607Z"
   },
   {
    "duration": 16647,
    "start_time": "2022-11-17T09:09:14.807Z"
   },
   {
    "duration": 11017,
    "start_time": "2022-11-17T09:09:31.457Z"
   },
   {
    "duration": 80,
    "start_time": "2022-11-17T09:09:42.476Z"
   },
   {
    "duration": 1322,
    "start_time": "2022-11-17T09:09:42.558Z"
   },
   {
    "duration": 1173,
    "start_time": "2022-11-17T09:09:43.883Z"
   },
   {
    "duration": 7896,
    "start_time": "2022-11-17T09:09:45.059Z"
   },
   {
    "duration": 5233,
    "start_time": "2022-11-17T09:09:52.958Z"
   },
   {
    "duration": 5136,
    "start_time": "2022-11-17T09:09:58.256Z"
   },
   {
    "duration": 977,
    "start_time": "2022-11-17T09:10:03.394Z"
   },
   {
    "duration": 4322,
    "start_time": "2022-11-17T09:10:04.373Z"
   },
   {
    "duration": 158,
    "start_time": "2022-11-17T09:10:08.697Z"
   },
   {
    "duration": 3534,
    "start_time": "2022-11-17T09:10:08.858Z"
   },
   {
    "duration": 4170,
    "start_time": "2022-11-17T09:10:12.394Z"
   },
   {
    "duration": 910,
    "start_time": "2022-11-17T09:10:16.568Z"
   },
   {
    "duration": 76,
    "start_time": "2022-11-17T09:10:17.480Z"
   },
   {
    "duration": 3916,
    "start_time": "2022-11-17T09:10:17.559Z"
   },
   {
    "duration": 3710,
    "start_time": "2022-11-17T09:10:21.478Z"
   },
   {
    "duration": 3943,
    "start_time": "2022-11-17T09:11:07.052Z"
   },
   {
    "duration": 2959,
    "start_time": "2022-11-17T09:11:40.309Z"
   },
   {
    "duration": 3155,
    "start_time": "2022-11-17T09:14:31.911Z"
   },
   {
    "duration": 2233,
    "start_time": "2022-11-17T09:15:21.396Z"
   },
   {
    "duration": 17040,
    "start_time": "2022-11-17T09:16:21.219Z"
   },
   {
    "duration": 10496,
    "start_time": "2022-11-17T09:16:38.263Z"
   },
   {
    "duration": 20,
    "start_time": "2022-11-17T09:16:48.761Z"
   },
   {
    "duration": 1403,
    "start_time": "2022-11-17T09:16:48.783Z"
   },
   {
    "duration": 1084,
    "start_time": "2022-11-17T09:16:50.189Z"
   },
   {
    "duration": 7982,
    "start_time": "2022-11-17T09:16:51.275Z"
   },
   {
    "duration": 5305,
    "start_time": "2022-11-17T09:16:59.259Z"
   },
   {
    "duration": 4601,
    "start_time": "2022-11-17T09:17:04.567Z"
   },
   {
    "duration": 1094,
    "start_time": "2022-11-17T09:17:09.170Z"
   },
   {
    "duration": 3989,
    "start_time": "2022-11-17T09:17:10.266Z"
   },
   {
    "duration": 29,
    "start_time": "2022-11-17T09:17:14.257Z"
   },
   {
    "duration": 3081,
    "start_time": "2022-11-17T09:17:14.289Z"
   },
   {
    "duration": 3390,
    "start_time": "2022-11-17T09:17:17.373Z"
   },
   {
    "duration": 719,
    "start_time": "2022-11-17T09:17:20.766Z"
   },
   {
    "duration": 5,
    "start_time": "2022-11-17T09:17:24.343Z"
   },
   {
    "duration": 3371,
    "start_time": "2022-11-17T09:17:26.211Z"
   },
   {
    "duration": 2202,
    "start_time": "2022-11-17T09:17:32.744Z"
   },
   {
    "duration": 2518,
    "start_time": "2022-11-17T09:17:34.948Z"
   },
   {
    "duration": 2332,
    "start_time": "2022-11-17T09:17:37.468Z"
   },
   {
    "duration": 2841,
    "start_time": "2022-11-17T09:17:39.801Z"
   },
   {
    "duration": 2417,
    "start_time": "2022-11-17T09:17:42.644Z"
   },
   {
    "duration": 80,
    "start_time": "2022-11-17T09:18:58.711Z"
   },
   {
    "duration": 9,
    "start_time": "2022-11-17T09:19:08.933Z"
   },
   {
    "duration": 8,
    "start_time": "2022-11-17T09:19:24.986Z"
   },
   {
    "duration": 9,
    "start_time": "2022-11-17T09:20:48.154Z"
   },
   {
    "duration": 13,
    "start_time": "2022-11-17T09:20:50.669Z"
   },
   {
    "duration": 2783,
    "start_time": "2022-11-17T09:20:55.146Z"
   },
   {
    "duration": 9,
    "start_time": "2022-11-17T09:21:21.407Z"
   },
   {
    "duration": 1833,
    "start_time": "2022-11-17T09:21:25.679Z"
   },
   {
    "duration": 3,
    "start_time": "2022-11-17T09:21:42.990Z"
   },
   {
    "duration": 7083,
    "start_time": "2022-11-17T09:21:43.893Z"
   },
   {
    "duration": 1103,
    "start_time": "2022-11-17T09:21:50.979Z"
   },
   {
    "duration": 107,
    "start_time": "2022-11-17T09:21:52.084Z"
   },
   {
    "duration": 171,
    "start_time": "2022-11-17T09:21:52.194Z"
   },
   {
    "duration": 0,
    "start_time": "2022-11-17T09:21:52.367Z"
   },
   {
    "duration": 0,
    "start_time": "2022-11-17T09:21:52.368Z"
   },
   {
    "duration": 0,
    "start_time": "2022-11-17T09:21:52.370Z"
   },
   {
    "duration": 0,
    "start_time": "2022-11-17T09:21:52.371Z"
   },
   {
    "duration": 47,
    "start_time": "2022-11-17T09:21:52.887Z"
   },
   {
    "duration": 4,
    "start_time": "2022-11-17T09:22:24.774Z"
   },
   {
    "duration": 134,
    "start_time": "2022-11-17T09:22:28.095Z"
   },
   {
    "duration": 17072,
    "start_time": "2022-11-17T09:22:50.228Z"
   },
   {
    "duration": 11900,
    "start_time": "2022-11-17T09:23:07.356Z"
   },
   {
    "duration": 19,
    "start_time": "2022-11-17T09:23:19.259Z"
   },
   {
    "duration": 1390,
    "start_time": "2022-11-17T09:23:19.281Z"
   },
   {
    "duration": 1185,
    "start_time": "2022-11-17T09:23:20.674Z"
   },
   {
    "duration": 8403,
    "start_time": "2022-11-17T09:23:21.861Z"
   },
   {
    "duration": 5501,
    "start_time": "2022-11-17T09:23:30.267Z"
   },
   {
    "duration": 5200,
    "start_time": "2022-11-17T09:23:35.770Z"
   },
   {
    "duration": 895,
    "start_time": "2022-11-17T09:23:40.972Z"
   },
   {
    "duration": 4190,
    "start_time": "2022-11-17T09:23:41.870Z"
   },
   {
    "duration": 93,
    "start_time": "2022-11-17T09:23:46.062Z"
   },
   {
    "duration": 3516,
    "start_time": "2022-11-17T09:23:46.157Z"
   },
   {
    "duration": 4092,
    "start_time": "2022-11-17T09:23:49.675Z"
   },
   {
    "duration": 987,
    "start_time": "2022-11-17T09:23:53.770Z"
   },
   {
    "duration": 9,
    "start_time": "2022-11-17T09:23:54.759Z"
   },
   {
    "duration": 4118,
    "start_time": "2022-11-17T09:23:54.771Z"
   },
   {
    "duration": 3309,
    "start_time": "2022-11-17T09:23:58.891Z"
   },
   {
    "duration": 3139,
    "start_time": "2022-11-17T09:24:02.255Z"
   },
   {
    "duration": 3178,
    "start_time": "2022-11-17T09:24:05.397Z"
   },
   {
    "duration": 2978,
    "start_time": "2022-11-17T09:24:08.577Z"
   },
   {
    "duration": 12,
    "start_time": "2022-11-17T09:24:31.295Z"
   },
   {
    "duration": 3657,
    "start_time": "2022-11-17T09:24:33.602Z"
   },
   {
    "duration": 3,
    "start_time": "2022-11-17T09:24:41.176Z"
   },
   {
    "duration": 8674,
    "start_time": "2022-11-17T09:24:41.800Z"
   },
   {
    "duration": 1078,
    "start_time": "2022-11-17T09:24:50.478Z"
   },
   {
    "duration": 114,
    "start_time": "2022-11-17T09:24:51.558Z"
   },
   {
    "duration": 98,
    "start_time": "2022-11-17T09:24:51.676Z"
   },
   {
    "duration": 5610,
    "start_time": "2022-11-17T09:24:51.776Z"
   },
   {
    "duration": 72,
    "start_time": "2022-11-17T09:24:57.388Z"
   },
   {
    "duration": 1102,
    "start_time": "2022-11-17T09:24:57.462Z"
   },
   {
    "duration": 15322,
    "start_time": "2022-11-17T09:24:58.567Z"
   },
   {
    "duration": 18767,
    "start_time": "2022-11-17T09:25:13.891Z"
   },
   {
    "duration": 1054,
    "start_time": "2022-11-17T09:25:33.216Z"
   },
   {
    "duration": 15486,
    "start_time": "2022-11-17T09:25:37.999Z"
   },
   {
    "duration": 13967,
    "start_time": "2022-11-17T09:26:05.318Z"
   },
   {
    "duration": 667,
    "start_time": "2022-11-17T09:26:19.288Z"
   },
   {
    "duration": 14503,
    "start_time": "2022-11-17T09:26:19.957Z"
   },
   {
    "duration": 97,
    "start_time": "2022-11-17T09:27:03.691Z"
   },
   {
    "duration": 19,
    "start_time": "2022-11-17T09:28:34.374Z"
   },
   {
    "duration": 51,
    "start_time": "2022-11-17T09:31:33.233Z"
   },
   {
    "duration": 18015,
    "start_time": "2022-11-17T09:31:58.254Z"
   },
   {
    "duration": 11806,
    "start_time": "2022-11-17T09:32:16.272Z"
   },
   {
    "duration": 83,
    "start_time": "2022-11-17T09:32:28.081Z"
   },
   {
    "duration": 1715,
    "start_time": "2022-11-17T09:32:28.167Z"
   },
   {
    "duration": 1201,
    "start_time": "2022-11-17T09:32:29.884Z"
   },
   {
    "duration": 8787,
    "start_time": "2022-11-17T09:32:31.087Z"
   },
   {
    "duration": 5784,
    "start_time": "2022-11-17T09:32:39.877Z"
   },
   {
    "duration": 5019,
    "start_time": "2022-11-17T09:32:45.664Z"
   },
   {
    "duration": 1203,
    "start_time": "2022-11-17T09:32:50.686Z"
   },
   {
    "duration": 4218,
    "start_time": "2022-11-17T09:32:51.954Z"
   },
   {
    "duration": 33,
    "start_time": "2022-11-17T09:32:56.174Z"
   },
   {
    "duration": 3419,
    "start_time": "2022-11-17T09:32:56.255Z"
   },
   {
    "duration": 3289,
    "start_time": "2022-11-17T09:32:59.676Z"
   },
   {
    "duration": 719,
    "start_time": "2022-11-17T09:33:02.968Z"
   },
   {
    "duration": 76,
    "start_time": "2022-11-17T09:33:03.691Z"
   },
   {
    "duration": 3733,
    "start_time": "2022-11-17T09:33:03.769Z"
   },
   {
    "duration": 2337,
    "start_time": "2022-11-17T09:33:07.504Z"
   },
   {
    "duration": 2068,
    "start_time": "2022-11-17T09:33:09.842Z"
   },
   {
    "duration": 2070,
    "start_time": "2022-11-17T09:33:11.912Z"
   },
   {
    "duration": 2191,
    "start_time": "2022-11-17T09:33:13.984Z"
   },
   {
    "duration": 4,
    "start_time": "2022-11-17T09:33:20.664Z"
   },
   {
    "duration": 8046,
    "start_time": "2022-11-17T09:33:21.229Z"
   },
   {
    "duration": 1194,
    "start_time": "2022-11-17T09:33:29.278Z"
   },
   {
    "duration": 196,
    "start_time": "2022-11-17T09:33:30.475Z"
   },
   {
    "duration": 111,
    "start_time": "2022-11-17T09:33:30.676Z"
   },
   {
    "duration": 6368,
    "start_time": "2022-11-17T09:33:30.788Z"
   },
   {
    "duration": 8,
    "start_time": "2022-11-17T09:33:37.158Z"
   },
   {
    "duration": 971,
    "start_time": "2022-11-17T09:33:37.318Z"
   },
   {
    "duration": 17458,
    "start_time": "2022-11-17T09:33:38.511Z"
   },
   {
    "duration": 23894,
    "start_time": "2022-11-17T09:33:55.972Z"
   },
   {
    "duration": 628,
    "start_time": "2022-11-17T09:34:19.868Z"
   },
   {
    "duration": 14958,
    "start_time": "2022-11-17T09:34:20.498Z"
   },
   {
    "duration": 17914,
    "start_time": "2022-11-17T09:34:35.458Z"
   },
   {
    "duration": 816,
    "start_time": "2022-11-17T09:34:53.374Z"
   },
   {
    "duration": 16820,
    "start_time": "2022-11-17T09:34:54.192Z"
   },
   {
    "duration": 15,
    "start_time": "2022-11-17T09:35:35.111Z"
   }
  ],
  "colab": {
   "name": "PySparkSprint.ipynb",
   "provenance": []
  },
  "kernelspec": {
   "display_name": "Python 3 (ipykernel)",
   "language": "python",
   "name": "python3"
  },
  "language_info": {
   "codemirror_mode": {
    "name": "ipython",
    "version": 3
   },
   "file_extension": ".py",
   "mimetype": "text/x-python",
   "name": "python",
   "nbconvert_exporter": "python",
   "pygments_lexer": "ipython3",
   "version": "3.11.5"
  },
  "toc": {
   "base_numbering": 1,
   "nav_menu": {},
   "number_sections": true,
   "sideBar": true,
   "skip_h1_title": true,
   "title_cell": "Table of Contents",
   "title_sidebar": "Contents",
   "toc_cell": false,
   "toc_position": {
    "height": "calc(100% - 180px)",
    "left": "10px",
    "top": "150px",
    "width": "342.5px"
   },
   "toc_section_display": true,
   "toc_window_display": true
  }
 },
 "nbformat": 4,
 "nbformat_minor": 5
}
